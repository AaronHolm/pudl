{
 "cells": [
  {
   "cell_type": "markdown",
   "metadata": {},
   "source": [
    "# Testing PUDL DB Initialization\n",
    "Testing the initialization of the PUDL DB can be a little involved, since you need to set up an environment similar to that of the init_db function in pudl.py, and then focus on whichever small part of it you're changing -- adding a new ingest function, data source, etc. Running the high level tests takes too long to iterate quickly and fix things, because it does *everything*.  This notebook sets up that init_db environment, and makes it easier to just focus on the things you're changing."
   ]
  },
  {
   "cell_type": "code",
   "execution_count": 1,
   "metadata": {},
   "outputs": [],
   "source": [
    "%matplotlib inline\n",
    "%load_ext autoreload\n",
    "%autoreload 2\n",
    "import sys\n",
    "import os\n",
    "sys.path.append(os.path.abspath(os.path.join('..','..')))\n",
    "from pudl import pudl, ferc1, eia923, eia860, settings\n",
    "from pudl import constants as pc\n",
    "from pudl import models, models_ferc1, models_eia923, models_eia860\n",
    "from pudl import clean_eia923, clean_ferc1, clean_pudl, clean_eia860\n",
    "from pudl import analysis, datastore, outputs\n",
    "import numpy as np\n",
    "import pandas as pd\n",
    "import sqlalchemy as sa\n",
    "import matplotlib.pyplot as plt\n",
    "import matplotlib as mpl\n",
    "from IPython.display import HTML\n",
    "pd.options.display.max_columns = 100"
   ]
  },
  {
   "cell_type": "markdown",
   "metadata": {},
   "source": [
    "## Define the scope of the test\n",
    "We don't need to test everything every time. Which years and data sources are we doing?"
   ]
  },
  {
   "cell_type": "code",
   "execution_count": 2,
   "metadata": {
    "collapsed": true
   },
   "outputs": [],
   "source": [
    "#ferc1_tables  = pc.ferc1_default_tables\n",
    "#ferc1_years   = pc.ferc1_working_years\n",
    "ferc1_tables  = []\n",
    "ferc1_years   = [2015,]\n",
    "\n",
    "#eia860_tables = pc.eia860_pudl_tables\n",
    "#eia860_years  = pc.eia860_working_years\n",
    "eia860_tables = ['generators_eia860',]\n",
    "eia860_years  = [2015,]\n",
    "\n",
    "#eia923_tables = pc.eia923_pudl_tables\n",
    "#eia923_years  = pc.eia923_working_years\n",
    "eia923_tables = []\n",
    "eia923_years  = [2015,]"
   ]
  },
  {
   "cell_type": "markdown",
   "metadata": {},
   "source": [
    "## We need to have a (nominally) working FERC DB to pull from"
   ]
  },
  {
   "cell_type": "code",
   "execution_count": 3,
   "metadata": {},
   "outputs": [
    {
     "name": "stdout",
     "output_type": "stream",
     "text": [
      "Defining new FERC Form 1 DB based on 2015...\n",
      "Clearing any existing FERC Form 1 database MetaData...\n",
      "Ingesting FERC Form 1 Data from 2015...\n"
     ]
    }
   ],
   "source": [
    "ferc1_engine = ferc1.connect_db(testing=True)\n",
    "ferc1.init_db(ferc1_tables=ferc1_tables,\n",
    "              refyear=max(ferc1_years),\n",
    "              years=ferc1_years,\n",
    "              def_db=True,\n",
    "              verbose=True,\n",
    "              testing=True)\n"
   ]
  },
  {
   "cell_type": "markdown",
   "metadata": {},
   "source": [
    "## Initialize the PUDL DB"
   ]
  },
  {
   "cell_type": "code",
   "execution_count": 5,
   "metadata": {
    "scrolled": false
   },
   "outputs": [
    {
     "name": "stdout",
     "output_type": "stream",
     "text": [
      "Ingesting static PUDL tables...\n",
      "Sniffing EIA923/FERC1 glue tables...\n",
      "Reading EIA 860 spreadsheet data for 2011.\n",
      "Reading EIA 860 spreadsheet data for 2012.\n",
      "Reading EIA 860 spreadsheet data for 2013.\n",
      "Reading EIA 860 spreadsheet data for 2014.\n",
      "Reading EIA 860 spreadsheet data for 2015.\n",
      "Converting EIA 860 boiler_generator_assn to DataFrame...\n",
      "Reading EIA 860 spreadsheet data for 2011.\n",
      "Reading EIA 860 spreadsheet data for 2012.\n",
      "Reading EIA 860 spreadsheet data for 2013.\n",
      "Reading EIA 860 spreadsheet data for 2014.\n",
      "Reading EIA 860 spreadsheet data for 2015.\n",
      "Converting EIA 860 utility to DataFrame...\n",
      "Reading EIA 860 spreadsheet data for 2011.\n",
      "Reading EIA 860 spreadsheet data for 2012.\n",
      "Reading EIA 860 spreadsheet data for 2013.\n",
      "Reading EIA 860 spreadsheet data for 2014.\n",
      "Reading EIA 860 spreadsheet data for 2015.\n",
      "Converting EIA 860 plant to DataFrame...\n",
      "Reading EIA 860 spreadsheet data for 2011.\n",
      "Reading EIA 860 spreadsheet data for 2012.\n",
      "Reading EIA 860 spreadsheet data for 2013.\n",
      "Reading EIA 860 spreadsheet data for 2014.\n",
      "Reading EIA 860 spreadsheet data for 2015.\n",
      "Converting EIA 860 generator_existing to DataFrame...\n",
      "Converting EIA 860 generator_proposed to DataFrame...\n",
      "Converting EIA 860 generator_retired to DataFrame...\n",
      "Reading EIA 860 spreadsheet data for 2011.\n",
      "Reading EIA 860 spreadsheet data for 2012.\n",
      "Reading EIA 860 spreadsheet data for 2013.\n",
      "Reading EIA 860 spreadsheet data for 2014.\n",
      "Reading EIA 860 spreadsheet data for 2015.\n",
      "Converting EIA 860 ownership to DataFrame...\n",
      "Ingesting generators_eia860 from EIA 860 into PUDL.\n",
      "Reading EIA 923 spreadsheet data for 2015.\n",
      "Converting EIA 923 generation_fuel to DataFrame...\n",
      "Converting EIA 923 stocks to DataFrame...\n",
      "Converting EIA 923 boiler_fuel to DataFrame...\n",
      "Converting EIA 923 generator to DataFrame...\n",
      "Converting EIA 923 fuel_receipts_costs to DataFrame...\n",
      "Converting EIA 923 plant_frame to DataFrame...\n",
      "Converting EIA 923 generation_fuel to DataFrame...\n",
      "Converting EIA 923 boiler_fuel to DataFrame...\n",
      "Converting EIA 923 generator to DataFrame...\n",
      "Converting EIA 923 fuel_receipts_costs to DataFrame...\n"
     ]
    }
   ],
   "source": [
    "pudl_engine = pudl.connect_db(testing=True)\n",
    "pudl.init_db(ferc1_tables  = ferc1_tables,\n",
    "             ferc1_years   = ferc1_years,\n",
    "             eia923_tables = eia923_tables,\n",
    "             eia923_years  = eia923_years,\n",
    "             eia860_tables = eia860_tables,\n",
    "             eia860_years  = eia860_years,\n",
    "             verbose=True, debug=False, testing=True,\n",
    "             csvdir=os.path.join(settings.PUDL_DIR, 'results', 'csvdump'),\n",
    "             keep_csv=True)"
   ]
  },
  {
   "cell_type": "markdown",
   "metadata": {},
   "source": [
    "## Clean up after ourselves"
   ]
  },
  {
   "cell_type": "code",
   "execution_count": null,
   "metadata": {},
   "outputs": [],
   "source": [
    "#ferc1.drop_tables_ferc1(ferc1_engine)\n",
    "#pudl_engine = pudl.connect_db(testing=True)\n",
    "#pudl.drop_tables_pudl(pudl_engine)"
   ]
  },
  {
   "cell_type": "code",
   "execution_count": null,
   "metadata": {
    "collapsed": true
   },
   "outputs": [],
   "source": []
  }
 ],
 "metadata": {
  "kernelspec": {
   "display_name": "Python 3",
   "language": "python",
   "name": "python3"
  },
  "language_info": {
   "codemirror_mode": {
    "name": "ipython",
    "version": 3
   },
   "file_extension": ".py",
   "mimetype": "text/x-python",
   "name": "python",
   "nbconvert_exporter": "python",
   "pygments_lexer": "ipython3",
   "version": "3.6.1"
  }
 },
 "nbformat": 4,
 "nbformat_minor": 2
}
