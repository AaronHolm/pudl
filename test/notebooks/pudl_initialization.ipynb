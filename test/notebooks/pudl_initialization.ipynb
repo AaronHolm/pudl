{
 "cells": [
  {
   "cell_type": "markdown",
   "metadata": {},
   "source": [
    "# Testing PUDL DB Initialization\n",
    "Testing the initialization of the PUDL DB can be a little involved, since you need to set up an environment similar to that of the init_db function in pudl.py, and then focus on whichever small part of it you're changing -- adding a new ingest function, data source, etc. Running the high level tests takes too long to iterate quickly and fix things, because it does *everything*.  This notebook sets up that init_db environment, and makes it easier to just focus on the things you're changing."
   ]
  },
  {
   "cell_type": "code",
   "execution_count": 1,
   "metadata": {
    "collapsed": true
   },
   "outputs": [],
   "source": [
    "%matplotlib inline\n",
    "%load_ext autoreload\n",
    "%autoreload 2\n",
    "import sys\n",
    "import os\n",
    "sys.path.append(os.path.abspath(os.path.join('..','..')))\n",
    "from pudl import pudl, ferc1, eia923, eia860, settings\n",
    "from pudl import constants as pc\n",
    "from pudl import models, models_ferc1, models_eia923, models_eia860\n",
    "from pudl import clean_eia923, clean_ferc1, clean_pudl, clean_eia860\n",
    "from pudl import analysis, datastore, outputs\n",
    "import numpy as np\n",
    "import pandas as pd\n",
    "import sqlalchemy as sa\n",
    "import matplotlib.pyplot as plt\n",
    "import matplotlib as mpl\n",
    "from IPython.display import HTML\n",
    "pd.options.display.max_columns = 100"
   ]
  },
  {
   "cell_type": "markdown",
   "metadata": {},
   "source": [
    "## Define the scope of the test\n",
    "We don't need to test everything every time. Which years and data sources are we doing?"
   ]
  },
  {
   "cell_type": "code",
   "execution_count": 3,
   "metadata": {
    "collapsed": true
   },
   "outputs": [],
   "source": [
    "#ferc1_tables  = pc.ferc1_default_tables\n",
    "#ferc1_years   = pc.ferc1_working_years\n",
    "ferc1_tables  = []\n",
    "ferc1_years   = [2015,]\n",
    "\n",
    "#eia860_tables = pc.eia860_pudl_tables\n",
    "#eia860_years  = pc.eia860_working_years\n",
    "eia860_tables = ['generators_eia860',]\n",
    "eia860_years  = pc.eia860_working_years\n",
    "\n",
    "#eia923_tables = pc.eia923_pudl_tables\n",
    "#eia923_years  = pc.eia923_working_years\n",
    "eia923_tables = []\n",
    "eia923_years  = [2015,]"
   ]
  },
  {
   "cell_type": "markdown",
   "metadata": {},
   "source": [
    "## We need to have a (nominally) working FERC DB to pull from"
   ]
  },
  {
   "cell_type": "code",
   "execution_count": 5,
   "metadata": {},
   "outputs": [
    {
     "name": "stdout",
     "output_type": "stream",
     "text": [
      "Defining new FERC Form 1 DB based on 2015...\n",
      "Clearing any existing FERC Form 1 database MetaData...\n",
      "Ingesting FERC Form 1 Data from 2015...\n"
     ]
    }
   ],
   "source": [
    "ferc1_engine = ferc1.db_connect_ferc1(testing=True)\n",
    "ferc1.init_db(ferc1_tables=ferc1_tables,\n",
    "              refyear=max(ferc1_years),\n",
    "              years=ferc1_years,\n",
    "              def_db=True,\n",
    "              verbose=True,\n",
    "              testing=True)\n"
   ]
  },
  {
   "cell_type": "markdown",
   "metadata": {},
   "source": [
    "## Initialize the PUDL DB"
   ]
  },
  {
   "cell_type": "code",
   "execution_count": 6,
   "metadata": {},
   "outputs": [
    {
     "name": "stdout",
     "output_type": "stream",
     "text": [
      "Ingesting static PUDL tables...\n",
      "Sniffing EIA923/FERC1 glue tables...\n",
      "Reading EIA 860 spreadsheet data for 2011.\n",
      "Reading EIA 860 spreadsheet data for 2012.\n",
      "Reading EIA 860 spreadsheet data for 2013.\n",
      "Reading EIA 860 spreadsheet data for 2014.\n",
      "Reading EIA 860 spreadsheet data for 2015.\n",
      "Converting EIA 860 boiler_generator_assn to DataFrame...\n",
      "Reading EIA 860 spreadsheet data for 2011.\n",
      "Reading EIA 860 spreadsheet data for 2012.\n",
      "Reading EIA 860 spreadsheet data for 2013.\n",
      "Reading EIA 860 spreadsheet data for 2014.\n",
      "Reading EIA 860 spreadsheet data for 2015.\n",
      "Converting EIA 860 utility to DataFrame...\n",
      "Reading EIA 860 spreadsheet data for 2011.\n",
      "Reading EIA 860 spreadsheet data for 2012.\n",
      "Reading EIA 860 spreadsheet data for 2013.\n",
      "Reading EIA 860 spreadsheet data for 2014.\n",
      "Reading EIA 860 spreadsheet data for 2015.\n",
      "Converting EIA 860 plant to DataFrame...\n",
      "Reading EIA 860 spreadsheet data for 2011.\n",
      "Reading EIA 860 spreadsheet data for 2012.\n",
      "Reading EIA 860 spreadsheet data for 2013.\n",
      "Reading EIA 860 spreadsheet data for 2014.\n",
      "Reading EIA 860 spreadsheet data for 2015.\n",
      "Converting EIA 860 generator_existing to DataFrame...\n",
      "Converting EIA 860 generator_proposed to DataFrame...\n",
      "Converting EIA 860 generator_retired to DataFrame...\n",
      "Reading EIA 860 spreadsheet data for 2011.\n",
      "Reading EIA 860 spreadsheet data for 2012.\n",
      "Reading EIA 860 spreadsheet data for 2013.\n",
      "Reading EIA 860 spreadsheet data for 2014.\n",
      "Reading EIA 860 spreadsheet data for 2015.\n",
      "Converting EIA 860 ownership to DataFrame...\n",
      "Ingesting generators_eia860 from EIA 860 into PUDL.\n"
     ]
    },
    {
     "ename": "ProgrammingError",
     "evalue": "syntax error at or near \"current_date\"\nLINE 1: ...code,uprate_derate_during_year,winter_capacity_mw,current_da...\n                                                             ^\n",
     "output_type": "error",
     "traceback": [
      "\u001b[0;31m---------------------------------------------------------------------------\u001b[0m",
      "\u001b[0;31mProgrammingError\u001b[0m                          Traceback (most recent call last)",
      "\u001b[0;32m<ipython-input-6-edf192406e17>\u001b[0m in \u001b[0;36m<module>\u001b[0;34m()\u001b[0m\n\u001b[1;32m      8\u001b[0m              \u001b[0mverbose\u001b[0m\u001b[0;34m=\u001b[0m\u001b[0;32mTrue\u001b[0m\u001b[0;34m,\u001b[0m \u001b[0mdebug\u001b[0m\u001b[0;34m=\u001b[0m\u001b[0;32mFalse\u001b[0m\u001b[0;34m,\u001b[0m \u001b[0mtesting\u001b[0m\u001b[0;34m=\u001b[0m\u001b[0;32mTrue\u001b[0m\u001b[0;34m,\u001b[0m\u001b[0;34m\u001b[0m\u001b[0m\n\u001b[1;32m      9\u001b[0m              \u001b[0mcsvdir\u001b[0m\u001b[0;34m=\u001b[0m\u001b[0mos\u001b[0m\u001b[0;34m.\u001b[0m\u001b[0mpath\u001b[0m\u001b[0;34m.\u001b[0m\u001b[0mjoin\u001b[0m\u001b[0;34m(\u001b[0m\u001b[0msettings\u001b[0m\u001b[0;34m.\u001b[0m\u001b[0mPUDL_DIR\u001b[0m\u001b[0;34m,\u001b[0m \u001b[0;34m'results'\u001b[0m\u001b[0;34m,\u001b[0m \u001b[0;34m'csvdump'\u001b[0m\u001b[0;34m)\u001b[0m\u001b[0;34m,\u001b[0m\u001b[0;34m\u001b[0m\u001b[0m\n\u001b[0;32m---> 10\u001b[0;31m              keep_csv=True)\n\u001b[0m",
      "\u001b[0;32m/Users/zaneselvans/code/catalyst/pudl/pudl/pudl.py\u001b[0m in \u001b[0;36minit_db\u001b[0;34m(ferc1_tables, ferc1_years, eia923_tables, eia923_years, eia860_tables, eia860_years, verbose, debug, testing, csvdir, keep_csv)\u001b[0m\n\u001b[1;32m   2040\u001b[0m                   \u001b[0meia860_years\u001b[0m\u001b[0;34m=\u001b[0m\u001b[0meia860_years\u001b[0m\u001b[0;34m,\u001b[0m\u001b[0;34m\u001b[0m\u001b[0m\n\u001b[1;32m   2041\u001b[0m                   \u001b[0mverbose\u001b[0m\u001b[0;34m=\u001b[0m\u001b[0mverbose\u001b[0m\u001b[0;34m,\u001b[0m \u001b[0mdebug\u001b[0m\u001b[0;34m=\u001b[0m\u001b[0mdebug\u001b[0m\u001b[0;34m,\u001b[0m \u001b[0mtesting\u001b[0m\u001b[0;34m=\u001b[0m\u001b[0mtesting\u001b[0m\u001b[0;34m,\u001b[0m\u001b[0;34m\u001b[0m\u001b[0m\n\u001b[0;32m-> 2042\u001b[0;31m                   csvdir=csvdir, keep_csv=keep_csv)\n\u001b[0m\u001b[1;32m   2043\u001b[0m \u001b[0;34m\u001b[0m\u001b[0m\n\u001b[1;32m   2044\u001b[0m     ingest_ferc1(pudl_engine,\n",
      "\u001b[0;32m/Users/zaneselvans/code/catalyst/pudl/pudl/pudl.py\u001b[0m in \u001b[0;36mingest_eia860\u001b[0;34m(pudl_engine, eia860_years, eia860_tables, verbose, debug, testing, csvdir, keep_csv)\u001b[0m\n\u001b[1;32m   1910\u001b[0m                 \u001b[0mprint\u001b[0m\u001b[0;34m(\u001b[0m\u001b[0;34m\"Ingesting {} from EIA 860 into PUDL.\"\u001b[0m\u001b[0;34m.\u001b[0m\u001b[0mformat\u001b[0m\u001b[0;34m(\u001b[0m\u001b[0mtable\u001b[0m\u001b[0;34m)\u001b[0m\u001b[0;34m)\u001b[0m\u001b[0;34m\u001b[0m\u001b[0m\n\u001b[1;32m   1911\u001b[0m             eia860_ingest_functions[table](pudl_engine, eia860_dfs,\n\u001b[0;32m-> 1912\u001b[0;31m                                            csvdir=csvdir, keep_csv=keep_csv)\n\u001b[0m\u001b[1;32m   1913\u001b[0m \u001b[0;34m\u001b[0m\u001b[0m\n\u001b[1;32m   1914\u001b[0m \u001b[0;34m\u001b[0m\u001b[0m\n",
      "\u001b[0;32m/Users/zaneselvans/code/catalyst/pudl/pudl/pudl.py\u001b[0m in \u001b[0;36mingest_generators_eia860\u001b[0;34m(pudl_engine, eia860_dfs, csvdir, keep_csv)\u001b[0m\n\u001b[1;32m   1813\u001b[0m \u001b[0;34m\u001b[0m\u001b[0m\n\u001b[1;32m   1814\u001b[0m     csv_dump_load(gens_df, 'generators_eia860', pudl_engine,\n\u001b[0;32m-> 1815\u001b[0;31m                   csvdir=csvdir, keep_csv=keep_csv)\n\u001b[0m\u001b[1;32m   1816\u001b[0m \u001b[0;34m\u001b[0m\u001b[0m\n\u001b[1;32m   1817\u001b[0m \u001b[0;34m\u001b[0m\u001b[0m\n",
      "\u001b[0;32m/Users/zaneselvans/code/catalyst/pudl/pudl/pudl.py\u001b[0m in \u001b[0;36mcsv_dump_load\u001b[0;34m(df, table_name, engine, csvdir, keep_csv)\u001b[0m\n\u001b[1;32m    101\u001b[0m     postgres_copy.copy_from(open(csvfile, 'r'), tbl, engine,\n\u001b[1;32m    102\u001b[0m                             \u001b[0mcolumns\u001b[0m\u001b[0;34m=\u001b[0m\u001b[0mtuple\u001b[0m\u001b[0;34m(\u001b[0m\u001b[0mdf\u001b[0m\u001b[0;34m.\u001b[0m\u001b[0mcolumns\u001b[0m\u001b[0;34m)\u001b[0m\u001b[0;34m,\u001b[0m\u001b[0;34m\u001b[0m\u001b[0m\n\u001b[0;32m--> 103\u001b[0;31m                             format='csv', header=True, delimiter=',')\n\u001b[0m\u001b[1;32m    104\u001b[0m     \u001b[0;32mif\u001b[0m \u001b[0;32mnot\u001b[0m \u001b[0mkeep_csv\u001b[0m\u001b[0;34m:\u001b[0m\u001b[0;34m\u001b[0m\u001b[0m\n\u001b[1;32m    105\u001b[0m         \u001b[0mos\u001b[0m\u001b[0;34m.\u001b[0m\u001b[0mremove\u001b[0m\u001b[0;34m(\u001b[0m\u001b[0mcsvfile\u001b[0m\u001b[0;34m)\u001b[0m\u001b[0;34m\u001b[0m\u001b[0m\n",
      "\u001b[0;32m/Users/zaneselvans/anaconda/lib/python3.6/site-packages/postgres_copy/__init__.py\u001b[0m in \u001b[0;36mcopy_from\u001b[0;34m(source, dest, engine, columns, **flags)\u001b[0m\n\u001b[1;32m     69\u001b[0m         \u001b[0mformatted_flags\u001b[0m\u001b[0;34m,\u001b[0m\u001b[0;34m\u001b[0m\u001b[0m\n\u001b[1;32m     70\u001b[0m     )\n\u001b[0;32m---> 71\u001b[0;31m     \u001b[0mcursor\u001b[0m\u001b[0;34m.\u001b[0m\u001b[0mcopy_expert\u001b[0m\u001b[0;34m(\u001b[0m\u001b[0mcopy\u001b[0m\u001b[0;34m,\u001b[0m \u001b[0msource\u001b[0m\u001b[0;34m)\u001b[0m\u001b[0;34m\u001b[0m\u001b[0m\n\u001b[0m\u001b[1;32m     72\u001b[0m     \u001b[0mconn\u001b[0m\u001b[0;34m.\u001b[0m\u001b[0mcommit\u001b[0m\u001b[0;34m(\u001b[0m\u001b[0;34m)\u001b[0m\u001b[0;34m\u001b[0m\u001b[0m\n\u001b[1;32m     73\u001b[0m     \u001b[0mconn\u001b[0m\u001b[0;34m.\u001b[0m\u001b[0mclose\u001b[0m\u001b[0;34m(\u001b[0m\u001b[0;34m)\u001b[0m\u001b[0;34m\u001b[0m\u001b[0m\n",
      "\u001b[0;31mProgrammingError\u001b[0m: syntax error at or near \"current_date\"\nLINE 1: ...code,uprate_derate_during_year,winter_capacity_mw,current_da...\n                                                             ^\n"
     ]
    }
   ],
   "source": [
    "pudl_engine = pudl.db_connect_pudl(testing=True)\n",
    "pudl.init_db(ferc1_tables  = ferc1_tables,\n",
    "             ferc1_years   = ferc1_years,\n",
    "             eia923_tables = eia923_tables,\n",
    "             eia923_years  = eia923_years,\n",
    "             eia860_tables = eia860_tables,\n",
    "             eia860_years  = eia860_years,\n",
    "             verbose=True, debug=False, testing=True,\n",
    "             csvdir=os.path.join(settings.PUDL_DIR, 'results', 'csvdump'),\n",
    "             keep_csv=True)"
   ]
  },
  {
   "cell_type": "code",
   "execution_count": 9,
   "metadata": {},
   "outputs": [
    {
     "name": "stdout",
     "output_type": "stream",
     "text": [
      "Reading EIA 860 spreadsheet data for 2011.\n",
      "Reading EIA 860 spreadsheet data for 2012.\n",
      "Reading EIA 860 spreadsheet data for 2013.\n",
      "Reading EIA 860 spreadsheet data for 2014.\n",
      "Reading EIA 860 spreadsheet data for 2015.\n",
      "Converting EIA 860 boiler_generator_assn to DataFrame...\n",
      "Reading EIA 860 spreadsheet data for 2011.\n",
      "Reading EIA 860 spreadsheet data for 2012.\n",
      "Reading EIA 860 spreadsheet data for 2013.\n",
      "Reading EIA 860 spreadsheet data for 2014.\n",
      "Reading EIA 860 spreadsheet data for 2015.\n",
      "Converting EIA 860 utility to DataFrame...\n",
      "Reading EIA 860 spreadsheet data for 2011.\n",
      "Reading EIA 860 spreadsheet data for 2012.\n",
      "Reading EIA 860 spreadsheet data for 2013.\n",
      "Reading EIA 860 spreadsheet data for 2014.\n",
      "Reading EIA 860 spreadsheet data for 2015.\n",
      "Converting EIA 860 plant to DataFrame...\n",
      "Reading EIA 860 spreadsheet data for 2011.\n",
      "Reading EIA 860 spreadsheet data for 2012.\n",
      "Reading EIA 860 spreadsheet data for 2013.\n",
      "Reading EIA 860 spreadsheet data for 2014.\n",
      "Reading EIA 860 spreadsheet data for 2015.\n",
      "Converting EIA 860 generator_existing to DataFrame...\n",
      "Converting EIA 860 generator_proposed to DataFrame...\n",
      "Converting EIA 860 generator_retired to DataFrame...\n",
      "Reading EIA 860 spreadsheet data for 2011.\n",
      "Reading EIA 860 spreadsheet data for 2012.\n",
      "Reading EIA 860 spreadsheet data for 2013.\n",
      "Reading EIA 860 spreadsheet data for 2014.\n",
      "Reading EIA 860 spreadsheet data for 2015.\n",
      "Converting EIA 860 ownership to DataFrame...\n"
     ]
    }
   ],
   "source": [
    "eia860_dfs = pudl.create_dfs_eia860(files=pc.files_eia860, eia860_years=eia860_years, verbose=True)\n"
   ]
  },
  {
   "cell_type": "code",
   "execution_count": 10,
   "metadata": {
    "collapsed": true
   },
   "outputs": [],
   "source": [
    "gens_df = pudl.ingest_generators_eia860(pudl_engine, eia860_dfs)"
   ]
  },
  {
   "cell_type": "code",
   "execution_count": 15,
   "metadata": {},
   "outputs": [],
   "source": [
    "gens_df.to_sql('generators_eia860', pudl_engine, if_exists='replace', chunksize=1000)"
   ]
  },
  {
   "cell_type": "markdown",
   "metadata": {},
   "source": [
    "## Clean up after ourselves"
   ]
  },
  {
   "cell_type": "code",
   "execution_count": null,
   "metadata": {
    "collapsed": true
   },
   "outputs": [],
   "source": [
    "ferc1.drop_tables_ferc1(ferc1_engine)\n",
    "pudl.drop_tables_pudl(pudl_engine)"
   ]
  }
 ],
 "metadata": {
  "kernelspec": {
   "display_name": "Python 3",
   "language": "python",
   "name": "python3"
  },
  "language_info": {
   "codemirror_mode": {
    "name": "ipython",
    "version": 3
   },
   "file_extension": ".py",
   "mimetype": "text/x-python",
   "name": "python",
   "nbconvert_exporter": "python",
   "pygments_lexer": "ipython3",
   "version": "3.6.1"
  }
 },
 "nbformat": 4,
 "nbformat_minor": 2
}
