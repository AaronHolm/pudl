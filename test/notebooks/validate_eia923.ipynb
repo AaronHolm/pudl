{
 "cells": [
  {
   "cell_type": "markdown",
   "metadata": {},
   "source": [
    "# Validate EIA 923 Data\n",
    "This notebook runs a bunch of sanity checks on the EIA 923 data."
   ]
  },
  {
   "cell_type": "code",
   "execution_count": null,
   "metadata": {},
   "outputs": [],
   "source": [
    "%load_ext autoreload\n",
    "%autoreload 2"
   ]
  },
  {
   "cell_type": "code",
   "execution_count": null,
   "metadata": {},
   "outputs": [],
   "source": [
    "import sys\n",
    "import pandas as pd\n",
    "import sqlalchemy as sa\n",
    "import pudl"
   ]
  },
  {
   "cell_type": "code",
   "execution_count": null,
   "metadata": {},
   "outputs": [],
   "source": [
    "import logging\n",
    "logger = logging.getLogger()\n",
    "logger.setLevel(logging.INFO)\n",
    "handler = logging.StreamHandler(stream=sys.stdout)\n",
    "formatter = logging.Formatter('%(message)s')\n",
    "handler.setFormatter(formatter)\n",
    "logger.handlers = [handler]"
   ]
  },
  {
   "cell_type": "code",
   "execution_count": null,
   "metadata": {},
   "outputs": [],
   "source": [
    "import matplotlib.pyplot as plt\n",
    "import matplotlib as mpl\n",
    "%matplotlib inline"
   ]
  },
  {
   "cell_type": "code",
   "execution_count": null,
   "metadata": {},
   "outputs": [],
   "source": [
    "plt.style.use('ggplot')\n",
    "mpl.rcParams['figure.figsize'] = (10,4)\n",
    "mpl.rcParams['figure.dpi'] = 150\n",
    "pd.options.display.max_columns = 56"
   ]
  },
  {
   "cell_type": "code",
   "execution_count": null,
   "metadata": {},
   "outputs": [],
   "source": [
    "pudl_settings = pudl.workspace.setup.get_defaults()\n",
    "ferc1_engine = sa.create_engine(pudl_settings['ferc1_db'])\n",
    "pudl_engine = sa.create_engine(pudl_settings['pudl_db'])\n",
    "pudl_settings"
   ]
  },
  {
   "cell_type": "code",
   "execution_count": null,
   "metadata": {},
   "outputs": [],
   "source": [
    "def plot_distribution(orig_df, test_df, data_col, weight_col, query=\"\", low_q=0.05, mid_q=0.5, high_q=0.95, title=\"\"):\n",
    "    if query != \"\":\n",
    "        orig_df = orig_df.copy().query(query)\n",
    "        test_df = test_df.copy().query(query)\n",
    "    xmin = pudl.validate.weighted_quantile(orig_df[data_col], orig_df[weight_col], 0.005)\n",
    "    xmax = pudl.validate.weighted_quantile(orig_df[data_col], orig_df[weight_col], 0.995)\n",
    "    plt.hist(orig_df[data_col], weights=orig_df[weight_col], range=(xmin, xmax), bins=100, color=\"black\", alpha=0.5, label=\"Original Distribution\")\n",
    "    plt.hist(test_df[data_col], weights=test_df[weight_col], range=(xmin, xmax), bins=100, color=\"yellow\", alpha=0.5, label=\"Test Distribution\")\n",
    "    \n",
    "    if low_q:\n",
    "        low_range = pudl.validate.historical_distribution(orig_df, data_col, weight_col, low_q)\n",
    "        plt.axvspan(min(low_range), max(low_range), color=\"red\", alpha=0.2, label=f\"Historical range of {low_q:.0%}\")\n",
    "        plt.axvline(pudl.validate.weighted_quantile(test_df[data_col], test_df[weight_col], low_q), color=\"red\", label=f\"Tested {low_q:.0%}\")\n",
    "    \n",
    "    if mid_q:\n",
    "        mid_range = pudl.validate.historical_distribution(orig_df, data_col, weight_col, mid_q)\n",
    "        plt.axvspan(min(mid_range), max(mid_range), color=\"green\", alpha=0.2, label=f\"historical range of {mid_q:.0%}\")\n",
    "        plt.axvline(pudl.validate.weighted_quantile(test_df[data_col], test_df[weight_col], mid_q), color=\"green\", label=f\"Tested {mid_q:.0%}\")\n",
    "    \n",
    "    if high_q:\n",
    "        high_range = pudl.validate.historical_distribution(orig_df, data_col, weight_col, high_q)\n",
    "        plt.axvspan(min(high_range), max(high_range), color=\"blue\", alpha=0.2, label=f\"Historical range of {high_q:.0%}\")\n",
    "        plt.axvline(pudl.validate.weighted_quantile(test_df[data_col], test_df[weight_col], high_q), color=\"blue\", label=f\"Tested {high_q:.0%}\")\n",
    "    \n",
    "    plt.title(title)\n",
    "    plt.xlabel(data_col)\n",
    "    plt.ylabel(weight_col)\n",
    "    plt.legend()\n",
    "    plt.show()"
   ]
  },
  {
   "cell_type": "markdown",
   "metadata": {},
   "source": [
    "## What these tests do\n",
    "* Select records from each output datarame which ought to have similar values in some variable.\n",
    "* Calculate the range of lower, upper, and median values which that variable has experienced in the past.\n",
    "* Check whether the aggregated and derived versions of that value fall within the same range as the original data.\n",
    "* Create a visualization showing the original data, acceptable range of lower, mid, and upper values.\n",
    "* Create a visualization showing each aggregated / derived data set, and how it measures up to the original."
   ]
  },
  {
   "cell_type": "markdown",
   "metadata": {},
   "source": [
    "## EIA 923 Original Data\n",
    "First we pull the original (post-ETL) EIA 923 data out of the database. We will use the values in this dataset as a baseline for checking that latter aggregated data and derived values remain valid.  We will also eyeball these values here to make sure they are within the expected range."
   ]
  },
  {
   "cell_type": "code",
   "execution_count": null,
   "metadata": {},
   "outputs": [],
   "source": [
    "%%time\n",
    "pudl_out_orig = pudl.output.pudltabl.PudlTabl(pudl_engine, freq=None)\n",
    "pudl_out_month = pudl.output.pudltabl.PudlTabl(pudl_engine, freq=\"MS\")\n",
    "pudl_out_year = pudl.output.pudltabl.PudlTabl(pudl_engine, freq=\"AS\")"
   ]
  },
  {
   "cell_type": "markdown",
   "metadata": {},
   "source": [
    "### Fuel Recepts and Costs\n",
    "For now we are just checking the original data against the monthly and yearly aggregations of that data..."
   ]
  },
  {
   "cell_type": "markdown",
   "metadata": {},
   "source": [
    "## Fields to test:\n",
    " * `ash_content_pct` (coal only)\n",
    " * `chlorine_content_ppm` (coal only, new field)\n",
    " * `fuel_cost_per_mmbtu` (all fuels)\n",
    " * `heat_content_mmbtu_per_unit` (all fuels)\n",
    " * `mercury_content_ppm` (coal only)\n",
    " * `moisture_content_pct` (coal only, new field)\n",
    " * `sulfur_content_pct` (coal only, one-sided)\n",
    " \n",
    "## Original data irregularities:\n",
    " * Half a billion tons of coal with extreeemly high mercury content. Rest near zero.\n",
    " * ~5% of gas deliveries have heat content 1/10 what it should be.\n",
    " * Small population of low heat content petroleum outliers.\n",
    "\n",
    "## Ideas for other kinds of tests\n",
    " * Test relative values of various partitions, e.g. heat content of LIG < SUB < BIT:\n",
    " * Test absolute values of some partitioned values (e.g. mmbtu per unit of of LIG / SUB / BIT)\n",
    " * Coal sulfur content is one-sided. Needs an absolute test."
   ]
  },
  {
   "cell_type": "code",
   "execution_count": null,
   "metadata": {},
   "outputs": [],
   "source": [
    "frc_eia923_orig = pudl_out_orig.frc_eia923()\n",
    "for args in pudl.validate.abs_test_args:\n",
    "    plot_distribution(orig_df=frc_eia923_orig, test_df=frc_eia923_orig, **args)\n",
    "    pudl.validate.vs_historical(orig_df=frc_eia923_orig, test_df=frc_eia923_orig, **args)"
   ]
  },
  {
   "cell_type": "code",
   "execution_count": null,
   "metadata": {},
   "outputs": [],
   "source": [
    "for frc_eia923_test in [pudl_out_month.frc_eia923(), pudl_out_year.frc_eia923()]:\n",
    "    for args in pudl.validate.agg_test_args:\n",
    "        plot_distribution(orig_df=frc_eia923_orig, test_df=frc_eia923_test, **args)\n",
    "        pudl.validate.vs_historical(orig_df=frc_eia923_orig, test_df=frc_eia923_test, **args)"
   ]
  },
  {
   "cell_type": "code",
   "execution_count": null,
   "metadata": {},
   "outputs": [],
   "source": []
  }
 ],
 "metadata": {
  "kernelspec": {
   "display_name": "Python 3",
   "language": "python",
   "name": "python3"
  },
  "language_info": {
   "codemirror_mode": {
    "name": "ipython",
    "version": 3
   },
   "file_extension": ".py",
   "mimetype": "text/x-python",
   "name": "python",
   "nbconvert_exporter": "python",
   "pygments_lexer": "ipython3",
   "version": "3.7.3"
  }
 },
 "nbformat": 4,
 "nbformat_minor": 4
}
