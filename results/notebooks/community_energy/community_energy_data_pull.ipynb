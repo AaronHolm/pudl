{
 "cells": [
  {
   "cell_type": "code",
   "execution_count": 6,
   "metadata": {},
   "outputs": [
    {
     "name": "stdout",
     "output_type": "stream",
     "text": [
      "The autoreload extension is already loaded. To reload it, use:\n",
      "  %reload_ext autoreload\n"
     ]
    },
    {
     "ename": "ImportError",
     "evalue": "cannot import name 'pudl'",
     "output_type": "error",
     "traceback": [
      "\u001b[0;31m---------------------------------------------------------------------------\u001b[0m",
      "\u001b[0;31mImportError\u001b[0m                               Traceback (most recent call last)",
      "\u001b[0;32m<ipython-input-6-6be440d0d4e8>\u001b[0m in \u001b[0;36m<module>\u001b[0;34m()\u001b[0m\n\u001b[1;32m      5\u001b[0m \u001b[0;32mimport\u001b[0m \u001b[0mos\u001b[0m\u001b[0;34m\u001b[0m\u001b[0m\n\u001b[1;32m      6\u001b[0m \u001b[0msys\u001b[0m\u001b[0;34m.\u001b[0m\u001b[0mpath\u001b[0m\u001b[0;34m.\u001b[0m\u001b[0mappend\u001b[0m\u001b[0;34m(\u001b[0m\u001b[0mos\u001b[0m\u001b[0;34m.\u001b[0m\u001b[0mpath\u001b[0m\u001b[0;34m.\u001b[0m\u001b[0mabspath\u001b[0m\u001b[0;34m(\u001b[0m\u001b[0mos\u001b[0m\u001b[0;34m.\u001b[0m\u001b[0mpath\u001b[0m\u001b[0;34m.\u001b[0m\u001b[0mjoin\u001b[0m\u001b[0;34m(\u001b[0m\u001b[0;34m'..'\u001b[0m\u001b[0;34m,\u001b[0m\u001b[0;34m'..'\u001b[0m\u001b[0;34m,\u001b[0m\u001b[0;34m'..'\u001b[0m\u001b[0;34m,\u001b[0m\u001b[0;34m'..'\u001b[0m\u001b[0;34m,\u001b[0m\u001b[0;34m'..'\u001b[0m\u001b[0;34m)\u001b[0m\u001b[0;34m)\u001b[0m\u001b[0;34m)\u001b[0m\u001b[0;34m\u001b[0m\u001b[0m\n\u001b[0;32m----> 7\u001b[0;31m \u001b[0;32mfrom\u001b[0m \u001b[0mpudl\u001b[0m \u001b[0;32mimport\u001b[0m \u001b[0mpudl\u001b[0m\u001b[0;34m,\u001b[0m \u001b[0mferc1\u001b[0m\u001b[0;34m,\u001b[0m \u001b[0meia923\u001b[0m\u001b[0;34m,\u001b[0m \u001b[0msettings\u001b[0m\u001b[0;34m,\u001b[0m \u001b[0mconstants\u001b[0m\u001b[0;34m\u001b[0m\u001b[0m\n\u001b[0m\u001b[1;32m      8\u001b[0m \u001b[0;32mfrom\u001b[0m \u001b[0mpudl\u001b[0m \u001b[0;32mimport\u001b[0m \u001b[0mmodels\u001b[0m\u001b[0;34m,\u001b[0m \u001b[0mmodels_ferc1\u001b[0m\u001b[0;34m,\u001b[0m \u001b[0mmodels_eia923\u001b[0m\u001b[0;34m\u001b[0m\u001b[0m\n\u001b[1;32m      9\u001b[0m \u001b[0;32mfrom\u001b[0m \u001b[0mpudl\u001b[0m \u001b[0;32mimport\u001b[0m \u001b[0mclean_eia923\u001b[0m\u001b[0;34m,\u001b[0m \u001b[0mclean_ferc1\u001b[0m\u001b[0;34m,\u001b[0m \u001b[0mclean_pudl\u001b[0m\u001b[0;34m\u001b[0m\u001b[0m\n",
      "\u001b[0;31mImportError\u001b[0m: cannot import name 'pudl'"
     ]
    }
   ],
   "source": [
    "%matplotlib inline\n",
    "%load_ext autoreload\n",
    "%autoreload 2\n",
    "import sys\n",
    "import os\n",
    "sys.path.append(os.path.abspath(os.path.join('..','..','..','..','..')))\n",
    "from pudl import pudl, ferc1, eia923, settings, constants\n",
    "from pudl import models, models_ferc1, models_eia923\n",
    "from pudl import clean_eia923, clean_ferc1, clean_pudl\n",
    "from pudl import analysis\n",
    "import numpy as np\n",
    "import pandas as pd\n",
    "import sqlalchemy as sa\n",
    "import matplotlib.pyplot as plt\n",
    "import matplotlib as mpl\n",
    "pudl_engine = pudl.connect_db()\n",
    "plt.style.use('ggplot')\n",
    "mpl.rcParams['figure.figsize'] = (10,6)\n",
    "mpl.rcParams['figure.dpi'] = 150"
   ]
  },
  {
   "cell_type": "markdown",
   "metadata": {},
   "source": [
    "# FERC Fuel and Steam Plant Table Data"
   ]
  },
  {
   "cell_type": "code",
   "execution_count": null,
   "metadata": {},
   "outputs": [],
   "source": [
    "steam_df = analysis.get_steam_ferc1_df(pudl_engine)\n",
    "fuel_df = analysis.get_fuel_ferc1_df(pudl_engine)\n",
    "steam_df = analysis.consolidate_ferc1_expns(steam_df, min_capfac=0.6, min_corr=0.5)\n",
    "plants_by_primary_fuel = analysis.primary_fuel_ferc1(fuel_df, fuel_thresh=0.5)\n",
    "plants_by_fuel_proportion = analysis.plant_fuel_proportions_ferc1(fuel_df)\n",
    "\n",
    "steam_df = steam_df.merge(plants_by_primary_fuel)\n",
    "steam_df = steam_df.merge(plants_by_fuel_proportion)\n",
    "steam_df['heat_rate_btu_per_kwh'] = (steam_df['total_mmbtu']*1e6) / (1000*steam_df['net_generation_mwh'])\n",
    "steam_df['capacity_factor'] = steam_df['net_generation_mwh'] / (steam_df['total_capacity_mw']*8760)\n",
    "coal_plants_ferc1 = steam_df[steam_df['primary_fuel']=='coal']\n",
    "cols_to_drop = [ x for x in list(constants.ferc1_fuel_strings.keys()) if x in coal_plants_ferc1.columns.tolist() ]\n",
    "cols_to_drop = cols_to_drop + ['primary_fuel',]\n",
    "coal_plants_ferc1 = coal_plants_ferc1.drop(cols_to_drop, axis=1)"
   ]
  },
  {
   "cell_type": "markdown",
   "metadata": {},
   "source": [
    "# EIA923  Plants & Generation Fuel Tables"
   ]
  },
  {
   "cell_type": "code",
   "execution_count": null,
   "metadata": {},
   "outputs": [],
   "source": [
    "pt = models.PUDLBase.metadata.tables\n",
    "\n",
    "gf_select = sa.sql.select([\n",
    "    pt['generation_fuel_eia923'],\n",
    "    pt['plants_eia'].c.plant_name,\n",
    "    pt['plants_eia'].c.plant_id_pudl,\n",
    "]).where(pt['generation_fuel_eia923'].c.plant_id == pt['plants_eia'].c.plant_id)\n",
    "\n",
    "gf_df = pd.read_sql(gf_select, pudl_engine)\n",
    "gf_df['report_date'] = pd.to_datetime(gf_df['report_date'])\n",
    "gf_df.index = gf_df['report_date']\n",
    "# groupby plant_id and by year\n",
    "gf_gb = gf_df.groupby([pd.TimeGrouper(freq='A'), 'plant_id','plant_name','plant_id_pudl'])\n",
    "# sum net_gen by year by plant and convert to dataframe\n",
    "plants_eia = gf_gb.agg({'fuel_consumed_total_mmbtu' : np.sum,\n",
    "                        'net_generation_mwh' : np.sum})\n",
    "plants_eia['heat_rate_btu_per_kwh'] = (plants_eia['fuel_consumed_total_mmbtu']*1000000) / (plants_eia['net_generation_mwh']*1000)\n",
    "plants_eia = plants_eia.reset_index()\n",
    "plants_eia['year'] = pd.DatetimeIndex(plants_eia['report_date']).year\n",
    "plants_eia.drop('report_date', axis=1, inplace=True)\n",
    "\n",
    "# In order to get the most recent year of 923, we need to split it off from the 860...\n",
    "plants_eia923_2016 = plants_eia.copy()"
   ]
  },
  {
   "cell_type": "markdown",
   "metadata": {},
   "source": [
    "# EIA923 Fuel Receipts & Costs Table"
   ]
  },
  {
   "cell_type": "code",
   "execution_count": null,
   "metadata": {},
   "outputs": [],
   "source": [
    "frc_tbl = models.PUDLBase.metadata.tables['fuel_receipts_costs_eia923']\n",
    "frc_select = sa.sql.select([\n",
    "    frc_tbl.c.plant_id,\n",
    "    frc_tbl.c.report_date,\n",
    "    frc_tbl.c.fuel_quantity,\n",
    "    frc_tbl.c.fuel_group,\n",
    "    frc_tbl.c.average_heat_content,\n",
    "    frc_tbl.c.fuel_cost_per_mmbtu\n",
    "])\n",
    "frc_df = pd.read_sql(frc_select, pudl_engine)\n",
    "frc_df = frc_df.dropna()\n",
    "frc_df['total_fuel_cost'] = frc_df.fuel_quantity * frc_df.average_heat_content * frc_df.fuel_cost_per_mmbtu\n",
    "\n",
    "frc_df['report_date'] = pd.to_datetime(frc_df['report_date'])\n",
    "frc_df.index = frc_df['report_date']\n",
    "frc_gb = frc_df.groupby([pd.TimeGrouper(freq='A'), 'plant_id'])\n",
    "\n",
    "frc_agg = frc_gb.agg({'total_fuel_cost' : np.sum})\n",
    "frc_agg = frc_agg.reset_index()\n",
    "frc_agg['year'] = pd.DatetimeIndex(frc_agg['report_date']).year\n",
    "frc_agg.drop('report_date',axis=1,inplace=True)\n",
    "\n",
    "plants_eia = plants_eia.merge(frc_agg, on=['year','plant_id'])\n",
    "\n",
    "plants_eia923_2016 = plants_eia923_2016.merge(frc_agg, on=['year','plant_id'])\n",
    "plants_eia923_2016 = plants_eia923_2016[plants_eia923_2016['year']==2016]\n",
    "plants_eia923_2016.drop('year', axis=1, inplace=True)"
   ]
  },
  {
   "cell_type": "markdown",
   "metadata": {},
   "source": [
    "# EIA860 Plants Table"
   ]
  },
  {
   "cell_type": "code",
   "execution_count": null,
   "metadata": {},
   "outputs": [],
   "source": [
    "# Pull in the plant_eia860 table\n",
    "plants_eia860_select = sa.sql.select([pt['plants_eia860'],]) # creates a sqlalchemy select object\n",
    "plants_eia860 = pd.read_sql(plants_eia860_select, pudl_engine) # Uses the select to populate a DataFrame\n",
    "\n",
    "eia860_cols = [\n",
    "    'operator_id',\n",
    "    'operator_name',\n",
    "    'plant_id',\n",
    "    'state',\n",
    "    'grid_voltage_kv',\n",
    "    'grid_voltage_2_kv',\n",
    "    'grid_voltage_3_kv',\n",
    "    'year'\n",
    "]\n",
    "\n",
    "plants_eia860 = plants_eia860[eia860_cols].copy()\n",
    "plants_eia = plants_eia.merge(plants_eia860, on=['plant_id','year'])\n",
    "plants_eia923_2016 = plants_eia923_2016.merge(plants_eia860[plants_eia860['year']==2015], on='plant_id')\n",
    "plants_eia923_2016.drop('year', axis=1, inplace=True)"
   ]
  },
  {
   "cell_type": "markdown",
   "metadata": {},
   "source": [
    "# EIA860 Generators Table"
   ]
  },
  {
   "cell_type": "code",
   "execution_count": null,
   "metadata": {},
   "outputs": [],
   "source": [
    "gen_eia860_tbl = models.PUDLBase.metadata.tables['generators_eia860']\n",
    "gen_eia860_select = sa.sql.select([\n",
    "    gen_eia860_tbl.c.year,\n",
    "    gen_eia860_tbl.c.plant_id,\n",
    "    gen_eia860_tbl.c.plant_name,\n",
    "    gen_eia860_tbl.c.operator_id,\n",
    "    gen_eia860_tbl.c.operator_name,\n",
    "    gen_eia860_tbl.c.generator_id,\n",
    "    gen_eia860_tbl.c.state,\n",
    "    gen_eia860_tbl.c.nameplate_capacity_mw,\n",
    "    gen_eia860_tbl.c.operating_year,\n",
    "    gen_eia860_tbl.c.planned_retirement_year,\n",
    "    gen_eia860_tbl.c.technology])\n",
    "\n",
    "gen_eia860_df = pd.read_sql(gen_eia860_select, pudl_engine)\n",
    "\n",
    "# Add capacity -- summed across generators by plant_id\n",
    "gen_eia860_gb = gen_eia860_df.groupby(['plant_id','year'])\n",
    "plant_capacity = gen_eia860_gb.agg({'nameplate_capacity_mw': np.sum})\n",
    "plant_capacity = plant_capacity.reset_index()\n",
    "plants_eia = plants_eia.merge(plant_capacity, on=['plant_id','year'])\n",
    "\n",
    "# Cheating here... merging 2015 EIA860 plant values w/ 2016 EIA923 data:\n",
    "plants_eia923_2016 = plants_eia923_2016.merge(plant_capacity[plant_capacity['year']==2015], on='plant_id')\n",
    "plants_eia923_2016.drop('year', axis=1, inplace=True)\n",
    "\n",
    "# Add operator names:\n",
    "operators = gen_eia860_df[['operator_id','operator_name','year']].drop_duplicates()\n",
    "plants_eia.drop('operator_name', axis=1, inplace=True)\n",
    "plants_eia923_2016.drop('operator_name', axis=1, inplace=True)\n",
    "\n",
    "plants_eia = plants_eia.merge(operators, on=['operator_id','year'])\n",
    "# Cheating here... merging 2015 EIA860 plant values w/ 2016 EIA923 data:\n",
    "plants_eia923_2016 = plants_eia923_2016.merge(operators[operators['year']==2015], on='operator_id')\n",
    "plants_eia923_2016.drop('year', axis=1, inplace=True)\n",
    "\n",
    "# Add technology, taking 2015 values:\n",
    "coal_techs = ['Conventional Steam Coal', 'Coal Integrated Gasification Combined Cycle']\n",
    "techs = gen_eia860_df[gen_eia860_df['year']==2015][['plant_id','technology']]\n",
    "plants_eia = plants_eia.merge(techs, on='plant_id', how='outer').drop_duplicates()\n",
    "plants_eia923_2016 = plants_eia923_2016.merge(techs, on='plant_id', how='outer').drop_duplicates()"
   ]
  },
  {
   "cell_type": "markdown",
   "metadata": {},
   "source": [
    "# Filter to include only coal plants, from 2011-2015, capacity >=50MW"
   ]
  },
  {
   "cell_type": "code",
   "execution_count": null,
   "metadata": {
    "scrolled": false
   },
   "outputs": [],
   "source": [
    "# First, let's limit our data to the years 2011-2016\n",
    "years_to_get = [2011, 2012, 2013, 2014, 2015, 2016]\n",
    "coal_plants_eia = plants_eia[plants_eia.year.isin(years_to_get)]\n",
    "coal_plants_ferc1 = coal_plants_ferc1[coal_plants_ferc1.report_year.isin(years_to_get)]\n",
    "\n",
    "# Now, let's grab only those plants larger than 50MW\n",
    "coal_plants_eia = coal_plants_eia[coal_plants_eia['nameplate_capacity_mw']>=50]\n",
    "coal_plants_ferc1 = coal_plants_ferc1[coal_plants_ferc1['total_capacity_mw']>=50]\n",
    "\n",
    "# Now the hard part -- getting just \"coal\" plants. What does that mean?\n",
    "# For FERC it's easy (and already done, above).\n",
    "# For EIA, it's more complicated.  EIA 860 categorizes generators by technology\n",
    "# in recent years (2014-2015) but not before that. Additionally, there are\n",
    "# many plants which have received some portion of their fuel as coal, but which\n",
    "# don't seem to show up in the EIA 860 list of coal plant IDs.  So we'll build up\n",
    "# a list of plant_id values from the fuel_receipts_costs_eia923 table, the\n",
    "# generation_fuel_eia923 table, and the plants_eia860 table.\n",
    "\n",
    "# Plants with >10% coal fuel heat content in any of the years 2011-2015:\n",
    "# from fuel_recipts_costs_eia923\n",
    "frc_by_heat = analysis.plant_fuel_proportions_frc_eia923(frc_df)\n",
    "frc_coal_plant_ids = frc_by_heat[frc_by_heat['Coal'] > 0.1].plant_id.unique()\n",
    "\n",
    "# And from generation_fuel_eia923\n",
    "gf_by_heat = analysis.plant_fuel_proportions_gf_eia923(gf_df)\n",
    "gf_coal_plant_ids = gf_by_heat[gf_by_heat['coal'] > 0.1].plant_id.unique()\n",
    "\n",
    "# Any plant that's specifically got a coal fired unit called out in EIA 860:\n",
    "eia860_coal_plant_ids = gen_eia860_df[gen_eia860_df['technology'].isin(coal_techs)].plant_id.unique()\n",
    "\n",
    "all_eia_coal_plant_ids = np.unique(np.concatenate([frc_coal_plant_ids,\n",
    "                                                   gf_coal_plant_ids,\n",
    "                                                   eia860_coal_plant_ids]))\n",
    "\n",
    "coal_plants_eia = coal_plants_eia[coal_plants_eia['plant_id'].isin(all_eia_coal_plant_ids)]\n",
    "coal_plants_eia923_2016 = plants_eia923_2016[(plants_eia923_2016['plant_id'].isin(all_eia_coal_plant_ids))]\n",
    "\n",
    "coal_plants_eia = coal_plants_eia[(coal_plants_eia.technology.isnull()) |\n",
    "                                  (coal_plants_eia.technology.isin(coal_techs))]\n",
    "coal_plants_eia923_2016 = coal_plants_eia923_2016[(coal_plants_eia923_2016.technology.isnull()) |\n",
    "                                                  (coal_plants_eia923_2016.technology.isin(coal_techs))]\n",
    "\n",
    "coal_plants_eia['capacity_factor'] = coal_plants_eia.net_generation_mwh / (coal_plants_eia.nameplate_capacity_mw * 8760)\n",
    "coal_plants_eia923_2016['capacity_factor'] = coal_plants_eia923_2016.net_generation_mwh / (coal_plants_eia923_2016.nameplate_capacity_mw * 8760)\n",
    "\n",
    "coal_plants_eia.dropna(subset=['year'], inplace=True)\n",
    "coal_plants_eia.year = coal_plants_eia.year.astype(int)\n",
    "coal_plants_eia923_2016['year']=2016\n",
    "\n",
    "coal_plants_eia923_2016.dropna(subset=['plant_name',], inplace=True)\n",
    "\n",
    "coal_plants_eia.operator_id = coal_plants_eia.operator_id.astype(int)\n",
    "coal_plants_eia923_2016.operator_id = coal_plants_eia923_2016.operator_id.astype(int)\n",
    "\n",
    "coal_plants_eia923_2016.plant_id_pudl = coal_plants_eia923_2016.plant_id_pudl.astype(int)\n",
    "\n",
    "coal_plants_eia = coal_plants_eia.append(coal_plants_eia923_2016)"
   ]
  },
  {
   "cell_type": "markdown",
   "metadata": {},
   "source": [
    "# Do some validation of the data we're going to deliver\n",
    "\n",
    "### Caveats to communicate:\n",
    "* We're just including coal plants categorized as such by EIA860 (2014-2015). There are other ways to categorize plants by fuel, but would involve more processing -- looking at fuel type consumed by different plants.\n",
    "* Could also do a generator-level analysis if per-unit heat rates, capacity factors, etc were more useful.\n",
    "* We only looked at coal plants currently in operation, but EIA860 also lists planned and retired plants, which could be integrated into the output if that was something that you wanted."
   ]
  },
  {
   "cell_type": "markdown",
   "metadata": {},
   "source": [
    "# Output data to an Excel spreadsheet for delivery\n",
    "* Order fields with index-like fields first, reported quantities, and derived quantities later.\n",
    "* Group fields thematically.\n",
    "* Rename fields so that comparable fields from the two tables have the same name.\n",
    "* Rename fields so that non-comparable fields from the two tables have different names."
   ]
  },
  {
   "cell_type": "code",
   "execution_count": null,
   "metadata": {},
   "outputs": [],
   "source": [
    "# Re-order the columns for easier readability\n",
    "coal_plants_eia = coal_plants_eia[[\n",
    "    'year',\n",
    "    'operator_id', # => utility_id_eia\n",
    "    'operator_name', # => utility_name_eia\n",
    "    'plant_id', # plant_id_eia\n",
    "    'plant_id_pudl',\n",
    "    'plant_name', # => plant_name_eia\n",
    "    'state',\n",
    "    \n",
    "    'nameplate_capacity_mw',\n",
    "    'net_generation_mwh',\n",
    "    'capacity_factor',   \n",
    "    'fuel_consumed_total_mmbtu',\n",
    "    'heat_rate_btu_per_kwh',\n",
    "    'total_fuel_cost', # => expns_fuel\n",
    "    \n",
    "    'grid_voltage_kv',\n",
    "    'grid_voltage_2_kv',\n",
    "    'grid_voltage_3_kv',\n",
    "    'technology'\n",
    "]]\n",
    "\n",
    "eia_rename = {\n",
    "    'operator_id': 'utility_id_eia',\n",
    "    'plant_name': 'plant_name_eia',\n",
    "    'plant_id': 'plant_id_eia',\n",
    "    'operator_name': 'utility_name_eia',\n",
    "    'total_fuel_cost': 'expns_fuel'\n",
    "}\n",
    "\n",
    "coal_plants_ferc1 = coal_plants_ferc1[[\n",
    "    'report_year', # => year\n",
    "    'respondent_id', # => utility_id_ferc\n",
    "    'util_id_pudl', # => utility_id_pudl\n",
    "    'respondent_name', # => utility_name_ferc\n",
    "    'plant_id_pudl',\n",
    "    'plant_name', # => plant_name_ferc\n",
    "    'year_constructed',\n",
    "    'year_installed',\n",
    "    \n",
    "    'total_capacity_mw', # nameplate_capacity_mw\n",
    "    'water_limited_mw',\n",
    "    'not_water_limited_mw',\n",
    "    'peak_demand_mw',\n",
    "    'plant_hours',\n",
    "    \n",
    "    'net_generation_mwh',\n",
    "    'capacity_factor',\n",
    "    'total_mmbtu', # => fuel_consumed_total_mmbtu\n",
    "    'heat_rate_btu_per_kwh',\n",
    "    \n",
    "    'expns_operations',\n",
    "    'expns_coolants',\n",
    "    'expns_steam',\n",
    "    'expns_steam_other',\n",
    "    'expns_transfer',\n",
    "    'expns_electric',\n",
    "    'expns_misc_power',\n",
    "    'expns_rents',\n",
    "    'expns_allowances',\n",
    "    'expns_engineering',\n",
    "    'expns_structures',\n",
    "    'expns_boiler',\n",
    "    'expns_plants',\n",
    "    'expns_misc_steam',\n",
    "    \n",
    "    'expns_fuel',\n",
    "    'expns_total_nonfuel_production',\n",
    "    'expns_total_nonproduction',\n",
    "    'expns_production_total', # => expns_total\n",
    "    'expns_per_mwh'\n",
    "]]\n",
    "\n",
    "ferc1_rename = {\n",
    "    'report_year': 'year',\n",
    "    'respondent_id': 'utility_id_ferc',\n",
    "    'respondent_name': 'utility_name_ferc',\n",
    "    'util_id_pudl': 'utility_id_pudl',\n",
    "    'plant_name': 'plant_name_ferc',\n",
    "    'total_capacity_mw': 'nameplate_capacity_mw',\n",
    "    'total_mmbtu': 'fuel_consumed_total_mmbtu',\n",
    "    'expns_production_total': 'expns_total'\n",
    "}\n",
    "\n",
    "eia860_rename = {\n",
    "    'plant_id': 'plant_id_eia',\n",
    "    'plant_name': 'plant_name_eia',\n",
    "    'operator_id': 'utility_id_eia',\n",
    "    'operator_name': 'utility_name_eia',\n",
    "    'generator_id': 'generator_id_eia'\n",
    "}"
   ]
  },
  {
   "cell_type": "code",
   "execution_count": null,
   "metadata": {
    "scrolled": false
   },
   "outputs": [],
   "source": [
    "coal_plants_ferc1.rename(columns=ferc1_rename, inplace=True)\n",
    "coal_plants_eia.rename(columns=eia_rename, inplace=True)\n",
    "ferc_annotations = pd.read_csv('ferc1_field_annotations.csv')\n",
    "eia_annotations = pd.read_csv('eia_field_annotations.csv')\n",
    "gen_eia860_annotations = pd.read_csv('gen_eia860_field_annotations.csv')\n",
    "\n",
    "xlsx_writer = pd.ExcelWriter('FERC_EIA_Coal_Plants_Community_Energy_{}-{}.xlsx'.format(min(years_to_get), max(years_to_get)))\n",
    "coal_plants_ferc1.to_excel(xlsx_writer, sheet_name='FERC Coal Plants', index=False)\n",
    "ferc_annotations.to_excel(xlsx_writer, sheet_name='FERC Annotations', index=False)\n",
    "coal_plants_eia.to_excel(xlsx_writer, sheet_name='EIA Coal Plants', index=False)\n",
    "eia_annotations.to_excel(xlsx_writer, sheet_name='EIA Annotations', index=False)\n",
    "gen_eia860_df.to_excel(xlsx_writer, sheet_name='EIA 860 Generators', index=False)\n",
    "gen_eia860_annotations.to_excel(xlsx_writer, sheet_name='EIA 860 Generator Annotations', index=False)\n",
    "xlsx_writer.save()"
   ]
  },
  {
   "cell_type": "markdown",
   "metadata": {},
   "source": [
    "# A few visual comparisons of similar FERC & EIA data."
   ]
  },
  {
   "cell_type": "code",
   "execution_count": null,
   "metadata": {
    "scrolled": false
   },
   "outputs": [],
   "source": [
    "plt.hist(coal_plants_eia.heat_rate_btu_per_kwh, range=(5e3,2e4), bins=200, alpha=0.5, normed=True, label=\"EIA\");\n",
    "plt.hist(coal_plants_ferc1.heat_rate_btu_per_kwh, range=(5e3,2e4), bins=200, alpha=0.5, normed=True, label=\"FERC\");\n",
    "plt.xlabel(\"Heat rate (BTU/kWh)\");\n",
    "plt.title(\"Coal plant heat rates: FERC vs. EIA\")\n",
    "plt.legend();"
   ]
  },
  {
   "cell_type": "code",
   "execution_count": null,
   "metadata": {
    "scrolled": false
   },
   "outputs": [],
   "source": [
    "eia_fuel_cost_per_mwh = coal_plants_eia.expns_fuel / coal_plants_eia.net_generation_mwh\n",
    "ferc_fuel_cost_per_mwh = coal_plants_ferc1.expns_fuel / coal_plants_ferc1.net_generation_mwh\n",
    "plt.hist(eia_fuel_cost_per_mwh, range=(0,200), bins=200, alpha=0.5, normed=True, label=\"EIA\")\n",
    "plt.hist(ferc_fuel_cost_per_mwh, range=(0,200), bins=200, alpha=0.5, normed=True, label=\"FERC\")\n",
    "plt.xlabel(\"Fuel cost ($/MWh)\")\n",
    "plt.title(\"Coal plant fuel costs: FERC vs. EIA\")\n",
    "plt.legend();"
   ]
  },
  {
   "cell_type": "code",
   "execution_count": null,
   "metadata": {
    "scrolled": false
   },
   "outputs": [],
   "source": [
    "plt.hist(coal_plants_eia.capacity_factor, range=(0.01,2), bins=100, alpha=0.5, normed=True, label=\"EIA\")\n",
    "plt.hist(coal_plants_ferc1.capacity_factor, range=(0.01,2), bins=100, alpha=0.5, normed=True, label=\"FERC\")\n",
    "plt.xlabel(\"Capacity factor\")\n",
    "plt.title(\"Coal plant capacity factors: FERC vs. EIA\")\n",
    "plt.legend();"
   ]
  },
  {
   "cell_type": "code",
   "execution_count": null,
   "metadata": {},
   "outputs": [],
   "source": [
    "eia_capfac = coal_plants_eia[['year','plant_id_pudl','capacity_factor']]\n",
    "eia_capfac = eia_capfac.rename(columns={'capacity_factor':'capfac_eia'})\n",
    "ferc_capfac = coal_plants_ferc1[['year','plant_id_pudl','capacity_factor']]\n",
    "ferc_capfac = ferc_capfac.rename(columns={'capacity_factor':'capfac_ferc'})\n",
    "capfac = pd.merge(eia_capfac, ferc_capfac, on=['year','plant_id_pudl'])\n",
    "\n",
    "plt.scatter(capfac.capfac_eia, capfac.capfac_ferc, s=10, alpha=0.5)\n",
    "plt.xlim([0,1])\n",
    "plt.ylim([0,1])\n",
    "plt.xlabel(\"EIA Capacity Factor\")\n",
    "plt.ylabel(\"FERC Capacity Factor\")\n",
    "plt.title(\"Coal Plant Calculated Capacity Factors, EIA vs. FERC\");"
   ]
  },
  {
   "cell_type": "code",
   "execution_count": null,
   "metadata": {},
   "outputs": [],
   "source": [
    "eia_cap = coal_plants_eia[['year','plant_id_pudl','nameplate_capacity_mw']]\n",
    "eia_cap = eia_cap.rename(columns={'nameplate_capacity_mw':'capacity_eia'})\n",
    "ferc_cap = coal_plants_ferc1[['year','plant_id_pudl','nameplate_capacity_mw']]\n",
    "ferc_cap = ferc_cap.rename(columns={'nameplate_capacity_mw':'capacity_ferc'})\n",
    "capacity = pd.merge(eia_cap, ferc_cap, on=['year','plant_id_pudl'])\n",
    "\n",
    "plt.scatter(capacity.capacity_eia, capacity.capacity_ferc, s=10, alpha=0.5)\n",
    "plt.xlabel('EIA Plant Capacity (MW)')\n",
    "plt.ylabel('FERC Plant Capacity (MW)');\n",
    "plt.title(\"Coal Plant Nameplate Capacities, EIA vs. FERC (MW)\");"
   ]
  }
 ],
 "metadata": {
  "kernelspec": {
   "display_name": "Python 3",
   "language": "python",
   "name": "python3"
  },
  "language_info": {
   "codemirror_mode": {
    "name": "ipython",
    "version": 3
   },
   "file_extension": ".py",
   "mimetype": "text/x-python",
   "name": "python",
   "nbconvert_exporter": "python",
   "pygments_lexer": "ipython3",
   "version": "3.6.4"
  }
 },
 "nbformat": 4,
 "nbformat_minor": 2
}
