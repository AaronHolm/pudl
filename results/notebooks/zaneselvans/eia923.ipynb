{
 "cells": [
  {
   "cell_type": "code",
   "execution_count": 4,
   "metadata": {
    "collapsed": false
   },
   "outputs": [
    {
     "name": "stdout",
     "output_type": "stream",
     "text": [
      "/Users/zaneselvans/code/git/pudl\n"
     ]
    }
   ],
   "source": [
    "cd ~/code/git/pudl"
   ]
  },
  {
   "cell_type": "code",
   "execution_count": 6,
   "metadata": {
    "collapsed": false
   },
   "outputs": [],
   "source": [
    "import pudl\n",
    "%load_ext autoreload\n",
    "%aimport pudl\n",
    "%autoreload 1\n",
    "import numpy as np\n",
    "import pandas as pd\n",
    "%aimport pudl.eia923\n",
    "import pprint\n",
    "import json"
   ]
  },
  {
   "cell_type": "code",
   "execution_count": 7,
   "metadata": {
    "collapsed": false
   },
   "outputs": [],
   "source": [
    "eia923_2015 = pd.read_excel('data/eia/form923/2015/EIA923_Schedules_2_3_4_5_M_12_2015_Final.xlsx',\n",
    "                            sheetname=[2,3],header=5)"
   ]
  },
  {
   "cell_type": "code",
   "execution_count": 6,
   "metadata": {
    "collapsed": false
   },
   "outputs": [],
   "source": [
    "boiler=eia923_2015[2]\n",
    "generator=eia923_2015[3]"
   ]
  },
  {
   "cell_type": "code",
   "execution_count": 8,
   "metadata": {
    "collapsed": false
   },
   "outputs": [
    {
     "data": {
      "text/plain": [
       "Index(['Plant Id', 'Combined Heat And\\n Power Plant', 'Plant Name',\n",
       "       'Operator Name', 'Operator Id', 'Plant State', 'Census Region',\n",
       "       'NERC Region', 'NAICS Code', 'Sector Number', 'Sector Name',\n",
       "       'Generator Id', 'Reported\\nPrime Mover', 'Net Generation\\nJanuary',\n",
       "       'Net Generation\\nFebruary', 'Net Generation\\nMarch',\n",
       "       'Net Generation\\nApril', 'Net Generation\\nMay', 'Net Generation\\nJune',\n",
       "       'Net Generation\\nJuly', 'Net Generation\\nAugust',\n",
       "       'Net Generation\\nSeptember', 'Net Generation\\nOctober',\n",
       "       'Net Generation\\nNovember', 'Net Generation\\nDecember',\n",
       "       'Net Generation\\nYear To Date', 'YEAR'],\n",
       "      dtype='object')"
      ]
     },
     "execution_count": 8,
     "metadata": {},
     "output_type": "execute_result"
    }
   ],
   "source": [
    "generator.columns"
   ]
  },
  {
   "cell_type": "code",
   "execution_count": 9,
   "metadata": {
    "collapsed": false
   },
   "outputs": [
    {
     "data": {
      "text/plain": [
       "Index(['Plant Id', 'Combined Heat And\\n Power Plant', 'Plant Name',\n",
       "       'Operator Name', 'Operator Id', 'Plant State', 'Census Region',\n",
       "       'NERC Region', 'NAICS Code', 'Sector Number', 'Sector Name',\n",
       "       'Boiler Id', 'Reported\\nPrime Mover', 'Reported\\nFuel Type Code',\n",
       "       'Physical Unit Label', 'Quantity Of Fuel Consumed\\nJanuary',\n",
       "       'Quantity Of Fuel Consumed\\nFebruary',\n",
       "       'Quantity Of Fuel Consumed\\nMarch', 'Quantity Of Fuel Consumed\\nApril',\n",
       "       'Quantity Of Fuel Consumed\\nMay', 'Quantity Of Fuel Consumed\\nJune',\n",
       "       'Quantity Of Fuel Consumed\\nJuly', 'Quantity Of Fuel Consumed\\nAugust',\n",
       "       'Quantity Of Fuel Consumed\\nSeptember',\n",
       "       'Quantity Of Fuel Consumed\\nOctober',\n",
       "       'Quantity Of Fuel Consumed\\nNovember',\n",
       "       'Quantity Of Fuel Consumed\\nDecember', 'MMbtu Per Unit\\nJanuary',\n",
       "       'MMbtu Per Unit\\nFebruary', 'MMbtu Per Unit\\nMarch',\n",
       "       'MMbtu Per Unit\\nApril', 'MMbtu Per Unit\\nMay', 'MMbtu Per Unit\\nJune',\n",
       "       'MMbtu Per Unit\\nJuly', 'MMbtu Per Unit\\nAugust',\n",
       "       'MMbtu Per Unit\\nSeptember', 'MMbtu Per Unit\\nOctober',\n",
       "       'MMbtu Per Unit\\nNovember', 'MMbtu Per Unit\\nDecember',\n",
       "       'Sulfur Content\\nJanuary', 'Sulfur Content\\nFebruary',\n",
       "       'Sulfur Content\\nMarch', 'Sulfur Content\\nApril', 'Sulfur Content\\nMay',\n",
       "       'Sulfur Content\\nJune', 'Sulfur Content\\nJuly',\n",
       "       'Sulfur Content\\nAugust', 'Sulfur Content\\nSeptember',\n",
       "       'Sulfur Content\\nOctober', 'Sulfur Content\\nNovember',\n",
       "       'Sulfur Content\\nDecember', 'Ash Content\\nJanuary',\n",
       "       'Ash Content\\nFebruary', 'Ash Content\\nMarch', 'Ash Content\\nApril',\n",
       "       'Ash Content\\nMay', 'Ash Content\\nJune', 'Ash Content\\nJuly',\n",
       "       'Ash Content\\nAugust', 'Ash Content\\nSeptember', 'Ash Content\\nOctober',\n",
       "       'Ash Content\\nNovember', 'Ash Content\\nDecember',\n",
       "       'Total Fuel Consumption\\nQuantity', 'YEAR'],\n",
       "      dtype='object')"
      ]
     },
     "execution_count": 9,
     "metadata": {},
     "output_type": "execute_result"
    }
   ],
   "source": [
    "boiler.columns"
   ]
  },
  {
   "cell_type": "code",
   "execution_count": 6,
   "metadata": {
    "collapsed": false
   },
   "outputs": [],
   "source": [
    "from importlib import reload"
   ]
  },
  {
   "cell_type": "code",
   "execution_count": 7,
   "metadata": {
    "collapsed": false
   },
   "outputs": [
    {
     "data": {
      "text/plain": [
       "<module 'pudl.pudl' from '/Users/zaneselvans/code/git/pudl/pudl/pudl.py'>"
      ]
     },
     "execution_count": 7,
     "metadata": {},
     "output_type": "execute_result"
    }
   ],
   "source": [
    "reload(pudl)"
   ]
  },
  {
   "cell_type": "code",
   "execution_count": 12,
   "metadata": {
    "collapsed": false
   },
   "outputs": [
    {
     "data": {
      "text/plain": [
       "['oil(1000 gal)', 'oil(1000)', 'oil (1000)', 'oil(1000']"
      ]
     },
     "execution_count": 12,
     "metadata": {},
     "output_type": "execute_result"
    }
   ],
   "source": [
    "pudl.ElecUtil"
   ]
  },
  {
   "cell_type": "code",
   "execution_count": 107,
   "metadata": {
    "collapsed": true
   },
   "outputs": [],
   "source": [
    "f1_pis_original = pudl.ferc1.f1_table2df(\"F1_52\",years=np.arange(2000,2016))"
   ]
  },
  {
   "cell_type": "code",
   "execution_count": 115,
   "metadata": {
    "collapsed": false
   },
   "outputs": [],
   "source": [
    "psco_pis = f1_pis_original[f1_pis_original.RESPONDENT==145]"
   ]
  },
  {
   "cell_type": "code",
   "execution_count": 122,
   "metadata": {
    "collapsed": false
   },
   "outputs": [],
   "source": [
    "psco_pis_mi = psco_pis.set_index([\"REPORT_YEA\",\"ROW_NUMBER\"])"
   ]
  },
  {
   "cell_type": "code",
   "execution_count": 124,
   "metadata": {
    "collapsed": false
   },
   "outputs": [
    {
     "data": {
      "text/html": [
       "<div>\n",
       "<table border=\"1\" class=\"dataframe\">\n",
       "  <thead>\n",
       "    <tr style=\"text-align: right;\">\n",
       "      <th></th>\n",
       "      <th></th>\n",
       "      <th>ADDITION</th>\n",
       "      <th>ADDITION_F</th>\n",
       "      <th>ADJUSTMEN2</th>\n",
       "      <th>ADJUSTMENT</th>\n",
       "      <th>BEGIN_YR_2</th>\n",
       "      <th>BEGIN_YR_B</th>\n",
       "      <th>REPORT_PRD</th>\n",
       "      <th>RESPONDENT</th>\n",
       "      <th>RETIREMEN2</th>\n",
       "      <th>RETIREMENT</th>\n",
       "      <th>ROW_PRVLG</th>\n",
       "      <th>ROW_SEQ</th>\n",
       "      <th>SPPLMNT_NU</th>\n",
       "      <th>TRANSFERS</th>\n",
       "      <th>TRANSFERS_</th>\n",
       "      <th>YR_END_BA2</th>\n",
       "      <th>YR_END_BAL</th>\n",
       "      <th>_NullFlags</th>\n",
       "    </tr>\n",
       "    <tr>\n",
       "      <th>REPORT_YEA</th>\n",
       "      <th>ROW_NUMBER</th>\n",
       "      <th></th>\n",
       "      <th></th>\n",
       "      <th></th>\n",
       "      <th></th>\n",
       "      <th></th>\n",
       "      <th></th>\n",
       "      <th></th>\n",
       "      <th></th>\n",
       "      <th></th>\n",
       "      <th></th>\n",
       "      <th></th>\n",
       "      <th></th>\n",
       "      <th></th>\n",
       "      <th></th>\n",
       "      <th></th>\n",
       "      <th></th>\n",
       "      <th></th>\n",
       "      <th></th>\n",
       "    </tr>\n",
       "  </thead>\n",
       "  <tbody>\n",
       "  </tbody>\n",
       "</table>\n",
       "</div>"
      ],
      "text/plain": [
       "Empty DataFrame\n",
       "Columns: [ADDITION, ADDITION_F, ADJUSTMEN2, ADJUSTMENT, BEGIN_YR_2, BEGIN_YR_B, REPORT_PRD, RESPONDENT, RETIREMEN2, RETIREMENT, ROW_PRVLG, ROW_SEQ, SPPLMNT_NU, TRANSFERS, TRANSFERS_, YR_END_BA2, YR_END_BAL, _NullFlags]\n",
       "Index: []"
      ]
     },
     "execution_count": 124,
     "metadata": {},
     "output_type": "execute_result"
    }
   ],
   "source": [
    "psco_pis_mi[]"
   ]
  },
  {
   "cell_type": "code",
   "execution_count": 48,
   "metadata": {
    "collapsed": false
   },
   "outputs": [
    {
     "data": {
      "text/html": [
       "<div>\n",
       "<table border=\"1\" class=\"dataframe\">\n",
       "  <thead>\n",
       "    <tr style=\"text-align: right;\">\n",
       "      <th></th>\n",
       "      <th>REPORT_YEA</th>\n",
       "      <th>BEGIN_YR_B</th>\n",
       "      <th>ADDITION</th>\n",
       "      <th>TRANSFERS</th>\n",
       "      <th>RETIREMENT</th>\n",
       "      <th>YR_END_BAL</th>\n",
       "    </tr>\n",
       "  </thead>\n",
       "  <tbody>\n",
       "    <tr>\n",
       "      <th>16245</th>\n",
       "      <td>2000</td>\n",
       "      <td>224387.0</td>\n",
       "      <td>13641.0</td>\n",
       "      <td>0.0</td>\n",
       "      <td>0.0</td>\n",
       "      <td>238028.0</td>\n",
       "    </tr>\n",
       "    <tr>\n",
       "      <th>16246</th>\n",
       "      <td>2000</td>\n",
       "      <td>1944949.0</td>\n",
       "      <td>991.0</td>\n",
       "      <td>0.0</td>\n",
       "      <td>0.0</td>\n",
       "      <td>1945940.0</td>\n",
       "    </tr>\n",
       "    <tr>\n",
       "      <th>16247</th>\n",
       "      <td>2000</td>\n",
       "      <td>13240904.0</td>\n",
       "      <td>12850373.0</td>\n",
       "      <td>0.0</td>\n",
       "      <td>0.0</td>\n",
       "      <td>26091277.0</td>\n",
       "    </tr>\n",
       "    <tr>\n",
       "      <th>16248</th>\n",
       "      <td>2000</td>\n",
       "      <td>15410240.0</td>\n",
       "      <td>12865005.0</td>\n",
       "      <td>0.0</td>\n",
       "      <td>0.0</td>\n",
       "      <td>28275245.0</td>\n",
       "    </tr>\n",
       "    <tr>\n",
       "      <th>16249</th>\n",
       "      <td>2000</td>\n",
       "      <td>18982352.0</td>\n",
       "      <td>184107.0</td>\n",
       "      <td>0.0</td>\n",
       "      <td>-26104.0</td>\n",
       "      <td>19192563.0</td>\n",
       "    </tr>\n",
       "  </tbody>\n",
       "</table>\n",
       "</div>"
      ],
      "text/plain": [
       "       REPORT_YEA  BEGIN_YR_B    ADDITION  TRANSFERS  RETIREMENT  YR_END_BAL\n",
       "16245        2000    224387.0     13641.0        0.0         0.0    238028.0\n",
       "16246        2000   1944949.0       991.0        0.0         0.0   1945940.0\n",
       "16247        2000  13240904.0  12850373.0        0.0         0.0  26091277.0\n",
       "16248        2000  15410240.0  12865005.0        0.0         0.0  28275245.0\n",
       "16249        2000  18982352.0    184107.0        0.0    -26104.0  19192563.0"
      ]
     },
     "execution_count": 48,
     "metadata": {},
     "output_type": "execute_result"
    }
   ],
   "source": [
    "psco_pis[[\"REPORT_YEA\",\"BEGIN_YR_B\",\"ADDITION\",\"TRANSFERS\",\"RETIREMENT\",\"YR_END_BAL\"]].head()"
   ]
  },
  {
   "cell_type": "code",
   "execution_count": 50,
   "metadata": {
    "collapsed": true
   },
   "outputs": [],
   "source": []
  },
  {
   "cell_type": "code",
   "execution_count": null,
   "metadata": {
    "collapsed": false
   },
   "outputs": [],
   "source": []
  },
  {
   "cell_type": "code",
   "execution_count": null,
   "metadata": {
    "collapsed": false
   },
   "outputs": [],
   "source": []
  },
  {
   "cell_type": "code",
   "execution_count": 56,
   "metadata": {
    "collapsed": false
   },
   "outputs": [
    {
     "ename": "KeyError",
     "evalue": "\"['LINE_NO'] not in index\"",
     "output_type": "error",
     "traceback": [
      "\u001b[0;31m---------------------------------------------------------------------------\u001b[0m",
      "\u001b[0;31mKeyError\u001b[0m                                  Traceback (most recent call last)",
      "\u001b[0;32m<ipython-input-56-c0a8458cc1be>\u001b[0m in \u001b[0;36m<module>\u001b[0;34m()\u001b[0m\n\u001b[0;32m----> 1\u001b[0;31m \u001b[0mpsco_pis\u001b[0m\u001b[0;34m[\u001b[0m\u001b[0;34m[\u001b[0m\u001b[0;34m\"ADDITION\"\u001b[0m\u001b[0;34m,\u001b[0m\u001b[0;34m\"ADJUSTMENT\"\u001b[0m\u001b[0;34m,\u001b[0m\u001b[0;34m\"BEGIN_YR_B\"\u001b[0m\u001b[0;34m,\u001b[0m\u001b[0;34m\"REPORT_YEA\"\u001b[0m\u001b[0;34m,\u001b[0m\u001b[0;34m\"TRANSFERS\"\u001b[0m\u001b[0;34m,\u001b[0m\u001b[0;34m\"YR_END_BAL\"\u001b[0m\u001b[0;34m,\u001b[0m\u001b[0;34m\"LINE_NO\"\u001b[0m\u001b[0;34m]\u001b[0m\u001b[0;34m]\u001b[0m\u001b[0;34m\u001b[0m\u001b[0m\n\u001b[0m",
      "\u001b[0;32m/Users/zaneselvans/anaconda/lib/python3.5/site-packages/pandas/core/frame.py\u001b[0m in \u001b[0;36m__getitem__\u001b[0;34m(self, key)\u001b[0m\n\u001b[1;32m   1989\u001b[0m         \u001b[0;32mif\u001b[0m \u001b[0misinstance\u001b[0m\u001b[0;34m(\u001b[0m\u001b[0mkey\u001b[0m\u001b[0;34m,\u001b[0m \u001b[0;34m(\u001b[0m\u001b[0mSeries\u001b[0m\u001b[0;34m,\u001b[0m \u001b[0mnp\u001b[0m\u001b[0;34m.\u001b[0m\u001b[0mndarray\u001b[0m\u001b[0;34m,\u001b[0m \u001b[0mIndex\u001b[0m\u001b[0;34m,\u001b[0m \u001b[0mlist\u001b[0m\u001b[0;34m)\u001b[0m\u001b[0;34m)\u001b[0m\u001b[0;34m:\u001b[0m\u001b[0;34m\u001b[0m\u001b[0m\n\u001b[1;32m   1990\u001b[0m             \u001b[0;31m# either boolean or fancy integer index\u001b[0m\u001b[0;34m\u001b[0m\u001b[0;34m\u001b[0m\u001b[0m\n\u001b[0;32m-> 1991\u001b[0;31m             \u001b[0;32mreturn\u001b[0m \u001b[0mself\u001b[0m\u001b[0;34m.\u001b[0m\u001b[0m_getitem_array\u001b[0m\u001b[0;34m(\u001b[0m\u001b[0mkey\u001b[0m\u001b[0;34m)\u001b[0m\u001b[0;34m\u001b[0m\u001b[0m\n\u001b[0m\u001b[1;32m   1992\u001b[0m         \u001b[0;32melif\u001b[0m \u001b[0misinstance\u001b[0m\u001b[0;34m(\u001b[0m\u001b[0mkey\u001b[0m\u001b[0;34m,\u001b[0m \u001b[0mDataFrame\u001b[0m\u001b[0;34m)\u001b[0m\u001b[0;34m:\u001b[0m\u001b[0;34m\u001b[0m\u001b[0m\n\u001b[1;32m   1993\u001b[0m             \u001b[0;32mreturn\u001b[0m \u001b[0mself\u001b[0m\u001b[0;34m.\u001b[0m\u001b[0m_getitem_frame\u001b[0m\u001b[0;34m(\u001b[0m\u001b[0mkey\u001b[0m\u001b[0;34m)\u001b[0m\u001b[0;34m\u001b[0m\u001b[0m\n",
      "\u001b[0;32m/Users/zaneselvans/anaconda/lib/python3.5/site-packages/pandas/core/frame.py\u001b[0m in \u001b[0;36m_getitem_array\u001b[0;34m(self, key)\u001b[0m\n\u001b[1;32m   2033\u001b[0m             \u001b[0;32mreturn\u001b[0m \u001b[0mself\u001b[0m\u001b[0;34m.\u001b[0m\u001b[0mtake\u001b[0m\u001b[0;34m(\u001b[0m\u001b[0mindexer\u001b[0m\u001b[0;34m,\u001b[0m \u001b[0maxis\u001b[0m\u001b[0;34m=\u001b[0m\u001b[0;36m0\u001b[0m\u001b[0;34m,\u001b[0m \u001b[0mconvert\u001b[0m\u001b[0;34m=\u001b[0m\u001b[0;32mFalse\u001b[0m\u001b[0;34m)\u001b[0m\u001b[0;34m\u001b[0m\u001b[0m\n\u001b[1;32m   2034\u001b[0m         \u001b[0;32melse\u001b[0m\u001b[0;34m:\u001b[0m\u001b[0;34m\u001b[0m\u001b[0m\n\u001b[0;32m-> 2035\u001b[0;31m             \u001b[0mindexer\u001b[0m \u001b[0;34m=\u001b[0m \u001b[0mself\u001b[0m\u001b[0;34m.\u001b[0m\u001b[0mix\u001b[0m\u001b[0;34m.\u001b[0m\u001b[0m_convert_to_indexer\u001b[0m\u001b[0;34m(\u001b[0m\u001b[0mkey\u001b[0m\u001b[0;34m,\u001b[0m \u001b[0maxis\u001b[0m\u001b[0;34m=\u001b[0m\u001b[0;36m1\u001b[0m\u001b[0;34m)\u001b[0m\u001b[0;34m\u001b[0m\u001b[0m\n\u001b[0m\u001b[1;32m   2036\u001b[0m             \u001b[0;32mreturn\u001b[0m \u001b[0mself\u001b[0m\u001b[0;34m.\u001b[0m\u001b[0mtake\u001b[0m\u001b[0;34m(\u001b[0m\u001b[0mindexer\u001b[0m\u001b[0;34m,\u001b[0m \u001b[0maxis\u001b[0m\u001b[0;34m=\u001b[0m\u001b[0;36m1\u001b[0m\u001b[0;34m,\u001b[0m \u001b[0mconvert\u001b[0m\u001b[0;34m=\u001b[0m\u001b[0;32mTrue\u001b[0m\u001b[0;34m)\u001b[0m\u001b[0;34m\u001b[0m\u001b[0m\n\u001b[1;32m   2037\u001b[0m \u001b[0;34m\u001b[0m\u001b[0m\n",
      "\u001b[0;32m/Users/zaneselvans/anaconda/lib/python3.5/site-packages/pandas/core/indexing.py\u001b[0m in \u001b[0;36m_convert_to_indexer\u001b[0;34m(self, obj, axis, is_setter)\u001b[0m\n\u001b[1;32m   1212\u001b[0m                 \u001b[0mmask\u001b[0m \u001b[0;34m=\u001b[0m \u001b[0mcheck\u001b[0m \u001b[0;34m==\u001b[0m \u001b[0;34m-\u001b[0m\u001b[0;36m1\u001b[0m\u001b[0;34m\u001b[0m\u001b[0m\n\u001b[1;32m   1213\u001b[0m                 \u001b[0;32mif\u001b[0m \u001b[0mmask\u001b[0m\u001b[0;34m.\u001b[0m\u001b[0many\u001b[0m\u001b[0;34m(\u001b[0m\u001b[0;34m)\u001b[0m\u001b[0;34m:\u001b[0m\u001b[0;34m\u001b[0m\u001b[0m\n\u001b[0;32m-> 1214\u001b[0;31m                     \u001b[0;32mraise\u001b[0m \u001b[0mKeyError\u001b[0m\u001b[0;34m(\u001b[0m\u001b[0;34m'%s not in index'\u001b[0m \u001b[0;34m%\u001b[0m \u001b[0mobjarr\u001b[0m\u001b[0;34m[\u001b[0m\u001b[0mmask\u001b[0m\u001b[0;34m]\u001b[0m\u001b[0;34m)\u001b[0m\u001b[0;34m\u001b[0m\u001b[0m\n\u001b[0m\u001b[1;32m   1215\u001b[0m \u001b[0;34m\u001b[0m\u001b[0m\n\u001b[1;32m   1216\u001b[0m                 \u001b[0;32mreturn\u001b[0m \u001b[0m_values_from_object\u001b[0m\u001b[0;34m(\u001b[0m\u001b[0mindexer\u001b[0m\u001b[0;34m)\u001b[0m\u001b[0;34m\u001b[0m\u001b[0m\n",
      "\u001b[0;31mKeyError\u001b[0m: \"['LINE_NO'] not in index\""
     ]
    }
   ],
   "source": [
    "psco_pis[[\"ADDITION\",\"ADJUSTMENT\",\"BEGIN_YR_B\",\"REPORT_YEA\",\"TRANSFERS\",\"YR_END_BAL\",\"LINE_NO\"]]"
   ]
  },
  {
   "cell_type": "code",
   "execution_count": 125,
   "metadata": {
    "collapsed": false
   },
   "outputs": [
    {
     "ename": "AttributeError",
     "evalue": "module 'pudl.eiaf923' has no attribute 'get_eia293_fuel'",
     "output_type": "error",
     "traceback": [
      "\u001b[0;31m---------------------------------------------------------------------------\u001b[0m",
      "\u001b[0;31mAttributeError\u001b[0m                            Traceback (most recent call last)",
      "\u001b[0;32m<ipython-input-125-8f5f2e7ca7ed>\u001b[0m in \u001b[0;36m<module>\u001b[0;34m()\u001b[0m\n\u001b[0;32m----> 1\u001b[0;31m \u001b[0mpsco2014\u001b[0m \u001b[0;34m=\u001b[0m \u001b[0mpudl\u001b[0m\u001b[0;34m.\u001b[0m\u001b[0mElecUtil\u001b[0m\u001b[0;34m(\u001b[0m\u001b[0mf1_id\u001b[0m\u001b[0;34m=\u001b[0m\u001b[0;36m145\u001b[0m\u001b[0;34m,\u001b[0m\u001b[0myears\u001b[0m\u001b[0;34m=\u001b[0m\u001b[0;34m[\u001b[0m\u001b[0;36m2014\u001b[0m\u001b[0;34m,\u001b[0m\u001b[0;34m]\u001b[0m\u001b[0;34m)\u001b[0m\u001b[0;34m\u001b[0m\u001b[0m\n\u001b[0m",
      "\u001b[0;32m/Users/zaneselvans/code/git/pudl/pudl/pudl.py\u001b[0m in \u001b[0;36m__init__\u001b[0;34m(self, f1_id, eia923_id, years)\u001b[0m\n\u001b[1;32m     56\u001b[0m \u001b[0;34m\u001b[0m\u001b[0m\n\u001b[1;32m     57\u001b[0m         \u001b[0mf714\u001b[0m \u001b[0;34m=\u001b[0m\u001b[0;34m>\u001b[0m \u001b[0mFERC\u001b[0m \u001b[0mForm\u001b[0m \u001b[0;36m714\u001b[0m\u001b[0;34m\u001b[0m\u001b[0m\n\u001b[0;32m---> 58\u001b[0;31m \u001b[0;34m\u001b[0m\u001b[0m\n\u001b[0m\u001b[1;32m     59\u001b[0m         \u001b[0meia923\u001b[0m \u001b[0;34m=\u001b[0m\u001b[0;34m>\u001b[0m \u001b[0mEIA\u001b[0m \u001b[0mForm\u001b[0m \u001b[0;36m923\u001b[0m\u001b[0;34m\u001b[0m\u001b[0m\n\u001b[1;32m     60\u001b[0m \u001b[0;34m\u001b[0m\u001b[0m\n",
      "\u001b[0;31mAttributeError\u001b[0m: module 'pudl.eiaf923' has no attribute 'get_eia293_fuel'"
     ]
    }
   ],
   "source": [
    "psco2014 = pudl.ElecUtil(f1_id=145,years=[2014,])"
   ]
  },
  {
   "cell_type": "code",
   "execution_count": null,
   "metadata": {
    "collapsed": true
   },
   "outputs": [],
   "source": []
  }
 ],
 "metadata": {
  "anaconda-cloud": {},
  "kernelspec": {
   "display_name": "Python [default]",
   "language": "python",
   "name": "python3"
  },
  "language_info": {
   "codemirror_mode": {
    "name": "ipython",
    "version": 3
   },
   "file_extension": ".py",
   "mimetype": "text/x-python",
   "name": "python",
   "nbconvert_exporter": "python",
   "pygments_lexer": "ipython3",
   "version": "3.5.2"
  }
 },
 "nbformat": 4,
 "nbformat_minor": 1
}
