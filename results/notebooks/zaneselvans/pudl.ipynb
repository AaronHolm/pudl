{
 "cells": [
  {
   "cell_type": "code",
   "execution_count": 1,
   "metadata": {
    "collapsed": false
   },
   "outputs": [
    {
     "name": "stdout",
     "output_type": "stream",
     "text": [
      "/Users/zaneselvans/code/git/pudl/pudl\n"
     ]
    }
   ],
   "source": [
    "cd ~/code/git/pudl/pudl"
   ]
  },
  {
   "cell_type": "code",
   "execution_count": 2,
   "metadata": {
    "collapsed": false
   },
   "outputs": [],
   "source": [
    "import numpy as np\n",
    "import pandas as pd\n",
    "import pudl\n",
    "import fercf1\n",
    "from sqlalchemy.ext.declarative import declarative_base\n",
    "from sqlalchemy import create_engine\n",
    "from sqlalchemy.orm import sessionmaker"
   ]
  },
  {
   "cell_type": "code",
   "execution_count": 3,
   "metadata": {
    "collapsed": false
   },
   "outputs": [],
   "source": [
    "#import eiaf923\n",
    "%load_ext autoreload\n",
    "%autoreload 1\n",
    "%aimport pudl\n",
    "%aimport fercf1\n",
    "#%aimport eiaf923"
   ]
  },
  {
   "cell_type": "code",
   "execution_count": 4,
   "metadata": {
    "collapsed": false
   },
   "outputs": [],
   "source": [
    "engine = create_engine('postgresql://catalyst@localhost:5432/pudl_sandbox')\n",
    "pudl.Base.metadata.drop_all(engine)\n",
    "pudl.Base.metadata.create_all(engine)"
   ]
  },
  {
   "cell_type": "code",
   "execution_count": 5,
   "metadata": {
    "collapsed": true
   },
   "outputs": [],
   "source": [
    "Session = sessionmaker(bind=engine)\n",
    "session = Session()"
   ]
  },
  {
   "cell_type": "code",
   "execution_count": 6,
   "metadata": {
    "collapsed": false
   },
   "outputs": [],
   "source": [
    "pudl.Base.metadata.drop_all(engine)\n",
    "pudl.init_db(pudl.Base)"
   ]
  },
  {
   "cell_type": "code",
   "execution_count": 11,
   "metadata": {
    "collapsed": false
   },
   "outputs": [],
   "source": [
    "map_eia923_ferc1_file = '../results/id_mapping/mapping_eia923_ferc1.xlsx'\n",
    "\n",
    "util_map  = pd.read_excel(map_eia923_ferc1_file,'utilities_output',\n",
    "                              converters={'utility_id':int,\n",
    "                                          'utility_name':str,\n",
    "                                          'respondent_id_ferc1':int,\n",
    "                                          'respondent_name_ferc1':str,\n",
    "                                          'operator_id_eia923':int,\n",
    "                                          'operator_name_eia923':str})\n",
    "\n",
    "utils_eia923 = util_map[['operator_id_eia923','operator_name_eia923','utility_id']]\n",
    "utils_eia923 = utils_eia923.drop_duplicates('operator_id_eia923')\n",
    "utils_ferc1 = util_map[['respondent_id_ferc1','respondent_name_ferc1','utility_id']]\n",
    "utils_ferc1 = utils_ferc1.drop_duplicates('respondent_id_ferc1')\n",
    "\n",
    "plant_map = pd.read_excel(map_eia923_ferc1_file,'plants_output',\n",
    "                              converters={'plant_id':int,\n",
    "                                          'plant_name':str,\n",
    "                                          'respondent_id_ferc1':int,\n",
    "                                          'respondent_name_ferc1':str,\n",
    "                                          'plant_name_ferc1':str,\n",
    "                                          'plant_id_eia923':int,\n",
    "                                          'plant_name_eia923':str,\n",
    "                                          'operator_name_eia923':str,\n",
    "                                          'operator_id_eia923':int})\n",
    "\n",
    "plants_eia923 = plant_map[['plant_id_eia923','plant_name_eia923','plant_id']]\n",
    "plants_eia923 = plants_eia923.drop_duplicates('plant_id_eia923')\n",
    "plants_ferc1 = plant_map[['plant_name_ferc1','respondent_id_ferc1','plant_id']]\n",
    "plants_ferc1 = plants_ferc1.drop_duplicates(['plant_name_ferc1','respondent_id_ferc1'])"
   ]
  },
  {
   "cell_type": "code",
   "execution_count": 53,
   "metadata": {
    "collapsed": false
   },
   "outputs": [
    {
     "name": "stdout",
     "output_type": "stream",
     "text": [
      "1\n",
      "1\n",
      "3\n",
      "2\n"
     ]
    }
   ],
   "source": [
    "for df in [utils_eia923, utils_ferc1, plants_eia923, plants_ferc1]:\n",
    "    print(df.shape[0]-df.dropna().shape[0])"
   ]
  },
  {
   "cell_type": "code",
   "execution_count": 12,
   "metadata": {
    "collapsed": false
   },
   "outputs": [
    {
     "data": {
      "text/html": [
       "<div>\n",
       "<table border=\"1\" class=\"dataframe\">\n",
       "  <thead>\n",
       "    <tr style=\"text-align: right;\">\n",
       "      <th></th>\n",
       "      <th>plant_name_ferc1</th>\n",
       "      <th>respondent_id_ferc1</th>\n",
       "      <th>plant_id</th>\n",
       "    </tr>\n",
       "  </thead>\n",
       "  <tbody>\n",
       "    <tr>\n",
       "      <th>578</th>\n",
       "      <td>NaN</td>\n",
       "      <td>428</td>\n",
       "      <td>420</td>\n",
       "    </tr>\n",
       "    <tr>\n",
       "      <th>1432</th>\n",
       "      <td>NaN</td>\n",
       "      <td>NaN</td>\n",
       "      <td>1124</td>\n",
       "    </tr>\n",
       "  </tbody>\n",
       "</table>\n",
       "</div>"
      ],
      "text/plain": [
       "     plant_name_ferc1 respondent_id_ferc1  plant_id\n",
       "578               NaN                 428       420\n",
       "1432              NaN                 NaN      1124"
      ]
     },
     "execution_count": 12,
     "metadata": {},
     "output_type": "execute_result"
    }
   ],
   "source": [
    "plants_ferc1[plants_ferc1.isnull().any(axis=1)]"
   ]
  },
  {
   "cell_type": "code",
   "execution_count": null,
   "metadata": {
    "collapsed": true
   },
   "outputs": [],
   "source": [
    "def demo_func(tabname):\n",
    "    tabmap = {\"boiler_fuel\":0,\n",
    "              \"generators\":1,\n",
    "              \"fuel_delivered\":2 }\n",
    "    df = pd.read_excel(\"myfile.xlsx\",sheetnum=tabmap[tabname])"
   ]
  }
 ],
 "metadata": {
  "anaconda-cloud": {},
  "kernelspec": {
   "display_name": "Python [default]",
   "language": "python",
   "name": "python3"
  },
  "language_info": {
   "codemirror_mode": {
    "name": "ipython",
    "version": 3
   },
   "file_extension": ".py",
   "mimetype": "text/x-python",
   "name": "python",
   "nbconvert_exporter": "python",
   "pygments_lexer": "ipython3",
   "version": "3.5.2"
  }
 },
 "nbformat": 4,
 "nbformat_minor": 1
}
