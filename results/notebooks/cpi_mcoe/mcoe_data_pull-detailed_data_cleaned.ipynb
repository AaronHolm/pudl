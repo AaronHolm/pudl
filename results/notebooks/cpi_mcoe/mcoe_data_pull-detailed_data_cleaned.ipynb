{
 "cells": [
  {
   "cell_type": "code",
   "execution_count": 1,
   "metadata": {
    "collapsed": true
   },
   "outputs": [],
   "source": [
    "%load_ext autoreload\n",
    "%autoreload 2\n",
    "%matplotlib inline\n",
    "import sys\n",
    "import os\n",
    "import numpy as np\n",
    "import pandas as pd\n",
    "import sqlalchemy as sa\n",
    "sys.path.append(os.path.abspath(os.path.join('..','..','..')))\n",
    "from pudl import pudl, ferc1, eia923, settings, constants, analysis\n",
    "from pudl import models, models_ferc1, models_eia923, outputs\n",
    "from pudl import clean_eia923, clean_ferc1, clean_pudl, mcoe\n",
    "import matplotlib.pyplot as plt\n",
    "import matplotlib as mpl\n",
    "pd.options.mode.chained_assignment = None\n",
    "plt.style.use('ggplot')\n",
    "mpl.rcParams['figure.figsize'] = (10,6)\n",
    "mpl.rcParams['figure.dpi'] = 150\n",
    "pd.options.display.max_columns = 56\n",
    "pd.options.display.max_rows = 100"
   ]
  },
  {
   "cell_type": "code",
   "execution_count": 2,
   "metadata": {
    "collapsed": true
   },
   "outputs": [],
   "source": [
    "pudl_engine  = pudl.db_connect_pudl()"
   ]
  },
  {
   "cell_type": "markdown",
   "metadata": {},
   "source": [
    "# Pulling the required tables"
   ]
  },
  {
   "cell_type": "code",
   "execution_count": 3,
   "metadata": {
    "collapsed": true
   },
   "outputs": [],
   "source": [
    "# Bring in pudl IDs for all EIA plants\n",
    "# pudl_ids = g9 = analysis.simple_select('plants_eia', pudl_engine)"
   ]
  },
  {
   "cell_type": "code",
   "execution_count": 4,
   "metadata": {
    "scrolled": false
   },
   "outputs": [],
   "source": [
    "# pudl_ids.head()\n",
    "# ids = pudl_ids[\"plant_id_pudl\"]\n",
    "# plnts = pudl_ids[ids.isin(ids[ids.duplicated()])]\n",
    "# plnts.plant_id_pudl.unique()\n",
    "# # plnts"
   ]
  },
  {
   "cell_type": "markdown",
   "metadata": {},
   "source": [
    "### Fuel Receipts Costs EIA923"
   ]
  },
  {
   "cell_type": "code",
   "execution_count": 5,
   "metadata": {},
   "outputs": [],
   "source": [
    "# Convert the fuel_receipts_costs_eia923 table into a dataframe\n",
    "frc9 = mcoe.fuel_reciepts_costs_pull_eia923(pudl_engine)\n",
    "frc9_summed = frc9[0]\n",
    "frc9_summed_plant = frc9[1]"
   ]
  },
  {
   "cell_type": "code",
   "execution_count": null,
   "metadata": {
    "collapsed": true
   },
   "outputs": [],
   "source": []
  },
  {
   "cell_type": "code",
   "execution_count": 6,
   "metadata": {
    "collapsed": true
   },
   "outputs": [],
   "source": [
    "# frc9 = frc9.set_index(pd.DatetimeIndex(frc9['report_date']))"
   ]
  },
  {
   "cell_type": "code",
   "execution_count": 7,
   "metadata": {
    "collapsed": true
   },
   "outputs": [],
   "source": [
    "# # Identify the primary fuel for each plant; later assign all fuel costs to that category, so secondary fuels aren't lost\n",
    "# frc_df = analysis.primary_fuel_frc_eia923(frc9, id_col='plant_id_eia', fuel_thresh = .95)"
   ]
  },
  {
   "cell_type": "code",
   "execution_count": 8,
   "metadata": {
    "collapsed": true
   },
   "outputs": [],
   "source": [
    "# frc_df_coal = frc_df[frc_df['primary_fuel']=='Coal']\n",
    "# len(frc_df_coal.plant_id_eia.unique())"
   ]
  },
  {
   "cell_type": "code",
   "execution_count": 9,
   "metadata": {
    "collapsed": true
   },
   "outputs": [],
   "source": [
    "# plants = frc_df_coal.plant_id_eia.unique()"
   ]
  },
  {
   "cell_type": "code",
   "execution_count": 10,
   "metadata": {
    "collapsed": true
   },
   "outputs": [],
   "source": [
    "# frc9 = frc9[frc9['plant_id_eia'].isin(plants)]"
   ]
  },
  {
   "cell_type": "code",
   "execution_count": 11,
   "metadata": {
    "collapsed": true
   },
   "outputs": [],
   "source": [
    "# frc9.drop('report_date', axis=1, inplace=True)\n",
    "# frc9.reset_index(inplace=True)"
   ]
  },
  {
   "cell_type": "markdown",
   "metadata": {},
   "source": [
    "## This forcing of energy source column to coal is problematic & needs to be undone"
   ]
  },
  {
   "cell_type": "code",
   "execution_count": 12,
   "metadata": {
    "collapsed": true
   },
   "outputs": [],
   "source": [
    "# change energy source column to coal\n",
    "# frc9['energy_source'] = 'Coal'"
   ]
  },
  {
   "cell_type": "code",
   "execution_count": 13,
   "metadata": {
    "collapsed": true
   },
   "outputs": [],
   "source": [
    "# Get yearly fuel cost by plant_id, year and energy_source\n",
    "# frc9_summed = analysis.yearly_sum_eia(frc9 , 'fuel_cost', columns=['plant_id_eia', 'plant_id_pudl','report_year','energy_source_cons']) #toggle\n",
    "# frc9_summed = frc9_summed.reset_index()\n",
    "# frc9_summed = frc9_summed.rename(columns={'primary_fuel': 'energy_source'})"
   ]
  },
  {
   "cell_type": "code",
   "execution_count": 14,
   "metadata": {},
   "outputs": [
    {
     "data": {
      "text/html": [
       "<div>\n",
       "<style>\n",
       "    .dataframe thead tr:only-child th {\n",
       "        text-align: right;\n",
       "    }\n",
       "\n",
       "    .dataframe thead th {\n",
       "        text-align: left;\n",
       "    }\n",
       "\n",
       "    .dataframe tbody tr th {\n",
       "        vertical-align: top;\n",
       "    }\n",
       "</style>\n",
       "<table border=\"1\" class=\"dataframe\">\n",
       "  <thead>\n",
       "    <tr style=\"text-align: right;\">\n",
       "      <th></th>\n",
       "      <th>plant_id_eia</th>\n",
       "      <th>report_year</th>\n",
       "      <th>energy_source_cons</th>\n",
       "      <th>mmbtu</th>\n",
       "      <th>plant_id_pudl</th>\n",
       "      <th>fuel_cost</th>\n",
       "      <th>fuel_cost_per_mmbtu_average</th>\n",
       "    </tr>\n",
       "  </thead>\n",
       "  <tbody>\n",
       "    <tr>\n",
       "      <th>0</th>\n",
       "      <td>3</td>\n",
       "      <td>2009</td>\n",
       "      <td>coal</td>\n",
       "      <td>8.784741e+07</td>\n",
       "      <td>32</td>\n",
       "      <td>3.019373e+08</td>\n",
       "      <td>3.437065</td>\n",
       "    </tr>\n",
       "    <tr>\n",
       "      <th>1</th>\n",
       "      <td>3</td>\n",
       "      <td>2009</td>\n",
       "      <td>gas</td>\n",
       "      <td>4.316773e+07</td>\n",
       "      <td>32</td>\n",
       "      <td>1.881205e+08</td>\n",
       "      <td>4.357896</td>\n",
       "    </tr>\n",
       "    <tr>\n",
       "      <th>2</th>\n",
       "      <td>3</td>\n",
       "      <td>2010</td>\n",
       "      <td>coal</td>\n",
       "      <td>8.315514e+07</td>\n",
       "      <td>32</td>\n",
       "      <td>3.124745e+08</td>\n",
       "      <td>3.757729</td>\n",
       "    </tr>\n",
       "    <tr>\n",
       "      <th>3</th>\n",
       "      <td>3</td>\n",
       "      <td>2010</td>\n",
       "      <td>gas</td>\n",
       "      <td>5.171804e+07</td>\n",
       "      <td>32</td>\n",
       "      <td>2.463235e+08</td>\n",
       "      <td>4.762817</td>\n",
       "    </tr>\n",
       "    <tr>\n",
       "      <th>4</th>\n",
       "      <td>3</td>\n",
       "      <td>2011</td>\n",
       "      <td>coal</td>\n",
       "      <td>4.714560e+07</td>\n",
       "      <td>32</td>\n",
       "      <td>2.025195e+08</td>\n",
       "      <td>4.295619</td>\n",
       "    </tr>\n",
       "  </tbody>\n",
       "</table>\n",
       "</div>"
      ],
      "text/plain": [
       "   plant_id_eia  report_year energy_source_cons         mmbtu  plant_id_pudl  \\\n",
       "0             3         2009               coal  8.784741e+07             32   \n",
       "1             3         2009                gas  4.316773e+07             32   \n",
       "2             3         2010               coal  8.315514e+07             32   \n",
       "3             3         2010                gas  5.171804e+07             32   \n",
       "4             3         2011               coal  4.714560e+07             32   \n",
       "\n",
       "      fuel_cost  fuel_cost_per_mmbtu_average  \n",
       "0  3.019373e+08                     3.437065  \n",
       "1  1.881205e+08                     4.357896  \n",
       "2  3.124745e+08                     3.757729  \n",
       "3  2.463235e+08                     4.762817  \n",
       "4  2.025195e+08                     4.295619  "
      ]
     },
     "execution_count": 14,
     "metadata": {},
     "output_type": "execute_result"
    }
   ],
   "source": [
    "frc9_summed.head()"
   ]
  },
  {
   "cell_type": "code",
   "execution_count": 15,
   "metadata": {
    "collapsed": true,
    "scrolled": false
   },
   "outputs": [],
   "source": [
    "# frc9_mmbtu_summed = analysis.yearly_sum_eia(frc9 , 'mmbtu', columns=['plant_id_eia', 'plant_id_pudl','report_year','energy_source_cons']) #toggle\n",
    "# # frc9_mmbtu_summed = frc9_mmbtu_summed.rename(columns={'primary_fuel': 'energy_source'})\n",
    "# frc9_mmbtu_summed = frc9_mmbtu_summed.reset_index()\n",
    "# frc9_mmbtu_summed.head(2)"
   ]
  },
  {
   "cell_type": "code",
   "execution_count": 16,
   "metadata": {
    "collapsed": true
   },
   "outputs": [],
   "source": [
    "# frc9_summed = frc9_mmbtu_summed.merge(frc9_summed)\n",
    "# frc9_summed['fuel_cost_per_mmbtu_average'] = (frc9_summed.fuel_cost/frc9_summed.mmbtu)\n",
    "# frc9_summed.head()"
   ]
  },
  {
   "cell_type": "markdown",
   "metadata": {},
   "source": [
    "### Generators EIA923"
   ]
  },
  {
   "cell_type": "code",
   "execution_count": 17,
   "metadata": {},
   "outputs": [],
   "source": [
    "# Convert the generation_eia923 table into a dataframe\n",
    "g9_summed = mcoe.generation_pull_eia923(pudl_engine)\n",
    "\n",
    "## ONLY COAL PLANTS:\n",
    "#subset the g9 data frame to only coal plants\n",
    "# # g9 = g9[g9['plant_id_eia'].isin(plants)]\n",
    "\n",
    "# # Get yearly net generation by plant_id, year and generator_id\n",
    "# g9_summed = analysis.yearly_sum_eia(g9, 'net_generation_mwh', columns=['report_year','plant_id_eia', 'plant_id_pudl', 'generator_id'])\n",
    "# g9_summed.reset_index(inplace=True)"
   ]
  },
  {
   "cell_type": "code",
   "execution_count": 18,
   "metadata": {},
   "outputs": [
    {
     "data": {
      "text/html": [
       "<div>\n",
       "<style>\n",
       "    .dataframe thead tr:only-child th {\n",
       "        text-align: right;\n",
       "    }\n",
       "\n",
       "    .dataframe thead th {\n",
       "        text-align: left;\n",
       "    }\n",
       "\n",
       "    .dataframe tbody tr th {\n",
       "        vertical-align: top;\n",
       "    }\n",
       "</style>\n",
       "<table border=\"1\" class=\"dataframe\">\n",
       "  <thead>\n",
       "    <tr style=\"text-align: right;\">\n",
       "      <th></th>\n",
       "      <th>report_year</th>\n",
       "      <th>plant_id_eia</th>\n",
       "      <th>plant_id_pudl</th>\n",
       "      <th>generator_id</th>\n",
       "      <th>net_generation_mwh</th>\n",
       "    </tr>\n",
       "  </thead>\n",
       "  <tbody>\n",
       "    <tr>\n",
       "      <th>0</th>\n",
       "      <td>2009</td>\n",
       "      <td>3</td>\n",
       "      <td>32</td>\n",
       "      <td>1</td>\n",
       "      <td>221908.0</td>\n",
       "    </tr>\n",
       "    <tr>\n",
       "      <th>1</th>\n",
       "      <td>2009</td>\n",
       "      <td>3</td>\n",
       "      <td>32</td>\n",
       "      <td>2</td>\n",
       "      <td>394031.0</td>\n",
       "    </tr>\n",
       "    <tr>\n",
       "      <th>2</th>\n",
       "      <td>2009</td>\n",
       "      <td>3</td>\n",
       "      <td>32</td>\n",
       "      <td>3</td>\n",
       "      <td>1286393.0</td>\n",
       "    </tr>\n",
       "    <tr>\n",
       "      <th>3</th>\n",
       "      <td>2009</td>\n",
       "      <td>3</td>\n",
       "      <td>32</td>\n",
       "      <td>4</td>\n",
       "      <td>1626547.0</td>\n",
       "    </tr>\n",
       "    <tr>\n",
       "      <th>4</th>\n",
       "      <td>2009</td>\n",
       "      <td>3</td>\n",
       "      <td>32</td>\n",
       "      <td>5</td>\n",
       "      <td>4513101.0</td>\n",
       "    </tr>\n",
       "  </tbody>\n",
       "</table>\n",
       "</div>"
      ],
      "text/plain": [
       "   report_year  plant_id_eia  plant_id_pudl generator_id  net_generation_mwh\n",
       "0         2009             3             32            1            221908.0\n",
       "1         2009             3             32            2            394031.0\n",
       "2         2009             3             32            3           1286393.0\n",
       "3         2009             3             32            4           1626547.0\n",
       "4         2009             3             32            5           4513101.0"
      ]
     },
     "execution_count": 18,
     "metadata": {},
     "output_type": "execute_result"
    }
   ],
   "source": [
    "g9_summed.head()"
   ]
  },
  {
   "cell_type": "code",
   "execution_count": 19,
   "metadata": {},
   "outputs": [
    {
     "data": {
      "text/html": [
       "<div>\n",
       "<style>\n",
       "    .dataframe thead tr:only-child th {\n",
       "        text-align: right;\n",
       "    }\n",
       "\n",
       "    .dataframe thead th {\n",
       "        text-align: left;\n",
       "    }\n",
       "\n",
       "    .dataframe tbody tr th {\n",
       "        vertical-align: top;\n",
       "    }\n",
       "</style>\n",
       "<table border=\"1\" class=\"dataframe\">\n",
       "  <thead>\n",
       "    <tr style=\"text-align: right;\">\n",
       "      <th></th>\n",
       "      <th>report_year</th>\n",
       "      <th>plant_id_eia</th>\n",
       "      <th>plant_id_pudl</th>\n",
       "      <th>generator_id</th>\n",
       "      <th>net_generation_mwh</th>\n",
       "    </tr>\n",
       "  </thead>\n",
       "  <tbody>\n",
       "    <tr>\n",
       "      <th>476</th>\n",
       "      <td>2009</td>\n",
       "      <td>1091</td>\n",
       "      <td>217</td>\n",
       "      <td>1</td>\n",
       "      <td>884849.0</td>\n",
       "    </tr>\n",
       "    <tr>\n",
       "      <th>477</th>\n",
       "      <td>2009</td>\n",
       "      <td>1091</td>\n",
       "      <td>217</td>\n",
       "      <td>2</td>\n",
       "      <td>1843117.0</td>\n",
       "    </tr>\n",
       "    <tr>\n",
       "      <th>478</th>\n",
       "      <td>2009</td>\n",
       "      <td>1091</td>\n",
       "      <td>217</td>\n",
       "      <td>3</td>\n",
       "      <td>3605713.0</td>\n",
       "    </tr>\n",
       "    <tr>\n",
       "      <th>1694</th>\n",
       "      <td>2009</td>\n",
       "      <td>7343</td>\n",
       "      <td>217</td>\n",
       "      <td>4</td>\n",
       "      <td>3980138.0</td>\n",
       "    </tr>\n",
       "    <tr>\n",
       "      <th>3405</th>\n",
       "      <td>2010</td>\n",
       "      <td>1091</td>\n",
       "      <td>217</td>\n",
       "      <td>1</td>\n",
       "      <td>913140.0</td>\n",
       "    </tr>\n",
       "  </tbody>\n",
       "</table>\n",
       "</div>"
      ],
      "text/plain": [
       "      report_year  plant_id_eia  plant_id_pudl generator_id  \\\n",
       "476          2009          1091            217            1   \n",
       "477          2009          1091            217            2   \n",
       "478          2009          1091            217            3   \n",
       "1694         2009          7343            217            4   \n",
       "3405         2010          1091            217            1   \n",
       "\n",
       "      net_generation_mwh  \n",
       "476             884849.0  \n",
       "477            1843117.0  \n",
       "478            3605713.0  \n",
       "1694           3980138.0  \n",
       "3405            913140.0  "
      ]
     },
     "execution_count": 19,
     "metadata": {},
     "output_type": "execute_result"
    }
   ],
   "source": [
    "g9_summed[g9_summed[\"plant_id_pudl\"]==217].head()"
   ]
  },
  {
   "cell_type": "markdown",
   "metadata": {},
   "source": [
    "### Generators EIA860"
   ]
  },
  {
   "cell_type": "code",
   "execution_count": 20,
   "metadata": {
    "collapsed": true
   },
   "outputs": [],
   "source": [
    "# Convert the generators_eia860 table into a dataframe\n",
    "g8 = mcoe.generators_pull_eia860(pudl_engine)\n",
    "# g8 = analysis.simple_select('generators_eia860', pudl_engine)"
   ]
  },
  {
   "cell_type": "code",
   "execution_count": 21,
   "metadata": {
    "collapsed": true
   },
   "outputs": [],
   "source": [
    "# In order to use the energy source associated with each generator\n",
    "#subset the g8 data frame to only coal plants\n",
    "\n",
    "# g8_es['energy_source'] = 'Coal'\n",
    "# g8 = g8[g8['plant_id_eia'].isin(plants)]\n",
    "# g8_es = g8_es[g8_es['plant_id_eia'].isin(plants)]"
   ]
  },
  {
   "cell_type": "code",
   "execution_count": 22,
   "metadata": {},
   "outputs": [
    {
     "data": {
      "text/html": [
       "<div>\n",
       "<style>\n",
       "    .dataframe thead tr:only-child th {\n",
       "        text-align: right;\n",
       "    }\n",
       "\n",
       "    .dataframe thead th {\n",
       "        text-align: left;\n",
       "    }\n",
       "\n",
       "    .dataframe tbody tr th {\n",
       "        vertical-align: top;\n",
       "    }\n",
       "</style>\n",
       "<table border=\"1\" class=\"dataframe\">\n",
       "  <thead>\n",
       "    <tr style=\"text-align: right;\">\n",
       "      <th></th>\n",
       "      <th>plant_id_eia</th>\n",
       "      <th>plant_id_pudl</th>\n",
       "      <th>plant_name</th>\n",
       "      <th>operator_name</th>\n",
       "      <th>state</th>\n",
       "      <th>generator_id</th>\n",
       "      <th>energy_source</th>\n",
       "      <th>nameplate_capacity_mw</th>\n",
       "      <th>report_year</th>\n",
       "      <th>energy_source_cons</th>\n",
       "      <th>energy_source_count</th>\n",
       "    </tr>\n",
       "  </thead>\n",
       "  <tbody>\n",
       "    <tr>\n",
       "      <th>0</th>\n",
       "      <td>10867</td>\n",
       "      <td>3458</td>\n",
       "      <td>Tate &amp; Lyle Decatur Plant Cogen</td>\n",
       "      <td>Tate &amp; Lyle Ingredients Americas Inc</td>\n",
       "      <td>IL</td>\n",
       "      <td>GEN1</td>\n",
       "      <td>BIT</td>\n",
       "      <td>62.0</td>\n",
       "      <td>2011</td>\n",
       "      <td>coal</td>\n",
       "      <td>1</td>\n",
       "    </tr>\n",
       "    <tr>\n",
       "      <th>1</th>\n",
       "      <td>50903</td>\n",
       "      <td>3874</td>\n",
       "      <td>Sagamore Plant Cogeneration</td>\n",
       "      <td>Tate &amp; Lyle Ingredients Americas Inc</td>\n",
       "      <td>IN</td>\n",
       "      <td>GEN1</td>\n",
       "      <td>BIT</td>\n",
       "      <td>7.4</td>\n",
       "      <td>2011</td>\n",
       "      <td>coal</td>\n",
       "      <td>1</td>\n",
       "    </tr>\n",
       "    <tr>\n",
       "      <th>2</th>\n",
       "      <td>10671</td>\n",
       "      <td>3368</td>\n",
       "      <td>AES Shady Point LLC</td>\n",
       "      <td>AES Shady Point LLC</td>\n",
       "      <td>OK</td>\n",
       "      <td>GEN1</td>\n",
       "      <td>BIT</td>\n",
       "      <td>175.0</td>\n",
       "      <td>2011</td>\n",
       "      <td>coal</td>\n",
       "      <td>1</td>\n",
       "    </tr>\n",
       "    <tr>\n",
       "      <th>3</th>\n",
       "      <td>10671</td>\n",
       "      <td>3368</td>\n",
       "      <td>AES Shady Point LLC</td>\n",
       "      <td>AES Shady Point LLC</td>\n",
       "      <td>OK</td>\n",
       "      <td>GEN2</td>\n",
       "      <td>BIT</td>\n",
       "      <td>175.0</td>\n",
       "      <td>2011</td>\n",
       "      <td>coal</td>\n",
       "      <td>1</td>\n",
       "    </tr>\n",
       "    <tr>\n",
       "      <th>4</th>\n",
       "      <td>2527</td>\n",
       "      <td>2098</td>\n",
       "      <td>AES Greenidge LLC</td>\n",
       "      <td>AES Greenidge</td>\n",
       "      <td>NY</td>\n",
       "      <td>4</td>\n",
       "      <td>BIT</td>\n",
       "      <td>112.5</td>\n",
       "      <td>2011</td>\n",
       "      <td>coal</td>\n",
       "      <td>1</td>\n",
       "    </tr>\n",
       "  </tbody>\n",
       "</table>\n",
       "</div>"
      ],
      "text/plain": [
       "   plant_id_eia  plant_id_pudl                       plant_name  \\\n",
       "0         10867           3458  Tate & Lyle Decatur Plant Cogen   \n",
       "1         50903           3874      Sagamore Plant Cogeneration   \n",
       "2         10671           3368              AES Shady Point LLC   \n",
       "3         10671           3368              AES Shady Point LLC   \n",
       "4          2527           2098                AES Greenidge LLC   \n",
       "\n",
       "                          operator_name state generator_id energy_source  \\\n",
       "0  Tate & Lyle Ingredients Americas Inc    IL         GEN1           BIT   \n",
       "1  Tate & Lyle Ingredients Americas Inc    IN         GEN1           BIT   \n",
       "2                   AES Shady Point LLC    OK         GEN1           BIT   \n",
       "3                   AES Shady Point LLC    OK         GEN2           BIT   \n",
       "4                         AES Greenidge    NY            4           BIT   \n",
       "\n",
       "   nameplate_capacity_mw  report_year energy_source_cons  energy_source_count  \n",
       "0                   62.0         2011               coal                    1  \n",
       "1                    7.4         2011               coal                    1  \n",
       "2                  175.0         2011               coal                    1  \n",
       "3                  175.0         2011               coal                    1  \n",
       "4                  112.5         2011               coal                    1  "
      ]
     },
     "execution_count": 22,
     "metadata": {},
     "output_type": "execute_result"
    }
   ],
   "source": [
    "g8.head()"
   ]
  },
  {
   "cell_type": "code",
   "execution_count": 23,
   "metadata": {
    "collapsed": true
   },
   "outputs": [],
   "source": [
    "# In order to use the capacity of each generator\n",
    "# g8 = g8[['plant_id_eia','plant_id_pudl','report_year','plant_name', 'operator_name', 'state', 'generator_id','nameplate_capacity_mw','summer_capacity_mw','winter_capacity_mw']]\n"
   ]
  },
  {
   "cell_type": "code",
   "execution_count": 24,
   "metadata": {
    "collapsed": true
   },
   "outputs": [],
   "source": [
    "# see which non-fuel coals exist for these coal plants\n",
    "non_coal_fuels = g8.loc[(g8['energy_source']!='BIT') & (g8['energy_source']!='SUB') & (g8['energy_source']!='LIG')]"
   ]
  },
  {
   "cell_type": "code",
   "execution_count": 25,
   "metadata": {
    "collapsed": true
   },
   "outputs": [],
   "source": [
    "# re-assign all energy source values to coal\n",
    "# g8['energy_source'] = 'Coal'"
   ]
  },
  {
   "cell_type": "markdown",
   "metadata": {},
   "source": [
    "### Calculate a generator's proportion of plant capacity"
   ]
  },
  {
   "cell_type": "code",
   "execution_count": 26,
   "metadata": {
    "collapsed": true
   },
   "outputs": [],
   "source": [
    "# capacity_eia = analysis.capacity_proportion_eia923(g8, id_col='plant_id_eia')\n",
    "# capacity_pudl = analysis.capacity_proportion_eia923(g8, id_col='plant_id_pudl')"
   ]
  },
  {
   "cell_type": "markdown",
   "metadata": {},
   "source": [
    "### Boiler Fuel EIA923"
   ]
  },
  {
   "cell_type": "code",
   "execution_count": 27,
   "metadata": {
    "collapsed": true
   },
   "outputs": [],
   "source": [
    "# Convert the boiler_fuel_eia923 table into a dataframe\n",
    "bf9 = mcoe.boiler_fuel_pull_eia923(pudl_engine)"
   ]
  },
  {
   "cell_type": "code",
   "execution_count": 28,
   "metadata": {
    "collapsed": true
   },
   "outputs": [],
   "source": [
    "# #subset the bf9 data frame to only coal plants\n",
    "# bf9 = bf9[bf9['plant_id_eia'].isin(plants)]\n",
    "\n",
    "# # re-assign all energy source values to coal\n",
    "# bf9['energy_source'] = 'Coal'"
   ]
  },
  {
   "cell_type": "code",
   "execution_count": 29,
   "metadata": {
    "collapsed": true
   },
   "outputs": [],
   "source": [
    "# Get yearly fuel consumed by plant_id, year and boiler_id\n",
    "bf9_summed = bf9[0]\n",
    "# Get yearly fuel consumed by plant_id, year and boiler_id\n",
    "bf9_plant_summed = bf9[1]"
   ]
  },
  {
   "cell_type": "markdown",
   "metadata": {},
   "source": [
    "### Boiler Generator Association EIA860"
   ]
  },
  {
   "cell_type": "code",
   "execution_count": 30,
   "metadata": {
    "collapsed": true
   },
   "outputs": [],
   "source": [
    "# Convert the boiler_generator_assn_eia860 table into a dataframe\n",
    "bga8 = mcoe.boiler_generator_pull_eia860(pudl_engine)"
   ]
  },
  {
   "cell_type": "code",
   "execution_count": 31,
   "metadata": {
    "collapsed": true
   },
   "outputs": [],
   "source": [
    "# get the primary fuel for each plant (to be used to combine plants that have unassociated generators)\n",
    "gf9 = analysis.simple_select('generation_fuel_eia923', pudl_engine)\n",
    "# primary_fuel = analysis.primary_fuel_gf_eia923(gf9).rename(columns={'year':'report_date'})"
   ]
  },
  {
   "cell_type": "code",
   "execution_count": 32,
   "metadata": {
    "collapsed": true
   },
   "outputs": [],
   "source": [
    "#subset the bf9 data frame to only coal plants\n",
    "# gf9 = gf9[gf9['plant_id_eia'].isin(plants)]"
   ]
  },
  {
   "cell_type": "code",
   "execution_count": 33,
   "metadata": {},
   "outputs": [
    {
     "data": {
      "text/html": [
       "<div>\n",
       "<style>\n",
       "    .dataframe thead tr:only-child th {\n",
       "        text-align: right;\n",
       "    }\n",
       "\n",
       "    .dataframe thead th {\n",
       "        text-align: left;\n",
       "    }\n",
       "\n",
       "    .dataframe tbody tr th {\n",
       "        vertical-align: top;\n",
       "    }\n",
       "</style>\n",
       "<table border=\"1\" class=\"dataframe\">\n",
       "  <thead>\n",
       "    <tr style=\"text-align: right;\">\n",
       "      <th></th>\n",
       "      <th>report_year</th>\n",
       "      <th>plant_id_eia</th>\n",
       "      <th>plant_id_pudl</th>\n",
       "      <th>generator_id</th>\n",
       "      <th>net_generation_mwh</th>\n",
       "    </tr>\n",
       "  </thead>\n",
       "  <tbody>\n",
       "    <tr>\n",
       "      <th>0</th>\n",
       "      <td>2009</td>\n",
       "      <td>3</td>\n",
       "      <td>32</td>\n",
       "      <td>1</td>\n",
       "      <td>221908.0</td>\n",
       "    </tr>\n",
       "    <tr>\n",
       "      <th>1</th>\n",
       "      <td>2009</td>\n",
       "      <td>3</td>\n",
       "      <td>32</td>\n",
       "      <td>2</td>\n",
       "      <td>394031.0</td>\n",
       "    </tr>\n",
       "  </tbody>\n",
       "</table>\n",
       "</div>"
      ],
      "text/plain": [
       "   report_year  plant_id_eia  plant_id_pudl generator_id  net_generation_mwh\n",
       "0         2009             3             32            1            221908.0\n",
       "1         2009             3             32            2            394031.0"
      ]
     },
     "execution_count": 33,
     "metadata": {},
     "output_type": "execute_result"
    }
   ],
   "source": [
    "g9_summed.head(2)"
   ]
  },
  {
   "cell_type": "code",
   "execution_count": 34,
   "metadata": {},
   "outputs": [
    {
     "data": {
      "text/html": [
       "<div>\n",
       "<style>\n",
       "    .dataframe thead tr:only-child th {\n",
       "        text-align: right;\n",
       "    }\n",
       "\n",
       "    .dataframe thead th {\n",
       "        text-align: left;\n",
       "    }\n",
       "\n",
       "    .dataframe tbody tr th {\n",
       "        vertical-align: top;\n",
       "    }\n",
       "</style>\n",
       "<table border=\"1\" class=\"dataframe\">\n",
       "  <thead>\n",
       "    <tr style=\"text-align: right;\">\n",
       "      <th></th>\n",
       "      <th>plant_id_eia</th>\n",
       "      <th>plant_id_pudl</th>\n",
       "      <th>plant_name</th>\n",
       "      <th>operator_name</th>\n",
       "      <th>state</th>\n",
       "      <th>generator_id</th>\n",
       "      <th>energy_source</th>\n",
       "      <th>nameplate_capacity_mw</th>\n",
       "      <th>report_year</th>\n",
       "      <th>energy_source_cons</th>\n",
       "      <th>energy_source_count</th>\n",
       "    </tr>\n",
       "  </thead>\n",
       "  <tbody>\n",
       "    <tr>\n",
       "      <th>0</th>\n",
       "      <td>10867</td>\n",
       "      <td>3458</td>\n",
       "      <td>Tate &amp; Lyle Decatur Plant Cogen</td>\n",
       "      <td>Tate &amp; Lyle Ingredients Americas Inc</td>\n",
       "      <td>IL</td>\n",
       "      <td>GEN1</td>\n",
       "      <td>BIT</td>\n",
       "      <td>62.0</td>\n",
       "      <td>2011</td>\n",
       "      <td>coal</td>\n",
       "      <td>1</td>\n",
       "    </tr>\n",
       "    <tr>\n",
       "      <th>1</th>\n",
       "      <td>50903</td>\n",
       "      <td>3874</td>\n",
       "      <td>Sagamore Plant Cogeneration</td>\n",
       "      <td>Tate &amp; Lyle Ingredients Americas Inc</td>\n",
       "      <td>IN</td>\n",
       "      <td>GEN1</td>\n",
       "      <td>BIT</td>\n",
       "      <td>7.4</td>\n",
       "      <td>2011</td>\n",
       "      <td>coal</td>\n",
       "      <td>1</td>\n",
       "    </tr>\n",
       "  </tbody>\n",
       "</table>\n",
       "</div>"
      ],
      "text/plain": [
       "   plant_id_eia  plant_id_pudl                       plant_name  \\\n",
       "0         10867           3458  Tate & Lyle Decatur Plant Cogen   \n",
       "1         50903           3874      Sagamore Plant Cogeneration   \n",
       "\n",
       "                          operator_name state generator_id energy_source  \\\n",
       "0  Tate & Lyle Ingredients Americas Inc    IL         GEN1           BIT   \n",
       "1  Tate & Lyle Ingredients Americas Inc    IN         GEN1           BIT   \n",
       "\n",
       "   nameplate_capacity_mw  report_year energy_source_cons  energy_source_count  \n",
       "0                   62.0         2011               coal                    1  \n",
       "1                    7.4         2011               coal                    1  "
      ]
     },
     "execution_count": 34,
     "metadata": {},
     "output_type": "execute_result"
    }
   ],
   "source": [
    "g8.head(2)"
   ]
  },
  {
   "cell_type": "code",
   "execution_count": 35,
   "metadata": {},
   "outputs": [
    {
     "data": {
      "text/html": [
       "<div>\n",
       "<style>\n",
       "    .dataframe thead tr:only-child th {\n",
       "        text-align: right;\n",
       "    }\n",
       "\n",
       "    .dataframe thead th {\n",
       "        text-align: left;\n",
       "    }\n",
       "\n",
       "    .dataframe tbody tr th {\n",
       "        vertical-align: top;\n",
       "    }\n",
       "</style>\n",
       "<table border=\"1\" class=\"dataframe\">\n",
       "  <thead>\n",
       "    <tr style=\"text-align: right;\">\n",
       "      <th></th>\n",
       "      <th>report_year</th>\n",
       "      <th>plant_id_eia</th>\n",
       "      <th>plant_id_pudl</th>\n",
       "      <th>generator_id</th>\n",
       "      <th>net_generation_mwh</th>\n",
       "    </tr>\n",
       "  </thead>\n",
       "  <tbody>\n",
       "    <tr>\n",
       "      <th>0</th>\n",
       "      <td>2009</td>\n",
       "      <td>3</td>\n",
       "      <td>32</td>\n",
       "      <td>1</td>\n",
       "      <td>221908.0</td>\n",
       "    </tr>\n",
       "    <tr>\n",
       "      <th>1</th>\n",
       "      <td>2009</td>\n",
       "      <td>3</td>\n",
       "      <td>32</td>\n",
       "      <td>2</td>\n",
       "      <td>394031.0</td>\n",
       "    </tr>\n",
       "    <tr>\n",
       "      <th>2</th>\n",
       "      <td>2009</td>\n",
       "      <td>3</td>\n",
       "      <td>32</td>\n",
       "      <td>3</td>\n",
       "      <td>1286393.0</td>\n",
       "    </tr>\n",
       "    <tr>\n",
       "      <th>3</th>\n",
       "      <td>2009</td>\n",
       "      <td>3</td>\n",
       "      <td>32</td>\n",
       "      <td>4</td>\n",
       "      <td>1626547.0</td>\n",
       "    </tr>\n",
       "    <tr>\n",
       "      <th>4</th>\n",
       "      <td>2009</td>\n",
       "      <td>3</td>\n",
       "      <td>32</td>\n",
       "      <td>5</td>\n",
       "      <td>4513101.0</td>\n",
       "    </tr>\n",
       "  </tbody>\n",
       "</table>\n",
       "</div>"
      ],
      "text/plain": [
       "   report_year  plant_id_eia  plant_id_pudl generator_id  net_generation_mwh\n",
       "0         2009             3             32            1            221908.0\n",
       "1         2009             3             32            2            394031.0\n",
       "2         2009             3             32            3           1286393.0\n",
       "3         2009             3             32            4           1626547.0\n",
       "4         2009             3             32            5           4513101.0"
      ]
     },
     "execution_count": 35,
     "metadata": {},
     "output_type": "execute_result"
    }
   ],
   "source": [
    "g9_summed.head()"
   ]
  },
  {
   "cell_type": "markdown",
   "metadata": {},
   "source": [
    "## Generating Capacity Factor"
   ]
  },
  {
   "cell_type": "code",
   "execution_count": 36,
   "metadata": {
    "scrolled": false
   },
   "outputs": [],
   "source": [
    "capacity_factor = analysis.capacity_factor(g9_summed,g8, id_col='plant_id_eia')"
   ]
  },
  {
   "cell_type": "code",
   "execution_count": 37,
   "metadata": {},
   "outputs": [
    {
     "data": {
      "text/html": [
       "<div>\n",
       "<style>\n",
       "    .dataframe thead tr:only-child th {\n",
       "        text-align: right;\n",
       "    }\n",
       "\n",
       "    .dataframe thead th {\n",
       "        text-align: left;\n",
       "    }\n",
       "\n",
       "    .dataframe tbody tr th {\n",
       "        vertical-align: top;\n",
       "    }\n",
       "</style>\n",
       "<table border=\"1\" class=\"dataframe\">\n",
       "  <thead>\n",
       "    <tr style=\"text-align: right;\">\n",
       "      <th></th>\n",
       "      <th>report_year</th>\n",
       "      <th>plant_id_eia</th>\n",
       "      <th>plant_id_pudl</th>\n",
       "      <th>generator_id</th>\n",
       "      <th>net_generation_mwh</th>\n",
       "      <th>plant_name</th>\n",
       "      <th>operator_name</th>\n",
       "      <th>state</th>\n",
       "      <th>energy_source</th>\n",
       "      <th>nameplate_capacity_mw</th>\n",
       "      <th>energy_source_cons</th>\n",
       "      <th>energy_source_count</th>\n",
       "      <th>capacity_factor</th>\n",
       "    </tr>\n",
       "  </thead>\n",
       "  <tbody>\n",
       "    <tr>\n",
       "      <th>0</th>\n",
       "      <td>2009</td>\n",
       "      <td>3</td>\n",
       "      <td>32</td>\n",
       "      <td>1</td>\n",
       "      <td>221908.0</td>\n",
       "      <td>Barry</td>\n",
       "      <td>Alabama Power Co</td>\n",
       "      <td>AL</td>\n",
       "      <td>BIT</td>\n",
       "      <td>153.1</td>\n",
       "      <td>coal</td>\n",
       "      <td>2</td>\n",
       "      <td>0.16546</td>\n",
       "    </tr>\n",
       "    <tr>\n",
       "      <th>1</th>\n",
       "      <td>2009</td>\n",
       "      <td>3</td>\n",
       "      <td>32</td>\n",
       "      <td>2</td>\n",
       "      <td>394031.0</td>\n",
       "      <td>Barry</td>\n",
       "      <td>Alabama Power Co</td>\n",
       "      <td>AL</td>\n",
       "      <td>BIT</td>\n",
       "      <td>153.1</td>\n",
       "      <td>coal</td>\n",
       "      <td>2</td>\n",
       "      <td>0.29380</td>\n",
       "    </tr>\n",
       "  </tbody>\n",
       "</table>\n",
       "</div>"
      ],
      "text/plain": [
       "   report_year  plant_id_eia  plant_id_pudl generator_id  net_generation_mwh  \\\n",
       "0         2009             3             32            1            221908.0   \n",
       "1         2009             3             32            2            394031.0   \n",
       "\n",
       "  plant_name     operator_name state energy_source  nameplate_capacity_mw  \\\n",
       "0      Barry  Alabama Power Co    AL           BIT                  153.1   \n",
       "1      Barry  Alabama Power Co    AL           BIT                  153.1   \n",
       "\n",
       "  energy_source_cons  energy_source_count  capacity_factor  \n",
       "0               coal                    2          0.16546  \n",
       "1               coal                    2          0.29380  "
      ]
     },
     "execution_count": 37,
     "metadata": {},
     "output_type": "execute_result"
    }
   ],
   "source": [
    "capacity_factor.head(2)"
   ]
  },
  {
   "cell_type": "code",
   "execution_count": 38,
   "metadata": {
    "collapsed": true
   },
   "outputs": [],
   "source": [
    "testplant = capacity_factor[capacity_factor['plant_id_pudl']==217]\n",
    "# testplant = capacity_factor[capacity_factor['plant_id_eia']==7343]\n",
    "# testplant = capacity_factor[capacity_factor['plant_id_eia']==1091]"
   ]
  },
  {
   "cell_type": "code",
   "execution_count": 39,
   "metadata": {},
   "outputs": [
    {
     "data": {
      "text/html": [
       "<div>\n",
       "<style>\n",
       "    .dataframe thead tr:only-child th {\n",
       "        text-align: right;\n",
       "    }\n",
       "\n",
       "    .dataframe thead th {\n",
       "        text-align: left;\n",
       "    }\n",
       "\n",
       "    .dataframe tbody tr th {\n",
       "        vertical-align: top;\n",
       "    }\n",
       "</style>\n",
       "<table border=\"1\" class=\"dataframe\">\n",
       "  <thead>\n",
       "    <tr style=\"text-align: right;\">\n",
       "      <th></th>\n",
       "      <th>report_year</th>\n",
       "      <th>plant_id_eia</th>\n",
       "      <th>plant_id_pudl</th>\n",
       "      <th>generator_id</th>\n",
       "      <th>net_generation_mwh</th>\n",
       "      <th>plant_name</th>\n",
       "      <th>operator_name</th>\n",
       "      <th>state</th>\n",
       "      <th>energy_source</th>\n",
       "      <th>nameplate_capacity_mw</th>\n",
       "      <th>energy_source_cons</th>\n",
       "      <th>energy_source_count</th>\n",
       "      <th>capacity_factor</th>\n",
       "    </tr>\n",
       "  </thead>\n",
       "  <tbody>\n",
       "    <tr>\n",
       "      <th>475</th>\n",
       "      <td>2009</td>\n",
       "      <td>1091</td>\n",
       "      <td>217</td>\n",
       "      <td>1</td>\n",
       "      <td>884849.0</td>\n",
       "      <td>George Neal North</td>\n",
       "      <td>MidAmerican Energy Co</td>\n",
       "      <td>IA</td>\n",
       "      <td>SUB</td>\n",
       "      <td>147.0</td>\n",
       "      <td>coal</td>\n",
       "      <td>1</td>\n",
       "      <td>0.687144</td>\n",
       "    </tr>\n",
       "    <tr>\n",
       "      <th>476</th>\n",
       "      <td>2009</td>\n",
       "      <td>1091</td>\n",
       "      <td>217</td>\n",
       "      <td>2</td>\n",
       "      <td>1843117.0</td>\n",
       "      <td>George Neal North</td>\n",
       "      <td>MidAmerican Energy Co</td>\n",
       "      <td>IA</td>\n",
       "      <td>SUB</td>\n",
       "      <td>349.2</td>\n",
       "      <td>coal</td>\n",
       "      <td>1</td>\n",
       "      <td>0.602524</td>\n",
       "    </tr>\n",
       "  </tbody>\n",
       "</table>\n",
       "</div>"
      ],
      "text/plain": [
       "     report_year  plant_id_eia  plant_id_pudl generator_id  \\\n",
       "475         2009          1091            217            1   \n",
       "476         2009          1091            217            2   \n",
       "\n",
       "     net_generation_mwh         plant_name          operator_name state  \\\n",
       "475            884849.0  George Neal North  MidAmerican Energy Co    IA   \n",
       "476           1843117.0  George Neal North  MidAmerican Energy Co    IA   \n",
       "\n",
       "    energy_source  nameplate_capacity_mw energy_source_cons  \\\n",
       "475           SUB                  147.0               coal   \n",
       "476           SUB                  349.2               coal   \n",
       "\n",
       "     energy_source_count  capacity_factor  \n",
       "475                    1         0.687144  \n",
       "476                    1         0.602524  "
      ]
     },
     "execution_count": 39,
     "metadata": {},
     "output_type": "execute_result"
    }
   ],
   "source": [
    "testplant.head(2)"
   ]
  },
  {
   "cell_type": "markdown",
   "metadata": {},
   "source": [
    "## Generating Heat Rate"
   ]
  },
  {
   "cell_type": "code",
   "execution_count": 40,
   "metadata": {
    "collapsed": true
   },
   "outputs": [],
   "source": [
    "# Calculate heat rate here (instead of with function) to retain \n",
    "# some of the underlying fields used for calculations"
   ]
  },
  {
   "cell_type": "code",
   "execution_count": 41,
   "metadata": {},
   "outputs": [
    {
     "data": {
      "text/html": [
       "<div>\n",
       "<style>\n",
       "    .dataframe thead tr:only-child th {\n",
       "        text-align: right;\n",
       "    }\n",
       "\n",
       "    .dataframe thead th {\n",
       "        text-align: left;\n",
       "    }\n",
       "\n",
       "    .dataframe tbody tr th {\n",
       "        vertical-align: top;\n",
       "    }\n",
       "</style>\n",
       "<table border=\"1\" class=\"dataframe\">\n",
       "  <thead>\n",
       "    <tr style=\"text-align: right;\">\n",
       "      <th></th>\n",
       "      <th>report_year</th>\n",
       "      <th>plant_id_eia</th>\n",
       "      <th>plant_id_pudl</th>\n",
       "      <th>generator_id</th>\n",
       "      <th>net_generation_mwh</th>\n",
       "    </tr>\n",
       "  </thead>\n",
       "  <tbody>\n",
       "    <tr>\n",
       "      <th>0</th>\n",
       "      <td>2009</td>\n",
       "      <td>3</td>\n",
       "      <td>32</td>\n",
       "      <td>1</td>\n",
       "      <td>221908.0</td>\n",
       "    </tr>\n",
       "    <tr>\n",
       "      <th>1</th>\n",
       "      <td>2009</td>\n",
       "      <td>3</td>\n",
       "      <td>32</td>\n",
       "      <td>2</td>\n",
       "      <td>394031.0</td>\n",
       "    </tr>\n",
       "  </tbody>\n",
       "</table>\n",
       "</div>"
      ],
      "text/plain": [
       "   report_year  plant_id_eia  plant_id_pudl generator_id  net_generation_mwh\n",
       "0         2009             3             32            1            221908.0\n",
       "1         2009             3             32            2            394031.0"
      ]
     },
     "execution_count": 41,
     "metadata": {},
     "output_type": "execute_result"
    }
   ],
   "source": [
    "g9_summed.head(2)"
   ]
  },
  {
   "cell_type": "code",
   "execution_count": 42,
   "metadata": {
    "scrolled": false
   },
   "outputs": [],
   "source": [
    "gens_with_bga = mcoe.gens_with_bga(bga8, g9_summed, id_col='plant_id_pudl')"
   ]
  },
  {
   "cell_type": "code",
   "execution_count": 43,
   "metadata": {},
   "outputs": [
    {
     "data": {
      "text/html": [
       "<div>\n",
       "<style>\n",
       "    .dataframe thead tr:only-child th {\n",
       "        text-align: right;\n",
       "    }\n",
       "\n",
       "    .dataframe thead th {\n",
       "        text-align: left;\n",
       "    }\n",
       "\n",
       "    .dataframe tbody tr th {\n",
       "        vertical-align: top;\n",
       "    }\n",
       "</style>\n",
       "<table border=\"1\" class=\"dataframe\">\n",
       "  <thead>\n",
       "    <tr style=\"text-align: right;\">\n",
       "      <th></th>\n",
       "      <th>plant_id_eia</th>\n",
       "      <th>plant_id_pudl</th>\n",
       "      <th>plant_name</th>\n",
       "      <th>operator_name</th>\n",
       "      <th>state</th>\n",
       "      <th>generator_id</th>\n",
       "      <th>energy_source</th>\n",
       "      <th>nameplate_capacity_mw</th>\n",
       "      <th>report_year</th>\n",
       "      <th>energy_source_cons</th>\n",
       "      <th>energy_source_count</th>\n",
       "    </tr>\n",
       "  </thead>\n",
       "  <tbody>\n",
       "    <tr>\n",
       "      <th>0</th>\n",
       "      <td>10867</td>\n",
       "      <td>3458</td>\n",
       "      <td>Tate &amp; Lyle Decatur Plant Cogen</td>\n",
       "      <td>Tate &amp; Lyle Ingredients Americas Inc</td>\n",
       "      <td>IL</td>\n",
       "      <td>GEN1</td>\n",
       "      <td>BIT</td>\n",
       "      <td>62.0</td>\n",
       "      <td>2011</td>\n",
       "      <td>coal</td>\n",
       "      <td>1</td>\n",
       "    </tr>\n",
       "    <tr>\n",
       "      <th>1</th>\n",
       "      <td>50903</td>\n",
       "      <td>3874</td>\n",
       "      <td>Sagamore Plant Cogeneration</td>\n",
       "      <td>Tate &amp; Lyle Ingredients Americas Inc</td>\n",
       "      <td>IN</td>\n",
       "      <td>GEN1</td>\n",
       "      <td>BIT</td>\n",
       "      <td>7.4</td>\n",
       "      <td>2011</td>\n",
       "      <td>coal</td>\n",
       "      <td>1</td>\n",
       "    </tr>\n",
       "    <tr>\n",
       "      <th>2</th>\n",
       "      <td>10671</td>\n",
       "      <td>3368</td>\n",
       "      <td>AES Shady Point LLC</td>\n",
       "      <td>AES Shady Point LLC</td>\n",
       "      <td>OK</td>\n",
       "      <td>GEN1</td>\n",
       "      <td>BIT</td>\n",
       "      <td>175.0</td>\n",
       "      <td>2011</td>\n",
       "      <td>coal</td>\n",
       "      <td>1</td>\n",
       "    </tr>\n",
       "    <tr>\n",
       "      <th>3</th>\n",
       "      <td>10671</td>\n",
       "      <td>3368</td>\n",
       "      <td>AES Shady Point LLC</td>\n",
       "      <td>AES Shady Point LLC</td>\n",
       "      <td>OK</td>\n",
       "      <td>GEN2</td>\n",
       "      <td>BIT</td>\n",
       "      <td>175.0</td>\n",
       "      <td>2011</td>\n",
       "      <td>coal</td>\n",
       "      <td>1</td>\n",
       "    </tr>\n",
       "    <tr>\n",
       "      <th>4</th>\n",
       "      <td>2527</td>\n",
       "      <td>2098</td>\n",
       "      <td>AES Greenidge LLC</td>\n",
       "      <td>AES Greenidge</td>\n",
       "      <td>NY</td>\n",
       "      <td>4</td>\n",
       "      <td>BIT</td>\n",
       "      <td>112.5</td>\n",
       "      <td>2011</td>\n",
       "      <td>coal</td>\n",
       "      <td>1</td>\n",
       "    </tr>\n",
       "  </tbody>\n",
       "</table>\n",
       "</div>"
      ],
      "text/plain": [
       "   plant_id_eia  plant_id_pudl                       plant_name  \\\n",
       "0         10867           3458  Tate & Lyle Decatur Plant Cogen   \n",
       "1         50903           3874      Sagamore Plant Cogeneration   \n",
       "2         10671           3368              AES Shady Point LLC   \n",
       "3         10671           3368              AES Shady Point LLC   \n",
       "4          2527           2098                AES Greenidge LLC   \n",
       "\n",
       "                          operator_name state generator_id energy_source  \\\n",
       "0  Tate & Lyle Ingredients Americas Inc    IL         GEN1           BIT   \n",
       "1  Tate & Lyle Ingredients Americas Inc    IN         GEN1           BIT   \n",
       "2                   AES Shady Point LLC    OK         GEN1           BIT   \n",
       "3                   AES Shady Point LLC    OK         GEN2           BIT   \n",
       "4                         AES Greenidge    NY            4           BIT   \n",
       "\n",
       "   nameplate_capacity_mw  report_year energy_source_cons  energy_source_count  \n",
       "0                   62.0         2011               coal                    1  \n",
       "1                    7.4         2011               coal                    1  \n",
       "2                  175.0         2011               coal                    1  \n",
       "3                  175.0         2011               coal                    1  \n",
       "4                  112.5         2011               coal                    1  "
      ]
     },
     "execution_count": 43,
     "metadata": {},
     "output_type": "execute_result"
    }
   ],
   "source": [
    "g8.head(5)"
   ]
  },
  {
   "cell_type": "code",
   "execution_count": 114,
   "metadata": {
    "scrolled": false
   },
   "outputs": [],
   "source": [
    "heat_rate = mcoe.heat_rate(bga8, g9_summed, bf9_summed, bf9_plant_summed, pudl_engine, id_col='plant_id_eia')"
   ]
  },
  {
   "cell_type": "code",
   "execution_count": 115,
   "metadata": {},
   "outputs": [
    {
     "data": {
      "text/html": [
       "<div>\n",
       "<style>\n",
       "    .dataframe thead tr:only-child th {\n",
       "        text-align: right;\n",
       "    }\n",
       "\n",
       "    .dataframe thead th {\n",
       "        text-align: left;\n",
       "    }\n",
       "\n",
       "    .dataframe tbody tr th {\n",
       "        vertical-align: top;\n",
       "    }\n",
       "</style>\n",
       "<table border=\"1\" class=\"dataframe\">\n",
       "  <thead>\n",
       "    <tr style=\"text-align: right;\">\n",
       "      <th></th>\n",
       "      <th>complete_assn</th>\n",
       "      <th>fuel_consumed_mmbtu_per_gen</th>\n",
       "      <th>generator_id</th>\n",
       "      <th>heat_rate_mmbtu_mwh</th>\n",
       "      <th>net_generation_mwh</th>\n",
       "      <th>plant_assn</th>\n",
       "      <th>plant_id_eia</th>\n",
       "      <th>plant_id_pudl</th>\n",
       "      <th>report_year</th>\n",
       "    </tr>\n",
       "  </thead>\n",
       "  <tbody>\n",
       "    <tr>\n",
       "      <th>0</th>\n",
       "      <td>True</td>\n",
       "      <td>2.282135e+06</td>\n",
       "      <td>1</td>\n",
       "      <td>10.284149</td>\n",
       "      <td>221908.0</td>\n",
       "      <td>True</td>\n",
       "      <td>3</td>\n",
       "      <td>32</td>\n",
       "      <td>2009</td>\n",
       "    </tr>\n",
       "    <tr>\n",
       "      <th>1</th>\n",
       "      <td>True</td>\n",
       "      <td>4.047126e+06</td>\n",
       "      <td>2</td>\n",
       "      <td>10.271086</td>\n",
       "      <td>394031.0</td>\n",
       "      <td>True</td>\n",
       "      <td>3</td>\n",
       "      <td>32</td>\n",
       "      <td>2009</td>\n",
       "    </tr>\n",
       "    <tr>\n",
       "      <th>2</th>\n",
       "      <td>True</td>\n",
       "      <td>1.306599e+07</td>\n",
       "      <td>3</td>\n",
       "      <td>10.157073</td>\n",
       "      <td>1286393.0</td>\n",
       "      <td>True</td>\n",
       "      <td>3</td>\n",
       "      <td>32</td>\n",
       "      <td>2009</td>\n",
       "    </tr>\n",
       "    <tr>\n",
       "      <th>3</th>\n",
       "      <td>True</td>\n",
       "      <td>1.616073e+07</td>\n",
       "      <td>4</td>\n",
       "      <td>9.935606</td>\n",
       "      <td>1626547.0</td>\n",
       "      <td>True</td>\n",
       "      <td>3</td>\n",
       "      <td>32</td>\n",
       "      <td>2009</td>\n",
       "    </tr>\n",
       "    <tr>\n",
       "      <th>4</th>\n",
       "      <td>True</td>\n",
       "      <td>4.470910e+07</td>\n",
       "      <td>5</td>\n",
       "      <td>9.906513</td>\n",
       "      <td>4513101.0</td>\n",
       "      <td>True</td>\n",
       "      <td>3</td>\n",
       "      <td>32</td>\n",
       "      <td>2009</td>\n",
       "    </tr>\n",
       "  </tbody>\n",
       "</table>\n",
       "</div>"
      ],
      "text/plain": [
       "   complete_assn  fuel_consumed_mmbtu_per_gen generator_id  \\\n",
       "0           True                 2.282135e+06            1   \n",
       "1           True                 4.047126e+06            2   \n",
       "2           True                 1.306599e+07            3   \n",
       "3           True                 1.616073e+07            4   \n",
       "4           True                 4.470910e+07            5   \n",
       "\n",
       "   heat_rate_mmbtu_mwh  net_generation_mwh  plant_assn  plant_id_eia  \\\n",
       "0            10.284149            221908.0        True             3   \n",
       "1            10.271086            394031.0        True             3   \n",
       "2            10.157073           1286393.0        True             3   \n",
       "3             9.935606           1626547.0        True             3   \n",
       "4             9.906513           4513101.0        True             3   \n",
       "\n",
       "   plant_id_pudl  report_year  \n",
       "0             32         2009  \n",
       "1             32         2009  \n",
       "2             32         2009  \n",
       "3             32         2009  \n",
       "4             32         2009  "
      ]
     },
     "execution_count": 115,
     "metadata": {},
     "output_type": "execute_result"
    }
   ],
   "source": [
    "heat_rate.head()"
   ]
  },
  {
   "cell_type": "code",
   "execution_count": 46,
   "metadata": {
    "collapsed": true,
    "scrolled": false
   },
   "outputs": [],
   "source": [
    "#CALCULATIONS FROM INSIDE OF FUEL_COST FUNCTION:\n",
    "\n",
    "net_gen = g9_summed.merge(g8, how='left', on=[\n",
    "                              'plant_id_eia', 'plant_id_pudl', 'report_year', 'generator_id'])\n",
    "\n",
    "# Merge this net_gen table with frc9_summed to have\n",
    "# fuel_cost_per_mmbtu_total associated with generators\n",
    "\n",
    "fuel_cost_per_mmbtu = net_gen.merge(frc9_summed,\n",
    "                                    how='outer',\n",
    "                                    left_on=['plant_id_eia', 'plant_id_pudl',\n",
    "                                        'report_year',\n",
    "                                        'energy_source'],\n",
    "                                    right_on=['plant_id_eia', 'plant_id_pudl',\n",
    "                                        'report_year',\n",
    "                                        'energy_source_cons'])"
   ]
  },
  {
   "cell_type": "code",
   "execution_count": 47,
   "metadata": {
    "scrolled": true
   },
   "outputs": [
    {
     "data": {
      "text/html": [
       "<div>\n",
       "<style>\n",
       "    .dataframe thead tr:only-child th {\n",
       "        text-align: right;\n",
       "    }\n",
       "\n",
       "    .dataframe thead th {\n",
       "        text-align: left;\n",
       "    }\n",
       "\n",
       "    .dataframe tbody tr th {\n",
       "        vertical-align: top;\n",
       "    }\n",
       "</style>\n",
       "<table border=\"1\" class=\"dataframe\">\n",
       "  <thead>\n",
       "    <tr style=\"text-align: right;\">\n",
       "      <th></th>\n",
       "      <th>report_year</th>\n",
       "      <th>plant_id_eia</th>\n",
       "      <th>plant_id_pudl</th>\n",
       "      <th>generator_id</th>\n",
       "      <th>net_generation_mwh</th>\n",
       "      <th>plant_name</th>\n",
       "      <th>operator_name</th>\n",
       "      <th>state</th>\n",
       "      <th>energy_source</th>\n",
       "      <th>nameplate_capacity_mw</th>\n",
       "      <th>energy_source_cons_x</th>\n",
       "      <th>energy_source_count</th>\n",
       "      <th>energy_source_cons_y</th>\n",
       "      <th>mmbtu</th>\n",
       "      <th>fuel_cost</th>\n",
       "      <th>fuel_cost_per_mmbtu_average</th>\n",
       "    </tr>\n",
       "  </thead>\n",
       "  <tbody>\n",
       "    <tr>\n",
       "      <th>0</th>\n",
       "      <td>2009</td>\n",
       "      <td>3</td>\n",
       "      <td>32</td>\n",
       "      <td>1</td>\n",
       "      <td>221908.0</td>\n",
       "      <td>Barry</td>\n",
       "      <td>Alabama Power Co</td>\n",
       "      <td>AL</td>\n",
       "      <td>BIT</td>\n",
       "      <td>153.1</td>\n",
       "      <td>coal</td>\n",
       "      <td>2.0</td>\n",
       "      <td>NaN</td>\n",
       "      <td>NaN</td>\n",
       "      <td>NaN</td>\n",
       "      <td>NaN</td>\n",
       "    </tr>\n",
       "    <tr>\n",
       "      <th>1</th>\n",
       "      <td>2009</td>\n",
       "      <td>3</td>\n",
       "      <td>32</td>\n",
       "      <td>2</td>\n",
       "      <td>394031.0</td>\n",
       "      <td>Barry</td>\n",
       "      <td>Alabama Power Co</td>\n",
       "      <td>AL</td>\n",
       "      <td>BIT</td>\n",
       "      <td>153.1</td>\n",
       "      <td>coal</td>\n",
       "      <td>2.0</td>\n",
       "      <td>NaN</td>\n",
       "      <td>NaN</td>\n",
       "      <td>NaN</td>\n",
       "      <td>NaN</td>\n",
       "    </tr>\n",
       "  </tbody>\n",
       "</table>\n",
       "</div>"
      ],
      "text/plain": [
       "   report_year  plant_id_eia  plant_id_pudl generator_id  net_generation_mwh  \\\n",
       "0         2009             3             32            1            221908.0   \n",
       "1         2009             3             32            2            394031.0   \n",
       "\n",
       "  plant_name     operator_name state energy_source  nameplate_capacity_mw  \\\n",
       "0      Barry  Alabama Power Co    AL           BIT                  153.1   \n",
       "1      Barry  Alabama Power Co    AL           BIT                  153.1   \n",
       "\n",
       "  energy_source_cons_x  energy_source_count energy_source_cons_y  mmbtu  \\\n",
       "0                 coal                  2.0                  NaN    NaN   \n",
       "1                 coal                  2.0                  NaN    NaN   \n",
       "\n",
       "   fuel_cost  fuel_cost_per_mmbtu_average  \n",
       "0        NaN                          NaN  \n",
       "1        NaN                          NaN  "
      ]
     },
     "execution_count": 47,
     "metadata": {},
     "output_type": "execute_result"
    }
   ],
   "source": [
    "fuel_cost_per_mmbtu.head(2)"
   ]
  },
  {
   "cell_type": "markdown",
   "metadata": {},
   "source": [
    "## Calculating proportions of generation & capacity"
   ]
  },
  {
   "cell_type": "code",
   "execution_count": 48,
   "metadata": {
    "collapsed": true
   },
   "outputs": [],
   "source": [
    "# proportion_gen_eia = analysis.generator_proportion_eia923(g9, id_col='plant_id_eia')\n",
    "# proportion_gen_pudl = analysis.generator_proportion_eia923(g9, id_col='plant_id_pudl')"
   ]
  },
  {
   "cell_type": "code",
   "execution_count": 49,
   "metadata": {
    "collapsed": true
   },
   "outputs": [],
   "source": [
    "# convert Y-M-D to year\n",
    "# proportion_gen_eia.report_date = proportion_gen_eia.report_date.dt.year\n",
    "# proportion_gen_pudl.report_date = proportion_gen_pudl.report_date.dt.year"
   ]
  },
  {
   "cell_type": "code",
   "execution_count": 50,
   "metadata": {
    "collapsed": true
   },
   "outputs": [],
   "source": [
    "# testplant = proportion[proportion['plant_id_pudl']==217]\n",
    "# testplant = proportion[proportion['plant_id_eia']==7343]\n",
    "# testplant = proportion[proportion['plant_id_eia']==1091]"
   ]
  },
  {
   "cell_type": "code",
   "execution_count": 51,
   "metadata": {
    "collapsed": true
   },
   "outputs": [],
   "source": [
    "# g9[g9[\"plant_id_eia\"]==1091] #this is plant_id_pudl 217\n",
    "# g9[g9[\"plant_id_eia\"]==7343] #this is also plant_id_pudl 217"
   ]
  },
  {
   "cell_type": "markdown",
   "metadata": {},
   "source": [
    "## Generating Fuel Cost"
   ]
  },
  {
   "cell_type": "code",
   "execution_count": 116,
   "metadata": {
    "collapsed": true,
    "scrolled": false
   },
   "outputs": [],
   "source": [
    "fuel_cost = mcoe.fuel_cost(g8,g9_summed,frc9_summed, frc9_summed_plant, heat_rate)"
   ]
  },
  {
   "cell_type": "code",
   "execution_count": 117,
   "metadata": {},
   "outputs": [
    {
     "data": {
      "text/html": [
       "<div>\n",
       "<style>\n",
       "    .dataframe thead tr:only-child th {\n",
       "        text-align: right;\n",
       "    }\n",
       "\n",
       "    .dataframe thead th {\n",
       "        text-align: left;\n",
       "    }\n",
       "\n",
       "    .dataframe tbody tr th {\n",
       "        vertical-align: top;\n",
       "    }\n",
       "</style>\n",
       "<table border=\"1\" class=\"dataframe\">\n",
       "  <thead>\n",
       "    <tr style=\"text-align: right;\">\n",
       "      <th></th>\n",
       "      <th>complete_assn</th>\n",
       "      <th>fuel_consumed_mmbtu_per_gen</th>\n",
       "      <th>generator_id</th>\n",
       "      <th>heat_rate_mmbtu_mwh</th>\n",
       "      <th>net_generation_mwh</th>\n",
       "      <th>plant_assn</th>\n",
       "      <th>plant_id_eia</th>\n",
       "      <th>plant_id_pudl</th>\n",
       "      <th>report_year</th>\n",
       "    </tr>\n",
       "  </thead>\n",
       "  <tbody>\n",
       "    <tr>\n",
       "      <th>0</th>\n",
       "      <td>True</td>\n",
       "      <td>2282135.017</td>\n",
       "      <td>1</td>\n",
       "      <td>10.284149</td>\n",
       "      <td>221908.0</td>\n",
       "      <td>True</td>\n",
       "      <td>3</td>\n",
       "      <td>32</td>\n",
       "      <td>2009</td>\n",
       "    </tr>\n",
       "    <tr>\n",
       "      <th>1</th>\n",
       "      <td>True</td>\n",
       "      <td>4047126.185</td>\n",
       "      <td>2</td>\n",
       "      <td>10.271086</td>\n",
       "      <td>394031.0</td>\n",
       "      <td>True</td>\n",
       "      <td>3</td>\n",
       "      <td>32</td>\n",
       "      <td>2009</td>\n",
       "    </tr>\n",
       "  </tbody>\n",
       "</table>\n",
       "</div>"
      ],
      "text/plain": [
       "   complete_assn  fuel_consumed_mmbtu_per_gen generator_id  \\\n",
       "0           True                  2282135.017            1   \n",
       "1           True                  4047126.185            2   \n",
       "\n",
       "   heat_rate_mmbtu_mwh  net_generation_mwh  plant_assn  plant_id_eia  \\\n",
       "0            10.284149            221908.0        True             3   \n",
       "1            10.271086            394031.0        True             3   \n",
       "\n",
       "   plant_id_pudl  report_year  \n",
       "0             32         2009  \n",
       "1             32         2009  "
      ]
     },
     "execution_count": 117,
     "metadata": {},
     "output_type": "execute_result"
    }
   ],
   "source": [
    "# fuel_cost.plant_id_pudl.astype(int)\n",
    "heat_rate.head(2)"
   ]
  },
  {
   "cell_type": "code",
   "execution_count": 118,
   "metadata": {
    "scrolled": true
   },
   "outputs": [
    {
     "data": {
      "text/html": [
       "<div>\n",
       "<style>\n",
       "    .dataframe thead tr:only-child th {\n",
       "        text-align: right;\n",
       "    }\n",
       "\n",
       "    .dataframe thead th {\n",
       "        text-align: left;\n",
       "    }\n",
       "\n",
       "    .dataframe tbody tr th {\n",
       "        vertical-align: top;\n",
       "    }\n",
       "</style>\n",
       "<table border=\"1\" class=\"dataframe\">\n",
       "  <thead>\n",
       "    <tr style=\"text-align: right;\">\n",
       "      <th></th>\n",
       "      <th>energy_source</th>\n",
       "      <th>energy_source_cons</th>\n",
       "      <th>energy_source_count</th>\n",
       "      <th>fuel_cost</th>\n",
       "      <th>fuel_cost_per_mmbtu_average</th>\n",
       "      <th>fuel_cost_per_mwh</th>\n",
       "      <th>generator_id</th>\n",
       "      <th>heat_rate_mmbtu_mwh</th>\n",
       "      <th>mmbtu</th>\n",
       "      <th>nameplate_capacity_mw</th>\n",
       "      <th>net_generation_mwh</th>\n",
       "      <th>operator_name</th>\n",
       "      <th>plant_id_eia</th>\n",
       "      <th>plant_id_pudl</th>\n",
       "      <th>plant_id_pudl_x</th>\n",
       "      <th>plant_id_pudl_y</th>\n",
       "      <th>plant_name</th>\n",
       "      <th>report_year</th>\n",
       "      <th>state</th>\n",
       "    </tr>\n",
       "  </thead>\n",
       "  <tbody>\n",
       "    <tr>\n",
       "      <th>0</th>\n",
       "      <td>BIT</td>\n",
       "      <td>coal</td>\n",
       "      <td>1.0</td>\n",
       "      <td>2.230296e+07</td>\n",
       "      <td>3.506069</td>\n",
       "      <td>50.124608</td>\n",
       "      <td>1</td>\n",
       "      <td>14.296527</td>\n",
       "      <td>6361242.992</td>\n",
       "      <td>69.0</td>\n",
       "      <td>212068.0</td>\n",
       "      <td>Alabama Power Co</td>\n",
       "      <td>7</td>\n",
       "      <td>NaN</td>\n",
       "      <td>204</td>\n",
       "      <td>204.0</td>\n",
       "      <td>Gadsden</td>\n",
       "      <td>2009</td>\n",
       "      <td>AL</td>\n",
       "    </tr>\n",
       "    <tr>\n",
       "      <th>1</th>\n",
       "      <td>BIT</td>\n",
       "      <td>coal</td>\n",
       "      <td>1.0</td>\n",
       "      <td>2.230296e+07</td>\n",
       "      <td>3.506069</td>\n",
       "      <td>58.440151</td>\n",
       "      <td>2</td>\n",
       "      <td>16.668284</td>\n",
       "      <td>6361242.992</td>\n",
       "      <td>69.0</td>\n",
       "      <td>51262.0</td>\n",
       "      <td>Alabama Power Co</td>\n",
       "      <td>7</td>\n",
       "      <td>NaN</td>\n",
       "      <td>204</td>\n",
       "      <td>204.0</td>\n",
       "      <td>Gadsden</td>\n",
       "      <td>2009</td>\n",
       "      <td>AL</td>\n",
       "    </tr>\n",
       "  </tbody>\n",
       "</table>\n",
       "</div>"
      ],
      "text/plain": [
       "  energy_source energy_source_cons  energy_source_count     fuel_cost  \\\n",
       "0           BIT               coal                  1.0  2.230296e+07   \n",
       "1           BIT               coal                  1.0  2.230296e+07   \n",
       "\n",
       "   fuel_cost_per_mmbtu_average  fuel_cost_per_mwh generator_id  \\\n",
       "0                     3.506069          50.124608            1   \n",
       "1                     3.506069          58.440151            2   \n",
       "\n",
       "   heat_rate_mmbtu_mwh        mmbtu  nameplate_capacity_mw  \\\n",
       "0            14.296527  6361242.992                   69.0   \n",
       "1            16.668284  6361242.992                   69.0   \n",
       "\n",
       "   net_generation_mwh     operator_name  plant_id_eia  plant_id_pudl  \\\n",
       "0            212068.0  Alabama Power Co             7            NaN   \n",
       "1             51262.0  Alabama Power Co             7            NaN   \n",
       "\n",
       "   plant_id_pudl_x  plant_id_pudl_y plant_name  report_year state  \n",
       "0              204            204.0    Gadsden         2009    AL  \n",
       "1              204            204.0    Gadsden         2009    AL  "
      ]
     },
     "execution_count": 118,
     "metadata": {},
     "output_type": "execute_result"
    }
   ],
   "source": [
    "fuel_cost.head(2)"
   ]
  },
  {
   "cell_type": "markdown",
   "metadata": {},
   "source": [
    "### Merge fields together"
   ]
  },
  {
   "cell_type": "code",
   "execution_count": 56,
   "metadata": {
    "collapsed": true
   },
   "outputs": [],
   "source": [
    "mcoe_by_generator = fuel_cost[['plant_id_eia',\n",
    "                               'plant_id_pudl',\n",
    "                               'report_year',\n",
    "                               'generator_id',\n",
    "                               'energy_source',\n",
    "                               'mmbtu',\n",
    "                               'fuel_cost',\n",
    "                               'fuel_cost_per_mmbtu_average',\n",
    "                               'fuel_cost_per_mwh']].merge(heat_rate,\n",
    "                                                           on=['plant_id_eia', 'plant_id_pudl','report_year','generator_id'])"
   ]
  },
  {
   "cell_type": "code",
   "execution_count": 57,
   "metadata": {},
   "outputs": [
    {
     "data": {
      "text/html": [
       "<div>\n",
       "<style>\n",
       "    .dataframe thead tr:only-child th {\n",
       "        text-align: right;\n",
       "    }\n",
       "\n",
       "    .dataframe thead th {\n",
       "        text-align: left;\n",
       "    }\n",
       "\n",
       "    .dataframe tbody tr th {\n",
       "        vertical-align: top;\n",
       "    }\n",
       "</style>\n",
       "<table border=\"1\" class=\"dataframe\">\n",
       "  <thead>\n",
       "    <tr style=\"text-align: right;\">\n",
       "      <th></th>\n",
       "      <th>plant_id_eia</th>\n",
       "      <th>plant_id_pudl</th>\n",
       "      <th>report_year</th>\n",
       "      <th>generator_id</th>\n",
       "      <th>energy_source</th>\n",
       "      <th>mmbtu</th>\n",
       "      <th>fuel_cost</th>\n",
       "      <th>fuel_cost_per_mmbtu_average</th>\n",
       "      <th>fuel_cost_per_mwh</th>\n",
       "      <th>complete_assn</th>\n",
       "      <th>fuel_consumed_mmbtu_per_gen</th>\n",
       "      <th>heat_rate_mmbtu_mwh</th>\n",
       "      <th>net_generation_mwh</th>\n",
       "      <th>plant_assn</th>\n",
       "    </tr>\n",
       "  </thead>\n",
       "  <tbody>\n",
       "    <tr>\n",
       "      <th>0</th>\n",
       "      <td>3</td>\n",
       "      <td>32.0</td>\n",
       "      <td>2009</td>\n",
       "      <td>1</td>\n",
       "      <td>BIT</td>\n",
       "      <td>8.784741e+07</td>\n",
       "      <td>3.019373e+08</td>\n",
       "      <td>3.437065</td>\n",
       "      <td>35.34729</td>\n",
       "      <td>True</td>\n",
       "      <td>2282135.017</td>\n",
       "      <td>10.284149</td>\n",
       "      <td>221908.0</td>\n",
       "      <td>True</td>\n",
       "    </tr>\n",
       "    <tr>\n",
       "      <th>1</th>\n",
       "      <td>3</td>\n",
       "      <td>32.0</td>\n",
       "      <td>2009</td>\n",
       "      <td>2</td>\n",
       "      <td>BIT</td>\n",
       "      <td>8.784741e+07</td>\n",
       "      <td>3.019373e+08</td>\n",
       "      <td>3.437065</td>\n",
       "      <td>35.30239</td>\n",
       "      <td>True</td>\n",
       "      <td>4047126.185</td>\n",
       "      <td>10.271086</td>\n",
       "      <td>394031.0</td>\n",
       "      <td>True</td>\n",
       "    </tr>\n",
       "  </tbody>\n",
       "</table>\n",
       "</div>"
      ],
      "text/plain": [
       "   plant_id_eia  plant_id_pudl  report_year generator_id energy_source  \\\n",
       "0             3           32.0         2009            1           BIT   \n",
       "1             3           32.0         2009            2           BIT   \n",
       "\n",
       "          mmbtu     fuel_cost  fuel_cost_per_mmbtu_average  fuel_cost_per_mwh  \\\n",
       "0  8.784741e+07  3.019373e+08                     3.437065           35.34729   \n",
       "1  8.784741e+07  3.019373e+08                     3.437065           35.30239   \n",
       "\n",
       "   complete_assn  fuel_consumed_mmbtu_per_gen  heat_rate_mmbtu_mwh  \\\n",
       "0           True                  2282135.017            10.284149   \n",
       "1           True                  4047126.185            10.271086   \n",
       "\n",
       "   net_generation_mwh  plant_assn  \n",
       "0            221908.0        True  \n",
       "1            394031.0        True  "
      ]
     },
     "execution_count": 57,
     "metadata": {},
     "output_type": "execute_result"
    }
   ],
   "source": [
    "mcoe_by_generator.head(2)"
   ]
  },
  {
   "cell_type": "code",
   "execution_count": 58,
   "metadata": {
    "collapsed": true
   },
   "outputs": [],
   "source": [
    "mcoe_by_generator = mcoe_by_generator.merge(capacity_factor.drop('net_generation_mwh', axis=1),\n",
    "                                            on=['plant_id_eia','plant_id_pudl','report_year','generator_id'])\n"
   ]
  },
  {
   "cell_type": "code",
   "execution_count": 59,
   "metadata": {},
   "outputs": [
    {
     "data": {
      "text/html": [
       "<div>\n",
       "<style>\n",
       "    .dataframe thead tr:only-child th {\n",
       "        text-align: right;\n",
       "    }\n",
       "\n",
       "    .dataframe thead th {\n",
       "        text-align: left;\n",
       "    }\n",
       "\n",
       "    .dataframe tbody tr th {\n",
       "        vertical-align: top;\n",
       "    }\n",
       "</style>\n",
       "<table border=\"1\" class=\"dataframe\">\n",
       "  <thead>\n",
       "    <tr style=\"text-align: right;\">\n",
       "      <th></th>\n",
       "      <th>plant_id_eia</th>\n",
       "      <th>plant_id_pudl</th>\n",
       "      <th>report_year</th>\n",
       "      <th>generator_id</th>\n",
       "      <th>energy_source_x</th>\n",
       "      <th>mmbtu</th>\n",
       "      <th>fuel_cost</th>\n",
       "      <th>fuel_cost_per_mmbtu_average</th>\n",
       "      <th>fuel_cost_per_mwh</th>\n",
       "      <th>complete_assn</th>\n",
       "      <th>fuel_consumed_mmbtu_per_gen</th>\n",
       "      <th>heat_rate_mmbtu_mwh</th>\n",
       "      <th>net_generation_mwh</th>\n",
       "      <th>plant_assn</th>\n",
       "      <th>plant_name</th>\n",
       "      <th>operator_name</th>\n",
       "      <th>state</th>\n",
       "      <th>energy_source_y</th>\n",
       "      <th>nameplate_capacity_mw</th>\n",
       "      <th>energy_source_cons</th>\n",
       "      <th>energy_source_count</th>\n",
       "      <th>capacity_factor</th>\n",
       "    </tr>\n",
       "  </thead>\n",
       "  <tbody>\n",
       "    <tr>\n",
       "      <th>0</th>\n",
       "      <td>3</td>\n",
       "      <td>32</td>\n",
       "      <td>2009</td>\n",
       "      <td>1</td>\n",
       "      <td>BIT</td>\n",
       "      <td>8.784741e+07</td>\n",
       "      <td>3.019373e+08</td>\n",
       "      <td>3.437065</td>\n",
       "      <td>35.34729</td>\n",
       "      <td>True</td>\n",
       "      <td>2282135.017</td>\n",
       "      <td>10.284149</td>\n",
       "      <td>221908.0</td>\n",
       "      <td>True</td>\n",
       "      <td>Barry</td>\n",
       "      <td>Alabama Power Co</td>\n",
       "      <td>AL</td>\n",
       "      <td>BIT</td>\n",
       "      <td>153.1</td>\n",
       "      <td>coal</td>\n",
       "      <td>2</td>\n",
       "      <td>0.16546</td>\n",
       "    </tr>\n",
       "    <tr>\n",
       "      <th>1</th>\n",
       "      <td>3</td>\n",
       "      <td>32</td>\n",
       "      <td>2009</td>\n",
       "      <td>2</td>\n",
       "      <td>BIT</td>\n",
       "      <td>8.784741e+07</td>\n",
       "      <td>3.019373e+08</td>\n",
       "      <td>3.437065</td>\n",
       "      <td>35.30239</td>\n",
       "      <td>True</td>\n",
       "      <td>4047126.185</td>\n",
       "      <td>10.271086</td>\n",
       "      <td>394031.0</td>\n",
       "      <td>True</td>\n",
       "      <td>Barry</td>\n",
       "      <td>Alabama Power Co</td>\n",
       "      <td>AL</td>\n",
       "      <td>BIT</td>\n",
       "      <td>153.1</td>\n",
       "      <td>coal</td>\n",
       "      <td>2</td>\n",
       "      <td>0.29380</td>\n",
       "    </tr>\n",
       "  </tbody>\n",
       "</table>\n",
       "</div>"
      ],
      "text/plain": [
       "   plant_id_eia plant_id_pudl  report_year generator_id energy_source_x  \\\n",
       "0             3            32         2009            1             BIT   \n",
       "1             3            32         2009            2             BIT   \n",
       "\n",
       "          mmbtu     fuel_cost  fuel_cost_per_mmbtu_average  fuel_cost_per_mwh  \\\n",
       "0  8.784741e+07  3.019373e+08                     3.437065           35.34729   \n",
       "1  8.784741e+07  3.019373e+08                     3.437065           35.30239   \n",
       "\n",
       "   complete_assn  fuel_consumed_mmbtu_per_gen  heat_rate_mmbtu_mwh  \\\n",
       "0           True                  2282135.017            10.284149   \n",
       "1           True                  4047126.185            10.271086   \n",
       "\n",
       "   net_generation_mwh  plant_assn plant_name     operator_name state  \\\n",
       "0            221908.0        True      Barry  Alabama Power Co    AL   \n",
       "1            394031.0        True      Barry  Alabama Power Co    AL   \n",
       "\n",
       "  energy_source_y  nameplate_capacity_mw energy_source_cons  \\\n",
       "0             BIT                  153.1               coal   \n",
       "1             BIT                  153.1               coal   \n",
       "\n",
       "   energy_source_count  capacity_factor  \n",
       "0                    2          0.16546  \n",
       "1                    2          0.29380  "
      ]
     },
     "execution_count": 59,
     "metadata": {},
     "output_type": "execute_result"
    }
   ],
   "source": [
    "mcoe_by_generator.head(2)"
   ]
  },
  {
   "cell_type": "code",
   "execution_count": 60,
   "metadata": {
    "collapsed": true
   },
   "outputs": [],
   "source": [
    "mcoe_by_generator = mcoe_by_generator.merge(bf9_plant_summed, on=['plant_id_eia', 'plant_id_pudl','report_year'])"
   ]
  },
  {
   "cell_type": "code",
   "execution_count": 61,
   "metadata": {
    "collapsed": true
   },
   "outputs": [],
   "source": [
    "mcoe_by_generator.rename(columns={'energy_source_x': 'energy_source'},inplace=True)\n",
    "mcoe_by_generator.drop('energy_source_y', axis=1, inplace=True)"
   ]
  },
  {
   "cell_type": "code",
   "execution_count": 62,
   "metadata": {},
   "outputs": [
    {
     "data": {
      "text/html": [
       "<div>\n",
       "<style>\n",
       "    .dataframe thead tr:only-child th {\n",
       "        text-align: right;\n",
       "    }\n",
       "\n",
       "    .dataframe thead th {\n",
       "        text-align: left;\n",
       "    }\n",
       "\n",
       "    .dataframe tbody tr th {\n",
       "        vertical-align: top;\n",
       "    }\n",
       "</style>\n",
       "<table border=\"1\" class=\"dataframe\">\n",
       "  <thead>\n",
       "    <tr style=\"text-align: right;\">\n",
       "      <th></th>\n",
       "      <th>energy_source</th>\n",
       "      <th>energy_source_cons</th>\n",
       "      <th>energy_source_count</th>\n",
       "      <th>fuel_cost</th>\n",
       "      <th>fuel_cost_per_mmbtu_average</th>\n",
       "      <th>fuel_cost_per_mwh</th>\n",
       "      <th>generator_id</th>\n",
       "      <th>heat_rate_mmbtu_mwh</th>\n",
       "      <th>mmbtu</th>\n",
       "      <th>nameplate_capacity_mw</th>\n",
       "      <th>net_generation_mwh</th>\n",
       "      <th>operator_name</th>\n",
       "      <th>plant_id_eia</th>\n",
       "      <th>plant_id_pudl</th>\n",
       "      <th>plant_id_pudl_x</th>\n",
       "      <th>plant_id_pudl_y</th>\n",
       "      <th>plant_name</th>\n",
       "      <th>report_year</th>\n",
       "      <th>state</th>\n",
       "    </tr>\n",
       "  </thead>\n",
       "  <tbody>\n",
       "    <tr>\n",
       "      <th>0</th>\n",
       "      <td>BIT</td>\n",
       "      <td>coal</td>\n",
       "      <td>1.0</td>\n",
       "      <td>2.230296e+07</td>\n",
       "      <td>3.506069</td>\n",
       "      <td>50.124608</td>\n",
       "      <td>1</td>\n",
       "      <td>14.296527</td>\n",
       "      <td>6.361243e+06</td>\n",
       "      <td>69.0</td>\n",
       "      <td>212068.0</td>\n",
       "      <td>Alabama Power Co</td>\n",
       "      <td>7</td>\n",
       "      <td>NaN</td>\n",
       "      <td>204</td>\n",
       "      <td>204.0</td>\n",
       "      <td>Gadsden</td>\n",
       "      <td>2009</td>\n",
       "      <td>AL</td>\n",
       "    </tr>\n",
       "    <tr>\n",
       "      <th>1</th>\n",
       "      <td>BIT</td>\n",
       "      <td>coal</td>\n",
       "      <td>1.0</td>\n",
       "      <td>2.230296e+07</td>\n",
       "      <td>3.506069</td>\n",
       "      <td>58.440151</td>\n",
       "      <td>2</td>\n",
       "      <td>16.668284</td>\n",
       "      <td>6.361243e+06</td>\n",
       "      <td>69.0</td>\n",
       "      <td>51262.0</td>\n",
       "      <td>Alabama Power Co</td>\n",
       "      <td>7</td>\n",
       "      <td>NaN</td>\n",
       "      <td>204</td>\n",
       "      <td>204.0</td>\n",
       "      <td>Gadsden</td>\n",
       "      <td>2009</td>\n",
       "      <td>AL</td>\n",
       "    </tr>\n",
       "    <tr>\n",
       "      <th>2</th>\n",
       "      <td>BIT</td>\n",
       "      <td>coal</td>\n",
       "      <td>1.0</td>\n",
       "      <td>2.192017e+08</td>\n",
       "      <td>3.851362</td>\n",
       "      <td>37.798547</td>\n",
       "      <td>10</td>\n",
       "      <td>9.814333</td>\n",
       "      <td>5.691537e+07</td>\n",
       "      <td>788.8</td>\n",
       "      <td>3933248.0</td>\n",
       "      <td>Alabama Power Co</td>\n",
       "      <td>8</td>\n",
       "      <td>NaN</td>\n",
       "      <td>227</td>\n",
       "      <td>227.0</td>\n",
       "      <td>Gorgas</td>\n",
       "      <td>2009</td>\n",
       "      <td>AL</td>\n",
       "    </tr>\n",
       "    <tr>\n",
       "      <th>3</th>\n",
       "      <td>BIT</td>\n",
       "      <td>coal</td>\n",
       "      <td>1.0</td>\n",
       "      <td>2.192017e+08</td>\n",
       "      <td>3.851362</td>\n",
       "      <td>49.761033</td>\n",
       "      <td>6</td>\n",
       "      <td>12.920373</td>\n",
       "      <td>5.691537e+07</td>\n",
       "      <td>125.0</td>\n",
       "      <td>98792.0</td>\n",
       "      <td>Alabama Power Co</td>\n",
       "      <td>8</td>\n",
       "      <td>NaN</td>\n",
       "      <td>227</td>\n",
       "      <td>227.0</td>\n",
       "      <td>Gorgas</td>\n",
       "      <td>2009</td>\n",
       "      <td>AL</td>\n",
       "    </tr>\n",
       "    <tr>\n",
       "      <th>4</th>\n",
       "      <td>BIT</td>\n",
       "      <td>coal</td>\n",
       "      <td>1.0</td>\n",
       "      <td>2.192017e+08</td>\n",
       "      <td>3.851362</td>\n",
       "      <td>50.018497</td>\n",
       "      <td>7</td>\n",
       "      <td>12.987224</td>\n",
       "      <td>5.691537e+07</td>\n",
       "      <td>125.0</td>\n",
       "      <td>89753.0</td>\n",
       "      <td>Alabama Power Co</td>\n",
       "      <td>8</td>\n",
       "      <td>NaN</td>\n",
       "      <td>227</td>\n",
       "      <td>227.0</td>\n",
       "      <td>Gorgas</td>\n",
       "      <td>2009</td>\n",
       "      <td>AL</td>\n",
       "    </tr>\n",
       "  </tbody>\n",
       "</table>\n",
       "</div>"
      ],
      "text/plain": [
       "  energy_source energy_source_cons  energy_source_count     fuel_cost  \\\n",
       "0           BIT               coal                  1.0  2.230296e+07   \n",
       "1           BIT               coal                  1.0  2.230296e+07   \n",
       "2           BIT               coal                  1.0  2.192017e+08   \n",
       "3           BIT               coal                  1.0  2.192017e+08   \n",
       "4           BIT               coal                  1.0  2.192017e+08   \n",
       "\n",
       "   fuel_cost_per_mmbtu_average  fuel_cost_per_mwh generator_id  \\\n",
       "0                     3.506069          50.124608            1   \n",
       "1                     3.506069          58.440151            2   \n",
       "2                     3.851362          37.798547           10   \n",
       "3                     3.851362          49.761033            6   \n",
       "4                     3.851362          50.018497            7   \n",
       "\n",
       "   heat_rate_mmbtu_mwh         mmbtu  nameplate_capacity_mw  \\\n",
       "0            14.296527  6.361243e+06                   69.0   \n",
       "1            16.668284  6.361243e+06                   69.0   \n",
       "2             9.814333  5.691537e+07                  788.8   \n",
       "3            12.920373  5.691537e+07                  125.0   \n",
       "4            12.987224  5.691537e+07                  125.0   \n",
       "\n",
       "   net_generation_mwh     operator_name  plant_id_eia  plant_id_pudl  \\\n",
       "0            212068.0  Alabama Power Co             7            NaN   \n",
       "1             51262.0  Alabama Power Co             7            NaN   \n",
       "2           3933248.0  Alabama Power Co             8            NaN   \n",
       "3             98792.0  Alabama Power Co             8            NaN   \n",
       "4             89753.0  Alabama Power Co             8            NaN   \n",
       "\n",
       "   plant_id_pudl_x  plant_id_pudl_y plant_name  report_year state  \n",
       "0              204            204.0    Gadsden         2009    AL  \n",
       "1              204            204.0    Gadsden         2009    AL  \n",
       "2              227            227.0     Gorgas         2009    AL  \n",
       "3              227            227.0     Gorgas         2009    AL  \n",
       "4              227            227.0     Gorgas         2009    AL  "
      ]
     },
     "execution_count": 62,
     "metadata": {},
     "output_type": "execute_result"
    }
   ],
   "source": [
    "fuel_cost.head(5)"
   ]
  },
  {
   "cell_type": "markdown",
   "metadata": {},
   "source": [
    "### Filter to include only plants >= 10 MW"
   ]
  },
  {
   "cell_type": "code",
   "execution_count": 63,
   "metadata": {
    "collapsed": true
   },
   "outputs": [],
   "source": [
    "# Now, let's grab only those plants larger than 10MW\n",
    "mcoe_by_generator = mcoe_by_generator[mcoe_by_generator['nameplate_capacity_mw']>=10]"
   ]
  },
  {
   "cell_type": "markdown",
   "metadata": {},
   "source": [
    "## Aggregate at fuel cost and net gen at plant level for comparison with FERC"
   ]
  },
  {
   "cell_type": "code",
   "execution_count": 64,
   "metadata": {
    "collapsed": true
   },
   "outputs": [],
   "source": [
    "eia_fuel = analysis.yearly_sum_eia(frc9_summed, 'fuel_cost', columns=['plant_id_eia','report_year'])\n",
    "fuel_summed = eia_fuel.reset_index()\n",
    "fuel_summed.rename(columns={'fuel_cost': 'fuel_cost_annual_eia'}, inplace=True)\n",
    "fuel_summed = fuel_summed.reset_index()"
   ]
  },
  {
   "cell_type": "code",
   "execution_count": 65,
   "metadata": {},
   "outputs": [
    {
     "data": {
      "text/html": [
       "<div>\n",
       "<style>\n",
       "    .dataframe thead tr:only-child th {\n",
       "        text-align: right;\n",
       "    }\n",
       "\n",
       "    .dataframe thead th {\n",
       "        text-align: left;\n",
       "    }\n",
       "\n",
       "    .dataframe tbody tr th {\n",
       "        vertical-align: top;\n",
       "    }\n",
       "</style>\n",
       "<table border=\"1\" class=\"dataframe\">\n",
       "  <thead>\n",
       "    <tr style=\"text-align: right;\">\n",
       "      <th></th>\n",
       "      <th>plant_id_eia</th>\n",
       "      <th>plant_id_pudl</th>\n",
       "      <th>report_year</th>\n",
       "      <th>generator_id</th>\n",
       "      <th>energy_source</th>\n",
       "      <th>mmbtu</th>\n",
       "      <th>fuel_cost</th>\n",
       "      <th>fuel_cost_per_mmbtu_average</th>\n",
       "      <th>fuel_cost_per_mwh</th>\n",
       "      <th>complete_assn</th>\n",
       "      <th>fuel_consumed_mmbtu_per_gen</th>\n",
       "      <th>heat_rate_mmbtu_mwh</th>\n",
       "      <th>net_generation_mwh</th>\n",
       "      <th>plant_assn</th>\n",
       "      <th>plant_name</th>\n",
       "      <th>operator_name</th>\n",
       "      <th>state</th>\n",
       "      <th>nameplate_capacity_mw</th>\n",
       "      <th>energy_source_cons</th>\n",
       "      <th>energy_source_count</th>\n",
       "      <th>capacity_factor</th>\n",
       "      <th>fuel_consumed_mmbtu</th>\n",
       "    </tr>\n",
       "  </thead>\n",
       "  <tbody>\n",
       "    <tr>\n",
       "      <th>0</th>\n",
       "      <td>3</td>\n",
       "      <td>32</td>\n",
       "      <td>2009</td>\n",
       "      <td>1</td>\n",
       "      <td>BIT</td>\n",
       "      <td>8.784741e+07</td>\n",
       "      <td>3.019373e+08</td>\n",
       "      <td>3.437065</td>\n",
       "      <td>35.34729</td>\n",
       "      <td>True</td>\n",
       "      <td>2282135.017</td>\n",
       "      <td>10.284149</td>\n",
       "      <td>221908.0</td>\n",
       "      <td>True</td>\n",
       "      <td>Barry</td>\n",
       "      <td>Alabama Power Co</td>\n",
       "      <td>AL</td>\n",
       "      <td>153.1</td>\n",
       "      <td>coal</td>\n",
       "      <td>2</td>\n",
       "      <td>0.16546</td>\n",
       "      <td>8.057854e+07</td>\n",
       "    </tr>\n",
       "    <tr>\n",
       "      <th>1</th>\n",
       "      <td>3</td>\n",
       "      <td>32</td>\n",
       "      <td>2009</td>\n",
       "      <td>2</td>\n",
       "      <td>BIT</td>\n",
       "      <td>8.784741e+07</td>\n",
       "      <td>3.019373e+08</td>\n",
       "      <td>3.437065</td>\n",
       "      <td>35.30239</td>\n",
       "      <td>True</td>\n",
       "      <td>4047126.185</td>\n",
       "      <td>10.271086</td>\n",
       "      <td>394031.0</td>\n",
       "      <td>True</td>\n",
       "      <td>Barry</td>\n",
       "      <td>Alabama Power Co</td>\n",
       "      <td>AL</td>\n",
       "      <td>153.1</td>\n",
       "      <td>coal</td>\n",
       "      <td>2</td>\n",
       "      <td>0.29380</td>\n",
       "      <td>8.057854e+07</td>\n",
       "    </tr>\n",
       "  </tbody>\n",
       "</table>\n",
       "</div>"
      ],
      "text/plain": [
       "   plant_id_eia plant_id_pudl  report_year generator_id energy_source  \\\n",
       "0             3            32         2009            1           BIT   \n",
       "1             3            32         2009            2           BIT   \n",
       "\n",
       "          mmbtu     fuel_cost  fuel_cost_per_mmbtu_average  fuel_cost_per_mwh  \\\n",
       "0  8.784741e+07  3.019373e+08                     3.437065           35.34729   \n",
       "1  8.784741e+07  3.019373e+08                     3.437065           35.30239   \n",
       "\n",
       "   complete_assn  fuel_consumed_mmbtu_per_gen  heat_rate_mmbtu_mwh  \\\n",
       "0           True                  2282135.017            10.284149   \n",
       "1           True                  4047126.185            10.271086   \n",
       "\n",
       "   net_generation_mwh  plant_assn plant_name     operator_name state  \\\n",
       "0            221908.0        True      Barry  Alabama Power Co    AL   \n",
       "1            394031.0        True      Barry  Alabama Power Co    AL   \n",
       "\n",
       "   nameplate_capacity_mw energy_source_cons  energy_source_count  \\\n",
       "0                  153.1               coal                    2   \n",
       "1                  153.1               coal                    2   \n",
       "\n",
       "   capacity_factor  fuel_consumed_mmbtu  \n",
       "0          0.16546         8.057854e+07  \n",
       "1          0.29380         8.057854e+07  "
      ]
     },
     "execution_count": 65,
     "metadata": {},
     "output_type": "execute_result"
    }
   ],
   "source": [
    "mcoe_by_generator.head(2)"
   ]
  },
  {
   "cell_type": "code",
   "execution_count": 66,
   "metadata": {
    "collapsed": true,
    "scrolled": false
   },
   "outputs": [],
   "source": [
    "eia_netgen = mcoe_by_generator.groupby(by=['plant_id_eia', 'plant_id_pudl','report_year'])\n",
    "netgen_summed = eia_netgen.agg({'net_generation_mwh':np.sum})\n",
    "netgen_summed.rename(columns={'net_generation_mwh': 'net_generation_mwh_plant_eia'}, inplace=True)\n",
    "netgen_summed = netgen_summed.reset_index()"
   ]
  },
  {
   "cell_type": "code",
   "execution_count": 67,
   "metadata": {
    "collapsed": true
   },
   "outputs": [],
   "source": [
    "mcoe_by_generator2 = mcoe_by_generator.merge(fuel_summed, how=\"left\", left_on=['plant_id_eia', 'report_year'], \n",
    "                                             right_on=['plant_id_eia', 'report_year'])"
   ]
  },
  {
   "cell_type": "code",
   "execution_count": 68,
   "metadata": {},
   "outputs": [
    {
     "data": {
      "text/html": [
       "<div>\n",
       "<style>\n",
       "    .dataframe thead tr:only-child th {\n",
       "        text-align: right;\n",
       "    }\n",
       "\n",
       "    .dataframe thead th {\n",
       "        text-align: left;\n",
       "    }\n",
       "\n",
       "    .dataframe tbody tr th {\n",
       "        vertical-align: top;\n",
       "    }\n",
       "</style>\n",
       "<table border=\"1\" class=\"dataframe\">\n",
       "  <thead>\n",
       "    <tr style=\"text-align: right;\">\n",
       "      <th></th>\n",
       "      <th>plant_id_eia</th>\n",
       "      <th>plant_id_pudl</th>\n",
       "      <th>report_year</th>\n",
       "      <th>net_generation_mwh_plant_eia</th>\n",
       "    </tr>\n",
       "  </thead>\n",
       "  <tbody>\n",
       "    <tr>\n",
       "      <th>0</th>\n",
       "      <td>3</td>\n",
       "      <td>32.0</td>\n",
       "      <td>2009</td>\n",
       "      <td>10198410.0</td>\n",
       "    </tr>\n",
       "    <tr>\n",
       "      <th>1</th>\n",
       "      <td>3</td>\n",
       "      <td>32.0</td>\n",
       "      <td>2010</td>\n",
       "      <td>10439955.0</td>\n",
       "    </tr>\n",
       "  </tbody>\n",
       "</table>\n",
       "</div>"
      ],
      "text/plain": [
       "   plant_id_eia  plant_id_pudl  report_year  net_generation_mwh_plant_eia\n",
       "0             3           32.0         2009                    10198410.0\n",
       "1             3           32.0         2010                    10439955.0"
      ]
     },
     "execution_count": 68,
     "metadata": {},
     "output_type": "execute_result"
    }
   ],
   "source": [
    "netgen_summed.head(2)"
   ]
  },
  {
   "cell_type": "code",
   "execution_count": 69,
   "metadata": {
    "collapsed": true
   },
   "outputs": [],
   "source": [
    "mcoe_by_generator3 = mcoe_by_generator2.merge(netgen_summed, how=\"left\", on=['plant_id_eia', 'plant_id_pudl', 'report_year'])"
   ]
  },
  {
   "cell_type": "code",
   "execution_count": 70,
   "metadata": {},
   "outputs": [
    {
     "data": {
      "text/html": [
       "<div>\n",
       "<style>\n",
       "    .dataframe thead tr:only-child th {\n",
       "        text-align: right;\n",
       "    }\n",
       "\n",
       "    .dataframe thead th {\n",
       "        text-align: left;\n",
       "    }\n",
       "\n",
       "    .dataframe tbody tr th {\n",
       "        vertical-align: top;\n",
       "    }\n",
       "</style>\n",
       "<table border=\"1\" class=\"dataframe\">\n",
       "  <thead>\n",
       "    <tr style=\"text-align: right;\">\n",
       "      <th></th>\n",
       "      <th>plant_id_eia</th>\n",
       "      <th>plant_id_pudl</th>\n",
       "      <th>report_year</th>\n",
       "      <th>generator_id</th>\n",
       "      <th>energy_source</th>\n",
       "      <th>mmbtu</th>\n",
       "      <th>fuel_cost</th>\n",
       "      <th>fuel_cost_per_mmbtu_average</th>\n",
       "      <th>fuel_cost_per_mwh</th>\n",
       "      <th>complete_assn</th>\n",
       "      <th>fuel_consumed_mmbtu_per_gen</th>\n",
       "      <th>heat_rate_mmbtu_mwh</th>\n",
       "      <th>net_generation_mwh</th>\n",
       "      <th>plant_assn</th>\n",
       "      <th>plant_name</th>\n",
       "      <th>operator_name</th>\n",
       "      <th>state</th>\n",
       "      <th>nameplate_capacity_mw</th>\n",
       "      <th>energy_source_cons</th>\n",
       "      <th>energy_source_count</th>\n",
       "      <th>capacity_factor</th>\n",
       "      <th>fuel_consumed_mmbtu</th>\n",
       "      <th>index</th>\n",
       "      <th>fuel_cost_annual_eia</th>\n",
       "      <th>net_generation_mwh_plant_eia</th>\n",
       "    </tr>\n",
       "  </thead>\n",
       "  <tbody>\n",
       "    <tr>\n",
       "      <th>0</th>\n",
       "      <td>3</td>\n",
       "      <td>32</td>\n",
       "      <td>2009</td>\n",
       "      <td>1</td>\n",
       "      <td>BIT</td>\n",
       "      <td>8.784741e+07</td>\n",
       "      <td>3.019373e+08</td>\n",
       "      <td>3.437065</td>\n",
       "      <td>35.34729</td>\n",
       "      <td>True</td>\n",
       "      <td>2282135.017</td>\n",
       "      <td>10.284149</td>\n",
       "      <td>221908.0</td>\n",
       "      <td>True</td>\n",
       "      <td>Barry</td>\n",
       "      <td>Alabama Power Co</td>\n",
       "      <td>AL</td>\n",
       "      <td>153.1</td>\n",
       "      <td>coal</td>\n",
       "      <td>2</td>\n",
       "      <td>0.16546</td>\n",
       "      <td>8.057854e+07</td>\n",
       "      <td>0</td>\n",
       "      <td>4.900578e+08</td>\n",
       "      <td>10198410.0</td>\n",
       "    </tr>\n",
       "    <tr>\n",
       "      <th>1</th>\n",
       "      <td>3</td>\n",
       "      <td>32</td>\n",
       "      <td>2009</td>\n",
       "      <td>2</td>\n",
       "      <td>BIT</td>\n",
       "      <td>8.784741e+07</td>\n",
       "      <td>3.019373e+08</td>\n",
       "      <td>3.437065</td>\n",
       "      <td>35.30239</td>\n",
       "      <td>True</td>\n",
       "      <td>4047126.185</td>\n",
       "      <td>10.271086</td>\n",
       "      <td>394031.0</td>\n",
       "      <td>True</td>\n",
       "      <td>Barry</td>\n",
       "      <td>Alabama Power Co</td>\n",
       "      <td>AL</td>\n",
       "      <td>153.1</td>\n",
       "      <td>coal</td>\n",
       "      <td>2</td>\n",
       "      <td>0.29380</td>\n",
       "      <td>8.057854e+07</td>\n",
       "      <td>0</td>\n",
       "      <td>4.900578e+08</td>\n",
       "      <td>10198410.0</td>\n",
       "    </tr>\n",
       "  </tbody>\n",
       "</table>\n",
       "</div>"
      ],
      "text/plain": [
       "   plant_id_eia plant_id_pudl  report_year generator_id energy_source  \\\n",
       "0             3            32         2009            1           BIT   \n",
       "1             3            32         2009            2           BIT   \n",
       "\n",
       "          mmbtu     fuel_cost  fuel_cost_per_mmbtu_average  fuel_cost_per_mwh  \\\n",
       "0  8.784741e+07  3.019373e+08                     3.437065           35.34729   \n",
       "1  8.784741e+07  3.019373e+08                     3.437065           35.30239   \n",
       "\n",
       "   complete_assn  fuel_consumed_mmbtu_per_gen  heat_rate_mmbtu_mwh  \\\n",
       "0           True                  2282135.017            10.284149   \n",
       "1           True                  4047126.185            10.271086   \n",
       "\n",
       "   net_generation_mwh  plant_assn plant_name     operator_name state  \\\n",
       "0            221908.0        True      Barry  Alabama Power Co    AL   \n",
       "1            394031.0        True      Barry  Alabama Power Co    AL   \n",
       "\n",
       "   nameplate_capacity_mw energy_source_cons  energy_source_count  \\\n",
       "0                  153.1               coal                    2   \n",
       "1                  153.1               coal                    2   \n",
       "\n",
       "   capacity_factor  fuel_consumed_mmbtu  index  fuel_cost_annual_eia  \\\n",
       "0          0.16546         8.057854e+07      0          4.900578e+08   \n",
       "1          0.29380         8.057854e+07      0          4.900578e+08   \n",
       "\n",
       "   net_generation_mwh_plant_eia  \n",
       "0                    10198410.0  \n",
       "1                    10198410.0  "
      ]
     },
     "execution_count": 70,
     "metadata": {},
     "output_type": "execute_result"
    }
   ],
   "source": [
    "mcoe_by_generator3.head(2)"
   ]
  },
  {
   "cell_type": "code",
   "execution_count": 71,
   "metadata": {
    "collapsed": true
   },
   "outputs": [],
   "source": [
    "# mcoe_by_generator4 = pd.merge(mcoe_by_generator3,\n",
    "#                               capacity_eia[['proportion_of_plant_capacity','plant_id_eia', 'plant_id_pudl', 'report_date', 'generator_id']],\n",
    "#                               on=['plant_id_eia','plant_id_pudl', 'report_date', 'generator_id'], how='left')\n",
    "# mcoe_by_generator4 = mcoe_by_generator4.rename(columns={'proportion_of_plant_capacity': 'proportion_of_eia_plant_capacity'})\n",
    "\n",
    "# mcoe_by_generator5 = pd.merge(mcoe_by_generator4,\n",
    "#                               capacity_pudl[['proportion_of_plant_capacity', 'plant_id_eia', 'plant_id_pudl','report_date', 'generator_id']],\n",
    "#                               on=['plant_id_eia','plant_id_pudl', 'report_date', 'generator_id'], how='left')\n",
    "# mcoe_by_generator5 = mcoe_by_generator5.rename(columns={'proportion_of_plant_capacity': 'proportion_of_pudl_plant_capacity'})\n",
    "\n",
    "\n"
   ]
  },
  {
   "cell_type": "code",
   "execution_count": 72,
   "metadata": {
    "collapsed": true
   },
   "outputs": [],
   "source": [
    "# mcoe_by_generator6 = pd.merge(mcoe_by_generator5,\n",
    "#                               proportion_gen_eia[['proportion_of_generation','plant_id_eia',  'report_date', 'generator_id']],\n",
    "#                              on=['plant_id_eia', 'report_date', 'generator_id'], how='left')\n",
    "# mcoe_by_generator6 = mcoe_by_generator6.rename(columns={'proportion_of_plant_capacity': 'proportion_of_eia_plant_capacity'})\n",
    "\n",
    "# mcoe_by_generator7 = pd.merge(mcoe_by_generator6,\n",
    "#                               proportion_gen_pudl[['proportion_of_generation','plant_id_pudl','report_date', 'generator_id']],\n",
    "#                               on=['plant_id_pudl', 'report_date', 'generator_id'], how='left')\n",
    "# mcoe_by_generator7 = mcoe_by_generator7.rename(columns={'proportion_of_plant_capacity': 'proportion_of_pudl_plant_capacity'})\n"
   ]
  },
  {
   "cell_type": "code",
   "execution_count": 73,
   "metadata": {
    "collapsed": true
   },
   "outputs": [],
   "source": [
    "mcoe_by_generator = mcoe_by_generator3"
   ]
  },
  {
   "cell_type": "markdown",
   "metadata": {},
   "source": [
    "## Export the data frame"
   ]
  },
  {
   "cell_type": "code",
   "execution_count": 74,
   "metadata": {
    "collapsed": true
   },
   "outputs": [],
   "source": [
    "# rearrange columns\n",
    "mcoe_by_generator = mcoe_by_generator3[[\n",
    "    'plant_id_eia', \n",
    "    'plant_id_pudl',\n",
    "    'plant_name',\n",
    "    'operator_name', \n",
    "    'state', \n",
    "    'report_year', \n",
    "    'generator_id', \n",
    "    'energy_source',\n",
    "    'mmbtu',\n",
    "    'fuel_cost',\n",
    "    'fuel_cost_per_mmbtu_average',\n",
    "    'fuel_consumed_mmbtu',\n",
    "    'fuel_consumed_mmbtu_per_gen',\n",
    "    'fuel_cost_annual_eia',\n",
    "    'heat_rate_mmbtu_mwh', \n",
    "    'plant_assn', \n",
    "    'net_generation_mwh', \n",
    "    'net_generation_mwh_plant_eia',\n",
    "    'fuel_cost_per_mwh',\n",
    "    'nameplate_capacity_mw', \n",
    "    'capacity_factor']]"
   ]
  },
  {
   "cell_type": "code",
   "execution_count": 75,
   "metadata": {},
   "outputs": [
    {
     "data": {
      "text/html": [
       "<div>\n",
       "<style>\n",
       "    .dataframe thead tr:only-child th {\n",
       "        text-align: right;\n",
       "    }\n",
       "\n",
       "    .dataframe thead th {\n",
       "        text-align: left;\n",
       "    }\n",
       "\n",
       "    .dataframe tbody tr th {\n",
       "        vertical-align: top;\n",
       "    }\n",
       "</style>\n",
       "<table border=\"1\" class=\"dataframe\">\n",
       "  <thead>\n",
       "    <tr style=\"text-align: right;\">\n",
       "      <th></th>\n",
       "      <th>plant_id_eia</th>\n",
       "      <th>plant_id_pudl</th>\n",
       "      <th>plant_name</th>\n",
       "      <th>operator_name</th>\n",
       "      <th>state</th>\n",
       "      <th>report_year</th>\n",
       "      <th>generator_id</th>\n",
       "      <th>energy_source</th>\n",
       "      <th>mmbtu</th>\n",
       "      <th>fuel_cost</th>\n",
       "      <th>fuel_cost_per_mmbtu_average</th>\n",
       "      <th>fuel_consumed_mmbtu</th>\n",
       "      <th>fuel_consumed_mmbtu_per_gen</th>\n",
       "      <th>fuel_cost_annual_eia</th>\n",
       "      <th>heat_rate_mmbtu_mwh</th>\n",
       "      <th>plant_assn</th>\n",
       "      <th>net_generation_mwh</th>\n",
       "      <th>net_generation_mwh_plant_eia</th>\n",
       "      <th>fuel_cost_per_mwh</th>\n",
       "      <th>nameplate_capacity_mw</th>\n",
       "      <th>capacity_factor</th>\n",
       "    </tr>\n",
       "  </thead>\n",
       "  <tbody>\n",
       "    <tr>\n",
       "      <th>0</th>\n",
       "      <td>3</td>\n",
       "      <td>32</td>\n",
       "      <td>Barry</td>\n",
       "      <td>Alabama Power Co</td>\n",
       "      <td>AL</td>\n",
       "      <td>2009</td>\n",
       "      <td>1</td>\n",
       "      <td>BIT</td>\n",
       "      <td>8.784741e+07</td>\n",
       "      <td>3.019373e+08</td>\n",
       "      <td>3.437065</td>\n",
       "      <td>8.057854e+07</td>\n",
       "      <td>2282135.017</td>\n",
       "      <td>4.900578e+08</td>\n",
       "      <td>10.284149</td>\n",
       "      <td>True</td>\n",
       "      <td>221908.0</td>\n",
       "      <td>10198410.0</td>\n",
       "      <td>35.34729</td>\n",
       "      <td>153.1</td>\n",
       "      <td>0.16546</td>\n",
       "    </tr>\n",
       "    <tr>\n",
       "      <th>1</th>\n",
       "      <td>3</td>\n",
       "      <td>32</td>\n",
       "      <td>Barry</td>\n",
       "      <td>Alabama Power Co</td>\n",
       "      <td>AL</td>\n",
       "      <td>2009</td>\n",
       "      <td>2</td>\n",
       "      <td>BIT</td>\n",
       "      <td>8.784741e+07</td>\n",
       "      <td>3.019373e+08</td>\n",
       "      <td>3.437065</td>\n",
       "      <td>8.057854e+07</td>\n",
       "      <td>4047126.185</td>\n",
       "      <td>4.900578e+08</td>\n",
       "      <td>10.271086</td>\n",
       "      <td>True</td>\n",
       "      <td>394031.0</td>\n",
       "      <td>10198410.0</td>\n",
       "      <td>35.30239</td>\n",
       "      <td>153.1</td>\n",
       "      <td>0.29380</td>\n",
       "    </tr>\n",
       "  </tbody>\n",
       "</table>\n",
       "</div>"
      ],
      "text/plain": [
       "   plant_id_eia plant_id_pudl plant_name     operator_name state  report_year  \\\n",
       "0             3            32      Barry  Alabama Power Co    AL         2009   \n",
       "1             3            32      Barry  Alabama Power Co    AL         2009   \n",
       "\n",
       "  generator_id energy_source         mmbtu     fuel_cost  \\\n",
       "0            1           BIT  8.784741e+07  3.019373e+08   \n",
       "1            2           BIT  8.784741e+07  3.019373e+08   \n",
       "\n",
       "   fuel_cost_per_mmbtu_average  fuel_consumed_mmbtu  \\\n",
       "0                     3.437065         8.057854e+07   \n",
       "1                     3.437065         8.057854e+07   \n",
       "\n",
       "   fuel_consumed_mmbtu_per_gen  fuel_cost_annual_eia  heat_rate_mmbtu_mwh  \\\n",
       "0                  2282135.017          4.900578e+08            10.284149   \n",
       "1                  4047126.185          4.900578e+08            10.271086   \n",
       "\n",
       "   plant_assn  net_generation_mwh  net_generation_mwh_plant_eia  \\\n",
       "0        True            221908.0                    10198410.0   \n",
       "1        True            394031.0                    10198410.0   \n",
       "\n",
       "   fuel_cost_per_mwh  nameplate_capacity_mw  capacity_factor  \n",
       "0           35.34729                  153.1          0.16546  \n",
       "1           35.30239                  153.1          0.29380  "
      ]
     },
     "execution_count": 75,
     "metadata": {},
     "output_type": "execute_result"
    }
   ],
   "source": [
    "mcoe_by_generator.head(2)"
   ]
  },
  {
   "cell_type": "markdown",
   "metadata": {},
   "source": [
    "# Pull in FERC data & identify plants with simple"
   ]
  },
  {
   "cell_type": "code",
   "execution_count": 76,
   "metadata": {
    "collapsed": true
   },
   "outputs": [],
   "source": [
    "simple_ferc = analysis.simple_ferc1_plant_ids(pudl_engine)"
   ]
  },
  {
   "cell_type": "code",
   "execution_count": 77,
   "metadata": {
    "collapsed": true
   },
   "outputs": [],
   "source": [
    "# convert simple ferc list into a pandas series for import to analysis.ferc_expenses() function\n",
    "simple_ferc = simple_ferc.iloc[:,0]"
   ]
  },
  {
   "cell_type": "code",
   "execution_count": 78,
   "metadata": {
    "collapsed": true,
    "scrolled": false
   },
   "outputs": [],
   "source": [
    "pd.options.display.max_rows = 999"
   ]
  },
  {
   "cell_type": "code",
   "execution_count": 79,
   "metadata": {
    "collapsed": true
   },
   "outputs": [],
   "source": [
    "fp = outputs.plants_steam_ferc1(pudl_engine)\n",
    "# fp = analysis.get_steam_ferc1_df(pudl_engine)"
   ]
  },
  {
   "cell_type": "code",
   "execution_count": 80,
   "metadata": {
    "collapsed": true
   },
   "outputs": [],
   "source": [
    "# ferc_expenses returns:\n",
    "# ferc1_expns_corr: A dictionary of expense categories\n",
    "#             and their correlations to the plant's net electricity generation.\n",
    "# steam_df: a dataframe with all the operating expenses broken out for each simple FERC PUDL plant."
   ]
  },
  {
   "cell_type": "code",
   "execution_count": 81,
   "metadata": {
    "collapsed": true
   },
   "outputs": [],
   "source": [
    "ferc_expenses = analysis.ferc_expenses(pudl_engine, simple_ferc)\n",
    "ferc_expenses_df = ferc_expenses[1]"
   ]
  },
  {
   "cell_type": "code",
   "execution_count": 82,
   "metadata": {
    "scrolled": false
   },
   "outputs": [
    {
     "data": {
      "text/html": [
       "<div>\n",
       "<style>\n",
       "    .dataframe thead tr:only-child th {\n",
       "        text-align: right;\n",
       "    }\n",
       "\n",
       "    .dataframe thead th {\n",
       "        text-align: left;\n",
       "    }\n",
       "\n",
       "    .dataframe tbody tr th {\n",
       "        vertical-align: top;\n",
       "    }\n",
       "</style>\n",
       "<table border=\"1\" class=\"dataframe\">\n",
       "  <thead>\n",
       "    <tr style=\"text-align: right;\">\n",
       "      <th></th>\n",
       "      <th>report_year</th>\n",
       "      <th>respondent_id</th>\n",
       "      <th>util_id_pudl</th>\n",
       "      <th>respondent_name</th>\n",
       "      <th>plant_id_pudl</th>\n",
       "      <th>plant_name</th>\n",
       "      <th>asset_retire_cost</th>\n",
       "      <th>avg_num_employees</th>\n",
       "      <th>cost_equipment</th>\n",
       "      <th>cost_land</th>\n",
       "      <th>cost_of_plant_total</th>\n",
       "      <th>cost_per_mw</th>\n",
       "      <th>cost_structure</th>\n",
       "      <th>expns_allowances</th>\n",
       "      <th>expns_boiler</th>\n",
       "      <th>expns_coolants</th>\n",
       "      <th>expns_electric</th>\n",
       "      <th>expns_engineering</th>\n",
       "      <th>expns_fuel</th>\n",
       "      <th>expns_misc_power</th>\n",
       "      <th>expns_misc_steam</th>\n",
       "      <th>expns_operations</th>\n",
       "      <th>expns_per_mwh</th>\n",
       "      <th>expns_plants</th>\n",
       "      <th>expns_production_total</th>\n",
       "      <th>expns_rents</th>\n",
       "      <th>expns_steam</th>\n",
       "      <th>expns_steam_other</th>\n",
       "      <th>expns_structures</th>\n",
       "      <th>expns_transfer</th>\n",
       "      <th>id</th>\n",
       "      <th>net_generation_mwh</th>\n",
       "      <th>not_water_limited_mw</th>\n",
       "      <th>peak_demand_mw</th>\n",
       "      <th>plant_capability_mw</th>\n",
       "      <th>plant_hours</th>\n",
       "      <th>plant_kind</th>\n",
       "      <th>total_capacity_mw</th>\n",
       "      <th>type_const</th>\n",
       "      <th>water_limited_mw</th>\n",
       "      <th>year_constructed</th>\n",
       "      <th>year_installed</th>\n",
       "      <th>expns_total_nonfuel_production</th>\n",
       "      <th>expns_total_nonproduction</th>\n",
       "    </tr>\n",
       "  </thead>\n",
       "  <tbody>\n",
       "    <tr>\n",
       "      <th>52</th>\n",
       "      <td>2004</td>\n",
       "      <td>2</td>\n",
       "      <td>18</td>\n",
       "      <td>ALABAMA POWER COMPANY</td>\n",
       "      <td>227</td>\n",
       "      <td>Gorgas</td>\n",
       "      <td>31918.0</td>\n",
       "      <td>289.0</td>\n",
       "      <td>478632326.0</td>\n",
       "      <td>312098.0</td>\n",
       "      <td>550838219.0</td>\n",
       "      <td>388817.8</td>\n",
       "      <td>71861877.0</td>\n",
       "      <td>4642951.0</td>\n",
       "      <td>16596930.0</td>\n",
       "      <td>0.0</td>\n",
       "      <td>1652067.0</td>\n",
       "      <td>2487427.0</td>\n",
       "      <td>138135187.0</td>\n",
       "      <td>9085207.0</td>\n",
       "      <td>588617.0</td>\n",
       "      <td>4983970.0</td>\n",
       "      <td>23.7</td>\n",
       "      <td>3410896.0</td>\n",
       "      <td>187426281.0</td>\n",
       "      <td>0.0</td>\n",
       "      <td>2761582.0</td>\n",
       "      <td>0.0</td>\n",
       "      <td>3081447.0</td>\n",
       "      <td>0.0</td>\n",
       "      <td>5</td>\n",
       "      <td>7902681.000</td>\n",
       "      <td>1227.0</td>\n",
       "      <td>1233.0</td>\n",
       "      <td>0.0</td>\n",
       "      <td>8784.0</td>\n",
       "      <td>None</td>\n",
       "      <td>1416.7</td>\n",
       "      <td>conventional</td>\n",
       "      <td>0.0</td>\n",
       "      <td>1929.0</td>\n",
       "      <td>1972.0</td>\n",
       "      <td>34936062.0</td>\n",
       "      <td>14355032.0</td>\n",
       "    </tr>\n",
       "    <tr>\n",
       "      <th>53</th>\n",
       "      <td>2005</td>\n",
       "      <td>2</td>\n",
       "      <td>18</td>\n",
       "      <td>ALABAMA POWER COMPANY</td>\n",
       "      <td>227</td>\n",
       "      <td>Gorgas</td>\n",
       "      <td>785376.0</td>\n",
       "      <td>279.0</td>\n",
       "      <td>519808301.0</td>\n",
       "      <td>312098.0</td>\n",
       "      <td>593802572.0</td>\n",
       "      <td>419144.9</td>\n",
       "      <td>72896797.0</td>\n",
       "      <td>10151159.0</td>\n",
       "      <td>16687326.0</td>\n",
       "      <td>0.0</td>\n",
       "      <td>1638495.0</td>\n",
       "      <td>2828497.0</td>\n",
       "      <td>149876005.0</td>\n",
       "      <td>10196426.0</td>\n",
       "      <td>837097.0</td>\n",
       "      <td>5635043.0</td>\n",
       "      <td>26.3</td>\n",
       "      <td>4255852.0</td>\n",
       "      <td>208225333.0</td>\n",
       "      <td>0.0</td>\n",
       "      <td>2391077.0</td>\n",
       "      <td>0.0</td>\n",
       "      <td>3728356.0</td>\n",
       "      <td>0.0</td>\n",
       "      <td>1322</td>\n",
       "      <td>7910067.000</td>\n",
       "      <td>1227.0</td>\n",
       "      <td>1231.0</td>\n",
       "      <td>0.0</td>\n",
       "      <td>8760.0</td>\n",
       "      <td>None</td>\n",
       "      <td>1416.7</td>\n",
       "      <td>conventional</td>\n",
       "      <td>0.0</td>\n",
       "      <td>1929.0</td>\n",
       "      <td>1972.0</td>\n",
       "      <td>37259037.0</td>\n",
       "      <td>21090291.0</td>\n",
       "    </tr>\n",
       "    <tr>\n",
       "      <th>54</th>\n",
       "      <td>2006</td>\n",
       "      <td>2</td>\n",
       "      <td>18</td>\n",
       "      <td>ALABAMA POWER COMPANY</td>\n",
       "      <td>227</td>\n",
       "      <td>Gorgas</td>\n",
       "      <td>709334.0</td>\n",
       "      <td>275.0</td>\n",
       "      <td>539209108.0</td>\n",
       "      <td>312098.0</td>\n",
       "      <td>613281546.0</td>\n",
       "      <td>432894.4</td>\n",
       "      <td>73051006.0</td>\n",
       "      <td>3141031.0</td>\n",
       "      <td>14165125.0</td>\n",
       "      <td>0.0</td>\n",
       "      <td>1641604.0</td>\n",
       "      <td>2985048.0</td>\n",
       "      <td>177501660.0</td>\n",
       "      <td>9806837.0</td>\n",
       "      <td>888261.0</td>\n",
       "      <td>6055949.0</td>\n",
       "      <td>27.5</td>\n",
       "      <td>6300625.0</td>\n",
       "      <td>229085085.0</td>\n",
       "      <td>0.0</td>\n",
       "      <td>3243842.0</td>\n",
       "      <td>0.0</td>\n",
       "      <td>3355103.0</td>\n",
       "      <td>0.0</td>\n",
       "      <td>1989</td>\n",
       "      <td>8320379.000</td>\n",
       "      <td>1227.0</td>\n",
       "      <td>1223.0</td>\n",
       "      <td>0.0</td>\n",
       "      <td>8760.0</td>\n",
       "      <td>None</td>\n",
       "      <td>1416.7</td>\n",
       "      <td>conventional</td>\n",
       "      <td>0.0</td>\n",
       "      <td>1929.0</td>\n",
       "      <td>1972.0</td>\n",
       "      <td>36871532.0</td>\n",
       "      <td>14711893.0</td>\n",
       "    </tr>\n",
       "    <tr>\n",
       "      <th>55</th>\n",
       "      <td>2007</td>\n",
       "      <td>2</td>\n",
       "      <td>18</td>\n",
       "      <td>ALABAMA POWER COMPANY</td>\n",
       "      <td>227</td>\n",
       "      <td>Gorgas</td>\n",
       "      <td>603119.0</td>\n",
       "      <td>299.0</td>\n",
       "      <td>631442936.0</td>\n",
       "      <td>1337501.0</td>\n",
       "      <td>716900344.0</td>\n",
       "      <td>506035.4</td>\n",
       "      <td>83516788.0</td>\n",
       "      <td>1142554.0</td>\n",
       "      <td>18484470.0</td>\n",
       "      <td>0.0</td>\n",
       "      <td>1677536.0</td>\n",
       "      <td>2108318.0</td>\n",
       "      <td>172031484.0</td>\n",
       "      <td>10309134.0</td>\n",
       "      <td>1408283.0</td>\n",
       "      <td>6449077.0</td>\n",
       "      <td>31.2</td>\n",
       "      <td>8334127.0</td>\n",
       "      <td>230619563.0</td>\n",
       "      <td>0.0</td>\n",
       "      <td>3936374.0</td>\n",
       "      <td>0.0</td>\n",
       "      <td>4738206.0</td>\n",
       "      <td>0.0</td>\n",
       "      <td>3105</td>\n",
       "      <td>7391398.857</td>\n",
       "      <td>1227.0</td>\n",
       "      <td>1247.0</td>\n",
       "      <td>0.0</td>\n",
       "      <td>8760.0</td>\n",
       "      <td>None</td>\n",
       "      <td>1416.7</td>\n",
       "      <td>conventional</td>\n",
       "      <td>0.0</td>\n",
       "      <td>1929.0</td>\n",
       "      <td>1972.0</td>\n",
       "      <td>45802311.0</td>\n",
       "      <td>12785768.0</td>\n",
       "    </tr>\n",
       "    <tr>\n",
       "      <th>56</th>\n",
       "      <td>2008</td>\n",
       "      <td>2</td>\n",
       "      <td>18</td>\n",
       "      <td>ALABAMA POWER COMPANY</td>\n",
       "      <td>227</td>\n",
       "      <td>Gorgas</td>\n",
       "      <td>578222.0</td>\n",
       "      <td>311.0</td>\n",
       "      <td>861611917.0</td>\n",
       "      <td>2063632.0</td>\n",
       "      <td>952008864.0</td>\n",
       "      <td>671990.4</td>\n",
       "      <td>87755093.0</td>\n",
       "      <td>405963.0</td>\n",
       "      <td>16539008.0</td>\n",
       "      <td>0.0</td>\n",
       "      <td>1874958.0</td>\n",
       "      <td>2770584.0</td>\n",
       "      <td>238844299.0</td>\n",
       "      <td>12253154.0</td>\n",
       "      <td>1397644.0</td>\n",
       "      <td>6954622.0</td>\n",
       "      <td>38.2</td>\n",
       "      <td>4014566.0</td>\n",
       "      <td>297086934.0</td>\n",
       "      <td>0.0</td>\n",
       "      <td>9077311.0</td>\n",
       "      <td>0.0</td>\n",
       "      <td>2954825.0</td>\n",
       "      <td>0.0</td>\n",
       "      <td>4098</td>\n",
       "      <td>7785655.000</td>\n",
       "      <td>1247.0</td>\n",
       "      <td>1246.0</td>\n",
       "      <td>0.0</td>\n",
       "      <td>8767.0</td>\n",
       "      <td>None</td>\n",
       "      <td>1416.7</td>\n",
       "      <td>conventional</td>\n",
       "      <td>0.0</td>\n",
       "      <td>1929.0</td>\n",
       "      <td>1972.0</td>\n",
       "      <td>44838864.0</td>\n",
       "      <td>13403771.0</td>\n",
       "    </tr>\n",
       "  </tbody>\n",
       "</table>\n",
       "</div>"
      ],
      "text/plain": [
       "    report_year  respondent_id  util_id_pudl        respondent_name  \\\n",
       "52         2004              2            18  ALABAMA POWER COMPANY   \n",
       "53         2005              2            18  ALABAMA POWER COMPANY   \n",
       "54         2006              2            18  ALABAMA POWER COMPANY   \n",
       "55         2007              2            18  ALABAMA POWER COMPANY   \n",
       "56         2008              2            18  ALABAMA POWER COMPANY   \n",
       "\n",
       "    plant_id_pudl plant_name  asset_retire_cost  avg_num_employees  \\\n",
       "52            227     Gorgas            31918.0              289.0   \n",
       "53            227     Gorgas           785376.0              279.0   \n",
       "54            227     Gorgas           709334.0              275.0   \n",
       "55            227     Gorgas           603119.0              299.0   \n",
       "56            227     Gorgas           578222.0              311.0   \n",
       "\n",
       "    cost_equipment  cost_land  cost_of_plant_total  cost_per_mw  \\\n",
       "52     478632326.0   312098.0          550838219.0     388817.8   \n",
       "53     519808301.0   312098.0          593802572.0     419144.9   \n",
       "54     539209108.0   312098.0          613281546.0     432894.4   \n",
       "55     631442936.0  1337501.0          716900344.0     506035.4   \n",
       "56     861611917.0  2063632.0          952008864.0     671990.4   \n",
       "\n",
       "    cost_structure  expns_allowances  expns_boiler  expns_coolants  \\\n",
       "52      71861877.0         4642951.0    16596930.0             0.0   \n",
       "53      72896797.0        10151159.0    16687326.0             0.0   \n",
       "54      73051006.0         3141031.0    14165125.0             0.0   \n",
       "55      83516788.0         1142554.0    18484470.0             0.0   \n",
       "56      87755093.0          405963.0    16539008.0             0.0   \n",
       "\n",
       "    expns_electric  expns_engineering   expns_fuel  expns_misc_power  \\\n",
       "52       1652067.0          2487427.0  138135187.0         9085207.0   \n",
       "53       1638495.0          2828497.0  149876005.0        10196426.0   \n",
       "54       1641604.0          2985048.0  177501660.0         9806837.0   \n",
       "55       1677536.0          2108318.0  172031484.0        10309134.0   \n",
       "56       1874958.0          2770584.0  238844299.0        12253154.0   \n",
       "\n",
       "    expns_misc_steam  expns_operations  expns_per_mwh  expns_plants  \\\n",
       "52          588617.0         4983970.0           23.7     3410896.0   \n",
       "53          837097.0         5635043.0           26.3     4255852.0   \n",
       "54          888261.0         6055949.0           27.5     6300625.0   \n",
       "55         1408283.0         6449077.0           31.2     8334127.0   \n",
       "56         1397644.0         6954622.0           38.2     4014566.0   \n",
       "\n",
       "    expns_production_total  expns_rents  expns_steam  expns_steam_other  \\\n",
       "52             187426281.0          0.0    2761582.0                0.0   \n",
       "53             208225333.0          0.0    2391077.0                0.0   \n",
       "54             229085085.0          0.0    3243842.0                0.0   \n",
       "55             230619563.0          0.0    3936374.0                0.0   \n",
       "56             297086934.0          0.0    9077311.0                0.0   \n",
       "\n",
       "    expns_structures  expns_transfer    id  net_generation_mwh  \\\n",
       "52         3081447.0             0.0     5         7902681.000   \n",
       "53         3728356.0             0.0  1322         7910067.000   \n",
       "54         3355103.0             0.0  1989         8320379.000   \n",
       "55         4738206.0             0.0  3105         7391398.857   \n",
       "56         2954825.0             0.0  4098         7785655.000   \n",
       "\n",
       "    not_water_limited_mw  peak_demand_mw  plant_capability_mw  plant_hours  \\\n",
       "52                1227.0          1233.0                  0.0       8784.0   \n",
       "53                1227.0          1231.0                  0.0       8760.0   \n",
       "54                1227.0          1223.0                  0.0       8760.0   \n",
       "55                1227.0          1247.0                  0.0       8760.0   \n",
       "56                1247.0          1246.0                  0.0       8767.0   \n",
       "\n",
       "   plant_kind  total_capacity_mw    type_const  water_limited_mw  \\\n",
       "52       None             1416.7  conventional               0.0   \n",
       "53       None             1416.7  conventional               0.0   \n",
       "54       None             1416.7  conventional               0.0   \n",
       "55       None             1416.7  conventional               0.0   \n",
       "56       None             1416.7  conventional               0.0   \n",
       "\n",
       "    year_constructed  year_installed  expns_total_nonfuel_production  \\\n",
       "52            1929.0          1972.0                      34936062.0   \n",
       "53            1929.0          1972.0                      37259037.0   \n",
       "54            1929.0          1972.0                      36871532.0   \n",
       "55            1929.0          1972.0                      45802311.0   \n",
       "56            1929.0          1972.0                      44838864.0   \n",
       "\n",
       "    expns_total_nonproduction  \n",
       "52                 14355032.0  \n",
       "53                 21090291.0  \n",
       "54                 14711893.0  \n",
       "55                 12785768.0  \n",
       "56                 13403771.0  "
      ]
     },
     "execution_count": 82,
     "metadata": {},
     "output_type": "execute_result"
    }
   ],
   "source": [
    "ferc_expenses_df.head()"
   ]
  },
  {
   "cell_type": "code",
   "execution_count": 83,
   "metadata": {
    "collapsed": true
   },
   "outputs": [],
   "source": [
    "# create a correlation table to export\n",
    "corr = pd.DataFrame.from_dict(ferc_expenses[0], orient='index')\n",
    "corr.index.names = ['expense_variable']\n",
    "corr = corr.reset_index()\n",
    "corr = corr.rename(columns={0: 'correlation_with_net_generation_mwh_plant'})"
   ]
  },
  {
   "cell_type": "code",
   "execution_count": 84,
   "metadata": {
    "collapsed": true
   },
   "outputs": [],
   "source": [
    "# create a ferc_expenses data frame to merge with EIA data\n",
    "ferc_expenses_df = ferc_expenses[1]"
   ]
  },
  {
   "cell_type": "code",
   "execution_count": 85,
   "metadata": {
    "collapsed": true
   },
   "outputs": [],
   "source": [
    "ferc_expenses_df.rename(columns={'net_generation_mwh': 'net_generation_mwh_plant',\n",
    "                                 'plant_name': 'plant_name_ferc',\n",
    "                                 'respondent_id': 'respondent_id_ferc',\n",
    "                                 'respondent_name': 'respondent_name_ferc',\n",
    "                                 'total_capacity_mw': 'total_capacity_mw_plant'}, inplace=True)"
   ]
  },
  {
   "cell_type": "code",
   "execution_count": 86,
   "metadata": {
    "collapsed": true
   },
   "outputs": [],
   "source": [
    "mcoe_by_generator.rename(columns={'net_generation_mwh': 'net_generation_mwh_generator',\n",
    "                                  'plant_name': 'plant_name_eia',\n",
    "                                  'operator_name': 'operator_name_eia',\n",
    "                                  'nameplate_capacity_mw': 'nameplate_capacity_mw_generator',\n",
    "                                  'summer_capacity_mw': 'summer_capacity_mw_generator',\n",
    "                                  'winter_capacity_mw': 'winter_capacity_mw_generator'}, inplace=True)"
   ]
  },
  {
   "cell_type": "code",
   "execution_count": 87,
   "metadata": {},
   "outputs": [
    {
     "data": {
      "text/html": [
       "<div>\n",
       "<style>\n",
       "    .dataframe thead tr:only-child th {\n",
       "        text-align: right;\n",
       "    }\n",
       "\n",
       "    .dataframe thead th {\n",
       "        text-align: left;\n",
       "    }\n",
       "\n",
       "    .dataframe tbody tr th {\n",
       "        vertical-align: top;\n",
       "    }\n",
       "</style>\n",
       "<table border=\"1\" class=\"dataframe\">\n",
       "  <thead>\n",
       "    <tr style=\"text-align: right;\">\n",
       "      <th></th>\n",
       "      <th>plant_id_eia</th>\n",
       "      <th>plant_id_pudl</th>\n",
       "      <th>plant_name_eia</th>\n",
       "      <th>operator_name_eia</th>\n",
       "      <th>state</th>\n",
       "      <th>report_year</th>\n",
       "      <th>generator_id</th>\n",
       "      <th>energy_source</th>\n",
       "      <th>mmbtu</th>\n",
       "      <th>fuel_cost</th>\n",
       "      <th>fuel_cost_per_mmbtu_average</th>\n",
       "      <th>fuel_consumed_mmbtu</th>\n",
       "      <th>fuel_consumed_mmbtu_per_gen</th>\n",
       "      <th>fuel_cost_annual_eia</th>\n",
       "      <th>heat_rate_mmbtu_mwh</th>\n",
       "      <th>plant_assn</th>\n",
       "      <th>net_generation_mwh_generator</th>\n",
       "      <th>net_generation_mwh_plant_eia</th>\n",
       "      <th>fuel_cost_per_mwh</th>\n",
       "      <th>nameplate_capacity_mw_generator</th>\n",
       "      <th>capacity_factor</th>\n",
       "    </tr>\n",
       "  </thead>\n",
       "  <tbody>\n",
       "    <tr>\n",
       "      <th>0</th>\n",
       "      <td>3</td>\n",
       "      <td>32</td>\n",
       "      <td>Barry</td>\n",
       "      <td>Alabama Power Co</td>\n",
       "      <td>AL</td>\n",
       "      <td>2009</td>\n",
       "      <td>1</td>\n",
       "      <td>BIT</td>\n",
       "      <td>8.784741e+07</td>\n",
       "      <td>3.019373e+08</td>\n",
       "      <td>3.437065</td>\n",
       "      <td>8.057854e+07</td>\n",
       "      <td>2282135.017</td>\n",
       "      <td>4.900578e+08</td>\n",
       "      <td>10.284149</td>\n",
       "      <td>True</td>\n",
       "      <td>221908.0</td>\n",
       "      <td>10198410.0</td>\n",
       "      <td>35.34729</td>\n",
       "      <td>153.1</td>\n",
       "      <td>0.16546</td>\n",
       "    </tr>\n",
       "    <tr>\n",
       "      <th>1</th>\n",
       "      <td>3</td>\n",
       "      <td>32</td>\n",
       "      <td>Barry</td>\n",
       "      <td>Alabama Power Co</td>\n",
       "      <td>AL</td>\n",
       "      <td>2009</td>\n",
       "      <td>2</td>\n",
       "      <td>BIT</td>\n",
       "      <td>8.784741e+07</td>\n",
       "      <td>3.019373e+08</td>\n",
       "      <td>3.437065</td>\n",
       "      <td>8.057854e+07</td>\n",
       "      <td>4047126.185</td>\n",
       "      <td>4.900578e+08</td>\n",
       "      <td>10.271086</td>\n",
       "      <td>True</td>\n",
       "      <td>394031.0</td>\n",
       "      <td>10198410.0</td>\n",
       "      <td>35.30239</td>\n",
       "      <td>153.1</td>\n",
       "      <td>0.29380</td>\n",
       "    </tr>\n",
       "  </tbody>\n",
       "</table>\n",
       "</div>"
      ],
      "text/plain": [
       "   plant_id_eia plant_id_pudl plant_name_eia operator_name_eia state  \\\n",
       "0             3            32          Barry  Alabama Power Co    AL   \n",
       "1             3            32          Barry  Alabama Power Co    AL   \n",
       "\n",
       "   report_year generator_id energy_source         mmbtu     fuel_cost  \\\n",
       "0         2009            1           BIT  8.784741e+07  3.019373e+08   \n",
       "1         2009            2           BIT  8.784741e+07  3.019373e+08   \n",
       "\n",
       "   fuel_cost_per_mmbtu_average  fuel_consumed_mmbtu  \\\n",
       "0                     3.437065         8.057854e+07   \n",
       "1                     3.437065         8.057854e+07   \n",
       "\n",
       "   fuel_consumed_mmbtu_per_gen  fuel_cost_annual_eia  heat_rate_mmbtu_mwh  \\\n",
       "0                  2282135.017          4.900578e+08            10.284149   \n",
       "1                  4047126.185          4.900578e+08            10.271086   \n",
       "\n",
       "   plant_assn  net_generation_mwh_generator  net_generation_mwh_plant_eia  \\\n",
       "0        True                      221908.0                    10198410.0   \n",
       "1        True                      394031.0                    10198410.0   \n",
       "\n",
       "   fuel_cost_per_mwh  nameplate_capacity_mw_generator  capacity_factor  \n",
       "0           35.34729                            153.1          0.16546  \n",
       "1           35.30239                            153.1          0.29380  "
      ]
     },
     "execution_count": 87,
     "metadata": {},
     "output_type": "execute_result"
    }
   ],
   "source": [
    "mcoe_by_generator.head(2)"
   ]
  },
  {
   "cell_type": "code",
   "execution_count": 88,
   "metadata": {
    "collapsed": true
   },
   "outputs": [],
   "source": [
    "# mcoe_by_generator.drop('plant_id_pudl', axis=1, inplace=True)"
   ]
  },
  {
   "cell_type": "code",
   "execution_count": 89,
   "metadata": {
    "collapsed": true
   },
   "outputs": [],
   "source": [
    "# Left merge keeps all rows of mcoe_by_generator and duplicates values of ferc_expenses_df \n",
    "# for each combination of plant_id_pudl and report_date\n",
    "merged = mcoe_by_generator.merge(ferc_expenses_df, how=\"left\", left_on=['plant_id_pudl', 'report_year'], right_on=['plant_id_pudl', 'report_year'])"
   ]
  },
  {
   "cell_type": "code",
   "execution_count": 90,
   "metadata": {
    "collapsed": true
   },
   "outputs": [],
   "source": [
    "# remove the non-simple plants by dropping rows where plant_name_ferc = NA\n",
    "merged = merged.dropna(subset=['plant_name_ferc'])"
   ]
  },
  {
   "cell_type": "code",
   "execution_count": 91,
   "metadata": {
    "collapsed": true
   },
   "outputs": [],
   "source": [
    "# rearrange columns\n",
    "merged = merged[[\n",
    "    'plant_id_pudl', 'plant_id_eia', 'plant_name_eia',\n",
    "    'operator_name_eia', 'state', 'report_year', \n",
    "    'generator_id', \n",
    "    'energy_source', 'mmbtu',\n",
    "    'fuel_cost',\n",
    "    'fuel_cost_per_mmbtu_average',\n",
    "    'fuel_consumed_mmbtu', \n",
    "    'fuel_consumed_mmbtu_per_gen', 'fuel_cost_annual_eia',\n",
    "    'heat_rate_mmbtu_mwh', 'plant_assn', \n",
    "    'net_generation_mwh_generator', 'net_generation_mwh_plant_eia',\n",
    "    'fuel_cost_per_mwh', 'nameplate_capacity_mw_generator', \n",
    "    'capacity_factor',\n",
    "    'report_year', 'respondent_id_ferc', 'util_id_pudl', \n",
    "    'respondent_name_ferc', 'plant_name_ferc',\n",
    "    'total_capacity_mw_plant', 'year_constructed', 'year_installed',\n",
    "    'peak_demand_mw', 'water_limited_mw', 'not_water_limited_mw',\n",
    "    'plant_hours', 'net_generation_mwh_plant', 'expns_operations',\n",
    "    'expns_fuel', 'expns_coolants', 'expns_steam', 'expns_steam_other',\n",
    "    'expns_transfer', 'expns_electric', 'expns_misc_power', 'expns_rents',\n",
    "    'expns_allowances', 'expns_engineering', 'expns_structures',\n",
    "    'expns_boiler', 'expns_plants', 'expns_misc_steam',\n",
    "    'expns_production_total', 'expns_per_mwh',\n",
    "    'expns_total_nonfuel_production', 'expns_total_nonproduction']]"
   ]
  },
  {
   "cell_type": "code",
   "execution_count": 92,
   "metadata": {},
   "outputs": [
    {
     "data": {
      "text/plain": [
       "47"
      ]
     },
     "execution_count": 92,
     "metadata": {},
     "output_type": "execute_result"
    }
   ],
   "source": [
    "# number of plants in this data set\n",
    "len(merged.plant_id_pudl.unique())"
   ]
  },
  {
   "cell_type": "code",
   "execution_count": 93,
   "metadata": {
    "collapsed": true
   },
   "outputs": [],
   "source": [
    "mcoe_annotations = pd.read_csv('mcoe_field_annotations_detailed.csv')\n",
    "mcoe_notes = pd.read_csv('mcoe_notes.csv')"
   ]
  },
  {
   "cell_type": "code",
   "execution_count": 94,
   "metadata": {
    "collapsed": true
   },
   "outputs": [],
   "source": [
    "# # to export all the data\n",
    "# xlsx_writer = pd.ExcelWriter('coal_plants_detailed_MCOE_by_generator_2011-2016.xlsx')\n",
    "# merged.to_excel(xlsx_writer, sheet_name='MCOE by Generator', index=False, na_rep='NA')\n",
    "# corr.to_excel(xlsx_writer, sheet_name='Expense Correlations', index=False, na_rep='NA')\n",
    "# mcoe_annotations.to_excel(xlsx_writer, sheet_name='MCOE Annotations', index=False)\n",
    "# mcoe_notes.to_excel(xlsx_writer, sheet_name='MCOE Notes', index=False)\n",
    "\n",
    "# xlsx_writer.save()"
   ]
  },
  {
   "cell_type": "code",
   "execution_count": 95,
   "metadata": {
    "collapsed": true
   },
   "outputs": [],
   "source": [
    "# to export all the data\n",
    "# xlsx_writer = pd.ExcelWriter('test_primary_fuel_cost_attribution.xlsx')\n",
    "# xlsx_writer = pd.ExcelWriter('test_plant_category_cost_attribution.xlsx')\n",
    "# xlsx_writer = pd.ExcelWriter('coal_plants_NSPC&MPI_detailed_MCOE_by_generator_2011-2016.xlsx')\n",
    "\n",
    "# test.to_excel(xlsx_writer, sheet_name='MCOE by Generator', index=False, na_rep='NA')\n",
    "# corr.to_excel(xlsx_writer, sheet_name='Expense Correlations', index=False, na_rep='NA')\n",
    "# mcoe_annotations.to_excel(xlsx_writer, sheet_name='MCOE Annotations', index=False)\n",
    "# mcoe_notes.to_excel(xlsx_writer, sheet_name='MCOE Notes', index=False)\n",
    "\n",
    "# xlsx_writer.save()"
   ]
  },
  {
   "cell_type": "code",
   "execution_count": 96,
   "metadata": {},
   "outputs": [
    {
     "data": {
      "text/html": [
       "<div>\n",
       "<style>\n",
       "    .dataframe thead tr:only-child th {\n",
       "        text-align: right;\n",
       "    }\n",
       "\n",
       "    .dataframe thead th {\n",
       "        text-align: left;\n",
       "    }\n",
       "\n",
       "    .dataframe tbody tr th {\n",
       "        vertical-align: top;\n",
       "    }\n",
       "</style>\n",
       "<table border=\"1\" class=\"dataframe\">\n",
       "  <thead>\n",
       "    <tr style=\"text-align: right;\">\n",
       "      <th></th>\n",
       "      <th>plant_id_pudl</th>\n",
       "      <th>plant_id_eia</th>\n",
       "      <th>plant_name_eia</th>\n",
       "      <th>operator_name_eia</th>\n",
       "      <th>state</th>\n",
       "      <th>report_year</th>\n",
       "      <th>generator_id</th>\n",
       "      <th>energy_source</th>\n",
       "      <th>mmbtu</th>\n",
       "      <th>fuel_cost</th>\n",
       "      <th>fuel_cost_per_mmbtu_average</th>\n",
       "      <th>fuel_consumed_mmbtu</th>\n",
       "      <th>fuel_consumed_mmbtu_per_gen</th>\n",
       "      <th>fuel_cost_annual_eia</th>\n",
       "      <th>heat_rate_mmbtu_mwh</th>\n",
       "      <th>plant_assn</th>\n",
       "      <th>net_generation_mwh_generator</th>\n",
       "      <th>net_generation_mwh_plant_eia</th>\n",
       "      <th>fuel_cost_per_mwh</th>\n",
       "      <th>nameplate_capacity_mw_generator</th>\n",
       "      <th>capacity_factor</th>\n",
       "      <th>report_year</th>\n",
       "      <th>respondent_id_ferc</th>\n",
       "      <th>util_id_pudl</th>\n",
       "      <th>respondent_name_ferc</th>\n",
       "      <th>plant_name_ferc</th>\n",
       "      <th>total_capacity_mw_plant</th>\n",
       "      <th>year_constructed</th>\n",
       "      <th>year_installed</th>\n",
       "      <th>peak_demand_mw</th>\n",
       "      <th>water_limited_mw</th>\n",
       "      <th>not_water_limited_mw</th>\n",
       "      <th>plant_hours</th>\n",
       "      <th>net_generation_mwh_plant</th>\n",
       "      <th>expns_operations</th>\n",
       "      <th>expns_fuel</th>\n",
       "      <th>expns_coolants</th>\n",
       "      <th>expns_steam</th>\n",
       "      <th>expns_steam_other</th>\n",
       "      <th>expns_transfer</th>\n",
       "      <th>expns_electric</th>\n",
       "      <th>expns_misc_power</th>\n",
       "      <th>expns_rents</th>\n",
       "      <th>expns_allowances</th>\n",
       "      <th>expns_engineering</th>\n",
       "      <th>expns_structures</th>\n",
       "      <th>expns_boiler</th>\n",
       "      <th>expns_plants</th>\n",
       "      <th>expns_misc_steam</th>\n",
       "      <th>expns_production_total</th>\n",
       "      <th>expns_per_mwh</th>\n",
       "      <th>expns_total_nonfuel_production</th>\n",
       "      <th>expns_total_nonproduction</th>\n",
       "    </tr>\n",
       "  </thead>\n",
       "  <tbody>\n",
       "    <tr>\n",
       "      <th>57</th>\n",
       "      <td>89</td>\n",
       "      <td>609</td>\n",
       "      <td>Cape Canaveral</td>\n",
       "      <td>Florida Power &amp; Light Co</td>\n",
       "      <td>FL</td>\n",
       "      <td>2009</td>\n",
       "      <td>1</td>\n",
       "      <td>RFO</td>\n",
       "      <td>2350632.977</td>\n",
       "      <td>2.343283e+07</td>\n",
       "      <td>9.968732</td>\n",
       "      <td>1.743802e+07</td>\n",
       "      <td>9429820.636</td>\n",
       "      <td>1.313082e+08</td>\n",
       "      <td>10.864449</td>\n",
       "      <td>True</td>\n",
       "      <td>867952.0</td>\n",
       "      <td>1597709.0</td>\n",
       "      <td>108.304781</td>\n",
       "      <td>402.0</td>\n",
       "      <td>0.246471</td>\n",
       "      <td>2009</td>\n",
       "      <td>56.0</td>\n",
       "      <td>121.0</td>\n",
       "      <td>Florida Power &amp; Light Company</td>\n",
       "      <td>Cape Canaveral</td>\n",
       "      <td>804.0</td>\n",
       "      <td>1965.0</td>\n",
       "      <td>1969.0</td>\n",
       "      <td>757.0</td>\n",
       "      <td>756.0</td>\n",
       "      <td>760.0</td>\n",
       "      <td>5098.0</td>\n",
       "      <td>1597707.0</td>\n",
       "      <td>379831.0</td>\n",
       "      <td>154122403.0</td>\n",
       "      <td>0.0</td>\n",
       "      <td>703183.0</td>\n",
       "      <td>0.0</td>\n",
       "      <td>0.0</td>\n",
       "      <td>406238.0</td>\n",
       "      <td>1786542.0</td>\n",
       "      <td>0.0</td>\n",
       "      <td>0.0</td>\n",
       "      <td>369618.0</td>\n",
       "      <td>334509.0</td>\n",
       "      <td>1045441.0</td>\n",
       "      <td>499506.0</td>\n",
       "      <td>571518.0</td>\n",
       "      <td>160218789.0</td>\n",
       "      <td>100.3</td>\n",
       "      <td>4369181.0</td>\n",
       "      <td>1727205.0</td>\n",
       "    </tr>\n",
       "    <tr>\n",
       "      <th>58</th>\n",
       "      <td>89</td>\n",
       "      <td>609</td>\n",
       "      <td>Cape Canaveral</td>\n",
       "      <td>Florida Power &amp; Light Co</td>\n",
       "      <td>FL</td>\n",
       "      <td>2009</td>\n",
       "      <td>2</td>\n",
       "      <td>RFO</td>\n",
       "      <td>2350632.977</td>\n",
       "      <td>2.343283e+07</td>\n",
       "      <td>9.968732</td>\n",
       "      <td>1.743802e+07</td>\n",
       "      <td>8008203.465</td>\n",
       "      <td>1.313082e+08</td>\n",
       "      <td>10.973795</td>\n",
       "      <td>True</td>\n",
       "      <td>729757.0</td>\n",
       "      <td>1597709.0</td>\n",
       "      <td>109.394814</td>\n",
       "      <td>402.0</td>\n",
       "      <td>0.207228</td>\n",
       "      <td>2009</td>\n",
       "      <td>56.0</td>\n",
       "      <td>121.0</td>\n",
       "      <td>Florida Power &amp; Light Company</td>\n",
       "      <td>Cape Canaveral</td>\n",
       "      <td>804.0</td>\n",
       "      <td>1965.0</td>\n",
       "      <td>1969.0</td>\n",
       "      <td>757.0</td>\n",
       "      <td>756.0</td>\n",
       "      <td>760.0</td>\n",
       "      <td>5098.0</td>\n",
       "      <td>1597707.0</td>\n",
       "      <td>379831.0</td>\n",
       "      <td>154122403.0</td>\n",
       "      <td>0.0</td>\n",
       "      <td>703183.0</td>\n",
       "      <td>0.0</td>\n",
       "      <td>0.0</td>\n",
       "      <td>406238.0</td>\n",
       "      <td>1786542.0</td>\n",
       "      <td>0.0</td>\n",
       "      <td>0.0</td>\n",
       "      <td>369618.0</td>\n",
       "      <td>334509.0</td>\n",
       "      <td>1045441.0</td>\n",
       "      <td>499506.0</td>\n",
       "      <td>571518.0</td>\n",
       "      <td>160218789.0</td>\n",
       "      <td>100.3</td>\n",
       "      <td>4369181.0</td>\n",
       "      <td>1727205.0</td>\n",
       "    </tr>\n",
       "    <tr>\n",
       "      <th>59</th>\n",
       "      <td>459</td>\n",
       "      <td>617</td>\n",
       "      <td>Port Everglades</td>\n",
       "      <td>Florida Power &amp; Light Co</td>\n",
       "      <td>FL</td>\n",
       "      <td>2009</td>\n",
       "      <td>ST1</td>\n",
       "      <td>RFO</td>\n",
       "      <td>7965760.089</td>\n",
       "      <td>7.912934e+07</td>\n",
       "      <td>9.933683</td>\n",
       "      <td>2.503163e+07</td>\n",
       "      <td>2351637.150</td>\n",
       "      <td>1.984851e+08</td>\n",
       "      <td>11.982926</td>\n",
       "      <td>True</td>\n",
       "      <td>196249.0</td>\n",
       "      <td>2161541.0</td>\n",
       "      <td>119.034585</td>\n",
       "      <td>248.0</td>\n",
       "      <td>0.090334</td>\n",
       "      <td>2009</td>\n",
       "      <td>56.0</td>\n",
       "      <td>121.0</td>\n",
       "      <td>Florida Power &amp; Light Company</td>\n",
       "      <td>Port Everglades</td>\n",
       "      <td>1255.0</td>\n",
       "      <td>1960.0</td>\n",
       "      <td>1965.0</td>\n",
       "      <td>1167.0</td>\n",
       "      <td>1154.0</td>\n",
       "      <td>1160.0</td>\n",
       "      <td>4606.0</td>\n",
       "      <td>2159305.0</td>\n",
       "      <td>676369.0</td>\n",
       "      <td>232128004.0</td>\n",
       "      <td>0.0</td>\n",
       "      <td>1401154.0</td>\n",
       "      <td>0.0</td>\n",
       "      <td>0.0</td>\n",
       "      <td>657393.0</td>\n",
       "      <td>2677735.0</td>\n",
       "      <td>0.0</td>\n",
       "      <td>0.0</td>\n",
       "      <td>599385.0</td>\n",
       "      <td>1483169.0</td>\n",
       "      <td>5230930.0</td>\n",
       "      <td>1842725.0</td>\n",
       "      <td>751030.0</td>\n",
       "      <td>247447894.0</td>\n",
       "      <td>114.6</td>\n",
       "      <td>12635713.0</td>\n",
       "      <td>2684177.0</td>\n",
       "    </tr>\n",
       "  </tbody>\n",
       "</table>\n",
       "</div>"
      ],
      "text/plain": [
       "   plant_id_pudl  plant_id_eia   plant_name_eia         operator_name_eia  \\\n",
       "57            89           609   Cape Canaveral  Florida Power & Light Co   \n",
       "58            89           609   Cape Canaveral  Florida Power & Light Co   \n",
       "59           459           617  Port Everglades  Florida Power & Light Co   \n",
       "\n",
       "   state  report_year generator_id energy_source        mmbtu     fuel_cost  \\\n",
       "57    FL         2009            1           RFO  2350632.977  2.343283e+07   \n",
       "58    FL         2009            2           RFO  2350632.977  2.343283e+07   \n",
       "59    FL         2009          ST1           RFO  7965760.089  7.912934e+07   \n",
       "\n",
       "    fuel_cost_per_mmbtu_average  fuel_consumed_mmbtu  \\\n",
       "57                     9.968732         1.743802e+07   \n",
       "58                     9.968732         1.743802e+07   \n",
       "59                     9.933683         2.503163e+07   \n",
       "\n",
       "    fuel_consumed_mmbtu_per_gen  fuel_cost_annual_eia  heat_rate_mmbtu_mwh  \\\n",
       "57                  9429820.636          1.313082e+08            10.864449   \n",
       "58                  8008203.465          1.313082e+08            10.973795   \n",
       "59                  2351637.150          1.984851e+08            11.982926   \n",
       "\n",
       "    plant_assn  net_generation_mwh_generator  net_generation_mwh_plant_eia  \\\n",
       "57        True                      867952.0                     1597709.0   \n",
       "58        True                      729757.0                     1597709.0   \n",
       "59        True                      196249.0                     2161541.0   \n",
       "\n",
       "    fuel_cost_per_mwh  nameplate_capacity_mw_generator  capacity_factor  \\\n",
       "57         108.304781                            402.0         0.246471   \n",
       "58         109.394814                            402.0         0.207228   \n",
       "59         119.034585                            248.0         0.090334   \n",
       "\n",
       "    report_year  respondent_id_ferc  util_id_pudl  \\\n",
       "57         2009                56.0         121.0   \n",
       "58         2009                56.0         121.0   \n",
       "59         2009                56.0         121.0   \n",
       "\n",
       "             respondent_name_ferc  plant_name_ferc  total_capacity_mw_plant  \\\n",
       "57  Florida Power & Light Company   Cape Canaveral                    804.0   \n",
       "58  Florida Power & Light Company   Cape Canaveral                    804.0   \n",
       "59  Florida Power & Light Company  Port Everglades                   1255.0   \n",
       "\n",
       "    year_constructed  year_installed  peak_demand_mw  water_limited_mw  \\\n",
       "57            1965.0          1969.0           757.0             756.0   \n",
       "58            1965.0          1969.0           757.0             756.0   \n",
       "59            1960.0          1965.0          1167.0            1154.0   \n",
       "\n",
       "    not_water_limited_mw  plant_hours  net_generation_mwh_plant  \\\n",
       "57                 760.0       5098.0                 1597707.0   \n",
       "58                 760.0       5098.0                 1597707.0   \n",
       "59                1160.0       4606.0                 2159305.0   \n",
       "\n",
       "    expns_operations   expns_fuel  expns_coolants  expns_steam  \\\n",
       "57          379831.0  154122403.0             0.0     703183.0   \n",
       "58          379831.0  154122403.0             0.0     703183.0   \n",
       "59          676369.0  232128004.0             0.0    1401154.0   \n",
       "\n",
       "    expns_steam_other  expns_transfer  expns_electric  expns_misc_power  \\\n",
       "57                0.0             0.0        406238.0         1786542.0   \n",
       "58                0.0             0.0        406238.0         1786542.0   \n",
       "59                0.0             0.0        657393.0         2677735.0   \n",
       "\n",
       "    expns_rents  expns_allowances  expns_engineering  expns_structures  \\\n",
       "57          0.0               0.0           369618.0          334509.0   \n",
       "58          0.0               0.0           369618.0          334509.0   \n",
       "59          0.0               0.0           599385.0         1483169.0   \n",
       "\n",
       "    expns_boiler  expns_plants  expns_misc_steam  expns_production_total  \\\n",
       "57     1045441.0      499506.0          571518.0             160218789.0   \n",
       "58     1045441.0      499506.0          571518.0             160218789.0   \n",
       "59     5230930.0     1842725.0          751030.0             247447894.0   \n",
       "\n",
       "    expns_per_mwh  expns_total_nonfuel_production  expns_total_nonproduction  \n",
       "57          100.3                       4369181.0                  1727205.0  \n",
       "58          100.3                       4369181.0                  1727205.0  \n",
       "59          114.6                      12635713.0                  2684177.0  "
      ]
     },
     "execution_count": 96,
     "metadata": {},
     "output_type": "execute_result"
    }
   ],
   "source": [
    "merged.head(3)"
   ]
  },
  {
   "cell_type": "code",
   "execution_count": 97,
   "metadata": {
    "collapsed": true
   },
   "outputs": [],
   "source": [
    "merged2 = merged.dropna(subset=['net_generation_mwh_plant_eia', 'net_generation_mwh_plant'])"
   ]
  },
  {
   "cell_type": "code",
   "execution_count": 98,
   "metadata": {
    "scrolled": false
   },
   "outputs": [
    {
     "data": {
      "image/png": "[encoded data removed]",
      "text/plain": [
       "<matplotlib.figure.Figure at 0x7f6c87bb0630>"
      ]
     },
     "metadata": {},
     "output_type": "display_data"
    }
   ],
   "source": [
    "fuels = ['gas','oil','coal']\n",
    "fig, (ax) = plt.subplots(ncols=1, nrows=1)\n",
    "fig.set_figwidth(10)\n",
    "fig.set_figheight(10)\n",
    "fig.set_dpi(150)\n",
    "ax.loglog()\n",
    "plt.grid(b=True)\n",
    "R2 = np.corrcoef(merged2.net_generation_mwh_plant_eia, merged2.net_generation_mwh_plant)[0,1]**2\n",
    "ax.scatter(merged2.net_generation_mwh_plant_eia, merged2.net_generation_mwh_plant, s=10, color='blue')\n",
    "ax.legend(loc='upper left')\n",
    "plt.title(\"Annual net generation by plant, EIA 923 vs. FERC Form 1 ($r^2$={:.2f})\".format(R2))\n",
    "plt.xlabel(\"Net generation by PUDL plant from EIA923 (MWh)\")\n",
    "plt.ylabel(\"Net generation by PUDL plant from FERC1 (MWh)\")\n",
    "plt.show();"
   ]
  },
  {
   "cell_type": "code",
   "execution_count": 99,
   "metadata": {
    "collapsed": true
   },
   "outputs": [],
   "source": [
    "merged3 = merged.dropna(subset=['fuel_cost_annual_eia', 'expns_fuel'])"
   ]
  },
  {
   "cell_type": "code",
   "execution_count": 100,
   "metadata": {},
   "outputs": [
    {
     "data": {
      "image/png": "[encoded data removed]",
      "text/plain": [
       "<matplotlib.figure.Figure at 0x7f6c9b4c2400>"
      ]
     },
     "metadata": {},
     "output_type": "display_data"
    }
   ],
   "source": [
    "fuels = ['gas','oil','coal']\n",
    "fig, (ax) = plt.subplots(ncols=1, nrows=1)\n",
    "fig.set_figwidth(10)\n",
    "fig.set_figheight(10)\n",
    "fig.set_dpi(150)\n",
    "ax.loglog()\n",
    "plt.grid(b=True)\n",
    "R2 = np.corrcoef(merged3.fuel_cost_annual_eia, merged3.expns_fuel)[0,1]**2\n",
    "ax.scatter(merged3.fuel_cost_annual_eia, merged3.expns_fuel, s=10, color='green')\n",
    "ax.legend(loc='upper left')\n",
    "plt.title(\"Fuel cost per year, EIA 923 vs. FERC Form 1, ($r^2$={:.2f})\".format(R2))\n",
    "plt.xlabel(\"Fuel cost per year, by PUDL plant from EIA923 ($)\")\n",
    "plt.ylabel(\"Fuel cost per year, by PUDL plant from FERC1 ($)\")\n",
    "plt.show();"
   ]
  },
  {
   "cell_type": "code",
   "execution_count": 101,
   "metadata": {},
   "outputs": [
    {
     "data": {
      "text/plain": [
       "<matplotlib.legend.Legend at 0x7f6c965f6320>"
      ]
     },
     "execution_count": 101,
     "metadata": {},
     "output_type": "execute_result"
    },
    {
     "data": {
      "image/png": "[encoded data removed]",
      "text/plain": [
       "<matplotlib.figure.Figure at 0x7f6c9952eb00>"
      ]
     },
     "metadata": {},
     "output_type": "display_data"
    }
   ],
   "source": [
    "plt.hist(merged.net_generation_mwh_plant_eia, range=(0,500000), bins=100, alpha=0.5, color='green', label=\"EIA\")\n",
    "plt.hist(merged.net_generation_mwh_plant, range=(0,500000), bins=100, alpha=0.5, color='blue', label='FERC')\n",
    "plt.xlabel(\"Total net generation per plant (MWh)\")\n",
    "plt.ylabel(\"Number of records\")\n",
    "plt.title(\"Net generation (MWh)\")\n",
    "plt.legend()"
   ]
  },
  {
   "cell_type": "code",
   "execution_count": 102,
   "metadata": {},
   "outputs": [
    {
     "name": "stderr",
     "output_type": "stream",
     "text": [
      "/home/alana/anaconda3/lib/python3.6/site-packages/numpy/lib/function_base.py:747: RuntimeWarning: invalid value encountered in greater_equal\n",
      "  keep = (tmp_a >= mn)\n",
      "/home/alana/anaconda3/lib/python3.6/site-packages/numpy/lib/function_base.py:748: RuntimeWarning: invalid value encountered in less_equal\n",
      "  keep &= (tmp_a <= mx)\n"
     ]
    },
    {
     "data": {
      "text/plain": [
       "<matplotlib.text.Text at 0x7f6c9ad396a0>"
      ]
     },
     "execution_count": 102,
     "metadata": {},
     "output_type": "execute_result"
    },
    {
     "data": {
      "image/png": "[encoded data removed]",
      "text/plain": [
       "<matplotlib.figure.Figure at 0x7f6c93db3710>"
      ]
     },
     "metadata": {},
     "output_type": "display_data"
    }
   ],
   "source": [
    "#quick look at spread in fuel_cost_per_mwh for these plants\n",
    "plt.hist(merged.fuel_cost_per_mwh, range=(0,200), bins=200, alpha=0.5, color='green')\n",
    "ferc_fuel_cost_per_mwh = merged.expns_fuel / merged.net_generation_mwh_plant\n",
    "plt.hist(ferc_fuel_cost_per_mwh, range=(0,200), bins=200, alpha=0.5, color='blue')\n",
    "plt.xlabel(\"Fuel Cost ($/mwh)\")\n",
    "plt.ylabel(\"Number of records\")\n",
    "plt.title(\"Cost of fuel\")\n"
   ]
  },
  {
   "cell_type": "markdown",
   "metadata": {},
   "source": [
    "## A few plots"
   ]
  },
  {
   "cell_type": "code",
   "execution_count": 103,
   "metadata": {},
   "outputs": [
    {
     "name": "stderr",
     "output_type": "stream",
     "text": [
      "/home/alana/anaconda3/lib/python3.6/site-packages/numpy/lib/function_base.py:747: RuntimeWarning: invalid value encountered in greater_equal\n",
      "  keep = (tmp_a >= mn)\n",
      "/home/alana/anaconda3/lib/python3.6/site-packages/numpy/lib/function_base.py:748: RuntimeWarning: invalid value encountered in less_equal\n",
      "  keep &= (tmp_a <= mx)\n"
     ]
    },
    {
     "data": {
      "image/png": "[encoded data removed]",
      "text/plain": [
       "<matplotlib.figure.Figure at 0x7f6c92a60748>"
      ]
     },
     "metadata": {},
     "output_type": "display_data"
    }
   ],
   "source": [
    "# Take a look at heat rates from EIA\n",
    "plt.hist(heat_rate.heat_rate_mmbtu_mwh, range=[0,50],bins=100,weights=heat_rate.net_generation_mwh, alpha=0.5)\n",
    "#heat_rate['heat_rate_mmbtu_mwh'].plot(kind='hist', bins=100, range=[-20,70])\n",
    "plt.xlabel('Generator heat rate (MMBtu/MWh)')\n",
    "plt.ylabel(\"Generator records (weighted by net generation)\")\n",
    "plt.title(\"Heat rates\")\n",
    "plt.show()"
   ]
  },
  {
   "cell_type": "code",
   "execution_count": 104,
   "metadata": {},
   "outputs": [
    {
     "name": "stderr",
     "output_type": "stream",
     "text": [
      "/home/alana/anaconda3/lib/python3.6/site-packages/numpy/lib/function_base.py:747: RuntimeWarning: invalid value encountered in greater_equal\n",
      "  keep = (tmp_a >= mn)\n",
      "/home/alana/anaconda3/lib/python3.6/site-packages/numpy/lib/function_base.py:748: RuntimeWarning: invalid value encountered in less_equal\n",
      "  keep &= (tmp_a <= mx)\n",
      "/home/alana/anaconda3/lib/python3.6/site-packages/matplotlib/axes/_axes.py:545: UserWarning: No labelled objects found. Use label='...' kwarg on individual plots.\n",
      "  warnings.warn(\"No labelled objects found. \"\n"
     ]
    },
    {
     "data": {
      "image/png": "[encoded data removed]",
      "text/plain": [
       "<matplotlib.figure.Figure at 0x7f6c986facf8>"
      ]
     },
     "metadata": {},
     "output_type": "display_data"
    }
   ],
   "source": [
    "#quick look at spread in fuel_cost_per_mmbtu\n",
    "plt.hist(mcoe_by_generator.fuel_cost_per_mmbtu_average, range=(-5,50), bins=200, alpha=0.5, color='green')\n",
    "plt.xlabel(\"Fuel Cost ($/mmBTU)\")\n",
    "plt.ylabel(\"Number of generator records\")\n",
    "plt.title(\"Cost of fuel\")\n",
    "plt.legend()"
   ]
  },
  {
   "cell_type": "code",
   "execution_count": 105,
   "metadata": {},
   "outputs": [
    {
     "name": "stderr",
     "output_type": "stream",
     "text": [
      "/home/alana/anaconda3/lib/python3.6/site-packages/numpy/lib/function_base.py:747: RuntimeWarning: invalid value encountered in greater_equal\n",
      "  keep = (tmp_a >= mn)\n",
      "/home/alana/anaconda3/lib/python3.6/site-packages/numpy/lib/function_base.py:748: RuntimeWarning: invalid value encountered in less_equal\n",
      "  keep &= (tmp_a <= mx)\n",
      "/home/alana/anaconda3/lib/python3.6/site-packages/matplotlib/axes/_axes.py:545: UserWarning: No labelled objects found. Use label='...' kwarg on individual plots.\n",
      "  warnings.warn(\"No labelled objects found. \"\n"
     ]
    },
    {
     "data": {
      "image/png": "[encoded data removed]",
      "text/plain": [
       "<matplotlib.figure.Figure at 0x7f6c97c8a780>"
      ]
     },
     "metadata": {},
     "output_type": "display_data"
    }
   ],
   "source": [
    "#quick look at capacity factors\n",
    "plt.hist(mcoe_by_generator.capacity_factor, range=(0,1.5), bins=200, alpha=0.5, color='blue')\n",
    "plt.xlabel(\"Capacity factor (Net generation/Nameplate capacity)\")\n",
    "plt.ylabel(\"Number of generator records\")\n",
    "plt.title(\"Capacity factors\")\n",
    "plt.legend()"
   ]
  },
  {
   "cell_type": "code",
   "execution_count": 106,
   "metadata": {},
   "outputs": [
    {
     "name": "stderr",
     "output_type": "stream",
     "text": [
      "/home/alana/anaconda3/lib/python3.6/site-packages/numpy/lib/function_base.py:747: RuntimeWarning: invalid value encountered in greater_equal\n",
      "  keep = (tmp_a >= mn)\n",
      "/home/alana/anaconda3/lib/python3.6/site-packages/numpy/lib/function_base.py:748: RuntimeWarning: invalid value encountered in less_equal\n",
      "  keep &= (tmp_a <= mx)\n",
      "/home/alana/anaconda3/lib/python3.6/site-packages/matplotlib/axes/_axes.py:545: UserWarning: No labelled objects found. Use label='...' kwarg on individual plots.\n",
      "  warnings.warn(\"No labelled objects found. \"\n"
     ]
    },
    {
     "data": {
      "image/png": "[encoded data removed]",
      "text/plain": [
       "<matplotlib.figure.Figure at 0x7f6c97e1a978>"
      ]
     },
     "metadata": {},
     "output_type": "display_data"
    }
   ],
   "source": [
    "#quick look at spread in fuel_cost_per_mwh for these plants\n",
    "plt.hist(merged.fuel_cost_per_mwh, range=(0,200), bins=200, alpha=0.5, color='green')\n",
    "plt.xlabel(\"Fuel Cost ($/mwh)\")\n",
    "plt.ylabel(\"Number of generator records\")\n",
    "plt.title(\"Cost of fuel\")\n",
    "plt.legend()"
   ]
  },
  {
   "cell_type": "code",
   "execution_count": null,
   "metadata": {
    "collapsed": true
   },
   "outputs": [],
   "source": []
  },
  {
   "cell_type": "code",
   "execution_count": null,
   "metadata": {
    "collapsed": true
   },
   "outputs": [],
   "source": []
  },
  {
   "cell_type": "code",
   "execution_count": null,
   "metadata": {
    "collapsed": true
   },
   "outputs": [],
   "source": []
  },
  {
   "cell_type": "code",
   "execution_count": null,
   "metadata": {
    "collapsed": true
   },
   "outputs": [],
   "source": []
  }
 ],
 "metadata": {
  "kernelspec": {
   "display_name": "Python 3",
   "language": "python",
   "name": "python3"
  },
  "language_info": {
   "codemirror_mode": {
    "name": "ipython",
    "version": 3
   },
   "file_extension": ".py",
   "mimetype": "text/x-python",
   "name": "python",
   "nbconvert_exporter": "python",
   "pygments_lexer": "ipython3",
   "version": "3.6.1"
  }
 },
 "nbformat": 4,
 "nbformat_minor": 2
}
