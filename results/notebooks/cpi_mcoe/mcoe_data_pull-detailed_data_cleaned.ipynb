{
 "cells": [
  {
   "cell_type": "code",
   "execution_count": 1,
   "metadata": {
    "collapsed": true
   },
   "outputs": [],
   "source": [
    "%load_ext autoreload\n",
    "%autoreload 2\n",
    "%matplotlib inline\n",
    "import sys\n",
    "import os\n",
    "import numpy as np\n",
    "import pandas as pd\n",
    "import sqlalchemy as sa\n",
    "sys.path.append(os.path.abspath(os.path.join('..','..','..')))\n",
    "from pudl import pudl, ferc1, eia923, settings, constants, analysis\n",
    "from pudl import models, models_ferc1, models_eia923, outputs\n",
    "from pudl import clean_eia923, clean_ferc1, clean_pudl, mcoe\n",
    "import matplotlib.pyplot as plt\n",
    "import matplotlib as mpl\n",
    "pd.options.mode.chained_assignment = None\n",
    "plt.style.use('ggplot')\n",
    "mpl.rcParams['figure.figsize'] = (10,6)\n",
    "mpl.rcParams['figure.dpi'] = 150\n",
    "pd.options.display.max_columns = 56\n",
    "pd.options.display.max_rows = 100"
   ]
  },
  {
   "cell_type": "code",
   "execution_count": 2,
   "metadata": {
    "collapsed": true
   },
   "outputs": [],
   "source": [
    "pudl_engine  = pudl.db_connect_pudl()"
   ]
  },
  {
   "cell_type": "markdown",
   "metadata": {},
   "source": [
    "# Pulling the required tables"
   ]
  },
  {
   "cell_type": "code",
   "execution_count": 3,
   "metadata": {
    "collapsed": true
   },
   "outputs": [],
   "source": [
    "g9_summed = mcoe.generation_pull_eia923(pudl_engine)\n",
    "g8, g8_es = mcoe.generators_pull_eia860(pudl_engine)\n",
    "frc9_summed, frc9_summed_plant = mcoe.fuel_reciepts_costs_pull_eia923(pudl_engine)\n",
    "bga8 = mcoe.boiler_generator_pull_eia860(pudl_engine)\n",
    "bf9_summed, bf9_plant_summed = mcoe.boiler_fuel_pull_eia923(pudl_engine)"
   ]
  },
  {
   "cell_type": "markdown",
   "metadata": {},
   "source": [
    "## This forcing of energy source column to coal is problematic & needs to be undone"
   ]
  },
  {
   "cell_type": "code",
   "execution_count": null,
   "metadata": {
    "collapsed": true
   },
   "outputs": [],
   "source": [
    "# change energy source column to coal\n",
    "# frc9['energy_source'] = 'Coal'"
   ]
  },
  {
   "cell_type": "code",
   "execution_count": null,
   "metadata": {
    "collapsed": true
   },
   "outputs": [],
   "source": [
    "# Get yearly fuel cost by plant_id, year and energy_source\n",
    "# frc9_summed = analysis.yearly_sum_eia(frc9 , 'fuel_cost', columns=['plant_id_eia', 'plant_id_pudl','report_year','energy_source_cons']) #toggle\n",
    "# frc9_summed = frc9_summed.reset_index()\n",
    "# frc9_summed = frc9_summed.rename(columns={'primary_fuel': 'energy_source'})"
   ]
  },
  {
   "cell_type": "code",
   "execution_count": null,
   "metadata": {},
   "outputs": [],
   "source": [
    "frc9_summed.head()"
   ]
  },
  {
   "cell_type": "code",
   "execution_count": null,
   "metadata": {
    "collapsed": true,
    "scrolled": false
   },
   "outputs": [],
   "source": [
    "# frc9_mmbtu_summed = analysis.yearly_sum_eia(frc9 , 'mmbtu', columns=['plant_id_eia', 'plant_id_pudl','report_year','energy_source_cons']) #toggle\n",
    "# # frc9_mmbtu_summed = frc9_mmbtu_summed.rename(columns={'primary_fuel': 'energy_source'})\n",
    "# frc9_mmbtu_summed = frc9_mmbtu_summed.reset_index()\n",
    "# frc9_mmbtu_summed.head(2)"
   ]
  },
  {
   "cell_type": "code",
   "execution_count": null,
   "metadata": {
    "collapsed": true
   },
   "outputs": [],
   "source": [
    "# frc9_summed = frc9_mmbtu_summed.merge(frc9_summed)\n",
    "# frc9_summed['fuel_cost_per_mmbtu_average'] = (frc9_summed.fuel_cost/frc9_summed.mmbtu)\n",
    "# frc9_summed.head()"
   ]
  },
  {
   "cell_type": "markdown",
   "metadata": {},
   "source": [
    "### Generators EIA923"
   ]
  },
  {
   "cell_type": "code",
   "execution_count": null,
   "metadata": {
    "collapsed": true
   },
   "outputs": [],
   "source": [
    "# Convert the generation_eia923 table into a dataframe\n",
    "g9_summed = mcoe.generation_pull_eia923(pudl_engine)\n",
    "\n",
    "## ONLY COAL PLANTS:\n",
    "#subset the g9 data frame to only coal plants\n",
    "# # g9 = g9[g9['plant_id_eia'].isin(plants)]\n",
    "\n",
    "# # Get yearly net generation by plant_id, year and generator_id\n",
    "# g9_summed = analysis.yearly_sum_eia(g9, 'net_generation_mwh', columns=['report_year','plant_id_eia', 'plant_id_pudl', 'generator_id'])\n",
    "# g9_summed.reset_index(inplace=True)"
   ]
  },
  {
   "cell_type": "code",
   "execution_count": null,
   "metadata": {},
   "outputs": [],
   "source": [
    "g9_summed.head()"
   ]
  },
  {
   "cell_type": "code",
   "execution_count": null,
   "metadata": {},
   "outputs": [],
   "source": [
    "g9_summed[g9_summed[\"plant_id_pudl\"]==217].head()"
   ]
  },
  {
   "cell_type": "markdown",
   "metadata": {},
   "source": [
    "### Generators EIA860"
   ]
  },
  {
   "cell_type": "code",
   "execution_count": null,
   "metadata": {
    "collapsed": true
   },
   "outputs": [],
   "source": [
    "# Convert the generators_eia860 table into a dataframe\n",
    "g8, g8_es = mcoe.generators_pull_eia860(pudl_engine)\n",
    "# g8 = analysis.simple_select('generators_eia860', pudl_engine)"
   ]
  },
  {
   "cell_type": "code",
   "execution_count": null,
   "metadata": {
    "collapsed": true
   },
   "outputs": [],
   "source": [
    "# In order to use the energy source associated with each generator\n",
    "#subset the g8 data frame to only coal plants\n",
    "\n",
    "# g8_es['energy_source'] = 'Coal'\n",
    "# g8 = g8[g8['plant_id_eia'].isin(plants)]\n",
    "# g8_es = g8_es[g8_es['plant_id_eia'].isin(plants)]"
   ]
  },
  {
   "cell_type": "code",
   "execution_count": null,
   "metadata": {},
   "outputs": [],
   "source": [
    "g8.head()"
   ]
  },
  {
   "cell_type": "code",
   "execution_count": null,
   "metadata": {
    "collapsed": true
   },
   "outputs": [],
   "source": [
    "# In order to use the capacity of each generator\n",
    "# g8 = g8[['plant_id_eia','plant_id_pudl','report_year','plant_name', 'operator_name', 'state', 'generator_id','nameplate_capacity_mw','summer_capacity_mw','winter_capacity_mw']]\n"
   ]
  },
  {
   "cell_type": "code",
   "execution_count": null,
   "metadata": {
    "collapsed": true
   },
   "outputs": [],
   "source": [
    "# re-assign all energy source values to coal\n",
    "# g8['energy_source'] = 'Coal'"
   ]
  },
  {
   "cell_type": "markdown",
   "metadata": {},
   "source": [
    "### Calculate a generator's proportion of plant capacity"
   ]
  },
  {
   "cell_type": "code",
   "execution_count": null,
   "metadata": {
    "collapsed": true
   },
   "outputs": [],
   "source": [
    "# capacity_eia = analysis.capacity_proportion_eia923(g8, id_col='plant_id_eia')\n",
    "# capacity_pudl = analysis.capacity_proportion_eia923(g8, id_col='plant_id_pudl')"
   ]
  },
  {
   "cell_type": "markdown",
   "metadata": {},
   "source": [
    "### Boiler Fuel EIA923"
   ]
  },
  {
   "cell_type": "code",
   "execution_count": null,
   "metadata": {
    "collapsed": true
   },
   "outputs": [],
   "source": [
    "# Convert the boiler_fuel_eia923 table into a dataframe\n",
    "bf9 = mcoe.boiler_fuel_pull_eia923(pudl_engine)"
   ]
  },
  {
   "cell_type": "code",
   "execution_count": null,
   "metadata": {
    "collapsed": true
   },
   "outputs": [],
   "source": [
    "# #subset the bf9 data frame to only coal plants\n",
    "# bf9 = bf9[bf9['plant_id_eia'].isin(plants)]\n",
    "\n",
    "# # re-assign all energy source values to coal\n",
    "# bf9['energy_source'] = 'Coal'"
   ]
  },
  {
   "cell_type": "code",
   "execution_count": null,
   "metadata": {
    "collapsed": true
   },
   "outputs": [],
   "source": [
    "# Get yearly fuel consumed by plant_id, year and boiler_id\n",
    "bf9_summed = bf9[0]\n",
    "# Get yearly fuel consumed by plant_id, year and boiler_id\n",
    "bf9_plant_summed = bf9[1]"
   ]
  },
  {
   "cell_type": "markdown",
   "metadata": {},
   "source": [
    "### Boiler Generator Association EIA860"
   ]
  },
  {
   "cell_type": "code",
   "execution_count": null,
   "metadata": {
    "collapsed": true
   },
   "outputs": [],
   "source": [
    "# Convert the boiler_generator_assn_eia860 table into a dataframe\n",
    "bga8 = mcoe.boiler_generator_pull_eia860(pudl_engine)"
   ]
  },
  {
   "cell_type": "code",
   "execution_count": null,
   "metadata": {
    "collapsed": true
   },
   "outputs": [],
   "source": [
    "# get the primary fuel for each plant (to be used to combine plants that have unassociated generators)\n",
    "gf9 = analysis.simple_select('generation_fuel_eia923', pudl_engine)\n",
    "# primary_fuel = analysis.primary_fuel_gf_eia923(gf9).rename(columns={'year':'report_date'})"
   ]
  },
  {
   "cell_type": "code",
   "execution_count": null,
   "metadata": {
    "collapsed": true
   },
   "outputs": [],
   "source": [
    "#subset the bf9 data frame to only coal plants\n",
    "# gf9 = gf9[gf9['plant_id_eia'].isin(plants)]"
   ]
  },
  {
   "cell_type": "code",
   "execution_count": null,
   "metadata": {},
   "outputs": [],
   "source": [
    "g9_summed.head(2)"
   ]
  },
  {
   "cell_type": "code",
   "execution_count": null,
   "metadata": {},
   "outputs": [],
   "source": [
    "g8.head(2)"
   ]
  },
  {
   "cell_type": "code",
   "execution_count": null,
   "metadata": {},
   "outputs": [],
   "source": [
    "g9_summed.head()"
   ]
  },
  {
   "cell_type": "markdown",
   "metadata": {},
   "source": [
    "## Generating Capacity Factor"
   ]
  },
  {
   "cell_type": "code",
   "execution_count": null,
   "metadata": {
    "collapsed": true,
    "scrolled": false
   },
   "outputs": [],
   "source": [
    "capacity_factor = analysis.capacity_factor(g9_summed,g8, id_col='plant_id_eia')"
   ]
  },
  {
   "cell_type": "code",
   "execution_count": null,
   "metadata": {},
   "outputs": [],
   "source": [
    "capacity_factor.head(2)"
   ]
  },
  {
   "cell_type": "code",
   "execution_count": null,
   "metadata": {
    "collapsed": true
   },
   "outputs": [],
   "source": [
    "testplant = capacity_factor[capacity_factor['plant_id_pudl']==217]\n",
    "# testplant = capacity_factor[capacity_factor['plant_id_eia']==7343]\n",
    "# testplant = capacity_factor[capacity_factor['plant_id_eia']==1091]"
   ]
  },
  {
   "cell_type": "code",
   "execution_count": null,
   "metadata": {},
   "outputs": [],
   "source": [
    "testplant.head(8)"
   ]
  },
  {
   "cell_type": "markdown",
   "metadata": {},
   "source": [
    "## Generating Heat Rate"
   ]
  },
  {
   "cell_type": "code",
   "execution_count": null,
   "metadata": {
    "collapsed": true
   },
   "outputs": [],
   "source": [
    "# Calculate heat rate here (instead of with function) to retain \n",
    "# some of the underlying fields used for calculations"
   ]
  },
  {
   "cell_type": "code",
   "execution_count": null,
   "metadata": {},
   "outputs": [],
   "source": [
    "g9_summed.head(2)"
   ]
  },
  {
   "cell_type": "code",
   "execution_count": null,
   "metadata": {
    "collapsed": true,
    "scrolled": false
   },
   "outputs": [],
   "source": [
    "gens_with_bga = mcoe.gens_with_bga(bga8, g9_summed, id_col='plant_id_pudl')"
   ]
  },
  {
   "cell_type": "code",
   "execution_count": null,
   "metadata": {},
   "outputs": [],
   "source": [
    "g8.head(5)"
   ]
  },
  {
   "cell_type": "code",
   "execution_count": 5,
   "metadata": {
    "collapsed": true,
    "scrolled": false
   },
   "outputs": [],
   "source": [
    "heat_rate = mcoe.heat_rate(bga8, g9_summed, bf9_summed, bf9_plant_summed, pudl_engine, id_col='plant_id_eia')"
   ]
  },
  {
   "cell_type": "code",
   "execution_count": null,
   "metadata": {},
   "outputs": [],
   "source": [
    "heat_rate.head()"
   ]
  },
  {
   "cell_type": "code",
   "execution_count": 6,
   "metadata": {},
   "outputs": [],
   "source": [
    "fuel_cost = mcoe.fuel_cost(g8_es, g9_summed, frc9_summed, frc9_summed_plant, heat_rate)"
   ]
  },
  {
   "cell_type": "code",
   "execution_count": null,
   "metadata": {
    "scrolled": true
   },
   "outputs": [],
   "source": [
    "fuel_cost.head(2)"
   ]
  },
  {
   "cell_type": "markdown",
   "metadata": {},
   "source": [
    "## Calculating proportions of generation & capacity"
   ]
  },
  {
   "cell_type": "code",
   "execution_count": null,
   "metadata": {
    "collapsed": true
   },
   "outputs": [],
   "source": [
    "# proportion_gen_eia = analysis.generator_proportion_eia923(g9, id_col='plant_id_eia')\n",
    "# proportion_gen_pudl = analysis.generator_proportion_eia923(g9, id_col='plant_id_pudl')"
   ]
  },
  {
   "cell_type": "code",
   "execution_count": null,
   "metadata": {
    "collapsed": true
   },
   "outputs": [],
   "source": [
    "# convert Y-M-D to year\n",
    "# proportion_gen_eia.report_date = proportion_gen_eia.report_date.dt.year\n",
    "# proportion_gen_pudl.report_date = proportion_gen_pudl.report_date.dt.year"
   ]
  },
  {
   "cell_type": "code",
   "execution_count": null,
   "metadata": {
    "collapsed": true
   },
   "outputs": [],
   "source": [
    "# testplant = proportion[proportion['plant_id_pudl']==217]\n",
    "# testplant = proportion[proportion['plant_id_eia']==7343]\n",
    "# testplant = proportion[proportion['plant_id_eia']==1091]"
   ]
  },
  {
   "cell_type": "code",
   "execution_count": null,
   "metadata": {
    "collapsed": true
   },
   "outputs": [],
   "source": [
    "# g9[g9[\"plant_id_eia\"]==1091] #this is plant_id_pudl 217\n",
    "# g9[g9[\"plant_id_eia\"]==7343] #this is also plant_id_pudl 217"
   ]
  },
  {
   "cell_type": "markdown",
   "metadata": {},
   "source": [
    "## Generating Fuel Cost"
   ]
  },
  {
   "cell_type": "code",
   "execution_count": null,
   "metadata": {
    "scrolled": false
   },
   "outputs": [],
   "source": [
    "fuel_cost = mcoe.fuel_cost(g8_es, g9_summed, frc9_summed, frc9_summed_plant, heat_rate)"
   ]
  },
  {
   "cell_type": "code",
   "execution_count": null,
   "metadata": {},
   "outputs": [],
   "source": [
    "# fuel_cost.plant_id_pudl.astype(int)\n",
    "heat_rate.head(2)"
   ]
  },
  {
   "cell_type": "code",
   "execution_count": null,
   "metadata": {
    "scrolled": true
   },
   "outputs": [],
   "source": [
    "fuel_cost.head(2)"
   ]
  },
  {
   "cell_type": "markdown",
   "metadata": {},
   "source": [
    "### Merge fields together"
   ]
  },
  {
   "cell_type": "code",
   "execution_count": null,
   "metadata": {},
   "outputs": [],
   "source": [
    "mcoe_by_generator = fuel_cost[['plant_id_eia',\n",
    "                               'plant_id_pudl',\n",
    "                               'report_year',\n",
    "                               'generator_id',\n",
    "                               'energy_source',\n",
    "                               'mmbtu_es',\n",
    "                               'mmbtu_plant',\n",
    "                               'fuel_cost_es',\n",
    "                               'fuel_cost_plant',\n",
    "                               'fuel_cost_per_mmbtu_average',\n",
    "                               'fuel_cost_per_mwh']].merge(heat_rate,\n",
    "                                                           on=['plant_id_eia', 'plant_id_pudl','report_year','generator_id'])"
   ]
  },
  {
   "cell_type": "code",
   "execution_count": null,
   "metadata": {},
   "outputs": [],
   "source": [
    "mcoe_by_generator.head(2)"
   ]
  },
  {
   "cell_type": "code",
   "execution_count": null,
   "metadata": {
    "collapsed": true
   },
   "outputs": [],
   "source": [
    "mcoe_by_generator = mcoe_by_generator.merge(capacity_factor.drop('net_generation_mwh', axis=1),\n",
    "                                            on=['plant_id_eia','plant_id_pudl','report_year','generator_id'])\n"
   ]
  },
  {
   "cell_type": "code",
   "execution_count": null,
   "metadata": {},
   "outputs": [],
   "source": [
    "mcoe_by_generator.head(2)"
   ]
  },
  {
   "cell_type": "code",
   "execution_count": null,
   "metadata": {
    "collapsed": true
   },
   "outputs": [],
   "source": [
    "mcoe_by_generator = mcoe_by_generator.merge(bf9_plant_summed, on=['plant_id_eia', 'plant_id_pudl','report_year'])"
   ]
  },
  {
   "cell_type": "code",
   "execution_count": null,
   "metadata": {},
   "outputs": [],
   "source": [
    "mcoe_by_generator.head()"
   ]
  },
  {
   "cell_type": "code",
   "execution_count": null,
   "metadata": {},
   "outputs": [],
   "source": [
    "fuel_cost.head(5)"
   ]
  },
  {
   "cell_type": "markdown",
   "metadata": {},
   "source": [
    "### Filter to include only plants >= 10 MW"
   ]
  },
  {
   "cell_type": "code",
   "execution_count": null,
   "metadata": {
    "collapsed": true
   },
   "outputs": [],
   "source": [
    "# Now, let's grab only those plants larger than 10MW\n",
    "mcoe_by_generator = mcoe_by_generator[mcoe_by_generator['nameplate_capacity_mw']>=10]"
   ]
  },
  {
   "cell_type": "markdown",
   "metadata": {},
   "source": [
    "## Aggregate at fuel cost and net gen at plant level for comparison with FERC"
   ]
  },
  {
   "cell_type": "code",
   "execution_count": null,
   "metadata": {
    "scrolled": true
   },
   "outputs": [],
   "source": [
    "frc9 = analysis.simple_select('fuel_receipts_costs_eia923', pudl_engine)\n",
    "frc9['fuel_cost'] = (frc9['fuel_quantity'] *\n",
    "                     frc9['average_heat_content'] *\n",
    "                     frc9['fuel_cost_per_mmbtu'])"
   ]
  },
  {
   "cell_type": "code",
   "execution_count": null,
   "metadata": {},
   "outputs": [],
   "source": [
    "fuel_summed = analysis.yearly_sum_eia(frc9, 'fuel_cost', columns=['plant_id_pudl',\n",
    "                                           'report_year'])\n",
    "fuel_summed = fuel_summed.reset_index()\n",
    "fuel_summed.rename(columns={'fuel_cost': 'fuel_cost_annual_eia'}, inplace=True)\n",
    "fuel_summed = fuel_summed.reset_index()"
   ]
  },
  {
   "cell_type": "code",
   "execution_count": null,
   "metadata": {},
   "outputs": [],
   "source": [
    "fuel_summed.head(2)"
   ]
  },
  {
   "cell_type": "code",
   "execution_count": null,
   "metadata": {
    "collapsed": true,
    "scrolled": false
   },
   "outputs": [],
   "source": [
    "eia_netgen = mcoe_by_generator.groupby(by=['plant_id_eia', 'plant_id_pudl','report_year'])\n",
    "netgen_summed = eia_netgen.agg({'net_generation_mwh':np.sum})\n",
    "netgen_summed.rename(columns={'net_generation_mwh': 'net_generation_mwh_plant_eia'}, inplace=True)\n",
    "netgen_summed = netgen_summed.reset_index()"
   ]
  },
  {
   "cell_type": "code",
   "execution_count": null,
   "metadata": {},
   "outputs": [],
   "source": [
    "mcoe_by_generator2 = mcoe_by_generator.merge(fuel_summed, how=\"left\", left_on=['plant_id_pudl', 'report_year'], \n",
    "                                             right_on=['plant_id_pudl', 'report_year'])"
   ]
  },
  {
   "cell_type": "code",
   "execution_count": null,
   "metadata": {},
   "outputs": [],
   "source": [
    "mcoe_by_generator2.head(2)"
   ]
  },
  {
   "cell_type": "code",
   "execution_count": null,
   "metadata": {
    "collapsed": true
   },
   "outputs": [],
   "source": [
    "mcoe_by_generator3 = mcoe_by_generator2.merge(netgen_summed, how=\"left\", on=['plant_id_eia', 'plant_id_pudl', 'report_year'])"
   ]
  },
  {
   "cell_type": "code",
   "execution_count": null,
   "metadata": {},
   "outputs": [],
   "source": [
    "mcoe_by_generator3.head(2)"
   ]
  },
  {
   "cell_type": "code",
   "execution_count": null,
   "metadata": {},
   "outputs": [],
   "source": [
    "mcoe_by_generator = mcoe_by_generator3"
   ]
  },
  {
   "cell_type": "markdown",
   "metadata": {},
   "source": [
    "## Export the data frame"
   ]
  },
  {
   "cell_type": "code",
   "execution_count": null,
   "metadata": {},
   "outputs": [],
   "source": [
    "# rearrange columns\n",
    "mcoe_by_generator = mcoe_by_generator3[[\n",
    "    'plant_id_eia', \n",
    "    'plant_id_pudl',\n",
    "    'plant_name',\n",
    "    'operator_name', \n",
    "    'state', \n",
    "    'report_year', \n",
    "    'generator_id', \n",
    "    'energy_source',\n",
    "    'mmbtu_es',\n",
    "    'mmbtu_plant',\n",
    "    'fuel_cost_es',\n",
    "    'fuel_cost_plant',\n",
    "    'fuel_cost_per_mmbtu_average',\n",
    "    'fuel_consumed_mmbtu',\n",
    "    'fuel_consumed_mmbtu_per_gen',\n",
    "    'fuel_cost_annual_eia',\n",
    "    'heat_rate_mmbtu_mwh', \n",
    "    'plant_assn', \n",
    "    'net_generation_mwh', \n",
    "    'net_generation_mwh_plant_eia',\n",
    "    'fuel_cost_per_mwh',\n",
    "    'nameplate_capacity_mw', \n",
    "    'capacity_factor']]"
   ]
  },
  {
   "cell_type": "code",
   "execution_count": null,
   "metadata": {},
   "outputs": [],
   "source": [
    "mcoe_by_generator.head(2)"
   ]
  },
  {
   "cell_type": "markdown",
   "metadata": {},
   "source": [
    "# Pull in FERC data & identify plants with simple"
   ]
  },
  {
   "cell_type": "code",
   "execution_count": null,
   "metadata": {
    "collapsed": true
   },
   "outputs": [],
   "source": [
    "simple_ferc = analysis.simple_ferc1_plant_ids(pudl_engine)"
   ]
  },
  {
   "cell_type": "code",
   "execution_count": null,
   "metadata": {
    "collapsed": true
   },
   "outputs": [],
   "source": [
    "# convert simple ferc list into a pandas series for import to analysis.ferc_expenses() function\n",
    "simple_ferc = simple_ferc.iloc[:,0]"
   ]
  },
  {
   "cell_type": "code",
   "execution_count": null,
   "metadata": {
    "collapsed": true,
    "scrolled": false
   },
   "outputs": [],
   "source": [
    "pd.options.display.max_rows = 999"
   ]
  },
  {
   "cell_type": "code",
   "execution_count": null,
   "metadata": {
    "collapsed": true
   },
   "outputs": [],
   "source": [
    "fp = outputs.plants_steam_ferc1(pudl_engine)\n",
    "# fp = analysis.get_steam_ferc1_df(pudl_engine)"
   ]
  },
  {
   "cell_type": "code",
   "execution_count": null,
   "metadata": {
    "collapsed": true
   },
   "outputs": [],
   "source": [
    "# ferc_expenses returns:\n",
    "# ferc1_expns_corr: A dictionary of expense categories\n",
    "#             and their correlations to the plant's net electricity generation.\n",
    "# steam_df: a dataframe with all the operating expenses broken out for each simple FERC PUDL plant."
   ]
  },
  {
   "cell_type": "code",
   "execution_count": null,
   "metadata": {
    "collapsed": true
   },
   "outputs": [],
   "source": [
    "ferc_expenses = analysis.ferc_expenses(pudl_engine, simple_ferc)\n",
    "ferc_expenses_df = ferc_expenses[1]"
   ]
  },
  {
   "cell_type": "code",
   "execution_count": null,
   "metadata": {
    "scrolled": false
   },
   "outputs": [],
   "source": [
    "ferc_expenses_df.head()"
   ]
  },
  {
   "cell_type": "code",
   "execution_count": null,
   "metadata": {
    "collapsed": true
   },
   "outputs": [],
   "source": [
    "# create a correlation table to export\n",
    "corr = pd.DataFrame.from_dict(ferc_expenses[0], orient='index')\n",
    "corr.index.names = ['expense_variable']\n",
    "corr = corr.reset_index()\n",
    "corr = corr.rename(columns={0: 'correlation_with_net_generation_mwh_plant'})"
   ]
  },
  {
   "cell_type": "code",
   "execution_count": null,
   "metadata": {
    "collapsed": true
   },
   "outputs": [],
   "source": [
    "# create a ferc_expenses data frame to merge with EIA data\n",
    "ferc_expenses_df = ferc_expenses[1]"
   ]
  },
  {
   "cell_type": "code",
   "execution_count": null,
   "metadata": {
    "collapsed": true
   },
   "outputs": [],
   "source": [
    "ferc_expenses_df.rename(columns={'net_generation_mwh': 'net_generation_mwh_plant',\n",
    "                                 'plant_name': 'plant_name_ferc',\n",
    "                                 'respondent_id': 'respondent_id_ferc',\n",
    "                                 'respondent_name': 'respondent_name_ferc',\n",
    "                                 'total_capacity_mw': 'total_capacity_mw_plant'}, inplace=True)"
   ]
  },
  {
   "cell_type": "code",
   "execution_count": null,
   "metadata": {
    "collapsed": true
   },
   "outputs": [],
   "source": [
    "mcoe_by_generator.rename(columns={'net_generation_mwh': 'net_generation_mwh_generator',\n",
    "                                  'plant_name': 'plant_name_eia',\n",
    "                                  'operator_name': 'operator_name_eia',\n",
    "                                  'nameplate_capacity_mw': 'nameplate_capacity_mw_generator',\n",
    "                                  'summer_capacity_mw': 'summer_capacity_mw_generator',\n",
    "                                  'winter_capacity_mw': 'winter_capacity_mw_generator'}, inplace=True)"
   ]
  },
  {
   "cell_type": "code",
   "execution_count": null,
   "metadata": {},
   "outputs": [],
   "source": [
    "mcoe_by_generator.head(2)"
   ]
  },
  {
   "cell_type": "code",
   "execution_count": null,
   "metadata": {
    "collapsed": true
   },
   "outputs": [],
   "source": [
    "# mcoe_by_generator.drop('plant_id_pudl', axis=1, inplace=True)"
   ]
  },
  {
   "cell_type": "code",
   "execution_count": null,
   "metadata": {
    "collapsed": true
   },
   "outputs": [],
   "source": [
    "# Left merge keeps all rows of mcoe_by_generator and duplicates values of ferc_expenses_df \n",
    "# for each combination of plant_id_pudl and report_date\n",
    "merged = mcoe_by_generator.merge(ferc_expenses_df, how=\"left\", left_on=['plant_id_pudl', 'report_year'], right_on=['plant_id_pudl', 'report_year'])"
   ]
  },
  {
   "cell_type": "code",
   "execution_count": null,
   "metadata": {
    "collapsed": true
   },
   "outputs": [],
   "source": [
    "# remove the non-simple plants by dropping rows where plant_name_ferc = NA\n",
    "merged = merged.dropna(subset=['plant_name_ferc'])"
   ]
  },
  {
   "cell_type": "code",
   "execution_count": null,
   "metadata": {},
   "outputs": [],
   "source": [
    "merged.head()"
   ]
  },
  {
   "cell_type": "code",
   "execution_count": null,
   "metadata": {},
   "outputs": [],
   "source": [
    "# rearrange columns\n",
    "merged = merged[[\n",
    "    'plant_id_pudl', 'plant_id_eia', 'plant_name_eia',\n",
    "    'operator_name_eia', 'state', 'report_year', \n",
    "    'generator_id', \n",
    "    'energy_source', 'mmbtu_es', 'mmbtu_plant',\n",
    "    'fuel_cost_es', 'fuel_cost_plant',\n",
    "    'fuel_cost_per_mmbtu_average',\n",
    "    'fuel_consumed_mmbtu', \n",
    "    'fuel_consumed_mmbtu_per_gen', 'fuel_cost_annual_eia',\n",
    "    'heat_rate_mmbtu_mwh', 'plant_assn', \n",
    "    'net_generation_mwh_generator', 'net_generation_mwh_plant_eia',\n",
    "    'fuel_cost_per_mwh', 'nameplate_capacity_mw_generator', \n",
    "    'capacity_factor',\n",
    "    'report_year', 'respondent_id_ferc', 'util_id_pudl', \n",
    "    'respondent_name_ferc', 'plant_name_ferc',\n",
    "    'total_capacity_mw_plant', 'year_constructed', 'year_installed',\n",
    "    'peak_demand_mw', 'water_limited_mw', 'not_water_limited_mw',\n",
    "    'plant_hours', 'net_generation_mwh_plant', 'expns_operations',\n",
    "    'expns_fuel', 'expns_coolants', 'expns_steam', 'expns_steam_other',\n",
    "    'expns_transfer', 'expns_electric', 'expns_misc_power', 'expns_rents',\n",
    "    'expns_allowances', 'expns_engineering', 'expns_structures',\n",
    "    'expns_boiler', 'expns_plants', 'expns_misc_steam',\n",
    "    'expns_production_total', 'expns_per_mwh',\n",
    "    'expns_total_nonfuel_production', 'expns_total_nonproduction']]"
   ]
  },
  {
   "cell_type": "code",
   "execution_count": null,
   "metadata": {},
   "outputs": [],
   "source": [
    "# number of plants in this data set\n",
    "len(merged.plant_id_pudl.unique())"
   ]
  },
  {
   "cell_type": "code",
   "execution_count": null,
   "metadata": {
    "collapsed": true
   },
   "outputs": [],
   "source": [
    "mcoe_annotations = pd.read_csv('mcoe_field_annotations_detailed.csv')\n",
    "mcoe_notes = pd.read_csv('mcoe_notes.csv')"
   ]
  },
  {
   "cell_type": "code",
   "execution_count": null,
   "metadata": {
    "collapsed": true
   },
   "outputs": [],
   "source": [
    "# # to export all the data\n",
    "# xlsx_writer = pd.ExcelWriter('coal_plants_detailed_MCOE_by_generator_2011-2016.xlsx')\n",
    "# merged.to_excel(xlsx_writer, sheet_name='MCOE by Generator', index=False, na_rep='NA')\n",
    "# corr.to_excel(xlsx_writer, sheet_name='Expense Correlations', index=False, na_rep='NA')\n",
    "# mcoe_annotations.to_excel(xlsx_writer, sheet_name='MCOE Annotations', index=False)\n",
    "# mcoe_notes.to_excel(xlsx_writer, sheet_name='MCOE Notes', index=False)\n",
    "\n",
    "# xlsx_writer.save()"
   ]
  },
  {
   "cell_type": "code",
   "execution_count": null,
   "metadata": {
    "collapsed": true
   },
   "outputs": [],
   "source": [
    "# to export all the data\n",
    "# xlsx_writer = pd.ExcelWriter('test_primary_fuel_cost_attribution.xlsx')\n",
    "# xlsx_writer = pd.ExcelWriter('test_plant_category_cost_attribution.xlsx')\n",
    "# xlsx_writer = pd.ExcelWriter('coal_plants_NSPC&MPI_detailed_MCOE_by_generator_2011-2016.xlsx')\n",
    "\n",
    "# test.to_excel(xlsx_writer, sheet_name='MCOE by Generator', index=False, na_rep='NA')\n",
    "# corr.to_excel(xlsx_writer, sheet_name='Expense Correlations', index=False, na_rep='NA')\n",
    "# mcoe_annotations.to_excel(xlsx_writer, sheet_name='MCOE Annotations', index=False)\n",
    "# mcoe_notes.to_excel(xlsx_writer, sheet_name='MCOE Notes', index=False)\n",
    "\n",
    "# xlsx_writer.save()"
   ]
  },
  {
   "cell_type": "code",
   "execution_count": null,
   "metadata": {},
   "outputs": [],
   "source": [
    "merged.head(3)"
   ]
  },
  {
   "cell_type": "code",
   "execution_count": null,
   "metadata": {
    "collapsed": true
   },
   "outputs": [],
   "source": [
    "merged2 = merged.dropna(subset=['net_generation_mwh_plant_eia', 'net_generation_mwh_plant'])"
   ]
  },
  {
   "cell_type": "code",
   "execution_count": null,
   "metadata": {
    "scrolled": false
   },
   "outputs": [],
   "source": [
    "fuels = ['gas','oil','coal']\n",
    "fig, (ax) = plt.subplots(ncols=1, nrows=1)\n",
    "fig.set_figwidth(10)\n",
    "fig.set_figheight(10)\n",
    "fig.set_dpi(150)\n",
    "ax.loglog()\n",
    "plt.grid(b=True)\n",
    "R2 = np.corrcoef(merged2.net_generation_mwh_plant_eia, merged2.net_generation_mwh_plant)[0,1]**2\n",
    "ax.scatter(merged2.net_generation_mwh_plant_eia, merged2.net_generation_mwh_plant, s=10, color='blue')\n",
    "ax.legend(loc='upper left')\n",
    "plt.title(\"Annual net generation by plant, EIA 923 vs. FERC Form 1 ($r^2$={:.2f})\".format(R2))\n",
    "plt.xlabel(\"Net generation by PUDL plant from EIA923 (MWh)\")\n",
    "plt.ylabel(\"Net generation by PUDL plant from FERC1 (MWh)\")\n",
    "plt.show();"
   ]
  },
  {
   "cell_type": "code",
   "execution_count": null,
   "metadata": {
    "collapsed": true
   },
   "outputs": [],
   "source": [
    "merged3 = merged.dropna(subset=['fuel_cost_annual_eia', 'expns_fuel'])"
   ]
  },
  {
   "cell_type": "code",
   "execution_count": null,
   "metadata": {},
   "outputs": [],
   "source": [
    "fuels = ['gas','oil','coal']\n",
    "fig, (ax) = plt.subplots(ncols=1, nrows=1)\n",
    "fig.set_figwidth(10)\n",
    "fig.set_figheight(10)\n",
    "fig.set_dpi(150)\n",
    "ax.loglog()\n",
    "plt.grid(b=True)\n",
    "R2 = np.corrcoef(merged3.fuel_cost_annual_eia, merged3.expns_fuel)[0,1]**2\n",
    "ax.scatter(merged3.fuel_cost_annual_eia, merged3.expns_fuel, s=10, color='green')\n",
    "ax.legend(loc='upper left')\n",
    "plt.title(\"Fuel cost per year, EIA 923 vs. FERC Form 1, ($r^2$={:.2f})\".format(R2))\n",
    "plt.xlabel(\"Fuel cost per year, by PUDL plant from EIA923 ($)\")\n",
    "plt.ylabel(\"Fuel cost per year, by PUDL plant from FERC1 ($)\")\n",
    "plt.show();"
   ]
  },
  {
   "cell_type": "code",
   "execution_count": null,
   "metadata": {},
   "outputs": [],
   "source": [
    "plt.hist(merged.net_generation_mwh_plant_eia, range=(0,500000), bins=100, alpha=0.5, color='green', label=\"EIA\")\n",
    "plt.hist(merged.net_generation_mwh_plant, range=(0,500000), bins=100, alpha=0.5, color='blue', label='FERC')\n",
    "plt.xlabel(\"Total net generation per plant (MWh)\")\n",
    "plt.ylabel(\"Number of records\")\n",
    "plt.title(\"Net generation (MWh)\")\n",
    "plt.legend()"
   ]
  },
  {
   "cell_type": "code",
   "execution_count": null,
   "metadata": {},
   "outputs": [],
   "source": [
    "#quick look at spread in fuel_cost_per_mwh for these plants\n",
    "plt.hist(merged.fuel_cost_per_mwh, range=(0,200), bins=200, alpha=0.5, color='green')\n",
    "ferc_fuel_cost_per_mwh = merged.expns_fuel / merged.net_generation_mwh_plant\n",
    "plt.hist(ferc_fuel_cost_per_mwh, range=(0,200), bins=200, alpha=0.5, color='blue')\n",
    "plt.xlabel(\"Fuel Cost ($/mwh)\")\n",
    "plt.ylabel(\"Number of records\")\n",
    "plt.title(\"Cost of fuel\")\n"
   ]
  },
  {
   "cell_type": "markdown",
   "metadata": {},
   "source": [
    "## A few plots"
   ]
  },
  {
   "cell_type": "code",
   "execution_count": null,
   "metadata": {},
   "outputs": [],
   "source": [
    "# Take a look at heat rates from EIA\n",
    "plt.hist(heat_rate.heat_rate_mmbtu_mwh, range=[0,50],bins=100,weights=heat_rate.net_generation_mwh, alpha=0.5)\n",
    "#heat_rate['heat_rate_mmbtu_mwh'].plot(kind='hist', bins=100, range=[-20,70])\n",
    "plt.xlabel('Generator heat rate (MMBtu/MWh)')\n",
    "plt.ylabel(\"Generator records (weighted by net generation)\")\n",
    "plt.title(\"Heat rates\")\n",
    "plt.show()"
   ]
  },
  {
   "cell_type": "code",
   "execution_count": null,
   "metadata": {},
   "outputs": [],
   "source": [
    "#quick look at spread in fuel_cost_per_mmbtu\n",
    "plt.hist(mcoe_by_generator.fuel_cost_per_mmbtu_average, range=(-5,50), bins=200, alpha=0.5, color='green')\n",
    "plt.xlabel(\"Fuel Cost ($/mmBTU)\")\n",
    "plt.ylabel(\"Number of generator records\")\n",
    "plt.title(\"Cost of fuel\")\n",
    "plt.legend()"
   ]
  },
  {
   "cell_type": "code",
   "execution_count": null,
   "metadata": {},
   "outputs": [],
   "source": [
    "#quick look at capacity factors\n",
    "plt.hist(mcoe_by_generator.capacity_factor, range=(0,1.5), bins=200, alpha=0.5, color='blue')\n",
    "plt.xlabel(\"Capacity factor (Net generation/Nameplate capacity)\")\n",
    "plt.ylabel(\"Number of generator records\")\n",
    "plt.title(\"Capacity factors\")\n",
    "plt.legend()"
   ]
  },
  {
   "cell_type": "code",
   "execution_count": null,
   "metadata": {},
   "outputs": [],
   "source": [
    "#quick look at spread in fuel_cost_per_mwh for these plants\n",
    "plt.hist(merged.fuel_cost_per_mwh, range=(0,200), bins=200, alpha=0.5, color='green')\n",
    "plt.xlabel(\"Fuel Cost ($/mwh)\")\n",
    "plt.ylabel(\"Number of generator records\")\n",
    "plt.title(\"Cost of fuel\")\n",
    "plt.legend()"
   ]
  },
  {
   "cell_type": "code",
   "execution_count": null,
   "metadata": {
    "collapsed": true
   },
   "outputs": [],
   "source": []
  },
  {
   "cell_type": "code",
   "execution_count": null,
   "metadata": {
    "collapsed": true
   },
   "outputs": [],
   "source": []
  },
  {
   "cell_type": "code",
   "execution_count": null,
   "metadata": {
    "collapsed": true
   },
   "outputs": [],
   "source": []
  },
  {
   "cell_type": "code",
   "execution_count": null,
   "metadata": {
    "collapsed": true
   },
   "outputs": [],
   "source": []
  }
 ],
 "metadata": {
  "kernelspec": {
   "display_name": "Python 3",
   "language": "python",
   "name": "python3"
  },
  "language_info": {
   "codemirror_mode": {
    "name": "ipython",
    "version": 3
   },
   "file_extension": ".py",
   "mimetype": "text/x-python",
   "name": "python",
   "nbconvert_exporter": "python",
   "pygments_lexer": "ipython3",
   "version": "3.6.1"
  }
 },
 "nbformat": 4,
 "nbformat_minor": 2
}
