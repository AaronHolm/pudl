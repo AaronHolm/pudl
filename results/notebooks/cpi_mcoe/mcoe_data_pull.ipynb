{
 "cells": [
  {
   "cell_type": "code",
   "execution_count": 1,
   "metadata": {
    "collapsed": true
   },
   "outputs": [],
   "source": [
    "import sys\n",
    "import os\n",
    "import numpy as np\n",
    "import pandas as pd\n",
    "import sqlalchemy as sa\n",
    "sys.path.append(os.path.abspath(os.path.join('..','..','..')))\n",
    "from pudl import pudl, ferc1, eia923, settings, constants, analysis\n",
    "from pudl import models, models_ferc1, models_eia923\n",
    "from pudl import clean_eia923, clean_ferc1, clean_pudl, mcoe\n",
    "import matplotlib.pyplot as plt\n",
    "import matplotlib as mpl\n",
    "pd.options.mode.chained_assignment = None\n",
    "%matplotlib inline\n",
    "plt.style.use('ggplot')\n",
    "mpl.rcParams['figure.figsize'] = (10,6)\n",
    "mpl.rcParams['figure.dpi'] = 150\n",
    "pd.options.display.max_columns = 56"
   ]
  },
  {
   "cell_type": "code",
   "execution_count": 2,
   "metadata": {
    "collapsed": true
   },
   "outputs": [],
   "source": [
    "pudl_engine  = pudl.db_connect_pudl()"
   ]
  },
  {
   "cell_type": "markdown",
   "metadata": {},
   "source": [
    "### Pulling the required tables"
   ]
  },
  {
   "cell_type": "code",
   "execution_count": 3,
   "metadata": {
    "collapsed": true
   },
   "outputs": [],
   "source": [
    "# Bring in pudl IDs for all EIA plants\n",
    "pudl_ids = g9 = analysis.simple_select('plants_eia', pudl_engine)"
   ]
  },
  {
   "cell_type": "code",
   "execution_count": null,
   "metadata": {
    "collapsed": true,
    "scrolled": false
   },
   "outputs": [],
   "source": [
    "# Convert the generation_eia923 table into a dataframe\n",
    "g9 = analysis.simple_select('generation_eia923', pudl_engine)\n",
    "# Get yearly net generation by plant_id, year and generator_id\n",
    "g9_summed = analysis.yearly_sum_eia(g9, 'net_generation_mwh')\n",
    "g9_summed.reset_index(inplace=True)"
   ]
  },
  {
   "cell_type": "code",
   "execution_count": 4,
   "metadata": {},
   "outputs": [],
   "source": [
    "g9_summed = mcoe.generation_pull_eia923(pudl_engine)"
   ]
  },
  {
   "cell_type": "code",
   "execution_count": null,
   "metadata": {},
   "outputs": [],
   "source": [
    "# Convert the generators_eia860 table into a dataframe\n",
    "g8 = analysis.simple_select('generators_eia860', pudl_engine)\n",
    "\n",
    "\n",
    "# In order to use the capacity of each generator\n",
    "g8 = g8[['plant_id','plant_name', 'operator_name', 'state', 'generator_id','nameplate_capacity_mw','summer_capacity_mw','winter_capacity_mw','report_year']]\n",
    "#g8.rename(columns={'year': 'report_date'},inplace=True)\n",
    "\n",
    "# # Cheating to duplicate 2015 EIA860 capacity factor data for 2016:\n",
    "g8_2016 = g8.loc[g8['report_year'] == 2015]\n",
    "g8_2016.report_year.replace([2015], [2016], inplace=True)\n",
    "g8 = g8_2016.append(g8)"
   ]
  },
  {
   "cell_type": "code",
   "execution_count": 5,
   "metadata": {},
   "outputs": [],
   "source": [
    "g8, g8_es = mcoe.generators_pull_eia860(pudl_engine)"
   ]
  },
  {
   "cell_type": "code",
   "execution_count": null,
   "metadata": {},
   "outputs": [],
   "source": [
    "g8_es.head()"
   ]
  },
  {
   "cell_type": "code",
   "execution_count": null,
   "metadata": {
    "scrolled": false
   },
   "outputs": [],
   "source": [
    "# Convert the fuel_receipts_costs_eia923 table into a dataframe\n",
    "frc9 = analysis.simple_select('fuel_receipts_costs_eia923', pudl_engine)\n",
    "frc9['fuel_cost'] = (frc9['fuel_quantity'] * frc9['average_heat_content'] * frc9['fuel_cost_per_mmbtu'])\n",
    "frc9['mmbtu'] =  (frc9['fuel_quantity'] * frc9['average_heat_content'])"
   ]
  },
  {
   "cell_type": "code",
   "execution_count": null,
   "metadata": {
    "collapsed": true
   },
   "outputs": [],
   "source": [
    "# Get yearly fuel cost by plant_id, year and energy_source\n",
    "frc9_summed = analysis.yearly_sum_eia(frc9 , 'fuel_cost', columns=['plant_id','report_date','energy_source'])\n",
    "frc9_summed = frc9_summed.reset_index()"
   ]
  },
  {
   "cell_type": "code",
   "execution_count": null,
   "metadata": {
    "collapsed": true
   },
   "outputs": [],
   "source": [
    "frc9_mmbtu_summed = analysis.yearly_sum_eia(frc9 , 'mmbtu', columns=['plant_id','report_date','energy_source'])\n",
    "frc9_mmbtu_summed = frc9_mmbtu_summed.reset_index()"
   ]
  },
  {
   "cell_type": "code",
   "execution_count": null,
   "metadata": {
    "collapsed": true
   },
   "outputs": [],
   "source": [
    "frc9_summed = frc9_mmbtu_summed.merge(frc9_summed)\n",
    "frc9_summed['fuel_cost_per_mmbtu_average'] = (frc9_summed.fuel_cost/frc9_summed.mmbtu)"
   ]
  },
  {
   "cell_type": "code",
   "execution_count": 6,
   "metadata": {
    "collapsed": true
   },
   "outputs": [],
   "source": [
    "frc9_summed, frc9_summed_plant = mcoe.fuel_reciepts_costs_pull_eia923(pudl_engine)"
   ]
  },
  {
   "cell_type": "code",
   "execution_count": null,
   "metadata": {
    "collapsed": true
   },
   "outputs": [],
   "source": [
    "# Convert the boiler_fuel_eia923 table into a dataframe\n",
    "bf9 = analysis.simple_select('boiler_fuel_eia923', pudl_engine)\n",
    "bf9['fuel_consumed_mmbtu'] = bf9['fuel_qty_consumed']*bf9['fuel_mmbtu_per_unit']\n",
    "# Get yearly fuel consumed by plant_id, year and boiler_id\n",
    "bf9_summed = analysis.yearly_sum_eia(bf9 , 'fuel_consumed_mmbtu', columns=['plant_id','report_date','boiler_id'])\n",
    "bf9_summed.reset_index(inplace=True)\n",
    "# Get yearly fuel consumed by plant_id, year and boiler_id\n",
    "bf9_plant_summed = analysis.yearly_sum_eia(bf9 , 'fuel_consumed_mmbtu', columns=['plant_id','report_date'])\n",
    "bf9_plant_summed.reset_index(inplace=True)"
   ]
  },
  {
   "cell_type": "code",
   "execution_count": 7,
   "metadata": {
    "collapsed": true
   },
   "outputs": [],
   "source": [
    "bf9_summed, bf9_plant_summed = mcoe.boiler_fuel_pull_eia923(pudl_engine)"
   ]
  },
  {
   "cell_type": "code",
   "execution_count": null,
   "metadata": {
    "collapsed": true
   },
   "outputs": [],
   "source": [
    "# Convert the boiler_generator_assn_eia860 table into a dataframe\n",
    "bga8 = analysis.simple_select('boiler_generator_assn_eia860', pudl_engine)\n",
    "bga8.drop(['id','operator_id'],axis=1, inplace=True)\n",
    "bga8.drop_duplicates(['plant_id','boiler_id','generator_id'],inplace=True)"
   ]
  },
  {
   "cell_type": "code",
   "execution_count": 8,
   "metadata": {
    "collapsed": true
   },
   "outputs": [],
   "source": [
    "bga8 = mcoe.boiler_generator_pull_eia860(pudl_engine)"
   ]
  },
  {
   "cell_type": "code",
   "execution_count": null,
   "metadata": {},
   "outputs": [],
   "source": [
    "# get the primary fuel for each plant (to be used to combine plants that have unassociated generators)\n",
    "gf9 = analysis.simple_select_with_pudl_plant_id('generation_fuel_eia923', pudl_engine)"
   ]
  },
  {
   "cell_type": "code",
   "execution_count": null,
   "metadata": {
    "collapsed": true
   },
   "outputs": [],
   "source": [
    "primary_fuel9 = analysis.primary_fuel_gf_eia923(gf9).rename(columns={'year':'report_date'})"
   ]
  },
  {
   "cell_type": "markdown",
   "metadata": {},
   "source": [
    "## Generating Capacity Factor"
   ]
  },
  {
   "cell_type": "code",
   "execution_count": 9,
   "metadata": {
    "scrolled": false
   },
   "outputs": [],
   "source": [
    "capacity_factor = analysis.capacity_factor(g9_summed,g8)"
   ]
  },
  {
   "cell_type": "markdown",
   "metadata": {},
   "source": [
    "## Generating Heat Rate"
   ]
  },
  {
   "cell_type": "code",
   "execution_count": 11,
   "metadata": {},
   "outputs": [],
   "source": [
    "heat_rate = mcoe.heat_rate(bga8, g9_summed, bf9_summed, bf9_plant_summed, pudl_engine)"
   ]
  },
  {
   "cell_type": "markdown",
   "metadata": {},
   "source": [
    "## Generating Fuel Cost"
   ]
  },
  {
   "cell_type": "code",
   "execution_count": 13,
   "metadata": {},
   "outputs": [],
   "source": [
    "fuel_cost = mcoe.fuel_cost(g8_es, g9_summed, frc9_summed, frc9_summed_plant, heat_rate)"
   ]
  },
  {
   "cell_type": "markdown",
   "metadata": {},
   "source": [
    "### Merge fields together"
   ]
  },
  {
   "cell_type": "code",
   "execution_count": 16,
   "metadata": {},
   "outputs": [],
   "source": [
    "mcoe_by_generator = fuel_cost[['plant_id_eia',\n",
    "                               'report_year',\n",
    "                               'generator_id',\n",
    "                               'energy_source',\n",
    "                               'fuel_cost_per_mmbtu_average',\n",
    "                               'fuel_cost_per_mwh']].merge(heat_rate,\n",
    "                                                           on=['plant_id_eia','report_year','generator_id'])"
   ]
  },
  {
   "cell_type": "code",
   "execution_count": 17,
   "metadata": {
    "collapsed": true
   },
   "outputs": [],
   "source": [
    "mcoe_by_generator = mcoe_by_generator.merge(capacity_factor.drop('net_generation_mwh', axis=1),\n",
    "                                            on=['plant_id_eia','report_year','generator_id'])"
   ]
  },
  {
   "cell_type": "markdown",
   "metadata": {},
   "source": [
    "### Filter to include only plants >= 10 MW"
   ]
  },
  {
   "cell_type": "code",
   "execution_count": 18,
   "metadata": {
    "collapsed": true
   },
   "outputs": [],
   "source": [
    "# Now, let's grab only those plants larger than 10MW\n",
    "mcoe_by_generator = mcoe_by_generator[mcoe_by_generator['nameplate_capacity_mw']>=10]"
   ]
  },
  {
   "cell_type": "code",
   "execution_count": 21,
   "metadata": {},
   "outputs": [
    {
     "data": {
      "text/html": [
       "<div>\n",
       "<style>\n",
       "    .dataframe thead tr:only-child th {\n",
       "        text-align: right;\n",
       "    }\n",
       "\n",
       "    .dataframe thead th {\n",
       "        text-align: left;\n",
       "    }\n",
       "\n",
       "    .dataframe tbody tr th {\n",
       "        vertical-align: top;\n",
       "    }\n",
       "</style>\n",
       "<table border=\"1\" class=\"dataframe\">\n",
       "  <thead>\n",
       "    <tr style=\"text-align: right;\">\n",
       "      <th></th>\n",
       "      <th>plant_id_eia</th>\n",
       "      <th>report_year</th>\n",
       "      <th>generator_id</th>\n",
       "      <th>energy_source</th>\n",
       "      <th>fuel_cost_per_mmbtu_average</th>\n",
       "      <th>fuel_cost_per_mwh</th>\n",
       "      <th>complete_assn</th>\n",
       "      <th>fuel_consumed_mmbtu_per_gen</th>\n",
       "      <th>heat_rate_mmbtu_mwh</th>\n",
       "      <th>net_generation_mwh</th>\n",
       "      <th>plant_assn</th>\n",
       "      <th>plant_id_pudl_x</th>\n",
       "      <th>plant_id_pudl_y</th>\n",
       "      <th>plant_id_pudl</th>\n",
       "      <th>plant_name</th>\n",
       "      <th>operator_name</th>\n",
       "      <th>state</th>\n",
       "      <th>nameplate_capacity_mw</th>\n",
       "      <th>summer_capacity_mw</th>\n",
       "      <th>winter_capacity_mw</th>\n",
       "      <th>capacity_factor</th>\n",
       "    </tr>\n",
       "  </thead>\n",
       "  <tbody>\n",
       "    <tr>\n",
       "      <th>0</th>\n",
       "      <td>7</td>\n",
       "      <td>2011</td>\n",
       "      <td>1</td>\n",
       "      <td>BIT</td>\n",
       "      <td>3.968971</td>\n",
       "      <td>63.964246</td>\n",
       "      <td>True</td>\n",
       "      <td>2976913.306</td>\n",
       "      <td>16.116077</td>\n",
       "      <td>184717.0</td>\n",
       "      <td>True</td>\n",
       "      <td>NaN</td>\n",
       "      <td>NaN</td>\n",
       "      <td>204</td>\n",
       "      <td>Gadsden</td>\n",
       "      <td>Alabama Power Co</td>\n",
       "      <td>AL</td>\n",
       "      <td>69.0</td>\n",
       "      <td>64.0</td>\n",
       "      <td>64.0</td>\n",
       "      <td>0.305600</td>\n",
       "    </tr>\n",
       "    <tr>\n",
       "      <th>1</th>\n",
       "      <td>7</td>\n",
       "      <td>2011</td>\n",
       "      <td>2</td>\n",
       "      <td>BIT</td>\n",
       "      <td>3.968971</td>\n",
       "      <td>57.239085</td>\n",
       "      <td>True</td>\n",
       "      <td>655939.555</td>\n",
       "      <td>14.421642</td>\n",
       "      <td>45483.0</td>\n",
       "      <td>True</td>\n",
       "      <td>NaN</td>\n",
       "      <td>NaN</td>\n",
       "      <td>204</td>\n",
       "      <td>Gadsden</td>\n",
       "      <td>Alabama Power Co</td>\n",
       "      <td>AL</td>\n",
       "      <td>69.0</td>\n",
       "      <td>66.0</td>\n",
       "      <td>66.0</td>\n",
       "      <td>0.075248</td>\n",
       "    </tr>\n",
       "    <tr>\n",
       "      <th>2</th>\n",
       "      <td>7</td>\n",
       "      <td>2012</td>\n",
       "      <td>1</td>\n",
       "      <td>BIT</td>\n",
       "      <td>3.379472</td>\n",
       "      <td>46.347079</td>\n",
       "      <td>True</td>\n",
       "      <td>2337574.264</td>\n",
       "      <td>13.714296</td>\n",
       "      <td>170448.0</td>\n",
       "      <td>True</td>\n",
       "      <td>NaN</td>\n",
       "      <td>NaN</td>\n",
       "      <td>204</td>\n",
       "      <td>Gadsden</td>\n",
       "      <td>Alabama Power Co</td>\n",
       "      <td>AL</td>\n",
       "      <td>69.0</td>\n",
       "      <td>64.0</td>\n",
       "      <td>64.0</td>\n",
       "      <td>0.281993</td>\n",
       "    </tr>\n",
       "    <tr>\n",
       "      <th>3</th>\n",
       "      <td>7</td>\n",
       "      <td>2012</td>\n",
       "      <td>2</td>\n",
       "      <td>BIT</td>\n",
       "      <td>3.379472</td>\n",
       "      <td>49.500162</td>\n",
       "      <td>True</td>\n",
       "      <td>756562.651</td>\n",
       "      <td>14.647306</td>\n",
       "      <td>51652.0</td>\n",
       "      <td>True</td>\n",
       "      <td>NaN</td>\n",
       "      <td>NaN</td>\n",
       "      <td>204</td>\n",
       "      <td>Gadsden</td>\n",
       "      <td>Alabama Power Co</td>\n",
       "      <td>AL</td>\n",
       "      <td>69.0</td>\n",
       "      <td>66.0</td>\n",
       "      <td>66.0</td>\n",
       "      <td>0.085454</td>\n",
       "    </tr>\n",
       "    <tr>\n",
       "      <th>4</th>\n",
       "      <td>7</td>\n",
       "      <td>2013</td>\n",
       "      <td>1</td>\n",
       "      <td>BIT</td>\n",
       "      <td>4.435634</td>\n",
       "      <td>65.782956</td>\n",
       "      <td>True</td>\n",
       "      <td>1618563.237</td>\n",
       "      <td>14.830564</td>\n",
       "      <td>109137.0</td>\n",
       "      <td>True</td>\n",
       "      <td>NaN</td>\n",
       "      <td>NaN</td>\n",
       "      <td>204</td>\n",
       "      <td>Gadsden</td>\n",
       "      <td>Alabama Power Co</td>\n",
       "      <td>AL</td>\n",
       "      <td>69.0</td>\n",
       "      <td>64.0</td>\n",
       "      <td>64.0</td>\n",
       "      <td>0.180559</td>\n",
       "    </tr>\n",
       "  </tbody>\n",
       "</table>\n",
       "</div>"
      ],
      "text/plain": [
       "   plant_id_eia  report_year generator_id energy_source  \\\n",
       "0             7         2011            1           BIT   \n",
       "1             7         2011            2           BIT   \n",
       "2             7         2012            1           BIT   \n",
       "3             7         2012            2           BIT   \n",
       "4             7         2013            1           BIT   \n",
       "\n",
       "   fuel_cost_per_mmbtu_average  fuel_cost_per_mwh  complete_assn  \\\n",
       "0                     3.968971          63.964246           True   \n",
       "1                     3.968971          57.239085           True   \n",
       "2                     3.379472          46.347079           True   \n",
       "3                     3.379472          49.500162           True   \n",
       "4                     4.435634          65.782956           True   \n",
       "\n",
       "   fuel_consumed_mmbtu_per_gen  heat_rate_mmbtu_mwh  net_generation_mwh  \\\n",
       "0                  2976913.306            16.116077            184717.0   \n",
       "1                   655939.555            14.421642             45483.0   \n",
       "2                  2337574.264            13.714296            170448.0   \n",
       "3                   756562.651            14.647306             51652.0   \n",
       "4                  1618563.237            14.830564            109137.0   \n",
       "\n",
       "   plant_assn  plant_id_pudl_x  plant_id_pudl_y  plant_id_pudl plant_name  \\\n",
       "0        True              NaN              NaN            204    Gadsden   \n",
       "1        True              NaN              NaN            204    Gadsden   \n",
       "2        True              NaN              NaN            204    Gadsden   \n",
       "3        True              NaN              NaN            204    Gadsden   \n",
       "4        True              NaN              NaN            204    Gadsden   \n",
       "\n",
       "      operator_name state  nameplate_capacity_mw  summer_capacity_mw  \\\n",
       "0  Alabama Power Co    AL                   69.0                64.0   \n",
       "1  Alabama Power Co    AL                   69.0                66.0   \n",
       "2  Alabama Power Co    AL                   69.0                64.0   \n",
       "3  Alabama Power Co    AL                   69.0                66.0   \n",
       "4  Alabama Power Co    AL                   69.0                64.0   \n",
       "\n",
       "   winter_capacity_mw  capacity_factor  \n",
       "0                64.0         0.305600  \n",
       "1                66.0         0.075248  \n",
       "2                64.0         0.281993  \n",
       "3                66.0         0.085454  \n",
       "4                64.0         0.180559  "
      ]
     },
     "execution_count": 21,
     "metadata": {},
     "output_type": "execute_result"
    }
   ],
   "source": [
    "mcoe_by_generator.head()"
   ]
  },
  {
   "cell_type": "markdown",
   "metadata": {},
   "source": [
    "### Add PUDL plant IDs"
   ]
  },
  {
   "cell_type": "code",
   "execution_count": 20,
   "metadata": {},
   "outputs": [],
   "source": [
    "#mcoe_by_generator = mcoe_by_generator.merge(pudl_ids[['plant_id','plant_id_pudl']], on=['plant_id'])"
   ]
  },
  {
   "cell_type": "code",
   "execution_count": null,
   "metadata": {
    "collapsed": true
   },
   "outputs": [],
   "source": [
    "mcoe_by_generator.rename(columns={'plant_id': 'plant_id_eia'}, inplace=True)"
   ]
  },
  {
   "cell_type": "markdown",
   "metadata": {},
   "source": [
    "## Aggregate at fuel cost and net gen at plant level for comparison with FERC"
   ]
  },
  {
   "cell_type": "code",
   "execution_count": null,
   "metadata": {
    "collapsed": true
   },
   "outputs": [],
   "source": [
    "eia_fuel = analysis.yearly_sum_eia(frc9 , 'fuel_cost', columns=['plant_id','report_date'])\n",
    "fuel_summed = eia_fuel.reset_index()\n",
    "fuel_summed.rename(columns={'fuel_cost': 'fuel_cost_annual_eia'}, inplace=True)\n",
    "fuel_summed = fuel_summed.reset_index()"
   ]
  },
  {
   "cell_type": "code",
   "execution_count": null,
   "metadata": {
    "collapsed": true,
    "scrolled": false
   },
   "outputs": [],
   "source": [
    "eia_netgen = mcoe_by_generator.groupby(by=['plant_id_eia','report_date'])\n",
    "netgen_summed = eia_netgen.agg({'net_generation_mwh':np.sum})\n",
    "netgen_summed.rename(columns={'net_generation_mwh': 'net_generation_mwh_plant_eia'}, inplace=True)\n",
    "netgen_summed = netgen_summed.reset_index()"
   ]
  },
  {
   "cell_type": "code",
   "execution_count": null,
   "metadata": {
    "collapsed": true
   },
   "outputs": [],
   "source": [
    "mcoe_by_generator2 = mcoe_by_generator.merge(fuel_summed, how=\"left\", left_on=['plant_id_eia', 'report_date'], right_on=['plant_id', 'report_date'])"
   ]
  },
  {
   "cell_type": "code",
   "execution_count": null,
   "metadata": {
    "collapsed": true
   },
   "outputs": [],
   "source": [
    "mcoe_by_generator3 = mcoe_by_generator2.merge(netgen_summed, how=\"left\", left_on=['plant_id_eia', 'report_date'], right_on=['plant_id_eia', 'report_date'])"
   ]
  },
  {
   "cell_type": "code",
   "execution_count": null,
   "metadata": {
    "collapsed": true
   },
   "outputs": [],
   "source": [
    "#mcoe_by_generator3.drop('heat_rate_mmbtu_mwh_x', axis=1, inplace=True)\n",
    "#mcoe_by_generator3.drop('heat_rate_mmbtu_mwh_y', axis=1, inplace=True)"
   ]
  },
  {
   "cell_type": "code",
   "execution_count": null,
   "metadata": {
    "collapsed": true
   },
   "outputs": [],
   "source": [
    "mcoe_by_generator = mcoe_by_generator3"
   ]
  },
  {
   "cell_type": "markdown",
   "metadata": {},
   "source": [
    "## Export the data frame"
   ]
  },
  {
   "cell_type": "code",
   "execution_count": null,
   "metadata": {
    "collapsed": true
   },
   "outputs": [],
   "source": [
    "# rearrange columns\n",
    "mcoe_by_generator = mcoe_by_generator3[[\n",
    "    'plant_id_eia', \n",
    "    'plant_id_pudl',\n",
    "    'plant_name',\n",
    "    'operator_name', \n",
    "    'state', \n",
    "    'report_date', \n",
    "    'generator_id', \n",
    "    'energy_source',\n",
    "    'fuel_cost_per_mmbtu_average',\n",
    "    'fuel_consumed_mmbtu_per_gen',\n",
    "    'fuel_cost_annual_eia',\n",
    "    'heat_rate_mmbtu_mwh', \n",
    "    'plant_assn', \n",
    "    'net_generation_mwh', \n",
    "    'net_generation_mwh_plant_eia',\n",
    "    'fuel_cost_per_mwh',\n",
    "    'nameplate_capacity_mw', \n",
    "    'summer_capacity_mw',\n",
    "    'winter_capacity_mw', \n",
    "    'capacity_factor']]"
   ]
  },
  {
   "cell_type": "markdown",
   "metadata": {},
   "source": [
    "# Pull in FERC data & identify plants with simple"
   ]
  },
  {
   "cell_type": "code",
   "execution_count": null,
   "metadata": {
    "collapsed": true
   },
   "outputs": [],
   "source": [
    "simple_ferc = analysis.simple_ferc1_plant_ids(pudl_engine)"
   ]
  },
  {
   "cell_type": "code",
   "execution_count": null,
   "metadata": {
    "collapsed": true
   },
   "outputs": [],
   "source": [
    "# convert simple ferc list into a pandas series for import to analysis.ferc_expenses() function\n",
    "simple_ferc = simple_ferc.iloc[:,0]"
   ]
  },
  {
   "cell_type": "code",
   "execution_count": null,
   "metadata": {
    "collapsed": true
   },
   "outputs": [],
   "source": [
    "# ferc_expenses returns:\n",
    "# ferc1_expns_corr: A dictionary of expense categories\n",
    "#             and their correlations to the plant's net electricity generation.\n",
    "# steam_df: a dataframe with all the operating expenses broken out for each simple FERC PUDL plant."
   ]
  },
  {
   "cell_type": "code",
   "execution_count": null,
   "metadata": {
    "collapsed": true
   },
   "outputs": [],
   "source": [
    "ferc_expenses = analysis.ferc_expenses(pudl_engine, simple_ferc)\n",
    "ferc_expenses_df = ferc_expenses[1]"
   ]
  },
  {
   "cell_type": "code",
   "execution_count": null,
   "metadata": {
    "collapsed": true
   },
   "outputs": [],
   "source": [
    "# create a correlation table to export\n",
    "corr = pd.DataFrame.from_dict(ferc_expenses[0], orient='index')\n",
    "corr.index.names = ['expense_variable']\n",
    "corr = corr.reset_index()\n",
    "corr = corr.rename(columns={0: 'correlation_with_net_generation_mwh_plant'})"
   ]
  },
  {
   "cell_type": "code",
   "execution_count": null,
   "metadata": {
    "collapsed": true
   },
   "outputs": [],
   "source": [
    "# create a ferc_expenses data frame to merge with EIA data\n",
    "ferc_expenses_df = ferc_expenses[1]"
   ]
  },
  {
   "cell_type": "code",
   "execution_count": null,
   "metadata": {
    "collapsed": true
   },
   "outputs": [],
   "source": [
    "ferc_expenses_df.rename(columns={'net_generation_mwh': 'net_generation_mwh_plant',\n",
    "                                 'plant_name': 'plant_name_ferc',\n",
    "                                 'respondent_id': 'respondent_id_ferc',\n",
    "                                 'respondent_name': 'respondent_name_ferc',\n",
    "                                 'total_capacity_mw': 'total_capacity_mw_plant'}, inplace=True)"
   ]
  },
  {
   "cell_type": "code",
   "execution_count": null,
   "metadata": {
    "collapsed": true
   },
   "outputs": [],
   "source": [
    "mcoe_by_generator.rename(columns={'net_generation_mwh': 'net_generation_mwh_generator',\n",
    "                                  'plant_name': 'plant_name_eia',\n",
    "                                  'operator_name': 'operator_name_eia',\n",
    "                                  'nameplate_capacity_mw': 'nameplate_capacity_mw_generator',\n",
    "                                  'summer_capacity_mw': 'summer_capacity_mw_generator',\n",
    "                                  'winter_capacity_mw': 'winter_capacity_mw_generator'}, inplace=True)"
   ]
  },
  {
   "cell_type": "code",
   "execution_count": null,
   "metadata": {},
   "outputs": [],
   "source": [
    "# Left merge keeps all rows of mcoe_by_generator and duplicates values of ferc_expenses_df \n",
    "# for each combination of plant_id_pudl and report_date\n",
    "merged = mcoe_by_generator.merge(ferc_expenses_df, how=\"left\", left_on=['plant_id_pudl', 'report_date'], right_on=['plant_id_pudl', 'report_year'])"
   ]
  },
  {
   "cell_type": "code",
   "execution_count": null,
   "metadata": {
    "collapsed": true
   },
   "outputs": [],
   "source": [
    "# remove the non-simple plants by dropping rows where plant_name_ferc = NA\n",
    "merged = merged.dropna(subset=['plant_name_ferc'])"
   ]
  },
  {
   "cell_type": "code",
   "execution_count": null,
   "metadata": {
    "collapsed": true
   },
   "outputs": [],
   "source": [
    "# rearrange columns\n",
    "merged = merged[[\n",
    "    'plant_id_pudl', 'plant_id_eia', 'plant_name_eia',\n",
    "    'operator_name_eia', 'state', 'report_date', \n",
    "    'generator_id', 'energy_source', 'fuel_cost_per_mmbtu_average',\n",
    "    'fuel_consumed_mmbtu_per_gen', 'fuel_cost_annual_eia',\n",
    "    'heat_rate_mmbtu_mwh', 'plant_assn', \n",
    "    'net_generation_mwh_generator', 'net_generation_mwh_plant_eia',\n",
    "    'fuel_cost_per_mwh', 'nameplate_capacity_mw_generator', \n",
    "    'summer_capacity_mw_generator', 'winter_capacity_mw_generator', 'capacity_factor',\n",
    "    'report_year', 'respondent_id_ferc', 'util_id_pudl', \n",
    "    'respondent_name_ferc', 'plant_name_ferc',\n",
    "    'total_capacity_mw_plant', 'year_constructed', 'year_installed',\n",
    "    'peak_demand_mw', 'water_limited_mw', 'not_water_limited_mw',\n",
    "    'plant_hours', 'net_generation_mwh_plant', 'expns_operations',\n",
    "    'expns_fuel', 'expns_coolants', 'expns_steam', 'expns_steam_other',\n",
    "    'expns_transfer', 'expns_electric', 'expns_misc_power', 'expns_rents',\n",
    "    'expns_allowances', 'expns_engineering', 'expns_structures',\n",
    "    'expns_boiler', 'expns_plants', 'expns_misc_steam',\n",
    "    'expns_production_total', 'expns_per_mwh',\n",
    "    'expns_total_nonfuel_production', 'expns_total_nonproduction']]"
   ]
  },
  {
   "cell_type": "code",
   "execution_count": null,
   "metadata": {
    "collapsed": true
   },
   "outputs": [],
   "source": [
    "mcoe_annotations = pd.read_csv('mcoe_field_annotations.csv')\n",
    "mcoe_notes = pd.read_csv('mcoe_notes.csv')"
   ]
  },
  {
   "cell_type": "code",
   "execution_count": null,
   "metadata": {
    "collapsed": true
   },
   "outputs": [],
   "source": [
    "# to export all the data\n",
    "xlsx_writer = pd.ExcelWriter('MCOE_by_generator_FERC&EIA_simple_FERC_plants_2011-2016.xlsx')\n",
    "merged.to_excel(xlsx_writer, sheet_name='MCOE by Generator', index=False, na_rep='NA')\n",
    "corr.to_excel(xlsx_writer, sheet_name='Expense Correlations', index=False, na_rep='NA')\n",
    "mcoe_annotations.to_excel(xlsx_writer, sheet_name='MCOE Annotations', index=False)\n",
    "mcoe_notes.to_excel(xlsx_writer, sheet_name='MCOE Notes', index=False)\n",
    "\n",
    "xlsx_writer.save()"
   ]
  },
  {
   "cell_type": "code",
   "execution_count": null,
   "metadata": {
    "collapsed": true
   },
   "outputs": [],
   "source": [
    "merged2 = merged.dropna(subset=['net_generation_mwh_plant_eia', 'net_generation_mwh_plant'])"
   ]
  },
  {
   "cell_type": "code",
   "execution_count": null,
   "metadata": {
    "collapsed": true,
    "scrolled": false
   },
   "outputs": [],
   "source": [
    "fuels = ['gas','oil','coal']\n",
    "fig, (ax) = plt.subplots(ncols=1, nrows=1)\n",
    "fig.set_figwidth(10)\n",
    "fig.set_figheight(10)\n",
    "fig.set_dpi(150)\n",
    "ax.loglog()\n",
    "plt.grid(b=True)\n",
    "R2 = np.corrcoef(merged2.net_generation_mwh_plant_eia, merged2.net_generation_mwh_plant)[0,1]**2\n",
    "ax.scatter(merged2.net_generation_mwh_plant_eia, merged2.net_generation_mwh_plant, s=10, color='blue')\n",
    "ax.legend(loc='upper left')\n",
    "plt.title(\"Annual net generation by plant, EIA 923 vs. FERC Form 1 ($r^2$={:.2f})\".format(R2))\n",
    "plt.xlabel(\"Net generation by PUDL plant from EIA923 (MWh)\")\n",
    "plt.ylabel(\"Net generation by PUDL plant from FERC1 (MWh)\")\n",
    "plt.show();"
   ]
  },
  {
   "cell_type": "code",
   "execution_count": null,
   "metadata": {
    "collapsed": true
   },
   "outputs": [],
   "source": [
    "merged3 = merged.dropna(subset=['fuel_cost_annual_eia', 'expns_fuel'])"
   ]
  },
  {
   "cell_type": "code",
   "execution_count": null,
   "metadata": {
    "collapsed": true
   },
   "outputs": [],
   "source": [
    "fuels = ['gas','oil','coal']\n",
    "fig, (ax) = plt.subplots(ncols=1, nrows=1)\n",
    "fig.set_figwidth(10)\n",
    "fig.set_figheight(10)\n",
    "fig.set_dpi(150)\n",
    "ax.loglog()\n",
    "plt.grid(b=True)\n",
    "R2 = np.corrcoef(merged3.fuel_cost_annual_eia, merged3.expns_fuel)[0,1]**2\n",
    "ax.scatter(merged3.fuel_cost_annual_eia, merged3.expns_fuel, s=10, color='green')\n",
    "ax.legend(loc='upper left')\n",
    "plt.title(\"Fuel cost per year, EIA 923 vs. FERC Form 1, ($r^2$={:.2f})\".format(R2))\n",
    "plt.xlabel(\"Fuel cost per year, by PUDL plant from EIA923 ($)\")\n",
    "plt.ylabel(\"Fuel cost per year, by PUDL plant from FERC1 ($)\")\n",
    "plt.show();"
   ]
  },
  {
   "cell_type": "code",
   "execution_count": null,
   "metadata": {
    "collapsed": true
   },
   "outputs": [],
   "source": [
    "plt.hist(merged.net_generation_mwh_plant_eia, range=(0,500000), bins=100, alpha=0.5, color='green', label=\"EIA\")\n",
    "plt.hist(merged.net_generation_mwh_plant, range=(0,500000), bins=100, alpha=0.5, color='blue', label='FERC')\n",
    "plt.xlabel(\"Total net generation per plant (MWh)\")\n",
    "plt.ylabel(\"Number of records\")\n",
    "plt.title(\"Net generation (MWh)\")\n",
    "plt.legend()"
   ]
  },
  {
   "cell_type": "code",
   "execution_count": null,
   "metadata": {
    "collapsed": true
   },
   "outputs": [],
   "source": [
    "#quick look at spread in fuel_cost_per_mwh for these plants\n",
    "plt.hist(merged.fuel_cost_per_mwh, range=(0,200), bins=200, alpha=0.5, color='green')\n",
    "ferc_fuel_cost_per_mwh = merged.expns_fuel / merged.net_generation_mwh_plant\n",
    "plt.hist(ferc_fuel_cost_per_mwh, range=(0,200), bins=200, alpha=0.5, color='blue')\n",
    "plt.xlabel(\"Fuel Cost ($/mwh)\")\n",
    "plt.ylabel(\"Number of records\")\n",
    "plt.title(\"Cost of fuel\")\n",
    "plt.legend()"
   ]
  },
  {
   "cell_type": "markdown",
   "metadata": {},
   "source": [
    "## A few plots"
   ]
  },
  {
   "cell_type": "code",
   "execution_count": null,
   "metadata": {
    "collapsed": true
   },
   "outputs": [],
   "source": [
    "# Take a look at heat rates from EIA\n",
    "plt.hist(heat_rate.heat_rate_mmbtu_mwh, range=[0,50],bins=100,weights=heat_rate.net_generation_mwh, alpha=0.5)\n",
    "#heat_rate['heat_rate_mmbtu_mwh'].plot(kind='hist', bins=100, range=[-20,70])\n",
    "plt.xlabel('Generator heat rate (MMBtu/MWh)')\n",
    "plt.ylabel(\"Generator records (weighted by net generation)\")\n",
    "plt.title(\"Heat rates\")\n",
    "plt.show()"
   ]
  },
  {
   "cell_type": "code",
   "execution_count": null,
   "metadata": {
    "collapsed": true
   },
   "outputs": [],
   "source": [
    "#quick look at spread in fuel_cost_per_mmbtu\n",
    "plt.hist(mcoe_by_generator.fuel_cost_per_mmbtu_average, range=(-5,50), bins=200, alpha=0.5, color='green')\n",
    "plt.xlabel(\"Fuel Cost ($/mmBTU)\")\n",
    "plt.ylabel(\"Number of generator records\")\n",
    "plt.title(\"Cost of fuel\")\n",
    "plt.legend()"
   ]
  },
  {
   "cell_type": "code",
   "execution_count": null,
   "metadata": {
    "collapsed": true
   },
   "outputs": [],
   "source": [
    "#quick look at capacity factors\n",
    "plt.hist(mcoe_by_generator.capacity_factor, range=(0,1.5), bins=200, alpha=0.5, color='blue')\n",
    "plt.xlabel(\"Capacity factor (Net generation/Nameplate capacity)\")\n",
    "plt.ylabel(\"Number of generator records\")\n",
    "plt.title(\"Capacity factors\")\n",
    "plt.legend()"
   ]
  },
  {
   "cell_type": "code",
   "execution_count": null,
   "metadata": {
    "collapsed": true
   },
   "outputs": [],
   "source": [
    "#quick look at spread in fuel_cost_per_mwh for these plants\n",
    "plt.hist(merged.fuel_cost_per_mwh, range=(0,200), bins=200, alpha=0.5, color='green')\n",
    "plt.xlabel(\"Fuel Cost ($/mwh)\")\n",
    "plt.ylabel(\"Number of generator records\")\n",
    "plt.title(\"Cost of fuel\")\n",
    "plt.legend()"
   ]
  },
  {
   "cell_type": "code",
   "execution_count": null,
   "metadata": {
    "collapsed": true
   },
   "outputs": [],
   "source": []
  },
  {
   "cell_type": "code",
   "execution_count": null,
   "metadata": {
    "collapsed": true
   },
   "outputs": [],
   "source": []
  }
 ],
 "metadata": {
  "kernelspec": {
   "display_name": "Python 3",
   "language": "python",
   "name": "python3"
  },
  "language_info": {
   "codemirror_mode": {
    "name": "ipython",
    "version": 3
   },
   "file_extension": ".py",
   "mimetype": "text/x-python",
   "name": "python",
   "nbconvert_exporter": "python",
   "pygments_lexer": "ipython3",
   "version": "3.6.1"
  }
 },
 "nbformat": 4,
 "nbformat_minor": 2
}
