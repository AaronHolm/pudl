{
 "cells": [
  {
   "cell_type": "code",
   "execution_count": 1,
   "metadata": {
    "collapsed": true
   },
   "outputs": [],
   "source": [
    "import sys\n",
    "import os\n",
    "import numpy as np\n",
    "import pandas as pd\n",
    "import sqlalchemy as sa\n",
    "sys.path.append(os.path.abspath(os.path.join('..','..','..')))\n",
    "from pudl import pudl, ferc1, eia923, settings, constants, analysis\n",
    "from pudl import models, models_ferc1, models_eia923\n",
    "from pudl import clean_eia923, clean_ferc1, clean_pudl\n",
    "import matplotlib.pyplot as plt\n",
    "import matplotlib as mpl\n",
    "%matplotlib inline\n",
    "plt.style.use('ggplot')\n",
    "mpl.rcParams['figure.figsize'] = (10,6)\n",
    "mpl.rcParams['figure.dpi'] = 150"
   ]
  },
  {
   "cell_type": "code",
   "execution_count": 2,
   "metadata": {
    "collapsed": true
   },
   "outputs": [],
   "source": [
    "pudl_engine  = pudl.db_connect_pudl()"
   ]
  },
  {
   "cell_type": "markdown",
   "metadata": {},
   "source": [
    "### Pulling the required tables"
   ]
  },
  {
   "cell_type": "code",
   "execution_count": 3,
   "metadata": {
    "collapsed": true,
    "scrolled": false
   },
   "outputs": [],
   "source": [
    "# Convert the generation_eia923 table into a dataframe\n",
    "g9 = analysis.simple_select('generation_eia923', pudl_engine)\n",
    "# Get yearly net generation by plant_id, year and generator_id\n",
    "g9_summed = analysis.yearly_sum_eia(g9, 'net_generation_mwh')\n",
    "g9_summed.reset_index(inplace=True)"
   ]
  },
  {
   "cell_type": "code",
   "execution_count": 4,
   "metadata": {
    "collapsed": true
   },
   "outputs": [],
   "source": [
    "# Convert the generators_eia860 table into a dataframe\n",
    "g8 = analysis.simple_select('generators_eia860', pudl_engine)\n",
    "\n",
    "# In order to use the energy source associated with each generator\n",
    "g8_es = g8[['plant_id','generator_id', 'energy_source_1']]\n",
    "g8_es = g8_es.rename(columns={'energy_source_1': 'energy_source'})\n",
    "g8_es.drop_duplicates(['plant_id','generator_id'], inplace=True)\n",
    "\n",
    "# In order to use the capacity of each generator\n",
    "g8 = g8[['plant_id','generator_id','nameplate_capacity_mw','summer_capacity_mw','winter_capacity_mw','year']]\n",
    "g8.rename(columns={'year': 'report_date'},inplace=True)"
   ]
  },
  {
   "cell_type": "code",
   "execution_count": 5,
   "metadata": {},
   "outputs": [
    {
     "name": "stderr",
     "output_type": "stream",
     "text": [
      "/home/alana/anaconda3/lib/python3.6/site-packages/pandas/core/generic.py:3813: SettingWithCopyWarning: \n",
      "A value is trying to be set on a copy of a slice from a DataFrame\n",
      "\n",
      "See the caveats in the documentation: http://pandas.pydata.org/pandas-docs/stable/indexing.html#indexing-view-versus-copy\n",
      "  self._update_inplace(new_data)\n"
     ]
    }
   ],
   "source": [
    "# # Cheating to duplicate 2015 EIA860 capacity factor data for 2016:\n",
    "g8_2016 = g8.loc[g8['report_date'] == 2015]\n",
    "g8_2016.report_date.replace([2015], [2016], inplace=True)\n",
    "g8 = g8_2016.append(g8)"
   ]
  },
  {
   "cell_type": "code",
   "execution_count": 6,
   "metadata": {
    "collapsed": true,
    "scrolled": false
   },
   "outputs": [],
   "source": [
    "# Convert the fuel_receipts_costs_eia923 table into a dataframe\n",
    "frc9 = analysis.simple_select('fuel_receipts_costs_eia923', pudl_engine)\n",
    "frc9['fuel_cost'] = (frc9['fuel_quantity'] * frc9['average_heat_content'] * frc9['fuel_cost_per_mmbtu'])"
   ]
  },
  {
   "cell_type": "code",
   "execution_count": 7,
   "metadata": {
    "collapsed": true
   },
   "outputs": [],
   "source": [
    "# Get yearly fuel cost by plant_id, year and energy_source\n",
    "frc9_summed = analysis.yearly_sum_eia(frc9 , 'fuel_cost', columns=['plant_id','report_date','energy_source'])\n",
    "frc9_summed = frc9_summed.reset_index()"
   ]
  },
  {
   "cell_type": "code",
   "execution_count": 8,
   "metadata": {
    "collapsed": true
   },
   "outputs": [],
   "source": [
    "# Convert the boiler_fuel_eia923 table into a dataframe\n",
    "bf9 = analysis.simple_select('boiler_fuel_eia923', pudl_engine)\n",
    "bf9['fuel_consumed_mmbtu'] = bf9['fuel_qty_consumed']*bf9['fuel_mmbtu_per_unit']\n",
    "# Get yearly fuel consumed by plant_id, year and boiler_id\n",
    "bf9_summed = analysis.yearly_sum_eia(bf9 , 'fuel_consumed_mmbtu', columns=['plant_id','report_date','boiler_id'])\n",
    "bf9_summed.reset_index(inplace=True)\n",
    "# Get yearly fuel consumed by plant_id, year and boiler_id\n",
    "bf9_plant_summed = analysis.yearly_sum_eia(bf9 , 'fuel_consumed_mmbtu', columns=['plant_id','report_date'])\n",
    "bf9_plant_summed.reset_index(inplace=True)"
   ]
  },
  {
   "cell_type": "code",
   "execution_count": 9,
   "metadata": {
    "collapsed": true
   },
   "outputs": [],
   "source": [
    "# Convert the boiler_generator_assn_eia860 table into a dataframe\n",
    "bga8 = analysis.simple_select('boiler_generator_assn_eia860', pudl_engine)\n",
    "bga8.drop(['id','operator_id'],axis=1, inplace=True)\n",
    "bga8.drop_duplicates(['plant_id','boiler_id','generator_id'],inplace=True)"
   ]
  },
  {
   "cell_type": "code",
   "execution_count": 10,
   "metadata": {
    "collapsed": true
   },
   "outputs": [],
   "source": [
    "# get the primary fuel for each plant (to be used to combine plants that have unassociated generators)\n",
    "gf9 = analysis.simple_select('generation_fuel_eia923', pudl_engine)\n",
    "primary_fuel9 = analysis.primary_fuel_gf_eia923(gf9).rename(columns={'year':'report_date'})"
   ]
  },
  {
   "cell_type": "markdown",
   "metadata": {},
   "source": [
    "### Generating Capacity Factor"
   ]
  },
  {
   "cell_type": "code",
   "execution_count": 11,
   "metadata": {
    "collapsed": true
   },
   "outputs": [],
   "source": [
    "# merge the generation and capacity to calculate capacity factor\n",
    "capacity_factor = g9_summed.merge(g8, on=['plant_id','generator_id','report_date'])\n",
    "capacity_factor['capacity_factor'] =\\\n",
    "            capacity_factor['net_generation_mwh']/(capacity_factor['nameplate_capacity_mw']*8760)"
   ]
  },
  {
   "cell_type": "code",
   "execution_count": 12,
   "metadata": {
    "collapsed": true
   },
   "outputs": [],
   "source": [
    "# Replace unrealistic capacity factors with NaN: < 0 or > 1.5\n",
    "capacity_factor.loc[capacity_factor['capacity_factor'] < 0, 'capacity_factor'] = np.nan\n",
    "capacity_factor.loc[capacity_factor['capacity_factor'] >= 1.5, 'capacity_factor'] = np.nan"
   ]
  },
  {
   "cell_type": "markdown",
   "metadata": {},
   "source": [
    "### Generating Fuel Cost"
   ]
  },
  {
   "cell_type": "code",
   "execution_count": 13,
   "metadata": {
    "collapsed": true
   },
   "outputs": [],
   "source": [
    "# Merge the generation table with the generator table to include energy_source\n",
    "net_gen = g9_summed.merge(g8_es, how='left', on=['plant_id','generator_id'])\n",
    "fuel_cost_per_mwh = net_gen.merge(frc9_summed,how='left',on=['plant_id','report_date','energy_source'])"
   ]
  },
  {
   "cell_type": "code",
   "execution_count": 14,
   "metadata": {
    "collapsed": true
   },
   "outputs": [],
   "source": [
    "# Sum the net generation by fuel type and year for each plant to calculation proportion of generation by each generator\n",
    "net_gen_by_energy = fuel_cost_per_mwh.groupby(['plant_id', 'report_date', 'energy_source'])[[\"net_generation_mwh\"]].sum()\n",
    "net_gen_by_energy = net_gen_by_energy.reset_index()\n",
    "fuel_cost_per_mwh = fuel_cost_per_mwh.merge(net_gen_by_energy, how='left', on=['plant_id', 'report_date', 'energy_source'])"
   ]
  },
  {
   "cell_type": "code",
   "execution_count": 15,
   "metadata": {
    "collapsed": true
   },
   "outputs": [],
   "source": [
    "# Calculate proportion of annual plant generation by each generator\n",
    "fuel_cost_per_mwh['proportion_generation_by_generator'] = (fuel_cost_per_mwh.net_generation_mwh_x)/(fuel_cost_per_mwh.net_generation_mwh_y)\n",
    "del fuel_cost_per_mwh['net_generation_mwh_y']\n",
    "fuel_cost_per_mwh.rename(columns={'net_generation_mwh_x': 'net_generation_mwh'}, inplace=True)"
   ]
  },
  {
   "cell_type": "code",
   "execution_count": 16,
   "metadata": {},
   "outputs": [],
   "source": [
    "# Calculate cost of fuel by generator\n",
    "fuel_cost_per_mwh['fuel_cost_by_generator'] = fuel_cost_per_mwh['fuel_cost']*fuel_cost_per_mwh['proportion_generation_by_generator']\n",
    "# Remove fuel_cost_by_generator values that are negative\n",
    "fuel_cost_per_mwh.loc[fuel_cost_per_mwh['fuel_cost_by_generator'] < 0, 'fuel_cost_by_generator'] = np.nan\n",
    "# Calculate fuel cost per mwh - will be the same for generators of same energy_source each year\n",
    "fuel_cost_per_mwh['fuel_cost_per_mwh'] = fuel_cost_per_mwh['fuel_cost_by_generator'] / fuel_cost_per_mwh['net_generation_mwh']\n",
    "# Remove fuel_cost_per_mwh values that are negative\n",
    "fuel_cost_per_mwh.loc[fuel_cost_per_mwh['fuel_cost_per_mwh'] < 0, 'fuel_cost_per_mwh'] = np.nan"
   ]
  },
  {
   "cell_type": "markdown",
   "metadata": {},
   "source": [
    "### Generating Heat Rate"
   ]
  },
  {
   "cell_type": "markdown",
   "metadata": {
    "collapsed": true
   },
   "source": [
    "##### Unassociated Generators"
   ]
  },
  {
   "cell_type": "code",
   "execution_count": 17,
   "metadata": {
    "collapsed": true
   },
   "outputs": [],
   "source": [
    "# This section generates heat rate from the generators\n",
    "# of the plants that have any generators that are not\n",
    "# included in the boiler generator association table (860)\n",
    "# Because there are missing generators in the bga table,\n",
    "# without lumping all of the heat input and generation\n",
    "# from these plants together, the heat rates were off. \n",
    "# The vast majority of missing generators from the bga\n",
    "# table seem to be the gas tubrine from combine cycle plants.\n",
    "# This was generating heat rates for the steam generators\n",
    "# alone, therefor much too low."
   ]
  },
  {
   "cell_type": "code",
   "execution_count": 18,
   "metadata": {
    "collapsed": true
   },
   "outputs": [],
   "source": [
    "# All cenerators from the Boiler Generator Association table (860)\n",
    "gens8 = bga8.drop_duplicates(subset=['plant_id','generator_id'])\n",
    "# All cenerators from the generation table (923)\n",
    "gens9 = g9_summed.drop_duplicates(subset=['plant_id','generator_id','report_date'])\n",
    "\n",
    "# See which generators are missing from the bga table\n",
    "gens = gens9.merge(gens8, on=['plant_id', 'generator_id'], how=\"left\")\n",
    "gens.boiler_id = gens.boiler_id.astype(str)\n",
    "gens['boiler_generator_assn'] = np.where(gens['boiler_id']=='nan', False, True)\n",
    "\n",
    "# Create a list of plants that include any generators that are not in the bga table\n",
    "unassociated_plants = gens[gens['boiler_generator_assn'] == False].\\\n",
    "                      drop_duplicates(subset=['plant_id','report_date']).\\\n",
    "                      drop(['generator_id', 'net_generation_mwh','boiler_id','boiler_generator_assn'],axis=1)\n",
    "unassociated_plants['plant_assn'] = False\n",
    "\n",
    "# Using these unassociated_plants, lable all the generators that\n",
    "# are a part of plants that have generators that are not included\n",
    "# in the bga table\n",
    "gens = gens.merge(unassociated_plants, on=['plant_id','report_date'],how='left')\n",
    "gens['plant_assn'] = gens.plant_assn.fillna(value=True)\n",
    "\n",
    "# Get a list of generators from plants with unassociated plants\n",
    "gens_unassn_plants = gens[gens['plant_assn'] == False]\n",
    "\n",
    "# Sum the yearly net generation for these plants\n",
    "gup_gb = gens_unassn_plants.groupby(by=['plant_id','report_date'])\n",
    "gens_unassn_plants_summed = gup_gb.agg({'net_generation_mwh': np.sum})\n",
    "gens_unassn_plants_summed.reset_index(inplace=True)\n",
    "\n",
    "# Pull in mmbtu to calculate heat rate by plant\n",
    "unassn_plants = gens_unassn_plants_summed.merge(bf9_plant_summed, on=['plant_id','report_date'])\n",
    "unassn_plants['heat_rate_mmbtu_mwh'] = unassn_plants['fuel_consumed_mmbtu'] / unassn_plants['net_generation_mwh']\n",
    "\n",
    "# Merge these plant level heat heat rates with the unassociated generators\n",
    "# Assign heat rates to generators across the plants with unassociated generators\n",
    "heat_rate_unassn = gens_unassn_plants.merge(unassn_plants[['plant_id','report_date','heat_rate_mmbtu_mwh']],\n",
    "                                            on=['plant_id','report_date'],how='left')\n",
    "heat_rate_unassn.drop(['boiler_id','boiler_generator_assn'],axis=1,inplace=True)"
   ]
  },
  {
   "cell_type": "markdown",
   "metadata": {},
   "source": [
    "#### Associated Generators"
   ]
  },
  {
   "cell_type": "code",
   "execution_count": 19,
   "metadata": {
    "collapsed": true
   },
   "outputs": [],
   "source": [
    "# This section generates heat rate from the generators of\n",
    "# the plants that have any generators that are included in\n",
    "# the boiler generator association table (860)"
   ]
  },
  {
   "cell_type": "code",
   "execution_count": 20,
   "metadata": {
    "collapsed": true
   },
   "outputs": [],
   "source": [
    "generation_w_boilers = g9_summed.merge(bga8,how='left',on=['plant_id','generator_id'])\n",
    "\n",
    "# get net generation per boiler\n",
    "gb1 = generation_w_boilers.groupby(by=['plant_id','report_date','boiler_id'])\n",
    "generation_w_boilers_summed = gb1.agg({'net_generation_mwh': np.sum})\n",
    "generation_w_boilers_summed.reset_index(inplace=True)\n",
    "generation_w_boilers_summed.rename(columns={'net_generation_mwh':'net_generation_mwh_boiler'}, inplace=True)\n",
    "\n",
    "# get the generation per boiler/generator combo\n",
    "gb2 = generation_w_boilers.groupby(by=['plant_id','report_date','boiler_id','generator_id'])\n",
    "generation_w_bg_summed = gb2.agg({'net_generation_mwh': np.sum})\n",
    "generation_w_bg_summed.reset_index(inplace=True)\n",
    "generation_w_bg_summed.rename(columns={'net_generation_mwh':'net_generation_mwh_boiler_gen'}, inplace=True)\n",
    "\n",
    "# squish them together\n",
    "generation_w_boilers_summed = generation_w_boilers_summed.merge(generation_w_bg_summed,\n",
    "                                                                how='left', on=['plant_id','report_date','boiler_id'])\n",
    "\n",
    "# Convert the boiler_fuel_eia923 table into a dataframe\n",
    "bf9 = analysis.simple_select('boiler_fuel_eia923', pudl_engine)\n",
    "bf9['fuel_consumed_mmbtu'] = bf9['fuel_qty_consumed']*bf9['fuel_mmbtu_per_unit']\n",
    "# Get yearly fuel consumed by plant_id, year and boiler_id\n",
    "bf9_summed = analysis.yearly_sum_eia(bf9 , 'fuel_consumed_mmbtu', columns=['plant_id','report_date','boiler_id'])\n",
    "bf9_summed.reset_index(inplace=True)\n",
    "\n",
    "bg = bf9_summed.merge(bga8,how='left',on=['plant_id','boiler_id'])\n",
    "bg = bg.merge(generation_w_boilers_summed, how='left', on=['plant_id','report_date', 'boiler_id', 'generator_id'])\n",
    "\n",
    "# Use the proportion of the generation of each generator to allot mmBTU\n",
    "bg['proportion_of_gen_by_boil_gen'] = bg['net_generation_mwh_boiler_gen'] / bg['net_generation_mwh_boiler']\n",
    "bg['fuel_consumed_mmbtu_per_generator'] = bg['proportion_of_gen_by_boil_gen'] * bg['fuel_consumed_mmbtu']\n",
    "\n",
    "# Get yearly fuel_consumed_mmbtu by plant_id, year and generator_id\n",
    "bg_gb = bg.groupby(by=['plant_id','report_date','generator_id'])\n",
    "bg_summed = bg_gb.agg({'fuel_consumed_mmbtu_per_generator':np.sum})\n",
    "bg_summed.reset_index(inplace=True)\n",
    "\n",
    "# Calculate heat rate\n",
    "heat_rate = bg_summed.merge(g9_summed,how='left',on=['plant_id', 'report_date', 'generator_id'])\n",
    "heat_rate['heat_rate_mmbtu_mwh'] = heat_rate['fuel_consumed_mmbtu_per_generator'] / heat_rate['net_generation_mwh']\n",
    "\n",
    "# Importing the plant association tag to filter out the\n",
    "# generators that are a part of plants that aren't in the bga table\n",
    "heat_rate = heat_rate.merge(gens[['plant_id','report_date','generator_id','plant_assn']], on=['plant_id','report_date','generator_id'])\n",
    "heat_rate_assn = heat_rate[heat_rate['plant_assn'] == True]"
   ]
  },
  {
   "cell_type": "markdown",
   "metadata": {},
   "source": [
    "#### Pull the Associated and Unassociated Generators"
   ]
  },
  {
   "cell_type": "code",
   "execution_count": 21,
   "metadata": {},
   "outputs": [],
   "source": [
    "heat_rate_all = heat_rate_assn.append(heat_rate_unassn)\n",
    "# Reassign heat rate values to nan for rows with heat rates less than 5\n",
    "heat_rate_all.loc[heat_rate_all['heat_rate_mmbtu_mwh'] < 5, 'heat_rate_mmbtu_mwh'] = np.nan"
   ]
  },
  {
   "cell_type": "code",
   "execution_count": 22,
   "metadata": {},
   "outputs": [
    {
     "name": "stderr",
     "output_type": "stream",
     "text": [
      "/home/alana/anaconda3/lib/python3.6/site-packages/numpy/lib/function_base.py:747: RuntimeWarning: invalid value encountered in greater_equal\n",
      "  keep = (tmp_a >= mn)\n",
      "/home/alana/anaconda3/lib/python3.6/site-packages/numpy/lib/function_base.py:748: RuntimeWarning: invalid value encountered in less_equal\n",
      "  keep &= (tmp_a <= mx)\n"
     ]
    },
    {
     "data": {
      "image/png": "[encoded data removed]",
      "text/plain": [
       "<matplotlib.figure.Figure at 0x7f6d50ff9fd0>"
      ]
     },
     "metadata": {},
     "output_type": "display_data"
    }
   ],
   "source": [
    "plt.hist(heat_rate_all.heat_rate_mmbtu_mwh, range=[0,30],bins=200,weights=heat_rate_all.net_generation_mwh, alpha=0.5)\n",
    "plt.xlabel('Generator heat rate (MMBtu/MWh)')\n",
    "plt.ylabel(\"Generator records (weighted by net generation)\")\n",
    "plt.title(\"Heat rates\")\n",
    "plt.show()"
   ]
  },
  {
   "cell_type": "markdown",
   "metadata": {},
   "source": [
    "### Merge fields together"
   ]
  },
  {
   "cell_type": "code",
   "execution_count": 23,
   "metadata": {
    "collapsed": true
   },
   "outputs": [],
   "source": [
    "mcoe_by_generator = fuel_cost_per_mwh.merge(heat_rate_all,on=['plant_id','report_date','generator_id'])"
   ]
  },
  {
   "cell_type": "code",
   "execution_count": 24,
   "metadata": {
    "collapsed": true
   },
   "outputs": [],
   "source": [
    "mcoe_by_generator = mcoe_by_generator.merge(capacity_factor, on=['plant_id','report_date','generator_id'])"
   ]
  },
  {
   "cell_type": "code",
   "execution_count": 25,
   "metadata": {
    "collapsed": true
   },
   "outputs": [],
   "source": [
    "# Drop extraneous net_generation columns, and fuel_cost column because it is sum for whole plant\n",
    "mcoe_by_generator.drop('net_generation_mwh_y', axis=1, inplace=True)\n",
    "mcoe_by_generator.drop('net_generation_mwh_x', axis=1, inplace=True)\n",
    "mcoe_by_generator.drop('fuel_cost', axis=1, inplace=True)"
   ]
  },
  {
   "cell_type": "markdown",
   "metadata": {},
   "source": [
    "# Filter to include only plants >= 50 MW"
   ]
  },
  {
   "cell_type": "code",
   "execution_count": 26,
   "metadata": {
    "collapsed": true
   },
   "outputs": [],
   "source": [
    "# Now, let's grab only those plants larger than 50MW\n",
    "mcoe_by_generator = mcoe_by_generator[mcoe_by_generator['nameplate_capacity_mw']>=50]"
   ]
  },
  {
   "cell_type": "markdown",
   "metadata": {},
   "source": [
    "### Let's look at some data"
   ]
  },
  {
   "cell_type": "code",
   "execution_count": 27,
   "metadata": {
    "scrolled": false
   },
   "outputs": [
    {
     "data": {
      "text/html": [
       "<div>\n",
       "<style>\n",
       "    .dataframe thead tr:only-child th {\n",
       "        text-align: right;\n",
       "    }\n",
       "\n",
       "    .dataframe thead th {\n",
       "        text-align: left;\n",
       "    }\n",
       "\n",
       "    .dataframe tbody tr th {\n",
       "        vertical-align: top;\n",
       "    }\n",
       "</style>\n",
       "<table border=\"1\" class=\"dataframe\">\n",
       "  <thead>\n",
       "    <tr style=\"text-align: right;\">\n",
       "      <th></th>\n",
       "      <th>plant_id</th>\n",
       "      <th>report_date</th>\n",
       "      <th>generator_id</th>\n",
       "      <th>energy_source</th>\n",
       "      <th>proportion_generation_by_generator</th>\n",
       "      <th>fuel_cost_by_generator</th>\n",
       "      <th>fuel_cost_per_mwh</th>\n",
       "      <th>fuel_consumed_mmbtu_per_generator</th>\n",
       "      <th>heat_rate_mmbtu_mwh</th>\n",
       "      <th>plant_assn</th>\n",
       "      <th>net_generation_mwh</th>\n",
       "      <th>nameplate_capacity_mw</th>\n",
       "      <th>summer_capacity_mw</th>\n",
       "      <th>winter_capacity_mw</th>\n",
       "      <th>capacity_factor</th>\n",
       "    </tr>\n",
       "  </thead>\n",
       "  <tbody>\n",
       "    <tr>\n",
       "      <th>1562</th>\n",
       "      <td>676</td>\n",
       "      <td>2011</td>\n",
       "      <td>3</td>\n",
       "      <td>BIT</td>\n",
       "      <td>1.000000</td>\n",
       "      <td>7.038856e+07</td>\n",
       "      <td>51.447081</td>\n",
       "      <td>1.476694e+07</td>\n",
       "      <td>10.793174</td>\n",
       "      <td>True</td>\n",
       "      <td>1368174.0</td>\n",
       "      <td>363.8</td>\n",
       "      <td>342.0</td>\n",
       "      <td>342.0</td>\n",
       "      <td>0.429313</td>\n",
       "    </tr>\n",
       "    <tr>\n",
       "      <th>1563</th>\n",
       "      <td>676</td>\n",
       "      <td>2011</td>\n",
       "      <td>5ST</td>\n",
       "      <td>NG</td>\n",
       "      <td>0.986687</td>\n",
       "      <td>7.955764e+07</td>\n",
       "      <td>99.499664</td>\n",
       "      <td>0.000000e+00</td>\n",
       "      <td>NaN</td>\n",
       "      <td>True</td>\n",
       "      <td>799577.0</td>\n",
       "      <td>120.0</td>\n",
       "      <td>123.0</td>\n",
       "      <td>121.0</td>\n",
       "      <td>0.760633</td>\n",
       "    </tr>\n",
       "    <tr>\n",
       "      <th>1564</th>\n",
       "      <td>676</td>\n",
       "      <td>2011</td>\n",
       "      <td>ST1</td>\n",
       "      <td>NG</td>\n",
       "      <td>-0.000485</td>\n",
       "      <td>NaN</td>\n",
       "      <td>NaN</td>\n",
       "      <td>1.356115e+04</td>\n",
       "      <td>NaN</td>\n",
       "      <td>True</td>\n",
       "      <td>-393.0</td>\n",
       "      <td>103.5</td>\n",
       "      <td>85.0</td>\n",
       "      <td>85.0</td>\n",
       "      <td>NaN</td>\n",
       "    </tr>\n",
       "    <tr>\n",
       "      <th>1565</th>\n",
       "      <td>676</td>\n",
       "      <td>2011</td>\n",
       "      <td>ST2</td>\n",
       "      <td>NG</td>\n",
       "      <td>0.013797</td>\n",
       "      <td>1.112506e+06</td>\n",
       "      <td>99.499664</td>\n",
       "      <td>1.610822e+05</td>\n",
       "      <td>14.406781</td>\n",
       "      <td>True</td>\n",
       "      <td>11181.0</td>\n",
       "      <td>126.0</td>\n",
       "      <td>106.0</td>\n",
       "      <td>106.0</td>\n",
       "      <td>0.010130</td>\n",
       "    </tr>\n",
       "    <tr>\n",
       "      <th>1566</th>\n",
       "      <td>676</td>\n",
       "      <td>2012</td>\n",
       "      <td>3</td>\n",
       "      <td>BIT</td>\n",
       "      <td>1.000000</td>\n",
       "      <td>5.794116e+07</td>\n",
       "      <td>45.700328</td>\n",
       "      <td>1.377339e+07</td>\n",
       "      <td>10.863581</td>\n",
       "      <td>True</td>\n",
       "      <td>1267850.0</td>\n",
       "      <td>363.8</td>\n",
       "      <td>342.0</td>\n",
       "      <td>342.0</td>\n",
       "      <td>0.397833</td>\n",
       "    </tr>\n",
       "    <tr>\n",
       "      <th>1567</th>\n",
       "      <td>676</td>\n",
       "      <td>2012</td>\n",
       "      <td>5ST</td>\n",
       "      <td>NG</td>\n",
       "      <td>0.980416</td>\n",
       "      <td>6.057154e+07</td>\n",
       "      <td>72.149001</td>\n",
       "      <td>0.000000e+00</td>\n",
       "      <td>NaN</td>\n",
       "      <td>True</td>\n",
       "      <td>839534.0</td>\n",
       "      <td>120.0</td>\n",
       "      <td>123.0</td>\n",
       "      <td>121.0</td>\n",
       "      <td>0.798643</td>\n",
       "    </tr>\n",
       "    <tr>\n",
       "      <th>1568</th>\n",
       "      <td>676</td>\n",
       "      <td>2012</td>\n",
       "      <td>ST1</td>\n",
       "      <td>NG</td>\n",
       "      <td>0.000044</td>\n",
       "      <td>2.741662e+03</td>\n",
       "      <td>72.149001</td>\n",
       "      <td>1.478202e+04</td>\n",
       "      <td>389.000395</td>\n",
       "      <td>True</td>\n",
       "      <td>38.0</td>\n",
       "      <td>103.5</td>\n",
       "      <td>85.0</td>\n",
       "      <td>85.0</td>\n",
       "      <td>0.000042</td>\n",
       "    </tr>\n",
       "    <tr>\n",
       "      <th>1569</th>\n",
       "      <td>676</td>\n",
       "      <td>2012</td>\n",
       "      <td>ST2</td>\n",
       "      <td>NG</td>\n",
       "      <td>0.019540</td>\n",
       "      <td>1.207197e+06</td>\n",
       "      <td>72.149001</td>\n",
       "      <td>2.432673e+05</td>\n",
       "      <td>14.539046</td>\n",
       "      <td>True</td>\n",
       "      <td>16732.0</td>\n",
       "      <td>126.0</td>\n",
       "      <td>106.0</td>\n",
       "      <td>106.0</td>\n",
       "      <td>0.015159</td>\n",
       "    </tr>\n",
       "    <tr>\n",
       "      <th>1570</th>\n",
       "      <td>676</td>\n",
       "      <td>2013</td>\n",
       "      <td>3</td>\n",
       "      <td>BIT</td>\n",
       "      <td>1.000000</td>\n",
       "      <td>5.502671e+07</td>\n",
       "      <td>41.997238</td>\n",
       "      <td>1.440091e+07</td>\n",
       "      <td>10.990996</td>\n",
       "      <td>True</td>\n",
       "      <td>1310246.0</td>\n",
       "      <td>363.8</td>\n",
       "      <td>342.0</td>\n",
       "      <td>342.0</td>\n",
       "      <td>0.411137</td>\n",
       "    </tr>\n",
       "    <tr>\n",
       "      <th>1571</th>\n",
       "      <td>676</td>\n",
       "      <td>2013</td>\n",
       "      <td>5ST</td>\n",
       "      <td>NG</td>\n",
       "      <td>0.996327</td>\n",
       "      <td>6.579369e+07</td>\n",
       "      <td>90.538869</td>\n",
       "      <td>0.000000e+00</td>\n",
       "      <td>NaN</td>\n",
       "      <td>True</td>\n",
       "      <td>726690.0</td>\n",
       "      <td>120.0</td>\n",
       "      <td>123.0</td>\n",
       "      <td>121.0</td>\n",
       "      <td>0.691296</td>\n",
       "    </tr>\n",
       "    <tr>\n",
       "      <th>1572</th>\n",
       "      <td>676</td>\n",
       "      <td>2013</td>\n",
       "      <td>ST1</td>\n",
       "      <td>NG</td>\n",
       "      <td>0.000000</td>\n",
       "      <td>0.000000e+00</td>\n",
       "      <td>NaN</td>\n",
       "      <td>NaN</td>\n",
       "      <td>NaN</td>\n",
       "      <td>True</td>\n",
       "      <td>0.0</td>\n",
       "      <td>103.5</td>\n",
       "      <td>85.0</td>\n",
       "      <td>85.0</td>\n",
       "      <td>0.000000</td>\n",
       "    </tr>\n",
       "    <tr>\n",
       "      <th>1573</th>\n",
       "      <td>676</td>\n",
       "      <td>2013</td>\n",
       "      <td>ST2</td>\n",
       "      <td>NG</td>\n",
       "      <td>0.003673</td>\n",
       "      <td>2.425536e+05</td>\n",
       "      <td>90.538869</td>\n",
       "      <td>7.196900e+04</td>\n",
       "      <td>26.864127</td>\n",
       "      <td>True</td>\n",
       "      <td>2679.0</td>\n",
       "      <td>126.0</td>\n",
       "      <td>106.0</td>\n",
       "      <td>106.0</td>\n",
       "      <td>0.002427</td>\n",
       "    </tr>\n",
       "    <tr>\n",
       "      <th>1574</th>\n",
       "      <td>676</td>\n",
       "      <td>2014</td>\n",
       "      <td>3</td>\n",
       "      <td>BIT</td>\n",
       "      <td>1.000000</td>\n",
       "      <td>1.915513e+07</td>\n",
       "      <td>38.828696</td>\n",
       "      <td>NaN</td>\n",
       "      <td>7.720330</td>\n",
       "      <td>False</td>\n",
       "      <td>493324.0</td>\n",
       "      <td>363.8</td>\n",
       "      <td>342.0</td>\n",
       "      <td>342.0</td>\n",
       "      <td>0.154798</td>\n",
       "    </tr>\n",
       "    <tr>\n",
       "      <th>1575</th>\n",
       "      <td>676</td>\n",
       "      <td>2014</td>\n",
       "      <td>5CT</td>\n",
       "      <td>NG</td>\n",
       "      <td>0.543971</td>\n",
       "      <td>3.547945e+07</td>\n",
       "      <td>47.591553</td>\n",
       "      <td>NaN</td>\n",
       "      <td>7.720330</td>\n",
       "      <td>False</td>\n",
       "      <td>745499.0</td>\n",
       "      <td>249.0</td>\n",
       "      <td>215.0</td>\n",
       "      <td>233.0</td>\n",
       "      <td>0.341778</td>\n",
       "    </tr>\n",
       "    <tr>\n",
       "      <th>1576</th>\n",
       "      <td>676</td>\n",
       "      <td>2014</td>\n",
       "      <td>5ST</td>\n",
       "      <td>NG</td>\n",
       "      <td>0.435112</td>\n",
       "      <td>2.837937e+07</td>\n",
       "      <td>47.591553</td>\n",
       "      <td>NaN</td>\n",
       "      <td>7.720330</td>\n",
       "      <td>False</td>\n",
       "      <td>596311.0</td>\n",
       "      <td>120.0</td>\n",
       "      <td>123.0</td>\n",
       "      <td>121.0</td>\n",
       "      <td>0.567267</td>\n",
       "    </tr>\n",
       "    <tr>\n",
       "      <th>1577</th>\n",
       "      <td>676</td>\n",
       "      <td>2014</td>\n",
       "      <td>ST1</td>\n",
       "      <td>NG</td>\n",
       "      <td>0.000715</td>\n",
       "      <td>4.663972e+04</td>\n",
       "      <td>47.591553</td>\n",
       "      <td>NaN</td>\n",
       "      <td>7.720330</td>\n",
       "      <td>False</td>\n",
       "      <td>980.0</td>\n",
       "      <td>103.5</td>\n",
       "      <td>85.0</td>\n",
       "      <td>85.0</td>\n",
       "      <td>0.001081</td>\n",
       "    </tr>\n",
       "    <tr>\n",
       "      <th>1578</th>\n",
       "      <td>676</td>\n",
       "      <td>2014</td>\n",
       "      <td>ST2</td>\n",
       "      <td>NG</td>\n",
       "      <td>0.020202</td>\n",
       "      <td>1.317620e+06</td>\n",
       "      <td>47.591553</td>\n",
       "      <td>NaN</td>\n",
       "      <td>7.720330</td>\n",
       "      <td>False</td>\n",
       "      <td>27686.0</td>\n",
       "      <td>126.0</td>\n",
       "      <td>106.0</td>\n",
       "      <td>106.0</td>\n",
       "      <td>0.025083</td>\n",
       "    </tr>\n",
       "    <tr>\n",
       "      <th>1579</th>\n",
       "      <td>676</td>\n",
       "      <td>2015</td>\n",
       "      <td>3</td>\n",
       "      <td>BIT</td>\n",
       "      <td>1.000000</td>\n",
       "      <td>4.905391e+07</td>\n",
       "      <td>36.080223</td>\n",
       "      <td>NaN</td>\n",
       "      <td>8.927735</td>\n",
       "      <td>False</td>\n",
       "      <td>1359579.0</td>\n",
       "      <td>363.8</td>\n",
       "      <td>342.0</td>\n",
       "      <td>342.0</td>\n",
       "      <td>0.426616</td>\n",
       "    </tr>\n",
       "    <tr>\n",
       "      <th>1580</th>\n",
       "      <td>676</td>\n",
       "      <td>2015</td>\n",
       "      <td>5CT</td>\n",
       "      <td>NG</td>\n",
       "      <td>0.641381</td>\n",
       "      <td>3.591404e+07</td>\n",
       "      <td>26.424677</td>\n",
       "      <td>NaN</td>\n",
       "      <td>8.927735</td>\n",
       "      <td>False</td>\n",
       "      <td>1359110.0</td>\n",
       "      <td>249.0</td>\n",
       "      <td>215.0</td>\n",
       "      <td>233.0</td>\n",
       "      <td>0.623091</td>\n",
       "    </tr>\n",
       "    <tr>\n",
       "      <th>1581</th>\n",
       "      <td>676</td>\n",
       "      <td>2015</td>\n",
       "      <td>5ST</td>\n",
       "      <td>NG</td>\n",
       "      <td>0.348653</td>\n",
       "      <td>1.952276e+07</td>\n",
       "      <td>26.424677</td>\n",
       "      <td>NaN</td>\n",
       "      <td>8.927735</td>\n",
       "      <td>False</td>\n",
       "      <td>738808.0</td>\n",
       "      <td>120.0</td>\n",
       "      <td>123.0</td>\n",
       "      <td>121.0</td>\n",
       "      <td>0.702823</td>\n",
       "    </tr>\n",
       "    <tr>\n",
       "      <th>1582</th>\n",
       "      <td>676</td>\n",
       "      <td>2015</td>\n",
       "      <td>ST2</td>\n",
       "      <td>NG</td>\n",
       "      <td>0.009966</td>\n",
       "      <td>5.580363e+05</td>\n",
       "      <td>26.424677</td>\n",
       "      <td>NaN</td>\n",
       "      <td>8.927735</td>\n",
       "      <td>False</td>\n",
       "      <td>21118.0</td>\n",
       "      <td>126.0</td>\n",
       "      <td>106.0</td>\n",
       "      <td>106.0</td>\n",
       "      <td>0.019133</td>\n",
       "    </tr>\n",
       "    <tr>\n",
       "      <th>1583</th>\n",
       "      <td>676</td>\n",
       "      <td>2016</td>\n",
       "      <td>3</td>\n",
       "      <td>BIT</td>\n",
       "      <td>1.000000</td>\n",
       "      <td>3.127139e+07</td>\n",
       "      <td>25.176063</td>\n",
       "      <td>NaN</td>\n",
       "      <td>9.076163</td>\n",
       "      <td>False</td>\n",
       "      <td>1242108.0</td>\n",
       "      <td>363.8</td>\n",
       "      <td>342.0</td>\n",
       "      <td>342.0</td>\n",
       "      <td>0.389756</td>\n",
       "    </tr>\n",
       "    <tr>\n",
       "      <th>1584</th>\n",
       "      <td>676</td>\n",
       "      <td>2016</td>\n",
       "      <td>5CT</td>\n",
       "      <td>NG</td>\n",
       "      <td>0.625626</td>\n",
       "      <td>2.929763e+07</td>\n",
       "      <td>27.455579</td>\n",
       "      <td>NaN</td>\n",
       "      <td>9.076163</td>\n",
       "      <td>False</td>\n",
       "      <td>1067092.0</td>\n",
       "      <td>249.0</td>\n",
       "      <td>215.0</td>\n",
       "      <td>233.0</td>\n",
       "      <td>0.489213</td>\n",
       "    </tr>\n",
       "    <tr>\n",
       "      <th>1585</th>\n",
       "      <td>676</td>\n",
       "      <td>2016</td>\n",
       "      <td>5ST</td>\n",
       "      <td>NG</td>\n",
       "      <td>0.352427</td>\n",
       "      <td>1.650393e+07</td>\n",
       "      <td>27.455579</td>\n",
       "      <td>NaN</td>\n",
       "      <td>9.076163</td>\n",
       "      <td>False</td>\n",
       "      <td>601114.0</td>\n",
       "      <td>120.0</td>\n",
       "      <td>123.0</td>\n",
       "      <td>121.0</td>\n",
       "      <td>0.571836</td>\n",
       "    </tr>\n",
       "    <tr>\n",
       "      <th>1586</th>\n",
       "      <td>676</td>\n",
       "      <td>2016</td>\n",
       "      <td>ST2</td>\n",
       "      <td>NG</td>\n",
       "      <td>0.021947</td>\n",
       "      <td>1.027745e+06</td>\n",
       "      <td>27.455579</td>\n",
       "      <td>NaN</td>\n",
       "      <td>9.076163</td>\n",
       "      <td>False</td>\n",
       "      <td>37433.0</td>\n",
       "      <td>126.0</td>\n",
       "      <td>106.0</td>\n",
       "      <td>106.0</td>\n",
       "      <td>0.033914</td>\n",
       "    </tr>\n",
       "  </tbody>\n",
       "</table>\n",
       "</div>"
      ],
      "text/plain": [
       "      plant_id  report_date generator_id energy_source  \\\n",
       "1562       676         2011            3           BIT   \n",
       "1563       676         2011          5ST            NG   \n",
       "1564       676         2011          ST1            NG   \n",
       "1565       676         2011          ST2            NG   \n",
       "1566       676         2012            3           BIT   \n",
       "1567       676         2012          5ST            NG   \n",
       "1568       676         2012          ST1            NG   \n",
       "1569       676         2012          ST2            NG   \n",
       "1570       676         2013            3           BIT   \n",
       "1571       676         2013          5ST            NG   \n",
       "1572       676         2013          ST1            NG   \n",
       "1573       676         2013          ST2            NG   \n",
       "1574       676         2014            3           BIT   \n",
       "1575       676         2014          5CT            NG   \n",
       "1576       676         2014          5ST            NG   \n",
       "1577       676         2014          ST1            NG   \n",
       "1578       676         2014          ST2            NG   \n",
       "1579       676         2015            3           BIT   \n",
       "1580       676         2015          5CT            NG   \n",
       "1581       676         2015          5ST            NG   \n",
       "1582       676         2015          ST2            NG   \n",
       "1583       676         2016            3           BIT   \n",
       "1584       676         2016          5CT            NG   \n",
       "1585       676         2016          5ST            NG   \n",
       "1586       676         2016          ST2            NG   \n",
       "\n",
       "      proportion_generation_by_generator  fuel_cost_by_generator  \\\n",
       "1562                            1.000000            7.038856e+07   \n",
       "1563                            0.986687            7.955764e+07   \n",
       "1564                           -0.000485                     NaN   \n",
       "1565                            0.013797            1.112506e+06   \n",
       "1566                            1.000000            5.794116e+07   \n",
       "1567                            0.980416            6.057154e+07   \n",
       "1568                            0.000044            2.741662e+03   \n",
       "1569                            0.019540            1.207197e+06   \n",
       "1570                            1.000000            5.502671e+07   \n",
       "1571                            0.996327            6.579369e+07   \n",
       "1572                            0.000000            0.000000e+00   \n",
       "1573                            0.003673            2.425536e+05   \n",
       "1574                            1.000000            1.915513e+07   \n",
       "1575                            0.543971            3.547945e+07   \n",
       "1576                            0.435112            2.837937e+07   \n",
       "1577                            0.000715            4.663972e+04   \n",
       "1578                            0.020202            1.317620e+06   \n",
       "1579                            1.000000            4.905391e+07   \n",
       "1580                            0.641381            3.591404e+07   \n",
       "1581                            0.348653            1.952276e+07   \n",
       "1582                            0.009966            5.580363e+05   \n",
       "1583                            1.000000            3.127139e+07   \n",
       "1584                            0.625626            2.929763e+07   \n",
       "1585                            0.352427            1.650393e+07   \n",
       "1586                            0.021947            1.027745e+06   \n",
       "\n",
       "      fuel_cost_per_mwh  fuel_consumed_mmbtu_per_generator  \\\n",
       "1562          51.447081                       1.476694e+07   \n",
       "1563          99.499664                       0.000000e+00   \n",
       "1564                NaN                       1.356115e+04   \n",
       "1565          99.499664                       1.610822e+05   \n",
       "1566          45.700328                       1.377339e+07   \n",
       "1567          72.149001                       0.000000e+00   \n",
       "1568          72.149001                       1.478202e+04   \n",
       "1569          72.149001                       2.432673e+05   \n",
       "1570          41.997238                       1.440091e+07   \n",
       "1571          90.538869                       0.000000e+00   \n",
       "1572                NaN                                NaN   \n",
       "1573          90.538869                       7.196900e+04   \n",
       "1574          38.828696                                NaN   \n",
       "1575          47.591553                                NaN   \n",
       "1576          47.591553                                NaN   \n",
       "1577          47.591553                                NaN   \n",
       "1578          47.591553                                NaN   \n",
       "1579          36.080223                                NaN   \n",
       "1580          26.424677                                NaN   \n",
       "1581          26.424677                                NaN   \n",
       "1582          26.424677                                NaN   \n",
       "1583          25.176063                                NaN   \n",
       "1584          27.455579                                NaN   \n",
       "1585          27.455579                                NaN   \n",
       "1586          27.455579                                NaN   \n",
       "\n",
       "      heat_rate_mmbtu_mwh  plant_assn  net_generation_mwh  \\\n",
       "1562            10.793174        True           1368174.0   \n",
       "1563                  NaN        True            799577.0   \n",
       "1564                  NaN        True              -393.0   \n",
       "1565            14.406781        True             11181.0   \n",
       "1566            10.863581        True           1267850.0   \n",
       "1567                  NaN        True            839534.0   \n",
       "1568           389.000395        True                38.0   \n",
       "1569            14.539046        True             16732.0   \n",
       "1570            10.990996        True           1310246.0   \n",
       "1571                  NaN        True            726690.0   \n",
       "1572                  NaN        True                 0.0   \n",
       "1573            26.864127        True              2679.0   \n",
       "1574             7.720330       False            493324.0   \n",
       "1575             7.720330       False            745499.0   \n",
       "1576             7.720330       False            596311.0   \n",
       "1577             7.720330       False               980.0   \n",
       "1578             7.720330       False             27686.0   \n",
       "1579             8.927735       False           1359579.0   \n",
       "1580             8.927735       False           1359110.0   \n",
       "1581             8.927735       False            738808.0   \n",
       "1582             8.927735       False             21118.0   \n",
       "1583             9.076163       False           1242108.0   \n",
       "1584             9.076163       False           1067092.0   \n",
       "1585             9.076163       False            601114.0   \n",
       "1586             9.076163       False             37433.0   \n",
       "\n",
       "      nameplate_capacity_mw  summer_capacity_mw  winter_capacity_mw  \\\n",
       "1562                  363.8               342.0               342.0   \n",
       "1563                  120.0               123.0               121.0   \n",
       "1564                  103.5                85.0                85.0   \n",
       "1565                  126.0               106.0               106.0   \n",
       "1566                  363.8               342.0               342.0   \n",
       "1567                  120.0               123.0               121.0   \n",
       "1568                  103.5                85.0                85.0   \n",
       "1569                  126.0               106.0               106.0   \n",
       "1570                  363.8               342.0               342.0   \n",
       "1571                  120.0               123.0               121.0   \n",
       "1572                  103.5                85.0                85.0   \n",
       "1573                  126.0               106.0               106.0   \n",
       "1574                  363.8               342.0               342.0   \n",
       "1575                  249.0               215.0               233.0   \n",
       "1576                  120.0               123.0               121.0   \n",
       "1577                  103.5                85.0                85.0   \n",
       "1578                  126.0               106.0               106.0   \n",
       "1579                  363.8               342.0               342.0   \n",
       "1580                  249.0               215.0               233.0   \n",
       "1581                  120.0               123.0               121.0   \n",
       "1582                  126.0               106.0               106.0   \n",
       "1583                  363.8               342.0               342.0   \n",
       "1584                  249.0               215.0               233.0   \n",
       "1585                  120.0               123.0               121.0   \n",
       "1586                  126.0               106.0               106.0   \n",
       "\n",
       "      capacity_factor  \n",
       "1562         0.429313  \n",
       "1563         0.760633  \n",
       "1564              NaN  \n",
       "1565         0.010130  \n",
       "1566         0.397833  \n",
       "1567         0.798643  \n",
       "1568         0.000042  \n",
       "1569         0.015159  \n",
       "1570         0.411137  \n",
       "1571         0.691296  \n",
       "1572         0.000000  \n",
       "1573         0.002427  \n",
       "1574         0.154798  \n",
       "1575         0.341778  \n",
       "1576         0.567267  \n",
       "1577         0.001081  \n",
       "1578         0.025083  \n",
       "1579         0.426616  \n",
       "1580         0.623091  \n",
       "1581         0.702823  \n",
       "1582         0.019133  \n",
       "1583         0.389756  \n",
       "1584         0.489213  \n",
       "1585         0.571836  \n",
       "1586         0.033914  "
      ]
     },
     "execution_count": 27,
     "metadata": {},
     "output_type": "execute_result"
    }
   ],
   "source": [
    "mcoe_by_generator[mcoe_by_generator['plant_id'] == 676]"
   ]
  },
  {
   "cell_type": "code",
   "execution_count": 28,
   "metadata": {},
   "outputs": [
    {
     "name": "stderr",
     "output_type": "stream",
     "text": [
      "/home/alana/anaconda3/lib/python3.6/site-packages/numpy/lib/function_base.py:747: RuntimeWarning: invalid value encountered in greater_equal\n",
      "  keep = (tmp_a >= mn)\n",
      "/home/alana/anaconda3/lib/python3.6/site-packages/numpy/lib/function_base.py:748: RuntimeWarning: invalid value encountered in less_equal\n",
      "  keep &= (tmp_a <= mx)\n",
      "/home/alana/anaconda3/lib/python3.6/site-packages/matplotlib/axes/_axes.py:545: UserWarning: No labelled objects found. Use label='...' kwarg on individual plots.\n",
      "  warnings.warn(\"No labelled objects found. \"\n"
     ]
    },
    {
     "data": {
      "image/png": "[encoded data removed]",
      "text/plain": [
       "<matplotlib.figure.Figure at 0x7f6d4fc65b00>"
      ]
     },
     "metadata": {},
     "output_type": "display_data"
    }
   ],
   "source": [
    "#quick look at spread in fuel_cost_per_mwh\n",
    "plt.hist(mcoe_by_generator.fuel_cost_per_mwh, range=(0,200), bins=200, alpha=0.5, color='green')\n",
    "plt.xlabel(\"Fuel Cost ($/MWh)\")\n",
    "plt.ylabel(\"Number of generator records\")\n",
    "plt.title(\"Cost of fuel\")\n",
    "plt.legend();"
   ]
  },
  {
   "cell_type": "code",
   "execution_count": 29,
   "metadata": {},
   "outputs": [
    {
     "name": "stderr",
     "output_type": "stream",
     "text": [
      "/home/alana/anaconda3/lib/python3.6/site-packages/numpy/lib/function_base.py:747: RuntimeWarning: invalid value encountered in greater_equal\n",
      "  keep = (tmp_a >= mn)\n",
      "/home/alana/anaconda3/lib/python3.6/site-packages/numpy/lib/function_base.py:748: RuntimeWarning: invalid value encountered in less_equal\n",
      "  keep &= (tmp_a <= mx)\n",
      "/home/alana/anaconda3/lib/python3.6/site-packages/matplotlib/axes/_axes.py:545: UserWarning: No labelled objects found. Use label='...' kwarg on individual plots.\n",
      "  warnings.warn(\"No labelled objects found. \"\n"
     ]
    },
    {
     "data": {
      "image/png": "[encoded data removed]",
      "text/plain": [
       "<matplotlib.figure.Figure at 0x7f6d51b39518>"
      ]
     },
     "metadata": {},
     "output_type": "display_data"
    }
   ],
   "source": [
    "#quick look at capacity factors\n",
    "plt.hist(mcoe_by_generator.capacity_factor, range=(0,1.5), bins=200, alpha=0.5, color='blue')\n",
    "plt.xlabel(\"Capacity factor (Net generation/Nameplate capacity)\")\n",
    "plt.ylabel(\"Number of generator records\")\n",
    "plt.title(\"Capacity factors\")\n",
    "plt.legend();"
   ]
  },
  {
   "cell_type": "code",
   "execution_count": 30,
   "metadata": {},
   "outputs": [
    {
     "data": {
      "text/plain": [
       "count     6536.000000\n",
       "mean        57.174650\n",
       "std        732.162395\n",
       "min          0.007643\n",
       "25%         20.736752\n",
       "50%         27.973872\n",
       "75%         45.099173\n",
       "max      50790.726912\n",
       "Name: fuel_cost_per_mwh, dtype: float64"
      ]
     },
     "execution_count": 30,
     "metadata": {},
     "output_type": "execute_result"
    }
   ],
   "source": [
    "mcoe_by_generator.fuel_cost_per_mwh.describe()"
   ]
  },
  {
   "cell_type": "code",
   "execution_count": 31,
   "metadata": {},
   "outputs": [],
   "source": [
    "mcoe_annotations = pd.read_csv('mcoe_field_annotations.csv')\n",
    "mcoe_notes = pd.read_csv('mcoe_notes.csv')"
   ]
  },
  {
   "cell_type": "code",
   "execution_count": 32,
   "metadata": {},
   "outputs": [],
   "source": [
    "xlsx_writer = pd.ExcelWriter('EIA_mcoe_2011-2015.xlsx')\n",
    "mcoe_by_generator.to_excel(xlsx_writer, sheet_name='MCOE by Generator', index=False, na_rep='NA')\n",
    "mcoe_annotations.to_excel(xlsx_writer, sheet_name='MCOE Annotations', index=False)\n",
    "mcoe_notes.to_excel(xlsx_writer, sheet_name='MCOE Notes', index=False)\n",
    "\n",
    "xlsx_writer.save()"
   ]
  },
  {
   "cell_type": "code",
   "execution_count": 33,
   "metadata": {},
   "outputs": [
    {
     "data": {
      "text/html": [
       "<div>\n",
       "<style>\n",
       "    .dataframe thead tr:only-child th {\n",
       "        text-align: right;\n",
       "    }\n",
       "\n",
       "    .dataframe thead th {\n",
       "        text-align: left;\n",
       "    }\n",
       "\n",
       "    .dataframe tbody tr th {\n",
       "        vertical-align: top;\n",
       "    }\n",
       "</style>\n",
       "<table border=\"1\" class=\"dataframe\">\n",
       "  <thead>\n",
       "    <tr style=\"text-align: right;\">\n",
       "      <th></th>\n",
       "      <th>plant_id</th>\n",
       "      <th>report_date</th>\n",
       "      <th>generator_id</th>\n",
       "      <th>energy_source</th>\n",
       "      <th>proportion_generation_by_generator</th>\n",
       "      <th>fuel_cost_by_generator</th>\n",
       "      <th>fuel_cost_per_mwh</th>\n",
       "      <th>fuel_consumed_mmbtu_per_generator</th>\n",
       "      <th>heat_rate_mmbtu_mwh</th>\n",
       "      <th>plant_assn</th>\n",
       "      <th>net_generation_mwh</th>\n",
       "      <th>nameplate_capacity_mw</th>\n",
       "      <th>summer_capacity_mw</th>\n",
       "      <th>winter_capacity_mw</th>\n",
       "      <th>capacity_factor</th>\n",
       "    </tr>\n",
       "  </thead>\n",
       "  <tbody>\n",
       "    <tr>\n",
       "      <th>5344</th>\n",
       "      <td>2727</td>\n",
       "      <td>2014</td>\n",
       "      <td>2</td>\n",
       "      <td>BIT</td>\n",
       "      <td>0.213956</td>\n",
       "      <td>5.699385e+07</td>\n",
       "      <td>28.314114</td>\n",
       "      <td>1.934559e+07</td>\n",
       "      <td>9.610743</td>\n",
       "      <td>True</td>\n",
       "      <td>2012913.0</td>\n",
       "      <td>350.0</td>\n",
       "      <td>380.0</td>\n",
       "      <td>380.0</td>\n",
       "      <td>0.656527</td>\n",
       "    </tr>\n",
       "    <tr>\n",
       "      <th>8795</th>\n",
       "      <td>6558</td>\n",
       "      <td>2012</td>\n",
       "      <td>3</td>\n",
       "      <td>NG</td>\n",
       "      <td>0.000000</td>\n",
       "      <td>0.000000e+00</td>\n",
       "      <td>NaN</td>\n",
       "      <td>NaN</td>\n",
       "      <td>NaN</td>\n",
       "      <td>True</td>\n",
       "      <td>0.0</td>\n",
       "      <td>55.0</td>\n",
       "      <td>50.0</td>\n",
       "      <td>50.0</td>\n",
       "      <td>0.000000</td>\n",
       "    </tr>\n",
       "    <tr>\n",
       "      <th>9646</th>\n",
       "      <td>8048</td>\n",
       "      <td>2015</td>\n",
       "      <td>1</td>\n",
       "      <td>RFO</td>\n",
       "      <td>0.540544</td>\n",
       "      <td>NaN</td>\n",
       "      <td>NaN</td>\n",
       "      <td>1.619578e+07</td>\n",
       "      <td>11.001871</td>\n",
       "      <td>True</td>\n",
       "      <td>1472093.0</td>\n",
       "      <td>556.2</td>\n",
       "      <td>521.0</td>\n",
       "      <td>524.0</td>\n",
       "      <td>0.302134</td>\n",
       "    </tr>\n",
       "  </tbody>\n",
       "</table>\n",
       "</div>"
      ],
      "text/plain": [
       "      plant_id  report_date generator_id energy_source  \\\n",
       "5344      2727         2014            2           BIT   \n",
       "8795      6558         2012            3            NG   \n",
       "9646      8048         2015            1           RFO   \n",
       "\n",
       "      proportion_generation_by_generator  fuel_cost_by_generator  \\\n",
       "5344                            0.213956            5.699385e+07   \n",
       "8795                            0.000000            0.000000e+00   \n",
       "9646                            0.540544                     NaN   \n",
       "\n",
       "      fuel_cost_per_mwh  fuel_consumed_mmbtu_per_generator  \\\n",
       "5344          28.314114                       1.934559e+07   \n",
       "8795                NaN                                NaN   \n",
       "9646                NaN                       1.619578e+07   \n",
       "\n",
       "      heat_rate_mmbtu_mwh  plant_assn  net_generation_mwh  \\\n",
       "5344             9.610743        True           2012913.0   \n",
       "8795                  NaN        True                 0.0   \n",
       "9646            11.001871        True           1472093.0   \n",
       "\n",
       "      nameplate_capacity_mw  summer_capacity_mw  winter_capacity_mw  \\\n",
       "5344                  350.0               380.0               380.0   \n",
       "8795                   55.0                50.0                50.0   \n",
       "9646                  556.2               521.0               524.0   \n",
       "\n",
       "      capacity_factor  \n",
       "5344         0.656527  \n",
       "8795         0.000000  \n",
       "9646         0.302134  "
      ]
     },
     "execution_count": 33,
     "metadata": {},
     "output_type": "execute_result"
    }
   ],
   "source": [
    "mcoe_by_generator.sample(3)"
   ]
  },
  {
   "cell_type": "code",
   "execution_count": null,
   "metadata": {
    "collapsed": true
   },
   "outputs": [],
   "source": []
  }
 ],
 "metadata": {
  "kernelspec": {
   "display_name": "Python 3",
   "language": "python",
   "name": "python3"
  },
  "language_info": {
   "codemirror_mode": {
    "name": "ipython",
    "version": 3
   },
   "file_extension": ".py",
   "mimetype": "text/x-python",
   "name": "python",
   "nbconvert_exporter": "python",
   "pygments_lexer": "ipython3",
   "version": "3.6.1"
  }
 },
 "nbformat": 4,
 "nbformat_minor": 2
}
