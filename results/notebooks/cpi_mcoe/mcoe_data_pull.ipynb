{
 "cells": [
  {
   "cell_type": "code",
   "execution_count": 1,
   "metadata": {
    "collapsed": true
   },
   "outputs": [],
   "source": [
    "import sys\n",
    "import os\n",
    "import numpy as np\n",
    "import pandas as pd\n",
    "import sqlalchemy as sa\n",
    "sys.path.append(os.path.abspath(os.path.join('..','..','..')))\n",
    "from pudl import pudl, ferc1, eia923, settings, constants, analysis\n",
    "from pudl import models, models_ferc1, models_eia923\n",
    "from pudl import clean_eia923, clean_ferc1, clean_pudl\n",
    "import matplotlib.pyplot as plt\n",
    "import matplotlib as mpl\n",
    "pd.options.mode.chained_assignment = None\n",
    "%matplotlib inline\n",
    "plt.style.use('ggplot')\n",
    "mpl.rcParams['figure.figsize'] = (10,6)\n",
    "mpl.rcParams['figure.dpi'] = 150"
   ]
  },
  {
   "cell_type": "code",
   "execution_count": 2,
   "metadata": {
    "collapsed": true
   },
   "outputs": [],
   "source": [
    "pudl_engine  = pudl.db_connect_pudl()"
   ]
  },
  {
   "cell_type": "markdown",
   "metadata": {},
   "source": [
    "### Pulling the required tables"
   ]
  },
  {
   "cell_type": "code",
   "execution_count": 3,
   "metadata": {
    "collapsed": true
   },
   "outputs": [],
   "source": [
    "# Bring in pudl IDs for all EIA plants\n",
    "pudl_ids = g9 = analysis.simple_select('plants_eia', pudl_engine)"
   ]
  },
  {
   "cell_type": "code",
   "execution_count": 4,
   "metadata": {
    "collapsed": true,
    "scrolled": false
   },
   "outputs": [],
   "source": [
    "# Convert the generation_eia923 table into a dataframe\n",
    "g9 = analysis.simple_select('generation_eia923', pudl_engine)\n",
    "# Get yearly net generation by plant_id, year and generator_id\n",
    "g9_summed = analysis.yearly_sum_eia(g9, 'net_generation_mwh')\n",
    "g9_summed.reset_index(inplace=True)"
   ]
  },
  {
   "cell_type": "code",
   "execution_count": 5,
   "metadata": {
    "collapsed": true
   },
   "outputs": [],
   "source": [
    "# Convert the generators_eia860 table into a dataframe\n",
    "g8 = analysis.simple_select('generators_eia860', pudl_engine)\n",
    "\n",
    "# In order to use the energy source associated with each generator\n",
    "g8_es = g8[['plant_id','generator_id', 'energy_source_1']]\n",
    "g8_es = g8_es.rename(columns={'energy_source_1': 'energy_source'})\n",
    "g8_es.drop_duplicates(['plant_id','generator_id'], inplace=True)\n",
    "\n",
    "# In order to use the capacity of each generator\n",
    "g8 = g8[['plant_id','plant_name', 'operator_name', 'state', 'generator_id','nameplate_capacity_mw','summer_capacity_mw','winter_capacity_mw','year']]\n",
    "g8.rename(columns={'year': 'report_date'},inplace=True)"
   ]
  },
  {
   "cell_type": "code",
   "execution_count": 6,
   "metadata": {
    "collapsed": true
   },
   "outputs": [],
   "source": [
    "# # Cheating to duplicate 2015 EIA860 capacity factor data for 2016:\n",
    "g8_2016 = g8.loc[g8['report_date'] == 2015]\n",
    "g8_2016.report_date.replace([2015], [2016], inplace=True)\n",
    "g8 = g8_2016.append(g8)"
   ]
  },
  {
   "cell_type": "code",
   "execution_count": 7,
   "metadata": {
    "collapsed": true,
    "scrolled": false
   },
   "outputs": [],
   "source": [
    "# Convert the fuel_receipts_costs_eia923 table into a dataframe\n",
    "frc9 = analysis.simple_select('fuel_receipts_costs_eia923', pudl_engine)\n",
    "frc9['fuel_cost'] = (frc9['fuel_quantity'] * frc9['average_heat_content'] * frc9['fuel_cost_per_mmbtu'])\n",
    "frc9['mmbtu'] =  (frc9['fuel_quantity'] * frc9['average_heat_content'])"
   ]
  },
  {
   "cell_type": "code",
   "execution_count": 8,
   "metadata": {},
   "outputs": [
    {
     "data": {
      "text/html": [
       "<div>\n",
       "<style>\n",
       "    .dataframe thead tr:only-child th {\n",
       "        text-align: right;\n",
       "    }\n",
       "\n",
       "    .dataframe thead th {\n",
       "        text-align: left;\n",
       "    }\n",
       "\n",
       "    .dataframe tbody tr th {\n",
       "        vertical-align: top;\n",
       "    }\n",
       "</style>\n",
       "<table border=\"1\" class=\"dataframe\">\n",
       "  <thead>\n",
       "    <tr style=\"text-align: right;\">\n",
       "      <th></th>\n",
       "      <th>fuel_receipt_id</th>\n",
       "      <th>plant_id</th>\n",
       "      <th>report_date</th>\n",
       "      <th>contract_type</th>\n",
       "      <th>contract_expiration_date</th>\n",
       "      <th>energy_source</th>\n",
       "      <th>fuel_group</th>\n",
       "      <th>coalmine_id</th>\n",
       "      <th>supplier</th>\n",
       "      <th>fuel_quantity</th>\n",
       "      <th>average_heat_content</th>\n",
       "      <th>average_sulfur_content</th>\n",
       "      <th>average_ash_content</th>\n",
       "      <th>average_mercury_content</th>\n",
       "      <th>fuel_cost_per_mmbtu</th>\n",
       "      <th>primary_transportation_mode</th>\n",
       "      <th>secondary_transportation_mode</th>\n",
       "      <th>natural_gas_transport</th>\n",
       "      <th>fuel_cost</th>\n",
       "      <th>mmbtu</th>\n",
       "    </tr>\n",
       "  </thead>\n",
       "  <tbody>\n",
       "    <tr>\n",
       "      <th>0</th>\n",
       "      <td>1</td>\n",
       "      <td>3</td>\n",
       "      <td>2009-01-01</td>\n",
       "      <td>C</td>\n",
       "      <td>2009-12-01</td>\n",
       "      <td>BIT</td>\n",
       "      <td>Coal</td>\n",
       "      <td>1.0</td>\n",
       "      <td>Alabama Coal</td>\n",
       "      <td>120393.0</td>\n",
       "      <td>24.0</td>\n",
       "      <td>1.0</td>\n",
       "      <td>12.0</td>\n",
       "      <td>NaN</td>\n",
       "      <td>6.311</td>\n",
       "      <td>RV</td>\n",
       "      <td>None</td>\n",
       "      <td>None</td>\n",
       "      <td>1.823521e+07</td>\n",
       "      <td>2889432.0</td>\n",
       "    </tr>\n",
       "    <tr>\n",
       "      <th>1</th>\n",
       "      <td>2</td>\n",
       "      <td>3</td>\n",
       "      <td>2009-01-01</td>\n",
       "      <td>C</td>\n",
       "      <td>2013-12-01</td>\n",
       "      <td>BIT</td>\n",
       "      <td>Coal</td>\n",
       "      <td>2.0</td>\n",
       "      <td>Interocean Coal</td>\n",
       "      <td>199388.0</td>\n",
       "      <td>23.0</td>\n",
       "      <td>1.0</td>\n",
       "      <td>9.5</td>\n",
       "      <td>NaN</td>\n",
       "      <td>3.503</td>\n",
       "      <td>RV</td>\n",
       "      <td>None</td>\n",
       "      <td>None</td>\n",
       "      <td>1.606449e+07</td>\n",
       "      <td>4585924.0</td>\n",
       "    </tr>\n",
       "  </tbody>\n",
       "</table>\n",
       "</div>"
      ],
      "text/plain": [
       "   fuel_receipt_id  plant_id report_date contract_type  \\\n",
       "0                1         3  2009-01-01             C   \n",
       "1                2         3  2009-01-01             C   \n",
       "\n",
       "  contract_expiration_date energy_source fuel_group  coalmine_id  \\\n",
       "0               2009-12-01           BIT       Coal          1.0   \n",
       "1               2013-12-01           BIT       Coal          2.0   \n",
       "\n",
       "          supplier  fuel_quantity  average_heat_content  \\\n",
       "0     Alabama Coal       120393.0                  24.0   \n",
       "1  Interocean Coal       199388.0                  23.0   \n",
       "\n",
       "   average_sulfur_content  average_ash_content  average_mercury_content  \\\n",
       "0                     1.0                 12.0                      NaN   \n",
       "1                     1.0                  9.5                      NaN   \n",
       "\n",
       "   fuel_cost_per_mmbtu primary_transportation_mode  \\\n",
       "0                6.311                          RV   \n",
       "1                3.503                          RV   \n",
       "\n",
       "  secondary_transportation_mode natural_gas_transport     fuel_cost      mmbtu  \n",
       "0                          None                  None  1.823521e+07  2889432.0  \n",
       "1                          None                  None  1.606449e+07  4585924.0  "
      ]
     },
     "execution_count": 8,
     "metadata": {},
     "output_type": "execute_result"
    }
   ],
   "source": [
    "frc9.head(2)"
   ]
  },
  {
   "cell_type": "code",
   "execution_count": 9,
   "metadata": {
    "collapsed": true
   },
   "outputs": [],
   "source": [
    "# Get yearly fuel cost by plant_id, year and energy_source\n",
    "frc9_summed = analysis.yearly_sum_eia(frc9 , 'fuel_cost', columns=['plant_id','report_date','energy_source'])\n",
    "frc9_summed = frc9_summed.reset_index()"
   ]
  },
  {
   "cell_type": "code",
   "execution_count": 10,
   "metadata": {
    "collapsed": true
   },
   "outputs": [],
   "source": [
    "frc9_mmbtu_summed = analysis.yearly_sum_eia(frc9 , 'mmbtu', columns=['plant_id','report_date','energy_source'])\n",
    "frc9_mmbtu_summed = frc9_mmbtu_summed.reset_index()"
   ]
  },
  {
   "cell_type": "code",
   "execution_count": 11,
   "metadata": {
    "collapsed": true
   },
   "outputs": [],
   "source": [
    "frc9_summed = frc9_mmbtu_summed.merge(frc9_summed)\n",
    "frc9_summed['fuel_cost_per_mmbtu_total'] = (frc9_summed.fuel_cost/frc9_summed.mmbtu)"
   ]
  },
  {
   "cell_type": "code",
   "execution_count": 95,
   "metadata": {},
   "outputs": [
    {
     "data": {
      "text/html": [
       "<div>\n",
       "<style>\n",
       "    .dataframe thead tr:only-child th {\n",
       "        text-align: right;\n",
       "    }\n",
       "\n",
       "    .dataframe thead th {\n",
       "        text-align: left;\n",
       "    }\n",
       "\n",
       "    .dataframe tbody tr th {\n",
       "        vertical-align: top;\n",
       "    }\n",
       "</style>\n",
       "<table border=\"1\" class=\"dataframe\">\n",
       "  <thead>\n",
       "    <tr style=\"text-align: right;\">\n",
       "      <th></th>\n",
       "      <th>plant_id</th>\n",
       "      <th>report_date</th>\n",
       "      <th>energy_source</th>\n",
       "      <th>mmbtu</th>\n",
       "      <th>fuel_cost</th>\n",
       "      <th>fuel_cost_per_mmbtu_total</th>\n",
       "    </tr>\n",
       "  </thead>\n",
       "  <tbody>\n",
       "    <tr>\n",
       "      <th>0</th>\n",
       "      <td>3</td>\n",
       "      <td>2009</td>\n",
       "      <td>BIT</td>\n",
       "      <td>8.784741e+07</td>\n",
       "      <td>3.019373e+08</td>\n",
       "      <td>3.437065</td>\n",
       "    </tr>\n",
       "  </tbody>\n",
       "</table>\n",
       "</div>"
      ],
      "text/plain": [
       "   plant_id  report_date energy_source         mmbtu     fuel_cost  \\\n",
       "0         3         2009           BIT  8.784741e+07  3.019373e+08   \n",
       "\n",
       "   fuel_cost_per_mmbtu_total  \n",
       "0                   3.437065  "
      ]
     },
     "execution_count": 95,
     "metadata": {},
     "output_type": "execute_result"
    }
   ],
   "source": [
    "frc9_summed.head(1)"
   ]
  },
  {
   "cell_type": "code",
   "execution_count": 13,
   "metadata": {
    "collapsed": true
   },
   "outputs": [],
   "source": [
    "# Convert the boiler_fuel_eia923 table into a dataframe\n",
    "bf9 = analysis.simple_select('boiler_fuel_eia923', pudl_engine)\n",
    "bf9['fuel_consumed_mmbtu'] = bf9['fuel_qty_consumed']*bf9['fuel_mmbtu_per_unit']\n",
    "# Get yearly fuel consumed by plant_id, year and boiler_id\n",
    "bf9_summed = analysis.yearly_sum_eia(bf9 , 'fuel_consumed_mmbtu', columns=['plant_id','report_date','boiler_id'])\n",
    "bf9_summed.reset_index(inplace=True)\n",
    "# Get yearly fuel consumed by plant_id, year and boiler_id\n",
    "bf9_plant_summed = analysis.yearly_sum_eia(bf9 , 'fuel_consumed_mmbtu', columns=['plant_id','report_date'])\n",
    "bf9_plant_summed.reset_index(inplace=True)"
   ]
  },
  {
   "cell_type": "code",
   "execution_count": 14,
   "metadata": {
    "collapsed": true
   },
   "outputs": [],
   "source": [
    "# Convert the boiler_generator_assn_eia860 table into a dataframe\n",
    "bga8 = analysis.simple_select('boiler_generator_assn_eia860', pudl_engine)\n",
    "bga8.drop(['id','operator_id'],axis=1, inplace=True)\n",
    "bga8.drop_duplicates(['plant_id','boiler_id','generator_id'],inplace=True)"
   ]
  },
  {
   "cell_type": "code",
   "execution_count": 15,
   "metadata": {
    "collapsed": true
   },
   "outputs": [],
   "source": [
    "# get the primary fuel for each plant (to be used to combine plants that have unassociated generators)\n",
    "gf9 = analysis.simple_select('generation_fuel_eia923', pudl_engine)\n",
    "primary_fuel9 = analysis.primary_fuel_gf_eia923(gf9).rename(columns={'year':'report_date'})"
   ]
  },
  {
   "cell_type": "code",
   "execution_count": 94,
   "metadata": {},
   "outputs": [
    {
     "data": {
      "text/html": [
       "<div>\n",
       "<style>\n",
       "    .dataframe thead tr:only-child th {\n",
       "        text-align: right;\n",
       "    }\n",
       "\n",
       "    .dataframe thead th {\n",
       "        text-align: left;\n",
       "    }\n",
       "\n",
       "    .dataframe tbody tr th {\n",
       "        vertical-align: top;\n",
       "    }\n",
       "</style>\n",
       "<table border=\"1\" class=\"dataframe\">\n",
       "  <thead>\n",
       "    <tr style=\"text-align: right;\">\n",
       "      <th></th>\n",
       "      <th>plant_id</th>\n",
       "      <th>report_date</th>\n",
       "      <th>generator_id</th>\n",
       "      <th>net_generation_mwh</th>\n",
       "    </tr>\n",
       "  </thead>\n",
       "  <tbody>\n",
       "    <tr>\n",
       "      <th>0</th>\n",
       "      <td>3</td>\n",
       "      <td>2009</td>\n",
       "      <td>1</td>\n",
       "      <td>221908.0</td>\n",
       "    </tr>\n",
       "  </tbody>\n",
       "</table>\n",
       "</div>"
      ],
      "text/plain": [
       "   plant_id  report_date generator_id  net_generation_mwh\n",
       "0         3         2009            1            221908.0"
      ]
     },
     "execution_count": 94,
     "metadata": {},
     "output_type": "execute_result"
    }
   ],
   "source": [
    "g9_summed.head(1)"
   ]
  },
  {
   "cell_type": "markdown",
   "metadata": {},
   "source": [
    "### Generating Capacity Factor"
   ]
  },
  {
   "cell_type": "code",
   "execution_count": 17,
   "metadata": {
    "collapsed": true
   },
   "outputs": [],
   "source": [
    "# merge the generation and capacity to calculate capacity factor\n",
    "capacity_factor = g9_summed.merge(g8, on=['plant_id','generator_id','report_date'])\n",
    "capacity_factor['capacity_factor'] = capacity_factor['net_generation_mwh']/(capacity_factor['nameplate_capacity_mw']*8760)"
   ]
  },
  {
   "cell_type": "code",
   "execution_count": 93,
   "metadata": {},
   "outputs": [
    {
     "data": {
      "text/html": [
       "<div>\n",
       "<style>\n",
       "    .dataframe thead tr:only-child th {\n",
       "        text-align: right;\n",
       "    }\n",
       "\n",
       "    .dataframe thead th {\n",
       "        text-align: left;\n",
       "    }\n",
       "\n",
       "    .dataframe tbody tr th {\n",
       "        vertical-align: top;\n",
       "    }\n",
       "</style>\n",
       "<table border=\"1\" class=\"dataframe\">\n",
       "  <thead>\n",
       "    <tr style=\"text-align: right;\">\n",
       "      <th></th>\n",
       "      <th>plant_id</th>\n",
       "      <th>report_date</th>\n",
       "      <th>generator_id</th>\n",
       "      <th>net_generation_mwh</th>\n",
       "      <th>plant_name</th>\n",
       "      <th>operator_name</th>\n",
       "      <th>state</th>\n",
       "      <th>nameplate_capacity_mw</th>\n",
       "      <th>summer_capacity_mw</th>\n",
       "      <th>winter_capacity_mw</th>\n",
       "      <th>capacity_factor</th>\n",
       "    </tr>\n",
       "  </thead>\n",
       "  <tbody>\n",
       "    <tr>\n",
       "      <th>0</th>\n",
       "      <td>3</td>\n",
       "      <td>2011</td>\n",
       "      <td>1</td>\n",
       "      <td>312130.0</td>\n",
       "      <td>Barry</td>\n",
       "      <td>Alabama Power Co</td>\n",
       "      <td>AL</td>\n",
       "      <td>153.1</td>\n",
       "      <td>138.0</td>\n",
       "      <td>138.0</td>\n",
       "      <td>0.232732</td>\n",
       "    </tr>\n",
       "  </tbody>\n",
       "</table>\n",
       "</div>"
      ],
      "text/plain": [
       "   plant_id  report_date generator_id  net_generation_mwh plant_name  \\\n",
       "0         3         2011            1            312130.0      Barry   \n",
       "\n",
       "      operator_name state  nameplate_capacity_mw  summer_capacity_mw  \\\n",
       "0  Alabama Power Co    AL                  153.1               138.0   \n",
       "\n",
       "   winter_capacity_mw  capacity_factor  \n",
       "0               138.0         0.232732  "
      ]
     },
     "execution_count": 93,
     "metadata": {},
     "output_type": "execute_result"
    }
   ],
   "source": [
    "capacity_factor.head(1)"
   ]
  },
  {
   "cell_type": "code",
   "execution_count": 19,
   "metadata": {
    "collapsed": true
   },
   "outputs": [],
   "source": [
    "# Replace unrealistic capacity factors with NaN: < 0 or > 1.5\n",
    "capacity_factor.loc[capacity_factor['capacity_factor'] < 0, 'capacity_factor'] = np.nan\n",
    "capacity_factor.loc[capacity_factor['capacity_factor'] >= 1.5, 'capacity_factor'] = np.nan"
   ]
  },
  {
   "cell_type": "markdown",
   "metadata": {},
   "source": [
    "### Generating Fuel Cost, Part 1"
   ]
  },
  {
   "cell_type": "code",
   "execution_count": 20,
   "metadata": {
    "collapsed": true
   },
   "outputs": [],
   "source": [
    "# Merge the generation table with the generator table to include energy_source  \n",
    "# Merge this net_gen table with frc9_summed to have fuel_cost_per_mmbtu_total associated\n",
    "# with generators\n",
    "net_gen = g9_summed.merge(g8_es, how='left', on=['plant_id','generator_id'])\n",
    "fuel_cost_per_mmbtu = net_gen.merge(frc9_summed,how='left',on=['plant_id','report_date','energy_source'])"
   ]
  },
  {
   "cell_type": "markdown",
   "metadata": {},
   "source": [
    "# Generating Heat Rate"
   ]
  },
  {
   "cell_type": "markdown",
   "metadata": {
    "collapsed": true
   },
   "source": [
    "## Boiler Generator Association Exploration"
   ]
  },
  {
   "cell_type": "code",
   "execution_count": 21,
   "metadata": {
    "collapsed": true
   },
   "outputs": [],
   "source": [
    "# This section generates heat rate from the generators\n",
    "# of the plants that have any generators that are not\n",
    "# included in the boiler generator association table (860)\n",
    "# Because there are missing generators in the bga table,\n",
    "# without lumping all of the heat input and generation\n",
    "# from these plants together, the heat rates were off. \n",
    "# The vast majority of missing generators from the bga\n",
    "# table seem to be the gas tubrine from combine cycle plants.\n",
    "# This was generating heat rates for the steam generators\n",
    "# alone, therefor much too low."
   ]
  },
  {
   "cell_type": "code",
   "execution_count": 22,
   "metadata": {
    "collapsed": true
   },
   "outputs": [],
   "source": [
    "# All cenerators from the Boiler Generator Association table (860)\n",
    "gens8 = bga8.drop_duplicates(subset=['plant_id','generator_id'])\n",
    "# All cenerators from the generation table (923)/\n",
    "gens9 = g9_summed.drop_duplicates(subset=['plant_id','generator_id','report_date'])\n",
    "\n",
    "# See which generators are missing from the bga table\n",
    "gens = gens9.merge(gens8, on=['plant_id', 'generator_id'], how=\"left\")\n",
    "gens.boiler_id = gens.boiler_id.astype(str)\n",
    "gens['boiler_generator_assn'] = np.where(gens['boiler_id']=='nan', False, True)\n",
    "\n",
    "# Create a list of plants that include any generators that are not in the bga table\n",
    "unassociated_plants = gens[gens['boiler_generator_assn'] == False].\\\n",
    "                      drop_duplicates(subset=['plant_id','report_date']).\\\n",
    "                      drop(['generator_id', 'net_generation_mwh','boiler_id','boiler_generator_assn'],axis=1)\n",
    "unassociated_plants['plant_assn'] = False\n",
    "\n",
    "# Using these unassociated_plants, lable all the generators that\n",
    "# are a part of plants that have generators that are not included\n",
    "# in the bga table\n",
    "gens = gens.merge(unassociated_plants, on=['plant_id','report_date'],how='left')\n",
    "gens['plant_assn'] = gens.plant_assn.fillna(value=True)\n",
    "\n",
    "# Using the associtated plants, extract the generator/boiler combos\n",
    "# that represent complete plants at any time to preserve \n",
    "# associations (i.e. if a coal plant had its boilers and generators\n",
    "# fully associated in the bga table in 2011 and then adds a\n",
    "# combined cycle plant the coal boiler/gen combo will be saved). \n",
    "gens_complete = gens[['plant_id','generator_id','boiler_id','boiler_generator_assn','plant_assn']]\n",
    "gens_complete = gens_complete[gens_complete['plant_assn'] == True].drop_duplicates(subset=['plant_id','generator_id','boiler_id'])\n",
    "gens_complete['complete_assn'] = True\n",
    "gens = gens.merge(gens_complete[['plant_id','generator_id','boiler_id','complete_assn']], how='left', on=['plant_id','generator_id','boiler_id'])\n",
    "gens['complete_assn'] = gens.complete_assn.fillna(value=False)"
   ]
  },
  {
   "cell_type": "markdown",
   "metadata": {},
   "source": [
    "## Associated Generators"
   ]
  },
  {
   "cell_type": "code",
   "execution_count": 23,
   "metadata": {
    "collapsed": true
   },
   "outputs": [],
   "source": [
    "# This section generates heat rate from the generators of\n",
    "# the plants that have any generators that are included in\n",
    "# the boiler generator association table (860)"
   ]
  },
  {
   "cell_type": "code",
   "execution_count": 24,
   "metadata": {
    "collapsed": true
   },
   "outputs": [],
   "source": [
    "generation_w_boilers = g9_summed.merge(bga8,how='left',on=['plant_id','generator_id'])\n",
    "\n",
    "# get net generation per boiler\n",
    "gb1 = generation_w_boilers.groupby(by=['plant_id','report_date','boiler_id'])\n",
    "generation_w_boilers_summed = gb1.agg({'net_generation_mwh': np.sum})\n",
    "generation_w_boilers_summed.reset_index(inplace=True)\n",
    "generation_w_boilers_summed.rename(columns={'net_generation_mwh':'net_generation_mwh_boiler'}, inplace=True)\n",
    "\n",
    "# get the generation per boiler/generator combo\n",
    "gb2 = generation_w_boilers.groupby(by=['plant_id','report_date','boiler_id','generator_id'])\n",
    "generation_w_bg_summed = gb2.agg({'net_generation_mwh': np.sum})\n",
    "generation_w_bg_summed.reset_index(inplace=True)\n",
    "generation_w_bg_summed.rename(columns={'net_generation_mwh':'net_generation_mwh_boiler_gen'}, inplace=True)\n",
    "\n",
    "# squish them together\n",
    "generation_w_boilers_summed = generation_w_boilers_summed.merge(generation_w_bg_summed,\n",
    "                                                                how='left', on=['plant_id','report_date','boiler_id'])\n",
    "\n",
    "# Convert the boiler_fuel_eia923 table into a dataframe\n",
    "bf9 = analysis.simple_select('boiler_fuel_eia923', pudl_engine)\n",
    "bf9['fuel_consumed_mmbtu'] = bf9['fuel_qty_consumed']*bf9['fuel_mmbtu_per_unit']\n",
    "# Get yearly fuel consumed by plant_id, year and boiler_id\n",
    "bf9_summed = analysis.yearly_sum_eia(bf9 , 'fuel_consumed_mmbtu', columns=['plant_id','report_date','boiler_id'])\n",
    "bf9_summed.reset_index(inplace=True)\n",
    "\n",
    "bg = bf9_summed.merge(bga8,how='left',on=['plant_id','boiler_id'])\n",
    "bg = bg.merge(generation_w_boilers_summed, how='left', on=['plant_id','report_date', 'boiler_id', 'generator_id'])\n",
    "\n",
    "# Use the proportion of the generation of each generator to allot mmBTU\n",
    "bg['proportion_of_gen_by_boil_gen'] = bg['net_generation_mwh_boiler_gen'] / bg['net_generation_mwh_boiler']\n",
    "bg['fuel_consumed_mmbtu_per_gen'] = bg['proportion_of_gen_by_boil_gen'] * bg['fuel_consumed_mmbtu']\n",
    "\n",
    "# Get yearly fuel_consumed_mmbtu by plant_id, year and generator_id\n",
    "bg_gb = bg.groupby(by=['plant_id','report_date','generator_id'])\n",
    "bg_summed = bg_gb.agg({'fuel_consumed_mmbtu_per_gen':np.sum})\n",
    "bg_summed.reset_index(inplace=True)\n",
    "\n",
    "# Calculate heat rate\n",
    "heat_rate = bg_summed.merge(g9_summed,how='left',on=['plant_id', 'report_date', 'generator_id'])\n",
    "heat_rate['heat_rate_mmbtu_mwh'] = heat_rate['fuel_consumed_mmbtu_per_gen'] / heat_rate['net_generation_mwh']\n",
    "\n",
    "# Importing the plant association tag to filter out the\n",
    "# generators that are a part of plants that aren't in the bga table\n",
    "heat_rate = heat_rate.merge(gens[['plant_id','report_date','generator_id','complete_assn','plant_assn','boiler_id', 'boiler_generator_assn']], on=['plant_id','report_date','generator_id'])\n",
    "\n",
    "heat_rate_assn = heat_rate[heat_rate['complete_assn'] == True]"
   ]
  },
  {
   "cell_type": "code",
   "execution_count": 25,
   "metadata": {
    "collapsed": true
   },
   "outputs": [],
   "source": [
    "# If heat rate is <1, then don't include this generator in the Associated group\n",
    "heat_rate_assn.loc[heat_rate_assn.heat_rate_mmbtu_mwh < 1, 'complete_assn'] = False\n",
    "heat_rate_assn = heat_rate_assn[heat_rate_assn.complete_assn == True]"
   ]
  },
  {
   "cell_type": "code",
   "execution_count": 26,
   "metadata": {
    "collapsed": true
   },
   "outputs": [],
   "source": [
    "# Create list of generators that have been recategorized as unassociated so as to include them in Unassociated calculations\n",
    "unassociated = heat_rate_assn.loc[heat_rate_assn['complete_assn'] == False]\n",
    "unassociated.drop_duplicates(['plant_id', 'generator_id'], inplace=True)"
   ]
  },
  {
   "cell_type": "markdown",
   "metadata": {},
   "source": [
    "## Unassociated Generators"
   ]
  },
  {
   "cell_type": "code",
   "execution_count": 27,
   "metadata": {
    "collapsed": true
   },
   "outputs": [],
   "source": [
    "# Get a list of generators from plants with unassociated plants\n",
    "#gens_unassn_plants = gens[gens['plant_assn'] == False]\n",
    "gens_unassn_plants = gens[gens['complete_assn'] == False]\n",
    "gens_unassn_plants = pd.concat([gens_unassn_plants, unassociated])\n",
    "gens_unassn_plants.drop_duplicates(['plant_id', 'generator_id'], inplace=True)\n",
    "\n",
    "# Sum the yearly net generation for these plants\n",
    "gup_gb = gens_unassn_plants.groupby(by=['plant_id','report_date'])\n",
    "gens_unassn_plants_summed = gup_gb.agg({'net_generation_mwh': np.sum})\n",
    "gens_unassn_plants_summed.reset_index(inplace=True)\n",
    "\n",
    "# Pull in mmbtu to calculate heat rate by plant\n",
    "unassn_plants = gens_unassn_plants_summed.merge(bf9_plant_summed, on=['plant_id','report_date'])\n",
    "unassn_plants['heat_rate_mmbtu_mwh'] = unassn_plants['fuel_consumed_mmbtu'] / unassn_plants['net_generation_mwh']\n",
    "\n",
    "# Merge these plant level heat heat rates with the unassociated generators\n",
    "# Assign heat rates to generators across the plants with unassociated generators\n",
    "heat_rate_unassn = gens_unassn_plants.merge(unassn_plants[['plant_id','report_date','heat_rate_mmbtu_mwh']], on=['plant_id','report_date'],how='left')\n",
    "heat_rate_unassn.drop(['boiler_id','boiler_generator_assn'],axis=1,inplace=True)"
   ]
  },
  {
   "cell_type": "code",
   "execution_count": 28,
   "metadata": {},
   "outputs": [
    {
     "data": {
      "text/html": [
       "<div>\n",
       "<style>\n",
       "    .dataframe thead tr:only-child th {\n",
       "        text-align: right;\n",
       "    }\n",
       "\n",
       "    .dataframe thead th {\n",
       "        text-align: left;\n",
       "    }\n",
       "\n",
       "    .dataframe tbody tr th {\n",
       "        vertical-align: top;\n",
       "    }\n",
       "</style>\n",
       "<table border=\"1\" class=\"dataframe\">\n",
       "  <thead>\n",
       "    <tr style=\"text-align: right;\">\n",
       "      <th></th>\n",
       "      <th>boiler_generator_assn</th>\n",
       "      <th>boiler_id</th>\n",
       "      <th>complete_assn</th>\n",
       "      <th>fuel_consumed_mmbtu_per_gen</th>\n",
       "      <th>generator_id</th>\n",
       "      <th>heat_rate_mmbtu_mwh</th>\n",
       "      <th>net_generation_mwh</th>\n",
       "      <th>plant_assn</th>\n",
       "      <th>plant_id</th>\n",
       "      <th>report_date</th>\n",
       "    </tr>\n",
       "  </thead>\n",
       "  <tbody>\n",
       "    <tr>\n",
       "      <th>40</th>\n",
       "      <td>False</td>\n",
       "      <td>nan</td>\n",
       "      <td>False</td>\n",
       "      <td>NaN</td>\n",
       "      <td>A1CT</td>\n",
       "      <td>NaN</td>\n",
       "      <td>838358.0</td>\n",
       "      <td>False</td>\n",
       "      <td>3</td>\n",
       "      <td>2014</td>\n",
       "    </tr>\n",
       "    <tr>\n",
       "      <th>41</th>\n",
       "      <td>False</td>\n",
       "      <td>nan</td>\n",
       "      <td>False</td>\n",
       "      <td>NaN</td>\n",
       "      <td>A1CT2</td>\n",
       "      <td>NaN</td>\n",
       "      <td>849336.0</td>\n",
       "      <td>False</td>\n",
       "      <td>3</td>\n",
       "      <td>2014</td>\n",
       "    </tr>\n",
       "    <tr>\n",
       "      <th>43</th>\n",
       "      <td>False</td>\n",
       "      <td>nan</td>\n",
       "      <td>False</td>\n",
       "      <td>NaN</td>\n",
       "      <td>A2C1</td>\n",
       "      <td>NaN</td>\n",
       "      <td>830654.0</td>\n",
       "      <td>False</td>\n",
       "      <td>3</td>\n",
       "      <td>2014</td>\n",
       "    </tr>\n",
       "    <tr>\n",
       "      <th>44</th>\n",
       "      <td>False</td>\n",
       "      <td>nan</td>\n",
       "      <td>False</td>\n",
       "      <td>NaN</td>\n",
       "      <td>A2C2</td>\n",
       "      <td>NaN</td>\n",
       "      <td>852641.0</td>\n",
       "      <td>False</td>\n",
       "      <td>3</td>\n",
       "      <td>2014</td>\n",
       "    </tr>\n",
       "  </tbody>\n",
       "</table>\n",
       "</div>"
      ],
      "text/plain": [
       "    boiler_generator_assn boiler_id  complete_assn  \\\n",
       "40                  False       nan          False   \n",
       "41                  False       nan          False   \n",
       "43                  False       nan          False   \n",
       "44                  False       nan          False   \n",
       "\n",
       "    fuel_consumed_mmbtu_per_gen generator_id  heat_rate_mmbtu_mwh  \\\n",
       "40                          NaN         A1CT                  NaN   \n",
       "41                          NaN        A1CT2                  NaN   \n",
       "43                          NaN         A2C1                  NaN   \n",
       "44                          NaN         A2C2                  NaN   \n",
       "\n",
       "    net_generation_mwh  plant_assn  plant_id  report_date  \n",
       "40            838358.0       False         3         2014  \n",
       "41            849336.0       False         3         2014  \n",
       "43            830654.0       False         3         2014  \n",
       "44            852641.0       False         3         2014  "
      ]
     },
     "execution_count": 28,
     "metadata": {},
     "output_type": "execute_result"
    }
   ],
   "source": [
    "gens_unassn_plants[gens_unassn_plants['plant_id'] == 3]"
   ]
  },
  {
   "cell_type": "markdown",
   "metadata": {},
   "source": [
    "## Pull the Associated and Unassociated Generators"
   ]
  },
  {
   "cell_type": "code",
   "execution_count": 29,
   "metadata": {
    "collapsed": true
   },
   "outputs": [],
   "source": [
    "heat_rate_all = heat_rate_assn.append(heat_rate_unassn)\n",
    "heat_rate_all.sort_values(by=['plant_id','report_date','generator_id'],inplace=True)\n",
    "heat_rate_all.loc[heat_rate_all['heat_rate_mmbtu_mwh'] < 5, 'heat_rate_mmbtu_mwh'] = np.nan"
   ]
  },
  {
   "cell_type": "markdown",
   "metadata": {},
   "source": [
    "### Merge fields together"
   ]
  },
  {
   "cell_type": "code",
   "execution_count": 31,
   "metadata": {
    "collapsed": true
   },
   "outputs": [],
   "source": [
    "mcoe_by_generator = fuel_cost_per_mmbtu.merge(heat_rate_all,on=['plant_id','report_date','generator_id'])"
   ]
  },
  {
   "cell_type": "code",
   "execution_count": 32,
   "metadata": {
    "collapsed": true
   },
   "outputs": [],
   "source": [
    "mcoe_by_generator = mcoe_by_generator.merge(capacity_factor, on=['plant_id','report_date','generator_id'])"
   ]
  },
  {
   "cell_type": "code",
   "execution_count": 33,
   "metadata": {
    "collapsed": true
   },
   "outputs": [],
   "source": [
    "# Drop extraneous net_generation columns, and fuel_cost column because it is sum for whole plant\n",
    "mcoe_by_generator.drop('net_generation_mwh_y', axis=1, inplace=True)\n",
    "mcoe_by_generator.drop('net_generation_mwh_x', axis=1, inplace=True)\n",
    "mcoe_by_generator.drop('fuel_cost', axis=1, inplace=True)"
   ]
  },
  {
   "cell_type": "markdown",
   "metadata": {},
   "source": [
    "### Filter to include only plants >= 10 MW"
   ]
  },
  {
   "cell_type": "code",
   "execution_count": 35,
   "metadata": {
    "collapsed": true
   },
   "outputs": [],
   "source": [
    "# Now, let's grab only those plants larger than 50MW\n",
    "mcoe_by_generator = mcoe_by_generator[mcoe_by_generator['nameplate_capacity_mw']>=10]"
   ]
  },
  {
   "cell_type": "markdown",
   "metadata": {},
   "source": [
    "### Generating Fuel Cost, Part 2"
   ]
  },
  {
   "cell_type": "code",
   "execution_count": 37,
   "metadata": {
    "collapsed": true
   },
   "outputs": [],
   "source": [
    "# Calculate fuel cost per mwh using average fuel cost given year, plant, fuel type; divide by generator-specific heat rate\n",
    "mcoe_by_generator['fuel_cost_per_mwh'] = (mcoe_by_generator['fuel_cost_per_mmbtu_total'] * mcoe_by_generator['heat_rate_mmbtu_mwh'])"
   ]
  },
  {
   "cell_type": "markdown",
   "metadata": {},
   "source": [
    "### Add PUDL plant IDs"
   ]
  },
  {
   "cell_type": "code",
   "execution_count": 39,
   "metadata": {
    "collapsed": true
   },
   "outputs": [],
   "source": [
    "mcoe_by_generator = mcoe_by_generator.merge(pudl_ids[['plant_id','plant_id_pudl']], on=['plant_id'])"
   ]
  },
  {
   "cell_type": "code",
   "execution_count": 40,
   "metadata": {},
   "outputs": [
    {
     "data": {
      "text/html": [
       "<div>\n",
       "<style>\n",
       "    .dataframe thead tr:only-child th {\n",
       "        text-align: right;\n",
       "    }\n",
       "\n",
       "    .dataframe thead th {\n",
       "        text-align: left;\n",
       "    }\n",
       "\n",
       "    .dataframe tbody tr th {\n",
       "        vertical-align: top;\n",
       "    }\n",
       "</style>\n",
       "<table border=\"1\" class=\"dataframe\">\n",
       "  <thead>\n",
       "    <tr style=\"text-align: right;\">\n",
       "      <th></th>\n",
       "      <th>plant_id</th>\n",
       "      <th>report_date</th>\n",
       "      <th>generator_id</th>\n",
       "      <th>energy_source</th>\n",
       "      <th>mmbtu</th>\n",
       "      <th>fuel_cost_per_mmbtu_total</th>\n",
       "      <th>boiler_generator_assn</th>\n",
       "      <th>boiler_id</th>\n",
       "      <th>complete_assn</th>\n",
       "      <th>fuel_consumed_mmbtu_per_gen</th>\n",
       "      <th>...</th>\n",
       "      <th>net_generation_mwh</th>\n",
       "      <th>plant_name</th>\n",
       "      <th>operator_name</th>\n",
       "      <th>state</th>\n",
       "      <th>nameplate_capacity_mw</th>\n",
       "      <th>summer_capacity_mw</th>\n",
       "      <th>winter_capacity_mw</th>\n",
       "      <th>capacity_factor</th>\n",
       "      <th>fuel_cost_per_mwh</th>\n",
       "      <th>plant_id_pudl</th>\n",
       "    </tr>\n",
       "  </thead>\n",
       "  <tbody>\n",
       "    <tr>\n",
       "      <th>0</th>\n",
       "      <td>3</td>\n",
       "      <td>2011</td>\n",
       "      <td>1</td>\n",
       "      <td>BIT</td>\n",
       "      <td>4.714560e+07</td>\n",
       "      <td>4.295619</td>\n",
       "      <td>True</td>\n",
       "      <td>1</td>\n",
       "      <td>True</td>\n",
       "      <td>3565315.033</td>\n",
       "      <td>...</td>\n",
       "      <td>312130.0</td>\n",
       "      <td>Barry</td>\n",
       "      <td>Alabama Power Co</td>\n",
       "      <td>AL</td>\n",
       "      <td>153.1</td>\n",
       "      <td>138.0</td>\n",
       "      <td>138.0</td>\n",
       "      <td>0.232732</td>\n",
       "      <td>49.066847</td>\n",
       "      <td>32</td>\n",
       "    </tr>\n",
       "  </tbody>\n",
       "</table>\n",
       "<p>1 rows × 24 columns</p>\n",
       "</div>"
      ],
      "text/plain": [
       "   plant_id  report_date generator_id energy_source         mmbtu  \\\n",
       "0         3         2011            1           BIT  4.714560e+07   \n",
       "\n",
       "   fuel_cost_per_mmbtu_total boiler_generator_assn boiler_id  complete_assn  \\\n",
       "0                   4.295619                  True         1           True   \n",
       "\n",
       "   fuel_consumed_mmbtu_per_gen      ...        net_generation_mwh  plant_name  \\\n",
       "0                  3565315.033      ...                  312130.0       Barry   \n",
       "\n",
       "      operator_name  state  nameplate_capacity_mw summer_capacity_mw  \\\n",
       "0  Alabama Power Co     AL                  153.1              138.0   \n",
       "\n",
       "  winter_capacity_mw capacity_factor  fuel_cost_per_mwh  plant_id_pudl  \n",
       "0              138.0        0.232732          49.066847             32  \n",
       "\n",
       "[1 rows x 24 columns]"
      ]
     },
     "execution_count": 40,
     "metadata": {},
     "output_type": "execute_result"
    }
   ],
   "source": [
    "mcoe_by_generator.head(1)"
   ]
  },
  {
   "cell_type": "code",
   "execution_count": 41,
   "metadata": {
    "collapsed": true
   },
   "outputs": [],
   "source": [
    "mcoe_by_generator.rename(columns={'plant_id': 'plant_id_eia'}, inplace=True)"
   ]
  },
  {
   "cell_type": "markdown",
   "metadata": {},
   "source": [
    "## Export the data frame"
   ]
  },
  {
   "cell_type": "code",
   "execution_count": 42,
   "metadata": {
    "collapsed": true
   },
   "outputs": [],
   "source": [
    "# rearrange columns\n",
    "mcoe_by_generator = mcoe_by_generator[[\n",
    "    'plant_id_eia', \n",
    "    'plant_id_pudl',\n",
    "    'plant_name',\n",
    "    'operator_name', \n",
    "    'state', \n",
    "    'report_date', \n",
    "    'generator_id', \n",
    "    'energy_source',\n",
    "    'fuel_cost_per_mmbtu_total',\n",
    "    'fuel_consumed_mmbtu_per_gen',\n",
    "    'heat_rate_mmbtu_mwh', \n",
    "    'plant_assn', \n",
    "    'net_generation_mwh', \n",
    "    'fuel_cost_per_mwh',\n",
    "    'nameplate_capacity_mw', \n",
    "    'summer_capacity_mw',\n",
    "    'winter_capacity_mw', \n",
    "    'capacity_factor']]"
   ]
  },
  {
   "cell_type": "code",
   "execution_count": 44,
   "metadata": {
    "collapsed": true
   },
   "outputs": [],
   "source": [
    "### Let's look at some data\n",
    "# mcoe_by_generator[mcoe_by_generator['plant_id_eia'] == 1893]"
   ]
  },
  {
   "cell_type": "markdown",
   "metadata": {},
   "source": [
    "# Pull in FERC data & identify plants with simple"
   ]
  },
  {
   "cell_type": "code",
   "execution_count": 50,
   "metadata": {
    "collapsed": true
   },
   "outputs": [],
   "source": [
    "simple_ferc = analysis.simple_ferc1_plant_ids(pudl_engine)"
   ]
  },
  {
   "cell_type": "code",
   "execution_count": 51,
   "metadata": {
    "collapsed": true
   },
   "outputs": [],
   "source": [
    "# convert simple ferc list into a pandas series for import to analysis.ferc_expenses() function\n",
    "simple_ferc = simple_ferc.iloc[:,0]"
   ]
  },
  {
   "cell_type": "code",
   "execution_count": 52,
   "metadata": {
    "collapsed": true
   },
   "outputs": [],
   "source": [
    "# ferc_expenses returns:\n",
    "# ferc1_expns_corr: A dictionary of expense categories\n",
    "#             and their correlations to the plant's net electricity generation.\n",
    "# steam_df: a dataframe with all the operating expenses broken out for each simple FERC PUDL plant."
   ]
  },
  {
   "cell_type": "code",
   "execution_count": 53,
   "metadata": {
    "collapsed": true
   },
   "outputs": [],
   "source": [
    "ferc_expenses = analysis.ferc_expenses(pudl_engine, simple_ferc)\n",
    "ferc_expenses_df = ferc_expenses[1]"
   ]
  },
  {
   "cell_type": "code",
   "execution_count": 55,
   "metadata": {
    "collapsed": true
   },
   "outputs": [],
   "source": [
    "# create a correlation table to export\n",
    "corr = pd.DataFrame.from_dict(ferc_expenses[0], orient='index')\n",
    "corr.index.names = ['expense_variable']\n",
    "corr = corr.reset_index()\n",
    "corr = corr.rename(columns={0: 'correlation_with_net_generation_mwh_plant'})"
   ]
  },
  {
   "cell_type": "code",
   "execution_count": 60,
   "metadata": {
    "collapsed": true
   },
   "outputs": [],
   "source": [
    "# create a ferc_expenses data frame to merge with EIA data\n",
    "ferc_expenses_df = ferc_expenses[1]"
   ]
  },
  {
   "cell_type": "code",
   "execution_count": 61,
   "metadata": {
    "collapsed": true
   },
   "outputs": [],
   "source": [
    "ferc_expenses_df.rename(columns={'net_generation_mwh': 'net_generation_mwh_plant'}, inplace=True)\n",
    "ferc_expenses_df.rename(columns={'plant_name': 'plant_name_ferc'}, inplace=True)\n",
    "ferc_expenses_df.rename(columns={'respondent_id': 'respondent_id_ferc'}, inplace=True)\n",
    "ferc_expenses_df.rename(columns={'respondent_name': 'respondent_name_ferc'}, inplace=True)\n",
    "ferc_expenses_df.rename(columns={'total_capacity_mw': 'total_capacity_mw_plant'}, inplace=True)"
   ]
  },
  {
   "cell_type": "code",
   "execution_count": 62,
   "metadata": {
    "collapsed": true
   },
   "outputs": [],
   "source": [
    "mcoe_by_generator.rename(columns={'net_generation_mwh': 'net_generation_mwh_generator'}, inplace=True)\n",
    "mcoe_by_generator.rename(columns={'plant_name': 'plant_name_eia'}, inplace=True)\n",
    "mcoe_by_generator.rename(columns={'operator_name': 'operator_name_eia'}, inplace=True)\n",
    "mcoe_by_generator.rename(columns={'nameplate_capacity_mw': 'nameplate_capacity_mw_generator'}, inplace=True)\n",
    "mcoe_by_generator.rename(columns={'summer_capacity_mw': 'summer_capacity_mw_generator'}, inplace=True)\n",
    "mcoe_by_generator.rename(columns={'winter_capacity_mw': 'winter_capacity_mw_generator'}, inplace=True)"
   ]
  },
  {
   "cell_type": "code",
   "execution_count": 79,
   "metadata": {
    "collapsed": true
   },
   "outputs": [],
   "source": [
    "# Left merge keeps all rows of mcoe_by_generator and duplicates values of ferc_expenses_df \n",
    "# for each combination of plant_id_pudl and report_date\n",
    "merged = mcoe_by_generator.merge(ferc_expenses_df, how=\"left\", left_on=['plant_id_pudl', 'report_date'], right_on=['plant_id_pudl', 'report_year'])"
   ]
  },
  {
   "cell_type": "code",
   "execution_count": 80,
   "metadata": {},
   "outputs": [],
   "source": [
    "#remove the non-simple plants by dropping rows where plant_name_ferc = NA\n",
    "merged = merged.dropna(subset=['plant_name_ferc'])"
   ]
  },
  {
   "cell_type": "code",
   "execution_count": 81,
   "metadata": {
    "collapsed": true,
    "scrolled": true
   },
   "outputs": [],
   "source": [
    "pd.options.display.max_columns = 56\n",
    "merged[merged['plant_id_pudl'] == 67]"
   ]
  },
  {
   "cell_type": "code",
   "execution_count": 83,
   "metadata": {},
   "outputs": [
    {
     "data": {
      "text/plain": [
       "Index(['plant_id_eia', 'plant_id_pudl', 'plant_name_eia', 'operator_name_eia',\n",
       "       'state', 'report_date', 'generator_id', 'energy_source',\n",
       "       'fuel_cost_per_mmbtu_total', 'fuel_consumed_mmbtu_per_gen',\n",
       "       'heat_rate_mmbtu_mwh', 'plant_assn', 'net_generation_mwh_generator',\n",
       "       'fuel_cost_per_mwh', 'nameplate_capacity_mw_generator',\n",
       "       'summer_capacity_mw_generator', 'winter_capacity_mw_generator',\n",
       "       'capacity_factor', 'report_year', 'respondent_id_ferc', 'util_id_pudl',\n",
       "       'respondent_name_ferc', 'plant_name_ferc', 'total_capacity_mw_plant',\n",
       "       'year_constructed', 'year_installed', 'peak_demand_mw',\n",
       "       'water_limited_mw', 'not_water_limited_mw', 'plant_hours',\n",
       "       'net_generation_mwh_plant', 'expns_operations', 'expns_fuel',\n",
       "       'expns_coolants', 'expns_steam', 'expns_steam_other', 'expns_transfer',\n",
       "       'expns_electric', 'expns_misc_power', 'expns_rents', 'expns_allowances',\n",
       "       'expns_engineering', 'expns_structures', 'expns_boiler', 'expns_plants',\n",
       "       'expns_misc_steam', 'expns_production_total', 'expns_per_mwh',\n",
       "       'expns_total_nonfuel_production', 'expns_total_nonproduction'],\n",
       "      dtype='object')"
      ]
     },
     "execution_count": 83,
     "metadata": {},
     "output_type": "execute_result"
    }
   ],
   "source": [
    "merged.columns"
   ]
  },
  {
   "cell_type": "code",
   "execution_count": 84,
   "metadata": {
    "collapsed": true
   },
   "outputs": [],
   "source": [
    "# rearrange columns\n",
    "merged = merged[[\n",
    "    'plant_id_pudl', 'plant_id_eia', 'plant_name_eia',\n",
    "    'operator_name_eia', 'state', 'report_date', \n",
    "    'generator_id', 'energy_source', 'fuel_cost_per_mmbtu_total',\n",
    "    'fuel_consumed_mmbtu_per_gen', 'heat_rate_mmbtu_mwh', 'plant_assn', \n",
    "    'net_generation_mwh_generator', 'fuel_cost_per_mwh', 'nameplate_capacity_mw_generator', \n",
    "    'summer_capacity_mw_generator', 'winter_capacity_mw_generator', 'capacity_factor',\n",
    "    'report_year', 'respondent_id_ferc', 'util_id_pudl', \n",
    "    'respondent_name_ferc', 'plant_name_ferc',\n",
    "    'total_capacity_mw_plant', 'year_constructed', 'year_installed',\n",
    "    'peak_demand_mw', 'water_limited_mw', 'not_water_limited_mw',\n",
    "    'plant_hours', 'net_generation_mwh_plant', 'expns_operations',\n",
    "    'expns_fuel', 'expns_coolants', 'expns_steam', 'expns_steam_other',\n",
    "    'expns_transfer', 'expns_electric', 'expns_misc_power', 'expns_rents',\n",
    "    'expns_allowances', 'expns_engineering', 'expns_structures',\n",
    "    'expns_boiler', 'expns_plants', 'expns_misc_steam',\n",
    "    'expns_production_total', 'expns_per_mwh',\n",
    "    'expns_total_nonfuel_production', 'expns_total_nonproduction']]"
   ]
  },
  {
   "cell_type": "code",
   "execution_count": 85,
   "metadata": {},
   "outputs": [],
   "source": [
    "mcoe_annotations = pd.read_csv('mcoe_field_annotations.csv')\n",
    "mcoe_notes = pd.read_csv('mcoe_notes.csv')"
   ]
  },
  {
   "cell_type": "code",
   "execution_count": 86,
   "metadata": {
    "collapsed": true
   },
   "outputs": [],
   "source": [
    "# to export all the data\n",
    "xlsx_writer = pd.ExcelWriter('MCOE_simple_plants_by_generator_2011-2016.xlsx')\n",
    "merged.to_excel(xlsx_writer, sheet_name='MCOE by Generator', index=False, na_rep='NA')\n",
    "corr.to_excel(xlsx_writer, sheet_name='Expense Correlations', index=False, na_rep='NA')\n",
    "mcoe_annotations.to_excel(xlsx_writer, sheet_name='MCOE Annotations', index=False)\n",
    "mcoe_notes.to_excel(xlsx_writer, sheet_name='MCOE Notes', index=False)\n",
    "\n",
    "xlsx_writer.save()"
   ]
  },
  {
   "cell_type": "code",
   "execution_count": null,
   "metadata": {
    "collapsed": true
   },
   "outputs": [],
   "source": []
  },
  {
   "cell_type": "markdown",
   "metadata": {},
   "source": [
    "## A few plots"
   ]
  },
  {
   "cell_type": "code",
   "execution_count": 92,
   "metadata": {},
   "outputs": [
    {
     "name": "stderr",
     "output_type": "stream",
     "text": [
      "/home/alana/anaconda3/lib/python3.6/site-packages/numpy/lib/function_base.py:747: RuntimeWarning: invalid value encountered in greater_equal\n",
      "  keep = (tmp_a >= mn)\n",
      "/home/alana/anaconda3/lib/python3.6/site-packages/numpy/lib/function_base.py:748: RuntimeWarning: invalid value encountered in less_equal\n",
      "  keep &= (tmp_a <= mx)\n"
     ]
    },
    {
     "data": {
      "image/png": "[encoded data removed]",
      "text/plain": [
       "<matplotlib.figure.Figure at 0x7fb3af095d30>"
      ]
     },
     "metadata": {},
     "output_type": "display_data"
    }
   ],
   "source": [
    "# Take a look at heat rates from EIA\n",
    "plt.hist(heat_rate_all.heat_rate_mmbtu_mwh, range=[0,50],bins=100,weights=heat_rate_all.net_generation_mwh, alpha=0.5)\n",
    "#heat_rate['heat_rate_mmbtu_mwh'].plot(kind='hist', bins=100, range=[-20,70])\n",
    "plt.xlabel('Generator heat rate (MMBtu/MWh)')\n",
    "plt.ylabel(\"Generator records (weighted by net generation)\")\n",
    "plt.title(\"Heat rates\")\n",
    "plt.show()"
   ]
  },
  {
   "cell_type": "code",
   "execution_count": null,
   "metadata": {
    "collapsed": true
   },
   "outputs": [],
   "source": [
    "#quick look at spread in fuel_cost_per_mmbtu\n",
    "plt.hist(mcoe_by_generator.fuel_cost_per_mmbtu_total, range=(-5,50), bins=200, alpha=0.5, color='green')\n",
    "plt.xlabel(\"Fuel Cost ($/mmBTU)\")\n",
    "plt.ylabel(\"Number of generator records\")\n",
    "plt.title(\"Cost of fuel\")\n",
    "plt.legend()"
   ]
  },
  {
   "cell_type": "code",
   "execution_count": null,
   "metadata": {
    "collapsed": true
   },
   "outputs": [],
   "source": [
    "#quick look at capacity factors\n",
    "plt.hist(mcoe_by_generator.capacity_factor, range=(0,1.5), bins=200, alpha=0.5, color='blue')\n",
    "plt.xlabel(\"Capacity factor (Net generation/Nameplate capacity)\")\n",
    "plt.ylabel(\"Number of generator records\")\n",
    "plt.title(\"Capacity factors\")\n",
    "plt.legend()"
   ]
  },
  {
   "cell_type": "code",
   "execution_count": null,
   "metadata": {
    "collapsed": true
   },
   "outputs": [],
   "source": [
    "#quick look at spread in fuel_cost_per_mwh for these plants\n",
    "plt.hist(mcoe_by_generator.fuel_cost_per_mwh, range=(0,200), bins=200, alpha=0.5, color='green')\n",
    "plt.xlabel(\"Fuel Cost ($/mwh)\")\n",
    "plt.ylabel(\"Number of generator records\")\n",
    "plt.title(\"Cost of fuel\")\n",
    "plt.legend()"
   ]
  },
  {
   "cell_type": "code",
   "execution_count": null,
   "metadata": {
    "collapsed": true
   },
   "outputs": [],
   "source": []
  }
 ],
 "metadata": {
  "kernelspec": {
   "display_name": "Python 3",
   "language": "python",
   "name": "python3"
  },
  "language_info": {
   "codemirror_mode": {
    "name": "ipython",
    "version": 3
   },
   "file_extension": ".py",
   "mimetype": "text/x-python",
   "name": "python",
   "nbconvert_exporter": "python",
   "pygments_lexer": "ipython3",
   "version": "3.6.1"
  }
 },
 "nbformat": 4,
 "nbformat_minor": 2
}
