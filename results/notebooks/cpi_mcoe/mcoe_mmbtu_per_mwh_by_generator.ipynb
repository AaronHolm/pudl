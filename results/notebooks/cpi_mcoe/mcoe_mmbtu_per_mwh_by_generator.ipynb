{
 "cells": [
  {
   "cell_type": "code",
   "execution_count": 1,
   "metadata": {
    "collapsed": true
   },
   "outputs": [],
   "source": [
    "import sys\n",
    "import os\n",
    "import numpy as np\n",
    "import pandas as pd\n",
    "import sqlalchemy as sa\n",
    "sys.path.append(os.path.abspath(os.path.join('..','..','..')))\n",
    "from pudl import pudl, ferc1, eia923, settings, constants, analysis\n",
    "from pudl import models, models_ferc1, models_eia923\n",
    "from pudl import clean_eia923, clean_ferc1, clean_pudl\n",
    "import matplotlib.pyplot as plt\n",
    "%matplotlib inline"
   ]
  },
  {
   "cell_type": "code",
   "execution_count": 2,
   "metadata": {
    "collapsed": true
   },
   "outputs": [],
   "source": [
    "pudl_engine  = pudl.db_connect_pudl()"
   ]
  },
  {
   "cell_type": "markdown",
   "metadata": {},
   "source": [
    "## Import Tables Needed"
   ]
  },
  {
   "cell_type": "code",
   "execution_count": 3,
   "metadata": {
    "collapsed": true
   },
   "outputs": [],
   "source": [
    "# Convert the generation_eia923 table into a dataframe\n",
    "g9 = analysis.simple_select('generation_eia923', pudl_engine)\n",
    "# Get yearly net generation by plant_id, year and generator_id\n",
    "g9_summed = analysis.yearly_sum_eia(g9 , 'net_generation_mwh')\n",
    "g9_summed.reset_index(inplace=True)"
   ]
  },
  {
   "cell_type": "code",
   "execution_count": 4,
   "metadata": {
    "collapsed": true,
    "scrolled": true
   },
   "outputs": [],
   "source": [
    "# Convert the boiler_generator_assn_eia860 table into a dataframe\n",
    "bga8 = analysis.simple_select('boiler_generator_assn_eia860', pudl_engine)\n",
    "bga8.drop(['id','operator_id'],axis=1, inplace=True)\n",
    "bga8.drop_duplicates(['plant_id','boiler_id','generator_id'],inplace=True)"
   ]
  },
  {
   "cell_type": "code",
   "execution_count": 5,
   "metadata": {
    "collapsed": true
   },
   "outputs": [],
   "source": [
    "# get the primary fuel for each plant (to be used to combine plants that have unassociated generators)\n",
    "gf9 = analysis.simple_select('generation_fuel_eia923', pudl_engine)\n",
    "primary_fuel9 = analysis.primary_fuel_gf_eia923(gf9).rename(columns={'year':'report_date'})"
   ]
  },
  {
   "cell_type": "code",
   "execution_count": 6,
   "metadata": {
    "collapsed": true
   },
   "outputs": [],
   "source": [
    "# Convert the boiler_fuel_eia923 table into a dataframe\n",
    "bf9 = analysis.simple_select('boiler_fuel_eia923', pudl_engine)\n",
    "bf9['fuel_consumed_mmbtu'] = bf9['fuel_qty_consumed']*bf9['fuel_mmbtu_per_unit']\n",
    "# Get yearly fuel consumed by plant_id, year and boiler_id\n",
    "bf9_plant_summed = analysis.yearly_sum_eia(bf9 , 'fuel_consumed_mmbtu', columns=['plant_id','report_date'])\n",
    "bf9_plant_summed.reset_index(inplace=True)"
   ]
  },
  {
   "cell_type": "markdown",
   "metadata": {},
   "source": [
    "## Boiler Generator Association Exploration"
   ]
  },
  {
   "cell_type": "code",
   "execution_count": 7,
   "metadata": {
    "collapsed": true
   },
   "outputs": [],
   "source": [
    "# This section generates heat rate from the generators\n",
    "# of the plants that have any generators that are not\n",
    "# included in the boiler generator association table (860)\n",
    "# Because there are missing generators in the bga table,\n",
    "# without lumping all of the heat input and generation\n",
    "# from these plants together, the heat rates were off. \n",
    "# The vast majority of missing generators from the bga\n",
    "# table seem to be the gas tubrine from combine cycle plants.\n",
    "# This was generating heat rates for the steam generators\n",
    "# alone, therefor much too low."
   ]
  },
  {
   "cell_type": "code",
   "execution_count": 8,
   "metadata": {
    "collapsed": true
   },
   "outputs": [],
   "source": [
    "# All cenerators from the Boiler Generator Association table (860)\n",
    "gens8 = bga8.drop_duplicates(subset=['plant_id','generator_id'])\n",
    "# All cenerators from the generation table (923)/\n",
    "gens9 = g9_summed.drop_duplicates(subset=['plant_id','generator_id','report_date'])\n",
    "\n",
    "# See which generators are missing from the bga table\n",
    "gens = gens9.merge(gens8, on=['plant_id', 'generator_id'], how=\"left\")\n",
    "gens.boiler_id = gens.boiler_id.astype(str)\n",
    "gens['boiler_generator_assn'] = np.where(gens['boiler_id']=='nan', False, True)\n",
    "\n",
    "# Create a list of plants that include any generators that are not in the bga table\n",
    "unassociated_plants = gens[gens['boiler_generator_assn'] == False].\\\n",
    "                      drop_duplicates(subset=['plant_id','report_date']).\\\n",
    "                      drop(['generator_id', 'net_generation_mwh','boiler_id','boiler_generator_assn'],axis=1)\n",
    "unassociated_plants['plant_assn'] = False\n",
    "\n",
    "# Using these unassociated_plants, lable all the generators that\n",
    "# are a part of plants that have generators that are not included\n",
    "# in the bga table\n",
    "gens = gens.merge(unassociated_plants, on=['plant_id','report_date'],how='left')\n",
    "gens['plant_assn'] = gens.plant_assn.fillna(value=True)\n",
    "\n",
    "# Using the associtated plants, extract the generator/boiler combos\n",
    "# that represent complete plants at any time to preserve \n",
    "# associations (i.e. if a coal plant had its boilers and generators\n",
    "# fully associated in the bga table in 2011 and then adds a\n",
    "# combined cycle plant the coal boiler/gen combo will be saved). \n",
    "gens_complete = gens[['plant_id','generator_id','boiler_id','boiler_generator_assn','plant_assn']]\n",
    "gens_complete = gens_complete[gens_complete['plant_assn'] == True].drop_duplicates(subset=['plant_id','generator_id','boiler_id'])\n",
    "gens_complete['complete_assn'] = True\n",
    "gens = gens.merge(gens_complete[['plant_id','generator_id','boiler_id','complete_assn']], how='left', on=['plant_id','generator_id','boiler_id'])\n",
    "gens['complete_assn'] = gens.complete_assn.fillna(value=False)"
   ]
  },
  {
   "cell_type": "markdown",
   "metadata": {},
   "source": [
    "## Unassociated Generators"
   ]
  },
  {
   "cell_type": "code",
   "execution_count": 10,
   "metadata": {
    "collapsed": true
   },
   "outputs": [],
   "source": [
    "# Get a list of generators from plants with unassociated plants\n",
    "#gens_unassn_plants = gens[gens['plant_assn'] == False]\n",
    "gens_unassn_plants = gens[gens['complete_assn'] == False]\n",
    "\n",
    "# Sum the yearly net generation for these plants\n",
    "gup_gb = gens_unassn_plants.groupby(by=['plant_id','report_date'])\n",
    "gens_unassn_plants_summed = gup_gb.agg({'net_generation_mwh': np.sum})\n",
    "gens_unassn_plants_summed.reset_index(inplace=True)\n",
    "\n",
    "# Pull in mmbtu to calculate heat rate by plant\n",
    "unassn_plants = gens_unassn_plants_summed.merge(bf9_plant_summed, on=['plant_id','report_date'])\n",
    "unassn_plants['heat_rate_mmbtu_mwh'] = unassn_plants['fuel_consumed_mmbtu'] / unassn_plants['net_generation_mwh']\n",
    "\n",
    "# Merge these plant level heat heat rates with the unassociated generators\n",
    "# Assign heat rates to generators across the plants with unassociated generators\n",
    "heat_rate_unassn = gens_unassn_plants.merge(unassn_plants[['plant_id','report_date','heat_rate_mmbtu_mwh']], on=['plant_id','report_date'],how='left')\n",
    "heat_rate_unassn.drop(['boiler_id','boiler_generator_assn'],axis=1,inplace=True)"
   ]
  },
  {
   "cell_type": "markdown",
   "metadata": {},
   "source": [
    "## Associated Generators"
   ]
  },
  {
   "cell_type": "code",
   "execution_count": 11,
   "metadata": {
    "collapsed": true
   },
   "outputs": [],
   "source": [
    "# This section generates heat rate from the generators of\n",
    "# the plants that have any generators that are included in\n",
    "# the boiler generator association table (860)"
   ]
  },
  {
   "cell_type": "code",
   "execution_count": 12,
   "metadata": {
    "collapsed": true,
    "scrolled": false
   },
   "outputs": [],
   "source": [
    "generation_w_boilers = g9_summed.merge(bga8,how='left',on=['plant_id','generator_id'])\n",
    "\n",
    "# get net generation per boiler\n",
    "gb1 = generation_w_boilers.groupby(by=['plant_id','report_date','boiler_id'])\n",
    "generation_w_boilers_summed = gb1.agg({'net_generation_mwh': np.sum})\n",
    "generation_w_boilers_summed.reset_index(inplace=True)\n",
    "generation_w_boilers_summed.rename(columns={'net_generation_mwh':'net_generation_mwh_boiler'}, inplace=True)\n",
    "\n",
    "# get the generation per boiler/generator combo\n",
    "gb2 = generation_w_boilers.groupby(by=['plant_id','report_date','boiler_id','generator_id'])\n",
    "generation_w_bg_summed = gb2.agg({'net_generation_mwh': np.sum})\n",
    "generation_w_bg_summed.reset_index(inplace=True)\n",
    "generation_w_bg_summed.rename(columns={'net_generation_mwh':'net_generation_mwh_boiler_gen'}, inplace=True)\n",
    "\n",
    "# squish them together\n",
    "generation_w_boilers_summed = generation_w_boilers_summed.merge(generation_w_bg_summed,\n",
    "                                                                how='left', on=['plant_id','report_date','boiler_id'])\n",
    "\n",
    "# Convert the boiler_fuel_eia923 table into a dataframe\n",
    "bf9 = analysis.simple_select('boiler_fuel_eia923', pudl_engine)\n",
    "bf9['fuel_consumed_mmbtu'] = bf9['fuel_qty_consumed']*bf9['fuel_mmbtu_per_unit']\n",
    "# Get yearly fuel consumed by plant_id, year and boiler_id\n",
    "bf9_summed = analysis.yearly_sum_eia(bf9 , 'fuel_consumed_mmbtu', columns=['plant_id','report_date','boiler_id'])\n",
    "bf9_summed.reset_index(inplace=True)\n",
    "\n",
    "bg = bf9_summed.merge(bga8,how='left',on=['plant_id','boiler_id'])\n",
    "bg = bg.merge(generation_w_boilers_summed, how='left', on=['plant_id','report_date', 'boiler_id', 'generator_id'])\n",
    "\n",
    "# Use the proportion of the generation of each generator to allot mmBTU\n",
    "bg['proportion_of_gen_by_boil_gen'] = bg['net_generation_mwh_boiler_gen'] / bg['net_generation_mwh_boiler']\n",
    "bg['fuel_consumed_mmbtu_per_gen'] = bg['proportion_of_gen_by_boil_gen'] * bg['fuel_consumed_mmbtu']\n",
    "\n",
    "# Get yearly fuel_consumed_mmbtu by plant_id, year and generator_id\n",
    "bg_gb = bg.groupby(by=['plant_id','report_date','generator_id'])\n",
    "bg_summed = bg_gb.agg({'fuel_consumed_mmbtu_per_gen':np.sum})\n",
    "bg_summed.reset_index(inplace=True)\n",
    "\n",
    "# Calculate heat rate\n",
    "heat_rate = bg_summed.merge(g9_summed,how='left',on=['plant_id', 'report_date', 'generator_id'])\n",
    "heat_rate['heat_rate_mmbtu_mwh'] = heat_rate['fuel_consumed_mmbtu_per_gen'] / heat_rate['net_generation_mwh']\n",
    "\n",
    "# Importing the plant association tag to filter out the\n",
    "# generators that are a part of plants that aren't in the bga table\n",
    "heat_rate = heat_rate.merge(gens[['plant_id','report_date','generator_id','complete_assn','plant_assn']], on=['plant_id','report_date','generator_id'])\n",
    "heat_rate_assn = heat_rate[heat_rate['complete_assn'] == True]"
   ]
  },
  {
   "cell_type": "markdown",
   "metadata": {},
   "source": [
    "## Pull the Associated and Unassociated Generators"
   ]
  },
  {
   "cell_type": "code",
   "execution_count": 15,
   "metadata": {
    "collapsed": true
   },
   "outputs": [],
   "source": [
    "heat_rate_all = heat_rate_assn.append(heat_rate_unassn)\n",
    "heat_rate_all.sort_values(by=['plant_id','report_date','generator_id'],inplace=True)"
   ]
  },
  {
   "cell_type": "code",
   "execution_count": 16,
   "metadata": {},
   "outputs": [],
   "source": [
    "heat_rate_all.sort_values(by=['plant_id','report_date','generator_id'],inplace=True)"
   ]
  },
  {
   "cell_type": "code",
   "execution_count": 18,
   "metadata": {
    "scrolled": false
   },
   "outputs": [
    {
     "name": "stderr",
     "output_type": "stream",
     "text": [
      "/Users/christinagosnell/anaconda/lib/python3.6/site-packages/numpy/lib/function_base.py:747: RuntimeWarning: invalid value encountered in greater_equal\n",
      "  keep = (tmp_a >= mn)\n",
      "/Users/christinagosnell/anaconda/lib/python3.6/site-packages/numpy/lib/function_base.py:748: RuntimeWarning: invalid value encountered in less_equal\n",
      "  keep &= (tmp_a <= mx)\n"
     ]
    },
    {
     "data": {
      "image/png": "[encoded data removed]",
      "text/plain": [
       "<matplotlib.figure.Figure at 0x11c681208>"
      ]
     },
     "metadata": {},
     "output_type": "display_data"
    }
   ],
   "source": [
    "plt.hist(heat_rate_all.heat_rate_mmbtu_mwh, range=[0,50],bins=100,weights=heat_rate_all.net_generation_mwh)\n",
    "#heat_rate['heat_rate_mmbtu_mwh'].plot(kind='hist', bins=100, range=[-20,70])\n",
    "plt.xlabel('Generator heat rate')\n",
    "plt.show()"
   ]
  },
  {
   "cell_type": "code",
   "execution_count": null,
   "metadata": {
    "collapsed": true
   },
   "outputs": [],
   "source": []
  }
 ],
 "metadata": {
  "kernelspec": {
   "display_name": "Python 3",
   "language": "python",
   "name": "python3"
  },
  "language_info": {
   "codemirror_mode": {
    "name": "ipython",
    "version": 3
   },
   "file_extension": ".py",
   "mimetype": "text/x-python",
   "name": "python",
   "nbconvert_exporter": "python",
   "pygments_lexer": "ipython3",
   "version": "3.6.1"
  }
 },
 "nbformat": 4,
 "nbformat_minor": 2
}
