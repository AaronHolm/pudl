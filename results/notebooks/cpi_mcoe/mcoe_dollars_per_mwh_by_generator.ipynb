{
 "cells": [
  {
   "cell_type": "code",
   "execution_count": 1,
   "metadata": {
    "collapsed": true
   },
   "outputs": [],
   "source": [
    "import sys\n",
    "import os\n",
    "import numpy as np\n",
    "import pandas as pd\n",
    "import sqlalchemy as sa\n",
    "sys.path.append(os.path.abspath(os.path.join('..','..','..')))\n",
    "from pudl import pudl, ferc1, eia923, settings, constants, analysis\n",
    "from pudl import models, models_ferc1, models_eia923\n",
    "from pudl import clean_eia923, clean_ferc1, clean_pudl\n",
    "import matplotlib.pyplot as plt\n",
    "%matplotlib inline"
   ]
  },
  {
   "cell_type": "code",
   "execution_count": 2,
   "metadata": {
    "collapsed": true
   },
   "outputs": [],
   "source": [
    "import matplotlib as mpl\n",
    "pd.options.mode.chained_assignment = None\n",
    "%matplotlib inline\n",
    "plt.style.use('ggplot')\n",
    "mpl.rcParams['figure.figsize'] = (10,6)\n",
    "mpl.rcParams['figure.dpi'] = 150\n",
    "pd.options.display.max_columns = 56"
   ]
  },
  {
   "cell_type": "code",
   "execution_count": 3,
   "metadata": {},
   "outputs": [],
   "source": [
    "from pudl import mcoe"
   ]
  },
  {
   "cell_type": "code",
   "execution_count": 4,
   "metadata": {
    "collapsed": true
   },
   "outputs": [],
   "source": [
    "pudl_engine  = pudl.db_connect_pudl()"
   ]
  },
  {
   "cell_type": "code",
   "execution_count": null,
   "metadata": {
    "collapsed": true
   },
   "outputs": [],
   "source": [
    "def generation_pull_eia923(pudl_engine):\n",
    "    # Convert the generation_eia923 table into a dataframe\n",
    "    g9 = analysis.simple_select_with_pudl_plant_id('generation_eia923', pudl_engine)\n",
    "    \n",
    "    # Get yearly net generation by plant_id, year and generator_id\n",
    "    g9_summed = analysis.yearly_sum_eia(g9 , 'net_generation_mwh')\n",
    "    g9_summed.reset_index(inplace=True)\n",
    "    \n",
    "    return(g9_summed)"
   ]
  },
  {
   "cell_type": "code",
   "execution_count": 5,
   "metadata": {
    "collapsed": true
   },
   "outputs": [],
   "source": [
    "g9_summed = mcoe.generation_pull_eia923(pudl_engine)"
   ]
  },
  {
   "cell_type": "code",
   "execution_count": null,
   "metadata": {
    "collapsed": true
   },
   "outputs": [],
   "source": [
    "def generators_pull_eia860(pudl_engine):\n",
    "    # Convert the generators_eia860 table into a dataframe\n",
    "    g8 = analysis.simple_select_with_pudl_plant_id('generators_eia860', pudl_engine)\n",
    "    \n",
    "    # create a generator table with mostly just the energy source\n",
    "    # for use in manipulating values by energy source\n",
    "    g8_es = g8[['plant_id_eia','generator_id', 'energy_source_1','report_year']]\n",
    "    g8_es = g8_es.rename(columns={'energy_source_1': 'energy_source'})\n",
    "    g8_es.drop_duplicates(['plant_id_eia','generator_id','report_year'], inplace=True)\n",
    "    \n",
    "    # create a consolidated energy source column\n",
    "    # copy the energy course column and replace the content with consolidated values\n",
    "    g8_es['energy_source_cons'] = g8_es.energy_source.copy()\n",
    "    # use the energy source map in constants to replace each energy source with \n",
    "    for energy_source_cons in constants.energy_source_map.keys():\n",
    "        for energy_source in constants.energy_source_map[energy_source_cons]:\n",
    "            g8_es.loc[g8_es.energy_source==energy_source, 'energy_source_cons'] = energy_source_cons\n",
    "            \n",
    "    #Create a count of the types of energy sources\n",
    "    g8_es_count = g8_es[['plant_id_eia','energy_source_cons','report_year']].drop_duplicates().groupby(['plant_id_eia','report_year']).count()\n",
    "    g8_es_count.reset_index(inplace=True)\n",
    "    g8_es_count = g8_es_count.rename(columns={'energy_source_cons':'energy_source_count'})\n",
    "    g8_es = g8_es.merge(g8_es_count,how='left',on=['plant_id_eia','report_year'])\n",
    "    \n",
    "    # Cheating to duplicate 2011 EIA860 energy srouce for 2010 and 2009:\n",
    "    g8_es_2010 = g8_es.loc[g8_es['report_year'] == 2011].copy()\n",
    "    g8_es_2010.report_year.replace([2011], [2010], inplace=True)\n",
    "    g8_es_2009 = g8_es.loc[g8_es['report_year'] == 2011].copy()\n",
    "    g8_es_2009.report_year.replace([2011], [2009], inplace=True)\n",
    "    g8_es_2016 = g8_es.loc[g8_es['report_year'] == 2015].copy()\n",
    "    g8_es_2016.report_year.replace([2015], [2016], inplace=True)\n",
    "    # Append 2009 and 2010\n",
    "    g8_es = g8_es.append([g8_es_2009, g8_es_2010, g8_es_2016])\n",
    "    \n",
    "    return(g8_es)"
   ]
  },
  {
   "cell_type": "code",
   "execution_count": 6,
   "metadata": {
    "collapsed": true
   },
   "outputs": [],
   "source": [
    "g8_es = mcoe.generators_pull_eia860(pudl_engine)"
   ]
  },
  {
   "cell_type": "code",
   "execution_count": null,
   "metadata": {
    "collapsed": true
   },
   "outputs": [],
   "source": [
    "def fuel_reciept_costs_pull_eia923(pudl_engine):\n",
    "    # Convert the fuel_receipts_costs_eia923 table into a dataframe\n",
    "    frc9 = analysis.simple_select_with_pudl_plant_id('fuel_receipts_costs_eia923', pudl_engine)\n",
    "    frc9['fuel_cost'] = (frc9['fuel_quantity'] * frc9['average_heat_content'] * frc9['fuel_cost_per_mmbtu'])\n",
    "    frc9['mmbtu'] =  (frc9['fuel_quantity'] * frc9['average_heat_content'])\n",
    "\n",
    "    frc9['energy_source_cons'] = frc9.energy_source.copy()\n",
    "    \n",
    "    for energy_source_cons in constants.energy_source_map.keys():\n",
    "        for energy_source in constants.energy_source_map[energy_source_cons]:\n",
    "            frc9.loc[frc9.energy_source==energy_source, 'energy_source_cons'] = energy_source_cons \n",
    "\n",
    "    # Get yearly fuel cost by plant_id, year and energy_source\n",
    "    frc9_summed = analysis.yearly_sum_eia(frc9 , 'fuel_cost', columns=['plant_id_eia','report_year','energy_source_cons'])\n",
    "    frc9_summed = frc9_summed.reset_index()\n",
    "    frc9_mmbtu_summed = analysis.yearly_sum_eia(frc9 , 'mmbtu', columns=['plant_id_eia','report_year','energy_source_cons'])\n",
    "    frc9_mmbtu_summed = frc9_mmbtu_summed.reset_index()\n",
    "    frc9_summed = frc9_mmbtu_summed.merge(frc9_summed)\n",
    "    frc9_summed['fuel_cost_per_mmbtu_average'] = (frc9_summed.fuel_cost/frc9_summed.mmbtu)    \n",
    "\n",
    "    # Get yearly fuel cost by plant_id and year\n",
    "    # For use in calculating fuel cost for plants with one main energy soure\n",
    "    frc9_summed_plant = analysis.yearly_sum_eia(frc9 , 'fuel_cost', columns=['plant_id_eia','report_year'])\n",
    "    frc9_summed_plant = frc9_summed_plant.reset_index()\n",
    "    frc9_mmbtu_summed_plant = analysis.yearly_sum_eia(frc9 , 'mmbtu', columns=['plant_id_eia','report_year'])\n",
    "    frc9_mmbtu_summed_plant = frc9_mmbtu_summed_plant.reset_index()\n",
    "    frc9_summed_plant = frc9_mmbtu_summed_plant.merge(frc9_summed_plant)\n",
    "    frc9_summed_plant['fuel_cost_per_mmbtu_average'] = (frc9_summed_plant.fuel_cost/frc9_summed_plant.mmbtu)   \n",
    "\n",
    "    return(frc9_summed, frc9_summed_plant)"
   ]
  },
  {
   "cell_type": "code",
   "execution_count": 7,
   "metadata": {
    "collapsed": true
   },
   "outputs": [],
   "source": [
    "frc9_summed, frc9_summed_plant = mcoe.fuel_reciept_costs_pull_eia923(pudl_engine)"
   ]
  },
  {
   "cell_type": "markdown",
   "metadata": {},
   "source": [
    "Heat Rate Components"
   ]
  },
  {
   "cell_type": "code",
   "execution_count": null,
   "metadata": {
    "collapsed": true
   },
   "outputs": [],
   "source": [
    "def boiler_generator_pull_eia860(pudl_engine):\n",
    "    # Convert the boiler_generator_assn_eia860 table into a dataframe\n",
    "    bga8 = analysis.simple_select_with_pudl_plant_id('boiler_generator_assn_eia860', pudl_engine)\n",
    "    bga8.drop(['id','operator_id'],axis=1, inplace=True)\n",
    "    bga8.drop_duplicates(['plant_id_eia','boiler_id','generator_id'],inplace=True)\n",
    "    \n",
    "    return(bga8)"
   ]
  },
  {
   "cell_type": "code",
   "execution_count": 8,
   "metadata": {
    "collapsed": true
   },
   "outputs": [],
   "source": [
    "bga8 = mcoe.boiler_generator_pull_eia860(pudl_engine)"
   ]
  },
  {
   "cell_type": "code",
   "execution_count": null,
   "metadata": {
    "collapsed": true
   },
   "outputs": [],
   "source": [
    "def boiler_fuel_pull_eia923(pudl_engine):\n",
    "    # Convert the boiler_fuel_eia923 table into a dataframe\n",
    "    bf9 = analysis.simple_select_with_pudl_plant_id('boiler_fuel_eia923', pudl_engine)\n",
    "    bf9['fuel_consumed_mmbtu'] = bf9['fuel_qty_consumed']*bf9['fuel_mmbtu_per_unit']\n",
    "    # Get yearly fuel consumed by plant_id, year and boiler_id\n",
    "    bf9_summed = analysis.yearly_sum_eia(bf9 , 'fuel_consumed_mmbtu', columns=['plant_id_eia','report_year','boiler_id'])\n",
    "    bf9_summed.reset_index(inplace=True)\n",
    "    # Get yearly fuel consumed by plant_id, year and boiler_id\n",
    "    bf9_plant_summed = analysis.yearly_sum_eia(bf9 , 'fuel_consumed_mmbtu', columns=['plant_id_eia','report_year'])\n",
    "    bf9_plant_summed.reset_index(inplace=True)\n",
    "\n",
    "    return(bf9_summed, bf9_plant_summed)"
   ]
  },
  {
   "cell_type": "code",
   "execution_count": 9,
   "metadata": {
    "collapsed": true
   },
   "outputs": [],
   "source": [
    "bf9_summed, bf9_plant_summed = mcoe.boiler_fuel_pull_eia923(pudl_engine)"
   ]
  },
  {
   "cell_type": "code",
   "execution_count": 10,
   "metadata": {},
   "outputs": [],
   "source": [
    "# TODO: Move heat rate forumla to mcoe.py\n",
    "heat_rate = analysis.heat_rate(bga8, g9_summed, bf9_summed, bf9_plant_summed, pudl_engine)"
   ]
  },
  {
   "cell_type": "code",
   "execution_count": 11,
   "metadata": {},
   "outputs": [
    {
     "name": "stderr",
     "output_type": "stream",
     "text": [
      "/Users/christinagosnell/anaconda/lib/python3.6/site-packages/numpy/lib/function_base.py:747: RuntimeWarning: invalid value encountered in greater_equal\n",
      "  keep = (tmp_a >= mn)\n",
      "/Users/christinagosnell/anaconda/lib/python3.6/site-packages/numpy/lib/function_base.py:748: RuntimeWarning: invalid value encountered in less_equal\n",
      "  keep &= (tmp_a <= mx)\n"
     ]
    },
    {
     "data": {
      "text/plain": [
       "(array([  1.00884934e+09,   2.18981702e+08,   2.24618810e+08,\n",
       "          1.82972795e+08,   1.18515976e+08,   9.08115306e+07,\n",
       "          5.56431791e+07,   4.39308321e+07,   3.11479319e+07,\n",
       "          1.64996962e+07,   1.98257602e+07,   7.71683443e+06,\n",
       "          7.63118641e+06,   6.16197292e+06,   3.81587313e+06,\n",
       "          7.99611419e+06,   1.39846195e+07,   9.39864256e+06,\n",
       "          1.11971090e+07,   4.10670667e+06,   8.47316747e+06,\n",
       "          1.57410825e+07,   7.04950036e+07,   5.55232454e+07,\n",
       "          6.20280733e+07,   4.43088230e+07,   2.36434126e+07,\n",
       "          2.07701296e+07,   3.05094597e+07,   9.45092239e+07,\n",
       "          3.38875909e+08,   5.00478955e+08,   1.42523826e+09,\n",
       "          2.44124945e+09,   2.76283795e+09,   2.20789467e+09,\n",
       "          1.55125030e+09,   1.24290656e+09,   6.91234255e+08,\n",
       "          5.15498290e+08,   3.47689591e+08,   2.28507937e+08,\n",
       "          1.66875499e+08,   9.47078316e+07,   8.01560055e+07,\n",
       "          5.74312698e+07,   5.34869348e+07,   5.48130633e+07,\n",
       "          4.34479266e+07,   2.72317004e+07,   3.52556429e+07,\n",
       "          2.66742502e+07,   1.72011620e+07,   1.69022443e+07,\n",
       "          2.69595817e+07,   1.63564627e+07,   1.54649154e+07,\n",
       "          1.38382179e+07,   1.17740774e+07,   1.45525483e+07,\n",
       "          1.30912348e+07,   1.86835809e+07,   2.13610858e+07,\n",
       "          1.80112948e+07,   2.22089343e+07,   1.20932273e+07,\n",
       "          1.71490716e+07,   1.90624751e+07,   1.22883095e+07,\n",
       "          4.15405709e+06,   8.51595627e+06,   1.09922825e+07,\n",
       "          9.61530011e+06,   6.69659784e+06,   4.39240822e+06,\n",
       "          6.00551473e+06,   1.22430393e+07,   5.90530392e+06,\n",
       "          6.01038478e+06,   6.06694378e+06,   3.21644922e+06,\n",
       "          4.69448970e+06,   4.66355134e+06,   4.38200353e+06,\n",
       "          7.02449672e+06,   3.44248691e+06,   3.93771955e+06,\n",
       "          9.32898642e+06,   7.40664095e+06,   3.88634471e+06,\n",
       "          4.21937542e+06,   9.37406735e+06,   5.01179221e+06,\n",
       "          6.22845512e+06,   5.41124434e+06,   3.24524044e+06,\n",
       "          3.38728759e+06,   2.81249895e+06,   2.81993466e+06,\n",
       "          3.39590891e+06]),\n",
       " array([  0. ,   0.3,   0.6,   0.9,   1.2,   1.5,   1.8,   2.1,   2.4,\n",
       "          2.7,   3. ,   3.3,   3.6,   3.9,   4.2,   4.5,   4.8,   5.1,\n",
       "          5.4,   5.7,   6. ,   6.3,   6.6,   6.9,   7.2,   7.5,   7.8,\n",
       "          8.1,   8.4,   8.7,   9. ,   9.3,   9.6,   9.9,  10.2,  10.5,\n",
       "         10.8,  11.1,  11.4,  11.7,  12. ,  12.3,  12.6,  12.9,  13.2,\n",
       "         13.5,  13.8,  14.1,  14.4,  14.7,  15. ,  15.3,  15.6,  15.9,\n",
       "         16.2,  16.5,  16.8,  17.1,  17.4,  17.7,  18. ,  18.3,  18.6,\n",
       "         18.9,  19.2,  19.5,  19.8,  20.1,  20.4,  20.7,  21. ,  21.3,\n",
       "         21.6,  21.9,  22.2,  22.5,  22.8,  23.1,  23.4,  23.7,  24. ,\n",
       "         24.3,  24.6,  24.9,  25.2,  25.5,  25.8,  26.1,  26.4,  26.7,\n",
       "         27. ,  27.3,  27.6,  27.9,  28.2,  28.5,  28.8,  29.1,  29.4,\n",
       "         29.7,  30. ]),\n",
       " <a list of 100 Patch objects>)"
      ]
     },
     "execution_count": 11,
     "metadata": {},
     "output_type": "execute_result"
    },
    {
     "data": {
      "image/png": "[encoded data removed]",
      "text/plain": [
       "<matplotlib.figure.Figure at 0x115fddcf8>"
      ]
     },
     "metadata": {},
     "output_type": "display_data"
    }
   ],
   "source": [
    "plt.hist(heat_rate.heat_rate_mmbtu_mwh, bins=100,range=(0,30), alpha=0.5, color='black', label=\"coal\",weights=heat_rate.net_generation_mwh)\n"
   ]
  },
  {
   "cell_type": "markdown",
   "metadata": {},
   "source": [
    "Guts inside the fuel cost formula"
   ]
  },
  {
   "cell_type": "code",
   "execution_count": null,
   "metadata": {
    "collapsed": true
   },
   "outputs": [],
   "source": [
    "def fuel_cost(g8_es, g9_summed, frc9_summed, frc9_summed_plant, heat_rate):\n",
    "    one_fuel_plants = g8_es[g8_es['energy_source_count'] == 1]\n",
    "    multi_fuel_plants = g8_es[g8_es['energy_source_count'] > 1]\n",
    "    \n",
    "    # one fuel plants\n",
    "    net_gen_one_fuel = g9_summed.merge(one_fuel_plants, how='left', on=[\n",
    "                          'plant_id_eia', 'generator_id','report_year'])\n",
    "    net_gen_one_fuel.dropna(inplace=True)\n",
    "\n",
    "    # Merge this net_gen table with frc9_summed_plant to have\n",
    "    # fuel_cost_per_mmbtu_total associated with generators\n",
    "    fuel_cost_per_mmbtu_one_fuel = net_gen_one_fuel.merge(frc9_summed_plant,\n",
    "                                        how='left',\n",
    "                                        on=['plant_id_eia',\n",
    "                                            'report_year'])\n",
    "\n",
    "    fuel_cost_one_fuel = fuel_cost_per_mmbtu_one_fuel.merge(heat_rate[['plant_id_eia',\n",
    "                                                     'report_year',\n",
    "                                                     'generator_id',\n",
    "                                                     'net_generation_mwh',\n",
    "                                                     'heat_rate_mmbtu_mwh']],\n",
    "                                          on=['plant_id_eia',\n",
    "                                              'report_year',\n",
    "                                              'generator_id',\n",
    "                                              'net_generation_mwh'])\n",
    "\n",
    "    # Calculate fuel cost per mwh using average fuel cost given year, plant,\n",
    "    # fuel type; divide by generator-specific heat rate\n",
    "    fuel_cost_one_fuel['fuel_cost_per_mwh'] = (fuel_cost_one_fuel['fuel_cost_per_mmbtu_average']\n",
    "                                      * fuel_cost_one_fuel['heat_rate_mmbtu_mwh'])\n",
    "    \n",
    "    # mutli fuel plants \n",
    "    net_gen_multi_fuel = g9_summed.merge(multi_fuel_plants, how='left', on=[\n",
    "                              'plant_id_eia', 'generator_id','report_year'])\n",
    "    net_gen_multi_fuel.dropna(inplace=True)\n",
    "\n",
    "    # Merge this net_gen table with frc9_summed to have\n",
    "    # fuel_cost_per_mmbtu_total associated with generators\n",
    "    fuel_cost_per_mmbtu_multi_fuel = net_gen_multi_fuel.merge(frc9_summed,\n",
    "                                        how='left',\n",
    "                                        on=['plant_id_eia',\n",
    "                                            'report_year',\n",
    "                                            'energy_source_cons'])\n",
    "\n",
    "    fuel_cost_multi_fuel = fuel_cost_per_mmbtu_multi_fuel.merge(heat_rate[['plant_id_eia',\n",
    "                                                     'report_year',\n",
    "                                                     'generator_id',\n",
    "                                                     'net_generation_mwh',\n",
    "                                                     'heat_rate_mmbtu_mwh']],\n",
    "                                          on=['plant_id_eia',\n",
    "                                              'report_year',\n",
    "                                              'generator_id',\n",
    "                                              'net_generation_mwh'])\n",
    "\n",
    "    # Calculate fuel cost per mwh using average fuel cost given year, plant,\n",
    "    # fuel type; divide by generator-specific heat rate\n",
    "    fuel_cost_multi_fuel['fuel_cost_per_mwh'] = (fuel_cost_multi_fuel['fuel_cost_per_mmbtu_average'] *\n",
    "                                                 fuel_cost_multi_fuel['heat_rate_mmbtu_mwh'])\n",
    "\n",
    "    # Squish them together!\n",
    "    fuel_cost = fuel_cost_one_fuel.append(fuel_cost_multi_fuel)\n",
    "    \n",
    "    return(fuel_cost)"
   ]
  },
  {
   "cell_type": "code",
   "execution_count": 12,
   "metadata": {},
   "outputs": [],
   "source": [
    "fuel_cost = mcoe.fuel_cost(g8_es, g9_summed, frc9_summed, frc9_summed_plant, heat_rate)"
   ]
  },
  {
   "cell_type": "markdown",
   "metadata": {},
   "source": [
    "Prepping for simplifying fuel cost function"
   ]
  },
  {
   "cell_type": "code",
   "execution_count": null,
   "metadata": {},
   "outputs": [],
   "source": [
    "# for use in simplifying the fuel cost funciton\n",
    "plant_types = {'one_fuel': (g8_es[g8_es['energy_source_count'] == 1], frc9_summed_plant),\n",
    "               'multi_fuel': (g8_es[g8_es['energy_source_count'] > 1], frc9_summed)}"
   ]
  },
  {
   "cell_type": "code",
   "execution_count": null,
   "metadata": {},
   "outputs": [],
   "source": [
    "#plant_types['multi_fuel'][1]"
   ]
  },
  {
   "cell_type": "code",
   "execution_count": null,
   "metadata": {},
   "outputs": [],
   "source": [
    "for plants in plant_types:\n",
    "    print(plants)"
   ]
  },
  {
   "cell_type": "code",
   "execution_count": null,
   "metadata": {
    "collapsed": true
   },
   "outputs": [],
   "source": [
    "one_fuel_plants = g8_es[g8_es['energy_source_count'] == 1]"
   ]
  },
  {
   "cell_type": "code",
   "execution_count": null,
   "metadata": {
    "collapsed": true
   },
   "outputs": [],
   "source": [
    "multi_fuel_plants = g8_es[g8_es['energy_source_count'] > 1]"
   ]
  },
  {
   "cell_type": "markdown",
   "metadata": {},
   "source": [
    "OhMiGosh Actually calculating Fuel Cost"
   ]
  },
  {
   "cell_type": "code",
   "execution_count": null,
   "metadata": {
    "collapsed": true
   },
   "outputs": [],
   "source": [
    "# Multi Fuel Method"
   ]
  },
  {
   "cell_type": "code",
   "execution_count": null,
   "metadata": {},
   "outputs": [],
   "source": [
    "net_gen_multi_fuel = g9_summed.merge(multi_fuel_plants, how='left', on=[\n",
    "                          'plant_id_eia', 'generator_id','report_year'])\n",
    "net_gen_multi_fuel.dropna(inplace=True)\n",
    "\n",
    "# Merge this net_gen table with frc9_summed to have\n",
    "# fuel_cost_per_mmbtu_total associated with generators\n",
    "fuel_cost_per_mmbtu_multi_fuel = net_gen_multi_fuel.merge(frc9_summed,\n",
    "                                    how='left',\n",
    "                                    on=['plant_id_eia',\n",
    "                                        'report_year',\n",
    "                                        'energy_source_cons'])\n",
    "\n",
    "fuel_cost_multi_fuel = fuel_cost_per_mmbtu_multi_fuel.merge(heat_rate[['plant_id_eia',\n",
    "                                                 'report_year',\n",
    "                                                 'generator_id',\n",
    "                                                 'net_generation_mwh',\n",
    "                                                 'heat_rate_mmbtu_mwh']],\n",
    "                                      on=['plant_id_eia',\n",
    "                                          'report_year',\n",
    "                                          'generator_id',\n",
    "                                          'net_generation_mwh'])\n",
    "\n",
    "# Calculate fuel cost per mwh using average fuel cost given year, plant,\n",
    "# fuel type; divide by generator-specific heat rate\n",
    "fuel_cost_multi_fuel['fuel_cost_per_mwh'] = (fuel_cost_multi_fuel['fuel_cost_per_mmbtu_average'] * fuel_cost_multi_fuel['heat_rate_mmbtu_mwh'])"
   ]
  },
  {
   "cell_type": "code",
   "execution_count": null,
   "metadata": {},
   "outputs": [],
   "source": [
    "fuel_cost_multi_fuel[fuel_cost_multi_fuel.fuel_cost_per_mwh.isnull()].count()"
   ]
  },
  {
   "cell_type": "code",
   "execution_count": null,
   "metadata": {
    "collapsed": true
   },
   "outputs": [],
   "source": [
    "# One Fuel Method"
   ]
  },
  {
   "cell_type": "code",
   "execution_count": null,
   "metadata": {},
   "outputs": [],
   "source": [
    "net_gen_one_fuel = g9_summed.merge(one_fuel_plants, how='left', on=[\n",
    "                          'plant_id_eia', 'generator_id','report_year'])\n",
    "net_gen_one_fuel.dropna(inplace=True)\n",
    "\n",
    "# Merge this net_gen table with frc9_summed_plant to have\n",
    "# fuel_cost_per_mmbtu_total associated with generators\n",
    "fuel_cost_per_mmbtu_one_fuel = net_gen_one_fuel.merge(frc9_summed_plant,\n",
    "                                    how='left',\n",
    "                                    on=['plant_id_eia',\n",
    "                                        'report_year'])\n",
    "\n",
    "fuel_cost_one_fuel = fuel_cost_per_mmbtu_one_fuel.merge(heat_rate[['plant_id_eia',\n",
    "                                                 'report_year',\n",
    "                                                 'generator_id',\n",
    "                                                 'net_generation_mwh',\n",
    "                                                 'heat_rate_mmbtu_mwh']],\n",
    "                                      on=['plant_id_eia',\n",
    "                                          'report_year',\n",
    "                                          'generator_id',\n",
    "                                          'net_generation_mwh'])\n",
    "\n",
    "# Calculate fuel cost per mwh using average fuel cost given year, plant,\n",
    "# fuel type; divide by generator-specific heat rate\n",
    "fuel_cost_one_fuel['fuel_cost_per_mwh'] = (fuel_cost_one_fuel['fuel_cost_per_mmbtu_average']\n",
    "                                  * fuel_cost_one_fuel['heat_rate_mmbtu_mwh'])"
   ]
  },
  {
   "cell_type": "code",
   "execution_count": null,
   "metadata": {
    "collapsed": true
   },
   "outputs": [],
   "source": [
    "# Squish them together!\n",
    "fuel_cost = fuel_cost_one_fuel.append(fuel_cost_multi_fuel)"
   ]
  },
  {
   "cell_type": "code",
   "execution_count": null,
   "metadata": {},
   "outputs": [],
   "source": [
    "fuel_cost_coal = fuel_cost[fuel_cost['energy_source_cons'] == 'coal']\n",
    "fuel_cost_coal.describe()"
   ]
  },
  {
   "cell_type": "code",
   "execution_count": null,
   "metadata": {},
   "outputs": [],
   "source": [
    "fuel_cost_gas = fuel_cost[fuel_cost['energy_source_cons'] == 'gas']\n",
    "fuel_cost_gas.describe()"
   ]
  },
  {
   "cell_type": "code",
   "execution_count": null,
   "metadata": {},
   "outputs": [],
   "source": [
    "fuel_cost_gas.net_generation_mwh.sum()"
   ]
  },
  {
   "cell_type": "code",
   "execution_count": null,
   "metadata": {},
   "outputs": [],
   "source": [
    "fuel_cost_coal.describe()"
   ]
  },
  {
   "cell_type": "code",
   "execution_count": 14,
   "metadata": {},
   "outputs": [
    {
     "name": "stderr",
     "output_type": "stream",
     "text": [
      "/Users/christinagosnell/anaconda/lib/python3.6/site-packages/numpy/lib/function_base.py:747: RuntimeWarning: invalid value encountered in greater_equal\n",
      "  keep = (tmp_a >= mn)\n",
      "/Users/christinagosnell/anaconda/lib/python3.6/site-packages/numpy/lib/function_base.py:748: RuntimeWarning: invalid value encountered in less_equal\n",
      "  keep &= (tmp_a <= mx)\n"
     ]
    },
    {
     "data": {
      "text/plain": [
       "<matplotlib.legend.Legend at 0x117f53898>"
      ]
     },
     "execution_count": 14,
     "metadata": {},
     "output_type": "execute_result"
    },
    {
     "data": {
      "image/png": "[encoded data removed]",
      "text/plain": [
       "<matplotlib.figure.Figure at 0x117faac88>"
      ]
     },
     "metadata": {},
     "output_type": "display_data"
    }
   ],
   "source": [
    "#plt.hist(mmbtu_one_fuel_bit.mmbtu_propotion_es, range=(.4,1), bins=100, alpha=0.5, color='green', label=\"BIT\")\n",
    "plt.hist(fuel_cost[fuel_cost['energy_source_cons'] == 'oil'].fuel_cost_per_mwh, bins=100,range=(0,100), alpha=0.5, color='blue', label=\"oil\",weights=fuel_cost[fuel_cost['energy_source_cons'] == 'oil'].net_generation_mwh)\n",
    "plt.hist(fuel_cost[fuel_cost['energy_source_cons'] == 'gas'].fuel_cost_per_mwh, bins=100,range=(0,100), alpha=0.5, color='brown', label=\"gas\", weights=fuel_cost[fuel_cost['energy_source_cons'] == 'gas'].net_generation_mwh)\n",
    "plt.hist(fuel_cost[fuel_cost['energy_source_cons'] == 'coal'].fuel_cost_per_mwh, bins=100,range=(0,100), alpha=0.5, color='black', label=\"coal\",weights=fuel_cost[fuel_cost['energy_source_cons'] == 'coal'].net_generation_mwh)\n",
    "plt.xlabel(\"$/MWh\")\n",
    "plt.ylabel(\"MWh\")\n",
    "plt.title(\"Fuel Cost per MWh\")\n",
    "plt.legend()"
   ]
  },
  {
   "cell_type": "code",
   "execution_count": 15,
   "metadata": {},
   "outputs": [
    {
     "ename": "NameError",
     "evalue": "name 'fuel_cost_gas' is not defined",
     "output_type": "error",
     "traceback": [
      "\u001b[0;31m---------------------------------------------------------------------------\u001b[0m",
      "\u001b[0;31mNameError\u001b[0m                                 Traceback (most recent call last)",
      "\u001b[0;32m<ipython-input-15-5a8beb024fe2>\u001b[0m in \u001b[0;36m<module>\u001b[0;34m()\u001b[0m\n\u001b[0;32m----> 1\u001b[0;31m \u001b[0mfuel_cost_gas\u001b[0m\u001b[0;34m[\u001b[0m\u001b[0mfuel_cost_gas\u001b[0m\u001b[0;34m.\u001b[0m\u001b[0mfuel_cost\u001b[0m\u001b[0;34m.\u001b[0m\u001b[0misnull\u001b[0m\u001b[0;34m(\u001b[0m\u001b[0;34m)\u001b[0m\u001b[0;34m]\u001b[0m\u001b[0;34m\u001b[0m\u001b[0m\n\u001b[0m",
      "\u001b[0;31mNameError\u001b[0m: name 'fuel_cost_gas' is not defined"
     ]
    }
   ],
   "source": [
    "fuel_cost_gas[fuel_cost_gas.fuel_cost.isnull()]"
   ]
  },
  {
   "cell_type": "code",
   "execution_count": null,
   "metadata": {
    "collapsed": true
   },
   "outputs": [],
   "source": []
  },
  {
   "cell_type": "markdown",
   "metadata": {},
   "source": [
    "### Exploration of missing fuel costs."
   ]
  },
  {
   "cell_type": "code",
   "execution_count": 16,
   "metadata": {
    "collapsed": true
   },
   "outputs": [],
   "source": [
    "# The frc9 pull is being done in a formula now from outputs and is thus not needed for calculating heat rate\n",
    "# But it's useful for checking missing fuel costs from the original frc table\n",
    "frc9 = analysis.simple_select_with_pudl_plant_id('fuel_receipts_costs_eia923', pudl_engine)\n",
    "frc9['fuel_cost'] = (frc9['fuel_quantity'] * frc9['average_heat_content'] * frc9['fuel_cost_per_mmbtu'])\n",
    "frc9['mmbtu'] =  (frc9['fuel_quantity'] * frc9['average_heat_content'])\n",
    "\n",
    "frc9['energy_source_cons'] = frc9.energy_source.copy()\n",
    "\n",
    "for energy_source_cons in constants.energy_source_map.keys():\n",
    "    for energy_source in constants.energy_source_map[energy_source_cons]:\n",
    "        frc9.loc[frc9.energy_source==energy_source, 'energy_source_cons'] = energy_source_cons "
   ]
  },
  {
   "cell_type": "code",
   "execution_count": 17,
   "metadata": {},
   "outputs": [
    {
     "ename": "NameError",
     "evalue": "name 'fuel_cost_one_fuel' is not defined",
     "output_type": "error",
     "traceback": [
      "\u001b[0;31m---------------------------------------------------------------------------\u001b[0m",
      "\u001b[0;31mNameError\u001b[0m                                 Traceback (most recent call last)",
      "\u001b[0;32m<ipython-input-17-af8cd8829d84>\u001b[0m in \u001b[0;36m<module>\u001b[0;34m()\u001b[0m\n\u001b[1;32m      1\u001b[0m \u001b[0;31m# Are we missing data from frc, or is there not cost info?\u001b[0m\u001b[0;34m\u001b[0m\u001b[0;34m\u001b[0m\u001b[0m\n\u001b[0;32m----> 2\u001b[0;31m \u001b[0mmissing_in_frc\u001b[0m \u001b[0;34m=\u001b[0m \u001b[0mfuel_cost_one_fuel\u001b[0m\u001b[0;34m[\u001b[0m\u001b[0mfuel_cost_one_fuel\u001b[0m\u001b[0;34m.\u001b[0m\u001b[0mfuel_cost\u001b[0m\u001b[0;34m.\u001b[0m\u001b[0misnull\u001b[0m\u001b[0;34m(\u001b[0m\u001b[0;34m)\u001b[0m\u001b[0;34m]\u001b[0m\u001b[0;34m\u001b[0m\u001b[0m\n\u001b[0m\u001b[1;32m      3\u001b[0m \u001b[0mmissing_in_frc\u001b[0m \u001b[0;34m=\u001b[0m \u001b[0mmissing_in_frc\u001b[0m\u001b[0;34m[\u001b[0m\u001b[0;34m[\u001b[0m\u001b[0;34m'plant_id_eia'\u001b[0m\u001b[0;34m,\u001b[0m\u001b[0;34m'report_year'\u001b[0m\u001b[0;34m]\u001b[0m\u001b[0;34m]\u001b[0m\u001b[0;34m.\u001b[0m\u001b[0mdrop_duplicates\u001b[0m\u001b[0;34m(\u001b[0m\u001b[0;34m)\u001b[0m\u001b[0;34m\u001b[0m\u001b[0m\n\u001b[1;32m      4\u001b[0m \u001b[0mfrc9\u001b[0m\u001b[0;34m[\u001b[0m\u001b[0;34m'report_year'\u001b[0m\u001b[0;34m]\u001b[0m \u001b[0;34m=\u001b[0m \u001b[0mpd\u001b[0m\u001b[0;34m.\u001b[0m\u001b[0mto_datetime\u001b[0m\u001b[0;34m(\u001b[0m\u001b[0mfrc9\u001b[0m\u001b[0;34m.\u001b[0m\u001b[0mreport_date\u001b[0m\u001b[0;34m)\u001b[0m\u001b[0;34m.\u001b[0m\u001b[0mdt\u001b[0m\u001b[0;34m.\u001b[0m\u001b[0myear\u001b[0m\u001b[0;34m\u001b[0m\u001b[0m\n\u001b[1;32m      5\u001b[0m \u001b[0mmissing\u001b[0m \u001b[0;34m=\u001b[0m \u001b[0mmissing_in_frc\u001b[0m\u001b[0;34m.\u001b[0m\u001b[0mmerge\u001b[0m\u001b[0;34m(\u001b[0m\u001b[0mfrc9\u001b[0m\u001b[0;34m,\u001b[0m\u001b[0mleft_on\u001b[0m\u001b[0;34m=\u001b[0m\u001b[0;34m[\u001b[0m\u001b[0;34m'plant_id_eia'\u001b[0m\u001b[0;34m,\u001b[0m\u001b[0;34m'report_year'\u001b[0m\u001b[0;34m]\u001b[0m\u001b[0;34m,\u001b[0m\u001b[0mright_on\u001b[0m\u001b[0;34m=\u001b[0m\u001b[0;34m[\u001b[0m\u001b[0;34m'plant_id_eia'\u001b[0m\u001b[0;34m,\u001b[0m\u001b[0;34m'report_year'\u001b[0m\u001b[0;34m]\u001b[0m\u001b[0;34m)\u001b[0m\u001b[0;34m\u001b[0m\u001b[0m\n",
      "\u001b[0;31mNameError\u001b[0m: name 'fuel_cost_one_fuel' is not defined"
     ]
    }
   ],
   "source": [
    "# Are we missing data from frc, or is there not cost info?\n",
    "missing_in_frc = fuel_cost_one_fuel[fuel_cost_one_fuel.fuel_cost.isnull()]\n",
    "missing_in_frc = missing_in_frc[['plant_id_eia','report_year']].drop_duplicates()\n",
    "frc9['report_year'] = pd.to_datetime(frc9.report_date).dt.year\n",
    "missing = missing_in_frc.merge(frc9,left_on=['plant_id_eia','report_year'],right_on=['plant_id_eia','report_year'])\n",
    "missing[~missing.fuel_cost_per_mmbtu.isnull()]\n",
    "# It apears that there are no missing frc records that actually have a fuel cost record. "
   ]
  },
  {
   "cell_type": "markdown",
   "metadata": {},
   "source": [
    "### Exploration into portion of naturual gas for startup fuel from coal plants"
   ]
  },
  {
   "cell_type": "code",
   "execution_count": null,
   "metadata": {
    "collapsed": true
   },
   "outputs": [],
   "source": [
    "frc9_summed = frc9_summed.rename(columns={'energy_source':'energy_source_fuel'})\n",
    "one_fuel_plants = one_fuel_plants.rename(columns={'energy_source':'energy_source_plant'})\n",
    "\n",
    "frc9_summed = frc9_summed.rename(columns={'energy_source_cons':'energy_source_cons_fuel'})\n",
    "one_fuel_plants = one_fuel_plants.rename(columns={'energy_source_cons':'energy_source_cons_plant'})"
   ]
  },
  {
   "cell_type": "code",
   "execution_count": null,
   "metadata": {},
   "outputs": [],
   "source": [
    "mmbtu_one_fuel_es = frc9_summed.merge(one_fuel_plants.drop_duplicates(subset=['plant_id_eia','energy_source_plant','report_year']),\n",
    "                                    how='left',\n",
    "                                    on=['plant_id_eia',\n",
    "                                        'report_year'])\n",
    "# we'll merge with a total plant mmbtu, so we need to rename the per energy_source mmtbu\n",
    "# we also need to drop all the NaN columns bc they are the multi fuel plants\n",
    "# we also only need a few columns\n",
    "mmbtu_one_fuel_es = mmbtu_one_fuel_es.rename(columns={'mmbtu': 'mmbtu_es'})\\\n",
    "                                     .dropna()\\\n",
    "                                     .drop(['fuel_cost',\n",
    "                                            'fuel_cost_per_mmbtu_average',\n",
    "                                            'generator_id',\n",
    "                                            'energy_source_count'],axis=1)"
   ]
  },
  {
   "cell_type": "code",
   "execution_count": null,
   "metadata": {
    "collapsed": true
   },
   "outputs": [],
   "source": [
    "mmbtu_one_fuel_plant = frc9_summed_plant.merge(one_fuel_plants.drop_duplicates(subset=['plant_id_eia','energy_source_plant','report_year']),\n",
    "                                    how='left',\n",
    "                                    on=['plant_id_eia',\n",
    "                                        'report_year'])\n",
    "mmbtu_one_fuel_plant = mmbtu_one_fuel_plant.rename(columns={'mmbtu': 'mmbtu_plant'})\\\n",
    "                                           .dropna()\\\n",
    "                                           .drop(['fuel_cost',\n",
    "                                                  'fuel_cost_per_mmbtu_average',\n",
    "                                                  'generator_id',\n",
    "                                                  'energy_source_count'],axis=1)"
   ]
  },
  {
   "cell_type": "code",
   "execution_count": null,
   "metadata": {
    "collapsed": true
   },
   "outputs": [],
   "source": [
    "mmbtu_one_fuel = mmbtu_one_fuel_es.merge(mmbtu_one_fuel_plant,how='left',on=['plant_id_eia','report_year','energy_source_plant','energy_source_cons_plant'])\n"
   ]
  },
  {
   "cell_type": "code",
   "execution_count": null,
   "metadata": {
    "collapsed": true
   },
   "outputs": [],
   "source": [
    "mmbtu_one_fuel['mmbtu_propotion_es'] = mmbtu_one_fuel['mmbtu_es']/mmbtu_one_fuel['mmbtu_plant']"
   ]
  },
  {
   "cell_type": "code",
   "execution_count": null,
   "metadata": {},
   "outputs": [],
   "source": [
    "mmbtu_one_fuel[mmbtu_one_fuel['energy_source_cons_fuel'] == 'coal'].count()"
   ]
  },
  {
   "cell_type": "code",
   "execution_count": null,
   "metadata": {
    "collapsed": true
   },
   "outputs": [],
   "source": [
    "mmbtu_one_fuel_coal = mmbtu_one_fuel[(mmbtu_one_fuel['energy_source_cons_plant'] == 'coal') & \n",
    "                                    (mmbtu_one_fuel['energy_source_cons_fuel'] == 'coal')]"
   ]
  },
  {
   "cell_type": "code",
   "execution_count": null,
   "metadata": {},
   "outputs": [],
   "source": [
    "mmbtu_one_fuel_coal[mmbtu_one_fuel_coal['mmbtu_propotion_es'] < .8].drop_duplicates(subset=['plant_id_eia'])"
   ]
  },
  {
   "cell_type": "code",
   "execution_count": null,
   "metadata": {},
   "outputs": [],
   "source": [
    "mmbtu_one_fuel_coal.describe()"
   ]
  },
  {
   "cell_type": "code",
   "execution_count": null,
   "metadata": {},
   "outputs": [],
   "source": [
    "plt.hist(mmbtu_one_fuel_coal.mmbtu_propotion_es, range=(.9,1), bins=100, alpha=0.5, color='black', label=\"coal\")\n",
    "plt.xlabel(\"Proportion\")\n",
    "plt.ylabel(\"Number of records\")\n",
    "plt.title(\"Proportion of Coal Receipts\")\n",
    "plt.legend()"
   ]
  },
  {
   "cell_type": "markdown",
   "metadata": {},
   "source": [
    "Additional problem exploration..."
   ]
  },
  {
   "cell_type": "code",
   "execution_count": null,
   "metadata": {},
   "outputs": [],
   "source": [
    "# There are some generators out of 27,000 that don't have records in the generators table\n",
    "# A chunk of these appear to be plants that are retired mid-way through a year\n",
    "# this will be fixed when we pull in the retired tab into the generators table.\n",
    "# A chunk of these appear to be genertors added after 2016. This should be fiexed\n",
    "# when we pull in 2016 data.\n",
    "test = g9_summed.merge(net_gen_one_fuel.append(net_gen_mutli_fuel),how='left')\n",
    "test[test.energy_source.isnull()].count()"
   ]
  }
 ],
 "metadata": {
  "kernelspec": {
   "display_name": "Python 3",
   "language": "python",
   "name": "python3"
  },
  "language_info": {
   "codemirror_mode": {
    "name": "ipython",
    "version": 3
   },
   "file_extension": ".py",
   "mimetype": "text/x-python",
   "name": "python",
   "nbconvert_exporter": "python",
   "pygments_lexer": "ipython3",
   "version": "3.6.1"
  }
 },
 "nbformat": 4,
 "nbformat_minor": 2
}
