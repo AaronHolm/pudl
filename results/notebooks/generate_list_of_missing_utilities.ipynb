{
 "cells": [
  {
   "cell_type": "code",
   "execution_count": 1,
   "metadata": {
    "collapsed": true
   },
   "outputs": [],
   "source": [
    "### Find Missing Plants"
   ]
  },
  {
   "cell_type": "code",
   "execution_count": 2,
   "metadata": {
    "collapsed": true
   },
   "outputs": [],
   "source": [
    "import os, sys\n",
    "sys.path.append(os.path.abspath(os.path.join('..','..')))\n",
    "from pudl import ferc1, pudl, models, models_ferc1, settings, constants, eia923, models_eia923\n",
    "from pudl.eia923 import get_eia923_page\n",
    "from pudl.eia923 import get_eia923_xlsx, get_eia923_column_map\n",
    "from pudl.eia923 import get_eia923_plant_info, get_eia923_operator_info\n",
    "from pudl.pudl import *\n",
    "from pudl.constants import tab_map_eia923\n",
    "import numpy as np\n",
    "import pandas as pd\n",
    "from pandas import DataFrame\n",
    "import csv\n",
    "import sqlalchemy as sa\n",
    "from sqlalchemy import create_engine\n",
    "from sqlalchemy.sql import select\n",
    "from sqlalchemy import Integer, String, Numeric, Boolean, Float"
   ]
  },
  {
   "cell_type": "code",
   "execution_count": 3,
   "metadata": {
    "collapsed": false
   },
   "outputs": [],
   "source": [
    "%load_ext autoreload\n",
    "%autoreload 1\n",
    "%aimport pudl.pudl\n",
    "%aimport pudl.ferc1\n",
    "%aimport pudl.eia923\n",
    "%aimport pudl.constants\n",
    "%aimport pudl.settings\n",
    "%aimport pudl.models\n",
    "%aimport pudl.models_eia923"
   ]
  },
  {
   "cell_type": "code",
   "execution_count": 4,
   "metadata": {
    "collapsed": true
   },
   "outputs": [],
   "source": [
    "eia923_years=[2009, 2010, 2011, 2012, 2013, 2014, 2015, 2016]"
   ]
  },
  {
   "cell_type": "code",
   "execution_count": 5,
   "metadata": {
    "collapsed": false
   },
   "outputs": [
    {
     "name": "stdout",
     "output_type": "stream",
     "text": [
      "Reading EIA 923 spreadsheet data for 2009.\n",
      "Reading EIA 923 spreadsheet data for 2010.\n",
      "Reading EIA 923 spreadsheet data for 2011.\n",
      "Reading EIA 923 spreadsheet data for 2012.\n",
      "Reading EIA 923 spreadsheet data for 2013.\n",
      "Reading EIA 923 spreadsheet data for 2014.\n",
      "Reading EIA 923 spreadsheet data for 2015.\n",
      "Reading EIA 923 spreadsheet data for 2016.\n"
     ]
    }
   ],
   "source": [
    "eia923_xlsx = get_eia923_xlsx(eia923_years)"
   ]
  },
  {
   "cell_type": "code",
   "execution_count": 6,
   "metadata": {
    "collapsed": false
   },
   "outputs": [
    {
     "name": "stdout",
     "output_type": "stream",
     "text": [
      "Converting EIA 923 generation_fuel to DataFrame...\n",
      "Converting EIA 923 boiler_fuel to DataFrame...\n",
      "Converting EIA 923 generator to DataFrame...\n"
     ]
    }
   ],
   "source": [
    "eia923_plants = get_eia923_operator_info(eia923_years, eia923_xlsx)\n",
    "eia923_operator_ids = eia923_plants[['operator_id']]"
   ]
  },
  {
   "cell_type": "code",
   "execution_count": 7,
   "metadata": {
    "collapsed": false
   },
   "outputs": [
    {
     "data": {
      "text/html": [
       "<div>\n",
       "<table border=\"1\" class=\"dataframe\">\n",
       "  <thead>\n",
       "    <tr style=\"text-align: right;\">\n",
       "      <th></th>\n",
       "      <th>operator_id</th>\n",
       "      <th>operator_name</th>\n",
       "    </tr>\n",
       "  </thead>\n",
       "  <tbody>\n",
       "    <tr>\n",
       "      <th>0</th>\n",
       "      <td>195</td>\n",
       "      <td>Alabama Power Co</td>\n",
       "    </tr>\n",
       "    <tr>\n",
       "      <th>1</th>\n",
       "      <td>195</td>\n",
       "      <td>Alabama Power Co</td>\n",
       "    </tr>\n",
       "  </tbody>\n",
       "</table>\n",
       "</div>"
      ],
      "text/plain": [
       "   operator_id     operator_name\n",
       "0          195  Alabama Power Co\n",
       "1          195  Alabama Power Co"
      ]
     },
     "execution_count": 7,
     "metadata": {},
     "output_type": "execute_result"
    }
   ],
   "source": [
    "eia923_plants = eia923_plants.dropna(subset=['operator_id'])\n",
    "eia923_plants.head(2)"
   ]
  },
  {
   "cell_type": "code",
   "execution_count": 8,
   "metadata": {
    "collapsed": false
   },
   "outputs": [],
   "source": [
    "output_tab_plants = pd.read_excel('../id_mapping/mapping_eia923_ferc1.xlsx', 'utilities_output', na_values='', keep_default_na=False,\n",
    "                              converters={'plant_id': int,\n",
    "                                          'plant_name': str,\n",
    "                                          'respondent_id_ferc1': int,\n",
    "                                          'respondent_name_ferc1': str,\n",
    "                                          'plant_name_ferc1': str,\n",
    "                                          'plant_id_eia923': int,\n",
    "                                          'plant_name_eia923': str,\n",
    "                                          'operator_name_eia923': str,\n",
    "                                          'operator_id_eia923': int})\n",
    "output_operator_ids = output_tab_plants[['operator_id_eia923']]\n",
    "output_operator_ids = output_operator_ids.dropna()"
   ]
  },
  {
   "cell_type": "code",
   "execution_count": 9,
   "metadata": {
    "collapsed": false
   },
   "outputs": [],
   "source": [
    "output_operator_ids = output_operator_ids.rename(columns={'operator_id_eia923': 'operator_id'})"
   ]
  },
  {
   "cell_type": "code",
   "execution_count": 10,
   "metadata": {
    "collapsed": false
   },
   "outputs": [],
   "source": [
    "merged = eia923_operator_ids.merge(output_operator_ids, indicator=True, how='outer')\n",
    "merged = merged[merged['_merge'] == 'right_only']\n",
    "merged = merged.drop_duplicates()\n",
    "del merged['_merge']"
   ]
  },
  {
   "cell_type": "code",
   "execution_count": 11,
   "metadata": {
    "collapsed": false
   },
   "outputs": [
    {
     "data": {
      "text/plain": [
       "(212, 1)"
      ]
     },
     "execution_count": 11,
     "metadata": {},
     "output_type": "execute_result"
    }
   ],
   "source": [
    "merged.shape"
   ]
  },
  {
   "cell_type": "code",
   "execution_count": 12,
   "metadata": {
    "collapsed": false
   },
   "outputs": [],
   "source": [
    "missing_operators = merged.rename(columns={0: 'operator_id',})\n",
    "missing_operators.drop_duplicates()\n",
    "eia923_plants.drop_duplicates('operator_id')\n",
    "missing_operators[\"operator_id\"] = missing_operators.operator_id.astype(int)\n",
    "eia923_plants[\"operator_id\"] = eia923_plants.operator_id.astype(int)"
   ]
  },
  {
   "cell_type": "code",
   "execution_count": 13,
   "metadata": {
    "collapsed": false
   },
   "outputs": [],
   "source": [
    "missing_operators = pd.merge(missing_operators, eia923_plants, on=['operator_id'], how='left')"
   ]
  },
  {
   "cell_type": "code",
   "execution_count": 14,
   "metadata": {
    "collapsed": true
   },
   "outputs": [],
   "source": [
    "output_tab_plants = pd.read_excel('../id_mapping/mapping_eia923_ferc1.xlsx', 'plants_output', na_values='', keep_default_na=False,\n",
    "                              converters={'plant_id': int,\n",
    "                                          'plant_name': str,\n",
    "                                          'respondent_id_ferc1': int,\n",
    "                                          'respondent_name_ferc1': str,\n",
    "                                          'plant_name_ferc1': str,\n",
    "                                          'plant_id_eia923': int,\n",
    "                                          'plant_name_eia923': str,\n",
    "                                          'operator_name_eia923': str,\n",
    "                                          'operator_id_eia923': int})\n",
    "output_operator_ids = output_tab_plants[['operator_id_eia923', 'operator_name_eia923']]\n",
    "output_operator_ids = output_operator_ids.dropna()"
   ]
  },
  {
   "cell_type": "code",
   "execution_count": 15,
   "metadata": {
    "collapsed": false
   },
   "outputs": [],
   "source": [
    "output_operator_ids = output_operator_ids.rename(columns={'operator_id_eia923': 'operator_id'})"
   ]
  },
  {
   "cell_type": "code",
   "execution_count": 16,
   "metadata": {
    "collapsed": false
   },
   "outputs": [],
   "source": [
    "missing_operators = pd.merge(missing_operators, output_operator_ids, on=['operator_id'], how='left')"
   ]
  },
  {
   "cell_type": "code",
   "execution_count": 17,
   "metadata": {
    "collapsed": false
   },
   "outputs": [],
   "source": [
    "missing_operators = missing_operators.drop_duplicates('operator_id')\n",
    "del missing_operators['operator_name']\n",
    "missing_operators = missing_operators.rename(columns={'operator_name_eia923': 'operator_name'})"
   ]
  },
  {
   "cell_type": "code",
   "execution_count": 18,
   "metadata": {
    "collapsed": false
   },
   "outputs": [
    {
     "data": {
      "text/html": [
       "<div>\n",
       "<table border=\"1\" class=\"dataframe\">\n",
       "  <thead>\n",
       "    <tr style=\"text-align: right;\">\n",
       "      <th></th>\n",
       "      <th>operator_id</th>\n",
       "      <th>operator_name</th>\n",
       "    </tr>\n",
       "  </thead>\n",
       "  <tbody>\n",
       "    <tr>\n",
       "      <th>0</th>\n",
       "      <td>99999</td>\n",
       "      <td>State-Fuel Level Increment</td>\n",
       "    </tr>\n",
       "    <tr>\n",
       "      <th>1</th>\n",
       "      <td>65</td>\n",
       "      <td>Abitibi Consolidated-Lufkin</td>\n",
       "    </tr>\n",
       "    <tr>\n",
       "      <th>2</th>\n",
       "      <td>163</td>\n",
       "      <td>AERA Energy LLC-Oxford</td>\n",
       "    </tr>\n",
       "    <tr>\n",
       "      <th>3</th>\n",
       "      <td>178</td>\n",
       "      <td>AES  Placerita Inc</td>\n",
       "    </tr>\n",
       "    <tr>\n",
       "      <th>4</th>\n",
       "      <td>179</td>\n",
       "      <td>Agrium US Inc</td>\n",
       "    </tr>\n",
       "    <tr>\n",
       "      <th>5</th>\n",
       "      <td>358</td>\n",
       "      <td>Amalgamated Sugar Co LLC</td>\n",
       "    </tr>\n",
       "    <tr>\n",
       "      <th>6</th>\n",
       "      <td>402</td>\n",
       "      <td>Altamont Power LLC</td>\n",
       "    </tr>\n",
       "    <tr>\n",
       "      <th>7</th>\n",
       "      <td>404</td>\n",
       "      <td>Alsip Paper Condominium Assn</td>\n",
       "    </tr>\n",
       "    <tr>\n",
       "      <th>8</th>\n",
       "      <td>431</td>\n",
       "      <td>Alyeska Seafoods Inc</td>\n",
       "    </tr>\n",
       "    <tr>\n",
       "      <th>9</th>\n",
       "      <td>877</td>\n",
       "      <td>Art Institute of Chicago</td>\n",
       "    </tr>\n",
       "    <tr>\n",
       "      <th>10</th>\n",
       "      <td>1053</td>\n",
       "      <td>Austin State Hospital</td>\n",
       "    </tr>\n",
       "    <tr>\n",
       "      <th>11</th>\n",
       "      <td>1311</td>\n",
       "      <td>Bassett Furniture Industries Inc</td>\n",
       "    </tr>\n",
       "    <tr>\n",
       "      <th>13</th>\n",
       "      <td>1554</td>\n",
       "      <td>City of Benkelman</td>\n",
       "    </tr>\n",
       "    <tr>\n",
       "      <th>14</th>\n",
       "      <td>1579</td>\n",
       "      <td>PUD No 1 of Benton County</td>\n",
       "    </tr>\n",
       "    <tr>\n",
       "      <th>15</th>\n",
       "      <td>1636</td>\n",
       "      <td>Big Cajun 1 Peakers</td>\n",
       "    </tr>\n",
       "    <tr>\n",
       "      <th>16</th>\n",
       "      <td>1652</td>\n",
       "      <td>Black Hills Ontario LLC</td>\n",
       "    </tr>\n",
       "    <tr>\n",
       "      <th>17</th>\n",
       "      <td>1687</td>\n",
       "      <td>Bio-Energy Partners</td>\n",
       "    </tr>\n",
       "    <tr>\n",
       "      <th>18</th>\n",
       "      <td>1776</td>\n",
       "      <td>Black River Falls City of</td>\n",
       "    </tr>\n",
       "    <tr>\n",
       "      <th>19</th>\n",
       "      <td>2029</td>\n",
       "      <td>Borden Chemicals &amp; Plastics</td>\n",
       "    </tr>\n",
       "    <tr>\n",
       "      <th>20</th>\n",
       "      <td>2176</td>\n",
       "      <td>Brazos River Authority</td>\n",
       "    </tr>\n",
       "  </tbody>\n",
       "</table>\n",
       "</div>"
      ],
      "text/plain": [
       "    operator_id                     operator_name\n",
       "0         99999        State-Fuel Level Increment\n",
       "1            65       Abitibi Consolidated-Lufkin\n",
       "2           163            AERA Energy LLC-Oxford\n",
       "3           178                AES  Placerita Inc\n",
       "4           179                     Agrium US Inc\n",
       "5           358          Amalgamated Sugar Co LLC\n",
       "6           402                Altamont Power LLC\n",
       "7           404      Alsip Paper Condominium Assn\n",
       "8           431              Alyeska Seafoods Inc\n",
       "9           877          Art Institute of Chicago\n",
       "10         1053             Austin State Hospital\n",
       "11         1311  Bassett Furniture Industries Inc\n",
       "13         1554                 City of Benkelman\n",
       "14         1579         PUD No 1 of Benton County\n",
       "15         1636               Big Cajun 1 Peakers\n",
       "16         1652           Black Hills Ontario LLC\n",
       "17         1687               Bio-Energy Partners\n",
       "18         1776         Black River Falls City of\n",
       "19         2029       Borden Chemicals & Plastics\n",
       "20         2176            Brazos River Authority"
      ]
     },
     "execution_count": 18,
     "metadata": {},
     "output_type": "execute_result"
    }
   ],
   "source": [
    "missing_operators.head(20)"
   ]
  },
  {
   "cell_type": "code",
   "execution_count": 19,
   "metadata": {
    "collapsed": true
   },
   "outputs": [],
   "source": [
    "missing_operators.to_csv('../id_mapping/missing_operators.csv', index=False)"
   ]
  },
  {
   "cell_type": "code",
   "execution_count": null,
   "metadata": {
    "collapsed": true
   },
   "outputs": [],
   "source": []
  }
 ],
 "metadata": {
  "kernelspec": {
   "display_name": "Python 3",
   "language": "python",
   "name": "python3"
  },
  "language_info": {
   "codemirror_mode": {
    "name": "ipython",
    "version": 3
   },
   "file_extension": ".py",
   "mimetype": "text/x-python",
   "name": "python",
   "nbconvert_exporter": "python",
   "pygments_lexer": "ipython3",
   "version": "3.6.0"
  }
 },
 "nbformat": 4,
 "nbformat_minor": 2
}
