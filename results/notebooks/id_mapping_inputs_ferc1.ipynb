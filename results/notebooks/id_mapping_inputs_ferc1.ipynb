{
 "cells": [
  {
   "cell_type": "code",
   "execution_count": 1,
   "metadata": {
    "collapsed": false
   },
   "outputs": [
    {
     "name": "stdout",
     "output_type": "stream",
     "text": [
      "/Users/zaneselvans/code/git/pudl/pudl\n"
     ]
    }
   ],
   "source": [
    "cd ~/code/git/pudl/pudl"
   ]
  },
  {
   "cell_type": "code",
   "execution_count": 2,
   "metadata": {
    "collapsed": true
   },
   "outputs": [],
   "source": [
    "%load_ext autoreload\n",
    "%autoreload 1\n",
    "%aimport pudl\n",
    "%aimport ferc1"
   ]
  },
  {
   "cell_type": "code",
   "execution_count": 14,
   "metadata": {
    "collapsed": true
   },
   "outputs": [],
   "source": [
    "import pandas as pd\n",
    "import pudl\n",
    "import ferc1"
   ]
  },
  {
   "cell_type": "code",
   "execution_count": 15,
   "metadata": {
    "collapsed": true
   },
   "outputs": [],
   "source": [
    "pudl.ferc1.f1_slurp()\n",
    "f1_engine = create_engine('postgresql://catalyst@localhost:5432/ferc_f1')"
   ]
  },
  {
   "cell_type": "code",
   "execution_count": 6,
   "metadata": {
    "collapsed": true
   },
   "outputs": [],
   "source": [
    "f1_respondents = pd.read_sql('''SELECT DISTINCT respondent_id, respondent_name from f1_respondent_id''', f1_engine)\n",
    "f1_plants = pd.read_sql('''SELECT DISTINCT r.respondent_id, r.respondent_name, f.plant_name\n",
    "                           FROM f1_respondent_id r JOIN f1_fuel f on f.respondent_id = r.respondent_id\n",
    "                           WHERE f.plant_name <> '' ''',f1_engine)\n",
    "f1_fuel = pd.read_sql('''SELECT * from f1_fuel''', f1_engine)\n",
    "f1_respondents.to_csv('../results/id_mapping/ferc1_inputs/f1_respondents.csv')\n",
    "f1_plants.to_csv('../results/id_mapping/ferc1_inputs/f1_plants.csv')"
   ]
  },
  {
   "cell_type": "code",
   "execution_count": 11,
   "metadata": {
    "collapsed": true
   },
   "outputs": [],
   "source": [
    "small_plants = pd.read_sql('''SELECT DISTINCT r.respondent_id, r.respondent_name, p.plant_name, p.kind_of_fuel, p.capacity_rating\n",
    "                            FROM f1_respondent_id r JOIN f1_gnrt_plant p ON r.respondent_id = p.respondent_id\n",
    "                            WHERE p.capacity_rating > 5.0''', f1_engine)\n",
    "small_plants.to_csv('../results/id_mapping/ferc1_inputs/f1_gnrt_plant.csv')"
   ]
  },
  {
   "cell_type": "code",
   "execution_count": 12,
   "metadata": {
    "collapsed": true
   },
   "outputs": [],
   "source": [
    "hydro_plants = pd.read_sql('''SELECT DISTINCT r.respondent_id, r.respondent_name, p.plant_name, p.plant_kind,\n",
    "                                              p.tot_capacity\n",
    "                              FROM f1_respondent_id r JOIN f1_hydro p ON r.respondent_id = p.respondent_id\n",
    "                              WHERE p.tot_capacity > 5.0''', f1_engine)\n",
    "hydro_plants.to_csv('../results/id_mapping/ferc1_inputs/f1_hydro.csv')"
   ]
  },
  {
   "cell_type": "code",
   "execution_count": 13,
   "metadata": {
    "collapsed": true
   },
   "outputs": [],
   "source": [
    "pumped_storage = pd.read_sql('''SELECT DISTINCT r.respondent_id, r.respondent_name, p.plant_name, p.plant_kind,\n",
    "                                              p.tot_capacity\n",
    "                              FROM f1_respondent_id r JOIN f1_pumped_storage p ON r.respondent_id = p.respondent_id\n",
    "                              WHERE p.tot_capacity > 5.0''', f1_engine)\n",
    "pumped_storage.to_csv('../results/id_mapping/ferc1_inputs/f1_pumped_storage.csv')"
   ]
  },
  {
   "cell_type": "code",
   "execution_count": null,
   "metadata": {
    "collapsed": true
   },
   "outputs": [],
   "source": []
  }
 ],
 "metadata": {
  "kernelspec": {
   "display_name": "Python 3",
   "language": "python",
   "name": "python3"
  },
  "language_info": {
   "codemirror_mode": {
    "name": "ipython",
    "version": 3
   },
   "file_extension": ".py",
   "mimetype": "text/x-python",
   "name": "python",
   "nbconvert_exporter": "python",
   "pygments_lexer": "ipython3",
   "version": "3.6.0"
  }
 },
 "nbformat": 4,
 "nbformat_minor": 2
}
