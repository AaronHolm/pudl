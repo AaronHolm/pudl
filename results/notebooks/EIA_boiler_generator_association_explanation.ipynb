{
 "cells": [
  {
   "cell_type": "markdown",
   "metadata": {},
   "source": [
    "## EIA Boiler Generator Associations Exploration"
   ]
  },
  {
   "cell_type": "markdown",
   "metadata": {},
   "source": [
    "In our path towards compiling the marginal cost of electricity of all of the publicly reported generating units across the country, we wanted to compile the heat rate for each generating unit. The heat rate is important because it helps us attribute the fuel costs (which are reported at the plant level) to the actual electric generation (reported at the generator level). The heat rate is what links the fuel consumption (at the boiler) to the electricity generated (at the generator). This illuminated a hole in EIA’s 860 reported boiler generator associations, that we were able to compensate for through a series of matching cartwheels and network analysis.\n",
    "\n",
    "We were previously doing all of this after the original data was ingested into the database, but we’ve recently reconfigured our database ingest process to move the new and improved boiler generator associations into its own table in PUDL."
   ]
  },
  {
   "cell_type": "markdown",
   "metadata": {},
   "source": [
    "### Boiler, schmoiler?"
   ]
  },
  {
   "cell_type": "markdown",
   "metadata": {},
   "source": [
    "There are two essential elements of generating units - namely boilers and generators. You can think of them as the place where the fuel is burned (the boiler) and the place where the electricity is generated (the generator). Yes, this is a ridiculous simplification of a complex system but it will do for our purposes. In order to understand anything interesting about a generating unit, we need to connect the stuff being burned to the electricity created.\n",
    "\n",
    "Combined-cycle gas plants. You can think of combined-cycle gas plants as having two.. well cycles. The first cycle is a gas turbine - gas goes in turns a turbine and hot air comes out. The second cycle takes that hot air, plus water to make steam to turn a steam turbine. In the first cycle, the gas turbine is the boiler as well as the generator.\n",
    "State of the EIA Union\n",
    "\n",
    "I can’t tell you how excited I was to find the 860 environmental associations table with boiler generator associations. And subsequently I can’t tell you how confused I got upon realizing that the associations were complete for some plants but not others. So we reached out the EIA to get a handle on what was happening.\n",
    "\n",
    "“As I am sure you are aware, we account for combined cycle facilities using three prime mover codes:\n",
    "- CA – combined cycle steam part\n",
    "- CS – combined cycle single shaft\n",
    "- CT – combined cycle turbine part\n",
    "For our EIA-860 and EIA-923 reports, plants are only supposed to submit data on their boilers and associated equipment. Therefore, since boilers are associated with steam generators, only the generators that have a prime mover of a “CA” or “CS” (when referring to combined cycle facilities) are listed in the boiler/generator association table. The gas turbine parts of combined cycle facilities (prime mover “CT”) are not included in this association table.”\n",
    "\n",
    "Well that’s explainable enough, although not particularly useful. This means that all of the combustion turbines (remember - cycle 1 - that’s where are the natural gas is being burned) in all of the combined cycle plants across the country were not attached to the steam turbines. This was resulting in some very strange heat rates because all of the assigned generation was attached to the boilers with little to no fuel. "
   ]
  },
  {
   "cell_type": "markdown",
   "metadata": {},
   "source": [
    "### Imports & Set-up"
   ]
  },
  {
   "cell_type": "code",
   "execution_count": 1,
   "metadata": {},
   "outputs": [],
   "source": [
    "%load_ext autoreload\n",
    "%autoreload 2\n",
    "%matplotlib inline\n",
    "import pandas as pd\n",
    "import numpy as np\n",
    "import sqlalchemy as sa\n",
    "import postgres_copy\n",
    "import copy\n",
    "import os.path\n",
    "import re\n",
    "import networkx as nx\n",
    "\n",
    "from pudl import init\n",
    "from pudl import constants as pc\n",
    "import pudl.extract.eia923\n",
    "import pudl.extract.eia860\n",
    "import pudl.transform.eia\n",
    "import pudl.output.pudltabl\n",
    "import pudl.helpers\n",
    "import warnings\n",
    "warnings.filterwarnings('ignore')"
   ]
  },
  {
   "cell_type": "code",
   "execution_count": 2,
   "metadata": {},
   "outputs": [],
   "source": [
    "eia923_tables=pc.eia923_pudl_tables\n",
    "eia923_years=pc.working_years['eia923']\n",
    "eia860_tables=pc.eia860_pudl_tables\n",
    "eia860_years=pc.working_years['eia860']\n",
    "verbose=False\n",
    "debug=False"
   ]
  },
  {
   "cell_type": "code",
   "execution_count": null,
   "metadata": {},
   "outputs": [],
   "source": [
    "eia923_raw_dfs = pudl.extract.eia923.extract(eia923_years=eia923_years,\n",
    "                                verbose=verbose)\n",
    "\n",
    "eia860_raw_dfs = pudl.extract.eia860.extract(eia860_years=eia860_years,\n",
    "                                verbose=verbose)\n",
    "eia923_transformed_dfs = \\\n",
    "    pudl.transform.eia923.transform(eia923_raw_dfs,\n",
    "                                    eia923_tables=eia923_tables,\n",
    "                                    verbose=verbose)\n",
    "\n",
    "eia860_transformed_dfs = \\\n",
    "    pudl.transform.eia860.transform(eia860_raw_dfs,\n",
    "                                    eia860_tables=eia860_tables,\n",
    "                                    verbose=verbose)\n",
    "\n",
    "eia_transformed_dfs = copy.deepcopy(eia860_transformed_dfs)\n",
    "eia_transformed_dfs.update(copy.deepcopy(eia923_transformed_dfs))"
   ]
  },
  {
   "cell_type": "markdown",
   "metadata": {
    "scrolled": false
   },
   "source": [
    "### Building Blocks"
   ]
  },
  {
   "cell_type": "markdown",
   "metadata": {},
   "source": [
    "We’ve been mainly working with two separate EIA forms: 923 and 860. In order to compile the more complete boiler generator associations, we compiled all of the table from 860 and 923 which have boilers or generators to try to connect as many of them as possible. Here are the tables which are different tabs in 923’s reporting and different files in 860 (with the original EIA table name and the PUDL table name):\n",
    "\n",
    "923 Tables:\n",
    "- Generator / ‘generation_eia923’: monthly net generation by generator\n",
    "- Boiler Fuel / ‘boiler_fuel_eia923’: monthly fuel consumption (in number of physical units and MMBTU per unit) by boiler\n",
    "        \n",
    "860 Tables:\n",
    "- Enviro_Assoc / ‘boiler_generator_assn_eia860’ - the (limited) boiler generator associations\n",
    "- Generator / ‘generators_eia860’: generator info, including capacity and (limited) unit codes"
   ]
  },
  {
   "cell_type": "code",
   "execution_count": null,
   "metadata": {},
   "outputs": [],
   "source": [
    "# compile and scrub all the parts\n",
    "bga_eia860 = eia_transformed_dfs['boiler_generator_assn_eia860'].copy()\n",
    "bga_eia860 = pudl.transform.eia._restrict_years(bga_eia860, eia923_years, eia860_years)\n",
    "bga_eia860['generator_id'] = bga_eia860.generator_id.astype(str)\n",
    "bga_eia860['boiler_id'] = bga_eia860.boiler_id.astype(str)\n",
    "bga_eia860 = bga_eia860.drop(['operator_id'], axis=1)\n",
    "\n",
    "gen_eia923 = eia_transformed_dfs['generation_eia923'].copy()\n",
    "gen_eia923 = pudl.transform.eia._restrict_years(gen_eia923, eia923_years, eia860_years)\n",
    "gen_eia923['generator_id'] = gen_eia923.generator_id.astype(str)\n",
    "gen_eia923 = gen_eia923.set_index(pd.DatetimeIndex(gen_eia923.report_date))\n",
    "\n",
    "gen_eia923_gb = gen_eia923.groupby(\n",
    "    [pd.Grouper(freq='AS'), 'plant_id_eia', 'generator_id'])\n",
    "gen_eia923 = gen_eia923_gb['net_generation_mwh'].sum().reset_index()\n",
    "gen_eia923['missing_from_923'] = False\n",
    "\n",
    "# The generator records that are missing from 860 but appear in 923\n",
    "# I created issue no. 128 to deal with this at a later date\n",
    "merged = pd.merge(eia_transformed_dfs['generators_eia860'].copy(),\n",
    "                  gen_eia923,\n",
    "                  on=['plant_id_eia', 'report_date', 'generator_id'],\n",
    "                  indicator=True, how='outer')\n",
    "missing = merged[merged['_merge'] == 'right_only']\n",
    "\n",
    "# compile all of the generators\n",
    "gens_eia860 = eia_transformed_dfs['generators_eia860'].copy()\n",
    "gens_eia860 = pudl.transform.eia._restrict_years(gens_eia860, eia923_years, eia860_years)\n",
    "gens_eia860['generator_id'] = gens_eia860.generator_id.astype(str)\n",
    "gens = pd.merge(gen_eia923, gens_eia860,\n",
    "                on=['plant_id_eia', 'report_date', 'generator_id'],\n",
    "                how='outer')\n",
    "\n",
    "gens = gens[['plant_id_eia',\n",
    "             'report_date',\n",
    "             'generator_id',\n",
    "             'unit_code',\n",
    "             'net_generation_mwh',\n",
    "             'missing_from_923']].drop_duplicates()\n",
    "\n",
    "gens['generator_id'] = gens['generator_id'].astype(str)"
   ]
  },
  {
   "cell_type": "markdown",
   "metadata": {},
   "source": [
    "We’re going to use Barry (yes, that is the plant that is basically always at the top of every table) because it’s a relatively good example."
   ]
  },
  {
   "cell_type": "code",
   "execution_count": null,
   "metadata": {},
   "outputs": [],
   "source": [
    "stage = bga_eia860\n",
    "stage[(stage['plant_id_eia'] == 3) & (stage['report_date'].dt.year == 2015)]"
   ]
  },
  {
   "cell_type": "code",
   "execution_count": null,
   "metadata": {
    "scrolled": false
   },
   "outputs": [],
   "source": [
    "stage = gens\n",
    "stage[(stage['plant_id_eia'] == 3) & (stage['report_date'].dt.year == 2015)]"
   ]
  },
  {
   "cell_type": "markdown",
   "metadata": {},
   "source": [
    "### Use what yo mamma gave you.."
   ]
  },
  {
   "cell_type": "markdown",
   "metadata": {},
   "source": [
    "First we compiled a complete list of generators from 923 and 860. Then we merged the 860 boiler generator associations onto that list. The generators with associated boilers were all labeled with an “eia860_org” tag indicating it came from the original EIA 860 reporting."
   ]
  },
  {
   "cell_type": "code",
   "execution_count": null,
   "metadata": {},
   "outputs": [],
   "source": [
    "# create the beginning of a bga compilation w/ the generators as the\n",
    "# background\n",
    "bga_compiled_1 = pd.merge(gens, bga_eia860,\n",
    "                          on=['plant_id_eia', 'generator_id',\n",
    "                              'report_date'],\n",
    "                          how='outer')\n",
    "\n",
    "# Create a set of bga's that are linked, directly from bga8\n",
    "bga_assn = bga_compiled_1[bga_compiled_1['boiler_id'].notnull()].copy()\n",
    "bga_assn['bga_source'] = 'eia860_org'\n",
    "\n",
    "# Create a set of bga's that were not linked directly through bga8\n",
    "bga_unassn = bga_compiled_1[bga_compiled_1['boiler_id'].isnull()].copy()\n",
    "bga_unassn = bga_unassn.drop(['boiler_id'], axis=1)\n"
   ]
  },
  {
   "cell_type": "code",
   "execution_count": null,
   "metadata": {},
   "outputs": [],
   "source": [
    "stage = bga_compiled_1\n",
    "stage[(stage['plant_id_eia'] == 3) & (stage['report_date'].dt.year == 2015)]"
   ]
  },
  {
   "cell_type": "markdown",
   "metadata": {},
   "source": [
    "That got us 57% of the annual boiler/generator mappings but then we had to compile the rest."
   ]
  },
  {
   "cell_type": "markdown",
   "metadata": {},
   "source": [
    "### String Matching"
   ]
  },
  {
   "cell_type": "markdown",
   "metadata": {},
   "source": [
    "We realized in our sleuthing that many of unmapped boilers and generators id’s actually are the same strings - which is weird because most of the id’s mapped in the 860 association table have wildly different id’s. But alas, we simply merged the remaining unmapped generators to the unmapped boilers with the report date, EIA plant id, and the respective boiler or generator id. This mapped another 3,621 records - another 2% of the mappings!"
   ]
  },
  {
   "cell_type": "code",
   "execution_count": null,
   "metadata": {},
   "outputs": [],
   "source": [
    "bf_eia923 = eia_transformed_dfs['boiler_fuel_eia923'].copy()\n",
    "bf_eia923 = pudl.transform.eia._restrict_years(bf_eia923, eia923_years, eia860_years)\n",
    "bf_eia923['boiler_id'] = bf_eia923.boiler_id.astype(str)\n",
    "bf_eia923['total_heat_content_mmbtu'] = bf_eia923['fuel_qty_consumed'] * \\\n",
    "    bf_eia923['fuel_mmbtu_per_unit']\n",
    "bf_eia923 = bf_eia923.set_index(pd.DatetimeIndex(bf_eia923.report_date))\n",
    "bf_eia923_gb = bf_eia923.groupby(\n",
    "    [pd.Grouper(freq='AS'), 'plant_id_eia', 'boiler_id'])\n",
    "bf_eia923 = bf_eia923_gb.agg({\n",
    "    'total_heat_content_mmbtu': pudl.helpers.sum_na,\n",
    "}).reset_index()\n",
    "\n",
    "bf_eia923.drop_duplicates(\n",
    "    subset=['plant_id_eia', 'report_date', 'boiler_id'], inplace=True)\n",
    "\n",
    "# Create a list of boilers that were not in bga8\n",
    "bf9_bga = bf_eia923.merge(bga_compiled_1,\n",
    "                          on=['plant_id_eia', 'boiler_id', 'report_date'],\n",
    "                          how='outer',\n",
    "                          indicator=True)\n",
    "bf9_not_in_bga = bf9_bga[bf9_bga['_merge'] == 'left_only']\n",
    "bf9_not_in_bga = bf9_not_in_bga.drop(['_merge'], axis=1)\n",
    "\n",
    "# Match the unassociated generators with unassociated boilers\n",
    "# This method is assuming that some the strings of the generators and the\n",
    "# boilers are the same\n",
    "bga_unassn = bga_unassn.merge(bf9_not_in_bga[['plant_id_eia',\n",
    "                                              'boiler_id',\n",
    "                                              'report_date']],\n",
    "                              how='left',\n",
    "                              left_on=['report_date',\n",
    "                                       'plant_id_eia',\n",
    "                                       'generator_id'],\n",
    "                              right_on=['report_date',\n",
    "                                        'plant_id_eia',\n",
    "                                        'boiler_id'])\n",
    "bga_unassn.sort_values(['report_date', 'plant_id_eia'], inplace=True)\n",
    "\n",
    "bga_unassn['bga_source'] = None\n",
    "bga_unassn.loc[bga_unassn.boiler_id.notnull(),\n",
    "               'bga_source'] = 'string_assn'\n",
    "\n",
    "bga_compiled_2 = bga_assn.append(bga_unassn)\n",
    "bga_compiled_2.sort_values(['plant_id_eia', 'report_date'], inplace=True)\n",
    "bga_compiled_2['missing_from_923'].fillna(value=True, inplace=True)"
   ]
  },
  {
   "cell_type": "code",
   "execution_count": null,
   "metadata": {
    "scrolled": false
   },
   "outputs": [],
   "source": [
    "stage = bga_compiled_2\n",
    "stage[(stage['plant_id_eia'] == 3) & (stage['report_date'].dt.year == 2015)]"
   ]
  },
  {
   "cell_type": "markdown",
   "metadata": {},
   "source": [
    "### Using the Unit Codes"
   ]
  },
  {
   "cell_type": "markdown",
   "metadata": {},
   "source": [
    "The next step was to use the unit code reported in the EIA 860 generators table. These unit codes are not reported for every single generator record. There are 9592 records from 2011-2016 with some unit code. Largely, this helped connect the remaining, unmapped steam turbine portion of the combined-cycle plants to the natural gas turbine portion. All of a sudden we had 80% of the generators mapped."
   ]
  },
  {
   "cell_type": "code",
   "execution_count": null,
   "metadata": {},
   "outputs": [],
   "source": [
    "# Connect the gens and boilers in units\n",
    "bga_compiled_units = bga_compiled_2.loc[\n",
    "    bga_compiled_2['unit_code'].notnull()]\n",
    "bga_gen_units = bga_compiled_units.drop(['boiler_id'], axis=1)\n",
    "bga_boil_units = bga_compiled_units[['plant_id_eia',\n",
    "                                     'report_date',\n",
    "                                     'boiler_id',\n",
    "                                     'unit_code']].copy()\n",
    "bga_boil_units.dropna(subset=['boiler_id'], inplace=True)\n",
    "\n",
    "# merge the units with the boilers\n",
    "bga_unit_compilation = bga_gen_units.merge(bga_boil_units,\n",
    "                                           how='outer',\n",
    "                                           on=['plant_id_eia',\n",
    "                                               'report_date',\n",
    "                                               'unit_code'],\n",
    "                                           indicator=True)\n",
    "\n",
    "# label the bga_source\n",
    "bga_unit_compilation. \\\n",
    "    loc[bga_unit_compilation['bga_source'].isnull(),\n",
    "        'bga_source'] = 'unit_connection'\n",
    "\n",
    "bga_unit_compilation.drop(['_merge'], axis=1, inplace=True)\n",
    "bga_non_units = bga_compiled_2[bga_compiled_2['unit_code'].isnull()]\n",
    "\n",
    "# combine the unit compilation and the non units\n",
    "bga_compiled_3 = bga_non_units.append(bga_unit_compilation)\n",
    "\n",
    "# resort the records and the columns\n",
    "bga_compiled_3.sort_values(['plant_id_eia', 'report_date'], inplace=True)\n",
    "bga_compiled_3 = bga_compiled_3[['plant_id_eia',\n",
    "                                 'report_date',\n",
    "                                 'generator_id',\n",
    "                                 'boiler_id',\n",
    "                                 'unit_code',\n",
    "                                 'bga_source',\n",
    "                                 'net_generation_mwh',\n",
    "                                 'missing_from_923']]"
   ]
  },
  {
   "cell_type": "code",
   "execution_count": null,
   "metadata": {
    "scrolled": false
   },
   "outputs": [],
   "source": [
    "stage = bga_compiled_3\n",
    "stage[(stage['plant_id_eia'] == 3) & (stage['report_date'].dt.year == 2015)]"
   ]
  },
  {
   "cell_type": "markdown",
   "metadata": {},
   "source": [
    "This cell is largely for labeling plants and generators with helpful indicators."
   ]
  },
  {
   "cell_type": "code",
   "execution_count": null,
   "metadata": {},
   "outputs": [],
   "source": [
    "# label plants that have 'bad' generator records (generators that have MWhs\n",
    "# in gens9 but don't have connected boilers) create a df with just the bad\n",
    "# plants by searching for the 'bad' generators\n",
    "bad_plants = bga_compiled_3[(bga_compiled_3['boiler_id'].isnull()) &\n",
    "                            (bga_compiled_3['net_generation_mwh'] > 0)].\\\n",
    "    drop_duplicates(subset=['plant_id_eia', 'report_date'])\n",
    "bad_plants = bad_plants[['plant_id_eia', 'report_date']]\n",
    "\n",
    "# merge the 'bad' plants back into the larger frame\n",
    "bga_compiled_3 = bga_compiled_3.merge(bad_plants,\n",
    "                                      how='outer',\n",
    "                                      on=['plant_id_eia', 'report_date'],\n",
    "                                      indicator=True)\n",
    "\n",
    "# use the indicator to create labels\n",
    "bga_compiled_3['plant_w_bad_generator'] = \\\n",
    "    np.where(bga_compiled_3._merge == 'both', True, False)\n",
    "# Note: At least one gen has reported MWh in 923, but could not be\n",
    "# programmatically mapped to a boiler\n",
    "\n",
    "# we don't need this one anymore\n",
    "bga_compiled_3 = bga_compiled_3.drop(['_merge'], axis=1)\n",
    "\n",
    "# create a label for generators that are unmapped but in 923\n",
    "bga_compiled_3['unmapped_but_in_923'] = \\\n",
    "    np.where((bga_compiled_3.boiler_id.isnull()) &\n",
    "             ~bga_compiled_3.missing_from_923 &\n",
    "             (bga_compiled_3.net_generation_mwh == 0),\n",
    "             True,\n",
    "             False)\n",
    "\n",
    "# create a label for generators that are unmapped\n",
    "bga_compiled_3['unmapped'] = np.where(bga_compiled_3.boiler_id.isnull(),\n",
    "                                      True,\n",
    "                                      False)\n",
    "bga_out = bga_compiled_3.drop('net_generation_mwh', axis=1)\n",
    "bga_out.loc[bga_out.unit_code.isnull(), 'unit_code'] = None"
   ]
  },
  {
   "cell_type": "markdown",
   "metadata": {},
   "source": [
    "### Unit Mapping"
   ]
  },
  {
   "cell_type": "markdown",
   "metadata": {},
   "source": [
    "The collection of boilers and generators that we really care about is the generating unit - i.e. every boiler and generator that is connected and interdependent. It doesn’t make sense to talk about a “heat rate” at any smaller unit, since the fuel consumption and electricity output are mingled at the unit level In order to connect the relatively disparate associated generators and boilers into units, we did some simple network analysis, using the NetworkX python package originally developed at the Los Alamos National Laboratory. For every plant, we created a graph of all of the connections between the boilers and generators, and every connected subgraph was assigned a unique unit id."
   ]
  },
  {
   "cell_type": "code",
   "execution_count": null,
   "metadata": {},
   "outputs": [],
   "source": [
    "bga_for_nx = bga_out[['plant_id_eia', 'report_date', 'generator_id',\n",
    "                      'boiler_id', 'unit_code']]\n",
    "# If there's no boiler... there's no boiler-generator association\n",
    "bga_for_nx = bga_for_nx.dropna(subset=['boiler_id']).drop_duplicates()\n",
    "\n",
    "# Need boiler & generator specific ID strings, or they look like\n",
    "# the same node to NX\n",
    "bga_for_nx['generators'] = 'p' + bga_for_nx.plant_id_eia.astype(str) + \\\n",
    "                           '_g' + bga_for_nx.generator_id.astype(str)\n",
    "bga_for_nx['boilers'] = 'p' + bga_for_nx.plant_id_eia.astype(str) + \\\n",
    "                        '_b' + bga_for_nx.boiler_id.astype(str)\n",
    "\n",
    "# dataframe to accumulate the unit_ids in\n",
    "bga_w_units = pd.DataFrame()\n",
    "# We want to start our unit_id counter anew for each plant:\n",
    "for pid in bga_for_nx.plant_id_eia.unique():\n",
    "    bga_byplant = bga_for_nx[bga_for_nx.plant_id_eia == pid].copy()\n",
    "\n",
    "    # Create a graph from the dataframe of boilers and generators. It's a\n",
    "    # multi-graph, meaning the same nodes can be connected by more than one\n",
    "    # edge -- this allows us to preserve multiple years worth of boiler\n",
    "    # generator association information for later inspection if need be:\n",
    "    bga_graph = nx.from_pandas_edgelist(bga_byplant,\n",
    "                                        source='generators',\n",
    "                                        target='boilers',\n",
    "                                        edge_attr=True,\n",
    "                                        create_using=nx.MultiGraph())\n",
    "\n",
    "    # Each connected sub-graph is a generation unit:\n",
    "    gen_units = list(nx.connected_component_subgraphs(bga_graph))\n",
    "\n",
    "    # Assign a unit_id to each subgraph, and extract edges into a dataframe\n",
    "    for unit_id, unit in zip(range(len(gen_units)), gen_units):\n",
    "        # All the boiler-generator association graphs should be bi-partite,\n",
    "        # meaning generators only connect to boilers, and boilers only\n",
    "        # connect to generators.\n",
    "        assert nx.algorithms.bipartite.is_bipartite(unit), \\\n",
    "            \"\"\"Non-bipartite generation unit graph found.\n",
    "plant_id_eia={}, unit_id_pudl={}.\"\"\".format(pid, unit_id)\n",
    "        nx.set_edge_attributes(\n",
    "            unit, name='unit_id_pudl', values=unit_id + 1)\n",
    "        new_unit_df = nx.to_pandas_edgelist(unit)\n",
    "        bga_w_units = bga_w_units.append(new_unit_df)\n",
    "        \n",
    "bga_w_units = bga_w_units.sort_values(['plant_id_eia', 'unit_id_pudl',\n",
    "                                       'generator_id', 'boiler_id'])\n",
    "bga_w_units = bga_w_units.drop(['source', 'target'], axis=1)"
   ]
  },
  {
   "cell_type": "code",
   "execution_count": null,
   "metadata": {},
   "outputs": [],
   "source": [
    "stage = bga_w_units\n",
    "stage[(stage['plant_id_eia'] == 3) & (stage['report_date'].dt.year == 2015)]"
   ]
  },
  {
   "cell_type": "code",
   "execution_count": null,
   "metadata": {},
   "outputs": [],
   "source": [
    "# Check whether the PUDL unit_id values we've inferred conflict with\n",
    "# the unit_code values that were reported to EIA. Are there any PUDL\n",
    "# unit_id values that have more than 1 EIA unit_code within them?\n",
    "bga_unit_code_counts = \\\n",
    "    bga_w_units.groupby(['plant_id_eia', 'unit_id_pudl'])['unit_code'].\\\n",
    "    nunique().to_frame().reset_index()\n",
    "bga_unit_code_counts = bga_unit_code_counts.rename(\n",
    "    columns={'unit_code': 'unit_code_count'})\n",
    "bga_unit_code_counts = pd.merge(bga_w_units, bga_unit_code_counts,\n",
    "                                on=['plant_id_eia', 'unit_id_pudl'])\n",
    "too_many_codes = \\\n",
    "    bga_unit_code_counts[bga_unit_code_counts.unit_code_count > 1]\n",
    "too_many_codes = \\\n",
    "    too_many_codes[~too_many_codes.unit_code.isnull()].\\\n",
    "    groupby(['plant_id_eia', 'unit_id_pudl'])['unit_code'].unique()\n",
    "print('WARNING: multiple EIA unit codes found in these PUDL units:')\n",
    "print(too_many_codes)\n",
    "bga_w_units = bga_w_units.drop('unit_code', axis=1)\n",
    "\n",
    "# These assertions test that all boilers and generators ended up in the\n",
    "# same unit_id across all the years of reporting:\n",
    "assert (bga_w_units.groupby(\n",
    "    ['plant_id_eia', 'generator_id'])['unit_id_pudl'].nunique() == 1).all()\n",
    "assert (bga_w_units.groupby(\n",
    "    ['plant_id_eia', 'boiler_id'])['unit_id_pudl'].nunique() == 1).all()\n",
    "bga_w_units = bga_w_units.drop('report_date', axis=1)\n",
    "bga_w_units = bga_w_units[['plant_id_eia', 'unit_id_pudl',\n",
    "                           'generator_id', 'boiler_id']].drop_duplicates()\n",
    "bga_out = pd.merge(bga_out, bga_w_units, how='left',\n",
    "                   on=['plant_id_eia', 'generator_id', 'boiler_id'])\n",
    "bga_out['unit_id_pudl'] = \\\n",
    "    bga_out['unit_id_pudl'].fillna(value=0).astype(int)"
   ]
  },
  {
   "cell_type": "code",
   "execution_count": null,
   "metadata": {},
   "outputs": [],
   "source": [
    "statge = bga_out\n",
    "stage[(stage['plant_id_eia'] == 3) & (stage['report_date'].dt.year == 2015)]"
   ]
  },
  {
   "cell_type": "code",
   "execution_count": null,
   "metadata": {},
   "outputs": [],
   "source": [
    "if not debug:\n",
    "    bga_out = bga_out[~bga_out.missing_from_923 &\n",
    "                      ~bga_out.plant_w_bad_generator &\n",
    "                      ~bga_out.unmapped_but_in_923 &\n",
    "                      ~bga_out.unmapped]\n",
    "\n",
    "    bga_out = bga_out.drop(['missing_from_923',\n",
    "                            'plant_w_bad_generator',\n",
    "                            'unmapped_but_in_923',\n",
    "                            'unmapped'], axis=1)\n",
    "    bga_out = bga_out.drop_duplicates(subset=['report_date',\n",
    "                                              'plant_id_eia',\n",
    "                                              'boiler_id',\n",
    "                                              'generator_id'])\n"
   ]
  },
  {
   "cell_type": "code",
   "execution_count": null,
   "metadata": {
    "scrolled": false
   },
   "outputs": [],
   "source": [
    "statge = bga_out\n",
    "stage[(stage['plant_id_eia'] == 3) & (stage['report_date'].dt.year == 2015)]"
   ]
  },
  {
   "cell_type": "markdown",
   "metadata": {},
   "source": [
    "### Barry's Unit Network"
   ]
  },
  {
   "cell_type": "markdown",
   "metadata": {},
   "source": [
    "This is an exploration of the network analysis so we can extract the\n",
    "visualization of the mappings for Barry."
   ]
  },
  {
   "cell_type": "code",
   "execution_count": null,
   "metadata": {},
   "outputs": [],
   "source": [
    "# For showing the network graph for Barry\n",
    "bga_byplant = bga_for_nx[bga_for_nx.plant_id_eia == 3].copy()\n",
    "\n",
    "# Create a graph from the dataframe of boilers and generators. It's a\n",
    "# multi-graph, meaning the same nodes can be connected by more than one\n",
    "# edge -- this allows us to preserve multiple years worth of boiler\n",
    "# generator association information for later inspection if need be:\n",
    "bga_graph = nx.from_pandas_edgelist(bga_byplant,\n",
    "                                    source='generators',\n",
    "                                    target='boilers',\n",
    "                                    edge_attr=True,\n",
    "                                    create_using=nx.MultiGraph())\n",
    "\n",
    "# Each connected sub-graph is a generation unit:\n",
    "gen_units = list(nx.connected_component_subgraphs(bga_graph))\n",
    "\n",
    "# Assign a unit_id to each subgraph, and extract edges into a dataframe\n",
    "for unit_id, unit in zip(range(len(gen_units)), gen_units):\n",
    "    # All the boiler-generator association graphs should be bi-partite,\n",
    "    # meaning generators only connect to boilers, and boilers only\n",
    "    # connect to generators.\n",
    "    assert nx.algorithms.bipartite.is_bipartite(unit), \\\n",
    "        \"\"\"Non-bipartite generation unit graph found.\n",
    "plant_id_eia={}, unit_id_pudl={}.\"\"\".format(pid, unit_id)\n",
    "    nx.set_edge_attributes(\n",
    "        unit, name='unit_id_pudl', values=unit_id + 1)\n",
    "    new_unit_df = nx.to_pandas_edgelist(unit)\n",
    "    bga_w_units = bga_w_units.append(new_unit_df)\n",
    "nx.draw(bga_graph, nodecolor='r',edge_color='b')"
   ]
  },
  {
   "cell_type": "markdown",
   "metadata": {},
   "source": [
    "## Heat Rate Exploration"
   ]
  },
  {
   "cell_type": "markdown",
   "metadata": {},
   "source": [
    "After much mashinations we landed on a relatively completely set of mappings between boilers and generators. In retrospect this all seems relatively simple, but the trouble was figuring out what how to cobble together the correct solutions. In the end, the heat rate for combined-cycles is only particularly useful after 2014 because that is when the EIA required reporting from both portions of the combined-cycle plants in the boiler fuel table in EIA 923. Nonetheless, going forward, we now have cleanly mapped generating units."
   ]
  },
  {
   "cell_type": "code",
   "execution_count": null,
   "metadata": {},
   "outputs": [],
   "source": [
    "pudl_out = pudl.output.pudltabl.PudlTabl(freq='MS')"
   ]
  },
  {
   "cell_type": "code",
   "execution_count": null,
   "metadata": {},
   "outputs": [],
   "source": [
    "mcoe = pudl_out.mcoe()"
   ]
  },
  {
   "cell_type": "code",
   "execution_count": null,
   "metadata": {},
   "outputs": [],
   "source": [
    "import matplotlib.pyplot as plt\n",
    "import matplotlib as mpl\n",
    "plt.style.use('ggplot')\n",
    "mpl.rcParams['figure.figsize'] = (10,6)\n",
    "mpl.rcParams['figure.dpi'] = 150\n",
    "pd.options.display.max_columns = 56"
   ]
  },
  {
   "cell_type": "code",
   "execution_count": null,
   "metadata": {},
   "outputs": [],
   "source": [
    "plt.hist(mcoe[(mcoe['energy_source_1'] == 'NG') & (mcoe['report_date'].dt.year == 2015)].heat_rate_mmbtu_mwh, range=[0,20],bins=100, alpha=0.5,label='2015')\n",
    "plt.hist(mcoe[(mcoe['energy_source_1'] == 'NG') & (mcoe['report_date'].dt.year == 2014)].heat_rate_mmbtu_mwh, range=[0,20],bins=100, alpha=0.5,label='2014')\n",
    "plt.xlabel('MMBTU per kWh')\n",
    "plt.ylabel(\"\")\n",
    "plt.legend()\n",
    "plt.title(\"Heat Rate\")\n",
    "plt.show()"
   ]
  }
 ],
 "metadata": {
  "kernelspec": {
   "display_name": "Python 3",
   "language": "python",
   "name": "python3"
  },
  "language_info": {
   "codemirror_mode": {
    "name": "ipython",
    "version": 3
   },
   "file_extension": ".py",
   "mimetype": "text/x-python",
   "name": "python",
   "nbconvert_exporter": "python",
   "pygments_lexer": "ipython3",
   "version": "3.6.5"
  }
 },
 "nbformat": 4,
 "nbformat_minor": 2
}
