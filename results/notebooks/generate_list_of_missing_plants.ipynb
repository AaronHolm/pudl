{
 "cells": [
  {
   "cell_type": "code",
   "execution_count": 19,
   "metadata": {
    "collapsed": true
   },
   "outputs": [],
   "source": [
    "### Find Missing Plants"
   ]
  },
  {
   "cell_type": "code",
   "execution_count": 1,
   "metadata": {
    "collapsed": true
   },
   "outputs": [],
   "source": [
    "import sys\n",
    "sys.path.append('/Users/zaneselvans/code/catalyst/pudl')\n",
    "sys.path.append('/Users/christinagosnell/code/pudl')\n",
    "sys.path.append('/Users/Nannerz/Desktop/working/pudl/')\n",
    "from pudl import ferc1, pudl, models, models_ferc1, settings, constants, eia923, models_eia923\n",
    "from pudl.eia923 import get_eia923_page\n",
    "from pudl.eia923 import get_eia923_xlsx, get_eia923_column_map\n",
    "from pudl.eia923 import get_eia923_plant_info\n",
    "from pudl.pudl import *\n",
    "from pudl.constants import tab_map_eia923\n",
    "import numpy as np\n",
    "import pandas as pd\n",
    "from pandas import DataFrame\n",
    "import csv\n",
    "import sqlalchemy as sa\n",
    "from sqlalchemy import create_engine\n",
    "from sqlalchemy.sql import select\n",
    "from sqlalchemy import Integer, String, Numeric, Boolean, Float"
   ]
  },
  {
   "cell_type": "code",
   "execution_count": 2,
   "metadata": {
    "collapsed": true
   },
   "outputs": [],
   "source": [
    "%load_ext autoreload\n",
    "%autoreload 1\n",
    "%aimport pudl.pudl\n",
    "%aimport pudl.ferc1\n",
    "%aimport pudl.eia923\n",
    "%aimport pudl.constants\n",
    "%aimport pudl.settings\n",
    "%aimport pudl.models\n",
    "%aimport pudl.models_eia923"
   ]
  },
  {
   "cell_type": "code",
   "execution_count": 3,
   "metadata": {
    "collapsed": true
   },
   "outputs": [],
   "source": [
    "eia923_years=[2009, 2010, 2011, 2012, 2013, 2014, 2015, 2016]"
   ]
  },
  {
   "cell_type": "code",
   "execution_count": 4,
   "metadata": {
    "collapsed": false
   },
   "outputs": [
    {
     "name": "stdout",
     "output_type": "stream",
     "text": [
      "Reading EIA 923 spreadsheet data for 2009.\n",
      "Reading EIA 923 spreadsheet data for 2010.\n",
      "Reading EIA 923 spreadsheet data for 2011.\n",
      "Reading EIA 923 spreadsheet data for 2012.\n",
      "Reading EIA 923 spreadsheet data for 2013.\n",
      "Reading EIA 923 spreadsheet data for 2014.\n",
      "Reading EIA 923 spreadsheet data for 2015.\n",
      "Reading EIA 923 spreadsheet data for 2016.\n"
     ]
    }
   ],
   "source": [
    "eia923_xlsx = get_eia923_xlsx(eia923_years)"
   ]
  },
  {
   "cell_type": "code",
   "execution_count": 5,
   "metadata": {
    "collapsed": false
   },
   "outputs": [
    {
     "name": "stdout",
     "output_type": "stream",
     "text": [
      "Converting EIA 923 plant_frame to DataFrame...\n",
      "Converting EIA 923 generation_fuel to DataFrame...\n",
      "Converting EIA 923 boiler_fuel to DataFrame...\n",
      "Converting EIA 923 generator to DataFrame...\n",
      "Converting EIA 923 fuel_receipts_costs to DataFrame...\n"
     ]
    }
   ],
   "source": [
    "eia923_plants = get_eia923_plant_info(eia923_years, eia923_xlsx)\n",
    "eia923_plant_ids = eia923_plants[['plant_id',]]"
   ]
  },
  {
   "cell_type": "code",
   "execution_count": 9,
   "metadata": {
    "collapsed": false
   },
   "outputs": [],
   "source": [
    "output_tab_plants = pd.read_excel('../id_mapping/mapping_eia923_ferc1.xlsx', 'plants_output', na_values='', keep_default_na=False,\n",
    "                              converters={'plant_id': int,\n",
    "                                          'plant_name': str,\n",
    "                                          'respondent_id_ferc1': int,\n",
    "                                          'respondent_name_ferc1': str,\n",
    "                                          'plant_name_ferc1': str,\n",
    "                                          'plant_id_eia923': int,\n",
    "                                          'plant_name_eia923': str,\n",
    "                                          'operator_name_eia923': str,\n",
    "                                          'operator_id_eia923': int})\n",
    "output_plant_ids = output_tab_plants[['plant_id_eia923']]\n",
    "output_plant_ids = output_plant_ids.dropna()"
   ]
  },
  {
   "cell_type": "code",
   "execution_count": 18,
   "metadata": {
    "collapsed": false
   },
   "outputs": [],
   "source": [
    "eia923_plant_ids_tuple = set([ tuple(line) for line in eia923_plant_ids.values.tolist()])\n",
    "output_plant_ids_tuple = set([ tuple(line) for line in output_plant_ids.values.tolist()])\n",
    "missing_plant_ids = pd.DataFrame(list(eia923_plant_ids_tuple.difference(output_plant_ids_tuple)))\n",
    "missing_plant_ids = missing_plant_ids.rename(columns={0: 'plant_id',})"
   ]
  },
  {
   "cell_type": "code",
   "execution_count": 12,
   "metadata": {
    "collapsed": true
   },
   "outputs": [],
   "source": [
    "missing_plants = missing_plant_ids.merge(eia923_plants[['plant_id','plant_name','operator_name','operator_id']],  on='plant_id', how='left')"
   ]
  },
  {
   "cell_type": "code",
   "execution_count": 17,
   "metadata": {
    "collapsed": false
   },
   "outputs": [],
   "source": [
    "missing_plants.to_csv('../id_mapping/missing_plants.csv', index=False)"
   ]
  }
 ],
 "metadata": {
  "kernelspec": {
   "display_name": "Python 3",
   "language": "python",
   "name": "python3"
  },
  "language_info": {
   "codemirror_mode": {
    "name": "ipython",
    "version": 3
   },
   "file_extension": ".py",
   "mimetype": "text/x-python",
   "name": "python",
   "nbconvert_exporter": "python",
   "pygments_lexer": "ipython3",
   "version": "3.6.0"
  }
 },
 "nbformat": 4,
 "nbformat_minor": 2
}
