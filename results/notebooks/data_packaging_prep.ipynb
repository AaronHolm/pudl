{
 "cells": [
  {
   "cell_type": "code",
   "execution_count": 4,
   "metadata": {},
   "outputs": [
    {
     "name": "stdout",
     "output_type": "stream",
     "text": [
      "The autoreload extension is already loaded. To reload it, use:\n",
      "  %reload_ext autoreload\n"
     ]
    }
   ],
   "source": [
    "%load_ext autoreload\n",
    "%autoreload 2\n",
    "%matplotlib inline\n",
    "import pandas as pd\n",
    "import numpy as np\n",
    "import sys\n",
    "import os\n",
    "import io\n",
    "import shutil\n",
    "import pathlib\n",
    "import importlib\n",
    "import json\n",
    "\n",
    "from datapackage import Package\n",
    "from tableschema import exceptions\n",
    "\n",
    "import pudl\n",
    "from pudl import constants as pc\n",
    "import logging\n",
    "import yaml"
   ]
  },
  {
   "cell_type": "code",
   "execution_count": 2,
   "metadata": {},
   "outputs": [],
   "source": [
    "import uuid\n",
    "import itertools\n",
    "import datetime\n",
    "import re\n",
    "from sqlalchemy.engine import reflection"
   ]
  },
  {
   "cell_type": "code",
   "execution_count": 5,
   "metadata": {},
   "outputs": [],
   "source": [
    "pudl_settings = pudl.workspace.setup.get_defaults()"
   ]
  },
  {
   "cell_type": "code",
   "execution_count": 6,
   "metadata": {},
   "outputs": [],
   "source": [
    "logger = logging.getLogger()\n",
    "logger.setLevel(logging.INFO)\n",
    "handler = logging.StreamHandler(stream=sys.stdout)\n",
    "formatter = logging.Formatter('%(message)s')\n",
    "handler.setFormatter(formatter)\n",
    "logger.handlers = [handler]"
   ]
  },
  {
   "cell_type": "code",
   "execution_count": null,
   "metadata": {},
   "outputs": [],
   "source": [
    "pudl_engine = init.connect_db(testing=False)\n",
    "insp = reflection.Inspector.from_engine(pudl_engine)\n",
    "# extract the table names\n",
    "tbls = insp.get_table_names()\n",
    "# extract only the ferc tables\n",
    "ferc_tbls = [s for s in tbls if \"ferc\" in s]"
   ]
  },
  {
   "cell_type": "markdown",
   "metadata": {},
   "source": [
    "If you want to generate the package for just ferc as an example, you can use the commented out ferc options below."
   ]
  },
  {
   "cell_type": "code",
   "execution_count": null,
   "metadata": {},
   "outputs": [],
   "source": [
    "name = \"pudl-test\"\n",
    "title = \"All tables integrated into PUDL.\"\n",
    "tbls = tbls\n",
    "\n",
    "#name = \"pudl-ferc1\"\n",
    "#title =  \"FERC Form 1 tables integrated into PUDL.\"\n",
    "#tbls = ferc_tbls"
   ]
  },
  {
   "cell_type": "code",
   "execution_count": null,
   "metadata": {},
   "outputs": [],
   "source": [
    "# we need this as the main info regarding this iteration of packaging\n",
    "pkg_skeleton = {\n",
    "    \"name\": name,\n",
    "    \"title\": title,\n",
    "    \"description\": \"A full metadat description of all PUDL tables.\",\n",
    "    \"keywords\": [\n",
    "        \"ferc\",\n",
    "        \"form 1\",\n",
    "        \"energy\",\n",
    "        \"electricity\",\n",
    "        \"utility\",\n",
    "        \"fuel\",\n",
    "        \"expenses\",\n",
    "        \"coal\",\n",
    "        \"natural gas\",\n",
    "        \"generation\",\n",
    "        \"regulation\"\n",
    "    ]\n",
    "}"
   ]
  },
  {
   "cell_type": "markdown",
   "metadata": {},
   "source": [
    "this will generate metadata and csv's for every table in pudl. they will live in `results/data_pkgs`"
   ]
  },
  {
   "cell_type": "code",
   "execution_count": null,
   "metadata": {},
   "outputs": [],
   "source": [
    "pkg = pudl.output.export.data_package(tbls,\n",
    "                                      pkg_skeleton,\n",
    "                                      pudl_settings, \n",
    "                                      dry_run=True)"
   ]
  },
  {
   "cell_type": "markdown",
   "metadata": {},
   "source": [
    "the following cells generate data data packages based on the metadata"
   ]
  },
  {
   "cell_type": "code",
   "execution_count": null,
   "metadata": {},
   "outputs": [],
   "source": [
    "pudl_settings = pudl.settings.init()"
   ]
  },
  {
   "cell_type": "code",
   "execution_count": null,
   "metadata": {},
   "outputs": [],
   "source": [
    "pkg_bundle_settings = pudl.settings.grab_package_settings(pudl_settings, 'settings_datapackage_default.yml')"
   ]
  },
  {
   "cell_type": "code",
   "execution_count": null,
   "metadata": {},
   "outputs": [],
   "source": [
    "metas = pudl.etl_pkg_pkg.generate_data_packages(pkg_bundle_settings, pudl_settings, debug=True)"
   ]
  },
  {
   "cell_type": "markdown",
   "metadata": {},
   "source": [
    "flatten the data packages and generate a sqlite db"
   ]
  },
  {
   "cell_type": "code",
   "execution_count": 7,
   "metadata": {},
   "outputs": [
    {
     "name": "stdout",
     "output_type": "stream",
     "text": [
      "checking for matching etl parameters across datapackages\n",
      "Validating the datapackage..\n",
      "Congrats! You made a validated a datapackage.\n"
     ]
    }
   ],
   "source": [
    "report = pudl.convert.flatten_datapkgs.flatten_pudl_datapackages(pudl_settings,'pudl_bigish')"
   ]
  },
  {
   "cell_type": "code",
   "execution_count": 8,
   "metadata": {
    "scrolled": true
   },
   "outputs": [
    {
     "name": "stdout",
     "output_type": "stream",
     "text": [
      "Exporting the data package to sql\n"
     ]
    }
   ],
   "source": [
    "pudl.convert.datapkg_to_sqlite.pkg_to_sqlite_db(pudl_settings,'pudl_bigish')"
   ]
  },
  {
   "cell_type": "markdown",
   "metadata": {},
   "source": [
    "check whether or not there are foreign keys.."
   ]
  },
  {
   "cell_type": "code",
   "execution_count": null,
   "metadata": {},
   "outputs": [],
   "source": [
    "pudl_lite_engine = pudl.output.export.connect_db(pudl_settings)\n",
    "insp = reflection.Inspector.from_engine(pudl_lite_engine)\n",
    "insp.get_foreign_keys('plants_ferc')"
   ]
  },
  {
   "cell_type": "markdown",
   "metadata": {},
   "source": [
    "- the main coordinating function is pudl.output.export.generate_data_packages()\n",
    "    - uses settings:\n",
    "        -yml file (ex: ‘settings_init_pudl_package.yml’) and settings.py\n",
    "    - validates settings using `pudl.ETL_pkg._input_validate`... this spits out a new, validated list of package settings\n",
    "    - then for each of the of the packages definied in settings, run the ETL_pkg function which runs a data source specific function for each dataset. The ETL_pgk function needs the settings/inputs. In a stand-alone version of this function these can be validated settings or non-validated settings. The settings will get re-validated immediately inside of the data source specific ETL function. These ETL functions generate CSVs in the out_dir/(package name)/data folder.\n",
    "    - an output of the ETL_pkg function is a list of tables being generated. this list is piped through to a `test_file_consistency` function, which ensures the ETL tables, the CSVs and dependencies from the metadata\n",
    "    - then the `generate_metadata` function is run. at a high level, this generates and validates the `datapackage.json` file and runs `goodtables.validate`."
   ]
  }
 ],
 "metadata": {
  "kernelspec": {
   "display_name": "Python 3",
   "language": "python",
   "name": "python3"
  },
  "language_info": {
   "codemirror_mode": {
    "name": "ipython",
    "version": 3
   },
   "file_extension": ".py",
   "mimetype": "text/x-python",
   "name": "python",
   "nbconvert_exporter": "python",
   "pygments_lexer": "ipython3",
   "version": "3.7.3"
  }
 },
 "nbformat": 4,
 "nbformat_minor": 4
}
