{
 "cells": [
  {
   "cell_type": "code",
   "execution_count": 1,
   "metadata": {},
   "outputs": [],
   "source": [
    "%load_ext autoreload\n",
    "%autoreload 2\n",
    "%matplotlib inline\n",
    "import pandas as pd\n",
    "import numpy as np\n",
    "import sys\n",
    "import os\n",
    "import io\n",
    "import shutil\n",
    "\n",
    "import pudl\n",
    "import pudl.glue.ferc1_eia\n",
    "from pudl import init\n",
    "from pudl import constants as pc\n",
    "import tableschema\n",
    "import hashlib\n",
    "import datapackage\n",
    "import json\n",
    "import logging\n",
    "from tableschema import Table\n",
    "from tableschema import Schema\n",
    "import datetime\n",
    "import goodtables"
   ]
  },
  {
   "cell_type": "code",
   "execution_count": null,
   "metadata": {},
   "outputs": [],
   "source": [
    "from pudl import ETL_pkg\n",
    "from pudl.ETL_pkg import ETL_pkg, _input_validate\n",
    "from pudl.ETL_pkg import _ETL_eia_pkg, _ETL_ferc1_pkg, _ETL_glue"
   ]
  },
  {
   "cell_type": "code",
   "execution_count": 8,
   "metadata": {},
   "outputs": [],
   "source": [
    "pudl_settings = pudl.settings.init()"
   ]
  },
  {
   "cell_type": "code",
   "execution_count": 16,
   "metadata": {},
   "outputs": [],
   "source": [
    "logger = logging.getLogger()\n",
    "logger.setLevel(logging.INFO)\n",
    "handler = logging.StreamHandler(stream=sys.stdout)\n",
    "formatter = logging.Formatter('%(message)s')\n",
    "handler.setFormatter(formatter)\n",
    "logger.handlers = [handler]"
   ]
  },
  {
   "cell_type": "code",
   "execution_count": 4,
   "metadata": {},
   "outputs": [],
   "source": [
    "from sqlalchemy.engine import reflection\n",
    "pudl_engine = init.connect_db(testing=False)\n",
    "insp = reflection.Inspector.from_engine(pudl_engine)\n",
    "# extract the table names\n",
    "tbls = insp.get_table_names()\n",
    "# extract only the ferc tables\n",
    "ferc_tbls = [s for s in tbls if \"ferc\" in s]"
   ]
  },
  {
   "cell_type": "markdown",
   "metadata": {},
   "source": [
    "If you want to generate the package for just ferc as an example, you can use the commented out ferc options below."
   ]
  },
  {
   "cell_type": "code",
   "execution_count": 5,
   "metadata": {},
   "outputs": [],
   "source": [
    "name = \"pudl-test\"\n",
    "title = \"All tables integrated into PUDL.\"\n",
    "tbls = tbls\n",
    "\n",
    "#name = \"pudl-ferc1\"\n",
    "#title =  \"FERC Form 1 tables integrated into PUDL.\"\n",
    "#tbls = ferc_tbls"
   ]
  },
  {
   "cell_type": "code",
   "execution_count": null,
   "metadata": {},
   "outputs": [],
   "source": [
    "#tbls.remove('hourly_emissions_epacems')"
   ]
  },
  {
   "cell_type": "code",
   "execution_count": 6,
   "metadata": {},
   "outputs": [],
   "source": [
    "# we need this as the main info regarding this iteration of packaging\n",
    "pkg_skeleton = {\n",
    "    \"name\": name,\n",
    "    \"title\": title,\n",
    "    \"description\": \"A full metadat description of all PUDL tables.\",\n",
    "    \"keywords\": [\n",
    "        \"ferc\",\n",
    "        \"form 1\",\n",
    "        \"energy\",\n",
    "        \"electricity\",\n",
    "        \"utility\",\n",
    "        \"fuel\",\n",
    "        \"expenses\",\n",
    "        \"coal\",\n",
    "        \"natural gas\",\n",
    "        \"generation\",\n",
    "        \"regulation\"\n",
    "    ]\n",
    "}"
   ]
  },
  {
   "cell_type": "markdown",
   "metadata": {},
   "source": [
    "this will generate metadata and csv's for every table in pudl. they will live in `results/data_pkgs`"
   ]
  },
  {
   "cell_type": "code",
   "execution_count": 11,
   "metadata": {},
   "outputs": [
    {
     "data": {
      "text/plain": [
       "{'pudl_in': '/Users/christinagosnell/code/pudl',\n",
       " 'pudl_out': '/Users/christinagosnell/code/pudl/results',\n",
       " 'data_dir': '/Users/christinagosnell/code/pudl/data',\n",
       " 'settings_dir': '/Users/christinagosnell/code/pudl/settings',\n",
       " 'notebook_dir': '/Users/christinagosnell/code/pudl/results/notebooks',\n",
       " 'sqlite_dir': '/Users/christinagosnell/code/pudl/results/sqlite',\n",
       " 'parquet_dir': '/Users/christinagosnell/code/pudl/results/parquet',\n",
       " 'datapackage_dir': '/Users/christinagosnell/code/pudl/results/datapackage',\n",
       " 'db_pudl': {'drivername': 'postgresql',\n",
       "  'host': '127.0.0.1',\n",
       "  'username': 'catalyst',\n",
       "  'database': 'pudl'},\n",
       " 'db_pudl_test': {'drivername': 'postgresql',\n",
       "  'host': '127.0.0.1',\n",
       "  'username': 'catalyst',\n",
       "  'database': 'pudl_test'},\n",
       " 'ferc1_sqlite_url': 'sqlite:////Users/christinagosnell/code/pudl/results/sqlite/ferc1.sqlite',\n",
       " 'ferc1_test_sqlite_url': 'sqlite:////Users/christinagosnell/code/pudl/results/sqlite/ferc1_test.sqlite'}"
      ]
     },
     "execution_count": 11,
     "metadata": {},
     "output_type": "execute_result"
    }
   ],
   "source": [
    "pudl_settings"
   ]
  },
  {
   "cell_type": "code",
   "execution_count": 22,
   "metadata": {},
   "outputs": [
    {
     "name": "stdout",
     "output_type": "stream",
     "text": [
      "Finding dependent tables for plants_ferc\n",
      "Finding dependent tables for utilities_ferc\n",
      "Finding dependent tables for utilities\n",
      "Finding dependent tables for plants\n",
      "Finding dependent tables for plants_ferc\n",
      "Finding dependent tables for utilities_ferc\n",
      "Finding dependent tables for utilities\n",
      "Finding dependent tables for plants\n",
      "Finding dependent tables for utilities_ferc\n",
      "Finding dependent tables for utilities\n",
      "Finding dependent tables for plants\n",
      "Finding dependent tables for plants_ferc\n",
      "Finding dependent tables for utilities_ferc\n",
      "Finding dependent tables for utilities\n",
      "Finding dependent tables for plants\n",
      "Finding dependent tables for plants\n",
      "Finding dependent tables for plants_entity_eia\n",
      "Finding dependent tables for plants_entity_eia\n",
      "Finding dependent tables for utilities\n",
      "Finding dependent tables for utilities_entity_eia\n",
      "Finding dependent tables for utilities\n",
      "Finding dependent tables for plants\n",
      "Finding dependent tables for utilities\n",
      "Finding dependent tables for plants_entity_eia\n",
      "Finding dependent tables for regions_entity_ipm\n",
      "Finding dependent tables for plants_entity_eia\n",
      "Finding dependent tables for transport_modes_eia923\n",
      "Finding dependent tables for coalmine_eia923\n",
      "Finding dependent tables for energy_source_eia923\n",
      "Finding dependent tables for fuel_type_aer_eia923\n",
      "Finding dependent tables for fuel_type_eia923\n",
      "Finding dependent tables for plants_entity_eia\n",
      "Finding dependent tables for prime_movers_eia923\n",
      "Finding dependent tables for fuel_type_eia923\n",
      "Finding dependent tables for regions_entity_ipm\n",
      "Finding dependent tables for regions_entity_ipm\n",
      "Finding dependent tables for regions_entity_ipm\n",
      "Finding dependent tables for plants_ferc\n",
      "Finding dependent tables for utilities_ferc\n",
      "Finding dependent tables for utilities\n",
      "Finding dependent tables for plants\n",
      "Finding dependent tables for utilities_entity_eia\n",
      "Finding dependent tables for generators_entity_eia\n",
      "Finding dependent tables for plants_entity_eia\n",
      "Finding dependent tables for generators_entity_eia\n",
      "Finding dependent tables for plants_entity_eia\n",
      "Finding dependent tables for generators_entity_eia\n",
      "Finding dependent tables for plants_entity_eia\n",
      "Finding dependent tables for ferc_depreciation_lines\n",
      "Finding dependent tables for utilities_ferc\n",
      "Finding dependent tables for utilities\n",
      "Finding dependent tables for generators_entity_eia\n",
      "Finding dependent tables for plants_entity_eia\n",
      "Finding dependent tables for ferc_accounts\n",
      "Finding dependent tables for utilities_ferc\n",
      "Finding dependent tables for utilities\n",
      "Finding dependent tables for plants_ferc\n",
      "Finding dependent tables for utilities_ferc\n",
      "Finding dependent tables for utilities\n",
      "Finding dependent tables for plants\n",
      "Skipping export of fuel_ferc1 to /Users/christinagosnell/code/pudl/package_data/meta/datapackage/pudl-test/data/fuel_ferc1.csv\n",
      "Skipping export of load_curves_ipm to /Users/christinagosnell/code/pudl/package_data/meta/datapackage/pudl-test/data/load_curves_ipm.csv\n",
      "Skipping export of plant_region_map_ipm to /Users/christinagosnell/code/pudl/package_data/meta/datapackage/pudl-test/data/plant_region_map_ipm.csv\n",
      "Skipping export of ferc_depreciation_lines to /Users/christinagosnell/code/pudl/package_data/meta/datapackage/pudl-test/data/ferc_depreciation_lines.csv\n",
      "Skipping export of utilities_eia to /Users/christinagosnell/code/pudl/package_data/meta/datapackage/pudl-test/data/utilities_eia.csv\n",
      "Skipping export of energy_source_eia923 to /Users/christinagosnell/code/pudl/package_data/meta/datapackage/pudl-test/data/energy_source_eia923.csv\n",
      "Skipping export of datasets to /Users/christinagosnell/code/pudl/package_data/meta/datapackage/pudl-test/data/datasets.csv\n",
      "Skipping export of fuel_type_eia923 to /Users/christinagosnell/code/pudl/package_data/meta/datapackage/pudl-test/data/fuel_type_eia923.csv\n",
      "Skipping export of utilities to /Users/christinagosnell/code/pudl/package_data/meta/datapackage/pudl-test/data/utilities.csv\n",
      "Skipping export of plants_ferc to /Users/christinagosnell/code/pudl/package_data/meta/datapackage/pudl-test/data/plants_ferc.csv\n",
      "Skipping export of generation_eia923 to /Users/christinagosnell/code/pudl/package_data/meta/datapackage/pudl-test/data/generation_eia923.csv\n",
      "Skipping export of utilities_entity_eia to /Users/christinagosnell/code/pudl/package_data/meta/datapackage/pudl-test/data/utilities_entity_eia.csv\n",
      "Skipping export of generators_entity_eia to /Users/christinagosnell/code/pudl/package_data/meta/datapackage/pudl-test/data/generators_entity_eia.csv\n",
      "Skipping export of regions_entity_ipm to /Users/christinagosnell/code/pudl/package_data/meta/datapackage/pudl-test/data/regions_entity_ipm.csv\n",
      "Skipping export of plants_hydro_ferc1 to /Users/christinagosnell/code/pudl/package_data/meta/datapackage/pudl-test/data/plants_hydro_ferc1.csv\n",
      "Skipping export of plant_in_service_ferc1 to /Users/christinagosnell/code/pudl/package_data/meta/datapackage/pudl-test/data/plant_in_service_ferc1.csv\n",
      "Skipping export of purchased_power_ferc1 to /Users/christinagosnell/code/pudl/package_data/meta/datapackage/pudl-test/data/purchased_power_ferc1.csv\n",
      "Skipping export of generators_eia860 to /Users/christinagosnell/code/pudl/package_data/meta/datapackage/pudl-test/data/generators_eia860.csv\n",
      "Skipping export of ownership_eia860 to /Users/christinagosnell/code/pudl/package_data/meta/datapackage/pudl-test/data/ownership_eia860.csv\n",
      "Skipping export of plants to /Users/christinagosnell/code/pudl/package_data/meta/datapackage/pudl-test/data/plants.csv\n",
      "Skipping export of fuel_type_aer_eia923 to /Users/christinagosnell/code/pudl/package_data/meta/datapackage/pudl-test/data/fuel_type_aer_eia923.csv\n",
      "Skipping export of accumulated_depreciation_ferc1 to /Users/christinagosnell/code/pudl/package_data/meta/datapackage/pudl-test/data/accumulated_depreciation_ferc1.csv\n",
      "Skipping export of prime_movers_eia923 to /Users/christinagosnell/code/pudl/package_data/meta/datapackage/pudl-test/data/prime_movers_eia923.csv\n",
      "Skipping export of fuel_receipts_costs_eia923 to /Users/christinagosnell/code/pudl/package_data/meta/datapackage/pudl-test/data/fuel_receipts_costs_eia923.csv\n",
      "Skipping export of utilities_ferc to /Users/christinagosnell/code/pudl/package_data/meta/datapackage/pudl-test/data/utilities_ferc.csv\n",
      "Skipping export of boiler_generator_assn_eia860 to /Users/christinagosnell/code/pudl/package_data/meta/datapackage/pudl-test/data/boiler_generator_assn_eia860.csv\n",
      "Skipping export of natural_gas_transport_eia923 to /Users/christinagosnell/code/pudl/package_data/meta/datapackage/pudl-test/data/natural_gas_transport_eia923.csv\n",
      "Skipping export of transport_modes_eia923 to /Users/christinagosnell/code/pudl/package_data/meta/datapackage/pudl-test/data/transport_modes_eia923.csv\n",
      "Skipping export of coalmine_eia923 to /Users/christinagosnell/code/pudl/package_data/meta/datapackage/pudl-test/data/coalmine_eia923.csv\n",
      "Skipping export of plants_eia to /Users/christinagosnell/code/pudl/package_data/meta/datapackage/pudl-test/data/plants_eia.csv\n",
      "Skipping export of ferc_accounts to /Users/christinagosnell/code/pudl/package_data/meta/datapackage/pudl-test/data/ferc_accounts.csv\n",
      "Skipping export of utility_plant_assn to /Users/christinagosnell/code/pudl/package_data/meta/datapackage/pudl-test/data/utility_plant_assn.csv\n",
      "Skipping export of plants_eia860 to /Users/christinagosnell/code/pudl/package_data/meta/datapackage/pudl-test/data/plants_eia860.csv\n",
      "Skipping export of generation_fuel_eia923 to /Users/christinagosnell/code/pudl/package_data/meta/datapackage/pudl-test/data/generation_fuel_eia923.csv\n",
      "Skipping export of plants_small_ferc1 to /Users/christinagosnell/code/pudl/package_data/meta/datapackage/pudl-test/data/plants_small_ferc1.csv\n",
      "Skipping export of plants_pumped_storage_ferc1 to /Users/christinagosnell/code/pudl/package_data/meta/datapackage/pudl-test/data/plants_pumped_storage_ferc1.csv\n",
      "Skipping export of boiler_fuel_eia923 to /Users/christinagosnell/code/pudl/package_data/meta/datapackage/pudl-test/data/boiler_fuel_eia923.csv\n",
      "Skipping export of hourly_emissions_epacems to /Users/christinagosnell/code/pudl/package_data/meta/datapackage/pudl-test/data/hourly_emissions_epacems.csv\n",
      "Skipping export of transmission_single_ipm to /Users/christinagosnell/code/pudl/package_data/meta/datapackage/pudl-test/data/transmission_single_ipm.csv\n"
     ]
    },
    {
     "name": "stdout",
     "output_type": "stream",
     "text": [
      "Skipping export of plants_steam_ferc1 to /Users/christinagosnell/code/pudl/package_data/meta/datapackage/pudl-test/data/plants_steam_ferc1.csv\n",
      "Skipping export of utilities_eia860 to /Users/christinagosnell/code/pudl/package_data/meta/datapackage/pudl-test/data/utilities_eia860.csv\n",
      "Skipping export of boilers_entity_eia to /Users/christinagosnell/code/pudl/package_data/meta/datapackage/pudl-test/data/boilers_entity_eia.csv\n",
      "Skipping export of plants_entity_eia to /Users/christinagosnell/code/pudl/package_data/meta/datapackage/pudl-test/data/plants_entity_eia.csv\n",
      "Skipping export of transmission_joint_ipm to /Users/christinagosnell/code/pudl/package_data/meta/datapackage/pudl-test/data/transmission_joint_ipm.csv\n",
      "Finding dependent tables for plants_ferc\n",
      "Finding dependent tables for utilities_ferc\n",
      "Finding dependent tables for utilities\n",
      "Finding dependent tables for plants\n",
      "Finding dependent tables for regions_entity_ipm\n",
      "Finding dependent tables for regions_entity_ipm\n",
      "Finding dependent tables for utilities\n",
      "Finding dependent tables for utilities_ferc\n",
      "Finding dependent tables for utilities\n",
      "Finding dependent tables for plants\n",
      "Finding dependent tables for generators_entity_eia\n",
      "Finding dependent tables for plants_entity_eia\n",
      "Finding dependent tables for plants_entity_eia\n",
      "Finding dependent tables for plants_ferc\n",
      "Finding dependent tables for utilities_ferc\n",
      "Finding dependent tables for utilities\n",
      "Finding dependent tables for plants\n",
      "Finding dependent tables for ferc_accounts\n",
      "Finding dependent tables for utilities_ferc\n",
      "Finding dependent tables for utilities\n",
      "Finding dependent tables for generators_entity_eia\n",
      "Finding dependent tables for plants_entity_eia\n",
      "Finding dependent tables for utilities_entity_eia\n",
      "Finding dependent tables for generators_entity_eia\n",
      "Finding dependent tables for plants_entity_eia\n",
      "Finding dependent tables for ferc_depreciation_lines\n",
      "Finding dependent tables for utilities_ferc\n",
      "Finding dependent tables for utilities\n",
      "Finding dependent tables for plants_entity_eia\n",
      "Finding dependent tables for transport_modes_eia923\n",
      "Finding dependent tables for coalmine_eia923\n",
      "Finding dependent tables for energy_source_eia923\n",
      "Finding dependent tables for utilities\n",
      "Finding dependent tables for generators_entity_eia\n",
      "Finding dependent tables for plants_entity_eia\n",
      "Finding dependent tables for plants\n",
      "Finding dependent tables for utilities\n",
      "Finding dependent tables for plants\n",
      "Finding dependent tables for plants_entity_eia\n",
      "Finding dependent tables for plants_entity_eia\n",
      "Finding dependent tables for fuel_type_eia923\n",
      "Finding dependent tables for fuel_type_aer_eia923\n",
      "Finding dependent tables for prime_movers_eia923\n",
      "Finding dependent tables for plants_ferc\n",
      "Finding dependent tables for utilities_ferc\n",
      "Finding dependent tables for utilities\n",
      "Finding dependent tables for plants\n",
      "Finding dependent tables for plants_ferc\n",
      "Finding dependent tables for utilities_ferc\n",
      "Finding dependent tables for utilities\n",
      "Finding dependent tables for plants\n",
      "Finding dependent tables for fuel_type_eia923\n",
      "Finding dependent tables for regions_entity_ipm\n",
      "Finding dependent tables for plants_ferc\n",
      "Finding dependent tables for utilities_ferc\n",
      "Finding dependent tables for utilities\n",
      "Finding dependent tables for plants\n",
      "Finding dependent tables for utilities_entity_eia\n",
      "Finding dependent tables for plants_entity_eia\n",
      "Finding dependent tables for regions_entity_ipm\n",
      "Finding dependent tables for plants_ferc\n",
      "Finding dependent tables for utilities_ferc\n",
      "Finding dependent tables for utilities\n",
      "Finding dependent tables for plants\n",
      "Finding dependent tables for regions_entity_ipm\n",
      "Finding dependent tables for regions_entity_ipm\n",
      "Finding dependent tables for utilities\n",
      "Finding dependent tables for utilities_ferc\n",
      "Finding dependent tables for utilities\n",
      "Finding dependent tables for plants\n",
      "Finding dependent tables for generators_entity_eia\n",
      "Finding dependent tables for plants_entity_eia\n",
      "Finding dependent tables for plants_entity_eia\n",
      "Finding dependent tables for plants_ferc\n",
      "Finding dependent tables for utilities_ferc\n",
      "Finding dependent tables for utilities\n",
      "Finding dependent tables for plants\n",
      "Finding dependent tables for ferc_accounts\n",
      "Finding dependent tables for utilities_ferc\n",
      "Finding dependent tables for utilities\n",
      "Finding dependent tables for generators_entity_eia\n",
      "Finding dependent tables for plants_entity_eia\n",
      "Finding dependent tables for utilities_entity_eia\n",
      "Finding dependent tables for generators_entity_eia\n",
      "Finding dependent tables for plants_entity_eia\n",
      "Finding dependent tables for ferc_depreciation_lines\n",
      "Finding dependent tables for utilities_ferc\n",
      "Finding dependent tables for utilities\n",
      "Finding dependent tables for plants_entity_eia\n",
      "Finding dependent tables for transport_modes_eia923\n",
      "Finding dependent tables for coalmine_eia923\n",
      "Finding dependent tables for energy_source_eia923\n",
      "Finding dependent tables for utilities\n",
      "Finding dependent tables for generators_entity_eia\n",
      "Finding dependent tables for plants_entity_eia\n",
      "Finding dependent tables for plants\n",
      "Finding dependent tables for utilities\n",
      "Finding dependent tables for plants\n",
      "Finding dependent tables for plants_entity_eia\n",
      "Finding dependent tables for fuel_type_aer_eia923\n",
      "Finding dependent tables for fuel_type_eia923\n",
      "Finding dependent tables for plants_entity_eia\n",
      "Finding dependent tables for prime_movers_eia923\n",
      "Finding dependent tables for plants_ferc\n",
      "Finding dependent tables for utilities_ferc\n",
      "Finding dependent tables for utilities\n",
      "Finding dependent tables for plants\n",
      "Finding dependent tables for plants_ferc\n",
      "Finding dependent tables for utilities_ferc\n",
      "Finding dependent tables for utilities\n",
      "Finding dependent tables for plants\n",
      "Finding dependent tables for fuel_type_eia923\n",
      "Finding dependent tables for regions_entity_ipm\n",
      "Finding dependent tables for plants_ferc\n",
      "Finding dependent tables for utilities_ferc\n",
      "Finding dependent tables for utilities\n",
      "Finding dependent tables for plants\n",
      "Finding dependent tables for utilities_entity_eia\n",
      "Finding dependent tables for plants_entity_eia\n",
      "Finding dependent tables for regions_entity_ipm\n"
     ]
    }
   ],
   "source": [
    "pkg = pudl.output.export.data_package(tbls,\n",
    "                                      pkg_skeleton,\n",
    "                                      pudl_settings, \n",
    "                                      dry_run=True)"
   ]
  },
  {
   "cell_type": "code",
   "execution_count": null,
   "metadata": {},
   "outputs": [],
   "source": [
    "out_dir = SETTINGS['out_dir']\n",
    "settings_init = pudl.settings.settings_init(settings_file='settings_init_pudl_package.yml')"
   ]
  },
  {
   "cell_type": "code",
   "execution_count": null,
   "metadata": {
    "scrolled": true
   },
   "outputs": [],
   "source": [
    "metas = pudl.output.export.generate_data_packages(settings_init, debug=True)"
   ]
  },
  {
   "cell_type": "markdown",
   "metadata": {},
   "source": [
    "- Cems_pkg\n",
    "    - data\n",
    "        - cems2017.csv.zip\n",
    "        - cems2016.csv.zip\n",
    "        - cems2015.csv.zip\n",
    "        (see \"Compression of Resources\": http://frictionlessdata.io/specs/patterns/)\n",
    "    - datapackage.json\n",
    "        which includes a list of paths in \"paths\" in the resource\n",
    "        (see \"Data in Multiple Files\": https://frictionlessdata.io/specs/data-resource/)\n",
    "\n",
    "\n",
    "I need to convert the ETL cems process to generate years of cems at a time and write it compressed."
   ]
  },
  {
   "cell_type": "code",
   "execution_count": 2,
   "metadata": {},
   "outputs": [
    {
     "ename": "AttributeError",
     "evalue": "module 'pudl.package_data' has no attribute 'settings'",
     "output_type": "error",
     "traceback": [
      "\u001b[0;31m---------------------------------------------------------------------------\u001b[0m",
      "\u001b[0;31mAttributeError\u001b[0m                            Traceback (most recent call last)",
      "\u001b[0;32m<ipython-input-2-5693cc09e254>\u001b[0m in \u001b[0;36m<module>\u001b[0;34m\u001b[0m\n\u001b[0;32m----> 1\u001b[0;31m \u001b[0mpkg_settings\u001b[0m \u001b[0;34m=\u001b[0m \u001b[0mpudl\u001b[0m\u001b[0;34m.\u001b[0m\u001b[0mpackage_data\u001b[0m\u001b[0;34m.\u001b[0m\u001b[0msettings\u001b[0m\u001b[0;34m.\u001b[0m\u001b[0msettings_init\u001b[0m\u001b[0;34m(\u001b[0m\u001b[0mos\u001b[0m\u001b[0;34m.\u001b[0m\u001b[0mpath\u001b[0m\u001b[0;34m.\u001b[0m\u001b[0mjoin\u001b[0m\u001b[0;34m(\u001b[0m\u001b[0mpudl_settings\u001b[0m\u001b[0;34m[\u001b[0m\u001b[0;34m'pudl_in'\u001b[0m\u001b[0;34m]\u001b[0m\u001b[0;34m,\u001b[0m\u001b[0;34m'scripts'\u001b[0m\u001b[0;34m,\u001b[0m\u001b[0;34m'settings_init_pudl_package.yml'\u001b[0m\u001b[0;34m)\u001b[0m\u001b[0;34m)\u001b[0m\u001b[0;34m\u001b[0m\u001b[0;34m\u001b[0m\u001b[0m\n\u001b[0m",
      "\u001b[0;31mAttributeError\u001b[0m: module 'pudl.package_data' has no attribute 'settings'"
     ]
    }
   ],
   "source": [
    "pkg_settings = pudl.package_data.settings.settings_init(os.path.join(pudl_settings['pudl_in'],'scripts','settings_init_pudl_package.yml'))"
   ]
  },
  {
   "cell_type": "code",
   "execution_count": null,
   "metadata": {},
   "outputs": [],
   "source": [
    "metas = pudl.output.export.generate_data_packages(pkg_settings, pudl_settings, debug=True)"
   ]
  },
  {
   "cell_type": "code",
   "execution_count": null,
   "metadata": {},
   "outputs": [],
   "source": [
    "#ferc_vali = metas['ferc1_pkg'][1]\n",
    "#ferc_meta = metas['ferc1-pkg'][0]\n",
    "#eia_vali = metas['eia_pkg']\n",
    "cems_vali = metas['epacems_eia860_pkg']"
   ]
  },
  {
   "cell_type": "code",
   "execution_count": null,
   "metadata": {},
   "outputs": [],
   "source": [
    "cems_vali[1]"
   ]
  },
  {
   "cell_type": "code",
   "execution_count": null,
   "metadata": {},
   "outputs": [],
   "source": [
    "glue_vali = metas['glue_pkg']"
   ]
  },
  {
   "cell_type": "code",
   "execution_count": null,
   "metadata": {},
   "outputs": [],
   "source": [
    "glue_pkg = glue_vali[0]"
   ]
  },
  {
   "cell_type": "code",
   "execution_count": null,
   "metadata": {},
   "outputs": [],
   "source": [
    "glue_pkg.attributes"
   ]
  },
  {
   "cell_type": "code",
   "execution_count": null,
   "metadata": {},
   "outputs": [],
   "source": [
    "metas.keys()"
   ]
  },
  {
   "cell_type": "code",
   "execution_count": null,
   "metadata": {},
   "outputs": [],
   "source": [
    "cems_vali = metas['epacems_eia860_pkg']"
   ]
  },
  {
   "cell_type": "code",
   "execution_count": null,
   "metadata": {},
   "outputs": [],
   "source": [
    "cems_vali"
   ]
  },
  {
   "cell_type": "code",
   "execution_count": null,
   "metadata": {},
   "outputs": [],
   "source": []
  },
  {
   "cell_type": "code",
   "execution_count": null,
   "metadata": {},
   "outputs": [],
   "source": [
    "pc.tab_map_eia923.columns"
   ]
  },
  {
   "cell_type": "code",
   "execution_count": null,
   "metadata": {},
   "outputs": [],
   "source": [
    "pc.pudl_tables['eia923']"
   ]
  },
  {
   "cell_type": "markdown",
   "metadata": {},
   "source": [
    "- the main coordinating function is pudl.output.export.generate_data_packages()\n",
    "    - uses settings:\n",
    "        -yml file (ex: ‘settings_init_pudl_package.yml’) and settings.py\n",
    "    - validates settings using `pudl.ETL_pkg._input_validate`... this spits out a new, validated list of package settings\n",
    "    - then for each of the of the packages definied in settings, run the ETL_pkg function which runs a data source specific function for each dataset. The ETL_pgk function needs the settings/inputs. In a stand-alone version of this function these can be validated settings or non-validated settings. The settings will get re-validated immediately inside of the data source specific ETL function. These ETL functions generate CSVs in the out_dir/(package name)/data folder.\n",
    "    - an output of the ETL_pkg function is a list of tables being generated. this list is piped through to a `test_file_consistency` function, which ensures the ETL tables, the CSVs and dependencies from the metadata\n",
    "    - then the `generate_metadata` function is run. at a high level, this generates and validates the `datapackage.json` file and runs `goodtables.validate`."
   ]
  }
 ],
 "metadata": {
  "kernelspec": {
   "display_name": "Python 3",
   "language": "python",
   "name": "python3"
  },
  "language_info": {
   "codemirror_mode": {
    "name": "ipython",
    "version": 3
   },
   "file_extension": ".py",
   "mimetype": "text/x-python",
   "name": "python",
   "nbconvert_exporter": "python",
   "pygments_lexer": "ipython3",
   "version": "3.7.3"
  }
 },
 "nbformat": 4,
 "nbformat_minor": 2
}
