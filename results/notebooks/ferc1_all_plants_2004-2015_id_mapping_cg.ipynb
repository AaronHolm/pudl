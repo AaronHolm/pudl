{
 "cells": [
  {
   "cell_type": "code",
   "execution_count": 1,
   "metadata": {
    "collapsed": false
   },
   "outputs": [],
   "source": [
    "import sys\n",
    "sys.path.append('/Users/zaneselvans/code/catalyst/pudl')\n",
    "sys.path.append('/Users/christinagosnell/code/pudl')\n",
    "sys.path.append('/Users/Nannerz/Desktop/working/pudl/')\n",
    "from pudl import ferc1, pudl, models, models_ferc1, settings, constants\n",
    "import numpy as np\n",
    "import pandas as pd\n",
    "import sqlalchemy as sa\n",
    "from sqlalchemy import create_engine\n",
    "from sqlalchemy.sql import select\n",
    "%load_ext autoreload\n",
    "%autoreload 1"
   ]
  },
  {
   "cell_type": "code",
   "execution_count": 2,
   "metadata": {
    "collapsed": false
   },
   "outputs": [],
   "source": [
    "%aimport pudl.pudl\n",
    "%aimport pudl.ferc1\n",
    "%aimport pudl.models\n",
    "%aimport pudl.models_ferc1\n",
    "%aimport pudl.eia923\n",
    "%aimport pudl.constants"
   ]
  },
  {
   "cell_type": "code",
   "execution_count": 3,
   "metadata": {
    "collapsed": false
   },
   "outputs": [
    {
     "name": "stdout",
     "output_type": "stream",
     "text": [
      "Defining new FERC Form 1 DB based on 2015...\n",
      "Ingesting FERC Form 1 Data from 2004...\n",
      "Ingesting FERC Form 1 Data from 2005...\n",
      "Ingesting FERC Form 1 Data from 2006...\n",
      "Ingesting FERC Form 1 Data from 2007...\n",
      "Ingesting FERC Form 1 Data from 2008...\n",
      "Ingesting FERC Form 1 Data from 2009...\n",
      "Ingesting FERC Form 1 Data from 2010...\n",
      "Ingesting FERC Form 1 Data from 2011...\n",
      "Ingesting FERC Form 1 Data from 2012...\n",
      "Ingesting FERC Form 1 Data from 2013...\n",
      "Ingesting FERC Form 1 Data from 2014...\n",
      "Ingesting FERC Form 1 Data from 2015...\n"
     ]
    }
   ],
   "source": [
    "ferc1_engine = pudl.ferc1.db_connect_ferc1()\n",
    "pudl.ferc1.init_db(refyear=2015, years=range(2004,2016), def_db=True)"
   ]
  },
  {
   "cell_type": "code",
   "execution_count": 33,
   "metadata": {
    "collapsed": false
   },
   "outputs": [],
   "source": [
    "ferc1_respondents = pd.read_sql('''SELECT respondent_id, respondent_name FROM f1_respondent_id''', ferc1_engine)\n",
    "ferc1_steam_plants = pd.read_sql('''SELECT respondent_id, plant_name, report_year, tot_capacity\n",
    "                                    FROM f1_steam''', ferc1_engine)\n",
    "ferc1_small_plants = pd.read_sql('''SELECT respondent_id, plant_name, report_year, kind_of_fuel, capacity_rating\n",
    "                                    FROM f1_gnrt_plant''', ferc1_engine)\n",
    "ferc1_hydro_plants = pd.read_sql('''SELECT respondent_id, plant_name, report_year, plant_kind, tot_capacity\n",
    "                                    FROM f1_hydro''', ferc1_engine)\n",
    "ferc1_pumped_storage_plants = pd.read_sql('''SELECT respondent_id, plant_name, report_year, plant_kind, tot_capacity\n",
    "                                    FROM f1_pumped_storage''', ferc1_engine)"
   ]
  },
  {
   "cell_type": "code",
   "execution_count": 45,
   "metadata": {
    "collapsed": false
   },
   "outputs": [],
   "source": [
    "ferc1_plants_all_years = pd.concat([ferc1_steam_plants, ferc1_small_plants, ferc1_hydro_plants, ferc1_pumped_storage_plants])\n",
    "ferc1_plants_all_years = ferc1_respondents.merge(ferc1_plants_all_years, how='left', on='respondent_id')\n",
    "ferc1_plants_all_years = ferc1_plants_all_years.replace('^$', np.nan, regex=True)\n",
    "ferc1_plants_all_years = ferc1_plants_all_years.dropna(subset=['plant_name',])\n",
    "ferc1_plants_all_years['report_year'] = ferc1_plants_all_years.report_year.astype(int)\n",
    "ordered_for_cgosnell = ['respondent_id', 'respondent_name', 'plant_name','report_year',]\\\n",
    "                        #'kind_of_fuel',  'capacity_rating', 'plant_kind', 'tot_capacity']\n",
    "ferc1_plants_all_years = ferc1_plants_all_years[ordered_for_cgosnell]\n",
    "ferc1_plants_all_years = ferc1_plants_all_years.drop_duplicates(subset=['respondent_id','plant_name'])\n",
    "ferc1_plants_all = ferc1_plants_all_years[['respondent_id', 'respondent_name', 'plant_name']]"
   ]
  },
  {
   "cell_type": "code",
   "execution_count": 46,
   "metadata": {
    "collapsed": false
   },
   "outputs": [],
   "source": [
    "ferc1_plants_2015 = ferc1_plants_all_years.loc[ferc1_plants_all_years['report_year'] == 2015]\n",
    "ferc1_plants_2015 = ferc1_plants_2015[['respondent_id', 'respondent_name', 'plant_name']]"
   ]
  },
  {
   "cell_type": "code",
   "execution_count": 47,
   "metadata": {
    "collapsed": false
   },
   "outputs": [
    {
     "data": {
      "text/plain": [
       "respondent_id      184\n",
       "respondent_name    184\n",
       "plant_name         184\n",
       "dtype: int64"
      ]
     },
     "execution_count": 47,
     "metadata": {},
     "output_type": "execute_result"
    }
   ],
   "source": [
    "ferc1_plants_2015.count()"
   ]
  },
  {
   "cell_type": "code",
   "execution_count": 48,
   "metadata": {
    "collapsed": false
   },
   "outputs": [
    {
     "data": {
      "text/plain": [
       "respondent_id      3499\n",
       "respondent_name    3499\n",
       "plant_name         3499\n",
       "dtype: int64"
      ]
     },
     "execution_count": 48,
     "metadata": {},
     "output_type": "execute_result"
    }
   ],
   "source": [
    "ferc1_plants_all.count()"
   ]
  },
  {
   "cell_type": "code",
   "execution_count": 49,
   "metadata": {
    "collapsed": false
   },
   "outputs": [],
   "source": [
    "ferc1_plants_2015 = set([ tuple(line) for line in ferc1_plants_2015.values.tolist()])\n",
    "ferc1_plants_all = set([ tuple(line) for line in ferc1_plants_all.values.tolist()])\n",
    "ferc1_plants_other_years = pd.DataFrame(list(ferc1_plants_all.difference(ferc1_plants_2015)))"
   ]
  },
  {
   "cell_type": "code",
   "execution_count": 50,
   "metadata": {
    "collapsed": false
   },
   "outputs": [
    {
     "data": {
      "text/plain": [
       "0    3315\n",
       "1    3315\n",
       "2    3315\n",
       "dtype: int64"
      ]
     },
     "execution_count": 50,
     "metadata": {},
     "output_type": "execute_result"
    }
   ],
   "source": [
    "ferc1_plants_other_years.count()"
   ]
  },
  {
   "cell_type": "code",
   "execution_count": null,
   "metadata": {
    "collapsed": false
   },
   "outputs": [],
   "source": [
    "ferc1_plants_all.to_csv('../../results/id_mapping/ferc1_all_plants_2004-2015.csv', index=False)"
   ]
  },
  {
   "cell_type": "code",
   "execution_count": null,
   "metadata": {
    "collapsed": false
   },
   "outputs": [],
   "source": [
    "ferc1_respondents.to_csv('../../results/id_mapping/ferc1_all_respondents_2004-2015.csv', index=False)"
   ]
  },
  {
   "cell_type": "code",
   "execution_count": null,
   "metadata": {
    "collapsed": false
   },
   "outputs": [],
   "source": [
    "import os.path\n",
    "map_eia923_ferc1_file = os.path.join(settings.PUDL_DIR,\n",
    "                                         'results',\n",
    "                                         'id_mapping',\n",
    "                                         'mapping_eia923_ferc1.xlsx')"
   ]
  },
  {
   "cell_type": "code",
   "execution_count": null,
   "metadata": {
    "collapsed": true
   },
   "outputs": [],
   "source": [
    "plant_map = pd.read_excel(map_eia923_ferc1_file,'plants_output',\n",
    "                          na_values='', keep_default_na=False,\n",
    "                          converters={'plant_id':int,\n",
    "                                      'plant_name':str,\n",
    "                                      'respondent_id_ferc1':int,\n",
    "                                      'respondent_name_ferc1':str,\n",
    "                                      'plant_name_ferc1':str,\n",
    "                                      'plant_id_eia923':int,\n",
    "                                      'plant_name_eia923':str,\n",
    "                                      'operator_name_eia923':str,\n",
    "                                      'operator_id_eia923':int})"
   ]
  },
  {
   "cell_type": "code",
   "execution_count": null,
   "metadata": {
    "collapsed": true
   },
   "outputs": [],
   "source": [
    "plants_ferc1 = plant_map[['respondent_id_ferc1','respondent_name_ferc1','plant_name_ferc1']]\n",
    "plants_ferc1 = plants_ferc1.drop_duplicates(['plant_name_ferc1','respondent_id_ferc1'])"
   ]
  },
  {
   "cell_type": "code",
   "execution_count": null,
   "metadata": {
    "collapsed": false,
    "scrolled": true
   },
   "outputs": [],
   "source": [
    "plants_ferc1.count()"
   ]
  },
  {
   "cell_type": "code",
   "execution_count": null,
   "metadata": {
    "collapsed": false
   },
   "outputs": [],
   "source": [
    "ferc1_all_plants.sample(1)"
   ]
  },
  {
   "cell_type": "code",
   "execution_count": null,
   "metadata": {
    "collapsed": false
   },
   "outputs": [],
   "source": [
    "plants_ferc1 = set([ tuple(line) for line in plants_ferc1.values.tolist()])\n",
    "ferc1_all_plants= set([ tuple(line) for line in ferc1_all_plants.values.tolist()])"
   ]
  },
  {
   "cell_type": "code",
   "execution_count": null,
   "metadata": {
    "collapsed": false
   },
   "outputs": [],
   "source": [
    "plants_other_years = pd.DataFrame(list(plants_ferc1.difference(ferc1_all_plants)))"
   ]
  },
  {
   "cell_type": "code",
   "execution_count": null,
   "metadata": {
    "collapsed": false
   },
   "outputs": [],
   "source": [
    "plants_other_years.count()"
   ]
  },
  {
   "cell_type": "code",
   "execution_count": null,
   "metadata": {
    "collapsed": false
   },
   "outputs": [],
   "source": [
    "plants_other_years.sample(5)"
   ]
  },
  {
   "cell_type": "code",
   "execution_count": null,
   "metadata": {
    "collapsed": true
   },
   "outputs": [],
   "source": [
    "plants_other_years.to_csv('../../results/id_mapping/plants_ferc1_2004-2014.csv', index=False)"
   ]
  },
  {
   "cell_type": "code",
   "execution_count": null,
   "metadata": {
    "collapsed": true
   },
   "outputs": [],
   "source": []
  }
 ],
 "metadata": {
  "anaconda-cloud": {},
  "kernelspec": {
   "display_name": "Python 3",
   "language": "python",
   "name": "python3"
  },
  "language_info": {
   "codemirror_mode": {
    "name": "ipython",
    "version": 3
   },
   "file_extension": ".py",
   "mimetype": "text/x-python",
   "name": "python",
   "nbconvert_exporter": "python",
   "pygments_lexer": "ipython3",
   "version": "3.6.0"
  }
 },
 "nbformat": 4,
 "nbformat_minor": 1
}
