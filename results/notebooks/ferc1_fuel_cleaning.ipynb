{
 "cells": [
  {
   "cell_type": "markdown",
   "metadata": {},
   "source": [
    "## Cleaning FERC 1 Fuel data\n",
    "This notebook is meant to help get you understand the data cleaning process for FERC Form 1 fuel data for heat content and price per MMBTU data.\n",
    "\n",
    "### Importing external code.\n",
    "We need to import a bunch of outside code to do our work here.  Sometimes we import entire packages (like `numpy` and `pandas`) and sometimes we just pull in a couple of pieces we need from a particular part of a large package (like `declarative_base`)"
   ]
  },
  {
   "cell_type": "code",
   "execution_count": null,
   "metadata": {
    "collapsed": false
   },
   "outputs": [],
   "source": [
    "import sys\n",
    "import os.path\n",
    "import numpy as np\n",
    "import pandas as pd\n",
    "from sqlalchemy.ext.declarative import declarative_base\n",
    "from sqlalchemy import create_engine\n",
    "from sqlalchemy.orm import sessionmaker\n",
    "from sqlalchemy.engine.url import URL\n",
    "import matplotlib.pyplot as plt"
   ]
  },
  {
   "cell_type": "markdown",
   "metadata": {},
   "source": [
    "### Importing our own code\n",
    "We also need to tell Python where to look to find our own code.  It has a list of directories that it looks in, but our little project isn't in that list, unless we add it -- which is what `sys.path.append()` does.  You'll need to change this path to reflect where on your computer the PUDL project folder (which you pull down with `git`) lives.\n",
    "\n",
    "Once Python knows to look in the `pudl` project folder, it will let you import `pudl` modules just like any other Python module.  Here we're pulling in the `ferc1` and `pudl` modules from the `pudl` package (which is a directory inside the `pudl` project directory)."
   ]
  },
  {
   "cell_type": "code",
   "execution_count": null,
   "metadata": {
    "collapsed": false
   },
   "outputs": [],
   "source": [
    "sys.path.append('/Users/christinagosnell/code/pudl')\n",
    "sys.path.append('/Users/zaneselvans/code/catalyst/pudl')\n",
    "sys.path.append('/Users/Nannerz/Desktop/working/pudl/')\n",
    "sys.path.append('/home/alana/Dropbox/catalyst/pudl')\n",
    "from pudl import ferc1, pudl, models, models_ferc1, settings, constants"
   ]
  },
  {
   "cell_type": "markdown",
   "metadata": {},
   "source": [
    "### Automatically reloading a work in progress\n",
    "Because you're probably going to be editing the Python modules related to PUDL while you're working with this notebook, it's useful to have them get automatically reloaded before every cell is executed -- this means you're always using the freshest version of the module, with all your recent edits."
   ]
  },
  {
   "cell_type": "code",
   "execution_count": null,
   "metadata": {
    "collapsed": false
   },
   "outputs": [],
   "source": [
    "%load_ext autoreload\n",
    "%autoreload 1\n",
    "%aimport pudl.pudl\n",
    "%aimport pudl.ferc1\n",
    "%aimport pudl.constants\n",
    "%aimport pudl.settings\n",
    "%aimport pudl.models"
   ]
  },
  {
   "cell_type": "markdown",
   "metadata": {},
   "source": [
    "### Connecting to our databases.\n",
    "We have two different databases that we're working with right now.  The FERC Form 1 (`ferc1`) and our own PUDL database (`pudl`). For this software to work, you'll need to have the Postgresql database server running on your computer, and you'll need to have created empty databases to receive the tables and data we're going to create.  On a mac, the easiest Postgres install to get running is probably Postgress.app.  You'll need to fire it up at the command line at least once to create the databases (one called `ferc1` and another called `pudl_sandbox`) and a user named `catalyst` with no password.  This information is stored in the `settings` module if you need to look it up.\n",
    "\n",
    "Here are two shortcuts for connecting to the two databases once they're created:"
   ]
  },
  {
   "cell_type": "code",
   "execution_count": null,
   "metadata": {
    "collapsed": false
   },
   "outputs": [],
   "source": [
    "pudl_engine  = pudl.pudl.db_connect_pudl()\n",
    "ferc1_engine = pudl.ferc1.db_connect_ferc1()"
   ]
  },
  {
   "cell_type": "markdown",
   "metadata": {},
   "source": [
    "### Initializing the FERC Form 1 database\n",
    "Now that you've got an empty database, let's put some data in it!  This function initializes the database by reading in the FERC Form 1 database structure from `refyear` and data from `years` (which can eventually be a list of years, but that's not working yet...). In order for this to work, you need to have the FERC Form 1 data downloaded into the data directory. There's a script called `get_ferc1.sh` down in `data/ferc/form1/` that will get it for you if you don't have it."
   ]
  },
  {
   "cell_type": "code",
   "execution_count": null,
   "metadata": {
    "collapsed": false
   },
   "outputs": [],
   "source": [
    "pudl.ferc1.init_db(refyear=2015, years=[2007,2008,2009,2010,2011,2012,2013,2014,2015], ferc1_tables=pudl.constants.ferc1_default_tables)"
   ]
  },
  {
   "cell_type": "markdown",
   "metadata": {},
   "source": [
    "### Initializing the PUDL database\n",
    "We'll pull in FERC 1 fuel, FERC 1 steam, and EIA 923's Fuel Receipts and Costs and generation fuel"
   ]
  },
  {
   "cell_type": "code",
   "execution_count": null,
   "metadata": {
    "collapsed": false
   },
   "outputs": [],
   "source": [
    "pudl.pudl.init_db(ferc1_tables=['f1_fuel','f1_steam'], ferc1_years=[2007,2008,2009,2010,2011,2012,2013,2014,2015],\\\n",
    "                                  eia923_tables=['fuel_receipts_costs_eia923','generation_fuel_eia923'], eia923_years=[2011,2012,2013,2014,2015], debug=True)"
   ]
  },
  {
   "cell_type": "markdown",
   "metadata": {
    "collapsed": false
   },
   "source": [
    "### Define a function to clean data frames\n",
    "First, let's pull in the applicable data from the PUDL FERC tables."
   ]
  },
  {
   "cell_type": "code",
   "execution_count": null,
   "metadata": {
    "collapsed": false
   },
   "outputs": [],
   "source": [
    "# First, let's pull in the applicable data from the PUDL FERC tables:\n",
    "fuel_df = pd.read_sql('''SELECT * from fuel_ferc1''',pudl_engine)\n",
    "coal = fuel_df[fuel_df.fuel=='coal']\n",
    "gas = fuel_df[fuel_df.fuel=='gas']"
   ]
  },
  {
   "cell_type": "markdown",
   "metadata": {},
   "source": [
    "Then, we'll define a function that takes as arguments: \n",
    "\n",
    "- a series of data to clean\n",
    "- minimum and maximum values (ints) which bound the reasonable range of values for the series\n",
    "- multipliers (list) by which to the minimum and maximum values are divided to define additional ranges of data, which are brought into the reasonable range by multiplying the values in the additional ranges by the multipliers (e.g. if a set of values is 1000 times too large to fit in the reasonable range, its multiplier will be .001).\n",
    "\n",
    "The function will return a cleaned series."
   ]
  },
  {
   "cell_type": "code",
   "execution_count": null,
   "metadata": {
    "collapsed": false
   },
   "outputs": [],
   "source": [
    "def fixit(tofix, min, max, mults):\n",
    "    \n",
    "    fixed = tofix.copy()\n",
    "    for mult in mults:\n",
    "        fixed = fixed.apply(lambda x: x*mult if x > min/mult and x < max/mult else x)\n",
    "    fixed = fixed.apply(lambda x: np.nan if x < min or x > max else x)\n",
    "    return(fixed)"
   ]
  },
  {
   "cell_type": "markdown",
   "metadata": {},
   "source": [
    "We'll next define a function to show us graphs of what the data looks like before and after it is cleaned, and to show us how much data the cleaning process was not able to clean. This function will take 5 arguments:\n",
    "\n",
    "- a series of data to be cleaned\n",
    "- a series of data which has been cleaned by the cleaning function\n",
    "- the title (string) to apply to the before and after graphs\n",
    "- the x label (string) to apply to the before and after graphs\n",
    "- the y label (string) to apply to the before and after graphs\n",
    "\n",
    "The function will returned the before and after graphs and the percentage of how many values were not cleaned and were instead set to NaN."
   ]
  },
  {
   "cell_type": "code",
   "execution_count": null,
   "metadata": {
    "collapsed": true
   },
   "outputs": [],
   "source": [
    "def showfix(tofix,fixed,title,xlabel,ylabel):\n",
    "    \n",
    "    min_1 = tofix[tofix > 0].min()\n",
    "    max_1 = tofix.max()\n",
    "    \n",
    "    fig_1 = plt.figure(figsize=(14,10))\n",
    "    plt.subplot(2,1,1)\n",
    "    plt.title(title)\n",
    "    plt.xlabel(xlabel)\n",
    "    plt.ylabel(ylabel)\n",
    "    plt.grid()\n",
    "    ax = fig_1.axes[0]\n",
    "    ax.set_xscale('log')\n",
    "    ax.set_yscale('log')\n",
    "\n",
    "    plt.xlim(min_1,max_1)\n",
    "    plt.hist(tofix, bins=np.logspace(np.log10(min_1), np.log10(max_1), 100))\n",
    "    \n",
    "    plt.subplot(2,1,2)\n",
    "    plt.xlabel(xlabel)\n",
    "    plt.ylabel(ylabel)\n",
    "    plt.grid()\n",
    "    plt.hist(fixed.dropna(),bins=100)\n",
    "    plt.show()\n",
    "    \n",
    "    na_percentage =  ( fixed.isnull().sum() / len(fixed) ) * 100\n",
    "    \n",
    "    return(fig_1, na_percentage)"
   ]
  },
  {
   "cell_type": "markdown",
   "metadata": {},
   "source": [
    "### FERC Form 1 Average heat content\n",
    "Let's use these two functions to clean the average heat content of Form 1 coal and gas data, respectively."
   ]
  },
  {
   "cell_type": "code",
   "execution_count": 295,
   "metadata": {
    "collapsed": false
   },
   "outputs": [
    {
     "data": {
      "image/png": "[encoded data removed]",
      "text/plain": [
       "<matplotlib.figure.Figure at 0x143d2bf60>"
      ]
     },
     "metadata": {},
     "output_type": "display_data"
    },
    {
     "data": {
      "text/plain": [
       "(<matplotlib.figure.Figure at 0x143d2bf60>, 2.2574123989218329)"
      ]
     },
     "execution_count": 295,
     "metadata": {},
     "output_type": "execute_result"
    }
   ],
   "source": [
    "to_fix_avg_heat_content_coal = coal.fuel_avg_mmbtu_per_unit\n",
    "fixed_avg_heat_content_coal = fixit(coal.fuel_avg_mmbtu_per_unit,10,30,[2000,1e6,2000e6])\n",
    "\n",
    "showfix(to_fix_avg_heat_content_coal,fixed_avg_heat_content_coal,'FERC Coal: Average heat content',\\\n",
    "        'mmbtu per ton','number of occurences')"
   ]
  },
  {
   "cell_type": "code",
   "execution_count": 296,
   "metadata": {
    "collapsed": false
   },
   "outputs": [
    {
     "data": {
      "image/png": "[encoded data removed]",
      "text/plain": [
       "<matplotlib.figure.Figure at 0x15515fc88>"
      ]
     },
     "metadata": {},
     "output_type": "display_data"
    },
    {
     "data": {
      "text/plain": [
       "(<matplotlib.figure.Figure at 0x15515fc88>, 3.2569102206985217)"
      ]
     },
     "execution_count": 296,
     "metadata": {},
     "output_type": "execute_result"
    }
   ],
   "source": [
    "to_fix_avg_heat_content_gas = gas.fuel_avg_mmbtu_per_unit\n",
    "fixed_avg_heat_content_gas = fixit(gas.fuel_avg_mmbtu_per_unit,.75,1.25,[1000,1e6])\n",
    "\n",
    "showfix(to_fix_avg_heat_content_gas,fixed_avg_heat_content_gas,'FERC Gas: Average heat content',\\\n",
    "        'mmbtu per mcf','number of occurences')"
   ]
  },
  {
   "cell_type": "markdown",
   "metadata": {},
   "source": [
    "### FERC Form 1 Cost per mmbtu\n",
    "Let's use these two functions to clean the cost per mmbtu of Form 1 coal and gas data, respectively."
   ]
  },
  {
   "cell_type": "code",
   "execution_count": 294,
   "metadata": {
    "collapsed": false
   },
   "outputs": [
    {
     "data": {
      "image/png": "[encoded data removed]",
      "text/plain": [
       "<matplotlib.figure.Figure at 0x154fa3978>"
      ]
     },
     "metadata": {},
     "output_type": "display_data"
    },
    {
     "data": {
      "text/plain": [
       "(<matplotlib.figure.Figure at 0x154fa3978>, 2.5943396226415096)"
      ]
     },
     "execution_count": 294,
     "metadata": {},
     "output_type": "execute_result"
    }
   ],
   "source": [
    "to_fix_cost_per_mmbtu_coal = coal.fuel_cost_per_mmbtu\n",
    "fixed_cost_per_mmbtu_coal = fixit(coal.fuel_cost_per_mmbtu,.5,7.5,[.01,2000])\n",
    "\n",
    "showfix(to_fix_avg_heat_content_coal,fixed_cost_per_mmbtu_coal,'FERC Coal: Cost per mmbtu',\\\n",
    "        'dollars per mmbtu','number of occurences')"
   ]
  },
  {
   "cell_type": "code",
   "execution_count": null,
   "metadata": {
    "collapsed": false
   },
   "outputs": [],
   "source": [
    "to_fix_cost_per_mmbtu_gas = gas.fuel_cost_per_mmbtu\n",
    "fixed_cost_per_mmbtu_gas = fixit(gas.fuel_cost_per_mmbtu,2.5,17.5,[.01,1000,10])\n",
    "\n",
    "showfix(to_fix_avg_heat_content_gas,fixed_cost_per_mmbtu_gas,'FERC Gas: Cost per mmbtu',\\\n",
    "        'dollars per mmbtu','number of occurences')"
   ]
  },
  {
   "cell_type": "markdown",
   "metadata": {},
   "source": [
    "### Heat rate (mmbtu per kWh or MWh) in both EIA 923 and FERC Form 1\n",
    "We'll start with looking at the range of heat rates in EIA 923 and use those values to clean the heat rate data from FERC Form 1. First we'll select the data from EIA 923 and calculate the heat rate."
   ]
  },
  {
   "cell_type": "code",
   "execution_count": null,
   "metadata": {
    "collapsed": false
   },
   "outputs": [],
   "source": [
    "## Select the Generation Fuel table from EIA 923\n",
    "mwh_eia923 = pd.read_sql('''SELECT * FROM generation_fuel_eia923''', pudl_engine)"
   ]
  },
  {
   "cell_type": "code",
   "execution_count": null,
   "metadata": {
    "collapsed": true
   },
   "outputs": [],
   "source": [
    "## Add a column for the year in order to get annual heat rate data\n",
    "mwh_eia923['year'] = pd.DatetimeIndex(mwh_eia923['report_date']).year"
   ]
  },
  {
   "cell_type": "code",
   "execution_count": null,
   "metadata": {
    "collapsed": false
   },
   "outputs": [],
   "source": [
    "# Summarize data by year for each plant; this creates a new column that reports the annual sum in each row\n",
    "mwh_eia923[\"fuel_consumed_total_mmbtu_sum\"] = mwh_eia923.groupby([\"plant_id\", \"year\"])[\"fuel_consumed_total_mmbtu\"].transform(sum)\n",
    "mwh_eia923[\"net_generation_mwh_sum\"] = mwh_eia923.groupby([\"plant_id\", \"year\"])[\"net_generation_mwh\"].transform(sum)"
   ]
  },
  {
   "cell_type": "code",
   "execution_count": null,
   "metadata": {
    "collapsed": false
   },
   "outputs": [],
   "source": [
    "# Use sum of fuel_consumed_total_mmbtu_sum and net_generation_mwh_sum to calculate annual heat rate \n",
    "# for each plant id\n",
    "mwh_eia923['calculated_heat_rate_btu_per_kwh'] = \\\n",
    "((mwh_eia923['fuel_consumed_total_mmbtu_sum']*1000000)/(mwh_eia923['net_generation_mwh_sum']*1000))"
   ]
  },
  {
   "cell_type": "markdown",
   "metadata": {},
   "source": [
    "### Analyzing the EIA 923 heat rate data\n",
    "Let's look at the quantiles and histograms for heat rate data from EIA 923 for coal and gas respectively."
   ]
  },
  {
   "cell_type": "code",
   "execution_count": null,
   "metadata": {
    "collapsed": true
   },
   "outputs": [],
   "source": [
    "mwh_eia923_coal = mwh_eia923[(mwh_eia923.aer_fuel_category == 'coal')]"
   ]
  },
  {
   "cell_type": "code",
   "execution_count": null,
   "metadata": {
    "collapsed": false
   },
   "outputs": [],
   "source": [
    "mwh_eia923_coal.calculated_heat_rate_btu_per_kwh.quantile(q=[.01,.05,.95,.99])"
   ]
  },
  {
   "cell_type": "code",
   "execution_count": null,
   "metadata": {
    "collapsed": true
   },
   "outputs": [],
   "source": [
    "mwh_eia923_gas = mwh_eia923[(mwh_eia923.aer_fuel_category == 'gas')]"
   ]
  },
  {
   "cell_type": "code",
   "execution_count": null,
   "metadata": {
    "collapsed": false
   },
   "outputs": [],
   "source": [
    "mwh_eia923_gas.calculated_heat_rate_btu_per_kwh.quantile(q=[.01,.05,.95,.99])"
   ]
  },
  {
   "cell_type": "code",
   "execution_count": null,
   "metadata": {
    "collapsed": false
   },
   "outputs": [],
   "source": [
    "# Plot heat rate histogram for full data set by fuel type\n",
    "f, (ax1, ax2) = plt.subplots(2, 1, sharex=True)\n",
    "ax1.hist(mwh_eia923_coal.calculated_heat_rate_btu_per_kwh, color= 'b', label='coal', range=(0,50000), bins=100)\n",
    "ax1.legend(loc=\"upper right\", fontsize=16)\n",
    "ax1.yaxis.set_tick_params(labelsize=13)\n",
    "ax2.hist(mwh_eia923_gas.calculated_heat_rate_btu_per_kwh, color= 'r', label='gas', range=(0,50000), bins=100)\n",
    "ax2.legend(loc=\"upper right\", fontsize=16)\n",
    "plt.suptitle('Heat Rates for coal & gas plants, 2011-2015 (EIA923)', size=22)\n",
    "ax2.set_xlabel('Heat rate (Btu/kWh)', size=18)\n",
    "f.text(0.0, 0.5, 'Frequency (# of records)', ha='center', va='center', rotation='vertical', size=18)\n",
    "f.set_size_inches(9,9)\n",
    "plt.tick_params(axis='both', which='major', labelsize=13)\n",
    "plt.show()"
   ]
  },
  {
   "cell_type": "markdown",
   "metadata": {},
   "source": [
    "### FERC Heat rates\n",
    "Let's take a look at the FERC Form 1 heat rate data for coal and gas, respectively. For each data set, we'll begin by removing the values at or below zero. "
   ]
  },
  {
   "cell_type": "code",
   "execution_count": null,
   "metadata": {
    "collapsed": false
   },
   "outputs": [],
   "source": [
    "coal_above_zero = coal[coal.fuel_mmbtu_per_mwh > 0]\n",
    "gas_above_zero = gas[gas.fuel_mmbtu_per_mwh > 0]"
   ]
  },
  {
   "cell_type": "code",
   "execution_count": 315,
   "metadata": {
    "collapsed": false
   },
   "outputs": [
    {
     "data": {
      "image/png": "[encoded data removed]",
      "text/plain": [
       "<matplotlib.figure.Figure at 0x150294898>"
      ]
     },
     "metadata": {},
     "output_type": "display_data"
    },
    {
     "data": {
      "text/plain": [
       "(<matplotlib.figure.Figure at 0x150294898>, 0.61830173124484744)"
      ]
     },
     "execution_count": 315,
     "metadata": {},
     "output_type": "execute_result"
    }
   ],
   "source": [
    "coal_fix = fixit(coal_above_zero.fuel_mmbtu_per_mwh,7.195,46.922,[2000,.001])\n",
    "showfix(coal.fuel_mmbtu_per_mwh,coal_fix,'FERC coal heat rates before and after','mmbtu per mwh','number of occurences')"
   ]
  },
  {
   "cell_type": "code",
   "execution_count": 316,
   "metadata": {
    "collapsed": false
   },
   "outputs": [
    {
     "data": {
      "image/png": "[encoded data removed]",
      "text/plain": [
       "<matplotlib.figure.Figure at 0x15600cda0>"
      ]
     },
     "metadata": {},
     "output_type": "display_data"
    },
    {
     "data": {
      "text/plain": [
       "(<matplotlib.figure.Figure at 0x15600cda0>, 0.61830173124484744)"
      ]
     },
     "execution_count": 316,
     "metadata": {},
     "output_type": "execute_result"
    }
   ],
   "source": [
    "gas_fix = fixit(gas_above_zero.fuel_mmbtu_per_mwh,1.173,52.207,[2000,.001])\n",
    "showfix(coal.fuel_mmbtu_per_mwh,coal_fix,'FERC gas heat rates before and after','mmbtu per mwh','number of occurences')"
   ]
  },
  {
   "cell_type": "markdown",
   "metadata": {},
   "source": [
    "### FERC Cost per unit delivered\n",
    "Let's take a look at histograms and quantiles FERC Form 1 cost per unit delivered for coal and gas, respectively. We'll again remove values at or below zero. This data looks quite clean as it is. "
   ]
  },
  {
   "cell_type": "code",
   "execution_count": 275,
   "metadata": {
    "collapsed": true
   },
   "outputs": [],
   "source": [
    "to_fix_coal_cost_delivered = coal[coal.fuel_cost_per_unit_delivered > 0]\n",
    "to_fix_gas_cost_delivered = gas[gas.fuel_cost_per_unit_delivered > 0]"
   ]
  },
  {
   "cell_type": "code",
   "execution_count": 268,
   "metadata": {
    "collapsed": false
   },
   "outputs": [
    {
     "data": {
      "text/plain": [
       "0.01     11.6000\n",
       "0.05     18.5800\n",
       "0.50     42.7150\n",
       "0.95     99.6900\n",
       "0.99    125.5026\n",
       "Name: fuel_cost_per_unit_delivered, dtype: float64"
      ]
     },
     "execution_count": 268,
     "metadata": {},
     "output_type": "execute_result"
    }
   ],
   "source": [
    "to_fix_coal_cost_delivered.fuel_cost_per_unit_delivered.quantile(q=[.01,.05,.5,.95,.99])"
   ]
  },
  {
   "cell_type": "code",
   "execution_count": 269,
   "metadata": {
    "collapsed": false
   },
   "outputs": [
    {
     "data": {
      "text/plain": [
       "0.01     1.51792\n",
       "0.05     3.02940\n",
       "0.50     5.67000\n",
       "0.95    14.81920\n",
       "0.99    50.46196\n",
       "Name: fuel_cost_per_unit_delivered, dtype: float64"
      ]
     },
     "execution_count": 269,
     "metadata": {},
     "output_type": "execute_result"
    }
   ],
   "source": [
    "to_fix_gas_cost_delivered.fuel_cost_per_unit_delivered.quantile(q=[.01,.05,.5,.95,.99])"
   ]
  },
  {
   "cell_type": "code",
   "execution_count": 267,
   "metadata": {
    "collapsed": false
   },
   "outputs": [
    {
     "data": {
      "image/png": "[encoded data removed]",
      "text/plain": [
       "<matplotlib.figure.Figure at 0x15053c9b0>"
      ]
     },
     "metadata": {},
     "output_type": "display_data"
    }
   ],
   "source": [
    "plt.hist(to_fix_coal_cost_delivered.fuel_cost_per_unit_delivered, bins=100,range=(0,150))\n",
    "plt.hist(to_fix_gas_cost_delivered.fuel_cost_per_unit_delivered, bins=100,range=(0,150))\n",
    "plt.show()"
   ]
  },
  {
   "cell_type": "code",
   "execution_count": 270,
   "metadata": {
    "collapsed": false
   },
   "outputs": [
    {
     "data": {
      "image/png": "[encoded data removed]",
      "text/plain": [
       "<matplotlib.figure.Figure at 0x143a30828>"
      ]
     },
     "metadata": {},
     "output_type": "display_data"
    }
   ],
   "source": [
    "plt.hist(to_fix_coal_cost_delivered.fuel_cost_per_unit_delivered, bins=100,range=(0,125))\n",
    "plt.title('Coal cost per unit delivered')\n",
    "plt.xlabel('Dollars per ton')\n",
    "plt.ylabel('Number of occurences')\n",
    "plt.show()"
   ]
  },
  {
   "cell_type": "code",
   "execution_count": 271,
   "metadata": {
    "collapsed": false
   },
   "outputs": [
    {
     "data": {
      "image/png": "[encoded data removed]",
      "text/plain": [
       "<matplotlib.figure.Figure at 0x14f1d9ba8>"
      ]
     },
     "metadata": {},
     "output_type": "display_data"
    }
   ],
   "source": [
    "plt.hist(to_fix_gas_cost_delivered.fuel_cost_per_unit_delivered, bins=100,range=(0,50))\n",
    "plt.title('Gas cost per unit delivered')\n",
    "plt.xlabel('Dollars per mcf')\n",
    "plt.ylabel('Number of occurences')\n",
    "plt.show()"
   ]
  },
  {
   "cell_type": "markdown",
   "metadata": {},
   "source": [
    "Looking at the highest and lowest values for each dataset, it appears that there are a handful of values on either end of each data set that are off by a factor of 10 or 100 as well as a few that are off by a factor of 1000. "
   ]
  },
  {
   "cell_type": "code",
   "execution_count": null,
   "metadata": {
    "collapsed": false,
    "scrolled": false
   },
   "outputs": [],
   "source": [
    "to_fix_coal_cost_delivered.nsmallest(20,'fuel_cost_per_unit_delivered')"
   ]
  },
  {
   "cell_type": "code",
   "execution_count": null,
   "metadata": {
    "collapsed": false
   },
   "outputs": [],
   "source": [
    "to_fix_coal_cost_delivered.nlargest(50,'fuel_cost_per_unit_delivered')"
   ]
  },
  {
   "cell_type": "code",
   "execution_count": null,
   "metadata": {
    "collapsed": false
   },
   "outputs": [],
   "source": [
    "to_fix_gas_cost_delivered.nsmallest(50,'fuel_cost_per_unit_delivered')"
   ]
  },
  {
   "cell_type": "code",
   "execution_count": null,
   "metadata": {
    "collapsed": false,
    "scrolled": true
   },
   "outputs": [],
   "source": [
    "to_fix_gas_cost_delivered.nlargest(20,'fuel_cost_per_unit_delivered')"
   ]
  },
  {
   "cell_type": "markdown",
   "metadata": {},
   "source": [
    "### FERC  Cost per unit burned\n",
    "Let's take a look at histograms and quantiles FERC Form 1 cost per unit burned for coal and gas, respectively. We'll again remove values at or below zero. This data looks quite clean as it is. "
   ]
  },
  {
   "cell_type": "code",
   "execution_count": 273,
   "metadata": {
    "collapsed": true
   },
   "outputs": [],
   "source": [
    "to_fix_coal_cost_burned = coal[coal.fuel_cost_per_unit_burned > 0]\n",
    "to_fix_gas_cost_burned = gas[gas.fuel_cost_per_unit_burned > 0]"
   ]
  },
  {
   "cell_type": "code",
   "execution_count": 276,
   "metadata": {
    "collapsed": false
   },
   "outputs": [
    {
     "data": {
      "text/plain": [
       "0.01     11.67106\n",
       "0.05     19.08690\n",
       "0.50     43.10000\n",
       "0.95    100.51350\n",
       "0.99    130.09643\n",
       "Name: fuel_cost_per_unit_burned, dtype: float64"
      ]
     },
     "execution_count": 276,
     "metadata": {},
     "output_type": "execute_result"
    }
   ],
   "source": [
    "to_fix_coal_cost_burned.fuel_cost_per_unit_burned.quantile(q=[.01,.05,.5,.95,.99])"
   ]
  },
  {
   "cell_type": "code",
   "execution_count": 277,
   "metadata": {
    "collapsed": false
   },
   "outputs": [
    {
     "data": {
      "text/plain": [
       "0.01     1.693\n",
       "0.05     3.100\n",
       "0.50     5.826\n",
       "0.95    15.270\n",
       "0.99    52.301\n",
       "Name: fuel_cost_per_unit_burned, dtype: float64"
      ]
     },
     "execution_count": 277,
     "metadata": {},
     "output_type": "execute_result"
    }
   ],
   "source": [
    "to_fix_gas_cost_burned.fuel_cost_per_unit_burned.quantile(q=[.01,.05,.5,.95,.99])"
   ]
  },
  {
   "cell_type": "code",
   "execution_count": 274,
   "metadata": {
    "collapsed": false
   },
   "outputs": [
    {
     "data": {
      "image/png": "[encoded data removed]",
      "text/plain": [
       "<matplotlib.figure.Figure at 0x14fc1d518>"
      ]
     },
     "metadata": {},
     "output_type": "display_data"
    }
   ],
   "source": [
    "plt.hist(to_fix_coal_cost_burned.fuel_cost_per_unit_burned, bins=100,range=(0,150))\n",
    "plt.hist(to_fix_gas_cost_burned.fuel_cost_per_unit_burned, bins=100,range=(0,150))\n",
    "plt.show()"
   ]
  },
  {
   "cell_type": "code",
   "execution_count": 278,
   "metadata": {
    "collapsed": false
   },
   "outputs": [
    {
     "data": {
      "image/png": "[encoded data removed]",
      "text/plain": [
       "<matplotlib.figure.Figure at 0x148c0b278>"
      ]
     },
     "metadata": {},
     "output_type": "display_data"
    }
   ],
   "source": [
    "plt.hist(to_fix_coal_cost_burned.fuel_cost_per_unit_burned, bins=100,range=(0,130))\n",
    "plt.title('Coal cost per unit burned')\n",
    "plt.xlabel('Dollars per ton')\n",
    "plt.ylabel('Number of occurences')\n",
    "plt.show()"
   ]
  },
  {
   "cell_type": "code",
   "execution_count": 280,
   "metadata": {
    "collapsed": false
   },
   "outputs": [
    {
     "data": {
      "image/png": "[encoded data removed]",
      "text/plain": [
       "<matplotlib.figure.Figure at 0x14c9ca898>"
      ]
     },
     "metadata": {},
     "output_type": "display_data"
    }
   ],
   "source": [
    "plt.hist(to_fix_gas_cost_burned.fuel_cost_per_unit_burned, bins=100,range=(0,52))\n",
    "plt.title('Gas cost per unit burned')\n",
    "plt.xlabel('Dollars per mcf')\n",
    "plt.ylabel('Number of occurences')\n",
    "plt.show()"
   ]
  },
  {
   "cell_type": "markdown",
   "metadata": {},
   "source": [
    "### Fuel Cost per mWh for EIA and FERC\n",
    "\n",
    "Let's take a look at fuel cost per MWh for EIA and FERC. We'll start with EIA and use the quantiles from EIA to bound the range of reasonable vales in FERC. WE'll begin by pulling the necessary columns from EIA 923 fuel receipts and costs."
   ]
  },
  {
   "cell_type": "code",
   "execution_count": 415,
   "metadata": {
    "collapsed": false
   },
   "outputs": [],
   "source": [
    "fuel_rc = pd.read_sql('''SELECT fuel_quantity,energy_source, fuel_group, average_heat_content, fuel_cost, plant_id, report_date \\\n",
    "FROM fuel_receipts_costs_eia923''', con = pudl_engine)"
   ]
  },
  {
   "cell_type": "markdown",
   "metadata": {},
   "source": [
    "We'll then convert the report date into years and months, and convert the fuel_cost column from cents to dollars."
   ]
  },
  {
   "cell_type": "code",
   "execution_count": 416,
   "metadata": {
    "collapsed": true
   },
   "outputs": [],
   "source": [
    "fuel_rc['year'] = pd.DatetimeIndex(fuel_rc['report_date']).year"
   ]
  },
  {
   "cell_type": "code",
   "execution_count": 417,
   "metadata": {
    "collapsed": true
   },
   "outputs": [],
   "source": [
    "fuel_rc['month'] = pd.DatetimeIndex(fuel_rc['report_date']).month"
   ]
  },
  {
   "cell_type": "code",
   "execution_count": 418,
   "metadata": {
    "collapsed": true
   },
   "outputs": [],
   "source": [
    "fuel_rc['fuel_cost'] = fuel_rc['fuel_cost'] * .01"
   ]
  },
  {
   "cell_type": "markdown",
   "metadata": {},
   "source": [
    "We'll find sum the mmbtus per delivery and group them by fuel type. When we sort from lowest to highest, we'll know which fuel type is the dominant fuel type for the plant (the fuel type of last entry). "
   ]
  },
  {
   "cell_type": "code",
   "execution_count": 421,
   "metadata": {
    "collapsed": true
   },
   "outputs": [],
   "source": [
    "fuel_rc['mmbtu_per_delivery'] = fuel_rc['fuel_quantity'] * fuel_rc['average_heat_content']"
   ]
  },
  {
   "cell_type": "code",
   "execution_count": 422,
   "metadata": {
    "collapsed": false
   },
   "outputs": [],
   "source": [
    "fuel_rc['annual_mmbtu_by_fuel'] = fuel_rc.groupby(['plant_id','year','fuel_group'])\\\n",
    "['mmbtu_per_delivery'].transform(sum)"
   ]
  },
  {
   "cell_type": "code",
   "execution_count": 423,
   "metadata": {
    "collapsed": false
   },
   "outputs": [],
   "source": [
    "fuel_rc.sort_values(['annual_mmbtu_by_fuel'],inplace=True)"
   ]
  },
  {
   "cell_type": "markdown",
   "metadata": {},
   "source": [
    "We'll find the cost of each delivery and sum all the deliveries for each plant in each year."
   ]
  },
  {
   "cell_type": "code",
   "execution_count": 425,
   "metadata": {
    "collapsed": true
   },
   "outputs": [],
   "source": [
    "fuel_rc['cost_of_delivery'] = fuel_rc['mmbtu_per_delivery'] * fuel_rc['fuel_cost']"
   ]
  },
  {
   "cell_type": "code",
   "execution_count": 426,
   "metadata": {
    "collapsed": false
   },
   "outputs": [],
   "source": [
    "fuel_rc['total_cost_of_delivery'] = fuel_rc.groupby(['plant_id','year'])['cost_of_delivery'].transform(sum)"
   ]
  },
  {
   "cell_type": "markdown",
   "metadata": {},
   "source": [
    "We'll find the total mmbtus for each plant in each year and divide the total annual cost of deliveries by the total annual mmbtus to get the weighted cost per mmbtu of deliveries for each in plant in each year."
   ]
  },
  {
   "cell_type": "code",
   "execution_count": 424,
   "metadata": {
    "collapsed": true
   },
   "outputs": [],
   "source": [
    "fuel_rc['annual_mmbtu_total'] = fuel_rc.groupby(['plant_id','year'])\\\n",
    "['mmbtu_per_delivery'].transform(sum)"
   ]
  },
  {
   "cell_type": "code",
   "execution_count": 427,
   "metadata": {
    "collapsed": true
   },
   "outputs": [],
   "source": [
    "fuel_rc['weighted_cost_of_deliveries'] = fuel_rc['total_cost_of_delivery'] / fuel_rc['annual_mmbtu_total']"
   ]
  },
  {
   "cell_type": "markdown",
   "metadata": {},
   "source": [
    "We'll drop duplicates so that there's only one record for each plant. Since keep is set to last and we've sorted in ascending order mmbtus for each fuel group, we'll be left with a plant record with the dominant fuel type."
   ]
  },
  {
   "cell_type": "code",
   "execution_count": 442,
   "metadata": {
    "collapsed": false
   },
   "outputs": [],
   "source": [
    "fuel_rc_one_record_per_plant = fuel_rc.drop_duplicates(subset=['plant_id','year'],keep='last')"
   ]
  },
  {
   "cell_type": "markdown",
   "metadata": {},
   "source": [
    "In order to calculate fuel cost per MWh, we'll need data from EIA 923 generation fuel for total mmbtus consumed and total net generation in mwh. "
   ]
  },
  {
   "cell_type": "code",
   "execution_count": 445,
   "metadata": {
    "collapsed": true
   },
   "outputs": [],
   "source": [
    "eia_mwh = mwh_eia923[['net_generation_mwh_sum','plant_id','year','fuel_consumed_total_mmbtu_sum']]"
   ]
  },
  {
   "cell_type": "markdown",
   "metadata": {},
   "source": [
    "We'll drop duplicates - we only need one annual net generation and mmbtu consumed value per plant each year."
   ]
  },
  {
   "cell_type": "code",
   "execution_count": 446,
   "metadata": {
    "collapsed": true
   },
   "outputs": [],
   "source": [
    "eia_mwh_one_record_per_plant = eia_mwh.drop_duplicates()"
   ]
  },
  {
   "cell_type": "markdown",
   "metadata": {},
   "source": [
    "We'll merge the two dataframes and calculate cost per MWh based on the total fuel consumed in mmbtu for the year multiplied by the weighted cost of deliveries and divided by the net generation in MWh for the year. "
   ]
  },
  {
   "cell_type": "code",
   "execution_count": 447,
   "metadata": {
    "collapsed": true
   },
   "outputs": [],
   "source": [
    "eia_merged = pd.merge(fuel_rc_one_record_per_plant,eia_mwh_one_record_per_plant,\\\n",
    "                     on=['plant_id','year'], how='left')"
   ]
  },
  {
   "cell_type": "code",
   "execution_count": 449,
   "metadata": {
    "collapsed": false
   },
   "outputs": [],
   "source": [
    "eia_merged['cost_mwh_2'] = eia_merged['fuel_consumed_total_mmbtu_sum'] *eia_merged['weighted_cost_of_deliveries'] \\\n",
    "/ eia_merged['net_generation_mwh_sum']"
   ]
  },
  {
   "cell_type": "code",
   "execution_count": 450,
   "metadata": {
    "collapsed": false
   },
   "outputs": [
    {
     "data": {
      "text/html": [
       "<div>\n",
       "<table border=\"1\" class=\"dataframe\">\n",
       "  <thead>\n",
       "    <tr style=\"text-align: right;\">\n",
       "      <th></th>\n",
       "      <th>fuel_quantity</th>\n",
       "      <th>energy_source</th>\n",
       "      <th>fuel_group</th>\n",
       "      <th>average_heat_content</th>\n",
       "      <th>fuel_cost</th>\n",
       "      <th>plant_id</th>\n",
       "      <th>report_date</th>\n",
       "      <th>year</th>\n",
       "      <th>month</th>\n",
       "      <th>mmbtu_per_delivery</th>\n",
       "      <th>annual_mmbtu_by_fuel</th>\n",
       "      <th>annual_mmbtu_total</th>\n",
       "      <th>cost_of_delivery</th>\n",
       "      <th>total_cost_of_delivery</th>\n",
       "      <th>weighted_cost_of_deliveries</th>\n",
       "      <th>weighted_cost_annual</th>\n",
       "      <th>average_annual_fuel_cost</th>\n",
       "      <th>net_generation_mwh_sum</th>\n",
       "      <th>fuel_consumed_total_mmbtu_sum</th>\n",
       "      <th>cost_mwh_2</th>\n",
       "    </tr>\n",
       "  </thead>\n",
       "  <tbody>\n",
       "    <tr>\n",
       "      <th>4715</th>\n",
       "      <td>2888254.0</td>\n",
       "      <td>NG</td>\n",
       "      <td>Natural Gas</td>\n",
       "      <td>1.030</td>\n",
       "      <td>NaN</td>\n",
       "      <td>55667</td>\n",
       "      <td>2013-01-01</td>\n",
       "      <td>2013</td>\n",
       "      <td>1</td>\n",
       "      <td>2974901.620</td>\n",
       "      <td>3.204935e+07</td>\n",
       "      <td>3.204935e+07</td>\n",
       "      <td>NaN</td>\n",
       "      <td>NaN</td>\n",
       "      <td>NaN</td>\n",
       "      <td>NaN</td>\n",
       "      <td>NaN</td>\n",
       "      <td>8.661103e+06</td>\n",
       "      <td>56183145.0</td>\n",
       "      <td>NaN</td>\n",
       "    </tr>\n",
       "    <tr>\n",
       "      <th>4489</th>\n",
       "      <td>184770.0</td>\n",
       "      <td>LIG</td>\n",
       "      <td>Coal</td>\n",
       "      <td>13.816</td>\n",
       "      <td>NaN</td>\n",
       "      <td>7030</td>\n",
       "      <td>2015-09-01</td>\n",
       "      <td>2015</td>\n",
       "      <td>9</td>\n",
       "      <td>2552782.320</td>\n",
       "      <td>2.749934e+07</td>\n",
       "      <td>2.755946e+07</td>\n",
       "      <td>NaN</td>\n",
       "      <td>NaN</td>\n",
       "      <td>NaN</td>\n",
       "      <td>NaN</td>\n",
       "      <td>NaN</td>\n",
       "      <td>1.676824e+07</td>\n",
       "      <td>164436832.0</td>\n",
       "      <td>NaN</td>\n",
       "    </tr>\n",
       "    <tr>\n",
       "      <th>5142</th>\n",
       "      <td>38218.0</td>\n",
       "      <td>BIT</td>\n",
       "      <td>Coal</td>\n",
       "      <td>23.724</td>\n",
       "      <td>2.833</td>\n",
       "      <td>6052</td>\n",
       "      <td>2015-10-01</td>\n",
       "      <td>2015</td>\n",
       "      <td>10</td>\n",
       "      <td>906683.832</td>\n",
       "      <td>4.505564e+07</td>\n",
       "      <td>4.518092e+07</td>\n",
       "      <td>2.568635e+06</td>\n",
       "      <td>1.312175e+08</td>\n",
       "      <td>2.904269</td>\n",
       "      <td>2.904269</td>\n",
       "      <td>3.750211</td>\n",
       "      <td>5.761318e+06</td>\n",
       "      <td>59451526.0</td>\n",
       "      <td>29.969398</td>\n",
       "    </tr>\n",
       "    <tr>\n",
       "      <th>5694</th>\n",
       "      <td>102054.0</td>\n",
       "      <td>SUB</td>\n",
       "      <td>Coal</td>\n",
       "      <td>17.110</td>\n",
       "      <td>1.240</td>\n",
       "      <td>6077</td>\n",
       "      <td>2015-01-01</td>\n",
       "      <td>2015</td>\n",
       "      <td>1</td>\n",
       "      <td>1746143.940</td>\n",
       "      <td>9.240825e+07</td>\n",
       "      <td>9.274868e+07</td>\n",
       "      <td>2.165218e+06</td>\n",
       "      <td>1.137255e+08</td>\n",
       "      <td>1.226168</td>\n",
       "      <td>1.226168</td>\n",
       "      <td>1.360583</td>\n",
       "      <td>4.725437e+07</td>\n",
       "      <td>479627087.0</td>\n",
       "      <td>12.445486</td>\n",
       "    </tr>\n",
       "  </tbody>\n",
       "</table>\n",
       "</div>"
      ],
      "text/plain": [
       "      fuel_quantity energy_source   fuel_group  average_heat_content  \\\n",
       "4715      2888254.0            NG  Natural Gas                 1.030   \n",
       "4489       184770.0           LIG         Coal                13.816   \n",
       "5142        38218.0           BIT         Coal                23.724   \n",
       "5694       102054.0           SUB         Coal                17.110   \n",
       "\n",
       "      fuel_cost  plant_id report_date  year  month  mmbtu_per_delivery  \\\n",
       "4715        NaN     55667  2013-01-01  2013      1         2974901.620   \n",
       "4489        NaN      7030  2015-09-01  2015      9         2552782.320   \n",
       "5142      2.833      6052  2015-10-01  2015     10          906683.832   \n",
       "5694      1.240      6077  2015-01-01  2015      1         1746143.940   \n",
       "\n",
       "      annual_mmbtu_by_fuel  annual_mmbtu_total  cost_of_delivery  \\\n",
       "4715          3.204935e+07        3.204935e+07               NaN   \n",
       "4489          2.749934e+07        2.755946e+07               NaN   \n",
       "5142          4.505564e+07        4.518092e+07      2.568635e+06   \n",
       "5694          9.240825e+07        9.274868e+07      2.165218e+06   \n",
       "\n",
       "      total_cost_of_delivery  weighted_cost_of_deliveries  \\\n",
       "4715                     NaN                          NaN   \n",
       "4489                     NaN                          NaN   \n",
       "5142            1.312175e+08                     2.904269   \n",
       "5694            1.137255e+08                     1.226168   \n",
       "\n",
       "      weighted_cost_annual  average_annual_fuel_cost  net_generation_mwh_sum  \\\n",
       "4715                   NaN                       NaN            8.661103e+06   \n",
       "4489                   NaN                       NaN            1.676824e+07   \n",
       "5142              2.904269                  3.750211            5.761318e+06   \n",
       "5694              1.226168                  1.360583            4.725437e+07   \n",
       "\n",
       "      fuel_consumed_total_mmbtu_sum  cost_mwh_2  \n",
       "4715                     56183145.0         NaN  \n",
       "4489                    164436832.0         NaN  \n",
       "5142                     59451526.0   29.969398  \n",
       "5694                    479627087.0   12.445486  "
      ]
     },
     "execution_count": 450,
     "metadata": {},
     "output_type": "execute_result"
    }
   ],
   "source": [
    "eia_merged.sample(4)"
   ]
  },
  {
   "cell_type": "markdown",
   "metadata": {},
   "source": [
    "### Let's organize the data\n",
    "We'll split the data into coal and gas based on `fuel_group`, drop values at or below zero, and look at some quantiles for coal and gas, respectively"
   ]
  },
  {
   "cell_type": "code",
   "execution_count": 453,
   "metadata": {
    "collapsed": true
   },
   "outputs": [],
   "source": [
    "coal_eia = eia_merged[eia_merged['fuel_group'] == 'Coal']"
   ]
  },
  {
   "cell_type": "code",
   "execution_count": 462,
   "metadata": {
    "collapsed": true
   },
   "outputs": [],
   "source": [
    "gas_eia = eia_merged[eia_merged['fuel_group'] == 'Natural Gas']"
   ]
  },
  {
   "cell_type": "code",
   "execution_count": 463,
   "metadata": {
    "collapsed": false
   },
   "outputs": [
    {
     "data": {
      "text/plain": [
       "0.01      5.485424\n",
       "0.05     19.868494\n",
       "0.10     25.143571\n",
       "0.20     30.448264\n",
       "0.50     42.540725\n",
       "0.95     94.854923\n",
       "0.99    215.647982\n",
       "Name: cost_mwh_2, dtype: float64"
      ]
     },
     "execution_count": 463,
     "metadata": {},
     "output_type": "execute_result"
    }
   ],
   "source": [
    "gas_eia_no_zero = gas_eia[gas_eia['cost_mwh_2'] > 0]\n",
    "gas_eia_no_zero.cost_mwh_2.quantile(q=[.01,.05,.1,.2,.5,.95,.99])"
   ]
  },
  {
   "cell_type": "code",
   "execution_count": 454,
   "metadata": {
    "collapsed": false
   },
   "outputs": [
    {
     "data": {
      "text/plain": [
       "0.01     9.879200\n",
       "0.05    14.175642\n",
       "0.10    16.984370\n",
       "0.20    19.619498\n",
       "0.50    25.685640\n",
       "0.95    46.771165\n",
       "0.99    59.882862\n",
       "Name: cost_mwh_2, dtype: float64"
      ]
     },
     "execution_count": 454,
     "metadata": {},
     "output_type": "execute_result"
    }
   ],
   "source": [
    "coal_eia_no_zero = coal_eia[coal_eia['cost_mwh_2'] > 0]\n",
    "coal_eia_no_zero.cost_mwh_2.quantile(q=[.01,.05,.1,.2,.5,.95,.99])"
   ]
  },
  {
   "cell_type": "markdown",
   "metadata": {},
   "source": [
    "### Let's make some plots of the data!"
   ]
  },
  {
   "cell_type": "code",
   "execution_count": 455,
   "metadata": {
    "collapsed": false
   },
   "outputs": [
    {
     "data": {
      "image/png": "[encoded data removed]",
      "text/plain": [
       "<matplotlib.figure.Figure at 0x16d02b940>"
      ]
     },
     "metadata": {},
     "output_type": "display_data"
    }
   ],
   "source": [
    "plt.figure(figsize=(7,5))\n",
    "plt.hist(coal_eia_no_zero.cost_mwh_2,bins=100,range=(0,200),alpha=.5,label='coal')\n",
    "plt.xlabel('dollars per MWh')\n",
    "plt.ylabel('number of occurences')\n",
    "plt.legend()\n",
    "plt.title('EIA Fuel Cost per MWh by plant')\n",
    "plt.show()"
   ]
  },
  {
   "cell_type": "code",
   "execution_count": 472,
   "metadata": {
    "collapsed": false
   },
   "outputs": [
    {
     "data": {
      "image/png": "[encoded data removed]",
      "text/plain": [
       "<matplotlib.figure.Figure at 0x16bd697b8>"
      ]
     },
     "metadata": {},
     "output_type": "display_data"
    }
   ],
   "source": [
    "plt.figure(figsize=(7,5))\n",
    "plt.hist(coal_eia_no_zero.cost_mwh_2,bins=100,weights=coal_eia_no_zero.net_generation_mwh_sum,range=(0,200),alpha=.5,label='coal')\n",
    "plt.xlabel('dollars per MWh')\n",
    "plt.ylabel('MWh')\n",
    "plt.legend()\n",
    "plt.title('EIA Fuel Cost per MWh by plant, weighted by net generation')\n",
    "plt.show()"
   ]
  },
  {
   "cell_type": "code",
   "execution_count": 467,
   "metadata": {
    "collapsed": false
   },
   "outputs": [
    {
     "data": {
      "image/png": "[encoded data removed]",
      "text/plain": [
       "<matplotlib.figure.Figure at 0x15df4b518>"
      ]
     },
     "metadata": {},
     "output_type": "display_data"
    }
   ],
   "source": [
    "plt.hist(gas_eia_no_zero.cost_mwh_2,bins=100,range=(0,200),alpha=.5,label='gas')\n",
    "plt.xlabel('dollars per MWh')\n",
    "plt.ylabel('number of occurences')\n",
    "plt.legend()\n",
    "plt.title('EIA Fuel Cost per MWh')\n",
    "plt.show()"
   ]
  },
  {
   "cell_type": "code",
   "execution_count": 471,
   "metadata": {
    "collapsed": false
   },
   "outputs": [
    {
     "data": {
      "image/png": "[encoded data removed]",
      "text/plain": [
       "<matplotlib.figure.Figure at 0x15e299978>"
      ]
     },
     "metadata": {},
     "output_type": "display_data"
    }
   ],
   "source": [
    "plt.hist(gas_eia_no_zero.cost_mwh_2,weights=gas_eia_no_zero.net_generation_mwh_sum,bins=100,range=(0,200),alpha=.5,label='gas')\n",
    "plt.xlabel('dollars per MWh')\n",
    "plt.ylabel('MWh')\n",
    "plt.legend()\n",
    "plt.title('EIA Fuel Cost per MWh')\n",
    "plt.show()"
   ]
  },
  {
   "cell_type": "code",
   "execution_count": 477,
   "metadata": {
    "collapsed": false
   },
   "outputs": [
    {
     "data": {
      "image/png": "[encoded data removed]",
      "text/plain": [
       "<matplotlib.figure.Figure at 0x16a6ba4e0>"
      ]
     },
     "metadata": {},
     "output_type": "display_data"
    }
   ],
   "source": [
    "plt.figure(figsize=(9,6))\n",
    "plt.hist(gas_eia_no_zero.cost_mwh_2,weights=gas_eia_no_zero.net_generation_mwh_sum,bins=100,range=(0,200),alpha=.5,label='gas')\n",
    "plt.hist(coal_eia_no_zero.cost_mwh_2,bins=100,weights=coal_eia_no_zero.net_generation_mwh_sum,range=(0,200),alpha=.5,label='coal')\n",
    "plt.xlabel('dollars per MWh')\n",
    "plt.ylabel('MWh')\n",
    "plt.legend()\n",
    "plt.title('EIA Fuel Cost per MWh weighted by MWh')\n",
    "plt.show()"
   ]
  },
  {
   "cell_type": "markdown",
   "metadata": {},
   "source": [
    "## FERC Fuel cost per MWh\n",
    "\n",
    "We'll use the quantile values from the EIA cost per MWh data to clean the F1 fuel data from FERC. There are at least two populations, one where the cost values are in dollars and one where the cost values are in cents."
   ]
  },
  {
   "cell_type": "code",
   "execution_count": 480,
   "metadata": {
    "collapsed": false,
    "scrolled": true
   },
   "outputs": [
    {
     "data": {
      "image/png": "[encoded data removed]",
      "text/plain": [
       "<matplotlib.figure.Figure at 0x1651cb4e0>"
      ]
     },
     "metadata": {},
     "output_type": "display_data"
    },
    {
     "data": {
      "text/plain": [
       "(<matplotlib.figure.Figure at 0x1651cb4e0>, 3.8690476190476191)"
      ]
     },
     "execution_count": 480,
     "metadata": {},
     "output_type": "execute_result"
    }
   ],
   "source": [
    "coal_zero_zero = coal[coal.fuel_cost_per_mwh > 0]\n",
    "to_fix_coal_cost_per_mwh = coal_zero_zero.fuel_cost_per_mwh\n",
    "fixed_coal_per_mwh = fixit(coal_zero_zero.fuel_cost_per_mwh,9,59,[.01])\n",
    "\n",
    "showfix(to_fix_coal_cost_per_mwh,fixed_coal_per_mwh,'FERC Coal fuel cost per MWh','dollars per MWh','occurences')"
   ]
  },
  {
   "cell_type": "code",
   "execution_count": 479,
   "metadata": {
    "collapsed": false
   },
   "outputs": [
    {
     "data": {
      "image/png": "[encoded data removed]",
      "text/plain": [
       "<matplotlib.figure.Figure at 0x16d668f28>"
      ]
     },
     "metadata": {},
     "output_type": "display_data"
    },
    {
     "data": {
      "text/plain": [
       "(<matplotlib.figure.Figure at 0x16d668f28>, 7.6588810429114611)"
      ]
     },
     "execution_count": 479,
     "metadata": {},
     "output_type": "execute_result"
    }
   ],
   "source": [
    "gas_zero_zero = gas[gas.fuel_cost_per_mwh > 0]\n",
    "to_fix_gas_cost_per_mwh = gas_zero_zero.fuel_cost_per_mwh\n",
    "fixed_gas_per_mwh = fixit(gas_zero_zero.fuel_cost_per_mwh,5,215,[.01])\n",
    "\n",
    "showfix(to_fix_gas_cost_per_mwh,fixed_gas_per_mwh,'FERC Gas fuel cost per MWh','dollars per MWh','occurences')"
   ]
  }
 ],
 "metadata": {
  "anaconda-cloud": {},
  "kernelspec": {
   "display_name": "Python 3",
   "language": "python",
   "name": "python3"
  },
  "language_info": {
   "codemirror_mode": {
    "name": "ipython",
    "version": 3
   },
   "file_extension": ".py",
   "mimetype": "text/x-python",
   "name": "python",
   "nbconvert_exporter": "python",
   "pygments_lexer": "ipython3",
   "version": "3.6.0"
  }
 },
 "nbformat": 4,
 "nbformat_minor": 1
}
