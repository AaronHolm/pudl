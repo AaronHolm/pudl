{
 "cells": [
  {
   "cell_type": "markdown",
   "metadata": {},
   "source": [
    "## Cleaning FERC 1 Fuel data\n",
    "This notebook is meant to help get you understand the data cleaning process for FERC Form 1 fuel data for heat content and price per MMBTU data."
   ]
  },
  {
   "cell_type": "code",
   "execution_count": 1,
   "metadata": {
    "collapsed": false
   },
   "outputs": [],
   "source": [
    "import sys\n",
    "import os\n",
    "sys.path.append(os.path.abspath(os.path.join('..','..')))\n",
    "from pudl import pudl, ferc1, eia923, settings, constants\n",
    "from pudl import models, models_ferc1, models_eia923\n",
    "import numpy as np\n",
    "import pandas as pd\n",
    "import matplotlib.pyplot as plt\n",
    "%matplotlib inline"
   ]
  },
  {
   "cell_type": "code",
   "execution_count": 2,
   "metadata": {
    "collapsed": false
   },
   "outputs": [],
   "source": [
    "pudl_engine = pudl.db_connect_pudl()"
   ]
  },
  {
   "cell_type": "markdown",
   "metadata": {
    "collapsed": false
   },
   "source": [
    "## Define a function to clean data frames: What kind of errors are we fixing? Why is this kind of function a reasonable thing to do?\n",
    "Looking at some of the distributions of the data below, it becomes clear immediately that there are the data was originally entered in a variety of ways. \n",
    "\n",
    "Data has been entered in the different units, for example coal heat content values are entered in mmbtu per pound for some records while for most records it is entered in mmbtu per ton. Similarly we see data entered in different orders of magnitude, like gas heat content values entered in mmbtu per cubic foot rather than in mmbtu per thousand cubic foot.\n",
    "\n",
    "Since these data entry differences are separated by two or more orders of magnitude, we can often clearly delineate between populations. We can identify the primary distribution of values by looking at alternative sources, like the EIA, for the same data set and looking at physical properties of the fuels. For example, the average heat content of a ton of U.S. coal is roughly 20 mmbtu. We can identify the end points of the primary distrubtion in other data sources and apply that range of values to the FERC data to identify the primary distribtuion in the FERC data.\n",
    "\n",
    "Since data outside of the primary distribution is in most cases easily distinguishable and off by a an order of magnitude (e.g. 2000 for heat content per pound rather than per ton) we can with reasonable confidence use a small set of multipliers to bring outlying populations of data into the primary distribtuion, correcting for errors in how the data was entered.\n",
    "\n",
    "First let's pull in the applicable data from the PUDL FERC tables:"
   ]
  },
  {
   "cell_type": "code",
   "execution_count": 3,
   "metadata": {
    "collapsed": false
   },
   "outputs": [],
   "source": [
    "fuel_df = pd.read_sql('''SELECT * from fuel_ferc1''',pudl_engine)\n",
    "coal = fuel_df[fuel_df.fuel=='coal']\n",
    "gas = fuel_df[fuel_df.fuel=='gas']"
   ]
  },
  {
   "cell_type": "markdown",
   "metadata": {},
   "source": [
    "Then, we'll define a function that takes as arguments: \n",
    "\n",
    "- a data series to be cleaned\n",
    "- minimum and maximum values bounding the reasonable range of values for the series\n",
    "- multipliers (a list) to the minimum and maximum values are divided to define additional ranges of data, which are brought into the reasonable range by multiplying the values in the additional ranges by the multipliers (e.g. if a set of values is 1000 times too large to fit in the reasonable range, its multiplier will be .001).\n",
    "\n",
    "The function will return a cleaned series."
   ]
  },
  {
   "cell_type": "code",
   "execution_count": 4,
   "metadata": {
    "collapsed": false
   },
   "outputs": [],
   "source": [
    "def fixit(tofix, min, max, mults):\n",
    "    \n",
    "    fixed = tofix.copy()\n",
    "    fixed = fixed[fixed > 0]\n",
    "    for mult in mults:\n",
    "        fixed = fixed.apply(lambda x: x*mult if x > min/mult and x < max/mult else x)\n",
    "    fixed = fixed.apply(lambda x: np.nan if x < min or x > max else x)\n",
    "    return(fixed)"
   ]
  },
  {
   "cell_type": "markdown",
   "metadata": {},
   "source": [
    "We'll next define a function to show us graphs of what the data looks like before and after it is cleaned, and to show us how much data the cleaning process was not able to clean. This function will take 5 arguments:\n",
    "\n",
    "- a series of data to be cleaned\n",
    "- a series of data which has been cleaned by the cleaning function\n",
    "- the title (string) to apply to the before and after graphs\n",
    "- the x label (string) to apply to the before and after graphs\n",
    "- the y label (string) to apply to the before and after graphs\n",
    "\n",
    "The function will returned the before and after graphs and the percentage of how many values were not cleaned and were instead set to NaN.\n",
    "\n",
    "Our showfix function first displays unaltered populations on a log-log scale for two reasons. These populations are separated by orders of magnitude and it would be difficult to show them on the same graph otherwise. These populations are also often vastly different sizes: when one population is has thousands of occurences and the other tens, one is not able to see both without a logarthmic scale.\n",
    "\n",
    "The showfix function then displays the data once multipliers have been applied to the populations. This population necessarily lies in the same order of magnitude so a linear x axis scale makes sense for view. It's more intuitive for most to view the frequency of occurences on a linear scale as well so a linear y axis is used as well. "
   ]
  },
  {
   "cell_type": "code",
   "execution_count": 5,
   "metadata": {
    "collapsed": true
   },
   "outputs": [],
   "source": [
    "def showfix(tofix,fixed,title,xlabel,ylabel):\n",
    "    \n",
    "    min_1 = tofix[tofix > 0].min()\n",
    "    max_1 = tofix.max()\n",
    "    fraction_lost =  ( fixed.isnull().sum() / len(fixed) ) * 100\n",
    "    show_fraction = 'The percentage of values set to NaN is {} %'\\\n",
    "    .format(round(fraction_lost,2))\n",
    "    font = {'family': 'serif',\n",
    "        'color':  'darkred',\n",
    "        'weight': 'normal',\n",
    "        'size': 14,\n",
    "        }\n",
    "    \n",
    "    fig_1 = plt.figure(figsize=(16,12))\n",
    "    plt.subplot(2,1,1)\n",
    "    plt.title(title)\n",
    "    plt.xlabel(xlabel, fontsize=12)\n",
    "    plt.ylabel(ylabel, fontsize=12)\n",
    "    plt.grid()\n",
    "    ax = fig_1.axes[0]\n",
    "    ax.set_xscale('log')\n",
    "    ax.set_yscale('log')\n",
    "\n",
    "    plt.xlim(min_1,max_1)\n",
    "    plt.hist(tofix, bins=np.logspace(np.log10(min_1), np.log10(max_1), 100))\n",
    "    \n",
    "    plt.subplot(2,1,2)\n",
    "    plt.xlabel(xlabel, fontsize=12)\n",
    "    plt.ylabel(ylabel, fontsize=12)\n",
    "    plt.grid()\n",
    "    plt.hist(fixed.dropna(),bins=100)\n",
    "    plt.text(0, .05, show_fraction, transform=fig_1.transFigure,fontdict=font)\n",
    "    plt.show()"
   ]
  },
  {
   "cell_type": "markdown",
   "metadata": {},
   "source": [
    "We'll define a simple graphing function to help us make the graph and a flexible graphing function to help us make slightly more complex graphs later on."
   ]
  },
  {
   "cell_type": "code",
   "execution_count": 6,
   "metadata": {
    "collapsed": true
   },
   "outputs": [],
   "source": [
    "def simplegraph(series,xlabel,ylabel,title,range1,range2):\n",
    "    plt.figure(figsize=(10,7))\n",
    "    plt.xlabel(xlabel, fontsize=12)\n",
    "    plt.ylabel(ylabel, fontsize=12)\n",
    "    plt.title(title)\n",
    "    plt.hist(series,bins=100,range=(range1,range2))\n",
    "    plt.show()"
   ]
  },
  {
   "cell_type": "code",
   "execution_count": 7,
   "metadata": {
    "collapsed": true
   },
   "outputs": [],
   "source": [
    "def flexiblegraph(series,xlabel,ylabel,title,yscale,range1,range2,bins):\n",
    "    plt.figure(figsize=(10,7))\n",
    "    plt.xlabel(xlabel, fontsize=12)\n",
    "    plt.ylabel(ylabel, fontsize=12)\n",
    "    plt.title(title)\n",
    "    plt.yscale(yscale)\n",
    "    plt.hist(series,bins=bins,range=(range1,range2))\n",
    "    plt.show()"
   ]
  },
  {
   "cell_type": "markdown",
   "metadata": {},
   "source": [
    "## FERC Form 1 Cost per mmbtu\n",
    "Let's use these two functions to clean the cost per mmbtu of Form 1 coal and gas data, respectively.\n",
    "\n",
    "One would expect to find the main distribution of coal cost per mmbtu around $2 per mmbtu (per EIA monthly data https://www.eia.gov/electricity/monthly/epm_table_grapher.cfm?t=epmt_4_10_a and annual data https://www.eia.gov/electricity/annual/html/epa_07_04.html). Zooming in on this population, one sees that most of the values lie between .5 and 6 dollars per mmbtu."
   ]
  },
  {
   "cell_type": "code",
   "execution_count": 49,
   "metadata": {
    "collapsed": false
   },
   "outputs": [
    {
     "data": {
      "image/png": "[encoded data removed]",
      "text/plain": [
       "<matplotlib.figure.Figure at 0x1148e3438>"
      ]
     },
     "metadata": {},
     "output_type": "display_data"
    }
   ],
   "source": [
    "simplegraph(coal.fuel_cost_per_mmbtu,'dollars per mmbtu','number of occurences', 'FERC Coal cost per mmbtu', .5,10)"
   ]
  },
  {
   "cell_type": "markdown",
   "metadata": {},
   "source": [
    "We can compare these results to EIA 923 data. We'll start by pulling the fuel receipts and costs data. When weighted by the amount of fuel delivered we see that most values lie between .5 and 7 dollars. We'll use these values to define the bounds of the main population of FERC data."
   ]
  },
  {
   "cell_type": "code",
   "execution_count": null,
   "metadata": {
    "collapsed": true
   },
   "outputs": [],
   "source": [
    "fuel_rc = pd.read_sql('''SELECT fuel_quantity,energy_source, fuel_group, average_heat_content, fuel_cost, plant_id, report_date \\\n",
    "FROM fuel_receipts_costs_eia923''', con = pudl_engine)"
   ]
  },
  {
   "cell_type": "code",
   "execution_count": 110,
   "metadata": {
    "collapsed": false
   },
   "outputs": [
    {
     "name": "stderr",
     "output_type": "stream",
     "text": [
      "/Users/Nannerz/anaconda3/lib/python3.6/site-packages/numpy/lib/function_base.py:583: RuntimeWarning: invalid value encountered in greater_equal\n",
      "  keep = (tmp_a >= mn)\n",
      "/Users/Nannerz/anaconda3/lib/python3.6/site-packages/numpy/lib/function_base.py:584: RuntimeWarning: invalid value encountered in less_equal\n",
      "  keep &= (tmp_a <= mx)\n"
     ]
    },
    {
     "data": {
      "text/plain": [
       "<matplotlib.text.Text at 0x1932e2438>"
      ]
     },
     "execution_count": 110,
     "metadata": {},
     "output_type": "execute_result"
    },
    {
     "data": {
      "image/png": "[encoded data removed]",
      "text/plain": [
       "<matplotlib.figure.Figure at 0x171a8d828>"
      ]
     },
     "metadata": {},
     "output_type": "display_data"
    }
   ],
   "source": [
    "plt.figure(figsize=(14,10))\n",
    "plt.hist(eia_rc_coal.fuel_cost,range=(0,10),weights=eia_rc_coal.fuel_quantity,bins=100)\n",
    "plt.title('EIA fuel receipts and costs: fuel cost by fuel group: Coal, weighted by quantity delivered')\n",
    "plt.ylabel('tons')\n",
    "plt.xlabel('dollars per mmbtu')"
   ]
  },
  {
   "cell_type": "markdown",
   "metadata": {},
   "source": [
    "The population begins around .5."
   ]
  },
  {
   "cell_type": "code",
   "execution_count": 111,
   "metadata": {
    "collapsed": false
   },
   "outputs": [
    {
     "name": "stderr",
     "output_type": "stream",
     "text": [
      "/Users/Nannerz/anaconda3/lib/python3.6/site-packages/numpy/lib/function_base.py:583: RuntimeWarning: invalid value encountered in greater_equal\n",
      "  keep = (tmp_a >= mn)\n",
      "/Users/Nannerz/anaconda3/lib/python3.6/site-packages/numpy/lib/function_base.py:584: RuntimeWarning: invalid value encountered in less_equal\n",
      "  keep &= (tmp_a <= mx)\n"
     ]
    },
    {
     "data": {
      "text/plain": [
       "<matplotlib.text.Text at 0x1365b6f60>"
      ]
     },
     "execution_count": 111,
     "metadata": {},
     "output_type": "execute_result"
    },
    {
     "data": {
      "image/png": "[encoded data removed]",
      "text/plain": [
       "<matplotlib.figure.Figure at 0x12c4d7390>"
      ]
     },
     "metadata": {},
     "output_type": "display_data"
    }
   ],
   "source": [
    "plt.figure(figsize=(14,10))\n",
    "plt.hist(eia_rc_coal.fuel_cost,range=(0,1),weights=eia_rc_coal.fuel_quantity,bins=100)\n",
    "plt.title('EIA fuel receipts and costs: fuel cost by fuel group: Coal, weighted by quantity delivered')\n",
    "plt.ylabel('tons')\n",
    "plt.xlabel('dollars per mmbtu')"
   ]
  },
  {
   "cell_type": "markdown",
   "metadata": {},
   "source": [
    "The population ends around 7.5."
   ]
  },
  {
   "cell_type": "code",
   "execution_count": 112,
   "metadata": {
    "collapsed": false
   },
   "outputs": [
    {
     "name": "stderr",
     "output_type": "stream",
     "text": [
      "/Users/Nannerz/anaconda3/lib/python3.6/site-packages/numpy/lib/function_base.py:583: RuntimeWarning: invalid value encountered in greater_equal\n",
      "  keep = (tmp_a >= mn)\n",
      "/Users/Nannerz/anaconda3/lib/python3.6/site-packages/numpy/lib/function_base.py:584: RuntimeWarning: invalid value encountered in less_equal\n",
      "  keep &= (tmp_a <= mx)\n"
     ]
    },
    {
     "data": {
      "text/plain": [
       "<matplotlib.text.Text at 0x126b01e80>"
      ]
     },
     "execution_count": 112,
     "metadata": {},
     "output_type": "execute_result"
    },
    {
     "data": {
      "image/png": "[encoded data removed]",
      "text/plain": [
       "<matplotlib.figure.Figure at 0x122dd6940>"
      ]
     },
     "metadata": {},
     "output_type": "display_data"
    }
   ],
   "source": [
    "plt.figure(figsize=(14,10))\n",
    "plt.hist(eia_rc_coal.fuel_cost,range=(6,8),weights=eia_rc_coal.fuel_quantity,bins=100)\n",
    "plt.title('EIA fuel receipts and costs: fuel cost by fuel group: Coal, weighted by quantity delivered')\n",
    "plt.ylabel('tons')\n",
    "plt.xlabel('dollars per mmbtu')"
   ]
  },
  {
   "cell_type": "markdown",
   "metadata": {},
   "source": [
    "Returning our attention to the FERC data, there are two outlying populations: \n",
    "- one population around .002, which values are all associated with one utility, respondent_id 130.\n",
    "- one population around 200, which is off by a factor of 100, as the utility reported cost in cents per mmbtu, rather than dollars per mmbtu.\n",
    "\n",
    "Let's take a look at the population around .001. All of these values appear to be attributable to `respondent_id` 130."
   ]
  },
  {
   "cell_type": "code",
   "execution_count": 36,
   "metadata": {
    "collapsed": false
   },
   "outputs": [
    {
     "data": {
      "image/png": "[encoded data removed]",
      "text/plain": [
       "<matplotlib.figure.Figure at 0x11364b4e0>"
      ]
     },
     "metadata": {},
     "output_type": "display_data"
    }
   ],
   "source": [
    "simplegraph(coal.fuel_cost_per_mmbtu,'dollars per mmbtu','number of occurences', 'FERC Coal cost per mmbtu', .00001,.01)"
   ]
  },
  {
   "cell_type": "code",
   "execution_count": 145,
   "metadata": {
    "collapsed": false
   },
   "outputs": [
    {
     "data": {
      "text/html": [
       "<div>\n",
       "<table border=\"1\" class=\"dataframe\">\n",
       "  <thead>\n",
       "    <tr style=\"text-align: right;\">\n",
       "      <th></th>\n",
       "      <th>id</th>\n",
       "      <th>respondent_id</th>\n",
       "      <th>plant_name</th>\n",
       "      <th>report_year</th>\n",
       "      <th>fuel</th>\n",
       "      <th>fuel_unit</th>\n",
       "      <th>fuel_qty_burned</th>\n",
       "      <th>fuel_avg_mmbtu_per_unit</th>\n",
       "      <th>fuel_cost_per_unit_burned</th>\n",
       "      <th>fuel_cost_per_unit_delivered</th>\n",
       "      <th>fuel_cost_per_mmbtu</th>\n",
       "      <th>fuel_cost_per_mwh</th>\n",
       "      <th>fuel_mmbtu_per_mwh</th>\n",
       "    </tr>\n",
       "  </thead>\n",
       "  <tbody>\n",
       "    <tr>\n",
       "      <th>1055</th>\n",
       "      <td>1056</td>\n",
       "      <td>130</td>\n",
       "      <td>Sooner</td>\n",
       "      <td>2007</td>\n",
       "      <td>coal</td>\n",
       "      <td>ton</td>\n",
       "      <td>3780090.0</td>\n",
       "      <td>0.017590</td>\n",
       "      <td>19.708</td>\n",
       "      <td>0.0</td>\n",
       "      <td>0.001</td>\n",
       "      <td>11.0</td>\n",
       "      <td>10.238</td>\n",
       "    </tr>\n",
       "    <tr>\n",
       "      <th>1058</th>\n",
       "      <td>1059</td>\n",
       "      <td>130</td>\n",
       "      <td>Muskogee</td>\n",
       "      <td>2007</td>\n",
       "      <td>coal</td>\n",
       "      <td>ton</td>\n",
       "      <td>4998369.0</td>\n",
       "      <td>0.017577</td>\n",
       "      <td>20.719</td>\n",
       "      <td>0.0</td>\n",
       "      <td>0.001</td>\n",
       "      <td>12.0</td>\n",
       "      <td>10.495</td>\n",
       "    </tr>\n",
       "    <tr>\n",
       "      <th>1602</th>\n",
       "      <td>1603</td>\n",
       "      <td>130</td>\n",
       "      <td>Sooner</td>\n",
       "      <td>2008</td>\n",
       "      <td>coal</td>\n",
       "      <td>ton</td>\n",
       "      <td>4510024.0</td>\n",
       "      <td>17.584000</td>\n",
       "      <td>19.349</td>\n",
       "      <td>0.0</td>\n",
       "      <td>0.001</td>\n",
       "      <td>11.0</td>\n",
       "      <td>10.299</td>\n",
       "    </tr>\n",
       "    <tr>\n",
       "      <th>1605</th>\n",
       "      <td>1606</td>\n",
       "      <td>130</td>\n",
       "      <td>Muskogee</td>\n",
       "      <td>2008</td>\n",
       "      <td>coal</td>\n",
       "      <td>ton</td>\n",
       "      <td>5836557.0</td>\n",
       "      <td>17.582000</td>\n",
       "      <td>20.920</td>\n",
       "      <td>0.0</td>\n",
       "      <td>0.001</td>\n",
       "      <td>18.0</td>\n",
       "      <td>10.459</td>\n",
       "    </tr>\n",
       "    <tr>\n",
       "      <th>2869</th>\n",
       "      <td>2870</td>\n",
       "      <td>130</td>\n",
       "      <td>Sooner</td>\n",
       "      <td>2009</td>\n",
       "      <td>coal</td>\n",
       "      <td>ton</td>\n",
       "      <td>3877888.0</td>\n",
       "      <td>17.605000</td>\n",
       "      <td>30.904</td>\n",
       "      <td>0.0</td>\n",
       "      <td>0.002</td>\n",
       "      <td>18.0</td>\n",
       "      <td>10.425</td>\n",
       "    </tr>\n",
       "    <tr>\n",
       "      <th>2872</th>\n",
       "      <td>2873</td>\n",
       "      <td>130</td>\n",
       "      <td>Muskogee</td>\n",
       "      <td>2009</td>\n",
       "      <td>coal</td>\n",
       "      <td>ton</td>\n",
       "      <td>5139685.0</td>\n",
       "      <td>17.630000</td>\n",
       "      <td>28.810</td>\n",
       "      <td>0.0</td>\n",
       "      <td>0.002</td>\n",
       "      <td>15.0</td>\n",
       "      <td>9.235</td>\n",
       "    </tr>\n",
       "    <tr>\n",
       "      <th>5032</th>\n",
       "      <td>5033</td>\n",
       "      <td>130</td>\n",
       "      <td>Sooner</td>\n",
       "      <td>2010</td>\n",
       "      <td>coal</td>\n",
       "      <td>ton</td>\n",
       "      <td>3471416.0</td>\n",
       "      <td>17.600000</td>\n",
       "      <td>33.949</td>\n",
       "      <td>0.0</td>\n",
       "      <td>0.002</td>\n",
       "      <td>20.0</td>\n",
       "      <td>10.197</td>\n",
       "    </tr>\n",
       "    <tr>\n",
       "      <th>5034</th>\n",
       "      <td>5035</td>\n",
       "      <td>130</td>\n",
       "      <td>Muskogee</td>\n",
       "      <td>2010</td>\n",
       "      <td>coal</td>\n",
       "      <td>ton</td>\n",
       "      <td>5046150.0</td>\n",
       "      <td>17.581000</td>\n",
       "      <td>31.196</td>\n",
       "      <td>0.0</td>\n",
       "      <td>0.002</td>\n",
       "      <td>190.0</td>\n",
       "      <td>10.939</td>\n",
       "    </tr>\n",
       "    <tr>\n",
       "      <th>6468</th>\n",
       "      <td>6469</td>\n",
       "      <td>130</td>\n",
       "      <td>Sooner</td>\n",
       "      <td>2011</td>\n",
       "      <td>coal</td>\n",
       "      <td>ton</td>\n",
       "      <td>4059847.0</td>\n",
       "      <td>17.601000</td>\n",
       "      <td>36.723</td>\n",
       "      <td>0.0</td>\n",
       "      <td>0.002</td>\n",
       "      <td>22.0</td>\n",
       "      <td>10.469</td>\n",
       "    </tr>\n",
       "    <tr>\n",
       "      <th>6470</th>\n",
       "      <td>6471</td>\n",
       "      <td>130</td>\n",
       "      <td>Muskogee</td>\n",
       "      <td>2011</td>\n",
       "      <td>coal</td>\n",
       "      <td>ton</td>\n",
       "      <td>5321781.0</td>\n",
       "      <td>17.640000</td>\n",
       "      <td>32.789</td>\n",
       "      <td>0.0</td>\n",
       "      <td>0.002</td>\n",
       "      <td>20.0</td>\n",
       "      <td>10.831</td>\n",
       "    </tr>\n",
       "    <tr>\n",
       "      <th>8085</th>\n",
       "      <td>8086</td>\n",
       "      <td>130</td>\n",
       "      <td>Sooner</td>\n",
       "      <td>2012</td>\n",
       "      <td>coal</td>\n",
       "      <td>ton</td>\n",
       "      <td>3570879.0</td>\n",
       "      <td>17.553167</td>\n",
       "      <td>39.907</td>\n",
       "      <td>0.0</td>\n",
       "      <td>0.002</td>\n",
       "      <td>25.0</td>\n",
       "      <td>10.881</td>\n",
       "    </tr>\n",
       "    <tr>\n",
       "      <th>8087</th>\n",
       "      <td>8088</td>\n",
       "      <td>130</td>\n",
       "      <td>Muskogee</td>\n",
       "      <td>2012</td>\n",
       "      <td>coal</td>\n",
       "      <td>ton</td>\n",
       "      <td>5031695.0</td>\n",
       "      <td>17.540858</td>\n",
       "      <td>35.202</td>\n",
       "      <td>0.0</td>\n",
       "      <td>0.002</td>\n",
       "      <td>22.0</td>\n",
       "      <td>11.177</td>\n",
       "    </tr>\n",
       "    <tr>\n",
       "      <th>8533</th>\n",
       "      <td>8534</td>\n",
       "      <td>130</td>\n",
       "      <td>Sooner</td>\n",
       "      <td>2013</td>\n",
       "      <td>coal</td>\n",
       "      <td>ton</td>\n",
       "      <td>3687724.0</td>\n",
       "      <td>17.518500</td>\n",
       "      <td>38.633</td>\n",
       "      <td>0.0</td>\n",
       "      <td>0.002</td>\n",
       "      <td>24.0</td>\n",
       "      <td>10.831</td>\n",
       "    </tr>\n",
       "    <tr>\n",
       "      <th>8535</th>\n",
       "      <td>8536</td>\n",
       "      <td>130</td>\n",
       "      <td>Muskogee</td>\n",
       "      <td>2013</td>\n",
       "      <td>coal</td>\n",
       "      <td>ton</td>\n",
       "      <td>4191162.0</td>\n",
       "      <td>17.568345</td>\n",
       "      <td>36.118</td>\n",
       "      <td>0.0</td>\n",
       "      <td>0.002</td>\n",
       "      <td>22.0</td>\n",
       "      <td>10.825</td>\n",
       "    </tr>\n",
       "    <tr>\n",
       "      <th>10022</th>\n",
       "      <td>10023</td>\n",
       "      <td>130</td>\n",
       "      <td>Sooner</td>\n",
       "      <td>2014</td>\n",
       "      <td>coal</td>\n",
       "      <td>ton</td>\n",
       "      <td>3509814.0</td>\n",
       "      <td>17.420333</td>\n",
       "      <td>42.478</td>\n",
       "      <td>0.0</td>\n",
       "      <td>0.002</td>\n",
       "      <td>25.0</td>\n",
       "      <td>10.386</td>\n",
       "    </tr>\n",
       "    <tr>\n",
       "      <th>10024</th>\n",
       "      <td>10025</td>\n",
       "      <td>130</td>\n",
       "      <td>Muskogee</td>\n",
       "      <td>2014</td>\n",
       "      <td>coal</td>\n",
       "      <td>ton</td>\n",
       "      <td>5119625.0</td>\n",
       "      <td>17.343169</td>\n",
       "      <td>34.084</td>\n",
       "      <td>0.0</td>\n",
       "      <td>0.002</td>\n",
       "      <td>22.0</td>\n",
       "      <td>11.067</td>\n",
       "    </tr>\n",
       "    <tr>\n",
       "      <th>12253</th>\n",
       "      <td>12254</td>\n",
       "      <td>130</td>\n",
       "      <td>Sooner</td>\n",
       "      <td>2015</td>\n",
       "      <td>coal</td>\n",
       "      <td>ton</td>\n",
       "      <td>3357419.0</td>\n",
       "      <td>17.420333</td>\n",
       "      <td>35.810</td>\n",
       "      <td>0.0</td>\n",
       "      <td>0.002</td>\n",
       "      <td>21.0</td>\n",
       "      <td>10.374</td>\n",
       "    </tr>\n",
       "    <tr>\n",
       "      <th>12255</th>\n",
       "      <td>12256</td>\n",
       "      <td>130</td>\n",
       "      <td>Muskogee</td>\n",
       "      <td>2015</td>\n",
       "      <td>coal</td>\n",
       "      <td>ton</td>\n",
       "      <td>2923385.0</td>\n",
       "      <td>17.343169</td>\n",
       "      <td>36.375</td>\n",
       "      <td>0.0</td>\n",
       "      <td>0.002</td>\n",
       "      <td>23.0</td>\n",
       "      <td>11.130</td>\n",
       "    </tr>\n",
       "  </tbody>\n",
       "</table>\n",
       "</div>"
      ],
      "text/plain": [
       "          id  respondent_id plant_name  report_year  fuel fuel_unit  \\\n",
       "1055    1056            130     Sooner         2007  coal       ton   \n",
       "1058    1059            130   Muskogee         2007  coal       ton   \n",
       "1602    1603            130     Sooner         2008  coal       ton   \n",
       "1605    1606            130   Muskogee         2008  coal       ton   \n",
       "2869    2870            130     Sooner         2009  coal       ton   \n",
       "2872    2873            130   Muskogee         2009  coal       ton   \n",
       "5032    5033            130     Sooner         2010  coal       ton   \n",
       "5034    5035            130   Muskogee         2010  coal       ton   \n",
       "6468    6469            130     Sooner         2011  coal       ton   \n",
       "6470    6471            130   Muskogee         2011  coal       ton   \n",
       "8085    8086            130     Sooner         2012  coal       ton   \n",
       "8087    8088            130   Muskogee         2012  coal       ton   \n",
       "8533    8534            130     Sooner         2013  coal       ton   \n",
       "8535    8536            130   Muskogee         2013  coal       ton   \n",
       "10022  10023            130     Sooner         2014  coal       ton   \n",
       "10024  10025            130   Muskogee         2014  coal       ton   \n",
       "12253  12254            130     Sooner         2015  coal       ton   \n",
       "12255  12256            130   Muskogee         2015  coal       ton   \n",
       "\n",
       "       fuel_qty_burned  fuel_avg_mmbtu_per_unit  fuel_cost_per_unit_burned  \\\n",
       "1055         3780090.0                 0.017590                     19.708   \n",
       "1058         4998369.0                 0.017577                     20.719   \n",
       "1602         4510024.0                17.584000                     19.349   \n",
       "1605         5836557.0                17.582000                     20.920   \n",
       "2869         3877888.0                17.605000                     30.904   \n",
       "2872         5139685.0                17.630000                     28.810   \n",
       "5032         3471416.0                17.600000                     33.949   \n",
       "5034         5046150.0                17.581000                     31.196   \n",
       "6468         4059847.0                17.601000                     36.723   \n",
       "6470         5321781.0                17.640000                     32.789   \n",
       "8085         3570879.0                17.553167                     39.907   \n",
       "8087         5031695.0                17.540858                     35.202   \n",
       "8533         3687724.0                17.518500                     38.633   \n",
       "8535         4191162.0                17.568345                     36.118   \n",
       "10022        3509814.0                17.420333                     42.478   \n",
       "10024        5119625.0                17.343169                     34.084   \n",
       "12253        3357419.0                17.420333                     35.810   \n",
       "12255        2923385.0                17.343169                     36.375   \n",
       "\n",
       "       fuel_cost_per_unit_delivered  fuel_cost_per_mmbtu  fuel_cost_per_mwh  \\\n",
       "1055                            0.0                0.001               11.0   \n",
       "1058                            0.0                0.001               12.0   \n",
       "1602                            0.0                0.001               11.0   \n",
       "1605                            0.0                0.001               18.0   \n",
       "2869                            0.0                0.002               18.0   \n",
       "2872                            0.0                0.002               15.0   \n",
       "5032                            0.0                0.002               20.0   \n",
       "5034                            0.0                0.002              190.0   \n",
       "6468                            0.0                0.002               22.0   \n",
       "6470                            0.0                0.002               20.0   \n",
       "8085                            0.0                0.002               25.0   \n",
       "8087                            0.0                0.002               22.0   \n",
       "8533                            0.0                0.002               24.0   \n",
       "8535                            0.0                0.002               22.0   \n",
       "10022                           0.0                0.002               25.0   \n",
       "10024                           0.0                0.002               22.0   \n",
       "12253                           0.0                0.002               21.0   \n",
       "12255                           0.0                0.002               23.0   \n",
       "\n",
       "       fuel_mmbtu_per_mwh  \n",
       "1055               10.238  \n",
       "1058               10.495  \n",
       "1602               10.299  \n",
       "1605               10.459  \n",
       "2869               10.425  \n",
       "2872                9.235  \n",
       "5032               10.197  \n",
       "5034               10.939  \n",
       "6468               10.469  \n",
       "6470               10.831  \n",
       "8085               10.881  \n",
       "8087               11.177  \n",
       "8533               10.831  \n",
       "8535               10.825  \n",
       "10022              10.386  \n",
       "10024              11.067  \n",
       "12253              10.374  \n",
       "12255              11.130  "
      ]
     },
     "execution_count": 145,
     "metadata": {},
     "output_type": "execute_result"
    }
   ],
   "source": [
    "coal[(coal.fuel_cost_per_mmbtu > 0) & (coal.fuel_cost_per_mmbtu < .004)]"
   ]
  },
  {
   "cell_type": "markdown",
   "metadata": {},
   "source": [
    "Let's take a look at the population around 200. The shape mirrors the primary distribution. These values were likely the result of a utility entering cost per mmbtu in cents rather than dollars."
   ]
  },
  {
   "cell_type": "code",
   "execution_count": 34,
   "metadata": {
    "collapsed": false
   },
   "outputs": [
    {
     "data": {
      "image/png": "[encoded data removed]",
      "text/plain": [
       "<matplotlib.figure.Figure at 0x113aa0d68>"
      ]
     },
     "metadata": {},
     "output_type": "display_data"
    }
   ],
   "source": [
    "simplegraph(coal.fuel_cost_per_mmbtu,'dollars per mmbtu','number of occurences', 'FERC Coal cost per mmbtu', 100,600)"
   ]
  },
  {
   "cell_type": "markdown",
   "metadata": {},
   "source": [
    "There is also a cluster of values around 2000 but it is unclear what is causing these values to be off by 1000. The shape does not resemble the primary distrubtion as much as the previous population."
   ]
  },
  {
   "cell_type": "code",
   "execution_count": 193,
   "metadata": {
    "collapsed": false
   },
   "outputs": [
    {
     "data": {
      "image/png": "[encoded data removed]",
      "text/plain": [
       "<matplotlib.figure.Figure at 0x143438f28>"
      ]
     },
     "metadata": {},
     "output_type": "display_data"
    }
   ],
   "source": [
    "simplegraph(coal.fuel_cost_per_mmbtu,'dollars per mmbtu','number of occurences', 'FERC Coal cost per mmbtu', 2000,6000)"
   ]
  },
  {
   "cell_type": "markdown",
   "metadata": {
    "collapsed": false
   },
   "source": [
    "When we apply the two cleaning functions, we see a distribution with two peaks, which appear to correspond with the price premium subbituminous higher heat content coal versus lower heat content lignite coal."
   ]
  },
  {
   "cell_type": "code",
   "execution_count": 192,
   "metadata": {
    "collapsed": false
   },
   "outputs": [
    {
     "data": {
      "image/png": "[encoded data removed]",
      "text/plain": [
       "<matplotlib.figure.Figure at 0x1410b3a58>"
      ]
     },
     "metadata": {},
     "output_type": "display_data"
    }
   ],
   "source": [
    "to_fix_cost_per_mmbtu_coal = coal.fuel_cost_per_mmbtu\n",
    "fixed_cost_per_mmbtu_coal = fixit(coal.fuel_cost_per_mmbtu,.5,7.5,[.01,.001])\n",
    "\n",
    "showfix(coal.fuel_cost_per_mmbtu,fixed_cost_per_mmbtu_coal,'FERC Coal: Cost per mmbtu',\\\n",
    "        'dollars per mmbtu','number of occurences')"
   ]
  },
  {
   "cell_type": "markdown",
   "metadata": {},
   "source": [
    "### Gas cost per mmbtu\n",
    "As we turn our attention to natural gas, one expects to find the main population between roughly 2.5 and 15 dollars per mmbtu (per EIA Henry Hub data https://www.eia.gov/dnav/ng/hist/rngwhhdd.htm). One does see residential prices as high as nearly 40 dollars per mcf (in Hawaii! https://www.eia.gov/dnav/ng/ng_pri_sum_a_epg0_prs_dmcf_m.htm). Looking at the data near 5, one finds the main population begins after 2.5 and with a tail extending out to 40 dollars per mmbtu.\n",
    "\n",
    "For natural gas pricing, EIA 923 instructions instruct respondents to \"include the following pipeline charges: fuel losses, transportation reservation charges, balancing costs, and distribution system costs outside of the plant. Because these types of fees can skew the cost of the fuel per MMBtu, provide an explanation.\" Therefore, we're likely to see some values above the 15 dollars per mmbtu Henry Hub maximum, although we shouldn't see consistently high pricing like we see in the residential data."
   ]
  },
  {
   "cell_type": "code",
   "execution_count": 213,
   "metadata": {
    "collapsed": false
   },
   "outputs": [
    {
     "data": {
      "image/png": "[encoded data removed]",
      "text/plain": [
       "<matplotlib.figure.Figure at 0x112e18518>"
      ]
     },
     "metadata": {},
     "output_type": "display_data"
    }
   ],
   "source": [
    "simplegraph(gas.fuel_cost_per_mmbtu,'dollars per mmbtu','number of occurences', 'FERC Gas cost per mmbtu', 0,150)"
   ]
  },
  {
   "cell_type": "markdown",
   "metadata": {},
   "source": [
    "When we look at EIA fuel cost data weighted by quantity delivered we see a clear drop off after 15 dollars per mcf and a tail of values going out to roughly 35."
   ]
  },
  {
   "cell_type": "code",
   "execution_count": 134,
   "metadata": {
    "collapsed": false
   },
   "outputs": [
    {
     "name": "stderr",
     "output_type": "stream",
     "text": [
      "/Users/Nannerz/anaconda3/lib/python3.6/site-packages/numpy/lib/function_base.py:583: RuntimeWarning: invalid value encountered in greater_equal\n",
      "  keep = (tmp_a >= mn)\n",
      "/Users/Nannerz/anaconda3/lib/python3.6/site-packages/numpy/lib/function_base.py:584: RuntimeWarning: invalid value encountered in less_equal\n",
      "  keep &= (tmp_a <= mx)\n"
     ]
    },
    {
     "data": {
      "text/plain": [
       "<matplotlib.text.Text at 0x13d37e5f8>"
      ]
     },
     "execution_count": 134,
     "metadata": {},
     "output_type": "execute_result"
    },
    {
     "data": {
      "image/png": "[encoded data removed]",
      "text/plain": [
       "<matplotlib.figure.Figure at 0x13745c940>"
      ]
     },
     "metadata": {},
     "output_type": "display_data"
    }
   ],
   "source": [
    "plt.figure(figsize=(14,10))\n",
    "plt.hist(eia_rc_gas.fuel_cost,range=(0,40),weights=eia_rc_gas.fuel_quantity,bins=100)\n",
    "plt.title('EIA fuel receipts and costs: fuel cost by fuel group: Natural Gas, weighted by quantity delivered')\n",
    "plt.ylabel('mmbtu')\n",
    "plt.xlabel('dollars per mmbtu')"
   ]
  },
  {
   "cell_type": "markdown",
   "metadata": {},
   "source": [
    "This tail is more apparent when fuel costs are not weighted by quantity delivered."
   ]
  },
  {
   "cell_type": "code",
   "execution_count": 123,
   "metadata": {
    "collapsed": false
   },
   "outputs": [
    {
     "name": "stderr",
     "output_type": "stream",
     "text": [
      "/Users/Nannerz/anaconda3/lib/python3.6/site-packages/numpy/lib/function_base.py:583: RuntimeWarning: invalid value encountered in greater_equal\n",
      "  keep = (tmp_a >= mn)\n",
      "/Users/Nannerz/anaconda3/lib/python3.6/site-packages/numpy/lib/function_base.py:584: RuntimeWarning: invalid value encountered in less_equal\n",
      "  keep &= (tmp_a <= mx)\n"
     ]
    },
    {
     "data": {
      "text/plain": [
       "<matplotlib.text.Text at 0x1357b3a20>"
      ]
     },
     "execution_count": 123,
     "metadata": {},
     "output_type": "execute_result"
    },
    {
     "data": {
      "image/png": "[encoded data removed]",
      "text/plain": [
       "<matplotlib.figure.Figure at 0x129858f98>"
      ]
     },
     "metadata": {},
     "output_type": "display_data"
    }
   ],
   "source": [
    "plt.figure(figsize=(14,10))\n",
    "plt.hist(eia_rc_gas.fuel_cost,range=(0,40),bins=100)\n",
    "plt.title('EIA fuel receipts and costs: fuel cost by fuel group: Natural Gas')\n",
    "plt.ylabel('mmbtu')\n",
    "plt.xlabel('dollars per mcf')"
   ]
  },
  {
   "cell_type": "markdown",
   "metadata": {},
   "source": [
    "The population appears to begin around 1 - it's difficult to say exactly where to draw the line."
   ]
  },
  {
   "cell_type": "code",
   "execution_count": 114,
   "metadata": {
    "collapsed": false
   },
   "outputs": [
    {
     "name": "stderr",
     "output_type": "stream",
     "text": [
      "/Users/Nannerz/anaconda3/lib/python3.6/site-packages/numpy/lib/function_base.py:583: RuntimeWarning: invalid value encountered in greater_equal\n",
      "  keep = (tmp_a >= mn)\n",
      "/Users/Nannerz/anaconda3/lib/python3.6/site-packages/numpy/lib/function_base.py:584: RuntimeWarning: invalid value encountered in less_equal\n",
      "  keep &= (tmp_a <= mx)\n"
     ]
    },
    {
     "data": {
      "text/plain": [
       "<matplotlib.text.Text at 0x11f34ab38>"
      ]
     },
     "execution_count": 114,
     "metadata": {},
     "output_type": "execute_result"
    },
    {
     "data": {
      "image/png": "[encoded data removed]",
      "text/plain": [
       "<matplotlib.figure.Figure at 0x1256cad30>"
      ]
     },
     "metadata": {},
     "output_type": "display_data"
    }
   ],
   "source": [
    "plt.figure(figsize=(14,10))\n",
    "plt.hist(eia_rc_gas.fuel_cost,range=(0,5),weights=eia_rc_gas.fuel_quantity,bins=100)\n",
    "plt.title('EIA fuel receipts and costs: fuel cost by fuel group: Natural Gas, weighted by quantity delivered')\n",
    "plt.ylabel('mmbtu')\n",
    "plt.xlabel('dollars per mcf')"
   ]
  },
  {
   "cell_type": "markdown",
   "metadata": {},
   "source": [
    "Zooming in."
   ]
  },
  {
   "cell_type": "code",
   "execution_count": 295,
   "metadata": {
    "collapsed": false
   },
   "outputs": [
    {
     "data": {
      "image/png": "[encoded data removed]",
      "text/plain": [
       "<matplotlib.figure.Figure at 0x10d4c2630>"
      ]
     },
     "metadata": {},
     "output_type": "display_data"
    }
   ],
   "source": [
    "simplegraph(gas.fuel_cost_per_mmbtu,'dollars per mmbtu','number of occurences', 'FERC Gas cost per mmbtu', .1,5)"
   ]
  },
  {
   "cell_type": "markdown",
   "metadata": {},
   "source": [
    "The distribution begins to drop off considerable after 12 dollars per mmbtu."
   ]
  },
  {
   "cell_type": "code",
   "execution_count": 68,
   "metadata": {
    "collapsed": false
   },
   "outputs": [
    {
     "data": {
      "image/png": "[encoded data removed]",
      "text/plain": [
       "<matplotlib.figure.Figure at 0x1106002b0>"
      ]
     },
     "metadata": {},
     "output_type": "display_data"
    }
   ],
   "source": [
    "simplegraph(gas.fuel_cost_per_mmbtu,'dollars per mmbtu','number of occurences', 'FERC Gas cost per mmbtu', 10,20)"
   ]
  },
  {
   "cell_type": "markdown",
   "metadata": {},
   "source": [
    "The tail continues and drops off even further after roughly 50 dollars per mmbtu."
   ]
  },
  {
   "cell_type": "code",
   "execution_count": 69,
   "metadata": {
    "collapsed": false
   },
   "outputs": [
    {
     "data": {
      "image/png": "[encoded data removed]",
      "text/plain": [
       "<matplotlib.figure.Figure at 0x113375358>"
      ]
     },
     "metadata": {},
     "output_type": "display_data"
    }
   ],
   "source": [
    "simplegraph(gas.fuel_cost_per_mmbtu,'dollars per mmbtu','number of occurences', 'FERC Gas cost per mmbtu', 15,150)"
   ]
  },
  {
   "cell_type": "markdown",
   "metadata": {},
   "source": [
    "When weighted by quantity burned, we see a much tighter distribution and values don't range past 35 dollars per mmbtu."
   ]
  },
  {
   "cell_type": "code",
   "execution_count": 153,
   "metadata": {
    "collapsed": false
   },
   "outputs": [
    {
     "data": {
      "text/plain": [
       "<matplotlib.text.Text at 0x13a7ddbe0>"
      ]
     },
     "execution_count": 153,
     "metadata": {},
     "output_type": "execute_result"
    },
    {
     "data": {
      "image/png": "[encoded data removed]",
      "text/plain": [
       "<matplotlib.figure.Figure at 0x1417ad320>"
      ]
     },
     "metadata": {},
     "output_type": "display_data"
    }
   ],
   "source": [
    "plt.figure(figsize=(14,10))\n",
    "plt.hist(gas.fuel_cost_per_mmbtu,range=(10,35),weights=gas.fuel_qty_burned,bins=100)\n",
    "plt.title('FERC Gas cost, weighted by quantity burned')\n",
    "plt.ylabel('mcf')\n",
    "plt.xlabel('dollars per mcf')"
   ]
  },
  {
   "cell_type": "markdown",
   "metadata": {},
   "source": [
    "The second population stretches from just after 250 to 4000 - off by a factor of 100.  These values were likely the result of a utility entering cost per mmbtu in cents rather than dollars."
   ]
  },
  {
   "cell_type": "code",
   "execution_count": 168,
   "metadata": {
    "collapsed": false
   },
   "outputs": [
    {
     "data": {
      "image/png": "[encoded data removed]",
      "text/plain": [
       "<matplotlib.figure.Figure at 0x14986cd68>"
      ]
     },
     "metadata": {},
     "output_type": "display_data"
    }
   ],
   "source": [
    "simplegraph(gas.fuel_cost_per_mmbtu,'dollars per mmbtu','number of occurences', 'FERC Gas cost per mmbtu', 250,3500)"
   ]
  },
  {
   "cell_type": "markdown",
   "metadata": {},
   "source": [
    "The third population is between .002 and .0175 - off by a factor of 1000. These values are likely the result of the utility entering the cost in mmbtu per cf rather than mmbtu per mcf."
   ]
  },
  {
   "cell_type": "code",
   "execution_count": 169,
   "metadata": {
    "collapsed": false
   },
   "outputs": [
    {
     "data": {
      "image/png": "[encoded data removed]",
      "text/plain": [
       "<matplotlib.figure.Figure at 0x145725f98>"
      ]
     },
     "metadata": {},
     "output_type": "display_data"
    }
   ],
   "source": [
    "simplegraph(gas.fuel_cost_per_mmbtu,'dollars per mmbtu','number of occurences', 'FERC Gas cost per mmbtu',.0001,.03)"
   ]
  },
  {
   "cell_type": "markdown",
   "metadata": {},
   "source": [
    "With the except of two records, all of these values are also attributable to utility `respondent_id` 130."
   ]
  },
  {
   "cell_type": "code",
   "execution_count": 149,
   "metadata": {
    "collapsed": false
   },
   "outputs": [
    {
     "data": {
      "text/html": [
       "<div>\n",
       "<table border=\"1\" class=\"dataframe\">\n",
       "  <thead>\n",
       "    <tr style=\"text-align: right;\">\n",
       "      <th></th>\n",
       "      <th>id</th>\n",
       "      <th>respondent_id</th>\n",
       "      <th>plant_name</th>\n",
       "      <th>report_year</th>\n",
       "      <th>fuel</th>\n",
       "      <th>fuel_unit</th>\n",
       "      <th>fuel_qty_burned</th>\n",
       "      <th>fuel_avg_mmbtu_per_unit</th>\n",
       "      <th>fuel_cost_per_unit_burned</th>\n",
       "      <th>fuel_cost_per_unit_delivered</th>\n",
       "      <th>fuel_cost_per_mmbtu</th>\n",
       "      <th>fuel_cost_per_mwh</th>\n",
       "      <th>fuel_mmbtu_per_mwh</th>\n",
       "    </tr>\n",
       "  </thead>\n",
       "  <tbody>\n",
       "    <tr>\n",
       "      <th>943</th>\n",
       "      <td>944</td>\n",
       "      <td>182</td>\n",
       "      <td>A. Mullergren</td>\n",
       "      <td>2007</td>\n",
       "      <td>gas</td>\n",
       "      <td>mcf</td>\n",
       "      <td>1572.0</td>\n",
       "      <td>1.046000</td>\n",
       "      <td>9.740</td>\n",
       "      <td>9.740</td>\n",
       "      <td>0.013</td>\n",
       "      <td>-25.0</td>\n",
       "      <td>0.000000</td>\n",
       "    </tr>\n",
       "    <tr>\n",
       "      <th>1051</th>\n",
       "      <td>1052</td>\n",
       "      <td>130</td>\n",
       "      <td>Horseshoe Lake</td>\n",
       "      <td>2007</td>\n",
       "      <td>gas</td>\n",
       "      <td>mcf</td>\n",
       "      <td>12516345.0</td>\n",
       "      <td>1.037000</td>\n",
       "      <td>6.874</td>\n",
       "      <td>0.000</td>\n",
       "      <td>0.007</td>\n",
       "      <td>78.0</td>\n",
       "      <td>11.690000</td>\n",
       "    </tr>\n",
       "    <tr>\n",
       "      <th>1053</th>\n",
       "      <td>1054</td>\n",
       "      <td>130</td>\n",
       "      <td>Seminole</td>\n",
       "      <td>2007</td>\n",
       "      <td>gas</td>\n",
       "      <td>mcf</td>\n",
       "      <td>38693460.0</td>\n",
       "      <td>1.037000</td>\n",
       "      <td>7.232</td>\n",
       "      <td>0.000</td>\n",
       "      <td>0.007</td>\n",
       "      <td>82.0</td>\n",
       "      <td>11.809000</td>\n",
       "    </tr>\n",
       "    <tr>\n",
       "      <th>1057</th>\n",
       "      <td>1058</td>\n",
       "      <td>130</td>\n",
       "      <td>Enid</td>\n",
       "      <td>2007</td>\n",
       "      <td>gas</td>\n",
       "      <td>mcf</td>\n",
       "      <td>38850.0</td>\n",
       "      <td>1.037000</td>\n",
       "      <td>6.386</td>\n",
       "      <td>0.000</td>\n",
       "      <td>0.006</td>\n",
       "      <td>151.0</td>\n",
       "      <td>23.672000</td>\n",
       "    </tr>\n",
       "    <tr>\n",
       "      <th>1059</th>\n",
       "      <td>1060</td>\n",
       "      <td>130</td>\n",
       "      <td>Muskogee</td>\n",
       "      <td>2007</td>\n",
       "      <td>gas</td>\n",
       "      <td>mcf</td>\n",
       "      <td>3682025.0</td>\n",
       "      <td>1.037000</td>\n",
       "      <td>6.247</td>\n",
       "      <td>0.000</td>\n",
       "      <td>0.006</td>\n",
       "      <td>69.0</td>\n",
       "      <td>11.173000</td>\n",
       "    </tr>\n",
       "    <tr>\n",
       "      <th>1060</th>\n",
       "      <td>1061</td>\n",
       "      <td>130</td>\n",
       "      <td>Mustang</td>\n",
       "      <td>2007</td>\n",
       "      <td>gas</td>\n",
       "      <td>mcf</td>\n",
       "      <td>9915051.0</td>\n",
       "      <td>1.037000</td>\n",
       "      <td>6.950</td>\n",
       "      <td>0.000</td>\n",
       "      <td>0.007</td>\n",
       "      <td>72.0</td>\n",
       "      <td>10.677000</td>\n",
       "    </tr>\n",
       "    <tr>\n",
       "      <th>1062</th>\n",
       "      <td>1063</td>\n",
       "      <td>130</td>\n",
       "      <td>Mcclain</td>\n",
       "      <td>2007</td>\n",
       "      <td>gas</td>\n",
       "      <td>mcf</td>\n",
       "      <td>18188683.0</td>\n",
       "      <td>1.037000</td>\n",
       "      <td>6.732</td>\n",
       "      <td>0.000</td>\n",
       "      <td>0.007</td>\n",
       "      <td>46.0</td>\n",
       "      <td>7.070000</td>\n",
       "    </tr>\n",
       "    <tr>\n",
       "      <th>1600</th>\n",
       "      <td>1601</td>\n",
       "      <td>130</td>\n",
       "      <td>Horseshoe Lake</td>\n",
       "      <td>2008</td>\n",
       "      <td>gas</td>\n",
       "      <td>mcf</td>\n",
       "      <td>9854405.0</td>\n",
       "      <td>1.037000</td>\n",
       "      <td>9.815</td>\n",
       "      <td>0.000</td>\n",
       "      <td>0.009</td>\n",
       "      <td>108.0</td>\n",
       "      <td>11.407000</td>\n",
       "    </tr>\n",
       "    <tr>\n",
       "      <th>1601</th>\n",
       "      <td>1602</td>\n",
       "      <td>130</td>\n",
       "      <td>Seminole</td>\n",
       "      <td>2008</td>\n",
       "      <td>gas</td>\n",
       "      <td>mcf</td>\n",
       "      <td>37163017.0</td>\n",
       "      <td>1.037000</td>\n",
       "      <td>8.840</td>\n",
       "      <td>0.000</td>\n",
       "      <td>0.008</td>\n",
       "      <td>98.0</td>\n",
       "      <td>11.594000</td>\n",
       "    </tr>\n",
       "    <tr>\n",
       "      <th>1604</th>\n",
       "      <td>1605</td>\n",
       "      <td>130</td>\n",
       "      <td>Enid</td>\n",
       "      <td>2008</td>\n",
       "      <td>gas</td>\n",
       "      <td>mcf</td>\n",
       "      <td>4003.0</td>\n",
       "      <td>1.037000</td>\n",
       "      <td>10.295</td>\n",
       "      <td>0.000</td>\n",
       "      <td>0.010</td>\n",
       "      <td>206.0</td>\n",
       "      <td>20.135000</td>\n",
       "    </tr>\n",
       "    <tr>\n",
       "      <th>1606</th>\n",
       "      <td>1607</td>\n",
       "      <td>130</td>\n",
       "      <td>Muskogee</td>\n",
       "      <td>2008</td>\n",
       "      <td>gas</td>\n",
       "      <td>mcf</td>\n",
       "      <td>3682025.0</td>\n",
       "      <td>5.368698</td>\n",
       "      <td>6.601</td>\n",
       "      <td>0.000</td>\n",
       "      <td>0.007</td>\n",
       "      <td>104.0</td>\n",
       "      <td>15.951000</td>\n",
       "    </tr>\n",
       "    <tr>\n",
       "      <th>1607</th>\n",
       "      <td>1608</td>\n",
       "      <td>130</td>\n",
       "      <td>Mustang</td>\n",
       "      <td>2008</td>\n",
       "      <td>gas</td>\n",
       "      <td>mcf</td>\n",
       "      <td>7969730.0</td>\n",
       "      <td>1.037000</td>\n",
       "      <td>9.219</td>\n",
       "      <td>0.000</td>\n",
       "      <td>0.009</td>\n",
       "      <td>95.0</td>\n",
       "      <td>10.763000</td>\n",
       "    </tr>\n",
       "    <tr>\n",
       "      <th>1609</th>\n",
       "      <td>1610</td>\n",
       "      <td>130</td>\n",
       "      <td>Mcclain</td>\n",
       "      <td>2008</td>\n",
       "      <td>gas</td>\n",
       "      <td>mcf</td>\n",
       "      <td>13147501.0</td>\n",
       "      <td>1.037000</td>\n",
       "      <td>8.762</td>\n",
       "      <td>0.000</td>\n",
       "      <td>0.009</td>\n",
       "      <td>61.0</td>\n",
       "      <td>7.108000</td>\n",
       "    </tr>\n",
       "    <tr>\n",
       "      <th>1610</th>\n",
       "      <td>1611</td>\n",
       "      <td>130</td>\n",
       "      <td>Redbud</td>\n",
       "      <td>2008</td>\n",
       "      <td>gas</td>\n",
       "      <td>mcf</td>\n",
       "      <td>4316949.0</td>\n",
       "      <td>1.037000</td>\n",
       "      <td>3.921</td>\n",
       "      <td>0.000</td>\n",
       "      <td>0.004</td>\n",
       "      <td>27.0</td>\n",
       "      <td>7.305000</td>\n",
       "    </tr>\n",
       "    <tr>\n",
       "      <th>2867</th>\n",
       "      <td>2868</td>\n",
       "      <td>130</td>\n",
       "      <td>Horseshoe Lake</td>\n",
       "      <td>2009</td>\n",
       "      <td>gas</td>\n",
       "      <td>mcf</td>\n",
       "      <td>9619290.0</td>\n",
       "      <td>1.037000</td>\n",
       "      <td>4.114</td>\n",
       "      <td>0.000</td>\n",
       "      <td>0.004</td>\n",
       "      <td>45.0</td>\n",
       "      <td>11.347000</td>\n",
       "    </tr>\n",
       "    <tr>\n",
       "      <th>2868</th>\n",
       "      <td>2869</td>\n",
       "      <td>130</td>\n",
       "      <td>Seminole</td>\n",
       "      <td>2009</td>\n",
       "      <td>gas</td>\n",
       "      <td>mcf</td>\n",
       "      <td>32167554.0</td>\n",
       "      <td>1.037000</td>\n",
       "      <td>4.834</td>\n",
       "      <td>0.000</td>\n",
       "      <td>0.005</td>\n",
       "      <td>54.0</td>\n",
       "      <td>11.784000</td>\n",
       "    </tr>\n",
       "    <tr>\n",
       "      <th>2871</th>\n",
       "      <td>2872</td>\n",
       "      <td>130</td>\n",
       "      <td>Enid</td>\n",
       "      <td>2009</td>\n",
       "      <td>gas</td>\n",
       "      <td>mcf</td>\n",
       "      <td>5643.0</td>\n",
       "      <td>1.037000</td>\n",
       "      <td>3.890</td>\n",
       "      <td>0.000</td>\n",
       "      <td>0.004</td>\n",
       "      <td>102.0</td>\n",
       "      <td>27.093000</td>\n",
       "    </tr>\n",
       "    <tr>\n",
       "      <th>2873</th>\n",
       "      <td>2874</td>\n",
       "      <td>130</td>\n",
       "      <td>Muskogee</td>\n",
       "      <td>2009</td>\n",
       "      <td>gas</td>\n",
       "      <td>mcf</td>\n",
       "      <td>689156.0</td>\n",
       "      <td>1.037000</td>\n",
       "      <td>3.938</td>\n",
       "      <td>0.000</td>\n",
       "      <td>0.004</td>\n",
       "      <td>47.0</td>\n",
       "      <td>11.868000</td>\n",
       "    </tr>\n",
       "    <tr>\n",
       "      <th>2874</th>\n",
       "      <td>2875</td>\n",
       "      <td>130</td>\n",
       "      <td>Mustang</td>\n",
       "      <td>2009</td>\n",
       "      <td>gas</td>\n",
       "      <td>mcf</td>\n",
       "      <td>4585206.0</td>\n",
       "      <td>1.037000</td>\n",
       "      <td>4.179</td>\n",
       "      <td>0.000</td>\n",
       "      <td>0.004</td>\n",
       "      <td>43.0</td>\n",
       "      <td>11.169000</td>\n",
       "    </tr>\n",
       "    <tr>\n",
       "      <th>2876</th>\n",
       "      <td>2877</td>\n",
       "      <td>130</td>\n",
       "      <td>Mcclain</td>\n",
       "      <td>2009</td>\n",
       "      <td>gas</td>\n",
       "      <td>mcf</td>\n",
       "      <td>19122875.0</td>\n",
       "      <td>1.037000</td>\n",
       "      <td>3.757</td>\n",
       "      <td>0.000</td>\n",
       "      <td>0.004</td>\n",
       "      <td>26.0</td>\n",
       "      <td>7.101000</td>\n",
       "    </tr>\n",
       "    <tr>\n",
       "      <th>2877</th>\n",
       "      <td>2878</td>\n",
       "      <td>130</td>\n",
       "      <td>Redbud</td>\n",
       "      <td>2009</td>\n",
       "      <td>gas</td>\n",
       "      <td>mcf</td>\n",
       "      <td>18549799.0</td>\n",
       "      <td>1.037000</td>\n",
       "      <td>3.600</td>\n",
       "      <td>0.000</td>\n",
       "      <td>0.004</td>\n",
       "      <td>26.0</td>\n",
       "      <td>7.435000</td>\n",
       "    </tr>\n",
       "    <tr>\n",
       "      <th>5030</th>\n",
       "      <td>5031</td>\n",
       "      <td>130</td>\n",
       "      <td>Horseshoe Lake</td>\n",
       "      <td>2010</td>\n",
       "      <td>gas</td>\n",
       "      <td>mcf</td>\n",
       "      <td>17333203.0</td>\n",
       "      <td>1.037000</td>\n",
       "      <td>5.859</td>\n",
       "      <td>0.000</td>\n",
       "      <td>0.005</td>\n",
       "      <td>62.0</td>\n",
       "      <td>11.647000</td>\n",
       "    </tr>\n",
       "    <tr>\n",
       "      <th>5031</th>\n",
       "      <td>5032</td>\n",
       "      <td>130</td>\n",
       "      <td>Seminole</td>\n",
       "      <td>2010</td>\n",
       "      <td>gas</td>\n",
       "      <td>mcf</td>\n",
       "      <td>31215969.0</td>\n",
       "      <td>1.037000</td>\n",
       "      <td>5.359</td>\n",
       "      <td>0.000</td>\n",
       "      <td>0.005</td>\n",
       "      <td>61.0</td>\n",
       "      <td>11.982000</td>\n",
       "    </tr>\n",
       "    <tr>\n",
       "      <th>5035</th>\n",
       "      <td>5036</td>\n",
       "      <td>130</td>\n",
       "      <td>Muskogee</td>\n",
       "      <td>2010</td>\n",
       "      <td>gas</td>\n",
       "      <td>mcf</td>\n",
       "      <td>958863.0</td>\n",
       "      <td>1.037000</td>\n",
       "      <td>4.556</td>\n",
       "      <td>0.000</td>\n",
       "      <td>0.005</td>\n",
       "      <td>50268.0</td>\n",
       "      <td>10423.890000</td>\n",
       "    </tr>\n",
       "    <tr>\n",
       "      <th>5036</th>\n",
       "      <td>5037</td>\n",
       "      <td>130</td>\n",
       "      <td>Mustang</td>\n",
       "      <td>2010</td>\n",
       "      <td>gas</td>\n",
       "      <td>mcf</td>\n",
       "      <td>8046098.0</td>\n",
       "      <td>1.037000</td>\n",
       "      <td>5.575</td>\n",
       "      <td>0.000</td>\n",
       "      <td>0.005</td>\n",
       "      <td>59.0</td>\n",
       "      <td>11.364000</td>\n",
       "    </tr>\n",
       "    <tr>\n",
       "      <th>5038</th>\n",
       "      <td>5039</td>\n",
       "      <td>130</td>\n",
       "      <td>Mcclain</td>\n",
       "      <td>2010</td>\n",
       "      <td>gas</td>\n",
       "      <td>mcf</td>\n",
       "      <td>18452747.0</td>\n",
       "      <td>1.037000</td>\n",
       "      <td>4.667</td>\n",
       "      <td>0.000</td>\n",
       "      <td>0.005</td>\n",
       "      <td>32.0</td>\n",
       "      <td>7.136000</td>\n",
       "    </tr>\n",
       "    <tr>\n",
       "      <th>5039</th>\n",
       "      <td>5040</td>\n",
       "      <td>130</td>\n",
       "      <td>Redbud</td>\n",
       "      <td>2010</td>\n",
       "      <td>gas</td>\n",
       "      <td>mcf</td>\n",
       "      <td>20926601.0</td>\n",
       "      <td>1.037000</td>\n",
       "      <td>4.588</td>\n",
       "      <td>0.000</td>\n",
       "      <td>0.004</td>\n",
       "      <td>33.0</td>\n",
       "      <td>7.429000</td>\n",
       "    </tr>\n",
       "    <tr>\n",
       "      <th>6466</th>\n",
       "      <td>6467</td>\n",
       "      <td>130</td>\n",
       "      <td>Horseshoe Lake</td>\n",
       "      <td>2011</td>\n",
       "      <td>gas</td>\n",
       "      <td>mcf</td>\n",
       "      <td>10778793.0</td>\n",
       "      <td>1.037000</td>\n",
       "      <td>5.787</td>\n",
       "      <td>0.000</td>\n",
       "      <td>0.005</td>\n",
       "      <td>62.0</td>\n",
       "      <td>11.372000</td>\n",
       "    </tr>\n",
       "    <tr>\n",
       "      <th>6467</th>\n",
       "      <td>6468</td>\n",
       "      <td>130</td>\n",
       "      <td>Seminole</td>\n",
       "      <td>2011</td>\n",
       "      <td>gas</td>\n",
       "      <td>mcf</td>\n",
       "      <td>37005178.0</td>\n",
       "      <td>1.037000</td>\n",
       "      <td>4.990</td>\n",
       "      <td>0.000</td>\n",
       "      <td>0.005</td>\n",
       "      <td>55.0</td>\n",
       "      <td>11.581000</td>\n",
       "    </tr>\n",
       "    <tr>\n",
       "      <th>6471</th>\n",
       "      <td>6472</td>\n",
       "      <td>130</td>\n",
       "      <td>Muskogee</td>\n",
       "      <td>2011</td>\n",
       "      <td>gas</td>\n",
       "      <td>mcf</td>\n",
       "      <td>1370368.0</td>\n",
       "      <td>1.037000</td>\n",
       "      <td>4.146</td>\n",
       "      <td>0.000</td>\n",
       "      <td>0.005</td>\n",
       "      <td>47.0</td>\n",
       "      <td>9.931000</td>\n",
       "    </tr>\n",
       "    <tr>\n",
       "      <th>6472</th>\n",
       "      <td>6473</td>\n",
       "      <td>130</td>\n",
       "      <td>Mustang</td>\n",
       "      <td>2011</td>\n",
       "      <td>gas</td>\n",
       "      <td>mcf</td>\n",
       "      <td>8547175.0</td>\n",
       "      <td>1.037000</td>\n",
       "      <td>5.448</td>\n",
       "      <td>0.000</td>\n",
       "      <td>0.005</td>\n",
       "      <td>55.0</td>\n",
       "      <td>11.008000</td>\n",
       "    </tr>\n",
       "    <tr>\n",
       "      <th>6474</th>\n",
       "      <td>6475</td>\n",
       "      <td>130</td>\n",
       "      <td>Mcclain</td>\n",
       "      <td>2011</td>\n",
       "      <td>gas</td>\n",
       "      <td>mcf</td>\n",
       "      <td>17809443.0</td>\n",
       "      <td>1.037000</td>\n",
       "      <td>4.262</td>\n",
       "      <td>0.000</td>\n",
       "      <td>0.004</td>\n",
       "      <td>29.0</td>\n",
       "      <td>7.112000</td>\n",
       "    </tr>\n",
       "    <tr>\n",
       "      <th>6475</th>\n",
       "      <td>6476</td>\n",
       "      <td>130</td>\n",
       "      <td>Redbud</td>\n",
       "      <td>2011</td>\n",
       "      <td>gas</td>\n",
       "      <td>mcf</td>\n",
       "      <td>18454359.0</td>\n",
       "      <td>1.037000</td>\n",
       "      <td>4.306</td>\n",
       "      <td>0.000</td>\n",
       "      <td>0.004</td>\n",
       "      <td>31.0</td>\n",
       "      <td>7.456000</td>\n",
       "    </tr>\n",
       "    <tr>\n",
       "      <th>8083</th>\n",
       "      <td>8084</td>\n",
       "      <td>130</td>\n",
       "      <td>Horseshoe Lake</td>\n",
       "      <td>2012</td>\n",
       "      <td>gas</td>\n",
       "      <td>mcf</td>\n",
       "      <td>11778461.0</td>\n",
       "      <td>1.037000</td>\n",
       "      <td>3.993</td>\n",
       "      <td>0.000</td>\n",
       "      <td>0.004</td>\n",
       "      <td>44.0</td>\n",
       "      <td>11.428000</td>\n",
       "    </tr>\n",
       "    <tr>\n",
       "      <th>8084</th>\n",
       "      <td>8085</td>\n",
       "      <td>130</td>\n",
       "      <td>Seminole</td>\n",
       "      <td>2012</td>\n",
       "      <td>gas</td>\n",
       "      <td>mcf</td>\n",
       "      <td>35050637.0</td>\n",
       "      <td>1.037000</td>\n",
       "      <td>3.556</td>\n",
       "      <td>0.000</td>\n",
       "      <td>0.003</td>\n",
       "      <td>40.0</td>\n",
       "      <td>11.547000</td>\n",
       "    </tr>\n",
       "    <tr>\n",
       "      <th>8088</th>\n",
       "      <td>8089</td>\n",
       "      <td>130</td>\n",
       "      <td>Muskogee</td>\n",
       "      <td>2012</td>\n",
       "      <td>gas</td>\n",
       "      <td>mcf</td>\n",
       "      <td>1149865.0</td>\n",
       "      <td>1.037000</td>\n",
       "      <td>2.845</td>\n",
       "      <td>0.000</td>\n",
       "      <td>0.003</td>\n",
       "      <td>32.0</td>\n",
       "      <td>11.307000</td>\n",
       "    </tr>\n",
       "    <tr>\n",
       "      <th>8089</th>\n",
       "      <td>8090</td>\n",
       "      <td>130</td>\n",
       "      <td>Mustang</td>\n",
       "      <td>2012</td>\n",
       "      <td>gas</td>\n",
       "      <td>mcf</td>\n",
       "      <td>5530696.0</td>\n",
       "      <td>1.037000</td>\n",
       "      <td>4.176</td>\n",
       "      <td>0.000</td>\n",
       "      <td>0.004</td>\n",
       "      <td>44.0</td>\n",
       "      <td>11.008000</td>\n",
       "    </tr>\n",
       "    <tr>\n",
       "      <th>8091</th>\n",
       "      <td>8092</td>\n",
       "      <td>130</td>\n",
       "      <td>Mcclain</td>\n",
       "      <td>2012</td>\n",
       "      <td>gas</td>\n",
       "      <td>mcf</td>\n",
       "      <td>20472535.0</td>\n",
       "      <td>1.037000</td>\n",
       "      <td>2.942</td>\n",
       "      <td>0.000</td>\n",
       "      <td>0.003</td>\n",
       "      <td>20.0</td>\n",
       "      <td>6.998000</td>\n",
       "    </tr>\n",
       "    <tr>\n",
       "      <th>8092</th>\n",
       "      <td>8093</td>\n",
       "      <td>130</td>\n",
       "      <td>Redbud</td>\n",
       "      <td>2012</td>\n",
       "      <td>gas</td>\n",
       "      <td>mcf</td>\n",
       "      <td>23355884.0</td>\n",
       "      <td>1.037000</td>\n",
       "      <td>2.903</td>\n",
       "      <td>0.000</td>\n",
       "      <td>0.003</td>\n",
       "      <td>20.0</td>\n",
       "      <td>7.266000</td>\n",
       "    </tr>\n",
       "    <tr>\n",
       "      <th>8531</th>\n",
       "      <td>8532</td>\n",
       "      <td>130</td>\n",
       "      <td>Horseshoe Lake</td>\n",
       "      <td>2013</td>\n",
       "      <td>gas</td>\n",
       "      <td>mcf</td>\n",
       "      <td>8466056.0</td>\n",
       "      <td>1.037000</td>\n",
       "      <td>5.924</td>\n",
       "      <td>0.000</td>\n",
       "      <td>0.006</td>\n",
       "      <td>67.0</td>\n",
       "      <td>11.890000</td>\n",
       "    </tr>\n",
       "    <tr>\n",
       "      <th>8532</th>\n",
       "      <td>8533</td>\n",
       "      <td>130</td>\n",
       "      <td>Seminole</td>\n",
       "      <td>2013</td>\n",
       "      <td>gas</td>\n",
       "      <td>mcf</td>\n",
       "      <td>35269556.0</td>\n",
       "      <td>1.037000</td>\n",
       "      <td>4.475</td>\n",
       "      <td>0.000</td>\n",
       "      <td>0.004</td>\n",
       "      <td>51.0</td>\n",
       "      <td>11.971000</td>\n",
       "    </tr>\n",
       "    <tr>\n",
       "      <th>8536</th>\n",
       "      <td>8537</td>\n",
       "      <td>130</td>\n",
       "      <td>Muskogee</td>\n",
       "      <td>2013</td>\n",
       "      <td>gas</td>\n",
       "      <td>mcf</td>\n",
       "      <td>1046512.0</td>\n",
       "      <td>1.037000</td>\n",
       "      <td>3.586</td>\n",
       "      <td>0.000</td>\n",
       "      <td>0.004</td>\n",
       "      <td>24.0</td>\n",
       "      <td>11.844000</td>\n",
       "    </tr>\n",
       "    <tr>\n",
       "      <th>8537</th>\n",
       "      <td>8538</td>\n",
       "      <td>130</td>\n",
       "      <td>Mustang</td>\n",
       "      <td>2013</td>\n",
       "      <td>gas</td>\n",
       "      <td>mcf</td>\n",
       "      <td>4948668.0</td>\n",
       "      <td>1.037000</td>\n",
       "      <td>5.315</td>\n",
       "      <td>0.000</td>\n",
       "      <td>0.005</td>\n",
       "      <td>55.0</td>\n",
       "      <td>11.025000</td>\n",
       "    </tr>\n",
       "    <tr>\n",
       "      <th>8539</th>\n",
       "      <td>8540</td>\n",
       "      <td>130</td>\n",
       "      <td>Mcclain</td>\n",
       "      <td>2013</td>\n",
       "      <td>gas</td>\n",
       "      <td>mcf</td>\n",
       "      <td>18832987.0</td>\n",
       "      <td>1.037000</td>\n",
       "      <td>3.777</td>\n",
       "      <td>0.000</td>\n",
       "      <td>0.004</td>\n",
       "      <td>26.0</td>\n",
       "      <td>7.103000</td>\n",
       "    </tr>\n",
       "    <tr>\n",
       "      <th>8540</th>\n",
       "      <td>8541</td>\n",
       "      <td>130</td>\n",
       "      <td>Redbud</td>\n",
       "      <td>2013</td>\n",
       "      <td>gas</td>\n",
       "      <td>mcf</td>\n",
       "      <td>18551016.0</td>\n",
       "      <td>1.037000</td>\n",
       "      <td>3.906</td>\n",
       "      <td>0.000</td>\n",
       "      <td>0.004</td>\n",
       "      <td>28.0</td>\n",
       "      <td>7.375000</td>\n",
       "    </tr>\n",
       "    <tr>\n",
       "      <th>10020</th>\n",
       "      <td>10021</td>\n",
       "      <td>130</td>\n",
       "      <td>Horseshoe Lake</td>\n",
       "      <td>2014</td>\n",
       "      <td>gas</td>\n",
       "      <td>mcf</td>\n",
       "      <td>9414057.0</td>\n",
       "      <td>1.037000</td>\n",
       "      <td>6.626</td>\n",
       "      <td>0.000</td>\n",
       "      <td>0.006</td>\n",
       "      <td>72.0</td>\n",
       "      <td>11.455000</td>\n",
       "    </tr>\n",
       "    <tr>\n",
       "      <th>10021</th>\n",
       "      <td>10022</td>\n",
       "      <td>130</td>\n",
       "      <td>Seminole</td>\n",
       "      <td>2014</td>\n",
       "      <td>gas</td>\n",
       "      <td>mcf</td>\n",
       "      <td>11320595.0</td>\n",
       "      <td>1.037000</td>\n",
       "      <td>16.312</td>\n",
       "      <td>0.000</td>\n",
       "      <td>0.016</td>\n",
       "      <td>183.0</td>\n",
       "      <td>11.651000</td>\n",
       "    </tr>\n",
       "    <tr>\n",
       "      <th>10025</th>\n",
       "      <td>10026</td>\n",
       "      <td>130</td>\n",
       "      <td>Muskogee</td>\n",
       "      <td>2014</td>\n",
       "      <td>gas</td>\n",
       "      <td>mcf</td>\n",
       "      <td>765626.0</td>\n",
       "      <td>1.037000</td>\n",
       "      <td>7.421</td>\n",
       "      <td>0.000</td>\n",
       "      <td>0.007</td>\n",
       "      <td>91.0</td>\n",
       "      <td>12.308000</td>\n",
       "    </tr>\n",
       "    <tr>\n",
       "      <th>10026</th>\n",
       "      <td>10027</td>\n",
       "      <td>130</td>\n",
       "      <td>Mustang</td>\n",
       "      <td>2014</td>\n",
       "      <td>gas</td>\n",
       "      <td>mcf</td>\n",
       "      <td>4059644.0</td>\n",
       "      <td>1.037000</td>\n",
       "      <td>11.471</td>\n",
       "      <td>0.000</td>\n",
       "      <td>0.011</td>\n",
       "      <td>122.0</td>\n",
       "      <td>11.348000</td>\n",
       "    </tr>\n",
       "    <tr>\n",
       "      <th>10027</th>\n",
       "      <td>10028</td>\n",
       "      <td>130</td>\n",
       "      <td>Mcclain</td>\n",
       "      <td>2014</td>\n",
       "      <td>gas</td>\n",
       "      <td>mcf</td>\n",
       "      <td>13323775.0</td>\n",
       "      <td>1.037000</td>\n",
       "      <td>5.696</td>\n",
       "      <td>0.000</td>\n",
       "      <td>0.005</td>\n",
       "      <td>39.0</td>\n",
       "      <td>7.167000</td>\n",
       "    </tr>\n",
       "    <tr>\n",
       "      <th>10028</th>\n",
       "      <td>10029</td>\n",
       "      <td>130</td>\n",
       "      <td>Redbud</td>\n",
       "      <td>2014</td>\n",
       "      <td>gas</td>\n",
       "      <td>mcf</td>\n",
       "      <td>20459183.0</td>\n",
       "      <td>1.037000</td>\n",
       "      <td>3.884</td>\n",
       "      <td>0.000</td>\n",
       "      <td>0.004</td>\n",
       "      <td>27.0</td>\n",
       "      <td>7.196000</td>\n",
       "    </tr>\n",
       "    <tr>\n",
       "      <th>10251</th>\n",
       "      <td>10252</td>\n",
       "      <td>57</td>\n",
       "      <td>Kraft</td>\n",
       "      <td>2014</td>\n",
       "      <td>gas</td>\n",
       "      <td>mcf</td>\n",
       "      <td>128153.0</td>\n",
       "      <td>0.001022</td>\n",
       "      <td>0.009</td>\n",
       "      <td>0.009</td>\n",
       "      <td>0.008</td>\n",
       "      <td>38.0</td>\n",
       "      <td>4515.931034</td>\n",
       "    </tr>\n",
       "    <tr>\n",
       "      <th>12251</th>\n",
       "      <td>12252</td>\n",
       "      <td>130</td>\n",
       "      <td>Horseshoe Lake</td>\n",
       "      <td>2015</td>\n",
       "      <td>gas</td>\n",
       "      <td>mcf</td>\n",
       "      <td>5051920.0</td>\n",
       "      <td>1.037000</td>\n",
       "      <td>4.951</td>\n",
       "      <td>0.000</td>\n",
       "      <td>0.005</td>\n",
       "      <td>53.0</td>\n",
       "      <td>11.264000</td>\n",
       "    </tr>\n",
       "    <tr>\n",
       "      <th>12252</th>\n",
       "      <td>12253</td>\n",
       "      <td>130</td>\n",
       "      <td>Seminole</td>\n",
       "      <td>2015</td>\n",
       "      <td>gas</td>\n",
       "      <td>mcf</td>\n",
       "      <td>16787311.0</td>\n",
       "      <td>1.037000</td>\n",
       "      <td>3.862</td>\n",
       "      <td>0.000</td>\n",
       "      <td>0.004</td>\n",
       "      <td>41.0</td>\n",
       "      <td>11.637000</td>\n",
       "    </tr>\n",
       "    <tr>\n",
       "      <th>12256</th>\n",
       "      <td>12257</td>\n",
       "      <td>130</td>\n",
       "      <td>Muskogee</td>\n",
       "      <td>2015</td>\n",
       "      <td>gas</td>\n",
       "      <td>mcf</td>\n",
       "      <td>812258.0</td>\n",
       "      <td>1.037000</td>\n",
       "      <td>4.612</td>\n",
       "      <td>0.000</td>\n",
       "      <td>0.005</td>\n",
       "      <td>60.0</td>\n",
       "      <td>13.041000</td>\n",
       "    </tr>\n",
       "    <tr>\n",
       "      <th>12257</th>\n",
       "      <td>12258</td>\n",
       "      <td>130</td>\n",
       "      <td>Mustang</td>\n",
       "      <td>2015</td>\n",
       "      <td>gas</td>\n",
       "      <td>mcf</td>\n",
       "      <td>1295042.0</td>\n",
       "      <td>1.037000</td>\n",
       "      <td>8.468</td>\n",
       "      <td>0.000</td>\n",
       "      <td>0.008</td>\n",
       "      <td>93.0</td>\n",
       "      <td>11.832000</td>\n",
       "    </tr>\n",
       "    <tr>\n",
       "      <th>12259</th>\n",
       "      <td>12260</td>\n",
       "      <td>130</td>\n",
       "      <td>Mcclain</td>\n",
       "      <td>2015</td>\n",
       "      <td>gas</td>\n",
       "      <td>mcf</td>\n",
       "      <td>19865749.0</td>\n",
       "      <td>1.037000</td>\n",
       "      <td>2.758</td>\n",
       "      <td>0.000</td>\n",
       "      <td>0.003</td>\n",
       "      <td>18.0</td>\n",
       "      <td>6.852000</td>\n",
       "    </tr>\n",
       "    <tr>\n",
       "      <th>12260</th>\n",
       "      <td>12261</td>\n",
       "      <td>130</td>\n",
       "      <td>Redbud</td>\n",
       "      <td>2015</td>\n",
       "      <td>gas</td>\n",
       "      <td>mcf</td>\n",
       "      <td>26940908.0</td>\n",
       "      <td>1.037000</td>\n",
       "      <td>2.819</td>\n",
       "      <td>0.000</td>\n",
       "      <td>0.003</td>\n",
       "      <td>19.0</td>\n",
       "      <td>7.122000</td>\n",
       "    </tr>\n",
       "  </tbody>\n",
       "</table>\n",
       "</div>"
      ],
      "text/plain": [
       "          id  respondent_id      plant_name  report_year fuel fuel_unit  \\\n",
       "943      944            182   A. Mullergren         2007  gas       mcf   \n",
       "1051    1052            130  Horseshoe Lake         2007  gas       mcf   \n",
       "1053    1054            130        Seminole         2007  gas       mcf   \n",
       "1057    1058            130            Enid         2007  gas       mcf   \n",
       "1059    1060            130        Muskogee         2007  gas       mcf   \n",
       "1060    1061            130         Mustang         2007  gas       mcf   \n",
       "1062    1063            130         Mcclain         2007  gas       mcf   \n",
       "1600    1601            130  Horseshoe Lake         2008  gas       mcf   \n",
       "1601    1602            130        Seminole         2008  gas       mcf   \n",
       "1604    1605            130            Enid         2008  gas       mcf   \n",
       "1606    1607            130        Muskogee         2008  gas       mcf   \n",
       "1607    1608            130         Mustang         2008  gas       mcf   \n",
       "1609    1610            130         Mcclain         2008  gas       mcf   \n",
       "1610    1611            130          Redbud         2008  gas       mcf   \n",
       "2867    2868            130  Horseshoe Lake         2009  gas       mcf   \n",
       "2868    2869            130        Seminole         2009  gas       mcf   \n",
       "2871    2872            130            Enid         2009  gas       mcf   \n",
       "2873    2874            130        Muskogee         2009  gas       mcf   \n",
       "2874    2875            130         Mustang         2009  gas       mcf   \n",
       "2876    2877            130         Mcclain         2009  gas       mcf   \n",
       "2877    2878            130          Redbud         2009  gas       mcf   \n",
       "5030    5031            130  Horseshoe Lake         2010  gas       mcf   \n",
       "5031    5032            130        Seminole         2010  gas       mcf   \n",
       "5035    5036            130        Muskogee         2010  gas       mcf   \n",
       "5036    5037            130         Mustang         2010  gas       mcf   \n",
       "5038    5039            130         Mcclain         2010  gas       mcf   \n",
       "5039    5040            130          Redbud         2010  gas       mcf   \n",
       "6466    6467            130  Horseshoe Lake         2011  gas       mcf   \n",
       "6467    6468            130        Seminole         2011  gas       mcf   \n",
       "6471    6472            130        Muskogee         2011  gas       mcf   \n",
       "6472    6473            130         Mustang         2011  gas       mcf   \n",
       "6474    6475            130         Mcclain         2011  gas       mcf   \n",
       "6475    6476            130          Redbud         2011  gas       mcf   \n",
       "8083    8084            130  Horseshoe Lake         2012  gas       mcf   \n",
       "8084    8085            130        Seminole         2012  gas       mcf   \n",
       "8088    8089            130        Muskogee         2012  gas       mcf   \n",
       "8089    8090            130         Mustang         2012  gas       mcf   \n",
       "8091    8092            130         Mcclain         2012  gas       mcf   \n",
       "8092    8093            130          Redbud         2012  gas       mcf   \n",
       "8531    8532            130  Horseshoe Lake         2013  gas       mcf   \n",
       "8532    8533            130        Seminole         2013  gas       mcf   \n",
       "8536    8537            130        Muskogee         2013  gas       mcf   \n",
       "8537    8538            130         Mustang         2013  gas       mcf   \n",
       "8539    8540            130         Mcclain         2013  gas       mcf   \n",
       "8540    8541            130          Redbud         2013  gas       mcf   \n",
       "10020  10021            130  Horseshoe Lake         2014  gas       mcf   \n",
       "10021  10022            130        Seminole         2014  gas       mcf   \n",
       "10025  10026            130        Muskogee         2014  gas       mcf   \n",
       "10026  10027            130         Mustang         2014  gas       mcf   \n",
       "10027  10028            130         Mcclain         2014  gas       mcf   \n",
       "10028  10029            130          Redbud         2014  gas       mcf   \n",
       "10251  10252             57           Kraft         2014  gas       mcf   \n",
       "12251  12252            130  Horseshoe Lake         2015  gas       mcf   \n",
       "12252  12253            130        Seminole         2015  gas       mcf   \n",
       "12256  12257            130        Muskogee         2015  gas       mcf   \n",
       "12257  12258            130         Mustang         2015  gas       mcf   \n",
       "12259  12260            130         Mcclain         2015  gas       mcf   \n",
       "12260  12261            130          Redbud         2015  gas       mcf   \n",
       "\n",
       "       fuel_qty_burned  fuel_avg_mmbtu_per_unit  fuel_cost_per_unit_burned  \\\n",
       "943             1572.0                 1.046000                      9.740   \n",
       "1051        12516345.0                 1.037000                      6.874   \n",
       "1053        38693460.0                 1.037000                      7.232   \n",
       "1057           38850.0                 1.037000                      6.386   \n",
       "1059         3682025.0                 1.037000                      6.247   \n",
       "1060         9915051.0                 1.037000                      6.950   \n",
       "1062        18188683.0                 1.037000                      6.732   \n",
       "1600         9854405.0                 1.037000                      9.815   \n",
       "1601        37163017.0                 1.037000                      8.840   \n",
       "1604            4003.0                 1.037000                     10.295   \n",
       "1606         3682025.0                 5.368698                      6.601   \n",
       "1607         7969730.0                 1.037000                      9.219   \n",
       "1609        13147501.0                 1.037000                      8.762   \n",
       "1610         4316949.0                 1.037000                      3.921   \n",
       "2867         9619290.0                 1.037000                      4.114   \n",
       "2868        32167554.0                 1.037000                      4.834   \n",
       "2871            5643.0                 1.037000                      3.890   \n",
       "2873          689156.0                 1.037000                      3.938   \n",
       "2874         4585206.0                 1.037000                      4.179   \n",
       "2876        19122875.0                 1.037000                      3.757   \n",
       "2877        18549799.0                 1.037000                      3.600   \n",
       "5030        17333203.0                 1.037000                      5.859   \n",
       "5031        31215969.0                 1.037000                      5.359   \n",
       "5035          958863.0                 1.037000                      4.556   \n",
       "5036         8046098.0                 1.037000                      5.575   \n",
       "5038        18452747.0                 1.037000                      4.667   \n",
       "5039        20926601.0                 1.037000                      4.588   \n",
       "6466        10778793.0                 1.037000                      5.787   \n",
       "6467        37005178.0                 1.037000                      4.990   \n",
       "6471         1370368.0                 1.037000                      4.146   \n",
       "6472         8547175.0                 1.037000                      5.448   \n",
       "6474        17809443.0                 1.037000                      4.262   \n",
       "6475        18454359.0                 1.037000                      4.306   \n",
       "8083        11778461.0                 1.037000                      3.993   \n",
       "8084        35050637.0                 1.037000                      3.556   \n",
       "8088         1149865.0                 1.037000                      2.845   \n",
       "8089         5530696.0                 1.037000                      4.176   \n",
       "8091        20472535.0                 1.037000                      2.942   \n",
       "8092        23355884.0                 1.037000                      2.903   \n",
       "8531         8466056.0                 1.037000                      5.924   \n",
       "8532        35269556.0                 1.037000                      4.475   \n",
       "8536         1046512.0                 1.037000                      3.586   \n",
       "8537         4948668.0                 1.037000                      5.315   \n",
       "8539        18832987.0                 1.037000                      3.777   \n",
       "8540        18551016.0                 1.037000                      3.906   \n",
       "10020        9414057.0                 1.037000                      6.626   \n",
       "10021       11320595.0                 1.037000                     16.312   \n",
       "10025         765626.0                 1.037000                      7.421   \n",
       "10026        4059644.0                 1.037000                     11.471   \n",
       "10027       13323775.0                 1.037000                      5.696   \n",
       "10028       20459183.0                 1.037000                      3.884   \n",
       "10251         128153.0                 0.001022                      0.009   \n",
       "12251        5051920.0                 1.037000                      4.951   \n",
       "12252       16787311.0                 1.037000                      3.862   \n",
       "12256         812258.0                 1.037000                      4.612   \n",
       "12257        1295042.0                 1.037000                      8.468   \n",
       "12259       19865749.0                 1.037000                      2.758   \n",
       "12260       26940908.0                 1.037000                      2.819   \n",
       "\n",
       "       fuel_cost_per_unit_delivered  fuel_cost_per_mmbtu  fuel_cost_per_mwh  \\\n",
       "943                           9.740                0.013              -25.0   \n",
       "1051                          0.000                0.007               78.0   \n",
       "1053                          0.000                0.007               82.0   \n",
       "1057                          0.000                0.006              151.0   \n",
       "1059                          0.000                0.006               69.0   \n",
       "1060                          0.000                0.007               72.0   \n",
       "1062                          0.000                0.007               46.0   \n",
       "1600                          0.000                0.009              108.0   \n",
       "1601                          0.000                0.008               98.0   \n",
       "1604                          0.000                0.010              206.0   \n",
       "1606                          0.000                0.007              104.0   \n",
       "1607                          0.000                0.009               95.0   \n",
       "1609                          0.000                0.009               61.0   \n",
       "1610                          0.000                0.004               27.0   \n",
       "2867                          0.000                0.004               45.0   \n",
       "2868                          0.000                0.005               54.0   \n",
       "2871                          0.000                0.004              102.0   \n",
       "2873                          0.000                0.004               47.0   \n",
       "2874                          0.000                0.004               43.0   \n",
       "2876                          0.000                0.004               26.0   \n",
       "2877                          0.000                0.004               26.0   \n",
       "5030                          0.000                0.005               62.0   \n",
       "5031                          0.000                0.005               61.0   \n",
       "5035                          0.000                0.005            50268.0   \n",
       "5036                          0.000                0.005               59.0   \n",
       "5038                          0.000                0.005               32.0   \n",
       "5039                          0.000                0.004               33.0   \n",
       "6466                          0.000                0.005               62.0   \n",
       "6467                          0.000                0.005               55.0   \n",
       "6471                          0.000                0.005               47.0   \n",
       "6472                          0.000                0.005               55.0   \n",
       "6474                          0.000                0.004               29.0   \n",
       "6475                          0.000                0.004               31.0   \n",
       "8083                          0.000                0.004               44.0   \n",
       "8084                          0.000                0.003               40.0   \n",
       "8088                          0.000                0.003               32.0   \n",
       "8089                          0.000                0.004               44.0   \n",
       "8091                          0.000                0.003               20.0   \n",
       "8092                          0.000                0.003               20.0   \n",
       "8531                          0.000                0.006               67.0   \n",
       "8532                          0.000                0.004               51.0   \n",
       "8536                          0.000                0.004               24.0   \n",
       "8537                          0.000                0.005               55.0   \n",
       "8539                          0.000                0.004               26.0   \n",
       "8540                          0.000                0.004               28.0   \n",
       "10020                         0.000                0.006               72.0   \n",
       "10021                         0.000                0.016              183.0   \n",
       "10025                         0.000                0.007               91.0   \n",
       "10026                         0.000                0.011              122.0   \n",
       "10027                         0.000                0.005               39.0   \n",
       "10028                         0.000                0.004               27.0   \n",
       "10251                         0.009                0.008               38.0   \n",
       "12251                         0.000                0.005               53.0   \n",
       "12252                         0.000                0.004               41.0   \n",
       "12256                         0.000                0.005               60.0   \n",
       "12257                         0.000                0.008               93.0   \n",
       "12259                         0.000                0.003               18.0   \n",
       "12260                         0.000                0.003               19.0   \n",
       "\n",
       "       fuel_mmbtu_per_mwh  \n",
       "943              0.000000  \n",
       "1051            11.690000  \n",
       "1053            11.809000  \n",
       "1057            23.672000  \n",
       "1059            11.173000  \n",
       "1060            10.677000  \n",
       "1062             7.070000  \n",
       "1600            11.407000  \n",
       "1601            11.594000  \n",
       "1604            20.135000  \n",
       "1606            15.951000  \n",
       "1607            10.763000  \n",
       "1609             7.108000  \n",
       "1610             7.305000  \n",
       "2867            11.347000  \n",
       "2868            11.784000  \n",
       "2871            27.093000  \n",
       "2873            11.868000  \n",
       "2874            11.169000  \n",
       "2876             7.101000  \n",
       "2877             7.435000  \n",
       "5030            11.647000  \n",
       "5031            11.982000  \n",
       "5035         10423.890000  \n",
       "5036            11.364000  \n",
       "5038             7.136000  \n",
       "5039             7.429000  \n",
       "6466            11.372000  \n",
       "6467            11.581000  \n",
       "6471             9.931000  \n",
       "6472            11.008000  \n",
       "6474             7.112000  \n",
       "6475             7.456000  \n",
       "8083            11.428000  \n",
       "8084            11.547000  \n",
       "8088            11.307000  \n",
       "8089            11.008000  \n",
       "8091             6.998000  \n",
       "8092             7.266000  \n",
       "8531            11.890000  \n",
       "8532            11.971000  \n",
       "8536            11.844000  \n",
       "8537            11.025000  \n",
       "8539             7.103000  \n",
       "8540             7.375000  \n",
       "10020           11.455000  \n",
       "10021           11.651000  \n",
       "10025           12.308000  \n",
       "10026           11.348000  \n",
       "10027            7.167000  \n",
       "10028            7.196000  \n",
       "10251         4515.931034  \n",
       "12251           11.264000  \n",
       "12252           11.637000  \n",
       "12256           13.041000  \n",
       "12257           11.832000  \n",
       "12259            6.852000  \n",
       "12260            7.122000  "
      ]
     },
     "execution_count": 149,
     "metadata": {},
     "output_type": "execute_result"
    }
   ],
   "source": [
    "gas[(gas.fuel_cost_per_mmbtu > .0001) & (gas.fuel_cost_per_mmbtu < .02)]"
   ]
  },
  {
   "cell_type": "markdown",
   "metadata": {},
   "source": [
    "Applying the two cleaning functions, we see a distribution peaking around 5 dollars per mmbtu with a tail out to 35 dollars per mmbtu."
   ]
  },
  {
   "cell_type": "code",
   "execution_count": 136,
   "metadata": {
    "collapsed": false
   },
   "outputs": [
    {
     "data": {
      "image/png": "[encoded data removed]",
      "text/plain": [
       "<matplotlib.figure.Figure at 0x140ea9c88>"
      ]
     },
     "metadata": {},
     "output_type": "display_data"
    }
   ],
   "source": [
    "to_fix_cost_per_mmbtu_gas = gas.fuel_cost_per_mmbtu\n",
    "fixed_cost_per_mmbtu_gas = fixit(gas.fuel_cost_per_mmbtu,1,35,[.01,1000])\n",
    "\n",
    "showfix(to_fix_cost_per_mmbtu_gas,fixed_cost_per_mmbtu_gas,'FERC Gas: Cost per mmbtu',\\\n",
    "        'dollars per mmbtu','number of occurences')"
   ]
  },
  {
   "cell_type": "code",
   "execution_count": null,
   "metadata": {
    "collapsed": true
   },
   "outputs": [],
   "source": []
  }
 ],
 "metadata": {
  "anaconda-cloud": {},
  "kernelspec": {
   "display_name": "Python 3",
   "language": "python",
   "name": "python3"
  },
  "language_info": {
   "codemirror_mode": {
    "name": "ipython",
    "version": 3
   },
   "file_extension": ".py",
   "mimetype": "text/x-python",
   "name": "python",
   "nbconvert_exporter": "python",
   "pygments_lexer": "ipython3",
   "version": "3.6.0"
  }
 },
 "nbformat": 4,
 "nbformat_minor": 1
}
