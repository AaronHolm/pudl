{
 "cells": [
  {
   "cell_type": "code",
   "execution_count": 1,
   "metadata": {},
   "outputs": [],
   "source": [
    "%load_ext autoreload\n",
    "%autoreload 2"
   ]
  },
  {
   "cell_type": "code",
   "execution_count": 2,
   "metadata": {},
   "outputs": [],
   "source": [
    "import sys\n",
    "import os\n",
    "import numpy as np\n",
    "import pandas as pd\n",
    "import sqlalchemy as sa\n",
    "from pudl import init, datastore, settings\n",
    "import pudl.constants as pc\n",
    "\n",
    "import matplotlib.pyplot as plt\n",
    "import matplotlib as mpl\n",
    "%matplotlib inline"
   ]
  },
  {
   "cell_type": "code",
   "execution_count": 3,
   "metadata": {},
   "outputs": [],
   "source": [
    "# For some reason these things don't stick if they're in the same cell as the\n",
    "# %matplotlib inline call above, but if they're separate, they work fine.\n",
    "plt.style.use('ggplot')\n",
    "mpl.rcParams['figure.figsize'] = (10,6)\n",
    "mpl.rcParams['figure.dpi'] = 150\n",
    "pd.options.display.max_columns = 56"
   ]
  },
  {
   "cell_type": "code",
   "execution_count": 4,
   "metadata": {},
   "outputs": [
    {
     "data": {
      "text/plain": [
       "['f1_respondent_id',\n",
       " 'f1_fuel',\n",
       " 'f1_steam',\n",
       " 'f1_gnrt_plant',\n",
       " 'f1_hydro',\n",
       " 'f1_pumped_storage',\n",
       " 'f1_plant_in_srvce',\n",
       " 'f1_purchased_pwr',\n",
       " 'f1_accumdepr_prvsn']"
      ]
     },
     "execution_count": 4,
     "metadata": {},
     "output_type": "execute_result"
    }
   ],
   "source": [
    "pc.ferc1_default_tables"
   ]
  },
  {
   "cell_type": "code",
   "execution_count": 5,
   "metadata": {},
   "outputs": [
    {
     "ename": "NameError",
     "evalue": "name 'ferc1_dir' is not defined",
     "output_type": "error",
     "traceback": [
      "\u001b[0;31m---------------------------------------------------------------------------\u001b[0m",
      "\u001b[0;31mNameError\u001b[0m                                 Traceback (most recent call last)",
      "\u001b[0;32m<ipython-input-5-c30c33c5e3d7>\u001b[0m in \u001b[0;36m<module>\u001b[0;34m()\u001b[0m\n\u001b[1;32m      4\u001b[0m \u001b[0mferc1_db_files\u001b[0m \u001b[0;34m=\u001b[0m \u001b[0;34m[\u001b[0m\u001b[0;34mf\"{pc.ferc1_tbl2dbf[f]}.DBF\"\u001b[0m \u001b[0;32mfor\u001b[0m \u001b[0mf\u001b[0m \u001b[0;32min\u001b[0m \u001b[0mpc\u001b[0m\u001b[0;34m.\u001b[0m\u001b[0mferc1_default_tables\u001b[0m\u001b[0;34m]\u001b[0m\u001b[0;34m+\u001b[0m\u001b[0;34m[\u001b[0m\u001b[0;34m'F1_PUB.DBC'\u001b[0m\u001b[0;34m]\u001b[0m\u001b[0;34m\u001b[0m\u001b[0m\n\u001b[1;32m      5\u001b[0m \u001b[0;34m\u001b[0m\u001b[0m\n\u001b[0;32m----> 6\u001b[0;31m \u001b[0mferc1_db_files\u001b[0m \u001b[0;34m=\u001b[0m \u001b[0;34m[\u001b[0m\u001b[0mos\u001b[0m\u001b[0;34m.\u001b[0m\u001b[0mpath\u001b[0m\u001b[0;34m.\u001b[0m\u001b[0mjoin\u001b[0m\u001b[0;34m(\u001b[0m\u001b[0mferc1_dir\u001b[0m\u001b[0;34m,\u001b[0m \u001b[0mf\u001b[0m\u001b[0;34m)\u001b[0m \u001b[0;32mfor\u001b[0m \u001b[0mf\u001b[0m \u001b[0;32min\u001b[0m \u001b[0mferc1_db_files\u001b[0m\u001b[0;34m]\u001b[0m\u001b[0;34m\u001b[0m\u001b[0m\n\u001b[0m\u001b[1;32m      7\u001b[0m \u001b[0mferc1_db_files\u001b[0m\u001b[0;34m\u001b[0m\u001b[0m\n",
      "\u001b[0;32m<ipython-input-5-c30c33c5e3d7>\u001b[0m in \u001b[0;36m<listcomp>\u001b[0;34m(.0)\u001b[0m\n\u001b[1;32m      4\u001b[0m \u001b[0mferc1_db_files\u001b[0m \u001b[0;34m=\u001b[0m \u001b[0;34m[\u001b[0m\u001b[0;34mf\"{pc.ferc1_tbl2dbf[f]}.DBF\"\u001b[0m \u001b[0;32mfor\u001b[0m \u001b[0mf\u001b[0m \u001b[0;32min\u001b[0m \u001b[0mpc\u001b[0m\u001b[0;34m.\u001b[0m\u001b[0mferc1_default_tables\u001b[0m\u001b[0;34m]\u001b[0m\u001b[0;34m+\u001b[0m\u001b[0;34m[\u001b[0m\u001b[0;34m'F1_PUB.DBC'\u001b[0m\u001b[0;34m]\u001b[0m\u001b[0;34m\u001b[0m\u001b[0m\n\u001b[1;32m      5\u001b[0m \u001b[0;34m\u001b[0m\u001b[0m\n\u001b[0;32m----> 6\u001b[0;31m \u001b[0mferc1_db_files\u001b[0m \u001b[0;34m=\u001b[0m \u001b[0;34m[\u001b[0m\u001b[0mos\u001b[0m\u001b[0;34m.\u001b[0m\u001b[0mpath\u001b[0m\u001b[0;34m.\u001b[0m\u001b[0mjoin\u001b[0m\u001b[0;34m(\u001b[0m\u001b[0mferc1_dir\u001b[0m\u001b[0;34m,\u001b[0m \u001b[0mf\u001b[0m\u001b[0;34m)\u001b[0m \u001b[0;32mfor\u001b[0m \u001b[0mf\u001b[0m \u001b[0;32min\u001b[0m \u001b[0mferc1_db_files\u001b[0m\u001b[0;34m]\u001b[0m\u001b[0;34m\u001b[0m\u001b[0m\n\u001b[0m\u001b[1;32m      7\u001b[0m \u001b[0mferc1_db_files\u001b[0m\u001b[0;34m\u001b[0m\u001b[0m\n",
      "\u001b[0;31mNameError\u001b[0m: name 'ferc1_dir' is not defined"
     ]
    }
   ],
   "source": [
    "ferc1_year = 2017\n",
    "ferc1_src_data_dir = datastore.path('ferc1', year=ferc1_year, file=False)\n",
    "ferc1_test_data_dir = datastore.path('ferc1', year=ferc1_year, file=False, datadir=os.path.join(settings.SETTINGS['test_dir'],'data'))\n",
    "ferc1_db_files = [f\"{pc.ferc1_tbl2dbf[f]}.DBF\" for f in pc.ferc1_default_tables]+['F1_PUB.DBC']\n",
    "\n",
    "ferc1_db_files = [os.path.join(ferc1_dir, f) for f in ferc1_db_files]\n",
    "ferc1_db_files"
   ]
  },
  {
   "cell_type": "code",
   "execution_count": 27,
   "metadata": {},
   "outputs": [
    {
     "data": {
      "text/plain": [
       "['/home/zane/code/catalyst/pudl/data/epa/cems/epacems2017/epacems2017mt01.zip',\n",
       " '/home/zane/code/catalyst/pudl/data/epa/cems/epacems2017/epacems2017mt02.zip',\n",
       " '/home/zane/code/catalyst/pudl/data/epa/cems/epacems2017/epacems2017mt03.zip',\n",
       " '/home/zane/code/catalyst/pudl/data/epa/cems/epacems2017/epacems2017mt04.zip',\n",
       " '/home/zane/code/catalyst/pudl/data/epa/cems/epacems2017/epacems2017mt05.zip',\n",
       " '/home/zane/code/catalyst/pudl/data/epa/cems/epacems2017/epacems2017mt06.zip',\n",
       " '/home/zane/code/catalyst/pudl/data/epa/cems/epacems2017/epacems2017mt07.zip',\n",
       " '/home/zane/code/catalyst/pudl/data/epa/cems/epacems2017/epacems2017mt08.zip',\n",
       " '/home/zane/code/catalyst/pudl/data/epa/cems/epacems2017/epacems2017mt09.zip',\n",
       " '/home/zane/code/catalyst/pudl/data/epa/cems/epacems2017/epacems2017mt10.zip',\n",
       " '/home/zane/code/catalyst/pudl/data/epa/cems/epacems2017/epacems2017mt11.zip',\n",
       " '/home/zane/code/catalyst/pudl/data/epa/cems/epacems2017/epacems2017mt12.zip',\n",
       " '/home/zane/code/catalyst/pudl/data/epa/cems/epacems2017/epacems2017co01.zip',\n",
       " '/home/zane/code/catalyst/pudl/data/epa/cems/epacems2017/epacems2017co02.zip',\n",
       " '/home/zane/code/catalyst/pudl/data/epa/cems/epacems2017/epacems2017co03.zip',\n",
       " '/home/zane/code/catalyst/pudl/data/epa/cems/epacems2017/epacems2017co04.zip',\n",
       " '/home/zane/code/catalyst/pudl/data/epa/cems/epacems2017/epacems2017co05.zip',\n",
       " '/home/zane/code/catalyst/pudl/data/epa/cems/epacems2017/epacems2017co06.zip',\n",
       " '/home/zane/code/catalyst/pudl/data/epa/cems/epacems2017/epacems2017co07.zip',\n",
       " '/home/zane/code/catalyst/pudl/data/epa/cems/epacems2017/epacems2017co08.zip',\n",
       " '/home/zane/code/catalyst/pudl/data/epa/cems/epacems2017/epacems2017co09.zip',\n",
       " '/home/zane/code/catalyst/pudl/data/epa/cems/epacems2017/epacems2017co10.zip',\n",
       " '/home/zane/code/catalyst/pudl/data/epa/cems/epacems2017/epacems2017co11.zip',\n",
       " '/home/zane/code/catalyst/pudl/data/epa/cems/epacems2017/epacems2017co12.zip']"
      ]
     },
     "execution_count": 27,
     "metadata": {},
     "output_type": "execute_result"
    }
   ],
   "source": [
    "[ datastore.path('epacems', year=2017, state=state, month=month) for state in ['MT','CO'] for month in range(1,13) ]"
   ]
  },
  {
   "cell_type": "code",
   "execution_count": 6,
   "metadata": {},
   "outputs": [
    {
     "data": {
      "text/plain": [
       "['/home/zane/code/catalyst/pudl/data/ferc/form1/f1_2017/f1_2017.zip']"
      ]
     },
     "execution_count": 6,
     "metadata": {},
     "output_type": "execute_result"
    }
   ],
   "source": [
    "datastore.paths_for_year('ferc1', year=2017)"
   ]
  },
  {
   "cell_type": "code",
   "execution_count": null,
   "metadata": {},
   "outputs": [],
   "source": []
  }
 ],
 "metadata": {
  "kernelspec": {
   "display_name": "Python 3",
   "language": "python",
   "name": "python3"
  },
  "language_info": {
   "codemirror_mode": {
    "name": "ipython",
    "version": 3
   },
   "file_extension": ".py",
   "mimetype": "text/x-python",
   "name": "python",
   "nbconvert_exporter": "python",
   "pygments_lexer": "ipython3",
   "version": "3.7.0"
  }
 },
 "nbformat": 4,
 "nbformat_minor": 2
}
