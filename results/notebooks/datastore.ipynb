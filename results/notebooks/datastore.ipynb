{
 "cells": [
  {
   "cell_type": "code",
   "execution_count": 1,
   "metadata": {},
   "outputs": [],
   "source": [
    "%load_ext autoreload\n",
    "%autoreload 2"
   ]
  },
  {
   "cell_type": "code",
   "execution_count": 2,
   "metadata": {},
   "outputs": [],
   "source": [
    "import sys\n",
    "import os\n",
    "import numpy as np\n",
    "import pandas as pd\n",
    "import sqlalchemy as sa\n",
    "sys.path.append(os.path.abspath(os.path.join('..','..')))\n",
    "from pudl import init, datastore, settings\n",
    "import pudl.constants as pc\n",
    "\n",
    "import matplotlib.pyplot as plt\n",
    "import matplotlib as mpl\n",
    "%matplotlib inline"
   ]
  },
  {
   "cell_type": "code",
   "execution_count": 3,
   "metadata": {},
   "outputs": [],
   "source": [
    "# For some reason these things don't stick if they're in the same cell as the\n",
    "# %matplotlib inline call above, but if they're separate, they work fine.\n",
    "plt.style.use('ggplot')\n",
    "mpl.rcParams['figure.figsize'] = (10,6)\n",
    "mpl.rcParams['figure.dpi'] = 150\n",
    "pd.options.display.max_columns = 56"
   ]
  },
  {
   "cell_type": "code",
   "execution_count": 6,
   "metadata": {},
   "outputs": [
    {
     "data": {
      "text/plain": [
       "'ftp://newftp.epa.gov/dmdnload/emissions/hourly/monthly/2016/2016co01.zip'"
      ]
     },
     "execution_count": 6,
     "metadata": {},
     "output_type": "execute_result"
    }
   ],
   "source": [
    "datastore.source_url('epacems', 2016, month=1, state='co')"
   ]
  },
  {
   "cell_type": "code",
   "execution_count": 8,
   "metadata": {},
   "outputs": [
    {
     "name": "stdout",
     "output_type": "stream",
     "text": [
      "Downloading epacems data for 2016...\n"
     ]
    },
    {
     "data": {
      "text/plain": [
       "['/home/zane/code/catalyst/pudl/test/testdata/tmp/epacems2016co01.zip',\n",
       " '/home/zane/code/catalyst/pudl/test/testdata/tmp/epacems2016co02.zip',\n",
       " '/home/zane/code/catalyst/pudl/test/testdata/tmp/epacems2016co03.zip',\n",
       " '/home/zane/code/catalyst/pudl/test/testdata/tmp/epacems2016co04.zip',\n",
       " '/home/zane/code/catalyst/pudl/test/testdata/tmp/epacems2016co05.zip',\n",
       " '/home/zane/code/catalyst/pudl/test/testdata/tmp/epacems2016co06.zip',\n",
       " '/home/zane/code/catalyst/pudl/test/testdata/tmp/epacems2016co07.zip',\n",
       " '/home/zane/code/catalyst/pudl/test/testdata/tmp/epacems2016co08.zip',\n",
       " '/home/zane/code/catalyst/pudl/test/testdata/tmp/epacems2016co09.zip',\n",
       " '/home/zane/code/catalyst/pudl/test/testdata/tmp/epacems2016co10.zip',\n",
       " '/home/zane/code/catalyst/pudl/test/testdata/tmp/epacems2016co11.zip',\n",
       " '/home/zane/code/catalyst/pudl/test/testdata/tmp/epacems2016co12.zip',\n",
       " '/home/zane/code/catalyst/pudl/test/testdata/tmp/epacems2016wy01.zip',\n",
       " '/home/zane/code/catalyst/pudl/test/testdata/tmp/epacems2016wy02.zip',\n",
       " '/home/zane/code/catalyst/pudl/test/testdata/tmp/epacems2016wy03.zip',\n",
       " '/home/zane/code/catalyst/pudl/test/testdata/tmp/epacems2016wy04.zip',\n",
       " '/home/zane/code/catalyst/pudl/test/testdata/tmp/epacems2016wy05.zip',\n",
       " '/home/zane/code/catalyst/pudl/test/testdata/tmp/epacems2016wy06.zip',\n",
       " '/home/zane/code/catalyst/pudl/test/testdata/tmp/epacems2016wy07.zip',\n",
       " '/home/zane/code/catalyst/pudl/test/testdata/tmp/epacems2016wy08.zip',\n",
       " '/home/zane/code/catalyst/pudl/test/testdata/tmp/epacems2016wy09.zip',\n",
       " '/home/zane/code/catalyst/pudl/test/testdata/tmp/epacems2016wy10.zip',\n",
       " '/home/zane/code/catalyst/pudl/test/testdata/tmp/epacems2016wy11.zip',\n",
       " '/home/zane/code/catalyst/pudl/test/testdata/tmp/epacems2016wy12.zip']"
      ]
     },
     "execution_count": 8,
     "metadata": {},
     "output_type": "execute_result"
    }
   ],
   "source": [
    "datastore.download('epacems', 2016, ['CO','WY',],\n",
    "                   datadir=os.path.join(settings.TEST_DIR,'testdata'))"
   ]
  },
  {
   "cell_type": "code",
   "execution_count": 9,
   "metadata": {},
   "outputs": [],
   "source": [
    "datastore.organize('epacems',2016,states=['CT',],\n",
    "                   datadir=os.path.join(settings.TEST_DIR,'testdata'))"
   ]
  },
  {
   "cell_type": "code",
   "execution_count": null,
   "metadata": {},
   "outputs": [],
   "source": []
  }
 ],
 "metadata": {
  "kernelspec": {
   "display_name": "Python 3",
   "language": "python",
   "name": "python3"
  },
  "language_info": {
   "codemirror_mode": {
    "name": "ipython",
    "version": 3
   },
   "file_extension": ".py",
   "mimetype": "text/x-python",
   "name": "python",
   "nbconvert_exporter": "python",
   "pygments_lexer": "ipython3",
   "version": "3.6.5"
  }
 },
 "nbformat": 4,
 "nbformat_minor": 2
}
