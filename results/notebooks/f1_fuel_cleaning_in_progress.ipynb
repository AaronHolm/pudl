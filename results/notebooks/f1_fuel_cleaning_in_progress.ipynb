{
 "cells": [
  {
   "cell_type": "markdown",
   "metadata": {},
   "source": [
    "## Playing with FERC 1 Fuel data\n",
    "This notebook is meant to help get you understand the data cleaning process for FERC Form 1 fuel data for heat content and price per MMBTU data.\n",
    "\n",
    "### Importing external code.\n",
    "We need to import a bunch of outside code to do our work here.  Sometimes we import entire packages (like `numpy` and `pandas`) and sometimes we just pull in a couple of pieces we need from a particular part of a large package (like `declarative_base`)"
   ]
  },
  {
   "cell_type": "code",
   "execution_count": 1,
   "metadata": {
    "collapsed": false
   },
   "outputs": [],
   "source": [
    "import sys\n",
    "import os.path\n",
    "import numpy as np\n",
    "import pandas as pd\n",
    "from sqlalchemy.ext.declarative import declarative_base\n",
    "from sqlalchemy import create_engine\n",
    "from sqlalchemy.orm import sessionmaker\n",
    "from sqlalchemy.engine.url import URL\n",
    "import matplotlib.pyplot as plt"
   ]
  },
  {
   "cell_type": "markdown",
   "metadata": {},
   "source": [
    "### Importing our own code\n",
    "We also need to tell Python where to look to find our own code.  It has a list of directories that it looks in, but our little project isn't in that list, unless we add it -- which is what `sys.path.append()` does.  You'll need to change this path to reflect where on your computer the PUDL project folder (which you pull down with `git`) lives.\n",
    "\n",
    "Once Python knows to look in the `pudl` project folder, it will let you import `pudl` modules just like any other Python module.  Here we're pulling in the `ferc1` and `pudl` modules from the `pudl` package (which is a directory inside the `pudl` project directory)."
   ]
  },
  {
   "cell_type": "code",
   "execution_count": 2,
   "metadata": {
    "collapsed": false
   },
   "outputs": [],
   "source": [
    "sys.path.append('/Users/christinagosnell/code/pudl')\n",
    "sys.path.append('/Users/zaneselvans/code/catalyst/pudl')\n",
    "sys.path.append('/Users/Nannerz/Desktop/working/pudl/')\n",
    "sys.path.append('/home/alana/Dropbox/catalyst/pudl')\n",
    "from pudl import ferc1, pudl, models, models_ferc1, settings, constants"
   ]
  },
  {
   "cell_type": "markdown",
   "metadata": {},
   "source": [
    "### Automatically reloading a work in progress\n",
    "Because you're probably going to be editing the Python modules related to PUDL while you're working with this notebook, it's useful to have them get automatically reloaded before every cell is executed -- this means you're always using the freshest version of the module, with all your recent edits."
   ]
  },
  {
   "cell_type": "code",
   "execution_count": 3,
   "metadata": {
    "collapsed": false
   },
   "outputs": [],
   "source": [
    "%load_ext autoreload\n",
    "%autoreload 1\n",
    "%aimport pudl.pudl\n",
    "%aimport pudl.ferc1\n",
    "%aimport pudl.constants\n",
    "%aimport pudl.settings\n",
    "%aimport pudl.models"
   ]
  },
  {
   "cell_type": "markdown",
   "metadata": {},
   "source": [
    "### Connecting to our databases.\n",
    "We have two different databases that we're working with right now.  The FERC Form 1 (`ferc1`) and our own PUDL database (`pudl`). For this software to work, you'll need to have the Postgresql database server running on your computer, and you'll need to have created empty databases to receive the tables and data we're going to create.  On a mac, the easiest Postgres install to get running is probably Postgress.app.  You'll need to fire it up at the command line at least once to create the databases (one called `ferc1` and another called `pudl_sandbox`) and a user named `catalyst` with no password.  This information is stored in the `settings` module if you need to look it up.\n",
    "\n",
    "Here are two shortcuts for connecting to the two databases once they're created:"
   ]
  },
  {
   "cell_type": "code",
   "execution_count": 4,
   "metadata": {
    "collapsed": false
   },
   "outputs": [],
   "source": [
    "pudl_engine  = pudl.pudl.db_connect_pudl()\n",
    "ferc1_engine = pudl.ferc1.db_connect_ferc1()"
   ]
  },
  {
   "cell_type": "markdown",
   "metadata": {},
   "source": [
    "### Initializing the FERC Form 1 database\n",
    "Now that you've got an empty database, let's put some data in it!  This function initializes the database by reading in the FERC Form 1 database structure from `refyear` and data from `years` (which can eventually be a list of years, but that's not working yet...). In order for this to work, you need to have the FERC Form 1 data downloaded into the data directory. There's a script called `get_ferc1.sh` down in `data/ferc/form1/` that will get it for you if you don't have it."
   ]
  },
  {
   "cell_type": "code",
   "execution_count": 5,
   "metadata": {
    "collapsed": false
   },
   "outputs": [
    {
     "name": "stdout",
     "output_type": "stream",
     "text": [
      "Defining new FERC Form 1 DB based on 2015...\n",
      "Clearing any existing FERC Form 1 database MetaData...\n",
      "Ingesting FERC Form 1 Data from 2007...\n",
      "Ingesting FERC Form 1 Data from 2008...\n",
      "Ingesting FERC Form 1 Data from 2009...\n",
      "Ingesting FERC Form 1 Data from 2010...\n",
      "Ingesting FERC Form 1 Data from 2011...\n",
      "Ingesting FERC Form 1 Data from 2012...\n",
      "Ingesting FERC Form 1 Data from 2013...\n",
      "Ingesting FERC Form 1 Data from 2014...\n",
      "Ingesting FERC Form 1 Data from 2015...\n"
     ]
    }
   ],
   "source": [
    "pudl.ferc1.init_db(refyear=2015, years=[2007,2008,2009,2010,2011,2012,2013,2014,2015], ferc1_tables=pudl.constants.ferc1_default_tables)"
   ]
  },
  {
   "cell_type": "markdown",
   "metadata": {},
   "source": [
    "### Initializing the PUDL database\n",
    "We'll pull in FERC 1 fuel, FERC 1 steam, and EIA 923's Fuel Receipts and Costs"
   ]
  },
  {
   "cell_type": "code",
   "execution_count": 6,
   "metadata": {
    "collapsed": false
   },
   "outputs": [
    {
     "name": "stdout",
     "output_type": "stream",
     "text": [
      "Ingesting static PUDL tables...\n",
      "Sniffing EIA923/FERC1 glue tables...\n",
      "Ingesting f1_fuel from FERC Form 1 into PUDL.\n",
      "Ingesting f1_steam from FERC Form 1 into PUDL.\n",
      "Reading EIA 923 spreadsheet data for 2011.\n",
      "Reading EIA 923 spreadsheet data for 2012.\n",
      "Reading EIA 923 spreadsheet data for 2013.\n",
      "Reading EIA 923 spreadsheet data for 2014.\n",
      "Reading EIA 923 spreadsheet data for 2015.\n",
      "Converting EIA 923 generation_fuel to DataFrame...\n",
      "Converting EIA 923 stocks to DataFrame...\n",
      "Converting EIA 923 boiler_fuel to DataFrame...\n",
      "Converting EIA 923 generator to DataFrame...\n",
      "Converting EIA 923 fuel_receipts_costs to DataFrame...\n",
      "Converting EIA 923 plant_frame to DataFrame...\n",
      "Converting EIA 923 generation_fuel to DataFrame...\n",
      "Converting EIA 923 boiler_fuel to DataFrame...\n",
      "Converting EIA 923 generator to DataFrame...\n",
      "Converting EIA 923 fuel_receipts_costs to DataFrame...\n",
      "Ingesting generation_fuel_eia923 from EIA 923 into PUDL.\n",
      "Ingesting fuel_receipts_costs_eia923 from EIA 923 into PUDL.\n"
     ]
    }
   ],
   "source": [
    "pudl.pudl.init_db(ferc1_tables=['f1_fuel','f1_steam'], ferc1_years=[2007,2008,2009,2010,2011,2012,2013,2014,2015],\\\n",
    "                                  eia923_tables=['fuel_receipts_costs_eia923','generation_fuel_eia923'], eia923_years=[2011,2012,2013,2014,2015], debug=True)"
   ]
  },
  {
   "cell_type": "markdown",
   "metadata": {
    "collapsed": false
   },
   "source": [
    "## Average heat content per unit, coal and gas"
   ]
  },
  {
   "cell_type": "markdown",
   "metadata": {},
   "source": [
    "### Pull applicable data from PUDL FERC tables"
   ]
  },
  {
   "cell_type": "code",
   "execution_count": 51,
   "metadata": {
    "collapsed": false
   },
   "outputs": [],
   "source": [
    "fuel_df = pd.read_sql('''SELECT * from fuel_ferc1''',pudl_engine)\n",
    "coal = fuel_df[fuel_df.fuel=='coal']\n",
    "gas = fuel_df[fuel_df.fuel=='gas']"
   ]
  },
  {
   "cell_type": "code",
   "execution_count": 8,
   "metadata": {
    "collapsed": false
   },
   "outputs": [
    {
     "name": "stderr",
     "output_type": "stream",
     "text": [
      "/Users/Nannerz/anaconda3/lib/python3.6/site-packages/numpy/lib/function_base.py:583: RuntimeWarning: invalid value encountered in greater_equal\n",
      "  keep = (tmp_a >= mn)\n",
      "/Users/Nannerz/anaconda3/lib/python3.6/site-packages/numpy/lib/function_base.py:584: RuntimeWarning: invalid value encountered in less_equal\n",
      "  keep &= (tmp_a <= mx)\n"
     ]
    },
    {
     "data": {
      "image/png": "[encoded data removed]",
      "text/plain": [
       "<matplotlib.figure.Figure at 0x1214301d0>"
      ]
     },
     "metadata": {},
     "output_type": "display_data"
    }
   ],
   "source": [
    "def fixit(tofix, min, max, mults):\n",
    "    fixed = tofix.copy()\n",
    "    for mult in mults:\n",
    "        fixed = fixed.apply(lambda x: x*mult if x > min/mult and x < max/mult else x)\n",
    "    fixed = fixed.apply(lambda x: np.nan if x < min or x > max else x)\n",
    "    return(fixed)\n",
    "\n",
    "fixed_coal_avg_heat_content = fixit(coal.fuel_avg_mmbtu_per_unit,10,30,[2000,1e6,2000e6])\n",
    "\n",
    "fig = plt.figure(figsize=(14,10))\n",
    "plt.grid()\n",
    "plt.title(\"Reported Average Heat Content of Coal, FERC Form 1, 2007-2015\")\n",
    "plt.ylabel(\"# of records\")\n",
    "plt.xlabel(\"mmBTU/ton\")\n",
    "\n",
    "plt.hist(fixed_coal_avg_heat_content, bins=100, range=(0,30))\n",
    "plt.show()"
   ]
  },
  {
   "cell_type": "code",
   "execution_count": 94,
   "metadata": {
    "collapsed": false
   },
   "outputs": [
    {
     "data": {
      "image/png": "[encoded data removed]",
      "text/plain": [
       "<matplotlib.figure.Figure at 0x1419b4c88>"
      ]
     },
     "metadata": {},
     "output_type": "display_data"
    },
    {
     "data": {
      "text/plain": [
       "(<matplotlib.figure.Figure at 0x1419b4c88>, 2.2574123989218329)"
      ]
     },
     "execution_count": 94,
     "metadata": {},
     "output_type": "execute_result"
    }
   ],
   "source": [
    "def fixit(tofix, min, max, mults):\n",
    "    \n",
    "    fixed = tofix.copy()\n",
    "    for mult in mults:\n",
    "        fixed = fixed.apply(lambda x: x*mult if x > min/mult and x < max/mult else x)\n",
    "    fixed = fixed.apply(lambda x: np.nan if x < min or x > max else x)\n",
    "    return(fixed)\n",
    "\n",
    "def showfix(tofix,fixed,title,xlabel,ylabel):\n",
    "    \n",
    "    min_1 = tofix[tofix > 0].min()\n",
    "    max_1 = tofix.max()\n",
    "    \n",
    "    fig_1 = plt.figure(figsize=(14,10))\n",
    "    plt.subplot(2,1,1)\n",
    "    plt.title(title)\n",
    "    plt.xlabel(xlabel)\n",
    "    plt.ylabel(ylabel)\n",
    "    plt.grid()\n",
    "    ax = fig_1.axes[0]\n",
    "    ax.set_xscale('log')\n",
    "    ax.set_yscale('log')\n",
    "\n",
    "    plt.xlim(min_1,max_1)\n",
    "    plt.hist(tofix, bins=np.logspace(np.log10(min_1), np.log10(max_1), 100))\n",
    "    \n",
    "    plt.subplot(2,1,2)\n",
    "    plt.xlabel(xlabel)\n",
    "    plt.ylabel(ylabel)\n",
    "    plt.grid()\n",
    "    plt.hist(fixed.dropna(),bins=100)\n",
    "    plt.show()\n",
    "    \n",
    "    na_percentage =  ( fixed.isnull().sum() / len(fixed) ) * 100\n",
    "    \n",
    "    return(fig_1, na_percentage)\n",
    "\n",
    "to_fix_avg_heat_content_coal = coal.fuel_avg_mmbtu_per_unit\n",
    "fixed_avg_heat_content_coal = fixit(coal.fuel_avg_mmbtu_per_unit,10,30,[2000,1e6,2000e6])\n",
    "\n",
    "showfix(to_fix_avg_heat_content_coal,fixed_avg_heat_content_coal,'FERC Coal: Average heat content',\\\n",
    "        'mmbtu per ton','number of occurences')"
   ]
  },
  {
   "cell_type": "code",
   "execution_count": null,
   "metadata": {
    "collapsed": false
   },
   "outputs": [],
   "source": [
    "to_fix_avg_heat_content_gas = gas.fuel_avg_mmbtu_per_unit\n",
    "fixed_avg_heat_content_gas = fixit(gas.fuel_avg_mmbtu_per_unit,.75,1.25,[1000,1e6])\n",
    "\n",
    "showfix(to_fix_avg_heat_content_gas,fixed_avg_heat_content_gas,'FERC Gas: Average heat content',\\\n",
    "        'mmbtu per mcf','number of occurences')"
   ]
  },
  {
   "cell_type": "code",
   "execution_count": null,
   "metadata": {
    "collapsed": true
   },
   "outputs": [],
   "source": []
  },
  {
   "cell_type": "code",
   "execution_count": null,
   "metadata": {
    "collapsed": false
   },
   "outputs": [],
   "source": [
    "to_fix_cost_per_mmbtu_gas = gas.fuel_cost_per_mmbtu\n",
    "fixed_cost_per_mmbtu_gas = fixit(gas.fuel_cost_per_mmbtu,2.5,17.5,[.01,1000,10])\n",
    "\n",
    "showfix(to_fix_avg_heat_content_gas,fixed_cost_per_mmbtu_gas,'FERC Gas: Cost per mmbtu',\\\n",
    "        'dollars per mmbtu','number of occurences')"
   ]
  },
  {
   "cell_type": "code",
   "execution_count": null,
   "metadata": {
    "collapsed": false
   },
   "outputs": [],
   "source": [
    "to_fix_cost_per_mmbtu_coal = coal.fuel_cost_per_mmbtu\n",
    "fixed_cost_per_mmbtu_coal = fixit(coal.fuel_cost_per_mmbtu,.5,7.5,[.01,2000])\n",
    "\n",
    "showfix(to_fix_avg_heat_content_coal,fixed_cost_per_mmbtu_coal,'FERC Coal: Cost per mmbtu',\\\n",
    "        'dollars per mmbtu','number of occurences')"
   ]
  },
  {
   "cell_type": "markdown",
   "metadata": {},
   "source": [
    "## EIA 923 Heat rate"
   ]
  },
  {
   "cell_type": "code",
   "execution_count": 38,
   "metadata": {
    "collapsed": false
   },
   "outputs": [],
   "source": [
    "mwh_eia923 = pd.read_sql('''SELECT * FROM generation_fuel_eia923''', pudl_engine)"
   ]
  },
  {
   "cell_type": "code",
   "execution_count": 41,
   "metadata": {
    "collapsed": true
   },
   "outputs": [],
   "source": [
    "# Summarize data by year for each plant; this creates a new column that reports the annual sum in each row\n",
    "mwh_eia923[\"fuel_consumed_total_mmbtu_sum\"] = mwh_eia923.groupby([\"plant_id\", \"year\"])[\"fuel_consumed_total_mmbtu\"].transform(sum)\n",
    "mwh_eia923[\"net_generation_mwh_sum\"] = mwh_eia923.groupby([\"plant_id\", \"year\"])[\"net_generation_mwh\"].transform(sum)"
   ]
  },
  {
   "cell_type": "code",
   "execution_count": 42,
   "metadata": {
    "collapsed": false
   },
   "outputs": [],
   "source": [
    "# Use sum of fuel_consumed_total_mmbtu_sum and net_generation_mwh_sum to calculate annual heat rate \n",
    "# for each plant id\n",
    "mwh_eia923['calculated_heat_rate_btu_per_kwh'] = \\\n",
    "((mwh_eia923['fuel_consumed_total_mmbtu_sum']*1000000)/(mwh_eia923['net_generation_mwh_sum']*1000))"
   ]
  },
  {
   "cell_type": "markdown",
   "metadata": {},
   "source": [
    "### Looking at coal first"
   ]
  },
  {
   "cell_type": "code",
   "execution_count": 44,
   "metadata": {
    "collapsed": true
   },
   "outputs": [],
   "source": [
    "mwh_eia923_coal = mwh_eia923[(mwh_eia923.aer_fuel_category == 'coal')]"
   ]
  },
  {
   "cell_type": "code",
   "execution_count": 55,
   "metadata": {
    "collapsed": false
   },
   "outputs": [
    {
     "data": {
      "text/plain": [
       "0.05     9219.826363\n",
       "0.95    30637.180956\n",
       "Name: calculated_heat_rate_btu_per_kwh, dtype: float64"
      ]
     },
     "execution_count": 55,
     "metadata": {},
     "output_type": "execute_result"
    }
   ],
   "source": [
    "mwh_eia923_coal.calculated_heat_rate_btu_per_kwh.quantile(q=[.05,.95])"
   ]
  },
  {
   "cell_type": "code",
   "execution_count": 71,
   "metadata": {
    "collapsed": false
   },
   "outputs": [
    {
     "data": {
      "text/plain": [
       "0.01     7195.617373\n",
       "0.99    46922.623440\n",
       "Name: calculated_heat_rate_btu_per_kwh, dtype: float64"
      ]
     },
     "execution_count": 71,
     "metadata": {},
     "output_type": "execute_result"
    }
   ],
   "source": [
    "mwh_eia923_coal.calculated_heat_rate_btu_per_kwh.quantile(q=[.01,.99])"
   ]
  },
  {
   "cell_type": "markdown",
   "metadata": {},
   "source": [
    "### Looking at gas"
   ]
  },
  {
   "cell_type": "code",
   "execution_count": 45,
   "metadata": {
    "collapsed": true
   },
   "outputs": [],
   "source": [
    "mwh_eia923_gas = mwh_eia923[(mwh_eia923.aer_fuel_category == 'gas')]"
   ]
  },
  {
   "cell_type": "code",
   "execution_count": 97,
   "metadata": {
    "collapsed": false
   },
   "outputs": [
    {
     "data": {
      "text/plain": [
       "0.01     1173.108028\n",
       "0.05     6178.320997\n",
       "0.95    28887.914285\n",
       "0.99    52207.568300\n",
       "Name: calculated_heat_rate_btu_per_kwh, dtype: float64"
      ]
     },
     "execution_count": 97,
     "metadata": {},
     "output_type": "execute_result"
    }
   ],
   "source": [
    "mwh_eia923_gas.calculated_heat_rate_btu_per_kwh.quantile(q=[.01,.05,.95,.99])"
   ]
  },
  {
   "cell_type": "code",
   "execution_count": 52,
   "metadata": {
    "collapsed": false
   },
   "outputs": [
    {
     "data": {
      "image/png": "[encoded data removed]",
      "text/plain": [
       "<matplotlib.figure.Figure at 0x129f60588>"
      ]
     },
     "metadata": {},
     "output_type": "display_data"
    }
   ],
   "source": [
    "# Plot heat rate histogram for full data set by fuel type\n",
    "f, (ax1, ax2) = plt.subplots(2, 1, sharex=True)\n",
    "ax1.hist(mwh_eia923_coal.calculated_heat_rate_btu_per_kwh, color= 'b', label='coal', range=(0,50000), bins=100)\n",
    "ax1.legend(loc=\"upper right\", fontsize=16)\n",
    "ax1.yaxis.set_tick_params(labelsize=13)\n",
    "ax2.hist(mwh_eia923_gas.calculated_heat_rate_btu_per_kwh, color= 'r', label='gas', range=(0,50000), bins=100)\n",
    "ax2.legend(loc=\"upper right\", fontsize=16)\n",
    "plt.suptitle('Heat Rates for coal & gas plants, 2011-2015 (EIA923)', size=22)\n",
    "ax2.set_xlabel('Heat rate (Btu/kWh)', size=18)\n",
    "f.text(0.0, 0.5, 'Frequency (# of records)', ha='center', va='center', rotation='vertical', size=18)\n",
    "f.set_size_inches(9,9)\n",
    "plt.tick_params(axis='both', which='major', labelsize=13)\n",
    "plt.show()"
   ]
  },
  {
   "cell_type": "markdown",
   "metadata": {},
   "source": [
    "## FERC Heat rates"
   ]
  },
  {
   "cell_type": "code",
   "execution_count": 60,
   "metadata": {
    "collapsed": false
   },
   "outputs": [
    {
     "data": {
      "text/html": [
       "<div>\n",
       "<table border=\"1\" class=\"dataframe\">\n",
       "  <thead>\n",
       "    <tr style=\"text-align: right;\">\n",
       "      <th></th>\n",
       "      <th>id</th>\n",
       "      <th>respondent_id</th>\n",
       "      <th>plant_name</th>\n",
       "      <th>report_year</th>\n",
       "      <th>fuel</th>\n",
       "      <th>fuel_unit</th>\n",
       "      <th>fuel_qty_burned</th>\n",
       "      <th>fuel_avg_mmbtu_per_unit</th>\n",
       "      <th>fuel_cost_per_unit_burned</th>\n",
       "      <th>fuel_cost_per_unit_delivered</th>\n",
       "      <th>fuel_cost_per_mmbtu</th>\n",
       "      <th>fuel_cost_per_mwh</th>\n",
       "      <th>fuel_mmbtu_per_mwh</th>\n",
       "    </tr>\n",
       "  </thead>\n",
       "  <tbody>\n",
       "    <tr>\n",
       "      <th>0</th>\n",
       "      <td>1</td>\n",
       "      <td>186</td>\n",
       "      <td>Altavista</td>\n",
       "      <td>2007</td>\n",
       "      <td>coal</td>\n",
       "      <td>ton</td>\n",
       "      <td>152665.0</td>\n",
       "      <td>0.01283</td>\n",
       "      <td>80.46</td>\n",
       "      <td>79.83</td>\n",
       "      <td>3.14</td>\n",
       "      <td>34.0</td>\n",
       "      <td>11.895</td>\n",
       "    </tr>\n",
       "  </tbody>\n",
       "</table>\n",
       "</div>"
      ],
      "text/plain": [
       "   id  respondent_id plant_name  report_year  fuel fuel_unit  fuel_qty_burned  \\\n",
       "0   1            186  Altavista         2007  coal       ton         152665.0   \n",
       "\n",
       "   fuel_avg_mmbtu_per_unit  fuel_cost_per_unit_burned  \\\n",
       "0                  0.01283                      80.46   \n",
       "\n",
       "   fuel_cost_per_unit_delivered  fuel_cost_per_mmbtu  fuel_cost_per_mwh  \\\n",
       "0                         79.83                 3.14               34.0   \n",
       "\n",
       "   fuel_mmbtu_per_mwh  \n",
       "0              11.895  "
      ]
     },
     "execution_count": 60,
     "metadata": {},
     "output_type": "execute_result"
    }
   ],
   "source": [
    "coal.head(1)"
   ]
  },
  {
   "cell_type": "code",
   "execution_count": 101,
   "metadata": {
    "collapsed": false
   },
   "outputs": [
    {
     "data": {
      "image/png": "[encoded data removed]",
      "text/plain": [
       "<matplotlib.figure.Figure at 0x19baaada0>"
      ]
     },
     "metadata": {},
     "output_type": "display_data"
    },
    {
     "data": {
      "text/plain": [
       "(<matplotlib.figure.Figure at 0x19baaada0>, 0.61830173124484744)"
      ]
     },
     "execution_count": 101,
     "metadata": {},
     "output_type": "execute_result"
    }
   ],
   "source": [
    "coal_above_zero = coal[coal.fuel_mmbtu_per_mwh > 0]\n",
    "coal_fix = fixit(coal_above_zero.fuel_mmbtu_per_mwh,7.195,46.922,[2000,.001])\n",
    "showfix(coal.fuel_mmbtu_per_mwh,coal_fix,'FERC coal heat rates before and after','mmbtu per mwh','number of occurences')"
   ]
  },
  {
   "cell_type": "code",
   "execution_count": 103,
   "metadata": {
    "collapsed": false
   },
   "outputs": [
    {
     "data": {
      "image/png": "[encoded data removed]",
      "text/plain": [
       "<matplotlib.figure.Figure at 0x17e0e3f28>"
      ]
     },
     "metadata": {},
     "output_type": "display_data"
    },
    {
     "data": {
      "text/plain": [
       "(<matplotlib.figure.Figure at 0x17e0e3f28>, 0.61830173124484744)"
      ]
     },
     "execution_count": 103,
     "metadata": {},
     "output_type": "execute_result"
    }
   ],
   "source": [
    "gas_above_zero = gas[gas.fuel_mmbtu_per_mwh > 0]\n",
    "gas_fix = fixit(gas_above_zero.fuel_mmbtu_per_mwh,1.173,52.207,[2000,.001])\n",
    "showfix(coal.fuel_mmbtu_per_mwh,coal_fix,'FERC gas heat rates before and after','mmbtu per mwh','number of occurences')"
   ]
  },
  {
   "cell_type": "markdown",
   "metadata": {},
   "source": [
    "## EIA: Fuel Cost per mWh"
   ]
  },
  {
   "cell_type": "code",
   "execution_count": 442,
   "metadata": {
    "collapsed": false
   },
   "outputs": [],
   "source": [
    "# get fuel receipts and costs key columns\n",
    "fuel_rc = pd.read_sql('''SELECT fuel_quantity,fuel_group, average_heat_content, fuel_cost, plant_id, month, year FROM fuel_receipts_costs_eia923''', con = pudl_engine)"
   ]
  },
  {
   "cell_type": "code",
   "execution_count": 443,
   "metadata": {
    "collapsed": true
   },
   "outputs": [],
   "source": [
    "# convert cost from cents to dollars\n",
    "fuel_rc['fuel_cost'] = fuel_rc['fuel_cost'] * .01"
   ]
  },
  {
   "cell_type": "code",
   "execution_count": 444,
   "metadata": {
    "collapsed": true
   },
   "outputs": [],
   "source": [
    "# compute monthly cost by plant\n",
    "fuel_rc['monthly_cost'] = fuel_rc['fuel_quantity'] * fuel_rc['fuel_cost'] * fuel_rc['average_heat_content']"
   ]
  },
  {
   "cell_type": "code",
   "execution_count": 449,
   "metadata": {
    "collapsed": true
   },
   "outputs": [],
   "source": [
    "# sum monthly costs for each plant in each year to get the annual cost for the plant\n",
    "fuel_rc['annual_fuel_cost'] = fuel_rc.groupby(['plant_id','year'])['monthly_cost'].transform(sum)"
   ]
  },
  {
   "cell_type": "markdown",
   "metadata": {},
   "source": [
    "### Since many plants have more than one fuel, we need to determine the dominant type of fuel for the plant. We can find out which type of fuel the plant spends the most on, and use this to split plants into coal and gas."
   ]
  },
  {
   "cell_type": "code",
   "execution_count": 453,
   "metadata": {
    "collapsed": false
   },
   "outputs": [],
   "source": [
    "# split the annual cost by the type of fuel consumed\n",
    "fuel_rc['annual_fuel_cost_by_type'] = fuel_rc.groupby(['plant_id','year','fuel_group'])['monthly_cost'].transform(sum)"
   ]
  },
  {
   "cell_type": "code",
   "execution_count": 460,
   "metadata": {
    "collapsed": false
   },
   "outputs": [],
   "source": [
    "# sort by the annual cost for each type of fuel\n",
    "fuel_rc.sort_values(['annual_fuel_cost_by_type'],inplace=True)"
   ]
  },
  {
   "cell_type": "code",
   "execution_count": null,
   "metadata": {
    "collapsed": false
   },
   "outputs": [],
   "source": [
    "# look at an example of a plant that consumes both coal and gas\n",
    "fuel_rc[(fuel_rc.plant_id == 3) & (fuel_rc.year == 2014)]"
   ]
  },
  {
   "cell_type": "code",
   "execution_count": 462,
   "metadata": {
    "collapsed": true
   },
   "outputs": [],
   "source": [
    "# drop duplicates of the plant record but keep the record that has the highest amount spent on fuel\n",
    "fuel_rc_one_record_per_plant = fuel_rc.drop_duplicates(subset=['plant_id','annual_fuel_cost','year'],keep='last')"
   ]
  },
  {
   "cell_type": "code",
   "execution_count": 463,
   "metadata": {
    "collapsed": false
   },
   "outputs": [
    {
     "data": {
      "text/html": [
       "<div>\n",
       "<table border=\"1\" class=\"dataframe\">\n",
       "  <thead>\n",
       "    <tr style=\"text-align: right;\">\n",
       "      <th></th>\n",
       "      <th>fuel_quantity</th>\n",
       "      <th>fuel_group</th>\n",
       "      <th>average_heat_content</th>\n",
       "      <th>fuel_cost</th>\n",
       "      <th>plant_id</th>\n",
       "      <th>month</th>\n",
       "      <th>year</th>\n",
       "      <th>monthly_cost</th>\n",
       "      <th>annual_fuel_cost</th>\n",
       "      <th>annual_fuel_cost_by_type</th>\n",
       "    </tr>\n",
       "  </thead>\n",
       "  <tbody>\n",
       "    <tr>\n",
       "      <th>134800</th>\n",
       "      <td>236222.0</td>\n",
       "      <td>Natural Gas</td>\n",
       "      <td>1.021</td>\n",
       "      <td>4.624</td>\n",
       "      <td>3</td>\n",
       "      <td>1</td>\n",
       "      <td>2014</td>\n",
       "      <td>1.115229e+06</td>\n",
       "      <td>4.473211e+08</td>\n",
       "      <td>2.542320e+08</td>\n",
       "    </tr>\n",
       "  </tbody>\n",
       "</table>\n",
       "</div>"
      ],
      "text/plain": [
       "        fuel_quantity   fuel_group  average_heat_content  fuel_cost  plant_id  \\\n",
       "134800       236222.0  Natural Gas                 1.021      4.624         3   \n",
       "\n",
       "        month  year  monthly_cost  annual_fuel_cost  annual_fuel_cost_by_type  \n",
       "134800      1  2014  1.115229e+06      4.473211e+08              2.542320e+08  "
      ]
     },
     "execution_count": 463,
     "metadata": {},
     "output_type": "execute_result"
    }
   ],
   "source": [
    "# look at our example again\n",
    "fuel_rc_one_record_per_plant[(fuel_rc_one_record_per_plant.plant_id == 3) & (fuel_rc_one_record_per_plant.year == 2014)]"
   ]
  },
  {
   "cell_type": "code",
   "execution_count": null,
   "metadata": {
    "collapsed": false
   },
   "outputs": [],
   "source": [
    "# pull in columns for net generation\n",
    "eia_mwh = mwh_eia923[['net_generation_mwh_sum','plant_id','year']]"
   ]
  },
  {
   "cell_type": "code",
   "execution_count": 472,
   "metadata": {
    "collapsed": true
   },
   "outputs": [],
   "source": [
    "eia_mwh_one_record_per_plant = eia_mwh.drop_duplicates(subset=['net_generation_mwh_sum','plant_id','year'])"
   ]
  },
  {
   "cell_type": "code",
   "execution_count": 474,
   "metadata": {
    "collapsed": true
   },
   "outputs": [],
   "source": [
    "# merge our fuel cost and net generation dataframes\n",
    "eia_merged = pd.merge(fuel_rc_one_record_per_plant,eia_mwh_one_record_per_plant,\\\n",
    "                     on=['plant_id','year'], how='left')"
   ]
  },
  {
   "cell_type": "code",
   "execution_count": 476,
   "metadata": {
    "collapsed": true
   },
   "outputs": [],
   "source": [
    "#  compute cost per megawatt hour\n",
    "eia_merged['cost_mwh'] = eia_merged['annual_fuel_cost'] / eia_merged['net_generation_mwh_sum']"
   ]
  },
  {
   "cell_type": "markdown",
   "metadata": {},
   "source": [
    "### Cost per mwh quantiles and graphs"
   ]
  },
  {
   "cell_type": "code",
   "execution_count": 479,
   "metadata": {
    "collapsed": false
   },
   "outputs": [
    {
     "data": {
      "text/plain": [
       "0.05     0.680742\n",
       "0.10     1.428817\n",
       "0.20     2.941268\n",
       "0.50     8.871881\n",
       "0.95    29.755172\n",
       "Name: cost_mwh, dtype: float64"
      ]
     },
     "execution_count": 479,
     "metadata": {},
     "output_type": "execute_result"
    }
   ],
   "source": [
    "coal_eia = eia_merged[eia_merged['fuel_group'] == 'Coal']\n",
    "coal_eia_no_zero = coal_eia[coal_eia['cost_mwh'] > 0]\n",
    "coal_eia.cost_mwh.quantile(q=[.05,.1,.2,.5,.95])"
   ]
  },
  {
   "cell_type": "code",
   "execution_count": null,
   "metadata": {
    "collapsed": false,
    "scrolled": true
   },
   "outputs": [],
   "source": [
    "coal_eia_no_zero.nlargest(columns=['cost_mwh'],n=50)"
   ]
  },
  {
   "cell_type": "code",
   "execution_count": 480,
   "metadata": {
    "collapsed": false
   },
   "outputs": [
    {
     "data": {
      "text/plain": [
       "0.05     0.095680\n",
       "0.10     0.304668\n",
       "0.20     0.923750\n",
       "0.50     6.275905\n",
       "0.95    37.834536\n",
       "Name: cost_mwh, dtype: float64"
      ]
     },
     "execution_count": 480,
     "metadata": {},
     "output_type": "execute_result"
    }
   ],
   "source": [
    "gas_eia = eia_merged[eia_merged['fuel_group'] == 'Natural Gas']\n",
    "gas_eia_no_zero = gas_eia[gas_eia['cost_mwh'] > 0]\n",
    "gas_eia_no_zero.cost_mwh.quantile(q=[.05,.1,.2,.5,.95])"
   ]
  },
  {
   "cell_type": "code",
   "execution_count": 496,
   "metadata": {
    "collapsed": false
   },
   "outputs": [
    {
     "data": {
      "image/png": "[encoded data removed]",
      "text/plain": [
       "<matplotlib.figure.Figure at 0x152597ef0>"
      ]
     },
     "metadata": {},
     "output_type": "display_data"
    }
   ],
   "source": [
    "plt.hist(coal_eia_no_zero.cost_mwh,bins=100,range=(0,100),log=True,alpha=.5,label='coal')\n",
    "plt.xlabel('dollars per MWh')\n",
    "plt.ylabel('number of occurences')\n",
    "plt.legend()\n",
    "plt.title('EIA Fuel Cost per MWh')\n",
    "plt.show()"
   ]
  },
  {
   "cell_type": "code",
   "execution_count": 498,
   "metadata": {
    "collapsed": false
   },
   "outputs": [
    {
     "data": {
      "image/png": "[encoded data removed]",
      "text/plain": [
       "<matplotlib.figure.Figure at 0x17d6d0ac8>"
      ]
     },
     "metadata": {},
     "output_type": "display_data"
    }
   ],
   "source": [
    "plt.hist(gas_eia_no_zero.cost_mwh,bins=100,range=(0,100),log=True,alpha=.5,label='gas')\n",
    "plt.xlabel('dollars per MWh')\n",
    "plt.ylabel('number of occurences')\n",
    "plt.legend()\n",
    "plt.title('EIA Fuel Cost per MWh')\n",
    "plt.show()"
   ]
  },
  {
   "cell_type": "code",
   "execution_count": 484,
   "metadata": {
    "collapsed": false
   },
   "outputs": [
    {
     "data": {
      "image/png": "[encoded data removed]",
      "text/plain": [
       "<matplotlib.figure.Figure at 0x155d1c5f8>"
      ]
     },
     "metadata": {},
     "output_type": "display_data"
    }
   ],
   "source": [
    "plt.hist(coal_eia_no_zero.cost_mwh,bins=100,range=(0,50), weights=coal_eia_no_zero.net_generation_mwh_sum,alpha=.5,label='coal')\n",
    "plt.hist(gas_eia_no_zero.cost_mwh,weights=gas_eia_no_zero.net_generation_mwh_sum,bins=100,range=(0,50),alpha=.5,label='gas')\n",
    "plt.xlabel('dollars per MWh')\n",
    "plt.ylabel('MWh')\n",
    "plt.legend()\n",
    "plt.title('EIA Fuel Cost per MWh Weighted by Generation')\n",
    "plt.show()"
   ]
  },
  {
   "cell_type": "markdown",
   "metadata": {},
   "source": [
    "## FERC Fuel cost per MWh"
   ]
  },
  {
   "cell_type": "code",
   "execution_count": 196,
   "metadata": {
    "collapsed": false
   },
   "outputs": [
    {
     "data": {
      "text/html": [
       "<div>\n",
       "<table border=\"1\" class=\"dataframe\">\n",
       "  <thead>\n",
       "    <tr style=\"text-align: right;\">\n",
       "      <th></th>\n",
       "      <th>id</th>\n",
       "      <th>respondent_id</th>\n",
       "      <th>plant_name</th>\n",
       "      <th>report_year</th>\n",
       "      <th>fuel</th>\n",
       "      <th>fuel_unit</th>\n",
       "      <th>fuel_qty_burned</th>\n",
       "      <th>fuel_avg_mmbtu_per_unit</th>\n",
       "      <th>fuel_cost_per_unit_burned</th>\n",
       "      <th>fuel_cost_per_unit_delivered</th>\n",
       "      <th>fuel_cost_per_mmbtu</th>\n",
       "      <th>fuel_cost_per_mwh</th>\n",
       "      <th>fuel_mmbtu_per_mwh</th>\n",
       "    </tr>\n",
       "  </thead>\n",
       "  <tbody>\n",
       "    <tr>\n",
       "      <th>0</th>\n",
       "      <td>1</td>\n",
       "      <td>186</td>\n",
       "      <td>Altavista</td>\n",
       "      <td>2007</td>\n",
       "      <td>coal</td>\n",
       "      <td>ton</td>\n",
       "      <td>152665.0</td>\n",
       "      <td>0.01283</td>\n",
       "      <td>80.46</td>\n",
       "      <td>79.83</td>\n",
       "      <td>3.14</td>\n",
       "      <td>34.0</td>\n",
       "      <td>11.895</td>\n",
       "    </tr>\n",
       "  </tbody>\n",
       "</table>\n",
       "</div>"
      ],
      "text/plain": [
       "   id  respondent_id plant_name  report_year  fuel fuel_unit  fuel_qty_burned  \\\n",
       "0   1            186  Altavista         2007  coal       ton         152665.0   \n",
       "\n",
       "   fuel_avg_mmbtu_per_unit  fuel_cost_per_unit_burned  \\\n",
       "0                  0.01283                      80.46   \n",
       "\n",
       "   fuel_cost_per_unit_delivered  fuel_cost_per_mmbtu  fuel_cost_per_mwh  \\\n",
       "0                         79.83                 3.14               34.0   \n",
       "\n",
       "   fuel_mmbtu_per_mwh  \n",
       "0              11.895  "
      ]
     },
     "execution_count": 196,
     "metadata": {},
     "output_type": "execute_result"
    }
   ],
   "source": [
    "coal.head(1)"
   ]
  },
  {
   "cell_type": "code",
   "execution_count": 516,
   "metadata": {
    "collapsed": false
   },
   "outputs": [
    {
     "data": {
      "image/png": "[encoded data removed]",
      "text/plain": [
       "<matplotlib.figure.Figure at 0x1422feda0>"
      ]
     },
     "metadata": {},
     "output_type": "display_data"
    },
    {
     "data": {
      "text/plain": [
       "(<matplotlib.figure.Figure at 0x1422feda0>, 32.917789757412393)"
      ]
     },
     "execution_count": 516,
     "metadata": {},
     "output_type": "execute_result"
    }
   ],
   "source": [
    "to_fix_coal_cost_per_mwh = coal.fuel_cost_per_mwh\n",
    "fixed_coal_per_mwh = fixit(coal.fuel_cost_per_mwh,.68,29.75,[1,.0005])\n",
    "\n",
    "showfix(to_fix_coal_cost_per_mwh,fixed_coal_per_mwh,'FERC Coal fuel cost per MWh','dollars per MWh','occurences')"
   ]
  },
  {
   "cell_type": "code",
   "execution_count": 495,
   "metadata": {
    "collapsed": false
   },
   "outputs": [
    {
     "data": {
      "image/png": "[encoded data removed]",
      "text/plain": [
       "<matplotlib.figure.Figure at 0x13f8c6940>"
      ]
     },
     "metadata": {},
     "output_type": "display_data"
    }
   ],
   "source": [
    "plt.hist(coal.fuel_cost_per_mwh,bins=100,range=(0,100))\n",
    "plt.show()"
   ]
  },
  {
   "cell_type": "code",
   "execution_count": 507,
   "metadata": {
    "collapsed": false
   },
   "outputs": [
    {
     "data": {
      "image/png": "[encoded data removed]",
      "text/plain": [
       "<matplotlib.figure.Figure at 0x19d7cee48>"
      ]
     },
     "metadata": {},
     "output_type": "display_data"
    },
    {
     "data": {
      "text/plain": [
       "(<matplotlib.figure.Figure at 0x19d7cee48>, 22.862652667666595)"
      ]
     },
     "execution_count": 507,
     "metadata": {},
     "output_type": "execute_result"
    }
   ],
   "source": [
    "to_fix_gas_cost_per_mwh = gas.fuel_cost_per_mwh\n",
    "fixed_gas_per_mwh = fixit(gas.fuel_cost_per_mwh,.095,37.8,[1,.001,.01])\n",
    "\n",
    "showfix(to_fix_gas_cost_per_mwh,fixed_gas_per_mwh,'FERC Gas fuel cost per MWh','dollars per MWh','occurences')"
   ]
  },
  {
   "cell_type": "code",
   "execution_count": 508,
   "metadata": {
    "collapsed": false
   },
   "outputs": [
    {
     "data": {
      "text/plain": [
       "0.44"
      ]
     },
     "execution_count": 508,
     "metadata": {},
     "output_type": "execute_result"
    }
   ],
   "source": [
    "fixed_gas_per_mwh.median()"
   ]
  }
 ],
 "metadata": {
  "anaconda-cloud": {},
  "kernelspec": {
   "display_name": "Python 3",
   "language": "python",
   "name": "python3"
  },
  "language_info": {
   "codemirror_mode": {
    "name": "ipython",
    "version": 3
   },
   "file_extension": ".py",
   "mimetype": "text/x-python",
   "name": "python",
   "nbconvert_exporter": "python",
   "pygments_lexer": "ipython3",
   "version": "3.6.0"
  }
 },
 "nbformat": 4,
 "nbformat_minor": 1
}
