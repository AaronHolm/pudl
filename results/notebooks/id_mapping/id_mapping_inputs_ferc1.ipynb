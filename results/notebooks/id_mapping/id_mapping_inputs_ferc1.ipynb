{
 "cells": [
  {
   "cell_type": "code",
   "execution_count": 1,
   "metadata": {},
   "outputs": [],
   "source": [
    "%matplotlib inline\n",
    "%load_ext autoreload\n",
    "%autoreload 2\n",
    "import sys\n",
    "import os\n",
    "sys.path.append(os.path.abspath(os.path.join('..','..','..')))\n",
    "from pudl import pudl, ferc1, eia923, settings, constants\n",
    "from pudl import models, models_ferc1, models_eia923\n",
    "from pudl import clean_eia923, clean_ferc1, clean_pudl\n",
    "from pudl import analysis\n",
    "import numpy as np\n",
    "import pandas as pd\n",
    "import sqlalchemy as sa\n",
    "import matplotlib.pyplot as plt\n",
    "import matplotlib as mpl\n",
    "pudl_engine = pudl.db_connect_pudl()\n",
    "f1_engine = ferc1.db_connect_ferc1()\n",
    "plt.style.use('ggplot')\n",
    "mpl.rcParams['figure.figsize'] = (10,6)\n",
    "mpl.rcParams['figure.dpi'] = 150"
   ]
  },
  {
   "cell_type": "code",
   "execution_count": 2,
   "metadata": {
    "scrolled": false
   },
   "outputs": [
    {
     "name": "stdout",
     "output_type": "stream",
     "text": [
      "Defining new FERC Form 1 DB based on 2015...\n",
      "Clearing any existing FERC Form 1 database MetaData...\n",
      "Ingesting FERC Form 1 Data from 2004...\n",
      "Ingesting FERC Form 1 Data from 2005...\n",
      "Ingesting FERC Form 1 Data from 2006...\n",
      "Ingesting FERC Form 1 Data from 2007...\n",
      "Ingesting FERC Form 1 Data from 2008...\n",
      "Ingesting FERC Form 1 Data from 2009...\n",
      "Ingesting FERC Form 1 Data from 2010...\n",
      "Ingesting FERC Form 1 Data from 2011...\n",
      "Ingesting FERC Form 1 Data from 2012...\n",
      "Ingesting FERC Form 1 Data from 2013...\n",
      "Ingesting FERC Form 1 Data from 2014...\n",
      "Ingesting FERC Form 1 Data from 2015...\n",
      "Ingesting FERC Form 1 Data from 2016...\n"
     ]
    }
   ],
   "source": [
    "ferc1_engine = ferc1.db_connect_ferc1()\n",
    "# Make sure we get an exhaustive list.\n",
    "ferc1.init_db(refyear=2015, years=range(2004,2017), def_db=True)"
   ]
  },
  {
   "cell_type": "code",
   "execution_count": 3,
   "metadata": {},
   "outputs": [
    {
     "name": "stdout",
     "output_type": "stream",
     "text": [
      "Defining new FERC Form 1 DB based on 2015...\n",
      "Clearing any existing FERC Form 1 database MetaData...\n"
     ]
    }
   ],
   "source": [
    "unmapped_ferc_plants = analysis.fercplants(years=range(2004,2017), new=True)\n",
    "unmapped_ferc_plants.to_excel('ferc1_umapped_plants_2016.xlsx', index=False)"
   ]
  }
 ],
 "metadata": {
  "kernelspec": {
   "display_name": "Python 3",
   "language": "python",
   "name": "python3"
  },
  "language_info": {
   "codemirror_mode": {
    "name": "ipython",
    "version": 3
   },
   "file_extension": ".py",
   "mimetype": "text/x-python",
   "name": "python",
   "nbconvert_exporter": "python",
   "pygments_lexer": "ipython3",
   "version": "3.6.1"
  }
 },
 "nbformat": 4,
 "nbformat_minor": 2
}
