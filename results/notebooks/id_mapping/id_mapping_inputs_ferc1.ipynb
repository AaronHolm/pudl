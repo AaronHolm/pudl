{
 "cells": [
  {
   "cell_type": "code",
   "execution_count": 17,
   "metadata": {},
   "outputs": [
    {
     "name": "stdout",
     "output_type": "stream",
     "text": [
      "The autoreload extension is already loaded. To reload it, use:\n",
      "  %reload_ext autoreload\n"
     ]
    }
   ],
   "source": [
    "%matplotlib inline\n",
    "%load_ext autoreload\n",
    "%autoreload 2\n",
    "import sys\n",
    "import os\n",
    "sys.path.append(os.path.abspath(os.path.join('..','..','..')))\n",
    "from pudl import pudl, ferc1, eia923, settings, constants\n",
    "from pudl import models, models_ferc1, models_eia923\n",
    "from pudl import clean_eia923, clean_ferc1, clean_pudl\n",
    "from pudl import analysis\n",
    "import numpy as np\n",
    "import pandas as pd\n",
    "import sqlalchemy as sa\n",
    "import matplotlib.pyplot as plt\n",
    "import matplotlib as mpl\n",
    "pudl_engine = pudl.connect_db()\n",
    "f1_engine = ferc1.connect_db()\n",
    "plt.style.use('ggplot')\n",
    "mpl.rcParams['figure.figsize'] = (10,6)\n",
    "mpl.rcParams['figure.dpi'] = 150"
   ]
  },
  {
   "cell_type": "code",
   "execution_count": 2,
   "metadata": {
    "scrolled": false
   },
   "outputs": [
    {
     "name": "stdout",
     "output_type": "stream",
     "text": [
      "Defining new FERC Form 1 DB based on 2016...\n",
      "Clearing any existing FERC Form 1 database MetaData...\n",
      "Ingesting FERC Form 1 Data from 2004...\n",
      "Ingesting FERC Form 1 Data from 2005...\n",
      "Ingesting FERC Form 1 Data from 2006...\n",
      "Ingesting FERC Form 1 Data from 2007...\n",
      "Ingesting FERC Form 1 Data from 2008...\n",
      "Ingesting FERC Form 1 Data from 2009...\n",
      "Ingesting FERC Form 1 Data from 2010...\n",
      "Ingesting FERC Form 1 Data from 2011...\n",
      "Ingesting FERC Form 1 Data from 2012...\n",
      "Ingesting FERC Form 1 Data from 2013...\n",
      "Ingesting FERC Form 1 Data from 2014...\n",
      "Ingesting FERC Form 1 Data from 2015...\n",
      "Ingesting FERC Form 1 Data from 2016...\n"
     ]
    }
   ],
   "source": [
    "# Make sure we get an exhaustive list.\n",
    "#ferc1.init_db(refyear=2016, years=range(2004,2017), def_db=True)"
   ]
  },
  {
   "cell_type": "code",
   "execution_count": 3,
   "metadata": {},
   "outputs": [
    {
     "name": "stdout",
     "output_type": "stream",
     "text": [
      "Defining new FERC Form 1 DB based on 2015...\n",
      "Clearing any existing FERC Form 1 database MetaData...\n"
     ]
    },
    {
     "data": {
      "text/html": [
       "<div>\n",
       "<style>\n",
       "    .dataframe thead tr:only-child th {\n",
       "        text-align: right;\n",
       "    }\n",
       "\n",
       "    .dataframe thead th {\n",
       "        text-align: left;\n",
       "    }\n",
       "\n",
       "    .dataframe tbody tr th {\n",
       "        vertical-align: top;\n",
       "    }\n",
       "</style>\n",
       "<table border=\"1\" class=\"dataframe\">\n",
       "  <thead>\n",
       "    <tr style=\"text-align: right;\">\n",
       "      <th></th>\n",
       "      <th>respondent_id</th>\n",
       "      <th>respondent_name</th>\n",
       "    </tr>\n",
       "  </thead>\n",
       "  <tbody>\n",
       "    <tr>\n",
       "      <th>0</th>\n",
       "      <td>513</td>\n",
       "      <td>4C Acquisition, Llc</td>\n",
       "    </tr>\n",
       "  </tbody>\n",
       "</table>\n",
       "</div>"
      ],
      "text/plain": [
       "   respondent_id      respondent_name\n",
       "0            513  4C Acquisition, Llc"
      ]
     },
     "execution_count": 3,
     "metadata": {},
     "output_type": "execute_result"
    }
   ],
   "source": [
    "new_fercplants = analysis.fercplants(new=True, years=[2016,], min_capacity=0.0)\n",
    "pudl_fercutils = pd.read_sql('''select respondent_id, respondent_name from utilities_ferc;''', pudl_engine)\n",
    "new_fercutils = new_fercplants[['respondent_id','respondent_name']].drop_duplicates()\n",
    "new_fercutils = new_fercutils.set_index(['respondent_id',])\n",
    "pudl_fercutils = pudl_fercutils.set_index(['respondent_id',])\n",
    "new_index = new_fercutils.index.difference(pudl_fercutils.index)\n",
    "really_new_fercutils = new_fercutils.loc[new_index].reset_index()\n",
    "really_new_fercutils"
   ]
  },
  {
   "cell_type": "code",
   "execution_count": 18,
   "metadata": {},
   "outputs": [],
   "source": [
    "all_ferc_respondents = pd.read_sql('''select distinct respondent_id, respondent_name from f1_respondent_id order by respondent_id asc;''', f1_engine)"
   ]
  },
  {
   "cell_type": "code",
   "execution_count": 20,
   "metadata": {},
   "outputs": [],
   "source": [
    "all_ferc_respondents.to_excel('all_ferc_respondents_2004-2016.xlsx', index=False)"
   ]
  },
  {
   "cell_type": "code",
   "execution_count": 4,
   "metadata": {
    "collapsed": true,
    "scrolled": false
   },
   "outputs": [],
   "source": [
    "small_plants_2016 = pd.read_sql('''SELECT report_year, respondent_id, row_number, spplmnt_num, plant_name, kind_of_fuel \\\n",
    "                                        FROM f1_gnrt_plant \\\n",
    "                                        WHERE report_year=2016;''', f1_engine)\n",
    "small_plants_2016['record_number'] = small_plants_2016['row_number'] + 46*small_plants_2016['spplmnt_num']\n",
    "small_plants_2016 = small_plants_2016.drop(['row_number','spplmnt_num'],axis=1)\n",
    "small_plants_2016 = small_plants_2016[['report_year','respondent_id','record_number','plant_name','kind_of_fuel']]\n",
    "small_plants_2016.to_excel('small_plants_2016.xlsx', index=False)"
   ]
  },
  {
   "cell_type": "code",
   "execution_count": 5,
   "metadata": {},
   "outputs": [
    {
     "data": {
      "text/plain": [
       "130"
      ]
     },
     "execution_count": 5,
     "metadata": {},
     "output_type": "execute_result"
    }
   ],
   "source": [
    "len(new_fercplants)"
   ]
  },
  {
   "cell_type": "code",
   "execution_count": 6,
   "metadata": {
    "collapsed": true
   },
   "outputs": [],
   "source": [
    "new_fercplants.to_excel('ferc1_unmapped_plants_2016.xlsx')"
   ]
  },
  {
   "cell_type": "code",
   "execution_count": 16,
   "metadata": {},
   "outputs": [
    {
     "data": {
      "text/html": [
       "<div>\n",
       "<style>\n",
       "    .dataframe thead tr:only-child th {\n",
       "        text-align: right;\n",
       "    }\n",
       "\n",
       "    .dataframe thead th {\n",
       "        text-align: left;\n",
       "    }\n",
       "\n",
       "    .dataframe tbody tr th {\n",
       "        vertical-align: top;\n",
       "    }\n",
       "</style>\n",
       "<table border=\"1\" class=\"dataframe\">\n",
       "  <thead>\n",
       "    <tr style=\"text-align: right;\">\n",
       "      <th></th>\n",
       "      <th>respondent_id</th>\n",
       "      <th>respondent_name</th>\n",
       "    </tr>\n",
       "  </thead>\n",
       "  <tbody>\n",
       "    <tr>\n",
       "      <th>113</th>\n",
       "      <td>454</td>\n",
       "      <td>Entergy Louisiana, LLC</td>\n",
       "    </tr>\n",
       "  </tbody>\n",
       "</table>\n",
       "</div>"
      ],
      "text/plain": [
       "     respondent_id         respondent_name\n",
       "113            454  Entergy Louisiana, LLC"
      ]
     },
     "execution_count": 16,
     "metadata": {},
     "output_type": "execute_result"
    }
   ],
   "source": [
    "x = pudl_fercutils.reset_index()"
   ]
  },
  {
   "cell_type": "code",
   "execution_count": null,
   "metadata": {
    "collapsed": true
   },
   "outputs": [],
   "source": []
  }
 ],
 "metadata": {
  "kernelspec": {
   "display_name": "Python 3",
   "language": "python",
   "name": "python3"
  },
  "language_info": {
   "codemirror_mode": {
    "name": "ipython",
    "version": 3
   },
   "file_extension": ".py",
   "mimetype": "text/x-python",
   "name": "python",
   "nbconvert_exporter": "python",
   "pygments_lexer": "ipython3",
   "version": "3.6.1"
  }
 },
 "nbformat": 4,
 "nbformat_minor": 2
}
