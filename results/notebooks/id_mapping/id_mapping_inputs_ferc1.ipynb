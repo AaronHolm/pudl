{
 "cells": [
  {
   "cell_type": "code",
   "execution_count": 21,
   "metadata": {},
   "outputs": [
    {
     "name": "stdout",
     "output_type": "stream",
     "text": [
      "The autoreload extension is already loaded. To reload it, use:\n",
      "  %reload_ext autoreload\n"
     ]
    }
   ],
   "source": [
    "%load_ext autoreload\n",
    "%autoreload 2\n",
    "%matplotlib inline\n",
    "import pandas as pd\n",
    "import matplotlib.pyplot as plt\n",
    "import matplotlib as mpl\n",
    "import sys\n",
    "import os\n",
    "sys.path.append(os.path.abspath(os.path.join('..','..','..')))\n",
    "\n",
    "from pudl import init\n",
    "from pudl import constants as pc\n",
    "import pudl.models.glue, pudl.models.eia860, pudl.models.eia923\n",
    "import pudl.models.ferc1\n",
    "import pudl.models.epacems\n",
    "import pudl.extract.eia923\n",
    "import pudl.transform.eia\n",
    "import pudl.output.pudltabl\n",
    "import pudl.helpers\n",
    "import pudl.datastore\n",
    "import pudl.output\n",
    "import pudl.analysis.analysis\n",
    "\n",
    "pudl_engine = init.connect_db(testing=False)\n",
    "f1_engine = pudl.extract.ferc1.connect_db()\n",
    "plt.style.use('ggplot')\n",
    "mpl.rcParams['figure.figsize'] = (10,6)\n",
    "mpl.rcParams['figure.dpi'] = 150"
   ]
  },
  {
   "cell_type": "code",
   "execution_count": 23,
   "metadata": {},
   "outputs": [],
   "source": [
    "import sqlalchemy as sa"
   ]
  },
  {
   "cell_type": "code",
   "execution_count": 53,
   "metadata": {
    "scrolled": false
   },
   "outputs": [
    {
     "name": "stdout",
     "output_type": "stream",
     "text": [
      "Start ferc mirror db ingest at Tuesday, 20. November 2018 11:35AM\n",
      "Defining new FERC Form 1 DB based on 2017...\n",
      "Clearing any existing FERC Form 1 database MetaData...\n",
      "Ingesting FERC Form 1 Data from 2004...\n",
      "Ingesting FERC Form 1 Data from 2005...\n",
      "Ingesting FERC Form 1 Data from 2006...\n",
      "Ingesting FERC Form 1 Data from 2007...\n",
      "Ingesting FERC Form 1 Data from 2008...\n",
      "Ingesting FERC Form 1 Data from 2009...\n",
      "Ingesting FERC Form 1 Data from 2010...\n",
      "Ingesting FERC Form 1 Data from 2011...\n",
      "Ingesting FERC Form 1 Data from 2012...\n",
      "Ingesting FERC Form 1 Data from 2013...\n",
      "Ingesting FERC Form 1 Data from 2014...\n",
      "Ingesting FERC Form 1 Data from 2015...\n",
      "Ingesting FERC Form 1 Data from 2016...\n",
      "Ingesting FERC Form 1 Data from 2017...\n"
     ]
    }
   ],
   "source": [
    "# Make sure we get an exhaustive list.\n",
    "pudl.extract.ferc1.init_db(refyear=2017, years=range(2004,2018), def_db=True)"
   ]
  },
  {
   "cell_type": "code",
   "execution_count": 94,
   "metadata": {},
   "outputs": [
    {
     "name": "stdout",
     "output_type": "stream",
     "text": [
      "Defining new FERC Form 1 DB based on 2017...\n",
      "Clearing any existing FERC Form 1 database MetaData...\n"
     ]
    }
   ],
   "source": [
    "new_fercplants = pudl.analysis.analysis.fercplants(plant_tables=['f1_steam',\n",
    "                                                                 'f1_gnrt_plant',\n",
    "                                                                 'f1_hydro',\n",
    "                                                                 'f1_pumped_storage'],\n",
    "                                                   new=True, years=range(2004,2018), min_capacity=0.0)\n",
    "pudl_fercutils = pd.read_sql('''select utility_id_ferc1, utility_name_ferc1 from utilities_ferc;''', pudl_engine)\n",
    "new_fercutils = new_fercplants[['utility_id_ferc1','utility_name_ferc1']].drop_duplicates()\n",
    "new_fercutils = new_fercutils.set_index(['utility_id_ferc1',])\n",
    "pudl_fercutils = pudl_fercutils.set_index(['utility_id_ferc1',])\n",
    "new_index = new_fercutils.index.difference(pudl_fercutils.index)\n",
    "really_new_fercutils = new_fercutils.loc[new_index].reset_index()"
   ]
  },
  {
   "cell_type": "code",
   "execution_count": 13,
   "metadata": {},
   "outputs": [],
   "source": [
    "all_ferc_respondents = pd.read_sql('''select distinct respondent_id, respondent_name from f1_respondent_id order by respondent_id asc;''', f1_engine)"
   ]
  },
  {
   "cell_type": "code",
   "execution_count": null,
   "metadata": {},
   "outputs": [],
   "source": [
    "all_ferc_respondents.to_excel('all_ferc_respondents_2004-2017.xlsx', index=False)"
   ]
  },
  {
   "cell_type": "code",
   "execution_count": 14,
   "metadata": {
    "scrolled": false
   },
   "outputs": [],
   "source": [
    "small_plants_2017 = pd.read_sql('''SELECT report_year, respondent_id, row_number, spplmnt_num, plant_name, kind_of_fuel \\\n",
    "                                        FROM f1_gnrt_plant \\\n",
    "                                        WHERE report_year=2017;''', f1_engine)\n",
    "small_plants_2017['record_number'] = small_plants_2017['row_number'] + 46*small_plants_2017['spplmnt_num']\n",
    "small_plants_2017 = small_plants_2017.drop(['row_number','spplmnt_num'],axis=1)\n",
    "small_plants_2017 = small_plants_2017[['report_year','respondent_id','record_number','plant_name','kind_of_fuel']]\n",
    "small_plants_2017.to_excel('small_plants_2017.xlsx', index=False)"
   ]
  },
  {
   "cell_type": "code",
   "execution_count": 95,
   "metadata": {},
   "outputs": [],
   "source": [
    "new_fercplants.to_excel('ferc1_unmapped_plants_2017.xlsx')"
   ]
  },
  {
   "cell_type": "code",
   "execution_count": null,
   "metadata": {},
   "outputs": [],
   "source": [
    "new_fercplants.to_csv('ferc1_unmapped_plants_2017.csv', sep=',')"
   ]
  },
  {
   "cell_type": "code",
   "execution_count": null,
   "metadata": {},
   "outputs": [],
   "source": []
  }
 ],
 "metadata": {
  "kernelspec": {
   "display_name": "Python 3",
   "language": "python",
   "name": "python3"
  },
  "language_info": {
   "codemirror_mode": {
    "name": "ipython",
    "version": 3
   },
   "file_extension": ".py",
   "mimetype": "text/x-python",
   "name": "python",
   "nbconvert_exporter": "python",
   "pygments_lexer": "ipython3",
   "version": "3.6.6"
  }
 },
 "nbformat": 4,
 "nbformat_minor": 2
}
