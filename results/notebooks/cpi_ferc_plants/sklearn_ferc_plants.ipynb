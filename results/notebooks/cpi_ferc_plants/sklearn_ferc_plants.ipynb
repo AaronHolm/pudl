{
 "cells": [
  {
   "cell_type": "code",
   "execution_count": 1,
   "metadata": {},
   "outputs": [],
   "source": [
    "%load_ext autoreload\n",
    "%autoreload 2"
   ]
  },
  {
   "cell_type": "code",
   "execution_count": 2,
   "metadata": {},
   "outputs": [],
   "source": [
    "import sys\n",
    "import os\n",
    "import numpy as np\n",
    "import scipy\n",
    "import pandas as pd\n",
    "import sqlalchemy as sa\n",
    "sys.path.append(os.path.abspath(os.path.join('..','..','..')))\n",
    "from pudl import init\n",
    "from config import SETTINGS\n",
    "import pudl.constants as pc\n",
    "import pudl.extract.ferc1\n",
    "import pudl.transform.ferc1\n",
    "import pudl.output\n",
    "from sklearn.metrics.pairwise import cosine_similarity\n",
    "from sklearn.feature_extraction.text import TfidfVectorizer\n",
    "from sklearn.preprocessing import LabelBinarizer\n",
    "from sklearn.preprocessing import LabelEncoder\n",
    "from sklearn.preprocessing import OneHotEncoder\n",
    "from sklearn.preprocessing import Normalizer\n",
    "from sklearn.preprocessing import MinMaxScaler\n",
    "from sklearn.preprocessing import RobustScaler\n",
    "from sklearn.preprocessing.data import QuantileTransformer\n",
    "from sklearn.preprocessing import scale\n",
    "from sklearn.pipeline import Pipeline\n",
    "from sklearn.pipeline import FeatureUnion\n",
    "from sklearn_pandas import DataFrameMapper\n",
    "from sklearn_pandas import gen_features\n",
    "import matplotlib.pyplot as plt\n",
    "import matplotlib as mpl\n",
    "%matplotlib inline"
   ]
  },
  {
   "cell_type": "code",
   "execution_count": 3,
   "metadata": {},
   "outputs": [],
   "source": [
    "plt.style.use('ggplot')\n",
    "mpl.rcParams['figure.figsize'] = (10,6)\n",
    "mpl.rcParams['figure.dpi'] = 150\n",
    "pd.options.display.max_columns = 56"
   ]
  },
  {
   "cell_type": "markdown",
   "metadata": {},
   "source": [
    "## Pull in the large FERC plants data and simplify it"
   ]
  },
  {
   "cell_type": "code",
   "execution_count": 4,
   "metadata": {
    "scrolled": false
   },
   "outputs": [],
   "source": [
    "pudl_engine = pudl.init.connect_db()\n",
    "ferc1_engine = pudl.extract.ferc1.connect_db()\n",
    "ferc1_steam = pd.read_sql('SELECT * FROM f1_steam;', ferc1_engine)"
   ]
  },
  {
   "cell_type": "code",
   "execution_count": 5,
   "metadata": {},
   "outputs": [],
   "source": [
    "# Vectorizing the DataFrame with a pre-processing function:\n",
    "ferc1_steam_clean, fpv = pudl.transform.ferc1.vectorize_plants(ferc1_steam, ngram_range=(2,10))"
   ]
  },
  {
   "cell_type": "code",
   "execution_count": 6,
   "metadata": {},
   "outputs": [
    {
     "data": {
      "text/plain": [
       "[('plant_kind_clean', (11419, 7)),\n",
       " ('respondent_id', (11419, 135)),\n",
       " ('yr_const', (11419, 103)),\n",
       " ('row_number', (11419, 5)),\n",
       " ('spplmnt_num', (11419, 9)),\n",
       " ('tot_capacity', (11419, 1)),\n",
       " ('plant_name', (11419, 37512))]"
      ]
     },
     "execution_count": 6,
     "metadata": {},
     "output_type": "execute_result"
    }
   ],
   "source": [
    "[ (k,f.shape) for k,f in fpv.items() ]"
   ]
  },
  {
   "cell_type": "code",
   "execution_count": 7,
   "metadata": {},
   "outputs": [],
   "source": [
    "# Vectorizing the DataFrame using sklearn_pandas\n",
    "cat_feat_map = gen_features(\n",
    "    columns=['plant_kind_clean', 'respondent_id', 'yr_const', 'row_number', 'spplmnt_num'],\n",
    "    classes=[LabelBinarizer]\n",
    ")\n",
    "str_feat_map = [('plant_name', TfidfVectorizer(analyzer='char', ngram_range=(2,10)))]\n",
    "num_feat_map = [(['tot_capacity'], MinMaxScaler())]\n",
    "ferc_feat_map = cat_feat_map + str_feat_map + num_feat_map\n",
    "ferc_mapper = DataFrameMapper(ferc_feat_map, sparse=True)\n",
    "fmv = ferc_mapper.fit_transform(ferc1_steam_clean)"
   ]
  },
  {
   "cell_type": "code",
   "execution_count": 8,
   "metadata": {},
   "outputs": [],
   "source": [
    "# Vectorizing the DataFrame using Transformer classes:\n",
    "ferc_pipe = Pipeline([\n",
    "    \n",
    "    # Use FeatureUnion to combine the features from subject and body\n",
    "    ('union', FeatureUnion(\n",
    "        transformer_list=[\n",
    "\n",
    "            # Pipeline for vectorizing a FERC plant name using TF-IDF on character n-grams\n",
    "            ('plant_name', Pipeline([\n",
    "                ('selector', pudl.transform.ferc1.ColumnSelector(key='plant_name')),\n",
    "                ('tfidf', TfidfVectorizer(analyzer='char', ngram_range=(2,5))),\n",
    "                ('norm', Normalizer())\n",
    "            ])),\n",
    "\n",
    "            ('respondent_id', Pipeline([\n",
    "                ('selector', pudl.transform.ferc1.ColumnSelector(key='respondent_id')),\n",
    "                ('lb', pudl.transform.ferc1.LabelBinarizerPipelineFriendly()),\n",
    "                ('norm', Normalizer())\n",
    "            ])),\n",
    "            \n",
    "            ('plant_kind', Pipeline([\n",
    "                ('selector', pudl.transform.ferc1.ColumnSelector(key='plant_kind_clean')),\n",
    "                ('lb', pudl.transform.ferc1.LabelBinarizerPipelineFriendly()),\n",
    "                ('norm', Normalizer())\n",
    "            ])),\n",
    "            \n",
    "            ('yr_const', Pipeline([\n",
    "                ('selector', pudl.transform.ferc1.ColumnSelector(key='yr_const')),\n",
    "                ('lb', pudl.transform.ferc1.LabelBinarizerPipelineFriendly()),\n",
    "                ('norm', Normalizer())\n",
    "            ])),\n",
    "            \n",
    "#            ('row_number', Pipeline([\n",
    "#                ('selector', pudl.transform.ferc1.ColumnSelector(key='row_number')),\n",
    "#                ('lb', pudl.transform.ferc1.LabelBinarizerPipelineFriendly()),\n",
    "#                ('norm', Normalizer())\n",
    "#            ])),\n",
    "\n",
    "#            ('spplmnt_num', Pipeline([\n",
    "#                ('selector', pudl.transform.ferc1.ColumnSelector(key='spplmnt_num')),\n",
    "#                ('lb', pudl.transform.ferc1.LabelBinarizerPipelineFriendly()),\n",
    "#                ('norm', Normalizer())\n",
    "#            ])),\n",
    "\n",
    "#           ('tot_capacity', Pipeline([\n",
    "#               ('selector', pudl.transform.ferc1.pipelinize_feature(pudl.transform.ferc1.ColumnSelector(key='tot_capacity'))),\n",
    "#               ('scaler', QuantileTransformer(output_distribution='normal')),\n",
    "#               ('norm', Normalizer())\n",
    "#           ])),\n",
    "#\n",
    "        ],\n",
    "\n",
    "        # weight components in FeatureUnion\n",
    "        transformer_weights={\n",
    "            'plant_name': 1.0,\n",
    "            'respondent_id': 1.0,\n",
    "            'plant_kind_clean': 1.0,\n",
    "            'tot_capacity': 0.5,\n",
    "            'yr_const': 0.5,\n",
    "            'row_number': 0.2,\n",
    "            'spplmnt_num': 0.2,\n",
    "        },\n",
    "    )), # end feature union\n",
    "    \n",
    "    ('clf', pudl.transform.ferc1.FERCPlantClassifier(min_sim=0.9, plants_df=ferc1_steam_clean))\n",
    "    \n",
    "]) # end pipeline"
   ]
  },
  {
   "cell_type": "code",
   "execution_count": 9,
   "metadata": {},
   "outputs": [
    {
     "name": "stderr",
     "output_type": "stream",
     "text": [
      "/home/zane/anaconda3/envs/pudl/lib/python3.6/site-packages/pandas/core/indexing.py:189: SettingWithCopyWarning: \n",
      "A value is trying to be set on a copy of a slice from a DataFrame\n",
      "\n",
      "See the caveats in the documentation: http://pandas.pydata.org/pandas-docs/stable/indexing.html#indexing-view-versus-copy\n",
      "  self._setitem_with_indexer(indexer, value)\n"
     ]
    }
   ],
   "source": [
    "fpo = ferc_pipe.fit_transform(ferc1_steam_clean)"
   ]
  },
  {
   "cell_type": "code",
   "execution_count": 10,
   "metadata": {},
   "outputs": [],
   "source": [
    "plant_groups = fpo.predict(fpo.best_of_.record_id.values)\n",
    "# Why do we get nothing back when there are any NaN values?"
   ]
  },
  {
   "cell_type": "code",
   "execution_count": 11,
   "metadata": {},
   "outputs": [],
   "source": [
    "plant_group_sizes = pd.Series([len(g) for g in plant_groups])"
   ]
  },
  {
   "cell_type": "code",
   "execution_count": 12,
   "metadata": {},
   "outputs": [
    {
     "data": {
      "image/png": "[encoded data removed]",
      "text/plain": [
       "<Figure size 1500x900 with 1 Axes>"
      ]
     },
     "metadata": {},
     "output_type": "display_data"
    }
   ],
   "source": [
    "plt.hist(plant_group_sizes, bins=np.arange(-0.5,14.5), density=True, align='mid', width=0.9)\n",
    "plt.title('Fraction of identified plant record group sizes of different lengths.');"
   ]
  },
  {
   "cell_type": "code",
   "execution_count": 13,
   "metadata": {},
   "outputs": [
    {
     "data": {
      "text/html": [
       "<div>\n",
       "<style scoped>\n",
       "    .dataframe tbody tr th:only-of-type {\n",
       "        vertical-align: middle;\n",
       "    }\n",
       "\n",
       "    .dataframe tbody tr th {\n",
       "        vertical-align: top;\n",
       "    }\n",
       "\n",
       "    .dataframe thead th {\n",
       "        text-align: right;\n",
       "    }\n",
       "</style>\n",
       "<table border=\"1\" class=\"dataframe\">\n",
       "  <thead>\n",
       "    <tr style=\"text-align: right;\">\n",
       "      <th></th>\n",
       "      <th>record_id</th>\n",
       "      <th>respondent_id</th>\n",
       "      <th>plant_name</th>\n",
       "      <th>plant_kind_clean</th>\n",
       "      <th>tot_capacity</th>\n",
       "      <th>yr_const</th>\n",
       "    </tr>\n",
       "  </thead>\n",
       "  <tbody>\n",
       "    <tr>\n",
       "      <th>2022</th>\n",
       "      <td>2006_178_0_2</td>\n",
       "      <td>178</td>\n",
       "      <td>miami fort 6</td>\n",
       "      <td>steam</td>\n",
       "      <td>168.0</td>\n",
       "      <td>1960</td>\n",
       "    </tr>\n",
       "    <tr>\n",
       "      <th>2939</th>\n",
       "      <td>2007_178_0_2</td>\n",
       "      <td>178</td>\n",
       "      <td>miami fort 6</td>\n",
       "      <td>steam</td>\n",
       "      <td>168.0</td>\n",
       "      <td>1960</td>\n",
       "    </tr>\n",
       "    <tr>\n",
       "      <th>4221</th>\n",
       "      <td>2008_178_0_2</td>\n",
       "      <td>178</td>\n",
       "      <td>miami fort 6</td>\n",
       "      <td>steam</td>\n",
       "      <td>168.0</td>\n",
       "      <td>1960</td>\n",
       "    </tr>\n",
       "    <tr>\n",
       "      <th>4530</th>\n",
       "      <td>2009_178_0_2</td>\n",
       "      <td>178</td>\n",
       "      <td>miami fort 6</td>\n",
       "      <td>steam</td>\n",
       "      <td>168.0</td>\n",
       "      <td>1960</td>\n",
       "    </tr>\n",
       "    <tr>\n",
       "      <th>5770</th>\n",
       "      <td>2010_178_0_2</td>\n",
       "      <td>178</td>\n",
       "      <td>miami fort 6</td>\n",
       "      <td>steam</td>\n",
       "      <td>168.0</td>\n",
       "      <td>1960</td>\n",
       "    </tr>\n",
       "    <tr>\n",
       "      <th>6595</th>\n",
       "      <td>2011_178_0_2</td>\n",
       "      <td>178</td>\n",
       "      <td>miami fort 6</td>\n",
       "      <td>steam</td>\n",
       "      <td>168.0</td>\n",
       "      <td>1960</td>\n",
       "    </tr>\n",
       "    <tr>\n",
       "      <th>7417</th>\n",
       "      <td>2012_178_0_2</td>\n",
       "      <td>178</td>\n",
       "      <td>miami fort 6</td>\n",
       "      <td>steam</td>\n",
       "      <td>168.0</td>\n",
       "      <td>1960</td>\n",
       "    </tr>\n",
       "    <tr>\n",
       "      <th>8304</th>\n",
       "      <td>2013_178_0_2</td>\n",
       "      <td>178</td>\n",
       "      <td>miami fort 6</td>\n",
       "      <td>steam</td>\n",
       "      <td>168.0</td>\n",
       "      <td>1960</td>\n",
       "    </tr>\n",
       "    <tr>\n",
       "      <th>9272</th>\n",
       "      <td>2014_178_0_2</td>\n",
       "      <td>178</td>\n",
       "      <td>miami fort 6</td>\n",
       "      <td>steam</td>\n",
       "      <td>168.0</td>\n",
       "      <td>1960</td>\n",
       "    </tr>\n",
       "    <tr>\n",
       "      <th>10504</th>\n",
       "      <td>2015_178_0_2</td>\n",
       "      <td>178</td>\n",
       "      <td>miami fort 6</td>\n",
       "      <td>steam</td>\n",
       "      <td>168.0</td>\n",
       "      <td>1960</td>\n",
       "    </tr>\n",
       "  </tbody>\n",
       "</table>\n",
       "</div>"
      ],
      "text/plain": [
       "          record_id  respondent_id    plant_name plant_kind_clean  \\\n",
       "2022   2006_178_0_2            178  miami fort 6            steam   \n",
       "2939   2007_178_0_2            178  miami fort 6            steam   \n",
       "4221   2008_178_0_2            178  miami fort 6            steam   \n",
       "4530   2009_178_0_2            178  miami fort 6            steam   \n",
       "5770   2010_178_0_2            178  miami fort 6            steam   \n",
       "6595   2011_178_0_2            178  miami fort 6            steam   \n",
       "7417   2012_178_0_2            178  miami fort 6            steam   \n",
       "8304   2013_178_0_2            178  miami fort 6            steam   \n",
       "9272   2014_178_0_2            178  miami fort 6            steam   \n",
       "10504  2015_178_0_2            178  miami fort 6            steam   \n",
       "\n",
       "       tot_capacity yr_const  \n",
       "2022          168.0     1960  \n",
       "2939          168.0     1960  \n",
       "4221          168.0     1960  \n",
       "4530          168.0     1960  \n",
       "5770          168.0     1960  \n",
       "6595          168.0     1960  \n",
       "7417          168.0     1960  \n",
       "8304          168.0     1960  \n",
       "9272          168.0     1960  \n",
       "10504         168.0     1960  "
      ]
     },
     "execution_count": 13,
     "metadata": {},
     "output_type": "execute_result"
    }
   ],
   "source": [
    "random_group = np.random.choice(plant_groups)\n",
    "features = [\n",
    "    'record_id',\n",
    "    'respondent_id',\n",
    "    'plant_name',\n",
    "    'plant_kind_clean',\n",
    "    'tot_capacity',\n",
    "    'yr_const'\n",
    "]\n",
    "ferc1_steam_clean[ferc1_steam_clean.record_id.isin(random_group)][features]"
   ]
  },
  {
   "cell_type": "code",
   "execution_count": null,
   "metadata": {},
   "outputs": [],
   "source": []
  }
 ],
 "metadata": {
  "anaconda-cloud": {},
  "kernelspec": {
   "display_name": "Python 3",
   "language": "python",
   "name": "python3"
  },
  "language_info": {
   "codemirror_mode": {
    "name": "ipython",
    "version": 3
   },
   "file_extension": ".py",
   "mimetype": "text/x-python",
   "name": "python",
   "nbconvert_exporter": "python",
   "pygments_lexer": "ipython3",
   "version": "3.6.6"
  }
 },
 "nbformat": 4,
 "nbformat_minor": 2
}
