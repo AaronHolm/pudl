{
 "cells": [
  {
   "cell_type": "markdown",
   "metadata": {},
   "source": [
    "## Regression Outline\n",
    "We have a set of manually categorized FERC plants with which to test the sklearn Classifier that we're making. We'll also use them to test the regression analysis here. What does this dataset look like, how was it created?\n",
    "* Pull FERC Plants table.\n",
    "* Using a variety of search methods, to ensure that we get a wide variety of plants, identify sets of records in the FERC Form 1 Plants table that are comparable inter-year records.\n",
    "\n",
    "\n",
    "For regressions, both OLS and sklearn approaches are explored.  Plant generation is normalized by using capacity factor."
   ]
  },
  {
   "cell_type": "code",
   "execution_count": 1,
   "metadata": {},
   "outputs": [],
   "source": [
    "%load_ext autoreload\n",
    "%autoreload 2"
   ]
  },
  {
   "cell_type": "code",
   "execution_count": 2,
   "metadata": {},
   "outputs": [],
   "source": [
    "import sys\n",
    "import os\n",
    "import numpy as np\n",
    "\n",
    "import scipy\n",
    "import pandas as pd\n",
    "import statsmodels.api as sm\n",
    "import sklearn\n",
    "from sklearn import linear_model\n",
    "sys.path.append(os.path.abspath(os.path.join('..','..','..')))\n",
    "from pudl import init, analysis, settings, output\n",
    "import pudl.extract.ferc1\n",
    "import pudl.transform.ferc1\n",
    "import pudl.constants as pc\n",
    "import pudl.output.pudltabl\n",
    "import pudl.analysis.analysis\n",
    "import matplotlib.pyplot as plt\n",
    "import matplotlib as mpl\n",
    "from mlxtend.plotting import plot_linear_regression\n",
    "\n",
    "%matplotlib inline"
   ]
  },
  {
   "cell_type": "code",
   "execution_count": 3,
   "metadata": {},
   "outputs": [],
   "source": [
    "# For some reason these things don't stick if they're in the same cell as the\n",
    "# %matplotlib inline call above, but if they're separate, they work fine.\n",
    "plt.style.use('ggplot')\n",
    "mpl.rcParams['figure.figsize'] = (10,6)\n",
    "mpl.rcParams['figure.dpi'] = 150\n",
    "pd.options.display.max_columns = 56"
   ]
  },
  {
   "cell_type": "code",
   "execution_count": 4,
   "metadata": {},
   "outputs": [],
   "source": [
    "pudl_out = pudl.output.pudltabl.PudlTabl(freq='MS')\n",
    "pudl_engine = init.connect_db(testing=False)\n",
    "pt = pudl.models.entities.PUDLBase.metadata.tables\n",
    "ferc1_engine = pudl.extract.ferc1.connect_db()\n",
    "# ferc1_steam_raw = pd.read_sql('SELECT * FROM f1_steam;', ferc1_engine)\n",
    "ferc1_fuel_raw = pd.read_sql('SELECT * FROM f1_fuel;', ferc1_engine)"
   ]
  },
  {
   "cell_type": "code",
   "execution_count": 5,
   "metadata": {},
   "outputs": [],
   "source": [
    "ferc1_tables=pc.ferc1_pudl_tables\n",
    "ferc1_years=pc.working_years['ferc1']\n",
    "# ferc1_years = np.arange(2004,2017)\n",
    "ferc1_engine = pudl.extract.ferc1.connect_db()\n",
    "\n",
    "eia923_tables=pc.eia923_pudl_tables\n",
    "eia923_years=pc.working_years['eia923']\n",
    "eia860_tables=pc.eia860_pudl_tables\n",
    "eia860_years=pc.working_years['eia860']\n",
    "verbose=True"
   ]
  },
  {
   "cell_type": "code",
   "execution_count": 6,
   "metadata": {},
   "outputs": [
    {
     "name": "stdout",
     "output_type": "stream",
     "text": [
      "Defining new FERC Form 1 DB based on 2017...\n",
      "Clearing any existing FERC Form 1 database MetaData...\n",
      "============================================================\n",
      "Extracting tables from cloned FERC Form 1 database.\n",
      "    fuel_ferc1...\n",
      "    plants_steam_ferc1...\n",
      "    plants_small_ferc1...\n",
      "    plants_hydro_ferc1...\n",
      "    plants_pumped_storage_ferc1...\n",
      "    plant_in_service_ferc1...\n",
      "    purchased_power_ferc1...\n",
      "    accumulated_depreciation_ferc1...\n"
     ]
    }
   ],
   "source": [
    "ferc1_raw_dfs = pudl.extract.ferc1.extract(ferc1_tables = ferc1_tables, ferc1_years = ferc1_years, \n",
    "                                           verbose=verbose)"
   ]
  },
  {
   "cell_type": "code",
   "execution_count": 7,
   "metadata": {},
   "outputs": [
    {
     "name": "stdout",
     "output_type": "stream",
     "text": [
      "Transforming dataframes from FERC 1:\n",
      "    plants_steam_ferc1...\n",
      "        Identifying distinct large FERC plants.\n"
     ]
    },
    {
     "name": "stderr",
     "output_type": "stream",
     "text": [
      "/home/alana/anaconda3/lib/python3.6/site-packages/pandas/core/indexing.py:1027: FutureWarning: \n",
      "Passing list-likes to .loc or [] with any missing label will raise\n",
      "KeyError in the future, you can use .reindex() as an alternative.\n",
      "\n",
      "See the documentation here:\n",
      "https://pandas.pydata.org/pandas-docs/stable/indexing.html#deprecate-loc-reindex-listlike\n",
      "  return getattr(section, self.name)[new_key]\n"
     ]
    },
    {
     "name": "stdout",
     "output_type": "stream",
     "text": [
      "        Categorized 11177 of 12686 (88.10%) plant records.\n",
      "        Assigning FERC Plant IDs.\n",
      "        Found 1122 orphaned plant records.\n",
      "        Found 1233 non-orphaned plant groups.\n",
      "        Began with 12686 raw steam plant records.\n",
      "        Ended with 12595 transformed steam plant records.\n",
      "    fuel_ferc1...\n",
      "    plants_small_ferc1...\n",
      "    plants_hydro_ferc1...\n",
      "    plants_pumped_storage_ferc1...\n",
      "    plant_in_service_ferc1...\n",
      "    purchased_power_ferc1...\n",
      "    accumulated_depreciation_ferc1...\n"
     ]
    }
   ],
   "source": [
    "ferc1_transformed_dfs = pudl.transform.ferc1.transform(ferc1_raw_dfs,\n",
    "                                                           ferc1_tables=ferc1_tables,\n",
    "                                                           verbose=verbose)"
   ]
  },
  {
   "cell_type": "code",
   "execution_count": 8,
   "metadata": {},
   "outputs": [
    {
     "name": "stdout",
     "output_type": "stream",
     "text": [
      "        Identifying distinct large FERC plants.\n"
     ]
    },
    {
     "name": "stderr",
     "output_type": "stream",
     "text": [
      "/home/alana/anaconda3/lib/python3.6/site-packages/pandas/core/indexing.py:1027: FutureWarning: \n",
      "Passing list-likes to .loc or [] with any missing label will raise\n",
      "KeyError in the future, you can use .reindex() as an alternative.\n",
      "\n",
      "See the documentation here:\n",
      "https://pandas.pydata.org/pandas-docs/stable/indexing.html#deprecate-loc-reindex-listlike\n",
      "  return getattr(section, self.name)[new_key]\n"
     ]
    },
    {
     "name": "stdout",
     "output_type": "stream",
     "text": [
      "        Categorized 11177 of 12686 (88.10%) plant records.\n",
      "        Assigning FERC Plant IDs.\n",
      "        Found 1122 orphaned plant records.\n",
      "        Found 1233 non-orphaned plant groups.\n",
      "        Began with 12686 raw steam plant records.\n",
      "        Ended with 12595 transformed steam plant records.\n"
     ]
    }
   ],
   "source": [
    "ferc1_steam_clean = pudl.transform.ferc1.plants_steam(ferc1_raw_dfs, ferc1_transformed_dfs)"
   ]
  },
  {
   "cell_type": "code",
   "execution_count": 9,
   "metadata": {},
   "outputs": [
    {
     "data": {
      "text/plain": [
       "dict_keys(['plants_steam_ferc1', 'fuel_ferc1', 'plants_small_ferc1', 'plants_hydro_ferc1', 'plants_pumped_storage_ferc1', 'plant_in_service_ferc1', 'purchased_power_ferc1', 'accumulated_depreciation_ferc1'])"
      ]
     },
     "execution_count": 9,
     "metadata": {},
     "output_type": "execute_result"
    }
   ],
   "source": [
    "ferc1_steam_clean.keys()"
   ]
  },
  {
   "cell_type": "code",
   "execution_count": 10,
   "metadata": {
    "scrolled": false
   },
   "outputs": [],
   "source": [
    "ferc1_steam = ferc1_steam_clean['plants_steam_ferc1']\n",
    "ferc1_fuel = ferc1_steam_clean['fuel_ferc1']"
   ]
  },
  {
   "cell_type": "code",
   "execution_count": null,
   "metadata": {},
   "outputs": [],
   "source": []
  },
  {
   "cell_type": "code",
   "execution_count": 11,
   "metadata": {},
   "outputs": [],
   "source": [
    "def ferc1_aggregate_by_fuel_type(df, fuels = ['gas', 'oil', 'coal']):\n",
    "    ''' \n",
    "    Aggregate FERC 1 data by fuel type and plant per year.\n",
    "    \n",
    "    Inputs: \n",
    "    df is cleaned FERC 1 fuel table\n",
    "    fuels is list of fuels of interest to aggregate\n",
    "    \n",
    "    Returns dataframe of aggregated fuel consumed and fuel costs'''\n",
    "    \n",
    "    fuel_df = df[df['fuel_type_code_pudl'].isin(fuels)]\n",
    "    \n",
    "    # We have two different ways of assessing the total cost of fuel given cost\n",
    "    # per unit delivered and cost per mmbtu. They *should* be the same, but we\n",
    "    # know they aren't always. Calculate both so we can compare both.\n",
    "    fuel_df['fuel_consumed_total_mmbtu'] = \\\n",
    "        fuel_df['fuel_qty_burned'] * fuel_df['fuel_mmbtu_per_unit'] # same as total heat content\n",
    "    fuel_df['fuel_consumed_total_cost_mmbtu'] = \\\n",
    "        fuel_df['fuel_cost_per_mmbtu'] * fuel_df['fuel_consumed_total_mmbtu']\n",
    "    fuel_df['fuel_consumed_total_cost_unit'] = \\\n",
    "        fuel_df['fuel_cost_per_unit_burned'] * fuel_df['fuel_qty_burned']\n",
    "\n",
    "\n",
    "    # Group by fuel as well, so we get individual fuel totals.\n",
    "    cols_to_gb = ['plant_id_ferc1', 'report_year', 'fuel_type_code_pudl']\n",
    "    cols=['fuel_consumed_total_mmbtu',\n",
    "                                 'fuel_consumed_total_cost_mmbtu',\n",
    "                                 'fuel_consumed_total_cost_unit']\n",
    "\n",
    "    fuel_df = fuel_df.groupby(cols_to_gb)[cols].sum()\n",
    "    fuel_df = fuel_df.reset_index()\n",
    "    \n",
    "    # Group by plant, so we get total fuel use/cost.\n",
    "    cols_to_gb = ['plant_id_ferc1', 'report_year']\n",
    "    cols=['fuel_consumed_total_mmbtu',\n",
    "                                 'fuel_consumed_total_cost_mmbtu',\n",
    "                                 'fuel_consumed_total_cost_unit'] \n",
    "\n",
    "\n",
    "    fuel_df_plant = fuel_df.groupby(cols_to_gb)[cols].sum()\n",
    "    fuel_df_plant = fuel_df_plant.reset_index()\n",
    "    \n",
    "    return fuel_df_plant"
   ]
  },
  {
   "cell_type": "code",
   "execution_count": 12,
   "metadata": {},
   "outputs": [
    {
     "name": "stderr",
     "output_type": "stream",
     "text": [
      "/home/alana/anaconda3/lib/python3.6/site-packages/ipykernel_launcher.py:12: SettingWithCopyWarning: \n",
      "A value is trying to be set on a copy of a slice from a DataFrame.\n",
      "Try using .loc[row_indexer,col_indexer] = value instead\n",
      "\n",
      "See the caveats in the documentation: http://pandas.pydata.org/pandas-docs/stable/indexing.html#indexing-view-versus-copy\n",
      "  if sys.path[0] == '':\n",
      "/home/alana/anaconda3/lib/python3.6/site-packages/ipykernel_launcher.py:13: SettingWithCopyWarning: \n",
      "A value is trying to be set on a copy of a slice from a DataFrame.\n",
      "Try using .loc[row_indexer,col_indexer] = value instead\n",
      "\n",
      "See the caveats in the documentation: http://pandas.pydata.org/pandas-docs/stable/indexing.html#indexing-view-versus-copy\n",
      "  del sys.path[0]\n",
      "/home/alana/anaconda3/lib/python3.6/site-packages/ipykernel_launcher.py:14: SettingWithCopyWarning: \n",
      "A value is trying to be set on a copy of a slice from a DataFrame.\n",
      "Try using .loc[row_indexer,col_indexer] = value instead\n",
      "\n",
      "See the caveats in the documentation: http://pandas.pydata.org/pandas-docs/stable/indexing.html#indexing-view-versus-copy\n",
      "  \n"
     ]
    }
   ],
   "source": [
    "fuel_df_plant = ferc1_aggregate_by_fuel_type(ferc1_fuel)"
   ]
  },
  {
   "cell_type": "code",
   "execution_count": 13,
   "metadata": {},
   "outputs": [],
   "source": [
    "# diff = fuel_df_plant.fuel_consumed_total_cost_mmbtu - fuel_df_plant.fuel_consumed_total_cost_unit\n",
    "# Max difference in costs is on the order of 1e+9; median is 4e-1; \n",
    "# Could use this calculation comparison to eliminate, or further investigate, outliers."
   ]
  },
  {
   "cell_type": "code",
   "execution_count": 51,
   "metadata": {},
   "outputs": [],
   "source": [
    "out_df = pd.merge(fuel_df_plant, ferc1_steam, on=['plant_id_ferc1', 'report_year'])\n",
    "out_df[\"heat_rate\"] = (out_df.fuel_consumed_total_mmbtu / out_df.net_generation_mwh)\n",
    "out_df['capacity_factor'] = (out_df['net_generation_mwh']/ (out_df['capacity_mw']*8760))\n",
    "\n",
    "first_cols = [\n",
    "    'report_year',\n",
    "    'utility_id_ferc1',\n",
    "    'plant_id_ferc1',\n",
    "    'plant_name'\n",
    "]\n",
    "\n",
    "out_df = pudl.helpers.organize_cols(out_df, first_cols)"
   ]
  },
  {
   "cell_type": "code",
   "execution_count": 52,
   "metadata": {},
   "outputs": [],
   "source": [
    "pd.options.mode.chained_assignment = None  # default='warn'"
   ]
  },
  {
   "cell_type": "code",
   "execution_count": 53,
   "metadata": {
    "scrolled": true
   },
   "outputs": [],
   "source": [
    "# Check to see if the 'tot_prdctn_expns' is equivalent to the non-fuel costs by summing non-fuel values\n",
    "out_df[\"all_costs\"] = (out_df.opex_allowances+out_df.opex_boiler+\n",
    "                                  out_df.opex_coolants+\n",
    "                         out_df.opex_electric+out_df.opex_engineering+\n",
    "                                  out_df.opex_fuel+\n",
    "                        (out_df.opex_per_mwh/1000)+out_df.opex_misc_power+\n",
    "                                  out_df.opex_misc_steam+\n",
    "                        out_df.opex_operations+out_df.opex_plants+\n",
    "                                  out_df.opex_rents+\n",
    "                        out_df.opex_steam+out_df.opex_steam_other+\n",
    "                                  out_df.opex_structures+\n",
    "                        out_df.opex_transfer)"
   ]
  },
  {
   "cell_type": "code",
   "execution_count": 54,
   "metadata": {},
   "outputs": [],
   "source": [
    "# Check to see if for all records the 'tot_prdctn_expns' approximately equals the sum from 'all_costs'\n",
    "out_df['result'] = out_df['all_costs'].ge(out_df['opex_production_total']) | np.isclose(out_df['all_costs'], out_df['opex_production_total'], rtol=1e+1)"
   ]
  },
  {
   "cell_type": "code",
   "execution_count": 55,
   "metadata": {},
   "outputs": [
    {
     "data": {
      "text/plain": [
       "count     9901\n",
       "unique       1\n",
       "top       True\n",
       "freq      9901\n",
       "Name: result, dtype: object"
      ]
     },
     "execution_count": 55,
     "metadata": {},
     "output_type": "execute_result"
    }
   ],
   "source": [
    "out_df.result.describe() # For all records, the costs are within $1. Confirms 'tot_prdctn_expsn' is all non-fuel costs"
   ]
  },
  {
   "cell_type": "code",
   "execution_count": 56,
   "metadata": {},
   "outputs": [],
   "source": [
    "# No need to retain these - have confirmed that 'opex_production_total' is sum of all other costs\n",
    "out_df.drop(columns=['result','all_costs'], inplace=True)"
   ]
  },
  {
   "cell_type": "code",
   "execution_count": 57,
   "metadata": {},
   "outputs": [],
   "source": [
    "# We can get non-fuel by subtracting opex_fuel\n",
    "out_df['non_fuel_costs'] = (out_df.opex_production_total - out_df.opex_fuel)"
   ]
  },
  {
   "cell_type": "code",
   "execution_count": 58,
   "metadata": {},
   "outputs": [],
   "source": [
    "out_df.installation_year = pd.to_numeric(out_df.installation_year, errors='coerce')\n",
    "out_df.construction_year = pd.to_numeric(out_df.construction_year, errors='coerce')"
   ]
  },
  {
   "cell_type": "code",
   "execution_count": 59,
   "metadata": {},
   "outputs": [
    {
     "data": {
      "text/plain": [
       "array(['steam', 'combustion_turbine', '', 'internal_combustion',\n",
       "       'nuclear', 'combined_cycle', 'photovoltaic'], dtype=object)"
      ]
     },
     "execution_count": 59,
     "metadata": {},
     "output_type": "execute_result"
    }
   ],
   "source": [
    "# What types of fuel are included in the training data set?\n",
    "out_df.plant_type.unique()"
   ]
  },
  {
   "cell_type": "code",
   "execution_count": null,
   "metadata": {},
   "outputs": [],
   "source": []
  },
  {
   "cell_type": "code",
   "execution_count": 139,
   "metadata": {},
   "outputs": [],
   "source": [
    "def ferc1_record_subsetting(df, plant_type = 'steam', year_var = 'installation_year', \n",
    "                            old = 1970, new = 1987):\n",
    "    \"\"\" Subsets records by plant type and vintage. Creates new column for vintage.\n",
    "    Input variables:\n",
    "        'old' = year cutoff below which plants are considered 'old'\n",
    "        'new' = year cutoff above which plants are considered 'new'\n",
    "        'plant_type' = FERC 1 plant types, including: 'steam', 'combustion_turbine', 'internal_combustion', 'nuclear', 'combined_cycle', 'photovoltaic'\n",
    "        'year_var' = either 'installation_year' or 'construction_year'\n",
    "        \n",
    "        Returns data frame with new column for vintage, and subset to the specified plant types.\n",
    "        \"\"\"\n",
    "    \n",
    "    out_df = df[(df['plant_type'] == plant_type)]\n",
    "    out_df.loc[out_df.installation_year <= old,'vintage'] = 'old'\n",
    "    out_df.loc[out_df.installation_year >= new,'vintage'] = 'new'\n",
    "    out_df.loc[(out_df[year_var] > old) & (out_df[year_var] <= new), \"vintage\"] = 'mid'\n",
    "    \n",
    "    \n",
    "    return out_df"
   ]
  },
  {
   "cell_type": "code",
   "execution_count": null,
   "metadata": {},
   "outputs": [],
   "source": [
    "### Still need to convert 'vintage' to a categorical variable for further use"
   ]
  },
  {
   "cell_type": "code",
   "execution_count": 93,
   "metadata": {},
   "outputs": [],
   "source": [
    "# Eliminate records with Nan heat rate values\n",
    "new = new[np.isfinite(new['heat_rate'])]"
   ]
  },
  {
   "cell_type": "code",
   "execution_count": 130,
   "metadata": {},
   "outputs": [
    {
     "data": {
      "text/html": [
       "<table class=\"simpletable\">\n",
       "<caption>OLS Regression Results</caption>\n",
       "<tr>\n",
       "  <th>Dep. Variable:</th>     <td>non_fuel_costs</td>  <th>  R-squared:         </th> <td>   0.529</td> \n",
       "</tr>\n",
       "<tr>\n",
       "  <th>Model:</th>                   <td>OLS</td>       <th>  Adj. R-squared:    </th> <td>   0.529</td> \n",
       "</tr>\n",
       "<tr>\n",
       "  <th>Method:</th>             <td>Least Squares</td>  <th>  F-statistic:       </th> <td>   5397.</td> \n",
       "</tr>\n",
       "<tr>\n",
       "  <th>Date:</th>             <td>Wed, 26 Dec 2018</td> <th>  Prob (F-statistic):</th>  <td>  0.00</td>  \n",
       "</tr>\n",
       "<tr>\n",
       "  <th>Time:</th>                 <td>22:36:36</td>     <th>  Log-Likelihood:    </th> <td> -87424.</td> \n",
       "</tr>\n",
       "<tr>\n",
       "  <th>No. Observations:</th>      <td>  4798</td>      <th>  AIC:               </th> <td>1.749e+05</td>\n",
       "</tr>\n",
       "<tr>\n",
       "  <th>Df Residuals:</th>          <td>  4796</td>      <th>  BIC:               </th> <td>1.749e+05</td>\n",
       "</tr>\n",
       "<tr>\n",
       "  <th>Df Model:</th>              <td>     1</td>      <th>                     </th>     <td> </td>    \n",
       "</tr>\n",
       "<tr>\n",
       "  <th>Covariance Type:</th>      <td>nonrobust</td>    <th>                     </th>     <td> </td>    \n",
       "</tr>\n",
       "</table>\n",
       "<table class=\"simpletable\">\n",
       "<tr>\n",
       "           <td></td>             <th>coef</th>     <th>std err</th>      <th>t</th>      <th>P>|t|</th>  <th>[0.025</th>    <th>0.975]</th>  \n",
       "</tr>\n",
       "<tr>\n",
       "  <th>const</th>              <td> 4.655e+06</td> <td> 3.62e+05</td> <td>   12.842</td> <td> 0.000</td> <td> 3.94e+06</td> <td> 5.37e+06</td>\n",
       "</tr>\n",
       "<tr>\n",
       "  <th>net_generation_mwh</th> <td>    5.9206</td> <td>    0.081</td> <td>   73.464</td> <td> 0.000</td> <td>    5.763</td> <td>    6.079</td>\n",
       "</tr>\n",
       "</table>\n",
       "<table class=\"simpletable\">\n",
       "<tr>\n",
       "  <th>Omnibus:</th>       <td>5701.247</td> <th>  Durbin-Watson:     </th>  <td>   0.533</td>  \n",
       "</tr>\n",
       "<tr>\n",
       "  <th>Prob(Omnibus):</th>  <td> 0.000</td>  <th>  Jarque-Bera (JB):  </th> <td>1457976.947</td>\n",
       "</tr>\n",
       "<tr>\n",
       "  <th>Skew:</th>           <td> 5.964</td>  <th>  Prob(JB):          </th>  <td>    0.00</td>  \n",
       "</tr>\n",
       "<tr>\n",
       "  <th>Kurtosis:</th>       <td>87.562</td>  <th>  Cond. No.          </th>  <td>5.70e+06</td>  \n",
       "</tr>\n",
       "</table><br/><br/>Warnings:<br/>[1] Standard Errors assume that the covariance matrix of the errors is correctly specified.<br/>[2] The condition number is large, 5.7e+06. This might indicate that there are<br/>strong multicollinearity or other numerical problems."
      ],
      "text/plain": [
       "<class 'statsmodels.iolib.summary.Summary'>\n",
       "\"\"\"\n",
       "                            OLS Regression Results                            \n",
       "==============================================================================\n",
       "Dep. Variable:         non_fuel_costs   R-squared:                       0.529\n",
       "Model:                            OLS   Adj. R-squared:                  0.529\n",
       "Method:                 Least Squares   F-statistic:                     5397.\n",
       "Date:                Wed, 26 Dec 2018   Prob (F-statistic):               0.00\n",
       "Time:                        22:36:36   Log-Likelihood:                -87424.\n",
       "No. Observations:                4798   AIC:                         1.749e+05\n",
       "Df Residuals:                    4796   BIC:                         1.749e+05\n",
       "Df Model:                           1                                         \n",
       "Covariance Type:            nonrobust                                         \n",
       "======================================================================================\n",
       "                         coef    std err          t      P>|t|      [0.025      0.975]\n",
       "--------------------------------------------------------------------------------------\n",
       "const               4.655e+06   3.62e+05     12.842      0.000    3.94e+06    5.37e+06\n",
       "net_generation_mwh     5.9206      0.081     73.464      0.000       5.763       6.079\n",
       "==============================================================================\n",
       "Omnibus:                     5701.247   Durbin-Watson:                   0.533\n",
       "Prob(Omnibus):                  0.000   Jarque-Bera (JB):          1457976.947\n",
       "Skew:                           5.964   Prob(JB):                         0.00\n",
       "Kurtosis:                      87.562   Cond. No.                     5.70e+06\n",
       "==============================================================================\n",
       "\n",
       "Warnings:\n",
       "[1] Standard Errors assume that the covariance matrix of the errors is correctly specified.\n",
       "[2] The condition number is large, 5.7e+06. This might indicate that there are\n",
       "strong multicollinearity or other numerical problems.\n",
       "\"\"\""
      ]
     },
     "execution_count": 130,
     "metadata": {},
     "output_type": "execute_result"
    }
   ],
   "source": [
    "# Set up variables for OLS regression \n",
    "\n",
    "# X = new[[\"net_generation\", \"heat_rate\", \"fuel_cost_btu\"]]\n",
    "X = new[[\"net_generation_mwh\"]]\n",
    "# X = new[[\"non_fuel_costs\"]]\n",
    "# X = new[[\"expns_fuel\"]]\n",
    "\n",
    "# y = new[\"opex_fuel\"]\n",
    "y = new[[\"non_fuel_costs\"]]\n",
    "# y = new[[\"net_generation_mwh\"]]\n",
    "\n",
    "\n",
    "X = sm.add_constant(X) ## add an intercept\n",
    "\n",
    "model = sm.OLS(y, X).fit()\n",
    "predictions = model.predict(X) # make the predictions by the model\n",
    "\n",
    "# Print out the statistics\n",
    "model.summary()"
   ]
  },
  {
   "cell_type": "code",
   "execution_count": null,
   "metadata": {},
   "outputs": [],
   "source": []
  },
  {
   "cell_type": "code",
   "execution_count": 151,
   "metadata": {},
   "outputs": [
    {
     "data": {
      "text/plain": [
       "0.5294782013162521"
      ]
     },
     "execution_count": 151,
     "metadata": {},
     "output_type": "execute_result"
    }
   ],
   "source": [
    "# Use sklearn linear_model to fit the same regression\n",
    "lm = linear_model.LinearRegression()\n",
    "model = lm.fit(X,y)\n",
    "predictions = lm.predict(X)\n",
    "# print(predictions)[0:5]\n",
    "lm.score(X,y)"
   ]
  },
  {
   "cell_type": "code",
   "execution_count": 152,
   "metadata": {},
   "outputs": [
    {
     "data": {
      "text/plain": [
       "LinregressResult(slope=5.744967955786643, intercept=2753352.829961071, rvalue=0.7157173626042846, pvalue=0.0, stderr=0.0566655756017236)"
      ]
     },
     "execution_count": 152,
     "metadata": {},
     "output_type": "execute_result"
    }
   ],
   "source": [
    "scipy.stats.linregress(out_df.net_generation_mwh, out_df.non_fuel_costs)"
   ]
  },
  {
   "cell_type": "code",
   "execution_count": 168,
   "metadata": {},
   "outputs": [],
   "source": [
    "# numpy.polyfit(ferc1_training_steam.net_generation, ferc1_training_steam.expns_fuel, 1)"
   ]
  },
  {
   "cell_type": "code",
   "execution_count": 154,
   "metadata": {},
   "outputs": [],
   "source": [
    "from sklearn.linear_model import LinearRegression, Lasso, Ridge, ElasticNet, SGDRegressor\n",
    "from sklearn.model_selection import train_test_split"
   ]
  },
  {
   "cell_type": "code",
   "execution_count": 172,
   "metadata": {},
   "outputs": [],
   "source": [
    "x = out_df.net_generation_mwh\n",
    "y = out_df.non_fuel_costs\n",
    "x_reshape = out_df.net_generation_mwh.values.reshape(-1,1)\n",
    "y_reshape = out_df.non_fuel_costs.values.reshape(-1,1)"
   ]
  },
  {
   "cell_type": "code",
   "execution_count": 174,
   "metadata": {
    "scrolled": false
   },
   "outputs": [],
   "source": [
    "# intercept, slope, corr_coeff = plot_linear_regression(x_reshape, y_reshape)\n",
    "# plt.show()\n"
   ]
  },
  {
   "cell_type": "code",
   "execution_count": 167,
   "metadata": {},
   "outputs": [
    {
     "data": {
      "text/plain": [
       "Text(0, 0.5, 'non-fuel costs')"
      ]
     },
     "execution_count": 167,
     "metadata": {},
     "output_type": "execute_result"
    },
    {
     "data": {
      "image/png": "[encoded data removed]",
      "text/plain": [
       "<Figure size 1500x900 with 1 Axes>"
      ]
     },
     "metadata": {},
     "output_type": "display_data"
    }
   ],
   "source": [
    "plt.plot(x,y,'.')\n",
    "\n",
    "plt.xlabel('net generation (mwh)')\n",
    "plt.ylabel('non-fuel costs')"
   ]
  },
  {
   "cell_type": "code",
   "execution_count": 157,
   "metadata": {},
   "outputs": [],
   "source": [
    "### Exploration of other approaches..."
   ]
  },
  {
   "cell_type": "code",
   "execution_count": 158,
   "metadata": {},
   "outputs": [],
   "source": [
    "x_train, x_test, y_train, y_test = train_test_split(x, y, test_size= 0.2, random_state=0)"
   ]
  },
  {
   "cell_type": "code",
   "execution_count": 159,
   "metadata": {},
   "outputs": [],
   "source": [
    "x_train= x_train.values.reshape(-1, 1)\n",
    "y_train= y_train.values.reshape(-1, 1)\n",
    "x_test = x_test.values.reshape(-1, 1)"
   ]
  },
  {
   "cell_type": "code",
   "execution_count": null,
   "metadata": {},
   "outputs": [],
   "source": []
  },
  {
   "cell_type": "code",
   "execution_count": 160,
   "metadata": {},
   "outputs": [],
   "source": [
    "ridge = Ridge(fit_intercept=True, alpha=0.5)"
   ]
  },
  {
   "cell_type": "code",
   "execution_count": 161,
   "metadata": {},
   "outputs": [
    {
     "data": {
      "text/plain": [
       "Ridge(alpha=0.5, copy_X=True, fit_intercept=True, max_iter=None,\n",
       "   normalize=False, random_state=None, solver='auto', tol=0.001)"
      ]
     },
     "execution_count": 161,
     "metadata": {},
     "output_type": "execute_result"
    }
   ],
   "source": [
    "ridge.fit(x_reshape,y_reshape)"
   ]
  },
  {
   "cell_type": "code",
   "execution_count": null,
   "metadata": {},
   "outputs": [],
   "source": []
  },
  {
   "cell_type": "code",
   "execution_count": 162,
   "metadata": {},
   "outputs": [
    {
     "data": {
      "text/plain": [
       "Ridge(alpha=1.0, copy_X=True, fit_intercept=True, max_iter=None,\n",
       "   normalize=False, random_state=None, solver='auto', tol=0.001)"
      ]
     },
     "execution_count": 162,
     "metadata": {},
     "output_type": "execute_result"
    }
   ],
   "source": [
    "sklearn.linear_model.Ridge(alpha=1.0, fit_intercept=True, normalize=False, copy_X=True, max_iter=None, tol=0.001, solver='auto', random_state=None)\n",
    "# ferc1_training_steam.net_generation_mwh, ferc1_training_steam.non_fuel_costs)"
   ]
  },
  {
   "cell_type": "code",
   "execution_count": 163,
   "metadata": {},
   "outputs": [
    {
     "data": {
      "text/plain": [
       "Ridge(alpha=1, copy_X=True, fit_intercept=True, max_iter=None,\n",
       "   normalize=False, random_state=None, solver='auto', tol=0.001)"
      ]
     },
     "execution_count": 163,
     "metadata": {},
     "output_type": "execute_result"
    }
   ],
   "source": [
    "clf = sklearn.linear_model.Ridge(alpha=1)\n",
    "clf = sklearn.linear_model.Ridge(alpha=1, copy_X=True, fit_intercept=True, max_iter=None, normalize=False, random_state=None, solver='auto', tol=0.001)\n",
    "\n",
    "clf.fit(x_reshape, y_reshape)\n",
    "# Ridge(alpha=1, copy_X=True, fit_intercept=True, max_iter=None,normalize=False, random_state=None, solver='auto', tol=0.001)"
   ]
  },
  {
   "cell_type": "code",
   "execution_count": 164,
   "metadata": {},
   "outputs": [],
   "source": [
    "result = clf.fit(x_reshape, y_reshape, sample_weight=None)"
   ]
  },
  {
   "cell_type": "code",
   "execution_count": 165,
   "metadata": {},
   "outputs": [
    {
     "data": {
      "text/plain": [
       "0.5122513431332334"
      ]
     },
     "execution_count": 165,
     "metadata": {},
     "output_type": "execute_result"
    }
   ],
   "source": [
    "clf.score(x_reshape,y_reshape)"
   ]
  },
  {
   "cell_type": "code",
   "execution_count": 166,
   "metadata": {},
   "outputs": [
    {
     "data": {
      "text/plain": [
       "{'alpha': 1,\n",
       " 'copy_X': True,\n",
       " 'fit_intercept': True,\n",
       " 'max_iter': None,\n",
       " 'normalize': False,\n",
       " 'random_state': None,\n",
       " 'solver': 'auto',\n",
       " 'tol': 0.001}"
      ]
     },
     "execution_count": 166,
     "metadata": {},
     "output_type": "execute_result"
    }
   ],
   "source": [
    "result.get_params()"
   ]
  },
  {
   "cell_type": "code",
   "execution_count": null,
   "metadata": {},
   "outputs": [],
   "source": []
  },
  {
   "cell_type": "code",
   "execution_count": null,
   "metadata": {},
   "outputs": [],
   "source": []
  },
  {
   "cell_type": "code",
   "execution_count": null,
   "metadata": {},
   "outputs": [],
   "source": []
  }
 ],
 "metadata": {
  "kernelspec": {
   "display_name": "Python 3",
   "language": "python",
   "name": "python3"
  },
  "language_info": {
   "codemirror_mode": {
    "name": "ipython",
    "version": 3
   },
   "file_extension": ".py",
   "mimetype": "text/x-python",
   "name": "python",
   "nbconvert_exporter": "python",
   "pygments_lexer": "ipython3",
   "version": "3.6.6"
  }
 },
 "nbformat": 4,
 "nbformat_minor": 2
}
