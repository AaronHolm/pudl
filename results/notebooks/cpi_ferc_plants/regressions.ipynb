{
 "cells": [
  {
   "cell_type": "markdown",
   "metadata": {},
   "source": [
    "## Regression Outline\n",
    "We have a set of manually categorized FERC plants with which to test the sklearn Classifier that we're making. We'll also use them to test the regression analysis here. What does this dataset look like, how was it created?\n",
    "* Pull FERC Plants table.\n",
    "* Using a variety of search methods, to ensure that we get a wide variety of plants, identify sets of records in the FERC Form 1 Plants table that are comparable inter-year records.\n",
    "\n",
    "\n",
    "For regressions, both OLS and sklearn approaches are explored.  Plant generation is normalized by using capacity factor."
   ]
  },
  {
   "cell_type": "code",
   "execution_count": 1,
   "metadata": {},
   "outputs": [],
   "source": [
    "%load_ext autoreload\n",
    "%autoreload 2"
   ]
  },
  {
   "cell_type": "code",
   "execution_count": 2,
   "metadata": {},
   "outputs": [],
   "source": [
    "import sys\n",
    "import os\n",
    "import numpy as np\n",
    "\n",
    "import scipy\n",
    "import pandas as pd\n",
    "import statsmodels.api as sm\n",
    "import sklearn\n",
    "from sklearn import linear_model\n",
    "from pudl import init, analysis, settings, output\n",
    "import pudl.extract.ferc1\n",
    "import pudl.transform.ferc1\n",
    "import pudl.constants as pc\n",
    "import pudl.output.pudltabl\n",
    "import pudl.analysis.analysis\n",
    "import matplotlib.pyplot as plt\n",
    "import matplotlib as mpl\n",
    "\n",
    "%matplotlib inline"
   ]
  },
  {
   "cell_type": "code",
   "execution_count": 3,
   "metadata": {},
   "outputs": [],
   "source": [
    "# For some reason these things don't stick if they're in the same cell as the\n",
    "# %matplotlib inline call above, but if they're separate, they work fine.\n",
    "plt.style.use('ggplot')\n",
    "mpl.rcParams['figure.figsize'] = (10,6)\n",
    "mpl.rcParams['figure.dpi'] = 150\n",
    "pd.options.display.max_columns = 56"
   ]
  },
  {
   "cell_type": "code",
   "execution_count": 4,
   "metadata": {},
   "outputs": [],
   "source": [
    "pudl_out = pudl.output.pudltabl.PudlTabl()\n",
    "ferc1_fuel = pudl_out.fuel_ferc1()\n",
    "ferc1_steam = pudl_out.plants_steam_ferc1()"
   ]
  },
  {
   "cell_type": "code",
   "execution_count": 5,
   "metadata": {},
   "outputs": [],
   "source": [
    "def ferc1_aggregate_by_fuel_type(df, fuels = ['gas', 'oil', 'coal']):\n",
    "    ''' \n",
    "    Aggregate FERC 1 data by fuel type and plant per year.\n",
    "    \n",
    "    Inputs: \n",
    "    df is cleaned FERC 1 fuel table\n",
    "    fuels is list of fuels of interest to aggregate\n",
    "    \n",
    "    Returns dataframe of aggregated fuel consumed and fuel costs'''\n",
    "    \n",
    "    fuel_df = df[df['fuel_type_code_pudl'].isin(fuels)]\n",
    "    \n",
    "    # We have two different ways of assessing the total cost of fuel given cost\n",
    "    # per unit delivered and cost per mmbtu. They *should* be the same, but we\n",
    "    # know they aren't always. Calculate both so we can compare both.\n",
    "    fuel_df['fuel_consumed_total_mmbtu'] = \\\n",
    "        fuel_df['fuel_qty_burned'] * fuel_df['fuel_mmbtu_per_unit'] # same as total heat content\n",
    "    fuel_df['fuel_consumed_total_cost_mmbtu'] = \\\n",
    "        fuel_df['fuel_cost_per_mmbtu'] * fuel_df['fuel_consumed_total_mmbtu']\n",
    "    fuel_df['fuel_consumed_total_cost_unit'] = \\\n",
    "        fuel_df['fuel_cost_per_unit_burned'] * fuel_df['fuel_qty_burned']\n",
    "\n",
    "\n",
    "    # Group by fuel as well, so we get individual fuel totals.\n",
    "    cols_to_gb = ['plant_id_ferc1', 'report_year', 'fuel_type_code_pudl']\n",
    "    cols=['fuel_consumed_total_mmbtu',\n",
    "                                 'fuel_consumed_total_cost_mmbtu',\n",
    "                                 'fuel_consumed_total_cost_unit']\n",
    "\n",
    "    fuel_df = fuel_df.groupby(cols_to_gb)[cols].sum()\n",
    "    fuel_df = fuel_df.reset_index()\n",
    "    \n",
    "    # Group by plant, so we get total fuel use/cost.\n",
    "    cols_to_gb = ['plant_id_ferc1', 'report_year']\n",
    "    cols=['fuel_consumed_total_mmbtu',\n",
    "                                 'fuel_consumed_total_cost_mmbtu',\n",
    "                                 'fuel_consumed_total_cost_unit'] \n",
    "\n",
    "\n",
    "    fuel_df_plant = fuel_df.groupby(cols_to_gb)[cols].sum()\n",
    "    fuel_df_plant = fuel_df_plant.reset_index()\n",
    "    \n",
    "    return fuel_df_plant"
   ]
  },
  {
   "cell_type": "code",
   "execution_count": 6,
   "metadata": {},
   "outputs": [
    {
     "name": "stderr",
     "output_type": "stream",
     "text": [
      "/home/alana/anaconda3/lib/python3.6/site-packages/ipykernel_launcher.py:16: SettingWithCopyWarning: \n",
      "A value is trying to be set on a copy of a slice from a DataFrame.\n",
      "Try using .loc[row_indexer,col_indexer] = value instead\n",
      "\n",
      "See the caveats in the documentation: http://pandas.pydata.org/pandas-docs/stable/indexing.html#indexing-view-versus-copy\n",
      "  app.launch_new_instance()\n",
      "/home/alana/anaconda3/lib/python3.6/site-packages/ipykernel_launcher.py:17: SettingWithCopyWarning: \n",
      "A value is trying to be set on a copy of a slice from a DataFrame.\n",
      "Try using .loc[row_indexer,col_indexer] = value instead\n",
      "\n",
      "See the caveats in the documentation: http://pandas.pydata.org/pandas-docs/stable/indexing.html#indexing-view-versus-copy\n",
      "/home/alana/anaconda3/lib/python3.6/site-packages/ipykernel_launcher.py:18: SettingWithCopyWarning: \n",
      "A value is trying to be set on a copy of a slice from a DataFrame.\n",
      "Try using .loc[row_indexer,col_indexer] = value instead\n",
      "\n",
      "See the caveats in the documentation: http://pandas.pydata.org/pandas-docs/stable/indexing.html#indexing-view-versus-copy\n"
     ]
    }
   ],
   "source": [
    "fuel_df_plant = ferc1_aggregate_by_fuel_type(ferc1_fuel)"
   ]
  },
  {
   "cell_type": "code",
   "execution_count": 7,
   "metadata": {},
   "outputs": [],
   "source": [
    "# diff = fuel_df_plant.fuel_consumed_total_cost_mmbtu - fuel_df_plant.fuel_consumed_total_cost_unit\n",
    "# Max difference in costs is on the order of 1e+9; median is 4e-1; \n",
    "# Could use this calculation comparison to eliminate, or further investigate, outliers."
   ]
  },
  {
   "cell_type": "code",
   "execution_count": 8,
   "metadata": {},
   "outputs": [],
   "source": [
    "out_df = pd.merge(fuel_df_plant, ferc1_steam, on=['plant_id_ferc1', 'report_year'])\n",
    "out_df[\"heat_rate\"] = (out_df.fuel_consumed_total_mmbtu / out_df.net_generation_mwh)\n",
    "out_df['capacity_factor'] = (out_df['net_generation_mwh']/ (out_df['capacity_mw']*8760))\n",
    "\n",
    "first_cols = [\n",
    "    'report_year',\n",
    "    'utility_id_ferc1',\n",
    "    'plant_id_ferc1',\n",
    "    'plant_name'\n",
    "]\n",
    "\n",
    "out_df = pudl.helpers.organize_cols(out_df, first_cols)"
   ]
  },
  {
   "cell_type": "raw",
   "metadata": {},
   "source": [
    "pd.options.mode.chained_assignment = None  # default='warn'"
   ]
  },
  {
   "cell_type": "code",
   "execution_count": 9,
   "metadata": {
    "scrolled": true
   },
   "outputs": [],
   "source": [
    "# Check to see if the 'tot_prdctn_expns' is equivalent to the non-fuel costs by summing non-fuel values\n",
    "out_df[\"all_costs\"] = (out_df.opex_allowances+out_df.opex_boiler+\n",
    "                                  out_df.opex_coolants+\n",
    "                         out_df.opex_electric+out_df.opex_engineering+\n",
    "                                  out_df.opex_fuel+out_df.opex_misc_power+\n",
    "                                  out_df.opex_misc_steam+\n",
    "                        out_df.opex_operations+out_df.opex_plants+\n",
    "                                  out_df.opex_rents+\n",
    "                        out_df.opex_steam+out_df.opex_steam_other+\n",
    "                                  out_df.opex_structures+\n",
    "                        out_df.opex_transfer)"
   ]
  },
  {
   "cell_type": "code",
   "execution_count": 10,
   "metadata": {},
   "outputs": [],
   "source": [
    "# Check to see if for all records the 'tot_prdctn_expns' approximately equals the sum from 'all_costs'\n",
    "out_df['result'] = out_df['all_costs'].ge(out_df['opex_production_total']) | np.isclose(out_df['all_costs'], out_df['opex_production_total'], rtol=1e+1)"
   ]
  },
  {
   "cell_type": "code",
   "execution_count": 11,
   "metadata": {},
   "outputs": [
    {
     "data": {
      "text/plain": [
       "count     10552\n",
       "unique        1\n",
       "top        True\n",
       "freq      10552\n",
       "Name: result, dtype: object"
      ]
     },
     "execution_count": 11,
     "metadata": {},
     "output_type": "execute_result"
    }
   ],
   "source": [
    "out_df.result.describe() # For all records, the costs are within $10. Confirms 'tot_prdctn_expsn' is all non-fuel costs"
   ]
  },
  {
   "cell_type": "code",
   "execution_count": 12,
   "metadata": {},
   "outputs": [],
   "source": [
    "# No need to retain these - have confirmed that 'opex_production_total' is sum of all other costs\n",
    "out_df.drop(columns=['result','all_costs'], inplace=True)"
   ]
  },
  {
   "cell_type": "code",
   "execution_count": 13,
   "metadata": {},
   "outputs": [],
   "source": [
    "# We can get non-fuel by subtracting opex_fuel\n",
    "out_df['non_fuel_costs'] = (out_df.opex_production_total - out_df.opex_fuel)"
   ]
  },
  {
   "cell_type": "code",
   "execution_count": 14,
   "metadata": {},
   "outputs": [],
   "source": [
    "out_df.installation_year = pd.to_numeric(out_df.installation_year, errors='coerce')\n",
    "out_df.construction_year = pd.to_numeric(out_df.construction_year, errors='coerce')"
   ]
  },
  {
   "cell_type": "code",
   "execution_count": 15,
   "metadata": {},
   "outputs": [
    {
     "data": {
      "text/plain": [
       "array(['steam', 'combustion_turbine', None, 'internal_combustion',\n",
       "       'nuclear', 'combined_cycle', 'photovoltaic'], dtype=object)"
      ]
     },
     "execution_count": 15,
     "metadata": {},
     "output_type": "execute_result"
    }
   ],
   "source": [
    "# What types of fuel are included in the training data set?\n",
    "out_df.plant_type.unique()"
   ]
  },
  {
   "cell_type": "code",
   "execution_count": 16,
   "metadata": {},
   "outputs": [],
   "source": [
    "# All records\n",
    "out_df_s = out_df[(out_df['plant_type'] == 'steam')]\n",
    "# out_df_ct = out_df[(out_df['plant_type'] == 'combustion_turbine')] \n",
    "# out_df_cc = out_df[(out_df['plant_type'] == 'combined_cycle')] \n",
    "# out_df_ic = out_df[(out_df['plant_type'] == 'internal_combustion')]\n",
    "# out_df_n = out_df[(out_df['plant_type'] == 'nuclear')] \n",
    "# out_df_pv = out_df[(out_df['plant_type'] == 'photovoltaic')] "
   ]
  },
  {
   "cell_type": "code",
   "execution_count": 17,
   "metadata": {},
   "outputs": [],
   "source": [
    "# Unique plants\n",
    "steam_plants = out_df_s.sort_values('installation_year').drop_duplicates(subset=['capacity_mw', 'plant_name'], keep='last') # 1007 'plants'\n",
    "# ct = out_df_ct.sort_values('installation_year').drop_duplicates(subset=['plant_id_ferc1'], keep='last') # 584 'plants'\n",
    "# cc = out_df_cc.sort_values('installation_year').drop_duplicates(subset=['plant_id_ferc1'], keep='last') # 188 'plants'\n",
    "# ic = out_df_ic.sort_values('installation_year').drop_duplicates(subset=['plant_id_ferc1'], keep='last') # 147 'plants'\n",
    "# nuc = out_df_n.sort_values('installation_year').drop_duplicates(subset=['plant_id_ferc1'], keep='last') # 5 'plants'\n",
    "# pv = out_df_pv.sort_values('installation_year').drop_duplicates(subset=['plant_id_ferc1'], keep='last') # 3 'plants'\n"
   ]
  },
  {
   "cell_type": "code",
   "execution_count": 18,
   "metadata": {},
   "outputs": [],
   "source": [
    "# Remove null values for variables of interest, for purposes of histogram plotting\n",
    "steam_plants = steam_plants[steam_plants.construction_year.notnull()]\n",
    "steam_plants = steam_plants[steam_plants.installation_year.notnull()]\n",
    "steam_plants = steam_plants[steam_plants.capacity_mw.notnull()]\n",
    "steam_plants = steam_plants[steam_plants.heat_rate.notnull()]"
   ]
  },
  {
   "cell_type": "code",
   "execution_count": 19,
   "metadata": {},
   "outputs": [
    {
     "data": {
      "image/png": "[encoded data removed]",
      "text/plain": [
       "<Figure size 1500x900 with 1 Axes>"
      ]
     },
     "metadata": {},
     "output_type": "display_data"
    }
   ],
   "source": [
    "# Look at distribution of construction years vs. installation years.\n",
    "fig = plt.figure()\n",
    "\n",
    "plt.xlabel('Year')\n",
    "plt.ylabel('Number plants')\n",
    "plt.title('FERC 1 Steam Plants')\n",
    "\n",
    "mpl.pyplot.hist(steam_plants.construction_year, bins = 117, range = [1900,2016], alpha=0.5, label='Construction year')\n",
    "mpl.pyplot.hist(steam_plants.installation_year, bins = 117, range = [1900,2016], alpha=0.5, label='Installation year')\n",
    "mpl.pyplot.legend(loc='upper right');"
   ]
  },
  {
   "cell_type": "code",
   "execution_count": 20,
   "metadata": {},
   "outputs": [],
   "source": [
    "# fig = plt.figure()\n",
    "# # ax1 = fig.add_axes([0.1, 0.5, 0.8, 0.4],\n",
    "# #                    xticklabels=[], ylim=(-1.2, 1.2))\n",
    "# plt.xlabel('Year')\n",
    "# plt.ylabel('Number of plants')\n",
    "# plt.title('FERC 1 Combustion Turbine Plants')\n",
    "\n",
    "# mpl.pyplot.hist(ct.construction_year, bins = 117, range = [1900,2016], alpha=0.5, label='Construction year')\n",
    "# mpl.pyplot.hist(ct.installation_year, bins = 117, range = [1900,2016], alpha=0.5, label='Installation year')\n",
    "# mpl.pyplot.legend(loc='upper left');"
   ]
  },
  {
   "cell_type": "code",
   "execution_count": 21,
   "metadata": {},
   "outputs": [],
   "source": [
    "# fig = plt.figure()\n",
    "# # ax1 = fig.add_axes([0.1, 0.5, 0.8, 0.4],\n",
    "# #                    xticklabels=[], ylim=(-1.2, 1.2))\n",
    "# plt.xlabel('Year')\n",
    "# plt.ylabel('Number of plants')\n",
    "# plt.title('FERC 1 Combined Cycle Plants')\n",
    "\n",
    "# mpl.pyplot.hist(cc.construction_year, bins = 117, range = [1900,2016], alpha=0.5, label='Construction year')\n",
    "# mpl.pyplot.hist(cc.installation_year, bins = 117, range = [1900,2016], alpha=0.5, label='Installation year')\n",
    "# mpl.pyplot.legend(loc='upper left');"
   ]
  },
  {
   "cell_type": "code",
   "execution_count": 22,
   "metadata": {
    "scrolled": false
   },
   "outputs": [],
   "source": [
    "# fig = plt.figure()\n",
    "# # ax1 = fig.add_axes([0.1, 0.5, 0.8, 0.4],\n",
    "# #                    xticklabels=[], ylim=(-1.2, 1.2))\n",
    "# plt.xlabel('Year')\n",
    "# plt.ylabel('Number of plants')\n",
    "# plt.title('FERC 1 Internal Combustion Plants')\n",
    "\n",
    "# mpl.pyplot.hist(ic.construction_year, bins = 117, range = [1900,2016], alpha=0.5, label='Construction year')\n",
    "# mpl.pyplot.hist(ic.installation_year, bins = 117, range = [1900,2016], alpha=0.5, label='Installation year')\n",
    "# mpl.pyplot.legend(loc='upper left');\n"
   ]
  },
  {
   "cell_type": "code",
   "execution_count": 23,
   "metadata": {},
   "outputs": [
    {
     "data": {
      "image/png": "[encoded data removed]",
      "text/plain": [
       "<Figure size 1500x900 with 1 Axes>"
      ]
     },
     "metadata": {},
     "output_type": "display_data"
    }
   ],
   "source": [
    "plt.xlabel('Installation year')\n",
    "plt.ylabel('Capacity (MW)')\n",
    "plt.title('FERC 1 Steam Plants')\n",
    "# plt.legend()\n",
    "\n",
    "mpl.pyplot.hist2d(steam_plants.installation_year, steam_plants.capacity_mw, bins=117);\n",
    "#1940 and forward, up to 3K megawatts, just steam - natural groupings?\n",
    "# install, constru, capacity, and HR then we should find groupings to work wtih."
   ]
  },
  {
   "cell_type": "code",
   "execution_count": null,
   "metadata": {},
   "outputs": [],
   "source": []
  },
  {
   "cell_type": "code",
   "execution_count": 24,
   "metadata": {},
   "outputs": [],
   "source": [
    "def ferc1_record_subsetting(df, plant_type = 'steam', year_var = 'installation_year', \n",
    "                            bin1 = 1970, bin2 = 1987, new_var = 'new_var'):\n",
    "    \"\"\" Subsets records by plant type and vintage. Creates new column for vintage.\n",
    "    Input variables:\n",
    "        'old' = year cutoff below which plants are considered 'old'\n",
    "        'new' = year cutoff above which plants are considered 'new'\n",
    "        'plant_type' = FERC 1 plant types, including: 'steam', 'combustion_turbine', 'internal_combustion', 'nuclear', 'combined_cycle', 'photovoltaic'\n",
    "        'year_var' = either 'installation_year' or 'construction_year'\n",
    "        \n",
    "        Returns data frame with new column for vintage, and subset to the specified plant types.\n",
    "        \"\"\"\n",
    "    \n",
    "    out_df = df[(df['plant_type'] == plant_type)]\n",
    "    out_df.loc[out_df[year_var] <= bin1,new_var] = 1\n",
    "    out_df.loc[(out_df[year_var] > bin1) & (out_df[year_var] <= bin2), new_var] = 2\n",
    "    out_df.loc[out_df[year_var] >= bin2, new_var] = 3\n",
    "#     out_df.new_var = out_df.new_var.as_type(int)\n",
    "\n",
    "    \n",
    "    \n",
    "    return out_df"
   ]
  },
  {
   "cell_type": "code",
   "execution_count": 25,
   "metadata": {},
   "outputs": [],
   "source": [
    "### Still need to convert 'vintage' to a categorical variable for further use"
   ]
  },
  {
   "cell_type": "code",
   "execution_count": 26,
   "metadata": {},
   "outputs": [],
   "source": [
    "new = ferc1_record_subsetting(out_df_s, new_var = 'vintage2')"
   ]
  },
  {
   "cell_type": "code",
   "execution_count": 27,
   "metadata": {},
   "outputs": [
    {
     "data": {
      "text/html": [
       "<div>\n",
       "<style scoped>\n",
       "    .dataframe tbody tr th:only-of-type {\n",
       "        vertical-align: middle;\n",
       "    }\n",
       "\n",
       "    .dataframe tbody tr th {\n",
       "        vertical-align: top;\n",
       "    }\n",
       "\n",
       "    .dataframe thead th {\n",
       "        text-align: right;\n",
       "    }\n",
       "</style>\n",
       "<table border=\"1\" class=\"dataframe\">\n",
       "  <thead>\n",
       "    <tr style=\"text-align: right;\">\n",
       "      <th></th>\n",
       "      <th>report_year</th>\n",
       "      <th>utility_id_ferc1</th>\n",
       "      <th>plant_id_ferc1</th>\n",
       "      <th>plant_name</th>\n",
       "      <th>asset_retirement_cost</th>\n",
       "      <th>avg_num_employees</th>\n",
       "      <th>capacity_factor</th>\n",
       "      <th>capacity_mw</th>\n",
       "      <th>capex_equipment</th>\n",
       "      <th>capex_land</th>\n",
       "      <th>capex_per_mw</th>\n",
       "      <th>capex_structures</th>\n",
       "      <th>capex_total</th>\n",
       "      <th>construction_type</th>\n",
       "      <th>construction_year</th>\n",
       "      <th>fuel_consumed_total_cost_mmbtu</th>\n",
       "      <th>fuel_consumed_total_cost_unit</th>\n",
       "      <th>fuel_consumed_total_mmbtu</th>\n",
       "      <th>heat_rate</th>\n",
       "      <th>id</th>\n",
       "      <th>installation_year</th>\n",
       "      <th>net_generation_mwh</th>\n",
       "      <th>not_water_limited_capacity_mw</th>\n",
       "      <th>opex_allowances</th>\n",
       "      <th>opex_boiler</th>\n",
       "      <th>opex_coolants</th>\n",
       "      <th>opex_electric</th>\n",
       "      <th>opex_engineering</th>\n",
       "      <th>opex_fuel</th>\n",
       "      <th>opex_misc_power</th>\n",
       "      <th>opex_misc_steam</th>\n",
       "      <th>opex_operations</th>\n",
       "      <th>opex_per_mwh</th>\n",
       "      <th>opex_plants</th>\n",
       "      <th>opex_production_total</th>\n",
       "      <th>opex_rents</th>\n",
       "      <th>opex_steam</th>\n",
       "      <th>opex_steam_other</th>\n",
       "      <th>opex_structures</th>\n",
       "      <th>opex_transfer</th>\n",
       "      <th>peak_demand_mw</th>\n",
       "      <th>plant_capability_mw</th>\n",
       "      <th>plant_hours_connected_while_generating</th>\n",
       "      <th>plant_id_pudl</th>\n",
       "      <th>plant_type</th>\n",
       "      <th>record_id</th>\n",
       "      <th>utility_id_pudl</th>\n",
       "      <th>utility_name_ferc1</th>\n",
       "      <th>water_limited_capacity_mw</th>\n",
       "      <th>non_fuel_costs</th>\n",
       "      <th>vintage2</th>\n",
       "    </tr>\n",
       "  </thead>\n",
       "  <tbody>\n",
       "    <tr>\n",
       "      <th>0</th>\n",
       "      <td>2004</td>\n",
       "      <td>1</td>\n",
       "      <td>3</td>\n",
       "      <td>rockport total aeg</td>\n",
       "      <td>740111.0</td>\n",
       "      <td>0.0</td>\n",
       "      <td>0.747678</td>\n",
       "      <td>1300.0</td>\n",
       "      <td>570958171.0</td>\n",
       "      <td>6546500.0</td>\n",
       "      <td>513662.0</td>\n",
       "      <td>89515817.0</td>\n",
       "      <td>667760599.0</td>\n",
       "      <td>conventional</td>\n",
       "      <td>1984.0</td>\n",
       "      <td>1.125020e+08</td>\n",
       "      <td>1.124718e+08</td>\n",
       "      <td>8.284268e+07</td>\n",
       "      <td>9.729537</td>\n",
       "      <td>3</td>\n",
       "      <td>1989.0</td>\n",
       "      <td>8514555.0</td>\n",
       "      <td>1300.0</td>\n",
       "      <td>0.0</td>\n",
       "      <td>7446770.0</td>\n",
       "      <td>0.0</td>\n",
       "      <td>1015690.0</td>\n",
       "      <td>1162047.0</td>\n",
       "      <td>112469856.0</td>\n",
       "      <td>2262724.0</td>\n",
       "      <td>527287.0</td>\n",
       "      <td>1231124.0</td>\n",
       "      <td>23.3</td>\n",
       "      <td>2493261.0</td>\n",
       "      <td>198275299.0</td>\n",
       "      <td>68283913.0</td>\n",
       "      <td>1008109.0</td>\n",
       "      <td>0.0</td>\n",
       "      <td>374518.0</td>\n",
       "      <td>0.0</td>\n",
       "      <td>1337.0</td>\n",
       "      <td>0.0</td>\n",
       "      <td>8360.0</td>\n",
       "      <td>526</td>\n",
       "      <td>steam</td>\n",
       "      <td>2004_1_0_3</td>\n",
       "      <td>7</td>\n",
       "      <td>AEP Generating Company</td>\n",
       "      <td>1300.0</td>\n",
       "      <td>85805443.0</td>\n",
       "      <td>3.0</td>\n",
       "    </tr>\n",
       "    <tr>\n",
       "      <th>1</th>\n",
       "      <td>2005</td>\n",
       "      <td>1</td>\n",
       "      <td>3</td>\n",
       "      <td>rockport total aeg</td>\n",
       "      <td>762383.0</td>\n",
       "      <td>0.0</td>\n",
       "      <td>0.787587</td>\n",
       "      <td>1300.0</td>\n",
       "      <td>571875109.0</td>\n",
       "      <td>6546500.0</td>\n",
       "      <td>516365.3</td>\n",
       "      <td>92090920.0</td>\n",
       "      <td>671274912.0</td>\n",
       "      <td>conventional</td>\n",
       "      <td>1984.0</td>\n",
       "      <td>1.400823e+08</td>\n",
       "      <td>1.400792e+08</td>\n",
       "      <td>8.658378e+07</td>\n",
       "      <td>9.653627</td>\n",
       "      <td>1306</td>\n",
       "      <td>1989.0</td>\n",
       "      <td>8969041.0</td>\n",
       "      <td>1300.0</td>\n",
       "      <td>0.0</td>\n",
       "      <td>7714498.0</td>\n",
       "      <td>0.0</td>\n",
       "      <td>1470061.0</td>\n",
       "      <td>1130802.0</td>\n",
       "      <td>140077459.0</td>\n",
       "      <td>2743595.0</td>\n",
       "      <td>646919.0</td>\n",
       "      <td>1903537.0</td>\n",
       "      <td>25.3</td>\n",
       "      <td>1439070.0</td>\n",
       "      <td>227015580.0</td>\n",
       "      <td>68283036.0</td>\n",
       "      <td>1157633.0</td>\n",
       "      <td>0.0</td>\n",
       "      <td>448970.0</td>\n",
       "      <td>0.0</td>\n",
       "      <td>1339.0</td>\n",
       "      <td>0.0</td>\n",
       "      <td>8029.0</td>\n",
       "      <td>526</td>\n",
       "      <td>steam</td>\n",
       "      <td>2005_1_0_3</td>\n",
       "      <td>7</td>\n",
       "      <td>AEP Generating Company</td>\n",
       "      <td>1300.0</td>\n",
       "      <td>86938121.0</td>\n",
       "      <td>3.0</td>\n",
       "    </tr>\n",
       "  </tbody>\n",
       "</table>\n",
       "</div>"
      ],
      "text/plain": [
       "   report_year  utility_id_ferc1  plant_id_ferc1          plant_name  \\\n",
       "0         2004                 1               3  rockport total aeg   \n",
       "1         2005                 1               3  rockport total aeg   \n",
       "\n",
       "   asset_retirement_cost  avg_num_employees  capacity_factor  capacity_mw  \\\n",
       "0               740111.0                0.0         0.747678       1300.0   \n",
       "1               762383.0                0.0         0.787587       1300.0   \n",
       "\n",
       "   capex_equipment  capex_land  capex_per_mw  capex_structures  capex_total  \\\n",
       "0      570958171.0   6546500.0      513662.0        89515817.0  667760599.0   \n",
       "1      571875109.0   6546500.0      516365.3        92090920.0  671274912.0   \n",
       "\n",
       "  construction_type  construction_year  fuel_consumed_total_cost_mmbtu  \\\n",
       "0      conventional             1984.0                    1.125020e+08   \n",
       "1      conventional             1984.0                    1.400823e+08   \n",
       "\n",
       "   fuel_consumed_total_cost_unit  fuel_consumed_total_mmbtu  heat_rate    id  \\\n",
       "0                   1.124718e+08               8.284268e+07   9.729537     3   \n",
       "1                   1.400792e+08               8.658378e+07   9.653627  1306   \n",
       "\n",
       "   installation_year  net_generation_mwh  not_water_limited_capacity_mw  \\\n",
       "0             1989.0           8514555.0                         1300.0   \n",
       "1             1989.0           8969041.0                         1300.0   \n",
       "\n",
       "   opex_allowances  opex_boiler  opex_coolants  opex_electric  \\\n",
       "0              0.0    7446770.0            0.0      1015690.0   \n",
       "1              0.0    7714498.0            0.0      1470061.0   \n",
       "\n",
       "   opex_engineering    opex_fuel  opex_misc_power  opex_misc_steam  \\\n",
       "0         1162047.0  112469856.0        2262724.0         527287.0   \n",
       "1         1130802.0  140077459.0        2743595.0         646919.0   \n",
       "\n",
       "   opex_operations  opex_per_mwh  opex_plants  opex_production_total  \\\n",
       "0        1231124.0          23.3    2493261.0            198275299.0   \n",
       "1        1903537.0          25.3    1439070.0            227015580.0   \n",
       "\n",
       "   opex_rents  opex_steam  opex_steam_other  opex_structures  opex_transfer  \\\n",
       "0  68283913.0   1008109.0               0.0         374518.0            0.0   \n",
       "1  68283036.0   1157633.0               0.0         448970.0            0.0   \n",
       "\n",
       "   peak_demand_mw  plant_capability_mw  \\\n",
       "0          1337.0                  0.0   \n",
       "1          1339.0                  0.0   \n",
       "\n",
       "   plant_hours_connected_while_generating  plant_id_pudl plant_type  \\\n",
       "0                                  8360.0            526      steam   \n",
       "1                                  8029.0            526      steam   \n",
       "\n",
       "    record_id  utility_id_pudl      utility_name_ferc1  \\\n",
       "0  2004_1_0_3                7  AEP Generating Company   \n",
       "1  2005_1_0_3                7  AEP Generating Company   \n",
       "\n",
       "   water_limited_capacity_mw  non_fuel_costs  vintage2  \n",
       "0                     1300.0      85805443.0       3.0  \n",
       "1                     1300.0      86938121.0       3.0  "
      ]
     },
     "execution_count": 27,
     "metadata": {},
     "output_type": "execute_result"
    }
   ],
   "source": [
    "new.head(2)"
   ]
  },
  {
   "cell_type": "code",
   "execution_count": 28,
   "metadata": {
    "scrolled": false
   },
   "outputs": [
    {
     "data": {
      "text/plain": [
       "<matplotlib.axes._subplots.AxesSubplot at 0x7fa3329d3a20>"
      ]
     },
     "execution_count": 28,
     "metadata": {},
     "output_type": "execute_result"
    },
    {
     "data": {
      "image/png": "[encoded data removed]",
      "text/plain": [
       "<Figure size 1500x900 with 1 Axes>"
      ]
     },
     "metadata": {},
     "output_type": "display_data"
    }
   ],
   "source": [
    "new.net_generation_mwh.hist(alpha=0.5, bins=10)"
   ]
  },
  {
   "cell_type": "markdown",
   "metadata": {},
   "source": [
    "### Manual binning of construction year, installation year, plant capacity, and net generation"
   ]
  },
  {
   "cell_type": "code",
   "execution_count": 29,
   "metadata": {},
   "outputs": [],
   "source": [
    "new['construct_bin'] = 0\n",
    "new.loc[(new['construction_year'] < 1956), 'construct_bin'] = 1\n",
    "# new.loc[(new['construction_year'] >= 1946) & (new['construction_year']< 1956), 'construct_bin'] = 2\n",
    "new.loc[(new['construction_year'] >= 1956) & (new['construction_year']< 1966), 'construct_bin'] = 3\n",
    "new.loc[(new['construction_year'] >= 1966) & (new['construction_year']< 1986), 'construct_bin'] = 4\n",
    "new.loc[new['construction_year'] >= 1986, 'construct_bin'] = 5\n",
    "new.construct_bin = new.construct_bin.astype('category')"
   ]
  },
  {
   "cell_type": "code",
   "execution_count": 30,
   "metadata": {},
   "outputs": [],
   "source": [
    "new['install_bin'] = 0\n",
    "new.loc[(new['installation_year'] < 1955), 'install_bin'] = 1\n",
    "# new.loc[(new['installation_year'] >= ) & (new['installation_year']< 1956), 'install_bin'] = 2\n",
    "new.loc[(new['installation_year'] >= 1955) & (new['installation_year']< 1966), 'install_bin'] = 3\n",
    "new.loc[(new['installation_year'] >= 1966) & (new['installation_year']< 1986), 'install_bin'] = 4\n",
    "new.loc[new['installation_year'] >= 1986, 'install_bin'] = 5\n",
    "new.install_bin = new.install_bin.astype('category')"
   ]
  },
  {
   "cell_type": "code",
   "execution_count": 31,
   "metadata": {},
   "outputs": [],
   "source": [
    "new['cap_bin'] = 0\n",
    "new.loc[(new['capacity_mw'] < 500), 'cap_bin'] = 1\n",
    "new.loc[(new['capacity_mw'] >= 500) & (new['capacity_mw']< 1000), 'cap_bin'] = 2\n",
    "new.loc[new['capacity_mw'] >= 1000, 'cap_bin'] = 3\n",
    "new.cap_bin = new.cap_bin.astype('category')"
   ]
  },
  {
   "cell_type": "code",
   "execution_count": 32,
   "metadata": {},
   "outputs": [],
   "source": [
    "new['net_gen_bin'] = 0\n",
    "new.loc[(new['net_generation_mwh'] < 1e6), 'net_gen_bin'] = 1\n",
    "new.loc[(new['net_generation_mwh'] >= 1e6) & (new['net_generation_mwh']< 4e6), 'net_gen_bin'] = 2\n",
    "new.loc[new['net_generation_mwh'] >= 4e6, 'net_gen_bin'] = 3\n",
    "new.net_gen_bin = new.net_gen_bin.astype('category')"
   ]
  },
  {
   "cell_type": "markdown",
   "metadata": {},
   "source": [
    "## Regressions using binned/unbinned fields"
   ]
  },
  {
   "cell_type": "code",
   "execution_count": 33,
   "metadata": {},
   "outputs": [
    {
     "name": "stdout",
     "output_type": "stream",
     "text": [
      "                            OLS Regression Results                            \n",
      "==============================================================================\n",
      "Dep. Variable:         non_fuel_costs   R-squared:                       0.580\n",
      "Model:                            OLS   Adj. R-squared:                  0.579\n",
      "Method:                 Least Squares   F-statistic:                     705.5\n",
      "Date:                Mon, 04 Feb 2019   Prob (F-statistic):               0.00\n",
      "Time:                        12:48:36   Log-Likelihood:                -92982.\n",
      "No. Observations:                5116   AIC:                         1.860e+05\n",
      "Df Residuals:                    5105   BIC:                         1.861e+05\n",
      "Df Model:                          10                                         \n",
      "Covariance Type:            nonrobust                                         \n",
      "=========================================================================================\n",
      "                            coef    std err          t      P>|t|      [0.025      0.975]\n",
      "-----------------------------------------------------------------------------------------\n",
      "Intercept              3.014e+06   5.03e+06      0.600      0.549   -6.84e+06    1.29e+07\n",
      "C(construct_bin)[T.1]   4.26e+06   5.15e+06      0.827      0.409   -5.84e+06    1.44e+07\n",
      "C(construct_bin)[T.3]  2.699e+06   5.15e+06      0.524      0.600    -7.4e+06    1.28e+07\n",
      "C(construct_bin)[T.4]  1.688e+06    5.1e+06      0.331      0.740    -8.3e+06    1.17e+07\n",
      "C(construct_bin)[T.5] -7.661e+06   5.13e+06     -1.494      0.135   -1.77e+07    2.39e+06\n",
      "C(install_bin)[T.1]   -6.208e+06   2.69e+06     -2.304      0.021   -1.15e+07   -9.26e+05\n",
      "C(install_bin)[T.3]   -3.743e+06   2.52e+06     -1.483      0.138   -8.69e+06     1.2e+06\n",
      "C(install_bin)[T.4]   -6.994e+06   2.38e+06     -2.935      0.003   -1.17e+07   -2.32e+06\n",
      "C(install_bin)[T.5]    1.123e+07   2.48e+06      4.532      0.000    6.37e+06    1.61e+07\n",
      "net_generation_mwh        3.2538      0.149     21.909      0.000       2.963       3.545\n",
      "capacity_mw            1.827e+04    842.442     21.685      0.000    1.66e+04    1.99e+04\n",
      "==============================================================================\n",
      "Omnibus:                     6512.388   Durbin-Watson:                   0.490\n",
      "Prob(Omnibus):                  0.000   Jarque-Bera (JB):          1996847.570\n",
      "Skew:                           6.746   Prob(JB):                         0.00\n",
      "Kurtosis:                      98.841   Cond. No.                     1.87e+08\n",
      "==============================================================================\n",
      "\n",
      "Warnings:\n",
      "[1] Standard Errors assume that the covariance matrix of the errors is correctly specified.\n",
      "[2] The condition number is large, 1.87e+08. This might indicate that there are\n",
      "strong multicollinearity or other numerical problems.\n"
     ]
    }
   ],
   "source": [
    "# Some variables treated as categorical\n",
    "res = sm.OLS.from_formula(formula='non_fuel_costs ~ net_generation_mwh + capacity_mw + C(construct_bin) +  C(install_bin)', data=new).fit()\n",
    "# print(res.params)\n",
    "print(res.summary())\n"
   ]
  },
  {
   "cell_type": "code",
   "execution_count": 34,
   "metadata": {},
   "outputs": [
    {
     "name": "stdout",
     "output_type": "stream",
     "text": [
      "                            OLS Regression Results                            \n",
      "==============================================================================\n",
      "Dep. Variable:         non_fuel_costs   R-squared:                       0.559\n",
      "Model:                            OLS   Adj. R-squared:                  0.558\n",
      "Method:                 Least Squares   F-statistic:                     588.8\n",
      "Date:                Mon, 04 Feb 2019   Prob (F-statistic):               0.00\n",
      "Time:                        12:48:36   Log-Likelihood:                -93106.\n",
      "No. Observations:                5116   AIC:                         1.862e+05\n",
      "Df Residuals:                    5104   BIC:                         1.863e+05\n",
      "Df Model:                          11                                         \n",
      "Covariance Type:            nonrobust                                         \n",
      "=========================================================================================\n",
      "                            coef    std err          t      P>|t|      [0.025      0.975]\n",
      "-----------------------------------------------------------------------------------------\n",
      "Intercept             -9.596e+05   5.15e+06     -0.186      0.852   -1.11e+07    9.14e+06\n",
      "C(net_gen_bin)[T.2]    4.043e+06   6.64e+05      6.092      0.000    2.74e+06    5.34e+06\n",
      "C(net_gen_bin)[T.3]    1.586e+07   1.09e+06     14.602      0.000    1.37e+07     1.8e+07\n",
      "C(construct_bin)[T.1]  3.664e+06   5.29e+06      0.693      0.488    -6.7e+06     1.4e+07\n",
      "C(construct_bin)[T.3]  2.429e+06   5.29e+06      0.460      0.646   -7.93e+06    1.28e+07\n",
      "C(construct_bin)[T.4]  4.403e+06   5.23e+06      0.842      0.400   -5.84e+06    1.47e+07\n",
      "C(construct_bin)[T.5] -5.698e+06   5.26e+06     -1.082      0.279    -1.6e+07    4.62e+06\n",
      "C(install_bin)[T.1]   -2.239e+06   2.76e+06     -0.810      0.418   -7.66e+06    3.18e+06\n",
      "C(install_bin)[T.3]   -8.356e+05   2.58e+06     -0.323      0.746    -5.9e+06    4.23e+06\n",
      "C(install_bin)[T.4]   -6.595e+06   2.44e+06     -2.701      0.007   -1.14e+07   -1.81e+06\n",
      "C(install_bin)[T.5]    1.291e+07   2.54e+06      5.086      0.000    7.93e+06    1.79e+07\n",
      "capacity_mw            2.706e+04    656.962     41.188      0.000    2.58e+04    2.83e+04\n",
      "==============================================================================\n",
      "Omnibus:                     6164.705   Durbin-Watson:                   0.468\n",
      "Prob(Omnibus):                  0.000   Jarque-Bera (JB):          1401519.385\n",
      "Skew:                           6.186   Prob(JB):                         0.00\n",
      "Kurtosis:                      83.136   Cond. No.                     3.65e+04\n",
      "==============================================================================\n",
      "\n",
      "Warnings:\n",
      "[1] Standard Errors assume that the covariance matrix of the errors is correctly specified.\n",
      "[2] The condition number is large, 3.65e+04. This might indicate that there are\n",
      "strong multicollinearity or other numerical problems.\n"
     ]
    }
   ],
   "source": [
    "# Some variables treated as categorical\n",
    "res = sm.OLS.from_formula(formula='non_fuel_costs ~ C(net_gen_bin) + capacity_mw + C(construct_bin) +  C(install_bin)', data=new).fit()\n",
    "# print(res.params)\n",
    "print(res.summary())"
   ]
  },
  {
   "cell_type": "code",
   "execution_count": 35,
   "metadata": {},
   "outputs": [
    {
     "name": "stdout",
     "output_type": "stream",
     "text": [
      "                            OLS Regression Results                            \n",
      "==============================================================================\n",
      "Dep. Variable:         non_fuel_costs   R-squared:                       0.568\n",
      "Model:                            OLS   Adj. R-squared:                  0.567\n",
      "Method:                 Least Squares   F-statistic:                     610.7\n",
      "Date:                Mon, 04 Feb 2019   Prob (F-statistic):               0.00\n",
      "Time:                        12:48:36   Log-Likelihood:                -93053.\n",
      "No. Observations:                5116   AIC:                         1.861e+05\n",
      "Df Residuals:                    5104   BIC:                         1.862e+05\n",
      "Df Model:                          11                                         \n",
      "Covariance Type:            nonrobust                                         \n",
      "=========================================================================================\n",
      "                            coef    std err          t      P>|t|      [0.025      0.975]\n",
      "-----------------------------------------------------------------------------------------\n",
      "Intercept              2.123e+06    5.1e+06      0.416      0.677   -7.87e+06    1.21e+07\n",
      "C(cap_bin)[T.2]        5.046e+06   7.43e+05      6.788      0.000    3.59e+06     6.5e+06\n",
      "C(cap_bin)[T.3]        1.854e+07   1.05e+06     17.731      0.000    1.65e+07    2.06e+07\n",
      "C(construct_bin)[T.1]  9.154e+06   5.23e+06      1.751      0.080   -1.09e+06    1.94e+07\n",
      "C(construct_bin)[T.3]  7.075e+06   5.23e+06      1.354      0.176   -3.17e+06    1.73e+07\n",
      "C(construct_bin)[T.4]  5.294e+06   5.17e+06      1.023      0.306   -4.85e+06    1.54e+07\n",
      "C(construct_bin)[T.5]  -4.03e+06   5.21e+06     -0.773      0.439   -1.42e+07    6.18e+06\n",
      "C(install_bin)[T.1]   -7.921e+06   2.73e+06     -2.896      0.004   -1.33e+07   -2.56e+06\n",
      "C(install_bin)[T.3]   -4.938e+06   2.56e+06     -1.929      0.054   -9.96e+06    7.98e+04\n",
      "C(install_bin)[T.4]   -6.768e+06   2.42e+06     -2.801      0.005   -1.15e+07   -2.03e+06\n",
      "C(install_bin)[T.5]     1.09e+07   2.51e+06      4.336      0.000    5.97e+06    1.58e+07\n",
      "net_generation_mwh        4.5202      0.115     39.149      0.000       4.294       4.747\n",
      "==============================================================================\n",
      "Omnibus:                     6366.117   Durbin-Watson:                   0.516\n",
      "Prob(Omnibus):                  0.000   Jarque-Bera (JB):          1781479.126\n",
      "Skew:                           6.490   Prob(JB):                         0.00\n",
      "Kurtosis:                      93.492   Cond. No.                     1.87e+08\n",
      "==============================================================================\n",
      "\n",
      "Warnings:\n",
      "[1] Standard Errors assume that the covariance matrix of the errors is correctly specified.\n",
      "[2] The condition number is large, 1.87e+08. This might indicate that there are\n",
      "strong multicollinearity or other numerical problems.\n"
     ]
    }
   ],
   "source": [
    "# Some variables treated as categorical\n",
    "res = sm.OLS.from_formula(formula='non_fuel_costs ~ net_generation_mwh + C(cap_bin) + C(construct_bin) +  C(install_bin)', data=new).fit()\n",
    "# print(res.params)\n",
    "print(res.summary())"
   ]
  },
  {
   "cell_type": "code",
   "execution_count": 36,
   "metadata": {
    "scrolled": false
   },
   "outputs": [
    {
     "name": "stdout",
     "output_type": "stream",
     "text": [
      "                            OLS Regression Results                            \n",
      "==============================================================================\n",
      "Dep. Variable:         non_fuel_costs   R-squared:                       0.566\n",
      "Model:                            OLS   Adj. R-squared:                  0.565\n",
      "Method:                 Least Squares   F-statistic:                     1638.\n",
      "Date:                Mon, 04 Feb 2019   Prob (F-statistic):               0.00\n",
      "Time:                        12:48:36   Log-Likelihood:                -91634.\n",
      "No. Observations:                5038   AIC:                         1.833e+05\n",
      "Df Residuals:                    5033   BIC:                         1.833e+05\n",
      "Df Model:                           4                                         \n",
      "Covariance Type:            nonrobust                                         \n",
      "======================================================================================\n",
      "                         coef    std err          t      P>|t|      [0.025      0.975]\n",
      "--------------------------------------------------------------------------------------\n",
      "Intercept          -1.633e+08   4.13e+07     -3.951      0.000   -2.44e+08   -8.23e+07\n",
      "capacity_mw         1.719e+04    828.972     20.734      0.000    1.56e+04    1.88e+04\n",
      "net_generation_mwh     3.3542      0.147     22.841      0.000       3.066       3.642\n",
      "construction_year  -2.737e+04   2.42e+04     -1.131      0.258   -7.48e+04    2.01e+04\n",
      "installation_year   1.107e+05   3.27e+04      3.386      0.001    4.66e+04    1.75e+05\n",
      "==============================================================================\n",
      "Omnibus:                     6347.561   Durbin-Watson:                   0.456\n",
      "Prob(Omnibus):                  0.000   Jarque-Bera (JB):          1772468.704\n",
      "Skew:                           6.650   Prob(JB):                         0.00\n",
      "Kurtosis:                      93.922   Cond. No.                     6.81e+08\n",
      "==============================================================================\n",
      "\n",
      "Warnings:\n",
      "[1] Standard Errors assume that the covariance matrix of the errors is correctly specified.\n",
      "[2] The condition number is large, 6.81e+08. This might indicate that there are\n",
      "strong multicollinearity or other numerical problems.\n"
     ]
    }
   ],
   "source": [
    "# All variables treated as continuous\n",
    "res = sm.OLS.from_formula('non_fuel_costs ~ capacity_mw + net_generation_mwh + construction_year + installation_year', new).fit()\n",
    "print(res.summary())"
   ]
  },
  {
   "cell_type": "markdown",
   "metadata": {},
   "source": [
    "# Further/future regression exlorations"
   ]
  },
  {
   "cell_type": "code",
   "execution_count": 37,
   "metadata": {},
   "outputs": [
    {
     "name": "stderr",
     "output_type": "stream",
     "text": [
      "/home/alana/anaconda3/lib/python3.6/site-packages/numpy/core/fromnumeric.py:2223: FutureWarning: Method .ptp is deprecated and will be removed in a future version. Use numpy.ptp instead.\n",
      "  return ptp(axis=axis, out=out, **kwargs)\n"
     ]
    },
    {
     "data": {
      "text/html": [
       "<table class=\"simpletable\">\n",
       "<caption>OLS Regression Results</caption>\n",
       "<tr>\n",
       "  <th>Dep. Variable:</th>     <td>non_fuel_costs</td>  <th>  R-squared:         </th> <td>   0.555</td> \n",
       "</tr>\n",
       "<tr>\n",
       "  <th>Model:</th>                   <td>OLS</td>       <th>  Adj. R-squared:    </th> <td>   0.555</td> \n",
       "</tr>\n",
       "<tr>\n",
       "  <th>Method:</th>             <td>Least Squares</td>  <th>  F-statistic:       </th> <td>   3189.</td> \n",
       "</tr>\n",
       "<tr>\n",
       "  <th>Date:</th>             <td>Mon, 04 Feb 2019</td> <th>  Prob (F-statistic):</th>  <td>  0.00</td>  \n",
       "</tr>\n",
       "<tr>\n",
       "  <th>Time:</th>                 <td>12:48:36</td>     <th>  Log-Likelihood:    </th> <td> -93130.</td> \n",
       "</tr>\n",
       "<tr>\n",
       "  <th>No. Observations:</th>      <td>  5116</td>      <th>  AIC:               </th> <td>1.863e+05</td>\n",
       "</tr>\n",
       "<tr>\n",
       "  <th>Df Residuals:</th>          <td>  5113</td>      <th>  BIC:               </th> <td>1.863e+05</td>\n",
       "</tr>\n",
       "<tr>\n",
       "  <th>Df Model:</th>              <td>     2</td>      <th>                     </th>     <td> </td>    \n",
       "</tr>\n",
       "<tr>\n",
       "  <th>Covariance Type:</th>      <td>nonrobust</td>    <th>                     </th>     <td> </td>    \n",
       "</tr>\n",
       "</table>\n",
       "<table class=\"simpletable\">\n",
       "<tr>\n",
       "           <td></td>             <th>coef</th>     <th>std err</th>      <th>t</th>      <th>P>|t|</th>  <th>[0.025</th>    <th>0.975]</th>  \n",
       "</tr>\n",
       "<tr>\n",
       "  <th>const</th>              <td> 1.251e+06</td> <td> 3.83e+05</td> <td>    3.270</td> <td> 0.001</td> <td> 5.01e+05</td> <td>    2e+06</td>\n",
       "</tr>\n",
       "<tr>\n",
       "  <th>capacity_mw</th>        <td> 1.734e+04</td> <td>  829.941</td> <td>   20.890</td> <td> 0.000</td> <td> 1.57e+04</td> <td>  1.9e+04</td>\n",
       "</tr>\n",
       "<tr>\n",
       "  <th>net_generation_mwh</th> <td>    3.3941</td> <td>    0.146</td> <td>   23.203</td> <td> 0.000</td> <td>    3.107</td> <td>    3.681</td>\n",
       "</tr>\n",
       "</table>\n",
       "<table class=\"simpletable\">\n",
       "<tr>\n",
       "  <th>Omnibus:</th>       <td>6565.843</td> <th>  Durbin-Watson:     </th>  <td>   0.444</td>  \n",
       "</tr>\n",
       "<tr>\n",
       "  <th>Prob(Omnibus):</th>  <td> 0.000</td>  <th>  Jarque-Bera (JB):  </th> <td>1902946.705</td>\n",
       "</tr>\n",
       "<tr>\n",
       "  <th>Skew:</th>           <td> 6.882</td>  <th>  Prob(JB):          </th>  <td>    0.00</td>  \n",
       "</tr>\n",
       "<tr>\n",
       "  <th>Kurtosis:</th>       <td>96.475</td>  <th>  Cond. No.          </th>  <td>6.22e+06</td>  \n",
       "</tr>\n",
       "</table><br/><br/>Warnings:<br/>[1] Standard Errors assume that the covariance matrix of the errors is correctly specified.<br/>[2] The condition number is large, 6.22e+06. This might indicate that there are<br/>strong multicollinearity or other numerical problems."
      ],
      "text/plain": [
       "<class 'statsmodels.iolib.summary.Summary'>\n",
       "\"\"\"\n",
       "                            OLS Regression Results                            \n",
       "==============================================================================\n",
       "Dep. Variable:         non_fuel_costs   R-squared:                       0.555\n",
       "Model:                            OLS   Adj. R-squared:                  0.555\n",
       "Method:                 Least Squares   F-statistic:                     3189.\n",
       "Date:                Mon, 04 Feb 2019   Prob (F-statistic):               0.00\n",
       "Time:                        12:48:36   Log-Likelihood:                -93130.\n",
       "No. Observations:                5116   AIC:                         1.863e+05\n",
       "Df Residuals:                    5113   BIC:                         1.863e+05\n",
       "Df Model:                           2                                         \n",
       "Covariance Type:            nonrobust                                         \n",
       "======================================================================================\n",
       "                         coef    std err          t      P>|t|      [0.025      0.975]\n",
       "--------------------------------------------------------------------------------------\n",
       "const               1.251e+06   3.83e+05      3.270      0.001    5.01e+05       2e+06\n",
       "capacity_mw         1.734e+04    829.941     20.890      0.000    1.57e+04     1.9e+04\n",
       "net_generation_mwh     3.3941      0.146     23.203      0.000       3.107       3.681\n",
       "==============================================================================\n",
       "Omnibus:                     6565.843   Durbin-Watson:                   0.444\n",
       "Prob(Omnibus):                  0.000   Jarque-Bera (JB):          1902946.705\n",
       "Skew:                           6.882   Prob(JB):                         0.00\n",
       "Kurtosis:                      96.475   Cond. No.                     6.22e+06\n",
       "==============================================================================\n",
       "\n",
       "Warnings:\n",
       "[1] Standard Errors assume that the covariance matrix of the errors is correctly specified.\n",
       "[2] The condition number is large, 6.22e+06. This might indicate that there are\n",
       "strong multicollinearity or other numerical problems.\n",
       "\"\"\""
      ]
     },
     "execution_count": 37,
     "metadata": {},
     "output_type": "execute_result"
    }
   ],
   "source": [
    "# Set up variables for OLS regression \n",
    "\n",
    "# X = new[[\"net_generation_mwh\", \"heat_rate\"]]\n",
    "X = new[[\"capacity_mw\", \"net_generation_mwh\"]]\n",
    "# X = new[[\"non_fuel_costs\"]]\n",
    "# X = new[[\"expns_fuel\"]]\n",
    "\n",
    "# y = new[\"opex_fuel\"]\n",
    "y = new[[\"non_fuel_costs\"]]\n",
    "# y = new[[\"net_generation_mwh\"]]\n",
    "\n",
    "\n",
    "X = sm.add_constant(X) ## add an intercept\n",
    "\n",
    "model = sm.OLS(y, X).fit()\n",
    "predictions = model.predict(X) # make the predictions by the model\n",
    "\n",
    "# Print out the statistics\n",
    "model.summary()"
   ]
  },
  {
   "cell_type": "code",
   "execution_count": 38,
   "metadata": {},
   "outputs": [
    {
     "data": {
      "text/plain": [
       "0.5550672221213224"
      ]
     },
     "execution_count": 38,
     "metadata": {},
     "output_type": "execute_result"
    }
   ],
   "source": [
    "# Use sklearn linear_model to fit the same regression\n",
    "lm = linear_model.LinearRegression()\n",
    "model = lm.fit(X,y)\n",
    "predictions = lm.predict(X)\n",
    "# print(predictions)[0:5]\n",
    "lm.score(X,y)"
   ]
  },
  {
   "cell_type": "code",
   "execution_count": 39,
   "metadata": {},
   "outputs": [
    {
     "data": {
      "text/plain": [
       "LinregressResult(slope=5.7927750742455215, intercept=2779380.463638164, rvalue=0.7092394389659693, pvalue=0.0, stderr=0.056057891675070165)"
      ]
     },
     "execution_count": 39,
     "metadata": {},
     "output_type": "execute_result"
    }
   ],
   "source": [
    "scipy.stats.linregress(out_df.net_generation_mwh, out_df.non_fuel_costs)"
   ]
  },
  {
   "cell_type": "code",
   "execution_count": 40,
   "metadata": {},
   "outputs": [],
   "source": [
    "# numpy.polyfit(ferc1_training_steam.net_generation, ferc1_training_steam.expns_fuel, 1)"
   ]
  },
  {
   "cell_type": "code",
   "execution_count": 41,
   "metadata": {},
   "outputs": [],
   "source": [
    "from sklearn.linear_model import LinearRegression, Lasso, Ridge, ElasticNet, SGDRegressor\n",
    "from sklearn.model_selection import train_test_split"
   ]
  },
  {
   "cell_type": "code",
   "execution_count": 42,
   "metadata": {},
   "outputs": [],
   "source": [
    "x = out_df.net_generation_mwh\n",
    "y = out_df.non_fuel_costs\n",
    "x_reshape = out_df_s.net_generation_mwh.values.reshape(-1,1)\n",
    "y_reshape = out_df_s.non_fuel_costs.values.reshape(-1,1)"
   ]
  },
  {
   "cell_type": "code",
   "execution_count": 43,
   "metadata": {
    "scrolled": false
   },
   "outputs": [],
   "source": [
    "# intercept, slope, corr_coeff = plot_linear_regression(x_reshape, y_reshape)\n",
    "# plt.show()\n"
   ]
  },
  {
   "cell_type": "code",
   "execution_count": 44,
   "metadata": {},
   "outputs": [
    {
     "data": {
      "text/plain": [
       "Text(0, 0.5, 'non-fuel costs')"
      ]
     },
     "execution_count": 44,
     "metadata": {},
     "output_type": "execute_result"
    },
    {
     "data": {
      "image/png": "[encoded data removed]",
      "text/plain": [
       "<Figure size 1500x900 with 1 Axes>"
      ]
     },
     "metadata": {},
     "output_type": "display_data"
    }
   ],
   "source": [
    "plt.plot(x,y,'.')\n",
    "plt.title('FERC 1 steam records')\n",
    "plt.xlabel('net generation (mwh)')\n",
    "plt.ylabel('non-fuel costs')"
   ]
  },
  {
   "cell_type": "code",
   "execution_count": 45,
   "metadata": {},
   "outputs": [],
   "source": [
    "### Exploration of other approaches..."
   ]
  },
  {
   "cell_type": "code",
   "execution_count": 46,
   "metadata": {},
   "outputs": [],
   "source": [
    "x_train, x_test, y_train, y_test = train_test_split(x, y, test_size= 0.2, random_state=0)"
   ]
  },
  {
   "cell_type": "code",
   "execution_count": 47,
   "metadata": {},
   "outputs": [],
   "source": [
    "x_train= x_train.values.reshape(-1, 1)\n",
    "y_train= y_train.values.reshape(-1, 1)\n",
    "x_test = x_test.values.reshape(-1, 1)"
   ]
  },
  {
   "cell_type": "code",
   "execution_count": null,
   "metadata": {},
   "outputs": [],
   "source": []
  },
  {
   "cell_type": "code",
   "execution_count": 48,
   "metadata": {},
   "outputs": [],
   "source": [
    "ridge = Ridge(fit_intercept=True, alpha=0.5)"
   ]
  },
  {
   "cell_type": "code",
   "execution_count": 49,
   "metadata": {},
   "outputs": [
    {
     "data": {
      "text/plain": [
       "Ridge(alpha=0.5, copy_X=True, fit_intercept=True, max_iter=None,\n",
       "   normalize=False, random_state=None, solver='auto', tol=0.001)"
      ]
     },
     "execution_count": 49,
     "metadata": {},
     "output_type": "execute_result"
    }
   ],
   "source": [
    "ridge.fit(x_reshape,y_reshape)"
   ]
  },
  {
   "cell_type": "code",
   "execution_count": null,
   "metadata": {},
   "outputs": [],
   "source": []
  },
  {
   "cell_type": "code",
   "execution_count": 50,
   "metadata": {},
   "outputs": [
    {
     "data": {
      "text/plain": [
       "Ridge(alpha=1.0, copy_X=True, fit_intercept=True, max_iter=None,\n",
       "   normalize=False, random_state=None, solver='auto', tol=0.001)"
      ]
     },
     "execution_count": 50,
     "metadata": {},
     "output_type": "execute_result"
    }
   ],
   "source": [
    "sklearn.linear_model.Ridge(alpha=1.0, fit_intercept=True, normalize=False, copy_X=True, max_iter=None, tol=0.001, solver='auto', random_state=None)\n",
    "# ferc1_training_steam.net_generation_mwh, ferc1_training_steam.non_fuel_costs)"
   ]
  },
  {
   "cell_type": "code",
   "execution_count": 51,
   "metadata": {},
   "outputs": [
    {
     "data": {
      "text/plain": [
       "Ridge(alpha=1, copy_X=True, fit_intercept=True, max_iter=None,\n",
       "   normalize=False, random_state=None, solver='auto', tol=0.001)"
      ]
     },
     "execution_count": 51,
     "metadata": {},
     "output_type": "execute_result"
    }
   ],
   "source": [
    "clf = sklearn.linear_model.Ridge(alpha=1)\n",
    "clf = sklearn.linear_model.Ridge(alpha=1, copy_X=True, fit_intercept=True, max_iter=None, normalize=False, random_state=None, solver='auto', tol=0.001)\n",
    "\n",
    "clf.fit(x_reshape, y_reshape)\n",
    "# Ridge(alpha=1, copy_X=True, fit_intercept=True, max_iter=None,normalize=False, random_state=None, solver='auto', tol=0.001)"
   ]
  },
  {
   "cell_type": "code",
   "execution_count": 52,
   "metadata": {},
   "outputs": [],
   "source": [
    "result = clf.fit(x_reshape, y_reshape, sample_weight=None)"
   ]
  },
  {
   "cell_type": "code",
   "execution_count": 53,
   "metadata": {},
   "outputs": [
    {
     "data": {
      "text/plain": [
       "0.5170931615709048"
      ]
     },
     "execution_count": 53,
     "metadata": {},
     "output_type": "execute_result"
    }
   ],
   "source": [
    "clf.score(x_reshape,y_reshape)"
   ]
  },
  {
   "cell_type": "code",
   "execution_count": 54,
   "metadata": {},
   "outputs": [
    {
     "data": {
      "text/plain": [
       "{'alpha': 1,\n",
       " 'copy_X': True,\n",
       " 'fit_intercept': True,\n",
       " 'max_iter': None,\n",
       " 'normalize': False,\n",
       " 'random_state': None,\n",
       " 'solver': 'auto',\n",
       " 'tol': 0.001}"
      ]
     },
     "execution_count": 54,
     "metadata": {},
     "output_type": "execute_result"
    }
   ],
   "source": [
    "result.get_params()"
   ]
  }
 ],
 "metadata": {
  "kernelspec": {
   "display_name": "Python 3",
   "language": "python",
   "name": "python3"
  },
  "language_info": {
   "codemirror_mode": {
    "name": "ipython",
    "version": 3
   },
   "file_extension": ".py",
   "mimetype": "text/x-python",
   "name": "python",
   "nbconvert_exporter": "python",
   "pygments_lexer": "ipython3",
   "version": "3.6.8"
  }
 },
 "nbformat": 4,
 "nbformat_minor": 2
}
