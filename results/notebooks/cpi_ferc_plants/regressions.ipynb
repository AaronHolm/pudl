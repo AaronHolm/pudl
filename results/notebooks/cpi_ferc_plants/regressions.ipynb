{
 "cells": [
  {
   "cell_type": "markdown",
   "metadata": {},
   "source": [
    "## Regression Outline\n",
    "We have a set of manually categorized FERC plants with which to test the sklearn Classifier that we're making. We'll also use them to test the regression analysis here. What does this dataset look like, how was it created?\n",
    "* Pull FERC Plants table.\n",
    "* Using a variety of search methods, to ensure that we get a wide variety of plants, identify sets of records in the FERC Form 1 Plants table that are comparable inter-year records.\n",
    "\n",
    "\n",
    "For regressions, both OLS and sklearn approaches are explored.  Plant generation is normalized by using capacity factor."
   ]
  },
  {
   "cell_type": "code",
   "execution_count": 1,
   "metadata": {},
   "outputs": [],
   "source": [
    "%load_ext autoreload\n",
    "%autoreload 2"
   ]
  },
  {
   "cell_type": "code",
   "execution_count": 2,
   "metadata": {},
   "outputs": [],
   "source": [
    "import sys\n",
    "import os\n",
    "import numpy as np\n",
    "\n",
    "import scipy\n",
    "import pandas as pd\n",
    "import statsmodels.api as sm\n",
    "import sklearn\n",
    "from sklearn import linear_model\n",
    "sys.path.append(os.path.abspath(os.path.join('..','..','..')))\n",
    "from pudl import init, analysis, settings, output\n",
    "import pudl.extract.ferc1\n",
    "import pudl.transform.ferc1\n",
    "import pudl.constants as pc\n",
    "import pudl.output.pudltabl\n",
    "import pudl.analysis.analysis\n",
    "import matplotlib.pyplot as plt\n",
    "import matplotlib as mpl\n",
    "from mlxtend.plotting import plot_linear_regression\n",
    "\n",
    "%matplotlib inline"
   ]
  },
  {
   "cell_type": "code",
   "execution_count": 3,
   "metadata": {},
   "outputs": [],
   "source": [
    "# For some reason these things don't stick if they're in the same cell as the\n",
    "# %matplotlib inline call above, but if they're separate, they work fine.\n",
    "plt.style.use('ggplot')\n",
    "mpl.rcParams['figure.figsize'] = (10,6)\n",
    "mpl.rcParams['figure.dpi'] = 150\n",
    "pd.options.display.max_columns = 56"
   ]
  },
  {
   "cell_type": "code",
   "execution_count": 4,
   "metadata": {},
   "outputs": [],
   "source": [
    "pudl_out = pudl.output.pudltabl.PudlTabl()\n",
    "ferc1_fuel = pudl_out.fuel_ferc1()\n",
    "ferc1_steam = pudl_out.plants_steam_ferc1()"
   ]
  },
  {
   "cell_type": "code",
   "execution_count": 5,
   "metadata": {},
   "outputs": [],
   "source": [
    "def ferc1_aggregate_by_fuel_type(df, fuels = ['gas', 'oil', 'coal']):\n",
    "    ''' \n",
    "    Aggregate FERC 1 data by fuel type and plant per year.\n",
    "    \n",
    "    Inputs: \n",
    "    df is cleaned FERC 1 fuel table\n",
    "    fuels is list of fuels of interest to aggregate\n",
    "    \n",
    "    Returns dataframe of aggregated fuel consumed and fuel costs'''\n",
    "    \n",
    "    fuel_df = df[df['fuel_type_code_pudl'].isin(fuels)]\n",
    "    \n",
    "    # We have two different ways of assessing the total cost of fuel given cost\n",
    "    # per unit delivered and cost per mmbtu. They *should* be the same, but we\n",
    "    # know they aren't always. Calculate both so we can compare both.\n",
    "    fuel_df['fuel_consumed_total_mmbtu'] = \\\n",
    "        fuel_df['fuel_qty_burned'] * fuel_df['fuel_mmbtu_per_unit'] # same as total heat content\n",
    "    fuel_df['fuel_consumed_total_cost_mmbtu'] = \\\n",
    "        fuel_df['fuel_cost_per_mmbtu'] * fuel_df['fuel_consumed_total_mmbtu']\n",
    "    fuel_df['fuel_consumed_total_cost_unit'] = \\\n",
    "        fuel_df['fuel_cost_per_unit_burned'] * fuel_df['fuel_qty_burned']\n",
    "\n",
    "\n",
    "    # Group by fuel as well, so we get individual fuel totals.\n",
    "    cols_to_gb = ['plant_id_ferc1', 'report_year', 'fuel_type_code_pudl']\n",
    "    cols=['fuel_consumed_total_mmbtu',\n",
    "                                 'fuel_consumed_total_cost_mmbtu',\n",
    "                                 'fuel_consumed_total_cost_unit']\n",
    "\n",
    "    fuel_df = fuel_df.groupby(cols_to_gb)[cols].sum()\n",
    "    fuel_df = fuel_df.reset_index()\n",
    "    \n",
    "    # Group by plant, so we get total fuel use/cost.\n",
    "    cols_to_gb = ['plant_id_ferc1', 'report_year']\n",
    "    cols=['fuel_consumed_total_mmbtu',\n",
    "                                 'fuel_consumed_total_cost_mmbtu',\n",
    "                                 'fuel_consumed_total_cost_unit'] \n",
    "\n",
    "\n",
    "    fuel_df_plant = fuel_df.groupby(cols_to_gb)[cols].sum()\n",
    "    fuel_df_plant = fuel_df_plant.reset_index()\n",
    "    \n",
    "    return fuel_df_plant"
   ]
  },
  {
   "cell_type": "code",
   "execution_count": 6,
   "metadata": {},
   "outputs": [
    {
     "name": "stderr",
     "output_type": "stream",
     "text": [
      "/home/alana/anaconda3/lib/python3.6/site-packages/ipykernel_launcher.py:16: SettingWithCopyWarning: \n",
      "A value is trying to be set on a copy of a slice from a DataFrame.\n",
      "Try using .loc[row_indexer,col_indexer] = value instead\n",
      "\n",
      "See the caveats in the documentation: http://pandas.pydata.org/pandas-docs/stable/indexing.html#indexing-view-versus-copy\n",
      "  app.launch_new_instance()\n",
      "/home/alana/anaconda3/lib/python3.6/site-packages/ipykernel_launcher.py:17: SettingWithCopyWarning: \n",
      "A value is trying to be set on a copy of a slice from a DataFrame.\n",
      "Try using .loc[row_indexer,col_indexer] = value instead\n",
      "\n",
      "See the caveats in the documentation: http://pandas.pydata.org/pandas-docs/stable/indexing.html#indexing-view-versus-copy\n",
      "/home/alana/anaconda3/lib/python3.6/site-packages/ipykernel_launcher.py:18: SettingWithCopyWarning: \n",
      "A value is trying to be set on a copy of a slice from a DataFrame.\n",
      "Try using .loc[row_indexer,col_indexer] = value instead\n",
      "\n",
      "See the caveats in the documentation: http://pandas.pydata.org/pandas-docs/stable/indexing.html#indexing-view-versus-copy\n"
     ]
    }
   ],
   "source": [
    "fuel_df_plant = ferc1_aggregate_by_fuel_type(ferc1_fuel)"
   ]
  },
  {
   "cell_type": "code",
   "execution_count": 7,
   "metadata": {},
   "outputs": [],
   "source": [
    "# diff = fuel_df_plant.fuel_consumed_total_cost_mmbtu - fuel_df_plant.fuel_consumed_total_cost_unit\n",
    "# Max difference in costs is on the order of 1e+9; median is 4e-1; \n",
    "# Could use this calculation comparison to eliminate, or further investigate, outliers."
   ]
  },
  {
   "cell_type": "code",
   "execution_count": 8,
   "metadata": {},
   "outputs": [],
   "source": [
    "out_df = pd.merge(fuel_df_plant, ferc1_steam, on=['plant_id_ferc1', 'report_year'])\n",
    "out_df[\"heat_rate\"] = (out_df.fuel_consumed_total_mmbtu / out_df.net_generation_mwh)\n",
    "out_df['capacity_factor'] = (out_df['net_generation_mwh']/ (out_df['capacity_mw']*8760))\n",
    "\n",
    "first_cols = [\n",
    "    'report_year',\n",
    "    'utility_id_ferc1',\n",
    "    'plant_id_ferc1',\n",
    "    'plant_name'\n",
    "]\n",
    "\n",
    "out_df = pudl.helpers.organize_cols(out_df, first_cols)"
   ]
  },
  {
   "cell_type": "raw",
   "metadata": {},
   "source": [
    "pd.options.mode.chained_assignment = None  # default='warn'"
   ]
  },
  {
   "cell_type": "code",
   "execution_count": 9,
   "metadata": {
    "scrolled": true
   },
   "outputs": [],
   "source": [
    "# Check to see if the 'tot_prdctn_expns' is equivalent to the non-fuel costs by summing non-fuel values\n",
    "out_df[\"all_costs\"] = (out_df.opex_allowances+out_df.opex_boiler+\n",
    "                                  out_df.opex_coolants+\n",
    "                         out_df.opex_electric+out_df.opex_engineering+\n",
    "                                  out_df.opex_fuel+out_df.opex_misc_power+\n",
    "                                  out_df.opex_misc_steam+\n",
    "                        out_df.opex_operations+out_df.opex_plants+\n",
    "                                  out_df.opex_rents+\n",
    "                        out_df.opex_steam+out_df.opex_steam_other+\n",
    "                                  out_df.opex_structures+\n",
    "                        out_df.opex_transfer)"
   ]
  },
  {
   "cell_type": "code",
   "execution_count": 10,
   "metadata": {},
   "outputs": [],
   "source": [
    "# Check to see if for all records the 'tot_prdctn_expns' approximately equals the sum from 'all_costs'\n",
    "out_df['result'] = out_df['all_costs'].ge(out_df['opex_production_total']) | np.isclose(out_df['all_costs'], out_df['opex_production_total'], rtol=1e+1)"
   ]
  },
  {
   "cell_type": "code",
   "execution_count": 11,
   "metadata": {},
   "outputs": [
    {
     "data": {
      "text/plain": [
       "count     10552\n",
       "unique        1\n",
       "top        True\n",
       "freq      10552\n",
       "Name: result, dtype: object"
      ]
     },
     "execution_count": 11,
     "metadata": {},
     "output_type": "execute_result"
    }
   ],
   "source": [
    "out_df.result.describe() # For all records, the costs are within $10. Confirms 'tot_prdctn_expsn' is all non-fuel costs"
   ]
  },
  {
   "cell_type": "code",
   "execution_count": 12,
   "metadata": {},
   "outputs": [],
   "source": [
    "# No need to retain these - have confirmed that 'opex_production_total' is sum of all other costs\n",
    "out_df.drop(columns=['result','all_costs'], inplace=True)"
   ]
  },
  {
   "cell_type": "code",
   "execution_count": 13,
   "metadata": {},
   "outputs": [],
   "source": [
    "# We can get non-fuel by subtracting opex_fuel\n",
    "out_df['non_fuel_costs'] = (out_df.opex_production_total - out_df.opex_fuel)"
   ]
  },
  {
   "cell_type": "code",
   "execution_count": 14,
   "metadata": {},
   "outputs": [],
   "source": [
    "out_df.installation_year = pd.to_numeric(out_df.installation_year, errors='coerce')\n",
    "out_df.construction_year = pd.to_numeric(out_df.construction_year, errors='coerce')"
   ]
  },
  {
   "cell_type": "code",
   "execution_count": 15,
   "metadata": {},
   "outputs": [
    {
     "data": {
      "text/plain": [
       "array(['steam', 'combustion_turbine', None, 'internal_combustion',\n",
       "       'nuclear', 'combined_cycle', 'photovoltaic'], dtype=object)"
      ]
     },
     "execution_count": 15,
     "metadata": {},
     "output_type": "execute_result"
    }
   ],
   "source": [
    "# What types of fuel are included in the training data set?\n",
    "out_df.plant_type.unique()"
   ]
  },
  {
   "cell_type": "code",
   "execution_count": 16,
   "metadata": {},
   "outputs": [],
   "source": [
    "hist1d = out_df.sort_values('construction_year').drop_duplicates(subset=['utility_id_ferc1', 'plant_id_ferc1'], keep='last')"
   ]
  },
  {
   "cell_type": "code",
   "execution_count": 17,
   "metadata": {},
   "outputs": [
    {
     "data": {
      "text/plain": [
       "array([[<matplotlib.axes._subplots.AxesSubplot object at 0x7fdbbe73db38>]],\n",
       "      dtype=object)"
      ]
     },
     "execution_count": 17,
     "metadata": {},
     "output_type": "execute_result"
    },
    {
     "data": {
      "image/png": "[encoded data removed]",
      "text/plain": [
       "<Figure size 1500x900 with 1 Axes>"
      ]
     },
     "metadata": {},
     "output_type": "display_data"
    }
   ],
   "source": [
    "hist1d.hist(column='construction_year', bins = 120)\n",
    "# DataFrame.hist(column=None, by=None, grid=True, xlabelsize=None, xrot=None, ylabelsize=None, yrot=None, \n",
    "#                ax=None, sharex=False, sharey=False, figsize=None, layout=None, bins=10, **kwds)"
   ]
  },
  {
   "cell_type": "code",
   "execution_count": 18,
   "metadata": {},
   "outputs": [],
   "source": [
    "hist2d = hist1d[pd.notnull(hist1d['construction_year'])]\n",
    "hist2d = hist2d[pd.notnull(hist2d['capacity_mw'])]"
   ]
  },
  {
   "cell_type": "code",
   "execution_count": 43,
   "metadata": {},
   "outputs": [
    {
     "data": {
      "text/plain": [
       "(array([[ 1.,  1.,  2., ...,  0.,  0.,  0.],\n",
       "        [ 0.,  0.,  0., ...,  0.,  0.,  0.],\n",
       "        [ 0.,  1.,  0., ...,  0.,  0.,  0.],\n",
       "        ...,\n",
       "        [16., 10.,  5., ...,  0.,  0.,  0.],\n",
       "        [10.,  6.,  1., ...,  0.,  0.,  0.],\n",
       "        [ 3.,  0.,  1., ...,  0.,  0.,  0.]]),\n",
       " array([1900.  , 1902.34, 1904.68, 1907.02, 1909.36, 1911.7 , 1914.04,\n",
       "        1916.38, 1918.72, 1921.06, 1923.4 , 1925.74, 1928.08, 1930.42,\n",
       "        1932.76, 1935.1 , 1937.44, 1939.78, 1942.12, 1944.46, 1946.8 ,\n",
       "        1949.14, 1951.48, 1953.82, 1956.16, 1958.5 , 1960.84, 1963.18,\n",
       "        1965.52, 1967.86, 1970.2 , 1972.54, 1974.88, 1977.22, 1979.56,\n",
       "        1981.9 , 1984.24, 1986.58, 1988.92, 1991.26, 1993.6 , 1995.94,\n",
       "        1998.28, 2000.62, 2002.96, 2005.3 , 2007.64, 2009.98, 2012.32,\n",
       "        2014.66, 2017.  ]),\n",
       " array([1.1200000e+00, 8.3097600e+01, 1.6507520e+02, 2.4705280e+02,\n",
       "        3.2903040e+02, 4.1100800e+02, 4.9298560e+02, 5.7496320e+02,\n",
       "        6.5694080e+02, 7.3891840e+02, 8.2089600e+02, 9.0287360e+02,\n",
       "        9.8485120e+02, 1.0668288e+03, 1.1488064e+03, 1.2307840e+03,\n",
       "        1.3127616e+03, 1.3947392e+03, 1.4767168e+03, 1.5586944e+03,\n",
       "        1.6406720e+03, 1.7226496e+03, 1.8046272e+03, 1.8866048e+03,\n",
       "        1.9685824e+03, 2.0505600e+03, 2.1325376e+03, 2.2145152e+03,\n",
       "        2.2964928e+03, 2.3784704e+03, 2.4604480e+03, 2.5424256e+03,\n",
       "        2.6244032e+03, 2.7063808e+03, 2.7883584e+03, 2.8703360e+03,\n",
       "        2.9523136e+03, 3.0342912e+03, 3.1162688e+03, 3.1982464e+03,\n",
       "        3.2802240e+03, 3.3622016e+03, 3.4441792e+03, 3.5261568e+03,\n",
       "        3.6081344e+03, 3.6901120e+03, 3.7720896e+03, 3.8540672e+03,\n",
       "        3.9360448e+03, 4.0180224e+03, 4.1000000e+03]),\n",
       " <matplotlib.collections.QuadMesh at 0x7fdbbe48c278>)"
      ]
     },
     "execution_count": 43,
     "metadata": {},
     "output_type": "execute_result"
    },
    {
     "data": {
      "image/png": "[encoded data removed]",
      "text/plain": [
       "<Figure size 1500x900 with 1 Axes>"
      ]
     },
     "metadata": {},
     "output_type": "display_data"
    }
   ],
   "source": [
    "mpl.pyplot.hist2d(hist2d.construction_year, hist2d.capacity_mw, bins=50)\n",
    "#  matplotlib.pyplot.hist2d(x, y, bins=10, range=None, normed=False, \n",
    "#                           weights=None, cmin=None, cmax=None, *, data=None)"
   ]
  },
  {
   "cell_type": "code",
   "execution_count": null,
   "metadata": {},
   "outputs": [],
   "source": []
  },
  {
   "cell_type": "code",
   "execution_count": null,
   "metadata": {},
   "outputs": [],
   "source": []
  },
  {
   "cell_type": "code",
   "execution_count": 20,
   "metadata": {},
   "outputs": [],
   "source": [
    "def ferc1_record_subsetting(df, plant_type = 'steam', year_var = 'installation_year', \n",
    "                            old = 1970, new = 1987):\n",
    "    \"\"\" Subsets records by plant type and vintage. Creates new column for vintage.\n",
    "    Input variables:\n",
    "        'old' = year cutoff below which plants are considered 'old'\n",
    "        'new' = year cutoff above which plants are considered 'new'\n",
    "        'plant_type' = FERC 1 plant types, including: 'steam', 'combustion_turbine', 'internal_combustion', 'nuclear', 'combined_cycle', 'photovoltaic'\n",
    "        'year_var' = either 'installation_year' or 'construction_year'\n",
    "        \n",
    "        Returns data frame with new column for vintage, and subset to the specified plant types.\n",
    "        \"\"\"\n",
    "    \n",
    "    out_df = df[(df['plant_type'] == plant_type)]\n",
    "    out_df.loc[out_df[year_var] <= old,'vintage'] = 'old'\n",
    "    out_df.loc[out_df[year_var] >= new,'vintage'] = 'new'\n",
    "    out_df.loc[(out_df[year_var] > old) & (out_df[year_var] <= new), \"vintage\"] = 'mid'\n",
    "    \n",
    "    \n",
    "    return out_df"
   ]
  },
  {
   "cell_type": "code",
   "execution_count": 21,
   "metadata": {},
   "outputs": [],
   "source": [
    "### Still need to convert 'vintage' to a categorical variable for further use"
   ]
  },
  {
   "cell_type": "code",
   "execution_count": 22,
   "metadata": {},
   "outputs": [
    {
     "name": "stderr",
     "output_type": "stream",
     "text": [
      "/home/alana/anaconda3/lib/python3.6/site-packages/pandas/core/indexing.py:362: SettingWithCopyWarning: \n",
      "A value is trying to be set on a copy of a slice from a DataFrame.\n",
      "Try using .loc[row_indexer,col_indexer] = value instead\n",
      "\n",
      "See the caveats in the documentation: http://pandas.pydata.org/pandas-docs/stable/indexing.html#indexing-view-versus-copy\n",
      "  self.obj[key] = _infer_fill_value(value)\n",
      "/home/alana/anaconda3/lib/python3.6/site-packages/pandas/core/indexing.py:543: SettingWithCopyWarning: \n",
      "A value is trying to be set on a copy of a slice from a DataFrame.\n",
      "Try using .loc[row_indexer,col_indexer] = value instead\n",
      "\n",
      "See the caveats in the documentation: http://pandas.pydata.org/pandas-docs/stable/indexing.html#indexing-view-versus-copy\n",
      "  self.obj[item] = s\n"
     ]
    }
   ],
   "source": [
    "new = ferc1_record_subsetting(out_df)"
   ]
  },
  {
   "cell_type": "code",
   "execution_count": null,
   "metadata": {},
   "outputs": [],
   "source": []
  },
  {
   "cell_type": "code",
   "execution_count": null,
   "metadata": {},
   "outputs": [],
   "source": []
  },
  {
   "cell_type": "code",
   "execution_count": 23,
   "metadata": {},
   "outputs": [],
   "source": [
    "# Eliminate records with Nan heat rate values\n",
    "new = new[np.isfinite(new['heat_rate'])]"
   ]
  },
  {
   "cell_type": "code",
   "execution_count": 24,
   "metadata": {},
   "outputs": [
    {
     "data": {
      "text/html": [
       "<table class=\"simpletable\">\n",
       "<caption>OLS Regression Results</caption>\n",
       "<tr>\n",
       "  <th>Dep. Variable:</th>     <td>non_fuel_costs</td>  <th>  R-squared:         </th> <td>   0.554</td> \n",
       "</tr>\n",
       "<tr>\n",
       "  <th>Model:</th>                   <td>OLS</td>       <th>  Adj. R-squared:    </th> <td>   0.554</td> \n",
       "</tr>\n",
       "<tr>\n",
       "  <th>Method:</th>             <td>Least Squares</td>  <th>  F-statistic:       </th> <td>   3138.</td> \n",
       "</tr>\n",
       "<tr>\n",
       "  <th>Date:</th>             <td>Thu, 03 Jan 2019</td> <th>  Prob (F-statistic):</th>  <td>  0.00</td>  \n",
       "</tr>\n",
       "<tr>\n",
       "  <th>Time:</th>                 <td>09:45:13</td>     <th>  Log-Likelihood:    </th> <td> -92150.</td> \n",
       "</tr>\n",
       "<tr>\n",
       "  <th>No. Observations:</th>      <td>  5061</td>      <th>  AIC:               </th> <td>1.843e+05</td>\n",
       "</tr>\n",
       "<tr>\n",
       "  <th>Df Residuals:</th>          <td>  5058</td>      <th>  BIC:               </th> <td>1.843e+05</td>\n",
       "</tr>\n",
       "<tr>\n",
       "  <th>Df Model:</th>              <td>     2</td>      <th>                     </th>     <td> </td>    \n",
       "</tr>\n",
       "<tr>\n",
       "  <th>Covariance Type:</th>      <td>nonrobust</td>    <th>                     </th>     <td> </td>    \n",
       "</tr>\n",
       "</table>\n",
       "<table class=\"simpletable\">\n",
       "<tr>\n",
       "           <td></td>             <th>coef</th>     <th>std err</th>      <th>t</th>      <th>P>|t|</th>  <th>[0.025</th>    <th>0.975]</th>  \n",
       "</tr>\n",
       "<tr>\n",
       "  <th>const</th>              <td> 1.293e+06</td> <td> 3.87e+05</td> <td>    3.342</td> <td> 0.001</td> <td> 5.34e+05</td> <td> 2.05e+06</td>\n",
       "</tr>\n",
       "<tr>\n",
       "  <th>capacity_mw</th>        <td> 1.725e+04</td> <td>  838.094</td> <td>   20.582</td> <td> 0.000</td> <td> 1.56e+04</td> <td> 1.89e+04</td>\n",
       "</tr>\n",
       "<tr>\n",
       "  <th>net_generation_mwh</th> <td>    3.4039</td> <td>    0.148</td> <td>   23.044</td> <td> 0.000</td> <td>    3.114</td> <td>    3.693</td>\n",
       "</tr>\n",
       "</table>\n",
       "<table class=\"simpletable\">\n",
       "<tr>\n",
       "  <th>Omnibus:</th>       <td>6487.436</td> <th>  Durbin-Watson:     </th>  <td>   0.445</td>  \n",
       "</tr>\n",
       "<tr>\n",
       "  <th>Prob(Omnibus):</th>  <td> 0.000</td>  <th>  Jarque-Bera (JB):  </th> <td>1860791.276</td>\n",
       "</tr>\n",
       "<tr>\n",
       "  <th>Skew:</th>           <td> 6.869</td>  <th>  Prob(JB):          </th>  <td>    0.00</td>  \n",
       "</tr>\n",
       "<tr>\n",
       "  <th>Kurtosis:</th>       <td>95.927</td>  <th>  Cond. No.          </th>  <td>6.26e+06</td>  \n",
       "</tr>\n",
       "</table><br/><br/>Warnings:<br/>[1] Standard Errors assume that the covariance matrix of the errors is correctly specified.<br/>[2] The condition number is large, 6.26e+06. This might indicate that there are<br/>strong multicollinearity or other numerical problems."
      ],
      "text/plain": [
       "<class 'statsmodels.iolib.summary.Summary'>\n",
       "\"\"\"\n",
       "                            OLS Regression Results                            \n",
       "==============================================================================\n",
       "Dep. Variable:         non_fuel_costs   R-squared:                       0.554\n",
       "Model:                            OLS   Adj. R-squared:                  0.554\n",
       "Method:                 Least Squares   F-statistic:                     3138.\n",
       "Date:                Thu, 03 Jan 2019   Prob (F-statistic):               0.00\n",
       "Time:                        09:45:13   Log-Likelihood:                -92150.\n",
       "No. Observations:                5061   AIC:                         1.843e+05\n",
       "Df Residuals:                    5058   BIC:                         1.843e+05\n",
       "Df Model:                           2                                         \n",
       "Covariance Type:            nonrobust                                         \n",
       "======================================================================================\n",
       "                         coef    std err          t      P>|t|      [0.025      0.975]\n",
       "--------------------------------------------------------------------------------------\n",
       "const               1.293e+06   3.87e+05      3.342      0.001    5.34e+05    2.05e+06\n",
       "capacity_mw         1.725e+04    838.094     20.582      0.000    1.56e+04    1.89e+04\n",
       "net_generation_mwh     3.4039      0.148     23.044      0.000       3.114       3.693\n",
       "==============================================================================\n",
       "Omnibus:                     6487.436   Durbin-Watson:                   0.445\n",
       "Prob(Omnibus):                  0.000   Jarque-Bera (JB):          1860791.276\n",
       "Skew:                           6.869   Prob(JB):                         0.00\n",
       "Kurtosis:                      95.927   Cond. No.                     6.26e+06\n",
       "==============================================================================\n",
       "\n",
       "Warnings:\n",
       "[1] Standard Errors assume that the covariance matrix of the errors is correctly specified.\n",
       "[2] The condition number is large, 6.26e+06. This might indicate that there are\n",
       "strong multicollinearity or other numerical problems.\n",
       "\"\"\""
      ]
     },
     "execution_count": 24,
     "metadata": {},
     "output_type": "execute_result"
    }
   ],
   "source": [
    "# Set up variables for OLS regression \n",
    "\n",
    "# X = new[[\"net_generation\", \"heat_rate\", \"fuel_cost_btu\"]]\n",
    "X = new[[\"capacity_mw\", \"net_generation_mwh\"]]\n",
    "# X = new[[\"non_fuel_costs\"]]\n",
    "# X = new[[\"expns_fuel\"]]\n",
    "\n",
    "# y = new[\"opex_fuel\"]\n",
    "y = new[[\"non_fuel_costs\"]]\n",
    "# y = new[[\"net_generation_mwh\"]]\n",
    "\n",
    "\n",
    "X = sm.add_constant(X) ## add an intercept\n",
    "\n",
    "model = sm.OLS(y, X).fit()\n",
    "predictions = model.predict(X) # make the predictions by the model\n",
    "\n",
    "# Print out the statistics\n",
    "model.summary()"
   ]
  },
  {
   "cell_type": "code",
   "execution_count": null,
   "metadata": {},
   "outputs": [],
   "source": []
  },
  {
   "cell_type": "code",
   "execution_count": 25,
   "metadata": {},
   "outputs": [
    {
     "data": {
      "text/plain": [
       "0.5537226104244433"
      ]
     },
     "execution_count": 25,
     "metadata": {},
     "output_type": "execute_result"
    }
   ],
   "source": [
    "# Use sklearn linear_model to fit the same regression\n",
    "lm = linear_model.LinearRegression()\n",
    "model = lm.fit(X,y)\n",
    "predictions = lm.predict(X)\n",
    "# print(predictions)[0:5]\n",
    "lm.score(X,y)"
   ]
  },
  {
   "cell_type": "code",
   "execution_count": 26,
   "metadata": {},
   "outputs": [
    {
     "data": {
      "text/plain": [
       "LinregressResult(slope=5.7927750742455215, intercept=2779380.463638164, rvalue=0.7092394389659693, pvalue=0.0, stderr=0.056057891675070165)"
      ]
     },
     "execution_count": 26,
     "metadata": {},
     "output_type": "execute_result"
    }
   ],
   "source": [
    "scipy.stats.linregress(out_df.net_generation_mwh, out_df.non_fuel_costs)"
   ]
  },
  {
   "cell_type": "code",
   "execution_count": 27,
   "metadata": {},
   "outputs": [],
   "source": [
    "# numpy.polyfit(ferc1_training_steam.net_generation, ferc1_training_steam.expns_fuel, 1)"
   ]
  },
  {
   "cell_type": "code",
   "execution_count": 28,
   "metadata": {},
   "outputs": [],
   "source": [
    "from sklearn.linear_model import LinearRegression, Lasso, Ridge, ElasticNet, SGDRegressor\n",
    "from sklearn.model_selection import train_test_split"
   ]
  },
  {
   "cell_type": "code",
   "execution_count": 29,
   "metadata": {},
   "outputs": [],
   "source": [
    "x = out_df.net_generation_mwh\n",
    "y = out_df.non_fuel_costs\n",
    "x_reshape = out_df.net_generation_mwh.values.reshape(-1,1)\n",
    "y_reshape = out_df.non_fuel_costs.values.reshape(-1,1)"
   ]
  },
  {
   "cell_type": "code",
   "execution_count": 30,
   "metadata": {
    "scrolled": false
   },
   "outputs": [],
   "source": [
    "# intercept, slope, corr_coeff = plot_linear_regression(x_reshape, y_reshape)\n",
    "# plt.show()\n"
   ]
  },
  {
   "cell_type": "code",
   "execution_count": 31,
   "metadata": {},
   "outputs": [
    {
     "data": {
      "text/plain": [
       "Text(0, 0.5, 'non-fuel costs')"
      ]
     },
     "execution_count": 31,
     "metadata": {},
     "output_type": "execute_result"
    },
    {
     "data": {
      "image/png": "[encoded data removed]",
      "text/plain": [
       "<Figure size 1500x900 with 1 Axes>"
      ]
     },
     "metadata": {},
     "output_type": "display_data"
    }
   ],
   "source": [
    "plt.plot(x,y,'.')\n",
    "\n",
    "plt.xlabel('net generation (mwh)')\n",
    "plt.ylabel('non-fuel costs')"
   ]
  },
  {
   "cell_type": "code",
   "execution_count": 32,
   "metadata": {},
   "outputs": [],
   "source": [
    "### Exploration of other approaches..."
   ]
  },
  {
   "cell_type": "code",
   "execution_count": 33,
   "metadata": {},
   "outputs": [],
   "source": [
    "x_train, x_test, y_train, y_test = train_test_split(x, y, test_size= 0.2, random_state=0)"
   ]
  },
  {
   "cell_type": "code",
   "execution_count": 34,
   "metadata": {},
   "outputs": [],
   "source": [
    "x_train= x_train.values.reshape(-1, 1)\n",
    "y_train= y_train.values.reshape(-1, 1)\n",
    "x_test = x_test.values.reshape(-1, 1)"
   ]
  },
  {
   "cell_type": "code",
   "execution_count": null,
   "metadata": {},
   "outputs": [],
   "source": []
  },
  {
   "cell_type": "code",
   "execution_count": 35,
   "metadata": {},
   "outputs": [],
   "source": [
    "ridge = Ridge(fit_intercept=True, alpha=0.5)"
   ]
  },
  {
   "cell_type": "code",
   "execution_count": 36,
   "metadata": {},
   "outputs": [
    {
     "data": {
      "text/plain": [
       "Ridge(alpha=0.5, copy_X=True, fit_intercept=True, max_iter=None,\n",
       "   normalize=False, random_state=None, solver='auto', tol=0.001)"
      ]
     },
     "execution_count": 36,
     "metadata": {},
     "output_type": "execute_result"
    }
   ],
   "source": [
    "ridge.fit(x_reshape,y_reshape)"
   ]
  },
  {
   "cell_type": "code",
   "execution_count": null,
   "metadata": {},
   "outputs": [],
   "source": []
  },
  {
   "cell_type": "code",
   "execution_count": 37,
   "metadata": {},
   "outputs": [
    {
     "data": {
      "text/plain": [
       "Ridge(alpha=1.0, copy_X=True, fit_intercept=True, max_iter=None,\n",
       "   normalize=False, random_state=None, solver='auto', tol=0.001)"
      ]
     },
     "execution_count": 37,
     "metadata": {},
     "output_type": "execute_result"
    }
   ],
   "source": [
    "sklearn.linear_model.Ridge(alpha=1.0, fit_intercept=True, normalize=False, copy_X=True, max_iter=None, tol=0.001, solver='auto', random_state=None)\n",
    "# ferc1_training_steam.net_generation_mwh, ferc1_training_steam.non_fuel_costs)"
   ]
  },
  {
   "cell_type": "code",
   "execution_count": 38,
   "metadata": {},
   "outputs": [
    {
     "data": {
      "text/plain": [
       "Ridge(alpha=1, copy_X=True, fit_intercept=True, max_iter=None,\n",
       "   normalize=False, random_state=None, solver='auto', tol=0.001)"
      ]
     },
     "execution_count": 38,
     "metadata": {},
     "output_type": "execute_result"
    }
   ],
   "source": [
    "clf = sklearn.linear_model.Ridge(alpha=1)\n",
    "clf = sklearn.linear_model.Ridge(alpha=1, copy_X=True, fit_intercept=True, max_iter=None, normalize=False, random_state=None, solver='auto', tol=0.001)\n",
    "\n",
    "clf.fit(x_reshape, y_reshape)\n",
    "# Ridge(alpha=1, copy_X=True, fit_intercept=True, max_iter=None,normalize=False, random_state=None, solver='auto', tol=0.001)"
   ]
  },
  {
   "cell_type": "code",
   "execution_count": 39,
   "metadata": {},
   "outputs": [],
   "source": [
    "result = clf.fit(x_reshape, y_reshape, sample_weight=None)"
   ]
  },
  {
   "cell_type": "code",
   "execution_count": 40,
   "metadata": {},
   "outputs": [
    {
     "data": {
      "text/plain": [
       "0.5030205817847624"
      ]
     },
     "execution_count": 40,
     "metadata": {},
     "output_type": "execute_result"
    }
   ],
   "source": [
    "clf.score(x_reshape,y_reshape)"
   ]
  },
  {
   "cell_type": "code",
   "execution_count": 41,
   "metadata": {},
   "outputs": [
    {
     "data": {
      "text/plain": [
       "{'alpha': 1,\n",
       " 'copy_X': True,\n",
       " 'fit_intercept': True,\n",
       " 'max_iter': None,\n",
       " 'normalize': False,\n",
       " 'random_state': None,\n",
       " 'solver': 'auto',\n",
       " 'tol': 0.001}"
      ]
     },
     "execution_count": 41,
     "metadata": {},
     "output_type": "execute_result"
    }
   ],
   "source": [
    "result.get_params()"
   ]
  },
  {
   "cell_type": "code",
   "execution_count": null,
   "metadata": {},
   "outputs": [],
   "source": []
  },
  {
   "cell_type": "code",
   "execution_count": null,
   "metadata": {},
   "outputs": [],
   "source": []
  },
  {
   "cell_type": "code",
   "execution_count": null,
   "metadata": {},
   "outputs": [],
   "source": []
  }
 ],
 "metadata": {
  "kernelspec": {
   "display_name": "Python 3",
   "language": "python",
   "name": "python3"
  },
  "language_info": {
   "codemirror_mode": {
    "name": "ipython",
    "version": 3
   },
   "file_extension": ".py",
   "mimetype": "text/x-python",
   "name": "python",
   "nbconvert_exporter": "python",
   "pygments_lexer": "ipython3",
   "version": "3.6.6"
  }
 },
 "nbformat": 4,
 "nbformat_minor": 2
}
