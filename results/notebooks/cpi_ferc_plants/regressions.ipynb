{
 "cells": [
  {
   "cell_type": "markdown",
   "metadata": {},
   "source": [
    "## Regression Outline\n",
    "We have a set of manually categorized FERC plants with which to test the sklearn Classifier that we're making. We'll also use them to test the regression analysis here. What does this dataset look like, how was it created?\n",
    "* Pull FERC Plants table.\n",
    "* Using a variety of search methods, to ensure that we get a wide variety of plants, identify sets of records in the FERC Form 1 Plants table that are comparable inter-year records.\n",
    "\n",
    "\n",
    "For regressions, both OLS and sklearn approaches are explored.  Plant generation is normalized by using capacity factor."
   ]
  },
  {
   "cell_type": "code",
   "execution_count": 1,
   "metadata": {},
   "outputs": [],
   "source": [
    "%load_ext autoreload\n",
    "%autoreload 2"
   ]
  },
  {
   "cell_type": "code",
   "execution_count": 2,
   "metadata": {},
   "outputs": [],
   "source": [
    "import sys\n",
    "import os\n",
    "import numpy as np\n",
    "\n",
    "import scipy\n",
    "import pandas as pd\n",
    "import statsmodels.api as sm\n",
    "import sklearn\n",
    "from sklearn import linear_model\n",
    "from pudl import init, analysis, settings, output\n",
    "import pudl.extract.ferc1\n",
    "import pudl.transform.ferc1\n",
    "import pudl.constants as pc\n",
    "import pudl.output.pudltabl\n",
    "import pudl.analysis.analysis\n",
    "import matplotlib.pyplot as plt\n",
    "import matplotlib as mpl\n",
    "\n",
    "%matplotlib inline"
   ]
  },
  {
   "cell_type": "code",
   "execution_count": 3,
   "metadata": {},
   "outputs": [],
   "source": [
    "# For some reason these things don't stick if they're in the same cell as the\n",
    "# %matplotlib inline call above, but if they're separate, they work fine.\n",
    "plt.style.use('ggplot')\n",
    "mpl.rcParams['figure.figsize'] = (10,6)\n",
    "mpl.rcParams['figure.dpi'] = 150\n",
    "pd.options.display.max_columns = 56"
   ]
  },
  {
   "cell_type": "code",
   "execution_count": 4,
   "metadata": {
    "scrolled": false
   },
   "outputs": [],
   "source": [
    "pudl_out = pudl.output.pudltabl.PudlTabl()\n",
    "ferc1_fuel = pudl_out.fuel_ferc1()\n",
    "ferc1_steam = pudl_out.plants_steam_ferc1()\n",
    "eia860_plants =  pudl.output.eia860.plants_eia860()\n",
    "# eia923_plants =  pudl.output.eia923.plants_eia923()"
   ]
  },
  {
   "cell_type": "code",
   "execution_count": 5,
   "metadata": {},
   "outputs": [
    {
     "data": {
      "text/plain": [
       "Index(['report_year', 'utility_id_ferc1', 'utility_id_pudl',\n",
       "       'utility_name_ferc1', 'plant_id_pudl', 'plant_id_ferc1', 'plant_name',\n",
       "       'fuel_consumed_mmbtu', 'fuel_consumed_total_cost_mmbtu',\n",
       "       'fuel_consumed_total_cost_unit', 'fuel_cost_per_mmbtu',\n",
       "       'fuel_cost_per_mwh', 'fuel_cost_per_unit_burned',\n",
       "       'fuel_cost_per_unit_delivered', 'fuel_mmbtu_per_mwh',\n",
       "       'fuel_mmbtu_per_unit', 'fuel_qty_burned', 'fuel_type_code_pudl',\n",
       "       'fuel_unit', 'record_id'],\n",
       "      dtype='object')"
      ]
     },
     "execution_count": 5,
     "metadata": {},
     "output_type": "execute_result"
    }
   ],
   "source": [
    "ferc1_fuel.columns"
   ]
  },
  {
   "cell_type": "code",
   "execution_count": 6,
   "metadata": {},
   "outputs": [],
   "source": [
    "# ferc1_fuel = pudl.analysis.analysis.primary_fuel_ferc1(ferc1_fuel)"
   ]
  },
  {
   "cell_type": "markdown",
   "metadata": {},
   "source": [
    "## Side effort to calculate primary fuel type for ferc1 plants"
   ]
  },
  {
   "cell_type": "code",
   "execution_count": 7,
   "metadata": {},
   "outputs": [],
   "source": [
    "# For each plant record in the plants table, we need to be able to assign\n",
    "# a fraction of heat content for that plant that came from a particlar fuel\n",
    "# for filtering purposes. There are different ways that we can aggregate that\n",
    "# information -- e.g. plant_id_pudl, plant_id_ferc1, (utility_id_ferc1, plant_name)\n",
    "def coal_fraction(fuel_df, gb_cols=['plant_id_pudl']):\n",
    "    \"\"\"\n",
    "    Calculate the fraction of overall heat content from coal\n",
    "    per year and per gb_cols, which can be:\n",
    "      - [plant_id_pudl]\n",
    "      - [plant_id_ferc1]\n",
    "      - [utility_id_ferc1, plant_name]\n",
    "    \n",
    "    Assumes fuel_df is a fuel_ferc1 dataframe.\n",
    "    Cannot currently work for arbitrary fuel_type becuase not all plants\n",
    "    have records for all fuel types.\n",
    "    \"\"\"\n",
    "    gb_cols1 = ['report_year'] + gb_cols\n",
    "    \n",
    "    # Total heat content across all fuel types\n",
    "    total_mmbtu = (\n",
    "        fuel_df.groupby(gb_cols1).\n",
    "        agg({'fuel_consumed_mmbtu': sum}).\n",
    "        reset_index().\n",
    "        rename(columns={'fuel_consumed_mmbtu': 'total_mmbtu'})\n",
    "    )\n",
    "    \n",
    "    # Same grouping... but also broken down by fuel type\n",
    "    gb_cols2 = gb_cols1 + ['fuel_type_code_pudl']\n",
    "    out_df = (\n",
    "        fuel_df[fuel_df.fuel_type_code_pudl=='coal'].\n",
    "        groupby(gb_cols2).\n",
    "        agg({'fuel_consumed_mmbtu': sum}).\n",
    "        reset_index().\n",
    "        merge(total_mmbtu, how='left', on=gb_cols1).\n",
    "        assign(coal_fraction=lambda x: x['fuel_consumed_mmbtu'] / x['total_mmbtu']).\n",
    "        rename(columns={'fuel_consumed_mmbtu': 'coal_mmbtu'}).\n",
    "        drop(['fuel_type_code_pudl'], axis=1)\n",
    "    )\n",
    "    return out_df"
   ]
  },
  {
   "cell_type": "code",
   "execution_count": 8,
   "metadata": {},
   "outputs": [],
   "source": [
    "# Calculate total heat content of fuel by plant & year\n",
    "fuel_consumed_mmbtu = (\n",
    "    ferc1_fuel.loc[ferc1_fuel.report_year>=2012,:].\n",
    "    groupby(['report_year', 'plant_id_pudl']).\n",
    "    agg({'fuel_consumed_mmbtu': sum}).\n",
    "    reset_index()\n",
    ")\n",
    "\n",
    "coal_fraction_by_plant_name = coal_fraction(ferc1_fuel.loc[ferc1_fuel.report_year>=2012,:], ['utility_id_ferc1', 'plant_name'])\n"
   ]
  },
  {
   "cell_type": "code",
   "execution_count": 9,
   "metadata": {},
   "outputs": [],
   "source": [
    "coal_plants = coal_fraction_by_plant_name[coal_fraction_by_plant_name.coal_fraction >= 0.85] # returns 96.7% of records"
   ]
  },
  {
   "cell_type": "code",
   "execution_count": 10,
   "metadata": {},
   "outputs": [
    {
     "data": {
      "text/plain": [
       "Index(['report_year', 'utility_id_ferc1', 'plant_name', 'coal_mmbtu',\n",
       "       'total_mmbtu', 'coal_fraction'],\n",
       "      dtype='object')"
      ]
     },
     "execution_count": 10,
     "metadata": {},
     "output_type": "execute_result"
    }
   ],
   "source": [
    "coal_plants.columns"
   ]
  },
  {
   "cell_type": "code",
   "execution_count": 11,
   "metadata": {},
   "outputs": [],
   "source": [
    "## This function replaced by coal_fraction function\n",
    "\n",
    "# def ferc1_aggregate_by_fuel_type(df, fuels = ['gas', 'oil', 'coal']):\n",
    "#     ''' \n",
    "#     Aggregate FERC 1 data by fuel type and plant per year.\n",
    "    \n",
    "#     Inputs: \n",
    "#     df is cleaned FERC 1 fuel table\n",
    "#     fuels is list of fuels of interest to aggregate\n",
    "    \n",
    "#     Returns dataframe of aggregated fuel consumed and fuel costs'''\n",
    "    \n",
    "#     fuel_df = df[df['fuel_type_code_pudl'].isin(fuels)]\n",
    "    \n",
    "#     # We have two different ways of assessing the total cost of fuel given cost\n",
    "#     # per unit delivered and cost per mmbtu. They *should* be the same, but we\n",
    "#     # know they aren't always. Calculate both so we can compare both.\n",
    "#     fuel_df['fuel_consumed_mmbtu'] = \\\n",
    "#         fuel_df['fuel_qty_burned'] * fuel_df['fuel_mmbtu_per_unit'] # same as total heat content\n",
    "#     fuel_df['fuel_consumed_total_cost_mmbtu'] = \\\n",
    "#         fuel_df['fuel_cost_per_mmbtu'] * fuel_df['fuel_consumed_mmbtu']\n",
    "#     fuel_df['fuel_consumed_total_cost_unit'] = \\\n",
    "#         fuel_df['fuel_cost_per_unit_burned'] * fuel_df['fuel_qty_burned']\n",
    "\n",
    "\n",
    "#     # Group by fuel as well, so we get individual fuel totals.\n",
    "#     cols_to_gb = ['plant_id_ferc1', 'report_year', 'fuel_type_code_pudl', 'plant_name', 'utility_id_ferc1']\n",
    "#     cols=['fuel_consumed_mmbtu',\n",
    "#                                  'fuel_consumed_total_cost_mmbtu',\n",
    "#                                  'fuel_consumed_total_cost_unit']\n",
    "\n",
    "#     fuel_df = fuel_df.groupby(cols_to_gb)[cols].sum()\n",
    "#     fuel_df = fuel_df.reset_index()\n",
    "    \n",
    "#     # Group by plant, so we get total fuel use/cost.\n",
    "#     cols_to_gb = ['plant_id_ferc1', 'report_year', 'plant_name', 'utility_id_ferc1']\n",
    "#     cols=['fuel_consumed_mmbtu',\n",
    "#                                  'fuel_consumed_total_cost_mmbtu',\n",
    "#                                  'fuel_consumed_total_cost_unit'] \n",
    "\n",
    "\n",
    "#     fuel_df_plant = fuel_df.groupby(cols_to_gb)[cols].sum()\n",
    "#     fuel_df_plant = fuel_df_plant.reset_index()\n",
    "    \n",
    "#     return fuel_df_plant"
   ]
  },
  {
   "cell_type": "code",
   "execution_count": null,
   "metadata": {},
   "outputs": [],
   "source": []
  },
  {
   "cell_type": "code",
   "execution_count": null,
   "metadata": {},
   "outputs": [],
   "source": []
  },
  {
   "cell_type": "code",
   "execution_count": 12,
   "metadata": {},
   "outputs": [
    {
     "data": {
      "text/plain": [
       "Index(['report_year', 'utility_id_ferc1', 'utility_id_pudl',\n",
       "       'utility_name_ferc1', 'plant_id_pudl', 'plant_id_ferc1', 'plant_name',\n",
       "       'fuel_consumed_mmbtu', 'fuel_consumed_total_cost_mmbtu',\n",
       "       'fuel_consumed_total_cost_unit', 'fuel_cost_per_mmbtu',\n",
       "       'fuel_cost_per_mwh', 'fuel_cost_per_unit_burned',\n",
       "       'fuel_cost_per_unit_delivered', 'fuel_mmbtu_per_mwh',\n",
       "       'fuel_mmbtu_per_unit', 'fuel_qty_burned', 'fuel_type_code_pudl',\n",
       "       'fuel_unit', 'record_id'],\n",
       "      dtype='object')"
      ]
     },
     "execution_count": 12,
     "metadata": {},
     "output_type": "execute_result"
    }
   ],
   "source": [
    "ferc1_fuel.columns"
   ]
  },
  {
   "cell_type": "markdown",
   "metadata": {},
   "source": [
    "## Return to previous effort"
   ]
  },
  {
   "cell_type": "code",
   "execution_count": 13,
   "metadata": {},
   "outputs": [],
   "source": [
    "## This function call replaced by coal fraction calculation\n",
    "# fuel_df_plant = ferc1_aggregate_by_fuel_type(ferc1_fuel, fuels=['coal'])"
   ]
  },
  {
   "cell_type": "code",
   "execution_count": 14,
   "metadata": {},
   "outputs": [],
   "source": [
    "new = pd.merge(ferc1_fuel, coal_plants, on=['plant_name', 'utility_id_ferc1', 'report_year'], how='right')\n"
   ]
  },
  {
   "cell_type": "code",
   "execution_count": 15,
   "metadata": {},
   "outputs": [
    {
     "data": {
      "text/plain": [
       "report_year                       3286\n",
       "utility_id_ferc1                  3286\n",
       "utility_id_pudl                   3286\n",
       "utility_name_ferc1                3286\n",
       "plant_id_pudl                     3286\n",
       "plant_id_ferc1                    3286\n",
       "plant_name                        3286\n",
       "fuel_consumed_mmbtu               3286\n",
       "fuel_consumed_total_cost_mmbtu    3286\n",
       "fuel_consumed_total_cost_unit     3286\n",
       "fuel_cost_per_mmbtu               3286\n",
       "fuel_cost_per_mwh                 3286\n",
       "fuel_cost_per_unit_burned         3286\n",
       "fuel_cost_per_unit_delivered      3286\n",
       "fuel_mmbtu_per_mwh                3286\n",
       "fuel_mmbtu_per_unit               3286\n",
       "fuel_qty_burned                   3286\n",
       "fuel_type_code_pudl               3279\n",
       "fuel_unit                         3259\n",
       "record_id                         3286\n",
       "coal_mmbtu                        3286\n",
       "total_mmbtu                       3286\n",
       "coal_fraction                     3286\n",
       "dtype: int64"
      ]
     },
     "execution_count": 15,
     "metadata": {},
     "output_type": "execute_result"
    }
   ],
   "source": [
    "new.count()"
   ]
  },
  {
   "cell_type": "code",
   "execution_count": 16,
   "metadata": {},
   "outputs": [
    {
     "data": {
      "text/html": [
       "<div>\n",
       "<style scoped>\n",
       "    .dataframe tbody tr th:only-of-type {\n",
       "        vertical-align: middle;\n",
       "    }\n",
       "\n",
       "    .dataframe tbody tr th {\n",
       "        vertical-align: top;\n",
       "    }\n",
       "\n",
       "    .dataframe thead th {\n",
       "        text-align: right;\n",
       "    }\n",
       "</style>\n",
       "<table border=\"1\" class=\"dataframe\">\n",
       "  <thead>\n",
       "    <tr style=\"text-align: right;\">\n",
       "      <th></th>\n",
       "      <th>report_year</th>\n",
       "      <th>utility_id_ferc1</th>\n",
       "      <th>utility_id_pudl</th>\n",
       "      <th>utility_name_ferc1</th>\n",
       "      <th>plant_id_pudl</th>\n",
       "      <th>plant_id_ferc1</th>\n",
       "      <th>plant_name</th>\n",
       "      <th>asset_retirement_cost</th>\n",
       "      <th>avg_num_employees</th>\n",
       "      <th>capacity_mw</th>\n",
       "      <th>capex_equipment</th>\n",
       "      <th>capex_land</th>\n",
       "      <th>capex_per_mw</th>\n",
       "      <th>capex_structures</th>\n",
       "      <th>capex_total</th>\n",
       "      <th>construction_type</th>\n",
       "      <th>construction_year</th>\n",
       "      <th>id</th>\n",
       "      <th>installation_year</th>\n",
       "      <th>net_generation_mwh</th>\n",
       "      <th>not_water_limited_capacity_mw</th>\n",
       "      <th>opex_allowances</th>\n",
       "      <th>opex_boiler</th>\n",
       "      <th>opex_coolants</th>\n",
       "      <th>opex_electric</th>\n",
       "      <th>opex_engineering</th>\n",
       "      <th>opex_fuel</th>\n",
       "      <th>opex_misc_power</th>\n",
       "      <th>opex_misc_steam</th>\n",
       "      <th>opex_operations</th>\n",
       "      <th>opex_per_mwh</th>\n",
       "      <th>opex_plants</th>\n",
       "      <th>opex_production_total</th>\n",
       "      <th>opex_rents</th>\n",
       "      <th>opex_steam</th>\n",
       "      <th>opex_steam_other</th>\n",
       "      <th>opex_structures</th>\n",
       "      <th>opex_transfer</th>\n",
       "      <th>peak_demand_mw</th>\n",
       "      <th>plant_capability_mw</th>\n",
       "      <th>plant_hours_connected_while_generating</th>\n",
       "      <th>plant_type</th>\n",
       "      <th>record_id</th>\n",
       "      <th>water_limited_capacity_mw</th>\n",
       "    </tr>\n",
       "  </thead>\n",
       "  <tbody>\n",
       "    <tr>\n",
       "      <th>0</th>\n",
       "      <td>2004</td>\n",
       "      <td>1</td>\n",
       "      <td>7</td>\n",
       "      <td>AEP Generating Company</td>\n",
       "      <td>526</td>\n",
       "      <td>1</td>\n",
       "      <td>rockport unit 1 aeg</td>\n",
       "      <td>370055.0</td>\n",
       "      <td>0.0</td>\n",
       "      <td>650.0</td>\n",
       "      <td>519609333.0</td>\n",
       "      <td>6472089.0</td>\n",
       "      <td>941097.0</td>\n",
       "      <td>85261549.0</td>\n",
       "      <td>611713026.0</td>\n",
       "      <td>conventional</td>\n",
       "      <td>1984.0</td>\n",
       "      <td>1</td>\n",
       "      <td>1984.0</td>\n",
       "      <td>4863470.0</td>\n",
       "      <td>650.0</td>\n",
       "      <td>0.0</td>\n",
       "      <td>2674529.0</td>\n",
       "      <td>0.0</td>\n",
       "      <td>500806.0</td>\n",
       "      <td>515891.0</td>\n",
       "      <td>63145559.0</td>\n",
       "      <td>1087877.0</td>\n",
       "      <td>309521.0</td>\n",
       "      <td>619333.0</td>\n",
       "      <td>14.6</td>\n",
       "      <td>1299007.0</td>\n",
       "      <td>70860809.0</td>\n",
       "      <td>438.0</td>\n",
       "      <td>481592.0</td>\n",
       "      <td>0.0</td>\n",
       "      <td>226256.0</td>\n",
       "      <td>0.0</td>\n",
       "      <td>671.0</td>\n",
       "      <td>0.0</td>\n",
       "      <td>8360.0</td>\n",
       "      <td>steam</td>\n",
       "      <td>2004_1_0_1</td>\n",
       "      <td>650.0</td>\n",
       "    </tr>\n",
       "  </tbody>\n",
       "</table>\n",
       "</div>"
      ],
      "text/plain": [
       "   report_year  utility_id_ferc1  utility_id_pudl      utility_name_ferc1  \\\n",
       "0         2004                 1                7  AEP Generating Company   \n",
       "\n",
       "   plant_id_pudl  plant_id_ferc1           plant_name  asset_retirement_cost  \\\n",
       "0            526               1  rockport unit 1 aeg               370055.0   \n",
       "\n",
       "   avg_num_employees  capacity_mw  capex_equipment  capex_land  capex_per_mw  \\\n",
       "0                0.0        650.0      519609333.0   6472089.0      941097.0   \n",
       "\n",
       "   capex_structures  capex_total construction_type  construction_year  id  \\\n",
       "0        85261549.0  611713026.0      conventional             1984.0   1   \n",
       "\n",
       "   installation_year  net_generation_mwh  not_water_limited_capacity_mw  \\\n",
       "0             1984.0           4863470.0                          650.0   \n",
       "\n",
       "   opex_allowances  opex_boiler  opex_coolants  opex_electric  \\\n",
       "0              0.0    2674529.0            0.0       500806.0   \n",
       "\n",
       "   opex_engineering   opex_fuel  opex_misc_power  opex_misc_steam  \\\n",
       "0          515891.0  63145559.0        1087877.0         309521.0   \n",
       "\n",
       "   opex_operations  opex_per_mwh  opex_plants  opex_production_total  \\\n",
       "0         619333.0          14.6    1299007.0             70860809.0   \n",
       "\n",
       "   opex_rents  opex_steam  opex_steam_other  opex_structures  opex_transfer  \\\n",
       "0       438.0    481592.0               0.0         226256.0            0.0   \n",
       "\n",
       "   peak_demand_mw  plant_capability_mw  \\\n",
       "0           671.0                  0.0   \n",
       "\n",
       "   plant_hours_connected_while_generating plant_type   record_id  \\\n",
       "0                                  8360.0      steam  2004_1_0_1   \n",
       "\n",
       "   water_limited_capacity_mw  \n",
       "0                      650.0  "
      ]
     },
     "execution_count": 16,
     "metadata": {},
     "output_type": "execute_result"
    }
   ],
   "source": [
    "ferc1_steam.head(1)"
   ]
  },
  {
   "cell_type": "code",
   "execution_count": 17,
   "metadata": {
    "scrolled": true
   },
   "outputs": [
    {
     "data": {
      "text/html": [
       "<div>\n",
       "<style scoped>\n",
       "    .dataframe tbody tr th:only-of-type {\n",
       "        vertical-align: middle;\n",
       "    }\n",
       "\n",
       "    .dataframe tbody tr th {\n",
       "        vertical-align: top;\n",
       "    }\n",
       "\n",
       "    .dataframe thead th {\n",
       "        text-align: right;\n",
       "    }\n",
       "</style>\n",
       "<table border=\"1\" class=\"dataframe\">\n",
       "  <thead>\n",
       "    <tr style=\"text-align: right;\">\n",
       "      <th></th>\n",
       "      <th>report_year</th>\n",
       "      <th>utility_id_ferc1</th>\n",
       "      <th>utility_id_pudl</th>\n",
       "      <th>utility_name_ferc1</th>\n",
       "      <th>plant_id_pudl</th>\n",
       "      <th>plant_id_ferc1</th>\n",
       "      <th>plant_name</th>\n",
       "      <th>fuel_consumed_mmbtu</th>\n",
       "      <th>fuel_consumed_total_cost_mmbtu</th>\n",
       "      <th>fuel_consumed_total_cost_unit</th>\n",
       "      <th>fuel_cost_per_mmbtu</th>\n",
       "      <th>fuel_cost_per_mwh</th>\n",
       "      <th>fuel_cost_per_unit_burned</th>\n",
       "      <th>fuel_cost_per_unit_delivered</th>\n",
       "      <th>fuel_mmbtu_per_mwh</th>\n",
       "      <th>fuel_mmbtu_per_unit</th>\n",
       "      <th>fuel_qty_burned</th>\n",
       "      <th>fuel_type_code_pudl</th>\n",
       "      <th>fuel_unit</th>\n",
       "      <th>record_id</th>\n",
       "      <th>coal_mmbtu</th>\n",
       "      <th>total_mmbtu</th>\n",
       "      <th>coal_fraction</th>\n",
       "    </tr>\n",
       "  </thead>\n",
       "  <tbody>\n",
       "    <tr>\n",
       "      <th>0</th>\n",
       "      <td>2012</td>\n",
       "      <td>1</td>\n",
       "      <td>7</td>\n",
       "      <td>AEP Generating Company</td>\n",
       "      <td>526</td>\n",
       "      <td>3</td>\n",
       "      <td>rockport total aeg</td>\n",
       "      <td>9.199978e+07</td>\n",
       "      <td>2.023075e+08</td>\n",
       "      <td>2.022721e+08</td>\n",
       "      <td>2.199</td>\n",
       "      <td>22.0</td>\n",
       "      <td>39.364</td>\n",
       "      <td>39.174</td>\n",
       "      <td>9.806</td>\n",
       "      <td>17.904000</td>\n",
       "      <td>5138504.0</td>\n",
       "      <td>coal</td>\n",
       "      <td>ton</td>\n",
       "      <td>2012_1_0_7</td>\n",
       "      <td>9.199978e+07</td>\n",
       "      <td>9.208414e+07</td>\n",
       "      <td>0.999084</td>\n",
       "    </tr>\n",
       "    <tr>\n",
       "      <th>1</th>\n",
       "      <td>2012</td>\n",
       "      <td>1</td>\n",
       "      <td>7</td>\n",
       "      <td>AEP Generating Company</td>\n",
       "      <td>526</td>\n",
       "      <td>3</td>\n",
       "      <td>rockport total aeg</td>\n",
       "      <td>8.436413e+04</td>\n",
       "      <td>1.874149e+06</td>\n",
       "      <td>1.874166e+06</td>\n",
       "      <td>22.215</td>\n",
       "      <td>0.0</td>\n",
       "      <td>127.816</td>\n",
       "      <td>131.716</td>\n",
       "      <td>0.000</td>\n",
       "      <td>5.753538</td>\n",
       "      <td>14663.0</td>\n",
       "      <td>oil</td>\n",
       "      <td>bbl</td>\n",
       "      <td>2012_1_0_8</td>\n",
       "      <td>9.199978e+07</td>\n",
       "      <td>9.208414e+07</td>\n",
       "      <td>0.999084</td>\n",
       "    </tr>\n",
       "    <tr>\n",
       "      <th>2</th>\n",
       "      <td>2013</td>\n",
       "      <td>1</td>\n",
       "      <td>7</td>\n",
       "      <td>AEP Generating Company</td>\n",
       "      <td>526</td>\n",
       "      <td>3</td>\n",
       "      <td>rockport total aeg</td>\n",
       "      <td>7.696229e+07</td>\n",
       "      <td>2.014873e+08</td>\n",
       "      <td>2.015010e+08</td>\n",
       "      <td>2.618</td>\n",
       "      <td>25.0</td>\n",
       "      <td>46.148</td>\n",
       "      <td>46.242</td>\n",
       "      <td>9.831</td>\n",
       "      <td>17.626000</td>\n",
       "      <td>4366407.0</td>\n",
       "      <td>coal</td>\n",
       "      <td>ton</td>\n",
       "      <td>2013_1_0_7</td>\n",
       "      <td>7.696229e+07</td>\n",
       "      <td>7.706641e+07</td>\n",
       "      <td>0.998649</td>\n",
       "    </tr>\n",
       "    <tr>\n",
       "      <th>3</th>\n",
       "      <td>2013</td>\n",
       "      <td>1</td>\n",
       "      <td>7</td>\n",
       "      <td>AEP Generating Company</td>\n",
       "      <td>526</td>\n",
       "      <td>3</td>\n",
       "      <td>rockport total aeg</td>\n",
       "      <td>1.041231e+05</td>\n",
       "      <td>2.351515e+06</td>\n",
       "      <td>2.351540e+06</td>\n",
       "      <td>22.584</td>\n",
       "      <td>0.0</td>\n",
       "      <td>129.170</td>\n",
       "      <td>129.606</td>\n",
       "      <td>0.000</td>\n",
       "      <td>5.719476</td>\n",
       "      <td>18205.0</td>\n",
       "      <td>oil</td>\n",
       "      <td>bbl</td>\n",
       "      <td>2013_1_0_8</td>\n",
       "      <td>7.696229e+07</td>\n",
       "      <td>7.706641e+07</td>\n",
       "      <td>0.998649</td>\n",
       "    </tr>\n",
       "    <tr>\n",
       "      <th>4</th>\n",
       "      <td>2014</td>\n",
       "      <td>1</td>\n",
       "      <td>7</td>\n",
       "      <td>AEP Generating Company</td>\n",
       "      <td>526</td>\n",
       "      <td>3</td>\n",
       "      <td>rockport total aeg</td>\n",
       "      <td>8.010336e+07</td>\n",
       "      <td>2.106718e+08</td>\n",
       "      <td>2.106882e+08</td>\n",
       "      <td>2.630</td>\n",
       "      <td>25.0</td>\n",
       "      <td>46.744</td>\n",
       "      <td>46.236</td>\n",
       "      <td>9.589</td>\n",
       "      <td>17.772000</td>\n",
       "      <td>4507279.0</td>\n",
       "      <td>coal</td>\n",
       "      <td>ton</td>\n",
       "      <td>2014_1_0_7</td>\n",
       "      <td>8.010336e+07</td>\n",
       "      <td>8.021234e+07</td>\n",
       "      <td>0.998641</td>\n",
       "    </tr>\n",
       "    <tr>\n",
       "      <th>5</th>\n",
       "      <td>2014</td>\n",
       "      <td>1</td>\n",
       "      <td>7</td>\n",
       "      <td>AEP Generating Company</td>\n",
       "      <td>526</td>\n",
       "      <td>3</td>\n",
       "      <td>rockport total aeg</td>\n",
       "      <td>1.089744e+05</td>\n",
       "      <td>2.483635e+06</td>\n",
       "      <td>2.483658e+06</td>\n",
       "      <td>22.791</td>\n",
       "      <td>0.0</td>\n",
       "      <td>131.043</td>\n",
       "      <td>123.674</td>\n",
       "      <td>0.000</td>\n",
       "      <td>5.749716</td>\n",
       "      <td>18953.0</td>\n",
       "      <td>oil</td>\n",
       "      <td>bbl</td>\n",
       "      <td>2014_1_0_8</td>\n",
       "      <td>8.010336e+07</td>\n",
       "      <td>8.021234e+07</td>\n",
       "      <td>0.998641</td>\n",
       "    </tr>\n",
       "    <tr>\n",
       "      <th>6</th>\n",
       "      <td>2015</td>\n",
       "      <td>1</td>\n",
       "      <td>7</td>\n",
       "      <td>AEP Generating Company</td>\n",
       "      <td>526</td>\n",
       "      <td>3</td>\n",
       "      <td>rockport total aeg</td>\n",
       "      <td>6.151198e+07</td>\n",
       "      <td>1.572861e+08</td>\n",
       "      <td>1.572602e+08</td>\n",
       "      <td>2.557</td>\n",
       "      <td>25.0</td>\n",
       "      <td>45.277</td>\n",
       "      <td>44.747</td>\n",
       "      <td>9.909</td>\n",
       "      <td>17.710000</td>\n",
       "      <td>3473291.0</td>\n",
       "      <td>coal</td>\n",
       "      <td>ton</td>\n",
       "      <td>2015_1_0_7</td>\n",
       "      <td>6.151198e+07</td>\n",
       "      <td>6.165919e+07</td>\n",
       "      <td>0.997613</td>\n",
       "    </tr>\n",
       "    <tr>\n",
       "      <th>7</th>\n",
       "      <td>2015</td>\n",
       "      <td>1</td>\n",
       "      <td>7</td>\n",
       "      <td>AEP Generating Company</td>\n",
       "      <td>526</td>\n",
       "      <td>3</td>\n",
       "      <td>rockport total aeg</td>\n",
       "      <td>1.472068e+05</td>\n",
       "      <td>2.538582e+06</td>\n",
       "      <td>2.538543e+06</td>\n",
       "      <td>17.245</td>\n",
       "      <td>0.0</td>\n",
       "      <td>99.127</td>\n",
       "      <td>77.756</td>\n",
       "      <td>0.000</td>\n",
       "      <td>5.748246</td>\n",
       "      <td>25609.0</td>\n",
       "      <td>oil</td>\n",
       "      <td>bbl</td>\n",
       "      <td>2015_1_0_8</td>\n",
       "      <td>6.151198e+07</td>\n",
       "      <td>6.165919e+07</td>\n",
       "      <td>0.997613</td>\n",
       "    </tr>\n",
       "  </tbody>\n",
       "</table>\n",
       "</div>"
      ],
      "text/plain": [
       "   report_year  utility_id_ferc1  utility_id_pudl      utility_name_ferc1  \\\n",
       "0         2012                 1                7  AEP Generating Company   \n",
       "1         2012                 1                7  AEP Generating Company   \n",
       "2         2013                 1                7  AEP Generating Company   \n",
       "3         2013                 1                7  AEP Generating Company   \n",
       "4         2014                 1                7  AEP Generating Company   \n",
       "5         2014                 1                7  AEP Generating Company   \n",
       "6         2015                 1                7  AEP Generating Company   \n",
       "7         2015                 1                7  AEP Generating Company   \n",
       "\n",
       "   plant_id_pudl  plant_id_ferc1          plant_name  fuel_consumed_mmbtu  \\\n",
       "0            526               3  rockport total aeg         9.199978e+07   \n",
       "1            526               3  rockport total aeg         8.436413e+04   \n",
       "2            526               3  rockport total aeg         7.696229e+07   \n",
       "3            526               3  rockport total aeg         1.041231e+05   \n",
       "4            526               3  rockport total aeg         8.010336e+07   \n",
       "5            526               3  rockport total aeg         1.089744e+05   \n",
       "6            526               3  rockport total aeg         6.151198e+07   \n",
       "7            526               3  rockport total aeg         1.472068e+05   \n",
       "\n",
       "   fuel_consumed_total_cost_mmbtu  fuel_consumed_total_cost_unit  \\\n",
       "0                    2.023075e+08                   2.022721e+08   \n",
       "1                    1.874149e+06                   1.874166e+06   \n",
       "2                    2.014873e+08                   2.015010e+08   \n",
       "3                    2.351515e+06                   2.351540e+06   \n",
       "4                    2.106718e+08                   2.106882e+08   \n",
       "5                    2.483635e+06                   2.483658e+06   \n",
       "6                    1.572861e+08                   1.572602e+08   \n",
       "7                    2.538582e+06                   2.538543e+06   \n",
       "\n",
       "   fuel_cost_per_mmbtu  fuel_cost_per_mwh  fuel_cost_per_unit_burned  \\\n",
       "0                2.199               22.0                     39.364   \n",
       "1               22.215                0.0                    127.816   \n",
       "2                2.618               25.0                     46.148   \n",
       "3               22.584                0.0                    129.170   \n",
       "4                2.630               25.0                     46.744   \n",
       "5               22.791                0.0                    131.043   \n",
       "6                2.557               25.0                     45.277   \n",
       "7               17.245                0.0                     99.127   \n",
       "\n",
       "   fuel_cost_per_unit_delivered  fuel_mmbtu_per_mwh  fuel_mmbtu_per_unit  \\\n",
       "0                        39.174               9.806            17.904000   \n",
       "1                       131.716               0.000             5.753538   \n",
       "2                        46.242               9.831            17.626000   \n",
       "3                       129.606               0.000             5.719476   \n",
       "4                        46.236               9.589            17.772000   \n",
       "5                       123.674               0.000             5.749716   \n",
       "6                        44.747               9.909            17.710000   \n",
       "7                        77.756               0.000             5.748246   \n",
       "\n",
       "   fuel_qty_burned fuel_type_code_pudl fuel_unit   record_id    coal_mmbtu  \\\n",
       "0        5138504.0                coal       ton  2012_1_0_7  9.199978e+07   \n",
       "1          14663.0                 oil       bbl  2012_1_0_8  9.199978e+07   \n",
       "2        4366407.0                coal       ton  2013_1_0_7  7.696229e+07   \n",
       "3          18205.0                 oil       bbl  2013_1_0_8  7.696229e+07   \n",
       "4        4507279.0                coal       ton  2014_1_0_7  8.010336e+07   \n",
       "5          18953.0                 oil       bbl  2014_1_0_8  8.010336e+07   \n",
       "6        3473291.0                coal       ton  2015_1_0_7  6.151198e+07   \n",
       "7          25609.0                 oil       bbl  2015_1_0_8  6.151198e+07   \n",
       "\n",
       "    total_mmbtu  coal_fraction  \n",
       "0  9.208414e+07       0.999084  \n",
       "1  9.208414e+07       0.999084  \n",
       "2  7.706641e+07       0.998649  \n",
       "3  7.706641e+07       0.998649  \n",
       "4  8.021234e+07       0.998641  \n",
       "5  8.021234e+07       0.998641  \n",
       "6  6.165919e+07       0.997613  \n",
       "7  6.165919e+07       0.997613  "
      ]
     },
     "execution_count": 17,
     "metadata": {},
     "output_type": "execute_result"
    }
   ],
   "source": [
    "new.head(8)"
   ]
  },
  {
   "cell_type": "code",
   "execution_count": 18,
   "metadata": {},
   "outputs": [],
   "source": [
    "# diff = fuel_df_plant.fuel_consumed_total_cost_mmbtu - fuel_df_plant.fuel_consumed_total_cost_unit\n",
    "# Max difference in costs is on the order of 1e+9; median is 4e-1; \n",
    "# Could use this calculation comparison to eliminate, or further investigate, outliers."
   ]
  },
  {
   "cell_type": "code",
   "execution_count": 19,
   "metadata": {},
   "outputs": [],
   "source": [
    "out_df = pd.merge(new, ferc1_steam, on=['plant_id_ferc1', 'report_year', 'plant_name', 'utility_id_ferc1'])\n"
   ]
  },
  {
   "cell_type": "code",
   "execution_count": 20,
   "metadata": {},
   "outputs": [
    {
     "data": {
      "text/plain": [
       "Index(['report_year', 'utility_id_ferc1', 'utility_id_pudl_x',\n",
       "       'utility_name_ferc1_x', 'plant_id_pudl_x', 'plant_id_ferc1',\n",
       "       'plant_name', 'fuel_consumed_mmbtu', 'fuel_consumed_total_cost_mmbtu',\n",
       "       'fuel_consumed_total_cost_unit', 'fuel_cost_per_mmbtu',\n",
       "       'fuel_cost_per_mwh', 'fuel_cost_per_unit_burned',\n",
       "       'fuel_cost_per_unit_delivered', 'fuel_mmbtu_per_mwh',\n",
       "       'fuel_mmbtu_per_unit', 'fuel_qty_burned', 'fuel_type_code_pudl',\n",
       "       'fuel_unit', 'record_id_x', 'coal_mmbtu', 'total_mmbtu',\n",
       "       'coal_fraction', 'utility_id_pudl_y', 'utility_name_ferc1_y',\n",
       "       'plant_id_pudl_y', 'asset_retirement_cost', 'avg_num_employees',\n",
       "       'capacity_mw', 'capex_equipment', 'capex_land', 'capex_per_mw',\n",
       "       'capex_structures', 'capex_total', 'construction_type',\n",
       "       'construction_year', 'id', 'installation_year', 'net_generation_mwh',\n",
       "       'not_water_limited_capacity_mw', 'opex_allowances', 'opex_boiler',\n",
       "       'opex_coolants', 'opex_electric', 'opex_engineering', 'opex_fuel',\n",
       "       'opex_misc_power', 'opex_misc_steam', 'opex_operations', 'opex_per_mwh',\n",
       "       'opex_plants', 'opex_production_total', 'opex_rents', 'opex_steam',\n",
       "       'opex_steam_other', 'opex_structures', 'opex_transfer',\n",
       "       'peak_demand_mw', 'plant_capability_mw',\n",
       "       'plant_hours_connected_while_generating', 'plant_type', 'record_id_y',\n",
       "       'water_limited_capacity_mw'],\n",
       "      dtype='object')"
      ]
     },
     "execution_count": 20,
     "metadata": {},
     "output_type": "execute_result"
    }
   ],
   "source": [
    "out_df.columns"
   ]
  },
  {
   "cell_type": "code",
   "execution_count": 21,
   "metadata": {},
   "outputs": [],
   "source": [
    "out_df[\"heat_rate\"] = (out_df.fuel_consumed_mmbtu / out_df.net_generation_mwh)\n",
    "out_df['capacity_factor'] = (out_df['net_generation_mwh']/ (out_df['capacity_mw']*8760))\n",
    "\n",
    "first_cols = [\n",
    "    'report_year',\n",
    "    'utility_id_ferc1',\n",
    "    'plant_id_ferc1',\n",
    "    'plant_name'\n",
    "]\n",
    "\n",
    "out_df = pudl.helpers.organize_cols(out_df, first_cols)"
   ]
  },
  {
   "cell_type": "raw",
   "metadata": {},
   "source": [
    "pd.options.mode.chained_assignment = None  # default='warn'"
   ]
  },
  {
   "cell_type": "code",
   "execution_count": 22,
   "metadata": {
    "scrolled": true
   },
   "outputs": [],
   "source": [
    "# Check to see if the 'tot_prdctn_expns' is equivalent to the non-fuel costs by summing non-fuel values\n",
    "out_df[\"all_costs\"] = (out_df.opex_allowances+out_df.opex_boiler+\n",
    "                                  out_df.opex_coolants+\n",
    "                         out_df.opex_electric+out_df.opex_engineering+\n",
    "                                  out_df.opex_fuel+out_df.opex_misc_power+\n",
    "                                  out_df.opex_misc_steam+\n",
    "                        out_df.opex_operations+out_df.opex_plants+\n",
    "                                  out_df.opex_rents+\n",
    "                        out_df.opex_steam+out_df.opex_steam_other+\n",
    "                                  out_df.opex_structures+\n",
    "                        out_df.opex_transfer)"
   ]
  },
  {
   "cell_type": "code",
   "execution_count": 23,
   "metadata": {},
   "outputs": [],
   "source": [
    "# Check to see if for all records the 'tot_prdctn_expns' approximately equals the sum from 'all_costs'\n",
    "out_df['result'] = out_df['all_costs'].ge(out_df['opex_production_total']) | np.isclose(out_df['all_costs'], out_df['opex_production_total'], rtol=1e+1)"
   ]
  },
  {
   "cell_type": "code",
   "execution_count": 24,
   "metadata": {},
   "outputs": [
    {
     "data": {
      "text/plain": [
       "count     3286\n",
       "unique       1\n",
       "top       True\n",
       "freq      3286\n",
       "Name: result, dtype: object"
      ]
     },
     "execution_count": 24,
     "metadata": {},
     "output_type": "execute_result"
    }
   ],
   "source": [
    "out_df.result.describe() # For all records, the costs are within $10. Confirms 'tot_prdctn_expsn' is all non-fuel costs"
   ]
  },
  {
   "cell_type": "code",
   "execution_count": 25,
   "metadata": {},
   "outputs": [],
   "source": [
    "# No need to retain these - have confirmed that 'opex_production_total' is sum of all other costs\n",
    "out_df.drop(columns=['result','all_costs'], inplace=True)"
   ]
  },
  {
   "cell_type": "code",
   "execution_count": 26,
   "metadata": {},
   "outputs": [],
   "source": [
    "# We can get non-fuel by subtracting opex_fuel\n",
    "out_df['non_fuel_costs'] = (out_df.opex_production_total - out_df.opex_fuel)"
   ]
  },
  {
   "cell_type": "code",
   "execution_count": 27,
   "metadata": {},
   "outputs": [],
   "source": [
    "out_df.installation_year = pd.to_numeric(out_df.installation_year, errors='coerce')\n",
    "out_df.construction_year = pd.to_numeric(out_df.construction_year, errors='coerce')"
   ]
  },
  {
   "cell_type": "code",
   "execution_count": 28,
   "metadata": {},
   "outputs": [
    {
     "data": {
      "text/plain": [
       "array(['steam', None, 'combustion_turbine', 'internal_combustion',\n",
       "       'nuclear', 'combined_cycle'], dtype=object)"
      ]
     },
     "execution_count": 28,
     "metadata": {},
     "output_type": "execute_result"
    }
   ],
   "source": [
    "# What types of fuel are included in the training data set?\n",
    "out_df.plant_type.unique()"
   ]
  },
  {
   "cell_type": "code",
   "execution_count": 29,
   "metadata": {},
   "outputs": [],
   "source": [
    "# All records\n",
    "out_df_s = out_df[(out_df['plant_type'] == 'steam')]\n",
    "# out_df_ct = out_df[(out_df['plant_type'] == 'combustion_turbine')] \n",
    "# out_df_cc = out_df[(out_df['plant_type'] == 'combined_cycle')] \n",
    "# out_df_ic = out_df[(out_df['plant_type'] == 'internal_combustion')]\n",
    "# out_df_n = out_df[(out_df['plant_type'] == 'nuclear')] \n",
    "# out_df_pv = out_df[(out_df['plant_type'] == 'photovoltaic')] "
   ]
  },
  {
   "cell_type": "code",
   "execution_count": 30,
   "metadata": {},
   "outputs": [],
   "source": [
    "# Unique plants\n",
    "steam_plants = out_df_s.sort_values('installation_year').drop_duplicates(subset=['capacity_mw', 'plant_name'], keep='last') # 1007 'plants'\n",
    "# ct = out_df_ct.sort_values('installation_year').drop_duplicates(subset=['plant_id_ferc1'], keep='last') # 584 'plants'\n",
    "# cc = out_df_cc.sort_values('installation_year').drop_duplicates(subset=['plant_id_ferc1'], keep='last') # 188 'plants'\n",
    "# ic = out_df_ic.sort_values('installation_year').drop_duplicates(subset=['plant_id_ferc1'], keep='last') # 147 'plants'\n",
    "# nuc = out_df_n.sort_values('installation_year').drop_duplicates(subset=['plant_id_ferc1'], keep='last') # 5 'plants'\n",
    "# pv = out_df_pv.sort_values('installation_year').drop_duplicates(subset=['plant_id_ferc1'], keep='last') # 3 'plants'\n"
   ]
  },
  {
   "cell_type": "code",
   "execution_count": 31,
   "metadata": {},
   "outputs": [],
   "source": [
    "# Remove null values for variables of interest, for purposes of histogram plotting\n",
    "steam_plants = steam_plants[steam_plants.construction_year.notnull()]\n",
    "steam_plants = steam_plants[steam_plants.installation_year.notnull()]\n",
    "steam_plants = steam_plants[steam_plants.capacity_mw.notnull()]\n",
    "steam_plants = steam_plants[steam_plants.heat_rate.notnull()]"
   ]
  },
  {
   "cell_type": "code",
   "execution_count": 32,
   "metadata": {},
   "outputs": [
    {
     "data": {
      "image/png": "[encoded data removed]",
      "text/plain": [
       "<Figure size 1500x900 with 1 Axes>"
      ]
     },
     "metadata": {},
     "output_type": "display_data"
    }
   ],
   "source": [
    "# Look at distribution of construction years vs. installation years.\n",
    "fig = plt.figure()\n",
    "\n",
    "plt.xlabel('Year')\n",
    "plt.ylabel('Number plants')\n",
    "plt.title('FERC 1 Steam Plants')\n",
    "\n",
    "mpl.pyplot.hist(steam_plants.construction_year, bins = 117, range = [1900,2016], alpha=0.5, label='Construction year')\n",
    "mpl.pyplot.hist(steam_plants.installation_year, bins = 117, range = [1900,2016], alpha=0.5, label='Installation year')\n",
    "mpl.pyplot.legend(loc='upper right');"
   ]
  },
  {
   "cell_type": "code",
   "execution_count": 33,
   "metadata": {},
   "outputs": [],
   "source": [
    "# fig = plt.figure()\n",
    "# # ax1 = fig.add_axes([0.1, 0.5, 0.8, 0.4],\n",
    "# #                    xticklabels=[], ylim=(-1.2, 1.2))\n",
    "# plt.xlabel('Year')\n",
    "# plt.ylabel('Number of plants')\n",
    "# plt.title('FERC 1 Combustion Turbine Plants')\n",
    "\n",
    "# mpl.pyplot.hist(ct.construction_year, bins = 117, range = [1900,2016], alpha=0.5, label='Construction year')\n",
    "# mpl.pyplot.hist(ct.installation_year, bins = 117, range = [1900,2016], alpha=0.5, label='Installation year')\n",
    "# mpl.pyplot.legend(loc='upper left');"
   ]
  },
  {
   "cell_type": "code",
   "execution_count": 34,
   "metadata": {},
   "outputs": [],
   "source": [
    "# fig = plt.figure()\n",
    "# # ax1 = fig.add_axes([0.1, 0.5, 0.8, 0.4],\n",
    "# #                    xticklabels=[], ylim=(-1.2, 1.2))\n",
    "# plt.xlabel('Year')\n",
    "# plt.ylabel('Number of plants')\n",
    "# plt.title('FERC 1 Combined Cycle Plants')\n",
    "\n",
    "# mpl.pyplot.hist(cc.construction_year, bins = 117, range = [1900,2016], alpha=0.5, label='Construction year')\n",
    "# mpl.pyplot.hist(cc.installation_year, bins = 117, range = [1900,2016], alpha=0.5, label='Installation year')\n",
    "# mpl.pyplot.legend(loc='upper left');"
   ]
  },
  {
   "cell_type": "code",
   "execution_count": 35,
   "metadata": {
    "scrolled": false
   },
   "outputs": [],
   "source": [
    "# fig = plt.figure()\n",
    "# # ax1 = fig.add_axes([0.1, 0.5, 0.8, 0.4],\n",
    "# #                    xticklabels=[], ylim=(-1.2, 1.2))\n",
    "# plt.xlabel('Year')\n",
    "# plt.ylabel('Number of plants')\n",
    "# plt.title('FERC 1 Internal Combustion Plants')\n",
    "\n",
    "# mpl.pyplot.hist(ic.construction_year, bins = 117, range = [1900,2016], alpha=0.5, label='Construction year')\n",
    "# mpl.pyplot.hist(ic.installation_year, bins = 117, range = [1900,2016], alpha=0.5, label='Installation year')\n",
    "# mpl.pyplot.legend(loc='upper left');\n"
   ]
  },
  {
   "cell_type": "code",
   "execution_count": 36,
   "metadata": {},
   "outputs": [
    {
     "data": {
      "image/png": "[encoded data removed]",
      "text/plain": [
       "<Figure size 1500x900 with 1 Axes>"
      ]
     },
     "metadata": {},
     "output_type": "display_data"
    }
   ],
   "source": [
    "plt.xlabel('Installation year')\n",
    "plt.ylabel('Capacity (MW)')\n",
    "plt.title('FERC 1 Steam Plants')\n",
    "# plt.legend()\n",
    "\n",
    "mpl.pyplot.hist2d(steam_plants.installation_year, steam_plants.capacity_mw, bins=117);\n",
    "#1940 and forward, up to 3K megawatts, just steam - natural groupings?\n",
    "# install, constru, capacity, and HR then we should find groupings to work wtih."
   ]
  },
  {
   "cell_type": "code",
   "execution_count": null,
   "metadata": {},
   "outputs": [],
   "source": []
  },
  {
   "cell_type": "code",
   "execution_count": 37,
   "metadata": {},
   "outputs": [],
   "source": [
    "def ferc1_record_subsetting(df, plant_type = 'steam', year_var = 'installation_year', \n",
    "                            bin1 = 1970, bin2 = 1987, new_var = 'new_var'):\n",
    "    \"\"\" Subsets records by plant type and vintage. Creates new column for vintage.\n",
    "    Input variables:\n",
    "        'old' = year cutoff below which plants are considered 'old'\n",
    "        'new' = year cutoff above which plants are considered 'new'\n",
    "        'plant_type' = FERC 1 plant types, including: 'steam', 'combustion_turbine', 'internal_combustion', 'nuclear', 'combined_cycle', 'photovoltaic'\n",
    "        'year_var' = either 'installation_year' or 'construction_year'\n",
    "        \n",
    "        Returns data frame with new column for vintage, and subset to the specified plant types.\n",
    "        \"\"\"\n",
    "    \n",
    "    out_df = df[(df['plant_type'] == plant_type)]\n",
    "    out_df.loc[out_df[year_var] <= bin1,new_var] = 1\n",
    "    out_df.loc[(out_df[year_var] > bin1) & (out_df[year_var] <= bin2), new_var] = 2\n",
    "    out_df.loc[out_df[year_var] >= bin2, new_var] = 3\n",
    "#     out_df.new_var = out_df.new_var.as_type(int)\n",
    "\n",
    "    \n",
    "    \n",
    "    return out_df"
   ]
  },
  {
   "cell_type": "code",
   "execution_count": 38,
   "metadata": {},
   "outputs": [],
   "source": [
    "### Still need to convert 'vintage' to a categorical variable for further use"
   ]
  },
  {
   "cell_type": "code",
   "execution_count": 39,
   "metadata": {},
   "outputs": [],
   "source": [
    "new = ferc1_record_subsetting(out_df_s, new_var = 'vintage2')"
   ]
  },
  {
   "cell_type": "code",
   "execution_count": 40,
   "metadata": {},
   "outputs": [
    {
     "data": {
      "text/html": [
       "<div>\n",
       "<style scoped>\n",
       "    .dataframe tbody tr th:only-of-type {\n",
       "        vertical-align: middle;\n",
       "    }\n",
       "\n",
       "    .dataframe tbody tr th {\n",
       "        vertical-align: top;\n",
       "    }\n",
       "\n",
       "    .dataframe thead th {\n",
       "        text-align: right;\n",
       "    }\n",
       "</style>\n",
       "<table border=\"1\" class=\"dataframe\">\n",
       "  <thead>\n",
       "    <tr style=\"text-align: right;\">\n",
       "      <th></th>\n",
       "      <th>report_year</th>\n",
       "      <th>utility_id_ferc1</th>\n",
       "      <th>plant_id_ferc1</th>\n",
       "      <th>plant_name</th>\n",
       "      <th>asset_retirement_cost</th>\n",
       "      <th>avg_num_employees</th>\n",
       "      <th>capacity_factor</th>\n",
       "      <th>capacity_mw</th>\n",
       "      <th>capex_equipment</th>\n",
       "      <th>capex_land</th>\n",
       "      <th>capex_per_mw</th>\n",
       "      <th>capex_structures</th>\n",
       "      <th>capex_total</th>\n",
       "      <th>coal_fraction</th>\n",
       "      <th>coal_mmbtu</th>\n",
       "      <th>construction_type</th>\n",
       "      <th>construction_year</th>\n",
       "      <th>fuel_consumed_mmbtu</th>\n",
       "      <th>fuel_consumed_total_cost_mmbtu</th>\n",
       "      <th>fuel_consumed_total_cost_unit</th>\n",
       "      <th>fuel_cost_per_mmbtu</th>\n",
       "      <th>fuel_cost_per_mwh</th>\n",
       "      <th>fuel_cost_per_unit_burned</th>\n",
       "      <th>fuel_cost_per_unit_delivered</th>\n",
       "      <th>fuel_mmbtu_per_mwh</th>\n",
       "      <th>fuel_mmbtu_per_unit</th>\n",
       "      <th>fuel_qty_burned</th>\n",
       "      <th>fuel_type_code_pudl</th>\n",
       "      <th>...</th>\n",
       "      <th>opex_fuel</th>\n",
       "      <th>opex_misc_power</th>\n",
       "      <th>opex_misc_steam</th>\n",
       "      <th>opex_operations</th>\n",
       "      <th>opex_per_mwh</th>\n",
       "      <th>opex_plants</th>\n",
       "      <th>opex_production_total</th>\n",
       "      <th>opex_rents</th>\n",
       "      <th>opex_steam</th>\n",
       "      <th>opex_steam_other</th>\n",
       "      <th>opex_structures</th>\n",
       "      <th>opex_transfer</th>\n",
       "      <th>peak_demand_mw</th>\n",
       "      <th>plant_capability_mw</th>\n",
       "      <th>plant_hours_connected_while_generating</th>\n",
       "      <th>plant_id_pudl_x</th>\n",
       "      <th>plant_id_pudl_y</th>\n",
       "      <th>plant_type</th>\n",
       "      <th>record_id_x</th>\n",
       "      <th>record_id_y</th>\n",
       "      <th>total_mmbtu</th>\n",
       "      <th>utility_id_pudl_x</th>\n",
       "      <th>utility_id_pudl_y</th>\n",
       "      <th>utility_name_ferc1_x</th>\n",
       "      <th>utility_name_ferc1_y</th>\n",
       "      <th>water_limited_capacity_mw</th>\n",
       "      <th>non_fuel_costs</th>\n",
       "      <th>vintage2</th>\n",
       "    </tr>\n",
       "  </thead>\n",
       "  <tbody>\n",
       "    <tr>\n",
       "      <th>0</th>\n",
       "      <td>2012</td>\n",
       "      <td>1</td>\n",
       "      <td>3</td>\n",
       "      <td>rockport total aeg</td>\n",
       "      <td>2576019.0</td>\n",
       "      <td>0.0</td>\n",
       "      <td>0.818239</td>\n",
       "      <td>1310.0</td>\n",
       "      <td>656230841.0</td>\n",
       "      <td>6547239.0</td>\n",
       "      <td>583390.2</td>\n",
       "      <td>98887065.0</td>\n",
       "      <td>764241164.0</td>\n",
       "      <td>0.999084</td>\n",
       "      <td>9.199978e+07</td>\n",
       "      <td>conventional</td>\n",
       "      <td>1984.0</td>\n",
       "      <td>9.199978e+07</td>\n",
       "      <td>2.023075e+08</td>\n",
       "      <td>2.022721e+08</td>\n",
       "      <td>2.199</td>\n",
       "      <td>22.0</td>\n",
       "      <td>39.364</td>\n",
       "      <td>39.174</td>\n",
       "      <td>9.806</td>\n",
       "      <td>17.904000</td>\n",
       "      <td>5138504.0</td>\n",
       "      <td>coal</td>\n",
       "      <td>...</td>\n",
       "      <td>204148097.0</td>\n",
       "      <td>3557644.0</td>\n",
       "      <td>985151.0</td>\n",
       "      <td>2529691.0</td>\n",
       "      <td>31.9</td>\n",
       "      <td>2119375.0</td>\n",
       "      <td>299544259.0</td>\n",
       "      <td>68287760.0</td>\n",
       "      <td>5835118.0</td>\n",
       "      <td>0.0</td>\n",
       "      <td>771157.0</td>\n",
       "      <td>0.0</td>\n",
       "      <td>1319.0</td>\n",
       "      <td>0.0</td>\n",
       "      <td>7915.0</td>\n",
       "      <td>526</td>\n",
       "      <td>526</td>\n",
       "      <td>steam</td>\n",
       "      <td>2012_1_0_7</td>\n",
       "      <td>2012_1_0_3</td>\n",
       "      <td>9.208414e+07</td>\n",
       "      <td>7</td>\n",
       "      <td>7</td>\n",
       "      <td>AEP Generating Company</td>\n",
       "      <td>AEP Generating Company</td>\n",
       "      <td>1308.0</td>\n",
       "      <td>95396162.0</td>\n",
       "      <td>3.0</td>\n",
       "    </tr>\n",
       "    <tr>\n",
       "      <th>1</th>\n",
       "      <td>2012</td>\n",
       "      <td>1</td>\n",
       "      <td>3</td>\n",
       "      <td>rockport total aeg</td>\n",
       "      <td>2576019.0</td>\n",
       "      <td>0.0</td>\n",
       "      <td>0.818239</td>\n",
       "      <td>1310.0</td>\n",
       "      <td>656230841.0</td>\n",
       "      <td>6547239.0</td>\n",
       "      <td>583390.2</td>\n",
       "      <td>98887065.0</td>\n",
       "      <td>764241164.0</td>\n",
       "      <td>0.999084</td>\n",
       "      <td>9.199978e+07</td>\n",
       "      <td>conventional</td>\n",
       "      <td>1984.0</td>\n",
       "      <td>8.436413e+04</td>\n",
       "      <td>1.874149e+06</td>\n",
       "      <td>1.874166e+06</td>\n",
       "      <td>22.215</td>\n",
       "      <td>0.0</td>\n",
       "      <td>127.816</td>\n",
       "      <td>131.716</td>\n",
       "      <td>0.000</td>\n",
       "      <td>5.753538</td>\n",
       "      <td>14663.0</td>\n",
       "      <td>oil</td>\n",
       "      <td>...</td>\n",
       "      <td>204148097.0</td>\n",
       "      <td>3557644.0</td>\n",
       "      <td>985151.0</td>\n",
       "      <td>2529691.0</td>\n",
       "      <td>31.9</td>\n",
       "      <td>2119375.0</td>\n",
       "      <td>299544259.0</td>\n",
       "      <td>68287760.0</td>\n",
       "      <td>5835118.0</td>\n",
       "      <td>0.0</td>\n",
       "      <td>771157.0</td>\n",
       "      <td>0.0</td>\n",
       "      <td>1319.0</td>\n",
       "      <td>0.0</td>\n",
       "      <td>7915.0</td>\n",
       "      <td>526</td>\n",
       "      <td>526</td>\n",
       "      <td>steam</td>\n",
       "      <td>2012_1_0_8</td>\n",
       "      <td>2012_1_0_3</td>\n",
       "      <td>9.208414e+07</td>\n",
       "      <td>7</td>\n",
       "      <td>7</td>\n",
       "      <td>AEP Generating Company</td>\n",
       "      <td>AEP Generating Company</td>\n",
       "      <td>1308.0</td>\n",
       "      <td>95396162.0</td>\n",
       "      <td>3.0</td>\n",
       "    </tr>\n",
       "  </tbody>\n",
       "</table>\n",
       "<p>2 rows × 67 columns</p>\n",
       "</div>"
      ],
      "text/plain": [
       "   report_year  utility_id_ferc1  plant_id_ferc1          plant_name  \\\n",
       "0         2012                 1               3  rockport total aeg   \n",
       "1         2012                 1               3  rockport total aeg   \n",
       "\n",
       "   asset_retirement_cost  avg_num_employees  capacity_factor  capacity_mw  \\\n",
       "0              2576019.0                0.0         0.818239       1310.0   \n",
       "1              2576019.0                0.0         0.818239       1310.0   \n",
       "\n",
       "   capex_equipment  capex_land  capex_per_mw  capex_structures  capex_total  \\\n",
       "0      656230841.0   6547239.0      583390.2        98887065.0  764241164.0   \n",
       "1      656230841.0   6547239.0      583390.2        98887065.0  764241164.0   \n",
       "\n",
       "   coal_fraction    coal_mmbtu construction_type  construction_year  \\\n",
       "0       0.999084  9.199978e+07      conventional             1984.0   \n",
       "1       0.999084  9.199978e+07      conventional             1984.0   \n",
       "\n",
       "   fuel_consumed_mmbtu  fuel_consumed_total_cost_mmbtu  \\\n",
       "0         9.199978e+07                    2.023075e+08   \n",
       "1         8.436413e+04                    1.874149e+06   \n",
       "\n",
       "   fuel_consumed_total_cost_unit  fuel_cost_per_mmbtu  fuel_cost_per_mwh  \\\n",
       "0                   2.022721e+08                2.199               22.0   \n",
       "1                   1.874166e+06               22.215                0.0   \n",
       "\n",
       "   fuel_cost_per_unit_burned  fuel_cost_per_unit_delivered  \\\n",
       "0                     39.364                        39.174   \n",
       "1                    127.816                       131.716   \n",
       "\n",
       "   fuel_mmbtu_per_mwh  fuel_mmbtu_per_unit  fuel_qty_burned  \\\n",
       "0               9.806            17.904000        5138504.0   \n",
       "1               0.000             5.753538          14663.0   \n",
       "\n",
       "  fuel_type_code_pudl  ...    opex_fuel  opex_misc_power  opex_misc_steam  \\\n",
       "0                coal  ...  204148097.0        3557644.0         985151.0   \n",
       "1                 oil  ...  204148097.0        3557644.0         985151.0   \n",
       "\n",
       "   opex_operations  opex_per_mwh  opex_plants  opex_production_total  \\\n",
       "0        2529691.0          31.9    2119375.0            299544259.0   \n",
       "1        2529691.0          31.9    2119375.0            299544259.0   \n",
       "\n",
       "   opex_rents  opex_steam  opex_steam_other  opex_structures  opex_transfer  \\\n",
       "0  68287760.0   5835118.0               0.0         771157.0            0.0   \n",
       "1  68287760.0   5835118.0               0.0         771157.0            0.0   \n",
       "\n",
       "   peak_demand_mw  plant_capability_mw  \\\n",
       "0          1319.0                  0.0   \n",
       "1          1319.0                  0.0   \n",
       "\n",
       "   plant_hours_connected_while_generating  plant_id_pudl_x  plant_id_pudl_y  \\\n",
       "0                                  7915.0              526              526   \n",
       "1                                  7915.0              526              526   \n",
       "\n",
       "   plant_type  record_id_x  record_id_y   total_mmbtu  utility_id_pudl_x  \\\n",
       "0       steam   2012_1_0_7   2012_1_0_3  9.208414e+07                  7   \n",
       "1       steam   2012_1_0_8   2012_1_0_3  9.208414e+07                  7   \n",
       "\n",
       "   utility_id_pudl_y    utility_name_ferc1_x    utility_name_ferc1_y  \\\n",
       "0                  7  AEP Generating Company  AEP Generating Company   \n",
       "1                  7  AEP Generating Company  AEP Generating Company   \n",
       "\n",
       "   water_limited_capacity_mw  non_fuel_costs  vintage2  \n",
       "0                     1308.0      95396162.0       3.0  \n",
       "1                     1308.0      95396162.0       3.0  \n",
       "\n",
       "[2 rows x 67 columns]"
      ]
     },
     "execution_count": 40,
     "metadata": {},
     "output_type": "execute_result"
    }
   ],
   "source": [
    "new.head(2)"
   ]
  },
  {
   "cell_type": "code",
   "execution_count": 41,
   "metadata": {
    "scrolled": false
   },
   "outputs": [
    {
     "data": {
      "text/plain": [
       "<matplotlib.axes._subplots.AxesSubplot at 0x7f41204bca20>"
      ]
     },
     "execution_count": 41,
     "metadata": {},
     "output_type": "execute_result"
    },
    {
     "data": {
      "image/png": "[encoded data removed]",
      "text/plain": [
       "<Figure size 1500x900 with 1 Axes>"
      ]
     },
     "metadata": {},
     "output_type": "display_data"
    }
   ],
   "source": [
    "new.net_generation_mwh.hist(alpha=0.5, bins=10)"
   ]
  },
  {
   "cell_type": "markdown",
   "metadata": {},
   "source": [
    "### Manual binning of construction year, installation year, plant capacity, and net generation"
   ]
  },
  {
   "cell_type": "code",
   "execution_count": 42,
   "metadata": {},
   "outputs": [],
   "source": [
    "oldest = new.loc[(new['construction_year'] < 1956)]\n",
    "older = new.loc[(new['construction_year'] >= 1946) & (new['construction_year']< 1956)]\n",
    "mid = new.loc[(new['construction_year'] >= 1956) & (new['construction_year']< 1966)]\n",
    "newer = new.loc[(new['construction_year'] >= 1966) & (new['construction_year']< 1986)]\n",
    "newest = new.loc[new['construction_year'] >= 1986]"
   ]
  },
  {
   "cell_type": "code",
   "execution_count": 43,
   "metadata": {},
   "outputs": [
    {
     "name": "stdout",
     "output_type": "stream",
     "text": [
      "Adj. R-squared = \n",
      "0.778807770303498\n",
      "\n",
      "Intercept             1.453108e+06\n",
      "net_generation_mwh    6.660243e+00\n",
      "capacity_mw           1.573394e+04\n",
      "dtype: float64\n"
     ]
    }
   ],
   "source": [
    "res = sm.OLS.from_formula(formula='non_fuel_costs ~ net_generation_mwh + capacity_mw', data=oldest).fit()\n",
    "# print(res.params)\n",
    "print(\"Adj. R-squared = \")\n",
    "print(res.rsquared_adj)\n",
    "print(\"\")\n",
    "print(res.params)"
   ]
  },
  {
   "cell_type": "code",
   "execution_count": 44,
   "metadata": {},
   "outputs": [
    {
     "name": "stdout",
     "output_type": "stream",
     "text": [
      "R-squared = \n",
      "0.8177036229450785\n",
      "\n",
      "Intercept             2.488636e+06\n",
      "net_generation_mwh    7.539107e+00\n",
      "capacity_mw           1.060152e+04\n",
      "dtype: float64\n"
     ]
    }
   ],
   "source": [
    "res = sm.OLS.from_formula(formula='non_fuel_costs ~ net_generation_mwh + capacity_mw', data=older).fit()\n",
    "# print(res.params)\n",
    "print(\"R-squared = \")\n",
    "print(res.rsquared_adj)\n",
    "print(\"\")\n",
    "print(res.params)"
   ]
  },
  {
   "cell_type": "code",
   "execution_count": 45,
   "metadata": {},
   "outputs": [
    {
     "name": "stdout",
     "output_type": "stream",
     "text": [
      "R-squared = \n",
      "0.7692049507118425\n",
      "\n",
      "Intercept             1.852840e+06\n",
      "net_generation_mwh    2.317142e+00\n",
      "capacity_mw           2.809504e+04\n",
      "dtype: float64\n"
     ]
    }
   ],
   "source": [
    "res = sm.OLS.from_formula(formula='non_fuel_costs ~ net_generation_mwh + capacity_mw', data=mid).fit()\n",
    "# print(res.params)\n",
    "print(\"R-squared = \")\n",
    "print(res.rsquared_adj)\n",
    "print(\"\")\n",
    "print(res.params)"
   ]
  },
  {
   "cell_type": "code",
   "execution_count": 46,
   "metadata": {},
   "outputs": [
    {
     "name": "stdout",
     "output_type": "stream",
     "text": [
      "R-squared = \n",
      "0.7187678222739698\n",
      "\n",
      "Intercept            -1.405750e+06\n",
      "net_generation_mwh    3.207192e+00\n",
      "capacity_mw           2.528797e+04\n",
      "dtype: float64\n"
     ]
    }
   ],
   "source": [
    "res = sm.OLS.from_formula(formula='non_fuel_costs ~ net_generation_mwh + capacity_mw', data=newer).fit()\n",
    "# print(res.params)\n",
    "print(\"R-squared = \")\n",
    "print(res.rsquared_adj)\n",
    "print(\"\")\n",
    "print(res.params)"
   ]
  },
  {
   "cell_type": "code",
   "execution_count": 47,
   "metadata": {},
   "outputs": [
    {
     "name": "stdout",
     "output_type": "stream",
     "text": [
      "R-squared = \n",
      "0.44103600720446123\n",
      "\n",
      "Intercept            -3.304160e+07\n",
      "net_generation_mwh   -1.837144e+00\n",
      "capacity_mw           1.505955e+05\n",
      "dtype: float64\n"
     ]
    }
   ],
   "source": [
    "res = sm.OLS.from_formula(formula='non_fuel_costs ~ net_generation_mwh + capacity_mw', data=newest).fit()\n",
    "# print(res.params)\n",
    "print(\"R-squared = \")\n",
    "print(res.rsquared_adj)\n",
    "print(\"\")\n",
    "print(res.params)"
   ]
  },
  {
   "cell_type": "code",
   "execution_count": 48,
   "metadata": {},
   "outputs": [],
   "source": [
    "oldest = new.loc[(new['installation_year'] < 1956)]\n",
    "older = new.loc[(new['installation_year'] >= 1946) & (new['installation_year']< 1956)]\n",
    "mid = new.loc[(new['installation_year'] >= 1956) & (new['installation_year']< 1966)]\n",
    "newer = new.loc[(new['installation_year'] >= 1966) & (new['installation_year']< 1986)]\n",
    "newest = new.loc[new['installation_year'] >= 1986]"
   ]
  },
  {
   "cell_type": "code",
   "execution_count": 49,
   "metadata": {},
   "outputs": [
    {
     "name": "stdout",
     "output_type": "stream",
     "text": [
      "R-squared = \n",
      "0.9460791798704028\n",
      "\n",
      "Intercept            -1.403107e+06\n",
      "net_generation_mwh    8.077305e+00\n",
      "capacity_mw           2.222663e+04\n",
      "dtype: float64\n"
     ]
    }
   ],
   "source": [
    "res = sm.OLS.from_formula(formula='non_fuel_costs ~ net_generation_mwh + capacity_mw', data=oldest).fit()\n",
    "# print(res.params)\n",
    "print(\"R-squared = \")\n",
    "print(res.rsquared_adj)\n",
    "print(\"\")\n",
    "print(res.params)"
   ]
  },
  {
   "cell_type": "code",
   "execution_count": 50,
   "metadata": {},
   "outputs": [
    {
     "name": "stdout",
     "output_type": "stream",
     "text": [
      "R-squared = \n",
      "0.9460791798704028\n",
      "\n",
      "Intercept            -1.403107e+06\n",
      "net_generation_mwh    8.077305e+00\n",
      "capacity_mw           2.222663e+04\n",
      "dtype: float64\n"
     ]
    }
   ],
   "source": [
    "res = sm.OLS.from_formula(formula='non_fuel_costs ~ net_generation_mwh + capacity_mw', data=older).fit()\n",
    "# print(res.params)\n",
    "print(\"R-squared = \")\n",
    "print(res.rsquared_adj)\n",
    "print(\"\")\n",
    "print(res.params)"
   ]
  },
  {
   "cell_type": "code",
   "execution_count": 51,
   "metadata": {},
   "outputs": [
    {
     "name": "stdout",
     "output_type": "stream",
     "text": [
      "R-squared = \n",
      "0.6271054871267788\n",
      "\n",
      "Intercept             986938.534240\n",
      "net_generation_mwh         4.658393\n",
      "capacity_mw            21035.785408\n",
      "dtype: float64\n"
     ]
    }
   ],
   "source": [
    "res = sm.OLS.from_formula(formula='non_fuel_costs ~ net_generation_mwh + capacity_mw', data=mid).fit()\n",
    "# print(res.params)\n",
    "print(\"R-squared = \")\n",
    "print(res.rsquared_adj)\n",
    "print(\"\")\n",
    "print(res.params)"
   ]
  },
  {
   "cell_type": "code",
   "execution_count": 52,
   "metadata": {},
   "outputs": [
    {
     "name": "stdout",
     "output_type": "stream",
     "text": [
      "R-squared = \n",
      "0.802727572559653\n",
      "\n",
      "Intercept             1.638099e+06\n",
      "net_generation_mwh    9.887763e-01\n",
      "capacity_mw           2.952565e+04\n",
      "dtype: float64\n"
     ]
    }
   ],
   "source": [
    "res = sm.OLS.from_formula(formula='non_fuel_costs ~ net_generation_mwh + capacity_mw', data=newer).fit()\n",
    "# print(res.params)\n",
    "print(\"R-squared = \")\n",
    "print(res.rsquared_adj)\n",
    "print(\"\")\n",
    "print(res.params)"
   ]
  },
  {
   "cell_type": "code",
   "execution_count": 53,
   "metadata": {},
   "outputs": [
    {
     "name": "stdout",
     "output_type": "stream",
     "text": [
      "R-squared = \n",
      "0.4975596761311375\n",
      "\n",
      "Intercept            -6.861829e+06\n",
      "net_generation_mwh   -1.001579e-01\n",
      "capacity_mw           7.013000e+04\n",
      "dtype: float64\n"
     ]
    }
   ],
   "source": [
    "res = sm.OLS.from_formula(formula='non_fuel_costs ~ net_generation_mwh + capacity_mw', data=newest).fit()\n",
    "# print(res.params)\n",
    "print(\"R-squared = \")\n",
    "print(res.rsquared_adj)\n",
    "print(\"\")\n",
    "print(res.params)"
   ]
  },
  {
   "cell_type": "code",
   "execution_count": 54,
   "metadata": {},
   "outputs": [],
   "source": [
    "new['construct_bin'] = 0\n",
    "new.loc[(new['construction_year'] < 1956), 'construct_bin'] = 1\n",
    "# new.loc[(new['construction_year'] >= 1946) & (new['construction_year']< 1956), 'construct_bin'] = 2\n",
    "new.loc[(new['construction_year'] >= 1956) & (new['construction_year']< 1966), 'construct_bin'] = 3\n",
    "new.loc[(new['construction_year'] >= 1966) & (new['construction_year']< 1986), 'construct_bin'] = 4\n",
    "new.loc[new['construction_year'] >= 1986, 'construct_bin'] = 5\n",
    "new.construct_bin = new.construct_bin.astype('category')"
   ]
  },
  {
   "cell_type": "code",
   "execution_count": 55,
   "metadata": {},
   "outputs": [],
   "source": [
    "new['install_bin'] = 0\n",
    "new.loc[(new['installation_year'] < 1955), 'install_bin'] = 1\n",
    "# new.loc[(new['installation_year'] >= ) & (new['installation_year']< 1956), 'install_bin'] = 2\n",
    "new.loc[(new['installation_year'] >= 1955) & (new['installation_year']< 1966), 'install_bin'] = 3\n",
    "new.loc[(new['installation_year'] >= 1966) & (new['installation_year']< 1986), 'install_bin'] = 4\n",
    "new.loc[new['installation_year'] >= 1986, 'install_bin'] = 5\n",
    "new.install_bin = new.install_bin.astype('category')"
   ]
  },
  {
   "cell_type": "code",
   "execution_count": null,
   "metadata": {},
   "outputs": [],
   "source": []
  },
  {
   "cell_type": "code",
   "execution_count": null,
   "metadata": {},
   "outputs": [],
   "source": []
  },
  {
   "cell_type": "markdown",
   "metadata": {},
   "source": [
    "## Regressions using binned/unbinned fields"
   ]
  },
  {
   "cell_type": "code",
   "execution_count": 56,
   "metadata": {},
   "outputs": [
    {
     "name": "stdout",
     "output_type": "stream",
     "text": [
      "                            OLS Regression Results                            \n",
      "==============================================================================\n",
      "Dep. Variable:         non_fuel_costs   R-squared:                       0.572\n",
      "Model:                            OLS   Adj. R-squared:                  0.571\n",
      "Method:                 Least Squares   F-statistic:                     395.1\n",
      "Date:                Mon, 25 Feb 2019   Prob (F-statistic):               0.00\n",
      "Time:                        13:01:01   Log-Likelihood:                -54526.\n",
      "No. Observations:                2962   AIC:                         1.091e+05\n",
      "Df Residuals:                    2951   BIC:                         1.091e+05\n",
      "Df Model:                          10                                         \n",
      "Covariance Type:            nonrobust                                         \n",
      "=========================================================================================\n",
      "                            coef    std err          t      P>|t|      [0.025      0.975]\n",
      "-----------------------------------------------------------------------------------------\n",
      "Intercept             -2.235e+07   8.57e+06     -2.609      0.009   -3.92e+07   -5.55e+06\n",
      "C(construct_bin)[T.1]  1.943e+07   7.65e+06      2.541      0.011    4.44e+06    3.44e+07\n",
      "C(construct_bin)[T.3]  2.049e+07    7.6e+06      2.697      0.007    5.59e+06    3.54e+07\n",
      "C(construct_bin)[T.4]  1.724e+07   7.46e+06      2.310      0.021    2.61e+06    3.19e+07\n",
      "C(construct_bin)[T.5]  1.024e+07   7.35e+06      1.394      0.163   -4.17e+06    2.46e+07\n",
      "C(install_bin)[T.1]    9.175e+05   5.42e+06      0.169      0.866   -9.71e+06    1.15e+07\n",
      "C(install_bin)[T.3]    2.651e+06   4.73e+06      0.561      0.575   -6.62e+06    1.19e+07\n",
      "C(install_bin)[T.4]    1.224e+06   4.44e+06      0.276      0.783   -7.48e+06    9.93e+06\n",
      "C(install_bin)[T.5]    2.264e+07   4.62e+06      4.903      0.000    1.36e+07    3.17e+07\n",
      "net_generation_mwh        1.0092      0.266      3.787      0.000       0.487       1.532\n",
      "capacity_mw            3.622e+04   1407.782     25.727      0.000    3.35e+04     3.9e+04\n",
      "==============================================================================\n",
      "Omnibus:                     3854.042   Durbin-Watson:                   0.220\n",
      "Prob(Omnibus):                  0.000   Jarque-Bera (JB):           842809.057\n",
      "Skew:                           7.117   Prob(JB):                         0.00\n",
      "Kurtosis:                      84.402   Cond. No.                     1.71e+08\n",
      "==============================================================================\n",
      "\n",
      "Warnings:\n",
      "[1] Standard Errors assume that the covariance matrix of the errors is correctly specified.\n",
      "[2] The condition number is large, 1.71e+08. This might indicate that there are\n",
      "strong multicollinearity or other numerical problems.\n"
     ]
    }
   ],
   "source": [
    "# Some variables treated as categorical\n",
    "res = sm.OLS.from_formula(formula='non_fuel_costs ~ net_generation_mwh + capacity_mw + C(construct_bin) +  C(install_bin)', data=new).fit()\n",
    "# print(res.params)\n",
    "print(res.summary())\n"
   ]
  },
  {
   "cell_type": "code",
   "execution_count": 57,
   "metadata": {},
   "outputs": [
    {
     "name": "stdout",
     "output_type": "stream",
     "text": [
      "                            OLS Regression Results                            \n",
      "==============================================================================\n",
      "Dep. Variable:         non_fuel_costs   R-squared:                       0.570\n",
      "Model:                            OLS   Adj. R-squared:                  0.569\n",
      "Method:                 Least Squares   F-statistic:                     435.4\n",
      "Date:                Mon, 25 Feb 2019   Prob (F-statistic):               0.00\n",
      "Time:                        13:01:01   Log-Likelihood:                -54533.\n",
      "No. Observations:                2962   AIC:                         1.091e+05\n",
      "Df Residuals:                    2952   BIC:                         1.091e+05\n",
      "Df Model:                           9                                         \n",
      "Covariance Type:            nonrobust                                         \n",
      "=========================================================================================\n",
      "                            coef    std err          t      P>|t|      [0.025      0.975]\n",
      "-----------------------------------------------------------------------------------------\n",
      "Intercept             -2.298e+07   8.59e+06     -2.677      0.007   -3.98e+07   -6.15e+06\n",
      "C(construct_bin)[T.1]  1.864e+07   7.66e+06      2.434      0.015    3.62e+06    3.37e+07\n",
      "C(construct_bin)[T.3]  2.022e+07   7.61e+06      2.656      0.008    5.29e+06    3.51e+07\n",
      "C(construct_bin)[T.4]  1.772e+07   7.48e+06      2.371      0.018    3.07e+06    3.24e+07\n",
      "C(construct_bin)[T.5]  1.052e+07   7.36e+06      1.429      0.153   -3.92e+06     2.5e+07\n",
      "C(install_bin)[T.1]    1.866e+06   5.43e+06      0.344      0.731   -8.78e+06    1.25e+07\n",
      "C(install_bin)[T.3]    3.163e+06   4.74e+06      0.668      0.504   -6.13e+06    1.25e+07\n",
      "C(install_bin)[T.4]    1.587e+06   4.45e+06      0.357      0.721   -7.14e+06    1.03e+07\n",
      "C(install_bin)[T.5]    2.323e+07   4.62e+06      5.023      0.000    1.42e+07    3.23e+07\n",
      "capacity_mw             4.08e+04    721.018     56.588      0.000    3.94e+04    4.22e+04\n",
      "==============================================================================\n",
      "Omnibus:                     3800.121   Durbin-Watson:                   0.218\n",
      "Prob(Omnibus):                  0.000   Jarque-Bera (JB):           787897.293\n",
      "Skew:                           6.948   Prob(JB):                         0.00\n",
      "Kurtosis:                      81.683   Cond. No.                     3.49e+04\n",
      "==============================================================================\n",
      "\n",
      "Warnings:\n",
      "[1] Standard Errors assume that the covariance matrix of the errors is correctly specified.\n",
      "[2] The condition number is large, 3.49e+04. This might indicate that there are\n",
      "strong multicollinearity or other numerical problems.\n"
     ]
    }
   ],
   "source": [
    "# Some variables treated as categorical\n",
    "res = sm.OLS.from_formula(formula='non_fuel_costs ~ capacity_mw + C(construct_bin) +  C(install_bin)', data=new).fit()\n",
    "# print(res.params)\n",
    "print(res.summary())"
   ]
  },
  {
   "cell_type": "code",
   "execution_count": 58,
   "metadata": {},
   "outputs": [
    {
     "name": "stdout",
     "output_type": "stream",
     "text": [
      "                            OLS Regression Results                            \n",
      "==============================================================================\n",
      "Dep. Variable:         non_fuel_costs   R-squared:                       0.477\n",
      "Model:                            OLS   Adj. R-squared:                  0.475\n",
      "Method:                 Least Squares   F-statistic:                     298.6\n",
      "Date:                Mon, 25 Feb 2019   Prob (F-statistic):               0.00\n",
      "Time:                        13:01:01   Log-Likelihood:                -54826.\n",
      "No. Observations:                2962   AIC:                         1.097e+05\n",
      "Df Residuals:                    2952   BIC:                         1.097e+05\n",
      "Df Model:                           9                                         \n",
      "Covariance Type:            nonrobust                                         \n",
      "=========================================================================================\n",
      "                            coef    std err          t      P>|t|      [0.025      0.975]\n",
      "-----------------------------------------------------------------------------------------\n",
      "Intercept             -2.452e+07   9.48e+06     -2.587      0.010   -4.31e+07   -5.94e+06\n",
      "C(construct_bin)[T.1]  3.601e+07   8.43e+06      4.272      0.000    1.95e+07    5.25e+07\n",
      "C(construct_bin)[T.3]  3.279e+07   8.39e+06      3.910      0.000    1.63e+07    4.92e+07\n",
      "C(construct_bin)[T.4]  2.465e+07   8.25e+06      2.988      0.003    8.47e+06    4.08e+07\n",
      "C(construct_bin)[T.5]  1.227e+07   8.13e+06      1.510      0.131   -3.66e+06    2.82e+07\n",
      "C(install_bin)[T.1]   -8.934e+06   5.98e+06     -1.493      0.136   -2.07e+07     2.8e+06\n",
      "C(install_bin)[T.3]   -2.012e+06   5.23e+06     -0.385      0.700   -1.23e+07    8.24e+06\n",
      "C(install_bin)[T.4]    1.347e+06   4.91e+06      0.274      0.784   -8.28e+06     1.1e+07\n",
      "C(install_bin)[T.5]    2.553e+07   5.11e+06      5.000      0.000    1.55e+07    3.55e+07\n",
      "net_generation_mwh        6.9018      0.151     45.817      0.000       6.606       7.197\n",
      "==============================================================================\n",
      "Omnibus:                     3511.360   Durbin-Watson:                   0.290\n",
      "Prob(Omnibus):                  0.000   Jarque-Bera (JB):           783831.725\n",
      "Skew:                           5.928   Prob(JB):                         0.00\n",
      "Kurtosis:                      81.807   Cond. No.                     1.71e+08\n",
      "==============================================================================\n",
      "\n",
      "Warnings:\n",
      "[1] Standard Errors assume that the covariance matrix of the errors is correctly specified.\n",
      "[2] The condition number is large, 1.71e+08. This might indicate that there are\n",
      "strong multicollinearity or other numerical problems.\n"
     ]
    }
   ],
   "source": [
    "# Some variables treated as categorical\n",
    "res = sm.OLS.from_formula(formula='non_fuel_costs ~ net_generation_mwh + C(construct_bin) +  C(install_bin)', data=new).fit()\n",
    "# print(res.params)\n",
    "print(res.summary())"
   ]
  },
  {
   "cell_type": "code",
   "execution_count": 59,
   "metadata": {
    "scrolled": false
   },
   "outputs": [
    {
     "name": "stdout",
     "output_type": "stream",
     "text": [
      "                            OLS Regression Results                            \n",
      "==============================================================================\n",
      "Dep. Variable:         non_fuel_costs   R-squared:                       0.552\n",
      "Model:                            OLS   Adj. R-squared:                  0.551\n",
      "Method:                 Least Squares   F-statistic:                     896.5\n",
      "Date:                Mon, 25 Feb 2019   Prob (F-statistic):               0.00\n",
      "Time:                        13:01:01   Log-Likelihood:                -53854.\n",
      "No. Observations:                2921   AIC:                         1.077e+05\n",
      "Df Residuals:                    2916   BIC:                         1.077e+05\n",
      "Df Model:                           4                                         \n",
      "Covariance Type:            nonrobust                                         \n",
      "======================================================================================\n",
      "                         coef    std err          t      P>|t|      [0.025      0.975]\n",
      "--------------------------------------------------------------------------------------\n",
      "Intercept          -5.387e+08    6.8e+07     -7.923      0.000   -6.72e+08   -4.05e+08\n",
      "capacity_mw         3.792e+04   1441.367     26.309      0.000    3.51e+04    4.07e+04\n",
      "net_generation_mwh     0.7122      0.271      2.628      0.009       0.181       1.244\n",
      "construction_year   8.739e+04   5.25e+04      1.665      0.096   -1.55e+04     1.9e+05\n",
      "installation_year   1.853e+05   6.24e+04      2.968      0.003    6.29e+04    3.08e+05\n",
      "==============================================================================\n",
      "Omnibus:                     3727.739   Durbin-Watson:                   0.209\n",
      "Prob(Omnibus):                  0.000   Jarque-Bera (JB):           702843.350\n",
      "Skew:                           6.919   Prob(JB):                         0.00\n",
      "Kurtosis:                      77.722   Cond. No.                     6.77e+08\n",
      "==============================================================================\n",
      "\n",
      "Warnings:\n",
      "[1] Standard Errors assume that the covariance matrix of the errors is correctly specified.\n",
      "[2] The condition number is large, 6.77e+08. This might indicate that there are\n",
      "strong multicollinearity or other numerical problems.\n"
     ]
    }
   ],
   "source": [
    "# All variables treated as continuous\n",
    "res = sm.OLS.from_formula('non_fuel_costs ~ capacity_mw + net_generation_mwh + construction_year + installation_year', new).fit()\n",
    "print(res.summary())"
   ]
  },
  {
   "cell_type": "markdown",
   "metadata": {},
   "source": [
    "# Further/future regression exlorations"
   ]
  },
  {
   "cell_type": "code",
   "execution_count": 60,
   "metadata": {},
   "outputs": [
    {
     "name": "stderr",
     "output_type": "stream",
     "text": [
      "/home/alana/anaconda3/lib/python3.6/site-packages/numpy/core/fromnumeric.py:2223: FutureWarning: Method .ptp is deprecated and will be removed in a future version. Use numpy.ptp instead.\n",
      "  return ptp(axis=axis, out=out, **kwargs)\n"
     ]
    },
    {
     "data": {
      "text/html": [
       "<table class=\"simpletable\">\n",
       "<caption>OLS Regression Results</caption>\n",
       "<tr>\n",
       "  <th>Dep. Variable:</th>     <td>non_fuel_costs</td>  <th>  R-squared:         </th> <td>   0.542</td> \n",
       "</tr>\n",
       "<tr>\n",
       "  <th>Model:</th>                   <td>OLS</td>       <th>  Adj. R-squared:    </th> <td>   0.542</td> \n",
       "</tr>\n",
       "<tr>\n",
       "  <th>Method:</th>             <td>Least Squares</td>  <th>  F-statistic:       </th> <td>   1751.</td> \n",
       "</tr>\n",
       "<tr>\n",
       "  <th>Date:</th>             <td>Mon, 25 Feb 2019</td> <th>  Prob (F-statistic):</th>  <td>  0.00</td>  \n",
       "</tr>\n",
       "<tr>\n",
       "  <th>Time:</th>                 <td>13:01:02</td>     <th>  Log-Likelihood:    </th> <td> -54628.</td> \n",
       "</tr>\n",
       "<tr>\n",
       "  <th>No. Observations:</th>      <td>  2962</td>      <th>  AIC:               </th> <td>1.093e+05</td>\n",
       "</tr>\n",
       "<tr>\n",
       "  <th>Df Residuals:</th>          <td>  2959</td>      <th>  BIC:               </th> <td>1.093e+05</td>\n",
       "</tr>\n",
       "<tr>\n",
       "  <th>Df Model:</th>              <td>     2</td>      <th>                     </th>     <td> </td>    \n",
       "</tr>\n",
       "<tr>\n",
       "  <th>Covariance Type:</th>      <td>nonrobust</td>    <th>                     </th>     <td> </td>    \n",
       "</tr>\n",
       "</table>\n",
       "<table class=\"simpletable\">\n",
       "<tr>\n",
       "           <td></td>             <th>coef</th>     <th>std err</th>      <th>t</th>      <th>P>|t|</th>  <th>[0.025</th>    <th>0.975]</th>  \n",
       "</tr>\n",
       "<tr>\n",
       "  <th>const</th>              <td>-2.276e+05</td> <td> 6.46e+05</td> <td>   -0.352</td> <td> 0.725</td> <td>-1.49e+06</td> <td> 1.04e+06</td>\n",
       "</tr>\n",
       "<tr>\n",
       "  <th>capacity_mw</th>        <td> 3.618e+04</td> <td> 1410.956</td> <td>   25.644</td> <td> 0.000</td> <td> 3.34e+04</td> <td> 3.89e+04</td>\n",
       "</tr>\n",
       "<tr>\n",
       "  <th>net_generation_mwh</th> <td>    1.1487</td> <td>    0.266</td> <td>    4.317</td> <td> 0.000</td> <td>    0.627</td> <td>    1.670</td>\n",
       "</tr>\n",
       "</table>\n",
       "<table class=\"simpletable\">\n",
       "<tr>\n",
       "  <th>Omnibus:</th>       <td>3938.254</td> <th>  Durbin-Watson:     </th>  <td>   0.206</td> \n",
       "</tr>\n",
       "<tr>\n",
       "  <th>Prob(Omnibus):</th>  <td> 0.000</td>  <th>  Jarque-Bera (JB):  </th> <td>871615.943</td>\n",
       "</tr>\n",
       "<tr>\n",
       "  <th>Skew:</th>           <td> 7.423</td>  <th>  Prob(JB):          </th>  <td>    0.00</td> \n",
       "</tr>\n",
       "<tr>\n",
       "  <th>Kurtosis:</th>       <td>85.716</td>  <th>  Cond. No.          </th>  <td>6.40e+06</td> \n",
       "</tr>\n",
       "</table><br/><br/>Warnings:<br/>[1] Standard Errors assume that the covariance matrix of the errors is correctly specified.<br/>[2] The condition number is large, 6.4e+06. This might indicate that there are<br/>strong multicollinearity or other numerical problems."
      ],
      "text/plain": [
       "<class 'statsmodels.iolib.summary.Summary'>\n",
       "\"\"\"\n",
       "                            OLS Regression Results                            \n",
       "==============================================================================\n",
       "Dep. Variable:         non_fuel_costs   R-squared:                       0.542\n",
       "Model:                            OLS   Adj. R-squared:                  0.542\n",
       "Method:                 Least Squares   F-statistic:                     1751.\n",
       "Date:                Mon, 25 Feb 2019   Prob (F-statistic):               0.00\n",
       "Time:                        13:01:02   Log-Likelihood:                -54628.\n",
       "No. Observations:                2962   AIC:                         1.093e+05\n",
       "Df Residuals:                    2959   BIC:                         1.093e+05\n",
       "Df Model:                           2                                         \n",
       "Covariance Type:            nonrobust                                         \n",
       "======================================================================================\n",
       "                         coef    std err          t      P>|t|      [0.025      0.975]\n",
       "--------------------------------------------------------------------------------------\n",
       "const              -2.276e+05   6.46e+05     -0.352      0.725   -1.49e+06    1.04e+06\n",
       "capacity_mw         3.618e+04   1410.956     25.644      0.000    3.34e+04    3.89e+04\n",
       "net_generation_mwh     1.1487      0.266      4.317      0.000       0.627       1.670\n",
       "==============================================================================\n",
       "Omnibus:                     3938.254   Durbin-Watson:                   0.206\n",
       "Prob(Omnibus):                  0.000   Jarque-Bera (JB):           871615.943\n",
       "Skew:                           7.423   Prob(JB):                         0.00\n",
       "Kurtosis:                      85.716   Cond. No.                     6.40e+06\n",
       "==============================================================================\n",
       "\n",
       "Warnings:\n",
       "[1] Standard Errors assume that the covariance matrix of the errors is correctly specified.\n",
       "[2] The condition number is large, 6.4e+06. This might indicate that there are\n",
       "strong multicollinearity or other numerical problems.\n",
       "\"\"\""
      ]
     },
     "execution_count": 60,
     "metadata": {},
     "output_type": "execute_result"
    }
   ],
   "source": [
    "# Set up variables for OLS regression \n",
    "\n",
    "# X = new[[\"net_generation_mwh\", \"heat_rate\"]]\n",
    "X = new[[\"capacity_mw\", \"net_generation_mwh\"]]\n",
    "# X = new[[\"non_fuel_costs\"]]\n",
    "# X = new[[\"expns_fuel\"]]\n",
    "\n",
    "# y = new[\"opex_fuel\"]\n",
    "y = new[[\"non_fuel_costs\"]]\n",
    "# y = new[[\"net_generation_mwh\"]]\n",
    "\n",
    "\n",
    "X = sm.add_constant(X) ## add an intercept\n",
    "\n",
    "model = sm.OLS(y, X).fit()\n",
    "predictions = model.predict(X) # make the predictions by the model\n",
    "\n",
    "# Print out the statistics\n",
    "model.summary()"
   ]
  },
  {
   "cell_type": "code",
   "execution_count": 61,
   "metadata": {},
   "outputs": [
    {
     "data": {
      "text/plain": [
       "0.5420547095525003"
      ]
     },
     "execution_count": 61,
     "metadata": {},
     "output_type": "execute_result"
    }
   ],
   "source": [
    "# Use sklearn linear_model to fit the same regression\n",
    "lm = linear_model.LinearRegression()\n",
    "model = lm.fit(X,y)\n",
    "predictions = lm.predict(X)\n",
    "# print(predictions)[0:5]\n",
    "lm.score(X,y)"
   ]
  },
  {
   "cell_type": "code",
   "execution_count": 62,
   "metadata": {},
   "outputs": [
    {
     "data": {
      "text/plain": [
       "LinregressResult(slope=7.152369915579675, intercept=5696855.540322557, rvalue=0.6676340023152771, pvalue=0.0, stderr=0.13917736537635295)"
      ]
     },
     "execution_count": 62,
     "metadata": {},
     "output_type": "execute_result"
    }
   ],
   "source": [
    "scipy.stats.linregress(out_df.net_generation_mwh, out_df.non_fuel_costs)"
   ]
  },
  {
   "cell_type": "code",
   "execution_count": 63,
   "metadata": {},
   "outputs": [],
   "source": [
    "# numpy.polyfit(ferc1_training_steam.net_generation, ferc1_training_steam.expns_fuel, 1)"
   ]
  },
  {
   "cell_type": "code",
   "execution_count": 64,
   "metadata": {},
   "outputs": [],
   "source": [
    "from sklearn.linear_model import LinearRegression, Lasso, Ridge, ElasticNet, SGDRegressor\n",
    "from sklearn.model_selection import train_test_split"
   ]
  },
  {
   "cell_type": "code",
   "execution_count": 65,
   "metadata": {},
   "outputs": [],
   "source": [
    "x = out_df.net_generation_mwh\n",
    "y = out_df.non_fuel_costs\n",
    "x_reshape = out_df_s.net_generation_mwh.values.reshape(-1,1)\n",
    "y_reshape = out_df_s.non_fuel_costs.values.reshape(-1,1)"
   ]
  },
  {
   "cell_type": "code",
   "execution_count": 66,
   "metadata": {
    "scrolled": false
   },
   "outputs": [],
   "source": [
    "# intercept, slope, corr_coeff = plot_linear_regression(x_reshape, y_reshape)\n",
    "# plt.show()\n"
   ]
  },
  {
   "cell_type": "code",
   "execution_count": 67,
   "metadata": {},
   "outputs": [
    {
     "data": {
      "text/plain": [
       "Text(0, 0.5, 'non-fuel costs')"
      ]
     },
     "execution_count": 67,
     "metadata": {},
     "output_type": "execute_result"
    },
    {
     "data": {
      "image/png": "[encoded data removed]",
      "text/plain": [
       "<Figure size 1500x900 with 1 Axes>"
      ]
     },
     "metadata": {},
     "output_type": "display_data"
    }
   ],
   "source": [
    "plt.plot(x,y,'.')\n",
    "plt.title('FERC 1 steam records')\n",
    "plt.xlabel('net generation (mwh)')\n",
    "plt.ylabel('non-fuel costs')"
   ]
  },
  {
   "cell_type": "code",
   "execution_count": 68,
   "metadata": {},
   "outputs": [],
   "source": [
    "### Exploration of other approaches..."
   ]
  },
  {
   "cell_type": "code",
   "execution_count": 69,
   "metadata": {},
   "outputs": [],
   "source": [
    "x_train, x_test, y_train, y_test = train_test_split(x, y, test_size= 0.2, random_state=0)"
   ]
  },
  {
   "cell_type": "code",
   "execution_count": 70,
   "metadata": {},
   "outputs": [],
   "source": [
    "x_train= x_train.values.reshape(-1, 1)\n",
    "y_train= y_train.values.reshape(-1, 1)\n",
    "x_test = x_test.values.reshape(-1, 1)"
   ]
  },
  {
   "cell_type": "code",
   "execution_count": null,
   "metadata": {},
   "outputs": [],
   "source": []
  },
  {
   "cell_type": "code",
   "execution_count": 71,
   "metadata": {},
   "outputs": [],
   "source": [
    "ridge = Ridge(fit_intercept=True, alpha=0.5)"
   ]
  },
  {
   "cell_type": "code",
   "execution_count": 72,
   "metadata": {},
   "outputs": [
    {
     "data": {
      "text/plain": [
       "Ridge(alpha=0.5, copy_X=True, fit_intercept=True, max_iter=None,\n",
       "   normalize=False, random_state=None, solver='auto', tol=0.001)"
      ]
     },
     "execution_count": 72,
     "metadata": {},
     "output_type": "execute_result"
    }
   ],
   "source": [
    "ridge.fit(x_reshape,y_reshape)"
   ]
  },
  {
   "cell_type": "code",
   "execution_count": null,
   "metadata": {},
   "outputs": [],
   "source": []
  },
  {
   "cell_type": "code",
   "execution_count": 73,
   "metadata": {},
   "outputs": [
    {
     "data": {
      "text/plain": [
       "Ridge(alpha=1.0, copy_X=True, fit_intercept=True, max_iter=None,\n",
       "   normalize=False, random_state=None, solver='auto', tol=0.001)"
      ]
     },
     "execution_count": 73,
     "metadata": {},
     "output_type": "execute_result"
    }
   ],
   "source": [
    "sklearn.linear_model.Ridge(alpha=1.0, fit_intercept=True, normalize=False, copy_X=True, max_iter=None, tol=0.001, solver='auto', random_state=None)\n",
    "# ferc1_training_steam.net_generation_mwh, ferc1_training_steam.non_fuel_costs)"
   ]
  },
  {
   "cell_type": "code",
   "execution_count": 74,
   "metadata": {},
   "outputs": [
    {
     "data": {
      "text/plain": [
       "Ridge(alpha=1, copy_X=True, fit_intercept=True, max_iter=None,\n",
       "   normalize=False, random_state=None, solver='auto', tol=0.001)"
      ]
     },
     "execution_count": 74,
     "metadata": {},
     "output_type": "execute_result"
    }
   ],
   "source": [
    "clf = sklearn.linear_model.Ridge(alpha=1)\n",
    "clf = sklearn.linear_model.Ridge(alpha=1, copy_X=True, fit_intercept=True, max_iter=None, normalize=False, random_state=None, solver='auto', tol=0.001)\n",
    "\n",
    "clf.fit(x_reshape, y_reshape)\n",
    "# Ridge(alpha=1, copy_X=True, fit_intercept=True, max_iter=None,normalize=False, random_state=None, solver='auto', tol=0.001)"
   ]
  },
  {
   "cell_type": "code",
   "execution_count": 75,
   "metadata": {},
   "outputs": [],
   "source": [
    "result = clf.fit(x_reshape, y_reshape, sample_weight=None)"
   ]
  },
  {
   "cell_type": "code",
   "execution_count": 76,
   "metadata": {},
   "outputs": [
    {
     "data": {
      "text/plain": [
       "0.4402832539372874"
      ]
     },
     "execution_count": 76,
     "metadata": {},
     "output_type": "execute_result"
    }
   ],
   "source": [
    "clf.score(x_reshape,y_reshape)"
   ]
  },
  {
   "cell_type": "code",
   "execution_count": 77,
   "metadata": {},
   "outputs": [
    {
     "data": {
      "text/plain": [
       "{'alpha': 1,\n",
       " 'copy_X': True,\n",
       " 'fit_intercept': True,\n",
       " 'max_iter': None,\n",
       " 'normalize': False,\n",
       " 'random_state': None,\n",
       " 'solver': 'auto',\n",
       " 'tol': 0.001}"
      ]
     },
     "execution_count": 77,
     "metadata": {},
     "output_type": "execute_result"
    }
   ],
   "source": [
    "result.get_params()"
   ]
  }
 ],
 "metadata": {
  "kernelspec": {
   "display_name": "Python 3",
   "language": "python",
   "name": "python3"
  },
  "language_info": {
   "codemirror_mode": {
    "name": "ipython",
    "version": 3
   },
   "file_extension": ".py",
   "mimetype": "text/x-python",
   "name": "python",
   "nbconvert_exporter": "python",
   "pygments_lexer": "ipython3",
   "version": "3.6.8"
  }
 },
 "nbformat": 4,
 "nbformat_minor": 2
}
