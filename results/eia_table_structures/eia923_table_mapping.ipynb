{
 "cells": [
  {
   "cell_type": "code",
   "execution_count": 3,
   "metadata": {
    "collapsed": true
   },
   "outputs": [],
   "source": [
    "import sys\n",
    "sys.path.append('/Users/zaneselvans/code/catalyst/pudl')\n",
    "sys.path.append('/Users/christinagosnell/code/pudl')\n",
    "sys.path.append('/Users/Nannerz/Desktop/working/pudl/')\n",
    "from pudl import ferc1, pudl, models, models_ferc1, settings, constants, eia923\n",
    "import numpy as np\n",
    "import pandas as pd\n",
    "import sqlalchemy as sa\n",
    "from sqlalchemy import create_engine\n",
    "from sqlalchemy.sql import select"
   ]
  },
  {
   "cell_type": "code",
   "execution_count": 6,
   "metadata": {
    "collapsed": false
   },
   "outputs": [],
   "source": [
    "generation_fuel_column_map = pd.read_excel(\\\n",
    "    '/Users/christinagosnell/code/pudl/results/eia_table_structures/eia_table_structures_mapped.xlsx',2)\n",
    "generation_fuel_column_map.replace('[^0-9a-zA-Z]+', ' ', regex=True, inplace=True)\n",
    "generation_fuel_column_map = generation_fuel_column_map.apply(lambda x: x.astype(str).str.lower())\n",
    "generation_fuel_column_map = generation_fuel_column_map.apply(lambda x: x.astype(str).str.strip())\n",
    "generation_fuel_column_map.replace(' ', '_', regex=True, inplace=True)\n",
    "generation_fuel_column_map.to_csv('./eia_table_structure_gen_fuel.csv', index=False)"
   ]
  },
  {
   "cell_type": "code",
   "execution_count": null,
   "metadata": {
    "collapsed": true
   },
   "outputs": [],
   "source": []
  }
 ],
 "metadata": {
  "kernelspec": {
   "display_name": "Python 3",
   "language": "python",
   "name": "python3"
  },
  "language_info": {
   "codemirror_mode": {
    "name": "ipython",
    "version": 3
   },
   "file_extension": ".py",
   "mimetype": "text/x-python",
   "name": "python",
   "nbconvert_exporter": "python",
   "pygments_lexer": "ipython3",
   "version": "3.6.0"
  }
 },
 "nbformat": 4,
 "nbformat_minor": 2
}
