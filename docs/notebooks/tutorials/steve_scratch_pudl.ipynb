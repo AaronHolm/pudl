{
 "cells": [
  {
   "cell_type": "markdown",
   "metadata": {},
   "source": [
    "## Playing with PUDL\n",
    "This notebook is meant to help get you up and running with the PUDL database, so you can play with it!\n",
    "\n",
    "### Importing external code.\n",
    "We need to import a bunch of outside code to do our work here.  Sometimes we import entire packages (like `numpy` and `pandas`) and sometimes we just pull in a couple of pieces we need from a particular part of a large package (like `declarative_base`)"
   ]
  },
  {
   "cell_type": "code",
   "execution_count": 1,
   "metadata": {
    "collapsed": false
   },
   "outputs": [],
   "source": [
    "import sys\n",
    "import os.path\n",
    "import numpy as np\n",
    "import pandas as pd\n",
    "from sqlalchemy.ext.declarative import declarative_base\n",
    "from sqlalchemy import create_engine\n",
    "from sqlalchemy.orm import sessionmaker\n",
    "from sqlalchemy.engine.url import URL"
   ]
  },
  {
   "cell_type": "markdown",
   "metadata": {},
   "source": [
    "### Importing our own code\n",
    "We also need to tell Python where to look to find our own code.  It has a list of directories that it looks in, but our little project isn't in that list, unless we add it -- which is what `sys.path.append()` does.  You'll need to change this path to reflect where on your computer the PUDL project folder (which you pull down with `git`) lives.\n",
    "\n",
    "Once Python knows to look in the `pudl` project folder, it will let you import `pudl` modules just like any other Python module.  Here we're pulling in the `ferc1` and `pudl` modules from the `pudl` package (which is a directory inside the `pudl` project directory)."
   ]
  },
  {
   "cell_type": "code",
   "execution_count": 2,
   "metadata": {
    "collapsed": false
   },
   "outputs": [],
   "source": [
    "sys.path.append('/Users/christinagosnell/code/pudl')\n",
    "sys.path.append('/Users/zaneselvans/code/catalyst/pudl')\n",
    "sys.path.append('/Users/Nannerz/Desktop/working/pudl/')\n",
    "from pudl import ferc1, pudl, models, models_ferc1, settings, constants"
   ]
  },
  {
   "cell_type": "markdown",
   "metadata": {},
   "source": [
    "### Automatically reloading a work in progress\n",
    "Because you're probably going to be editing the Python modules related to PUDL while you're working with this notebook, it's useful to have them get automatically reloaded before every cell is executed -- this means you're always using the freshest version of the module, with all your recent edits."
   ]
  },
  {
   "cell_type": "code",
   "execution_count": 3,
   "metadata": {
    "collapsed": false
   },
   "outputs": [],
   "source": [
    "%load_ext autoreload\n",
    "%autoreload 1\n",
    "%aimport pudl.pudl\n",
    "%aimport pudl.ferc1\n",
    "%aimport pudl.constants\n",
    "%aimport pudl.settings\n",
    "%aimport pudl.models"
   ]
  },
  {
   "cell_type": "markdown",
   "metadata": {},
   "source": [
    "### Connecting to our databases.\n",
    "We have two different databases that we're working with right now.  The FERC Form 1 (`ferc1`) and our own PUDL database (`pudl`). For this software to work, you'll need to have the Postgresql database server running on your computer, and you'll need to have created empty databases to receive the tables and data we're going to create.  On a mac, the easiest Postgres install to get running is probably Postgress.app.  You'll need to fire it up at the command line at least once to create the databases (one called `ferc1` and another called `pudl_sandbox`) and a user named `catalyst` with no password.  This information is stored in the `settings` module if you need to look it up.\n",
    "\n",
    "Here are two shortcuts for connecting to the two databases once they're created:"
   ]
  },
  {
   "cell_type": "code",
   "execution_count": 4,
   "metadata": {
    "collapsed": false
   },
   "outputs": [],
   "source": [
    "pudl_engine  = pudl.pudl.db_connect_pudl()\n",
    "ferc1_engine = pudl.ferc1.db_connect_ferc1()"
   ]
  },
  {
   "cell_type": "markdown",
   "metadata": {},
   "source": [
    "### Initializing the FERC Form 1 database\n",
    "Now that you've got an empty database, let's put some data in it!  This function initializes the database by reading in the FERC Form 1 database structure from `refyear` and data from `years` (which can eventually be a list of years, but that's not working yet...). In order for this to work, you need to have the FERC Form 1 data downloaded into the data directory. There's a script called `get_ferc1.sh` down in `data/ferc/form1/` that will get it for you if you don't have it."
   ]
  },
  {
   "cell_type": "code",
   "execution_count": 5,
   "metadata": {
    "collapsed": false,
    "scrolled": true
   },
   "outputs": [
    {
     "name": "stdout",
     "output_type": "stream",
     "text": [
      "Defining new FERC Form 1 DB based on 2015...\n",
      "Ingesting FERC Form 1 Data from 2015...\n"
     ]
    }
   ],
   "source": [
    "pudl.ferc1.init_db(refyear=2015, years=[2015,], ferc1_tables=pudl.constants.ferc1_default_tables)"
   ]
  },
  {
   "cell_type": "markdown",
   "metadata": {
    "collapsed": false
   },
   "source": [
    "### Pulling data out of the database!\n",
    "Now we're ready to pull some data out of one of the databases, just to show that it works. `pd.read_sql()` takes an SQL Query and a database connection, and puts the results of the query into a pandas DataFrame you can play with easily."
   ]
  },
  {
   "cell_type": "code",
   "execution_count": null,
   "metadata": {
    "collapsed": false
   },
   "outputs": [],
   "source": [
    "ferc1_steam = pd.read_sql('''SELECT respondent_id, report_year, plant_name, type_const, plant_kind \\\n",
    "                                FROM f1_steam WHERE plant_name <> '' ''',ferc1_engine)"
   ]
  },
  {
   "cell_type": "code",
   "execution_count": null,
   "metadata": {
    "collapsed": false
   },
   "outputs": [],
   "source": [
    "ferc1_steam"
   ]
  },
  {
   "cell_type": "markdown",
   "metadata": {},
   "source": [
    "### Examining the data we pulled.\n",
    "the `sample()` DataFrame method returns a random sample of records from the DataFrame, which is useful for seeing what kinds of things are in there, without always seeing just the first few records."
   ]
  },
  {
   "cell_type": "code",
   "execution_count": null,
   "metadata": {
    "collapsed": false
   },
   "outputs": [],
   "source": [
    "ferc1_steam['plant_kind'].unique()"
   ]
  },
  {
   "cell_type": "code",
   "execution_count": null,
   "metadata": {
    "collapsed": false
   },
   "outputs": [],
   "source": [
    "ferc1_steam['type_const'].unique()"
   ]
  },
  {
   "cell_type": "code",
   "execution_count": null,
   "metadata": {
    "collapsed": false
   },
   "outputs": [],
   "source": []
  },
  {
   "cell_type": "code",
   "execution_count": null,
   "metadata": {
    "collapsed": false
   },
   "outputs": [],
   "source": [
    "ferc1_steam.sample(14)"
   ]
  },
  {
   "cell_type": "code",
   "execution_count": null,
   "metadata": {
    "collapsed": false
   },
   "outputs": [],
   "source": [
    "ferc1_plant_kind_coal = ['Coal']\n",
    "\n",
    "ferc1_plant_kind_combustion_turbine = ['Combustion Turbine','GT','Gas Turbine',\\\n",
    "'Gas Turbine # 1','Gas turbine','Gas Turbine (Note 1)',\\\n",
    "'Gas Turbines','Simple Cycle','COMBUSTION TURBINE','COMB.TURB.PEAK.UNITS',\\\n",
    " 'GAS TURBINE','Combustion turbine','Com Turbine Peaking',\\\n",
    "'Gas Turbine Peaking', 'Comb Turb Peaking', 'COMBUSTINE TURBINE',\\\n",
    "'Comb. Turine','Conbustion Turbine','Combustine Turbine',\\\n",
    "'Gas Turbine (Leased)','Combustion Tubine','Gas Turb','Gas Turbine Peaker',\\\n",
    "'GTG/Gas','Simple Cycle Turbine','GAS-TURBINE','Gas Turbine-Simple',\\\n",
    "'Gas Turbine - Note 1','Gas Turbine #1','SIMPLE CYCLE','GasTurbine',\\\n",
    "'CombustionTurbine','Gas Turbine (2)','Comb Turb Peak Units','JET ENGINE']\n",
    "\n",
    "ferc1_plant_kind_combined_cycle = ['COMBINED CYCLE','Combined Cycle','Combined',\\\n",
    "'GAS TURB. & HEAT REC','Combined cycle','Com. Cyc','Com. Cycle',\\\n",
    "'GAS TURB-COMBINED CY','Combined Cycle CTG','Combined Cycle - 40%',\\\n",
    "'Com Cycle Gas Turb','Combined Cycle Oper','Gas Turb/Comb. Cyc',\\\n",
    "'Combine Cycle','CC','Comb. Cycle','Gas Turb-Combined Cy']\n",
    "\n",
    "ferc1_plant_kind_nuke = ['Nuclear','NUCLEAR','Nuclear (3)']\n",
    "\n",
    "ferc1_plant_kind_geothermal = ['Steam - Geothermal']\n",
    "\n",
    "ferc_1_plant_kind_internal_combustion = ['IC','Internal Combustion',\\\n",
    "'Diesel Turbine','Int Combust (Note 1)','Int. Combust (Note1)',\\\n",
    "'INT.COMBUSTINE','Comb. Cyc','Internal Comb','DIESEL','Diesel Engine',\\\n",
    "'INTERNAL COMBUSTION','Int Combust - Note 1','Int. Combust - Note1',\\\n",
    "'Internal Comb Recip','Reciprocating Engine','Comb. Turbine']\n",
    "\n",
    "ferc1_plant_kind_wind = ['Wind','Wind Energy','Wind Turbine','Wind - Turbine']\n",
    "\n",
    "ferc1_plant_kind_photovoltaic =['Solar Photovoltaic','Photovoltaic']\n",
    "\n",
    "ferc1_plant_kind_solar_thermal = ['Solar Thermal']\n",
    "\n",
    "ferc1_plant_kind_strings = {\n",
    "                'coal': ferc1_plant_kind_coal,\n",
    "                'combustine turbine': ferc1_plant_kind_combustion_turbine,\n",
    "                'combined cycle': ferc1_plant_kind_combined_cycle,\n",
    "                'nuclear': ferc1_plant_kind_nuke,\n",
    "                'geothermal': ferc1_plant_kind_geothermal,\n",
    "                'internal combustion': ferc_1_plant_kind_internal_combustion,\n",
    "                'wind': ferc1_plant_kind_wind,\n",
    "                'photovoltaic': ferc1_plant_kind_photovoltaic,\n",
    "                'solar thermal':ferc1_plant_kind_solar_thermal\n",
    "}\n",
    "\n",
    "ferc1_plant_kind_solar_thermal[0]\n",
    "ferc1_plant_kind_photovoltaic[1]\n",
    "ferc1_plant_kind_wind[3]\n",
    "ferc_1_plant_kind_internal_combustion[4]\n",
    "ferc1_plant_kind_geothermal[0]\n",
    "ferc1_plant_kind_strings['coal']"
   ]
  },
  {
   "cell_type": "code",
   "execution_count": null,
   "metadata": {
    "collapsed": false
   },
   "outputs": [],
   "source": [
    "\n",
    "\n"
   ]
  },
  {
   "cell_type": "code",
   "execution_count": null,
   "metadata": {
    "collapsed": false
   },
   "outputs": [],
   "source": [
    "ferc1_steam['type_const'].unique()"
   ]
  },
  {
   "cell_type": "code",
   "execution_count": null,
   "metadata": {
    "collapsed": false
   },
   "outputs": [],
   "source": [
    "ferc1_construction_type_outdoor = [ 'Outdoor','OUTDOOR BOILER','Full Outdoor',\\\n",
    "'Outdoor Boiler','Outdoor Boilers','Outboilers','Fuel outdoor','FULL OUTDOOR',\\\n",
    "'Outdoors','OUTDOOR','Boiler Outdoor& Full','Boiler Outdoor&Full',\\\n",
    "'Outdoor Boiler& Full','Full -Outdoor','Outdoor Steam','Outdoor boiler',\\\n",
    "'OB','Outdoor Automatic','OUTDOOR REPOWER','FULL OUTDOOR BOILER','FO',\\\n",
    "'Outdoor Boiler & Ful''Full-Outdoor','Fuel Outdoor','Outoor','outdoor',\\\n",
    "'Outdoor  Boiler&Full','Boiler Outdoor &Full','Outdoor Boiler &Full',\\\n",
    "'Boiler Outdoor & Ful','Outdoor-Boiler', 'Outdoor - Boiler','Outdoor Const.',\\\n",
    "'4 Outdoor Boilers','3 Outdoor Boilers','Full outdoor','Full Outdoors',\\\n",
    "'Full Oudoors','Outdoor (Auto Oper)', 'Outside Boiler','Outdoor Boiler&Full',\\\n",
    "'OUTDOOR HRSG','Outdoor HRSG']\n",
    "ferc1_construction_type_conventional = ['Conventional','CONVENTIONAL',\\\n",
    "'Conventional Boiler','Conv-B','Conventionall','CONVENTION','conventional',\\\n",
    "'Coventional','Conven Full Boiler','C0NVENTIONAL','Conventtional','Convential'\n",
    "]\n",
    "\n",
    "ferc1_construction_type_strings = {\n",
    "                'outdoor': ferc1_construction_type_outdoor,\n",
    "                'conventional':ferc1_construction_type_conventional\n",
    "}\n",
    "\n",
    "ferc1_construction_type_conventional\n",
    "[5]"
   ]
  },
  {
   "cell_type": "code",
   "execution_count": null,
   "metadata": {
    "collapsed": false
   },
   "outputs": [],
   "source": [
    "pudl.constants.ferc_electric_plant_accounts.to_csv('ferc_accounts')"
   ]
  },
  {
   "cell_type": "code",
   "execution_count": null,
   "metadata": {
    "collapsed": false
   },
   "outputs": [],
   "source": [
    "pudl.pudl.init_db()"
   ]
  },
  {
   "cell_type": "code",
   "execution_count": null,
   "metadata": {
    "collapsed": true
   },
   "outputs": [],
   "source": []
  },
  {
   "cell_type": "code",
   "execution_count": 6,
   "metadata": {
    "collapsed": false
   },
   "outputs": [
    {
     "name": "stdout",
     "output_type": "stream",
     "text": [
      "Ingesting static PUDL tables...\n",
      "Sniffing EIA923/FERC1 glue tables...\n"
     ]
    },
    {
     "name": "stderr",
     "output_type": "stream",
     "text": [
      "/Users/Nannerz/Desktop/working/pudl/pudl/pudl.py:207: SettingWithCopyWarning: \n",
      "A value is trying to be set on a copy of a slice from a DataFrame.\n",
      "Try using .loc[row_indexer,col_indexer] = value instead\n",
      "\n",
      "See the caveats in the documentation: http://pandas.pydata.org/pandas-docs/stable/indexing.html#indexing-view-versus-copy\n",
      "  plants_ferc1['plant_name_ferc1'] = plants_ferc1['plant_name_ferc1'].str.strip()\n",
      "/Users/Nannerz/Desktop/working/pudl/pudl/pudl.py:208: SettingWithCopyWarning: \n",
      "A value is trying to be set on a copy of a slice from a DataFrame.\n",
      "Try using .loc[row_indexer,col_indexer] = value instead\n",
      "\n",
      "See the caveats in the documentation: http://pandas.pydata.org/pandas-docs/stable/indexing.html#indexing-view-versus-copy\n",
      "  plants_ferc1['plant_name_ferc1'] = plants_ferc1['plant_name_ferc1'].str.title()\n"
     ]
    },
    {
     "name": "stdout",
     "output_type": "stream",
     "text": [
      "Ingesting f1_fuel from FERC Form 1 into PUDL.\n",
      "Ingesting f1_steam from FERC Form 1 into PUDL.\n",
      "Ingesting f1_hydro from FERC Form 1 into PUDL.\n",
      "Ingesting f1_plant_in_srvce from FERC Form 1 into PUDL.\n",
      "Ingesting f1_accumdepr_prvsn from FERC Form 1 into PUDL.\n"
     ]
    }
   ],
   "source": [
    "pudl.pudl.init_db(ferc1_tables=['f1_fuel', 'f1_steam', 'f1_hydro', 'f1_plant_in_srvce','f1_accumdepr_prvsn'], verbose=True, debug=True) "
   ]
  },
  {
   "cell_type": "code",
   "execution_count": null,
   "metadata": {
    "collapsed": true
   },
   "outputs": [],
   "source": []
  }
 ],
 "metadata": {
  "anaconda-cloud": {},
  "kernelspec": {
   "display_name": "Python 3",
   "language": "python",
   "name": "python3"
  },
  "language_info": {
   "codemirror_mode": {
    "name": "ipython",
    "version": 3
   },
   "file_extension": ".py",
   "mimetype": "text/x-python",
   "name": "python",
   "nbconvert_exporter": "python",
   "pygments_lexer": "ipython3",
   "version": "3.6.0"
  }
 },
 "nbformat": 4,
 "nbformat_minor": 1
}
