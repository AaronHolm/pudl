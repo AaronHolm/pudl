{
 "cells": [
  {
   "cell_type": "markdown",
   "metadata": {},
   "source": [
    "## Playing with PUDL\n",
    "This notebook is meant to help get you up and running with the PUDL database, so you can play with it!\n",
    "\n",
    "### Importing external code.\n",
    "We need to import a bunch of outside code to do our work here.  Sometimes we import entire packages (like `numpy` and `pandas`) and sometimes we just pull in a couple of pieces we need from a particular part of a large package (like `declarative_base`)"
   ]
  },
  {
   "cell_type": "code",
   "execution_count": 1,
   "metadata": {
    "collapsed": false
   },
   "outputs": [],
   "source": [
    "import sys\n",
    "import os.path\n",
    "import numpy as np\n",
    "import pandas as pd\n",
    "from sqlalchemy.ext.declarative import declarative_base\n",
    "from sqlalchemy import create_engine\n",
    "from sqlalchemy.orm import sessionmaker\n",
    "from sqlalchemy.engine.url import URL"
   ]
  },
  {
   "cell_type": "markdown",
   "metadata": {},
   "source": [
    "### Importing our own code\n",
    "We also need to tell Python where to look to find our own code.  It has a list of directories that it looks in, but our little project isn't in that list, unless we add it -- which is what `sys.path.append()` does.  You'll need to change this path to reflect where on your computer the PUDL project folder (which you pull down with `git`) lives.\n",
    "\n",
    "Once Python knows to look in the `pudl` project folder, it will let you import `pudl` modules just like any other Python module.  Here we're pulling in the `ferc1` and `pudl` modules from the `pudl` package (which is a directory inside the `pudl` project directory)."
   ]
  },
  {
   "cell_type": "code",
   "execution_count": 2,
   "metadata": {
    "collapsed": false
   },
   "outputs": [],
   "source": [
    "sys.path.append('/Users/christinagosnell/code/pudl')\n",
    "sys.path.append('/Users/zaneselvans/code/catalyst/pudl')\n",
    "sys.path.append('/Users/Nannerz/Desktop/working/pudl/')\n",
    "sys.path.append('/home/alana/Dropbox/catalyst/pudl')\n",
    "from pudl import ferc1, pudl, models, models_ferc1, settings, constants"
   ]
  },
  {
   "cell_type": "markdown",
   "metadata": {},
   "source": [
    "### Automatically reloading a work in progress\n",
    "Because you're probably going to be editing the Python modules related to PUDL while you're working with this notebook, it's useful to have them get automatically reloaded before every cell is executed -- this means you're always using the freshest version of the module, with all your recent edits."
   ]
  },
  {
   "cell_type": "code",
   "execution_count": 3,
   "metadata": {
    "collapsed": false
   },
   "outputs": [],
   "source": [
    "%load_ext autoreload\n",
    "%autoreload 1\n",
    "%aimport pudl.pudl\n",
    "%aimport pudl.ferc1\n",
    "%aimport pudl.constants\n",
    "%aimport pudl.settings\n",
    "%aimport pudl.models"
   ]
  },
  {
   "cell_type": "markdown",
   "metadata": {},
   "source": [
    "### Connecting to our databases.\n",
    "We have two different databases that we're working with right now.  The FERC Form 1 (`ferc1`) and our own PUDL database (`pudl`). For this software to work, you'll need to have the Postgresql database server running on your computer, and you'll need to have created empty databases to receive the tables and data we're going to create.  On a mac, the easiest Postgres install to get running is probably Postgress.app.  You'll need to fire it up at the command line at least once to create the databases (one called `ferc1` and another called `pudl_sandbox`) and a user named `catalyst` with no password.  This information is stored in the `settings` module if you need to look it up.\n",
    "\n",
    "Here are two shortcuts for connecting to the two databases once they're created:"
   ]
  },
  {
   "cell_type": "code",
   "execution_count": 4,
   "metadata": {
    "collapsed": false
   },
   "outputs": [],
   "source": [
    "pudl_engine  = pudl.pudl.db_connect_pudl()\n",
    "ferc1_engine = pudl.ferc1.db_connect_ferc1()"
   ]
  },
  {
   "cell_type": "markdown",
   "metadata": {},
   "source": [
    "### Initializing the FERC Form 1 database\n",
    "Now that you've got an empty database, let's put some data in it!  This function initializes the database by reading in the FERC Form 1 database structure from `refyear` and data from `years` (which can eventually be a list of years, but that's not working yet...). In order for this to work, you need to have the FERC Form 1 data downloaded into the data directory. There's a script called `get_ferc1.sh` down in `data/ferc/form1/` that will get it for you if you don't have it."
   ]
  },
  {
   "cell_type": "code",
   "execution_count": 5,
   "metadata": {
    "collapsed": false
   },
   "outputs": [
    {
     "name": "stdout",
     "output_type": "stream",
     "text": [
      "Defining new FERC Form 1 DB based on 2015...\n",
      "Clearing any existing FERC Form 1 database MetaData...\n",
      "Ingesting FERC Form 1 Data from 2015...\n"
     ]
    }
   ],
   "source": [
    "pudl.ferc1.init_db(refyear=2015, years=[2015,], ferc1_tables=pudl.constants.ferc1_default_tables)"
   ]
  },
  {
   "cell_type": "markdown",
   "metadata": {},
   "source": [
    "### Initializing the PUDL database\n",
    "We can also initialize the PUDL database now. Because we're messing around with it a lot, and playing with re-importing data over and over again, it's not a bad idea to destroy whatever old version of it exists in postgres (with `drop_tables_pudl`) and then re-create the tables anew (with `create_tables_pudl`).\n",
    "\n",
    "Then we can actualy initialize some of the data (mostly glue tables connecting plants to utilities, and a few lists of constants like the US States for now) using `pudl.init_db()`. Eventually we'll need to tell this where to pull data from... but since we're not really putting any meaningful data into it yet, the function takes no arguments."
   ]
  },
  {
   "cell_type": "code",
   "execution_count": 6,
   "metadata": {
    "collapsed": false
   },
   "outputs": [
    {
     "name": "stdout",
     "output_type": "stream",
     "text": [
      "Ingesting static PUDL tables...\n",
      "Sniffing EIA923/FERC1 glue tables...\n",
      "Ingesting f1_fuel from FERC Form 1 into PUDL.\n",
      "Ingesting f1_steam from FERC Form 1 into PUDL.\n",
      "Ingesting f1_hydro from FERC Form 1 into PUDL.\n",
      "Ingesting f1_plant_in_srvce from FERC Form 1 into PUDL.\n",
      "Ingesting f1_accumdepr_prvsn from FERC Form 1 into PUDL.\n",
      "Reading EIA 923 plant_frame data for 2015...\n",
      "Reading EIA 923 generation_fuel data for 2015...\n",
      "Ingesting plant_info_eia923 from EIA 923 into PUDL.\n",
      "Ingesting generation_fuel_eia923 from EIA 923 into PUDL.\n"
     ]
    }
   ],
   "source": [
    "pudl.pudl.drop_tables_pudl(pudl_engine)\n",
    "pudl.pudl.create_tables_pudl(pudl_engine)\n",
    "pudl.pudl.init_db(eia923_years=[2015,])"
   ]
  },
  {
   "cell_type": "markdown",
   "metadata": {
    "collapsed": false
   },
   "source": [
    "### Pulling data out of the database!\n",
    "Now we're ready to pull some data out of one of the databases, just to show that it works. `pd.read_sql()` takes an SQL Query and a database connection, and puts the results of the query into a pandas DataFrame you can play with easily."
   ]
  },
  {
   "cell_type": "code",
   "execution_count": 7,
   "metadata": {
    "collapsed": true
   },
   "outputs": [],
   "source": [
    "ferc1_fuel = pd.read_sql('''SELECT respondent_id, report_year, plant_name, fuel, fuel_unit, fuel_quantity,\\\n",
    "                                fuel_avg_heat, fuel_cost_delvd, fuel_cost_burned, fuel_cost_btu, fuel_cost_kwh,\\\n",
    "                                fuel_generaton \\\n",
    "                                FROM f1_fuel WHERE plant_name <> '' AND fuel NOT IN ('Total','') ''',ferc1_engine)"
   ]
  },
  {
   "cell_type": "code",
   "execution_count": 8,
   "metadata": {
    "collapsed": true
   },
   "outputs": [],
   "source": [
    "ferc1_fuel_pudl = pd.read_sql('''SELECT respondent_id, report_year, plant_name, fuel, fuel_unit, fuel_qty_burned,\\\n",
    "                                fuel_avg_mmbtu_per_unit, fuel_cost_per_unit_delivered, fuel_cost_per_unit_burned, fuel_cost_per_mmbtu, fuel_cost_per_mwh,\\\n",
    "                                fuel_mmbtu_per_mwh \\\n",
    "                                FROM fuel_ferc1 WHERE plant_name <> '' AND fuel NOT IN ('Total','') ''',pudl_engine)"
   ]
  },
  {
   "cell_type": "markdown",
   "metadata": {},
   "source": [
    "### Examining the data we pulled.\n",
    "the `sample()` DataFrame method returns a random sample of records from the DataFrame, which is useful for seeing what kinds of things are in there, without always seeing just the first few records."
   ]
  },
  {
   "cell_type": "code",
   "execution_count": 9,
   "metadata": {
    "collapsed": false
   },
   "outputs": [
    {
     "data": {
      "text/html": [
       "<div>\n",
       "<table border=\"1\" class=\"dataframe\">\n",
       "  <thead>\n",
       "    <tr style=\"text-align: right;\">\n",
       "      <th></th>\n",
       "      <th>respondent_id</th>\n",
       "      <th>report_year</th>\n",
       "      <th>plant_name</th>\n",
       "      <th>fuel</th>\n",
       "      <th>fuel_unit</th>\n",
       "      <th>fuel_quantity</th>\n",
       "      <th>fuel_avg_heat</th>\n",
       "      <th>fuel_cost_delvd</th>\n",
       "      <th>fuel_cost_burned</th>\n",
       "      <th>fuel_cost_btu</th>\n",
       "      <th>fuel_cost_kwh</th>\n",
       "      <th>fuel_generaton</th>\n",
       "    </tr>\n",
       "  </thead>\n",
       "  <tbody>\n",
       "    <tr>\n",
       "      <th>1377</th>\n",
       "      <td>45</td>\n",
       "      <td>2015</td>\n",
       "      <td>Catawba</td>\n",
       "      <td>Grams of</td>\n",
       "      <td>Uranium</td>\n",
       "      <td>564219.0</td>\n",
       "      <td>0.0</td>\n",
       "      <td>0.000</td>\n",
       "      <td>0.000</td>\n",
       "      <td>0.000</td>\n",
       "      <td>0.000</td>\n",
       "      <td>0.000</td>\n",
       "    </tr>\n",
       "    <tr>\n",
       "      <th>31</th>\n",
       "      <td>7</td>\n",
       "      <td>2015</td>\n",
       "      <td>Cholla 3</td>\n",
       "      <td>Oil</td>\n",
       "      <td>Bbls</td>\n",
       "      <td>3456.0</td>\n",
       "      <td>126550.0</td>\n",
       "      <td>116.201</td>\n",
       "      <td>390.705</td>\n",
       "      <td>73.508</td>\n",
       "      <td>0.788</td>\n",
       "      <td>0.000</td>\n",
       "    </tr>\n",
       "    <tr>\n",
       "      <th>1070</th>\n",
       "      <td>79</td>\n",
       "      <td>2015</td>\n",
       "      <td>Osawatomie</td>\n",
       "      <td>Gas</td>\n",
       "      <td>Gas-mcf</td>\n",
       "      <td>56612.0</td>\n",
       "      <td>1000.0</td>\n",
       "      <td>-23.864</td>\n",
       "      <td>-23.864</td>\n",
       "      <td>-23.864</td>\n",
       "      <td>-0.374</td>\n",
       "      <td>15655.973</td>\n",
       "    </tr>\n",
       "    <tr>\n",
       "      <th>245</th>\n",
       "      <td>176</td>\n",
       "      <td>2015</td>\n",
       "      <td>San Juan</td>\n",
       "      <td>Coal</td>\n",
       "      <td>Tons</td>\n",
       "      <td>1079000.0</td>\n",
       "      <td>9229.0</td>\n",
       "      <td>60.020</td>\n",
       "      <td>60.202</td>\n",
       "      <td>3.262</td>\n",
       "      <td>0.034</td>\n",
       "      <td>10471.000</td>\n",
       "    </tr>\n",
       "    <tr>\n",
       "      <th>1049</th>\n",
       "      <td>182</td>\n",
       "      <td>2015</td>\n",
       "      <td>Crossroads</td>\n",
       "      <td>Gas</td>\n",
       "      <td>Gas-mcf</td>\n",
       "      <td>267711.0</td>\n",
       "      <td>1000.0</td>\n",
       "      <td>4.140</td>\n",
       "      <td>4.140</td>\n",
       "      <td>4.140</td>\n",
       "      <td>0.055</td>\n",
       "      <td>13390.906</td>\n",
       "    </tr>\n",
       "  </tbody>\n",
       "</table>\n",
       "</div>"
      ],
      "text/plain": [
       "      respondent_id  report_year  plant_name      fuel fuel_unit  \\\n",
       "1377             45         2015     Catawba  Grams of   Uranium   \n",
       "31                7         2015    Cholla 3       Oil      Bbls   \n",
       "1070             79         2015  Osawatomie       Gas   Gas-mcf   \n",
       "245             176         2015    San Juan      Coal      Tons   \n",
       "1049            182         2015  Crossroads       Gas   Gas-mcf   \n",
       "\n",
       "      fuel_quantity  fuel_avg_heat  fuel_cost_delvd  fuel_cost_burned  \\\n",
       "1377       564219.0            0.0            0.000             0.000   \n",
       "31           3456.0       126550.0          116.201           390.705   \n",
       "1070        56612.0         1000.0          -23.864           -23.864   \n",
       "245       1079000.0         9229.0           60.020            60.202   \n",
       "1049       267711.0         1000.0            4.140             4.140   \n",
       "\n",
       "      fuel_cost_btu  fuel_cost_kwh  fuel_generaton  \n",
       "1377          0.000          0.000           0.000  \n",
       "31           73.508          0.788           0.000  \n",
       "1070        -23.864         -0.374       15655.973  \n",
       "245           3.262          0.034       10471.000  \n",
       "1049          4.140          0.055       13390.906  "
      ]
     },
     "execution_count": 9,
     "metadata": {},
     "output_type": "execute_result"
    }
   ],
   "source": [
    "ferc1_fuel.sample(5)"
   ]
  },
  {
   "cell_type": "code",
   "execution_count": 10,
   "metadata": {
    "collapsed": false
   },
   "outputs": [
    {
     "data": {
      "text/html": [
       "<div>\n",
       "<table border=\"1\" class=\"dataframe\">\n",
       "  <thead>\n",
       "    <tr style=\"text-align: right;\">\n",
       "      <th></th>\n",
       "      <th>respondent_id</th>\n",
       "      <th>report_year</th>\n",
       "      <th>plant_name</th>\n",
       "      <th>fuel</th>\n",
       "      <th>fuel_unit</th>\n",
       "      <th>fuel_qty_burned</th>\n",
       "      <th>fuel_avg_mmbtu_per_unit</th>\n",
       "      <th>fuel_cost_per_unit_delivered</th>\n",
       "      <th>fuel_cost_per_unit_burned</th>\n",
       "      <th>fuel_cost_per_mmbtu</th>\n",
       "      <th>fuel_cost_per_mwh</th>\n",
       "      <th>fuel_mmbtu_per_mwh</th>\n",
       "    </tr>\n",
       "  </thead>\n",
       "  <tbody>\n",
       "    <tr>\n",
       "      <th>1060</th>\n",
       "      <td>454</td>\n",
       "      <td>2015</td>\n",
       "      <td>Ouachita 3</td>\n",
       "      <td>gas</td>\n",
       "      <td>mcf</td>\n",
       "      <td>3177562.0</td>\n",
       "      <td>1024500.0</td>\n",
       "      <td>0.000</td>\n",
       "      <td>2.694</td>\n",
       "      <td>2.630</td>\n",
       "      <td>19.0</td>\n",
       "      <td>7176570.0</td>\n",
       "    </tr>\n",
       "    <tr>\n",
       "      <th>1172</th>\n",
       "      <td>144</td>\n",
       "      <td>2015</td>\n",
       "      <td>Cayuga Peaking</td>\n",
       "      <td>oil</td>\n",
       "      <td>bbl</td>\n",
       "      <td>310.0</td>\n",
       "      <td>137000.0</td>\n",
       "      <td>82.645</td>\n",
       "      <td>87.816</td>\n",
       "      <td>15.262</td>\n",
       "      <td>185.0</td>\n",
       "      <td>12120000.0</td>\n",
       "    </tr>\n",
       "    <tr>\n",
       "      <th>458</th>\n",
       "      <td>85</td>\n",
       "      <td>2015</td>\n",
       "      <td>Port Jefferson</td>\n",
       "      <td>gas</td>\n",
       "      <td>mcf</td>\n",
       "      <td>15247015.0</td>\n",
       "      <td>1032.0</td>\n",
       "      <td>0.000</td>\n",
       "      <td>0.000</td>\n",
       "      <td>0.000</td>\n",
       "      <td>0.0</td>\n",
       "      <td>11664000.0</td>\n",
       "    </tr>\n",
       "    <tr>\n",
       "      <th>388</th>\n",
       "      <td>134</td>\n",
       "      <td>2015</td>\n",
       "      <td>Craig</td>\n",
       "      <td>oil</td>\n",
       "      <td>bbl</td>\n",
       "      <td>183.0</td>\n",
       "      <td>133693.0</td>\n",
       "      <td>126.581</td>\n",
       "      <td>126.581</td>\n",
       "      <td>22.536</td>\n",
       "      <td>0.0</td>\n",
       "      <td>963.0</td>\n",
       "    </tr>\n",
       "    <tr>\n",
       "      <th>72</th>\n",
       "      <td>82</td>\n",
       "      <td>2015</td>\n",
       "      <td>Brown Ct</td>\n",
       "      <td>oil</td>\n",
       "      <td>bbl</td>\n",
       "      <td>4116.0</td>\n",
       "      <td>3333.0</td>\n",
       "      <td>104.026</td>\n",
       "      <td>104.026</td>\n",
       "      <td>17.691</td>\n",
       "      <td>240.0</td>\n",
       "      <td>13589000.0</td>\n",
       "    </tr>\n",
       "  </tbody>\n",
       "</table>\n",
       "</div>"
      ],
      "text/plain": [
       "      respondent_id  report_year      plant_name fuel fuel_unit  \\\n",
       "1060            454         2015      Ouachita 3  gas       mcf   \n",
       "1172            144         2015  Cayuga Peaking  oil       bbl   \n",
       "458              85         2015  Port Jefferson  gas       mcf   \n",
       "388             134         2015           Craig  oil       bbl   \n",
       "72               82         2015        Brown Ct  oil       bbl   \n",
       "\n",
       "      fuel_qty_burned  fuel_avg_mmbtu_per_unit  fuel_cost_per_unit_delivered  \\\n",
       "1060        3177562.0                1024500.0                         0.000   \n",
       "1172            310.0                 137000.0                        82.645   \n",
       "458        15247015.0                   1032.0                         0.000   \n",
       "388             183.0                 133693.0                       126.581   \n",
       "72             4116.0                   3333.0                       104.026   \n",
       "\n",
       "      fuel_cost_per_unit_burned  fuel_cost_per_mmbtu  fuel_cost_per_mwh  \\\n",
       "1060                      2.694                2.630               19.0   \n",
       "1172                     87.816               15.262              185.0   \n",
       "458                       0.000                0.000                0.0   \n",
       "388                     126.581               22.536                0.0   \n",
       "72                      104.026               17.691              240.0   \n",
       "\n",
       "      fuel_mmbtu_per_mwh  \n",
       "1060           7176570.0  \n",
       "1172          12120000.0  \n",
       "458           11664000.0  \n",
       "388                963.0  \n",
       "72            13589000.0  "
      ]
     },
     "execution_count": 10,
     "metadata": {},
     "output_type": "execute_result"
    }
   ],
   "source": [
    "ferc1_fuel_pudl.sample(5)"
   ]
  },
  {
   "cell_type": "code",
   "execution_count": null,
   "metadata": {
    "collapsed": true
   },
   "outputs": [],
   "source": []
  },
  {
   "cell_type": "code",
   "execution_count": null,
   "metadata": {
    "collapsed": true
   },
   "outputs": [],
   "source": []
  }
 ],
 "metadata": {
  "anaconda-cloud": {},
  "kernelspec": {
   "display_name": "Python 3",
   "language": "python",
   "name": "python3"
  },
  "language_info": {
   "codemirror_mode": {
    "name": "ipython",
    "version": 3
   },
   "file_extension": ".py",
   "mimetype": "text/x-python",
   "name": "python",
   "nbconvert_exporter": "python",
   "pygments_lexer": "ipython3",
   "version": "3.6.0"
  }
 },
 "nbformat": 4,
 "nbformat_minor": 1
}
