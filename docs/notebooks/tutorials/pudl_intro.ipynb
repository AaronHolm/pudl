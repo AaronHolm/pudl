{
 "cells": [
  {
   "cell_type": "markdown",
   "metadata": {},
   "source": [
    "## Playing with PUDL\n",
    "This notebook is meant to help get you up and running with the PUDL database, so you can play with it!\n",
    "\n",
    "### Importing external code.\n",
    "We need to import a bunch of outside code to do our work here.  Sometimes we import entire packages (like `numpy` and `pandas`) and sometimes we just pull in a couple of pieces we need from a particular part of a large package (like `declarative_base`)"
   ]
  },
  {
   "cell_type": "code",
   "execution_count": 1,
   "metadata": {
    "collapsed": false
   },
   "outputs": [],
   "source": [
    "import sys\n",
    "import os.path\n",
    "import numpy as np\n",
    "import pandas as pd\n",
    "from sqlalchemy.ext.declarative import declarative_base\n",
    "from sqlalchemy import create_engine\n",
    "from sqlalchemy.orm import sessionmaker\n",
    "from sqlalchemy.engine.url import URL"
   ]
  },
  {
   "cell_type": "markdown",
   "metadata": {},
   "source": [
    "### Importing our own code\n",
    "We also need to tell Python where to look to find our own code.  It has a list of directories that it looks in, but our little project isn't in that list, unless we add it -- which is what `sys.path.append()` does.  You'll need to change this path to reflect where on your computer the PUDL project folder (which you pull down with `git`) lives.\n",
    "\n",
    "Once Python knows to look in the `pudl` project folder, it will let you import `pudl` modules just like any other Python module.  Here we're pulling in the `ferc1` and `pudl` modules from the `pudl` package (which is a directory inside the `pudl` project directory)."
   ]
  },
  {
   "cell_type": "code",
   "execution_count": 2,
   "metadata": {
    "collapsed": false
   },
   "outputs": [],
   "source": [
    "sys.path.append('/Users/christinagosnell/code/pudl')\n",
    "sys.path.append('/Users/zaneselvans/code/catalyst/pudl')\n",
    "sys.path.append('/Users/Nannerz/Desktop/working/pudl/')\n",
    "sys.path.append('/home/alana/Dropbox/catalyst/pudl')\n",
    "from pudl import ferc1, pudl, models, models_ferc1, settings, constants"
   ]
  },
  {
   "cell_type": "markdown",
   "metadata": {},
   "source": [
    "### Automatically reloading a work in progress\n",
    "Because you're probably going to be editing the Python modules related to PUDL while you're working with this notebook, it's useful to have them get automatically reloaded before every cell is executed -- this means you're always using the freshest version of the module, with all your recent edits."
   ]
  },
  {
   "cell_type": "code",
   "execution_count": 3,
   "metadata": {
    "collapsed": false
   },
   "outputs": [],
   "source": [
    "%load_ext autoreload\n",
    "%autoreload 1\n",
    "%aimport pudl.pudl\n",
    "%aimport pudl.ferc1\n",
    "%aimport pudl.constants\n",
    "%aimport pudl.settings\n",
    "%aimport pudl.models"
   ]
  },
  {
   "cell_type": "markdown",
   "metadata": {},
   "source": [
    "### Connecting to our databases.\n",
    "We have two different databases that we're working with right now.  The FERC Form 1 (`ferc1`) and our own PUDL database (`pudl`). For this software to work, you'll need to have the Postgresql database server running on your computer, and you'll need to have created empty databases to receive the tables and data we're going to create.  On a mac, the easiest Postgres install to get running is probably Postgress.app.  You'll need to fire it up at the command line at least once to create the databases (one called `ferc1` and another called `pudl_sandbox`) and a user named `catalyst` with no password.  This information is stored in the `settings` module if you need to look it up.\n",
    "\n",
    "Here are two shortcuts for connecting to the two databases once they're created:"
   ]
  },
  {
   "cell_type": "code",
   "execution_count": 4,
   "metadata": {
    "collapsed": false
   },
   "outputs": [],
   "source": [
    "pudl_engine  = pudl.pudl.db_connect_pudl()\n",
    "ferc1_engine = pudl.ferc1.db_connect_ferc1()"
   ]
  },
  {
   "cell_type": "markdown",
   "metadata": {},
   "source": [
    "### Initializing the FERC Form 1 database\n",
    "Now that you've got an empty database, let's put some data in it!  This function initializes the database by reading in the FERC Form 1 database structure from `refyear` and data from `years` (which can eventually be a list of years, but that's not working yet...). In order for this to work, you need to have the FERC Form 1 data downloaded into the data directory. There's a script called `get_ferc1.sh` down in `data/ferc/form1/` that will get it for you if you don't have it."
   ]
  },
  {
   "cell_type": "code",
   "execution_count": 5,
   "metadata": {
    "collapsed": false
   },
   "outputs": [
    {
     "name": "stdout",
     "output_type": "stream",
     "text": [
      "Defining new FERC Form 1 DB based on 2015...\n",
      "Ingesting FERC Form 1 Data from 2015...\n"
     ]
    }
   ],
   "source": [
    "pudl.ferc1.init_db(refyear=2015, years=[2015,], ferc1_tables=pudl.constants.ferc1_default_tables)"
   ]
  },
  {
   "cell_type": "markdown",
   "metadata": {},
   "source": [
    "### Initializing the PUDL database\n",
    "We can also initialize the PUDL database now. Because we're messing around with it a lot, and playing with re-importing data over and over again, it's not a bad idea to destroy whatever old version of it exists in postgres (with `drop_tables_pudl`) and then re-create the tables anew (with `create_tables_pudl`).\n",
    "\n",
    "Then we can actualy initialize some of the data (mostly glue tables connecting plants to utilities, and a few lists of constants like the US States for now) using `pudl.init_db()`. Eventually we'll need to tell this where to pull data from... but since we're not really putting any meaningful data into it yet, the function takes no arguments."
   ]
  },
  {
   "cell_type": "code",
   "execution_count": 6,
   "metadata": {
    "collapsed": false
   },
   "outputs": [
    {
     "name": "stdout",
     "output_type": "stream",
     "text": [
      "Ingesting static PUDL tables...\n",
      "Sniffing EIA923/FERC1 glue tables...\n",
      "Ingesting f1_fuel from FERC Form 1 into PUDL.\n",
      "Ingesting f1_steam from FERC Form 1 into PUDL.\n"
     ]
    }
   ],
   "source": [
    "pudl.pudl.drop_tables_pudl(pudl_engine)\n",
    "pudl.pudl.create_tables_pudl(pudl_engine)\n",
    "pudl.pudl.init_db()"
   ]
  },
  {
   "cell_type": "markdown",
   "metadata": {
    "collapsed": false
   },
   "source": [
    "### Pulling data out of the database!\n",
    "Now we're ready to pull some data out of one of the databases, just to show that it works. `pd.read_sql()` takes an SQL Query and a database connection, and puts the results of the query into a pandas DataFrame you can play with easily."
   ]
  },
  {
   "cell_type": "code",
   "execution_count": 7,
   "metadata": {
    "collapsed": true
   },
   "outputs": [],
   "source": [
    "ferc1_fuel = pd.read_sql('''SELECT respondent_id, report_year, plant_name, fuel, fuel_unit, fuel_quantity,\\\n",
    "                                fuel_avg_heat, fuel_cost_delvd, fuel_cost_burned, fuel_cost_btu, fuel_cost_kwh,\\\n",
    "                                fuel_generaton \\\n",
    "                                FROM f1_fuel WHERE plant_name <> '' AND fuel NOT IN ('Total','') ''',ferc1_engine)"
   ]
  },
  {
   "cell_type": "code",
   "execution_count": 8,
   "metadata": {
    "collapsed": true
   },
   "outputs": [],
   "source": [
    "ferc1_fuel_pudl = pd.read_sql('''SELECT respondent_id, report_year, plant_name, fuel, fuel_unit, fuel_qty_burned,\\\n",
    "                                fuel_avg_mmbtu_per_unit, fuel_cost_per_unit_delivered, fuel_cost_per_unit_burned, fuel_cost_per_mmbtu, fuel_cost_per_kwh,\\\n",
    "                                fuel_mmbtu_per_kwh \\\n",
    "                                FROM fuel_ferc1 WHERE plant_name <> '' AND fuel NOT IN ('Total','') ''',pudl_engine)"
   ]
  },
  {
   "cell_type": "markdown",
   "metadata": {},
   "source": [
    "### Examining the data we pulled.\n",
    "the `sample()` DataFrame method returns a random sample of records from the DataFrame, which is useful for seeing what kinds of things are in there, without always seeing just the first few records."
   ]
  },
  {
   "cell_type": "code",
   "execution_count": 9,
   "metadata": {
    "collapsed": false
   },
   "outputs": [
    {
     "data": {
      "text/html": [
       "<div>\n",
       "<table border=\"1\" class=\"dataframe\">\n",
       "  <thead>\n",
       "    <tr style=\"text-align: right;\">\n",
       "      <th></th>\n",
       "      <th>respondent_id</th>\n",
       "      <th>report_year</th>\n",
       "      <th>plant_name</th>\n",
       "      <th>fuel</th>\n",
       "      <th>fuel_unit</th>\n",
       "      <th>fuel_quantity</th>\n",
       "      <th>fuel_avg_heat</th>\n",
       "      <th>fuel_cost_delvd</th>\n",
       "      <th>fuel_cost_burned</th>\n",
       "      <th>fuel_cost_btu</th>\n",
       "      <th>fuel_cost_kwh</th>\n",
       "      <th>fuel_generaton</th>\n",
       "    </tr>\n",
       "  </thead>\n",
       "  <tbody>\n",
       "    <tr>\n",
       "      <th>211</th>\n",
       "      <td>210</td>\n",
       "      <td>2015</td>\n",
       "      <td>Riverside</td>\n",
       "      <td>Oil</td>\n",
       "      <td>Bbl.</td>\n",
       "      <td>0.0</td>\n",
       "      <td>0.0</td>\n",
       "      <td>0.00</td>\n",
       "      <td>0.000</td>\n",
       "      <td>0.000</td>\n",
       "      <td>0.027</td>\n",
       "      <td>11351.000</td>\n",
       "    </tr>\n",
       "    <tr>\n",
       "      <th>352</th>\n",
       "      <td>95</td>\n",
       "      <td>2015</td>\n",
       "      <td>R.M. Heskett</td>\n",
       "      <td>Coal-Lignite</td>\n",
       "      <td>Tons</td>\n",
       "      <td>474281.0</td>\n",
       "      <td>7090.0</td>\n",
       "      <td>26.44</td>\n",
       "      <td>28.219</td>\n",
       "      <td>1.990</td>\n",
       "      <td>0.027</td>\n",
       "      <td>13590.003</td>\n",
       "    </tr>\n",
       "    <tr>\n",
       "      <th>268</th>\n",
       "      <td>132</td>\n",
       "      <td>2015</td>\n",
       "      <td>Big Stone</td>\n",
       "      <td>Oil</td>\n",
       "      <td>Barrels</td>\n",
       "      <td>3627.0</td>\n",
       "      <td>140000.0</td>\n",
       "      <td>74.84</td>\n",
       "      <td>87.700</td>\n",
       "      <td>14.915</td>\n",
       "      <td>0.000</td>\n",
       "      <td>0.000</td>\n",
       "    </tr>\n",
       "    <tr>\n",
       "      <th>476</th>\n",
       "      <td>134</td>\n",
       "      <td>2015</td>\n",
       "      <td>Hunter Unit No. 1</td>\n",
       "      <td>Oil</td>\n",
       "      <td>Barrels</td>\n",
       "      <td>1954.0</td>\n",
       "      <td>138000.0</td>\n",
       "      <td>0.00</td>\n",
       "      <td>0.000</td>\n",
       "      <td>17.135</td>\n",
       "      <td>0.000</td>\n",
       "      <td>3.771</td>\n",
       "    </tr>\n",
       "    <tr>\n",
       "      <th>814</th>\n",
       "      <td>56</td>\n",
       "      <td>2015</td>\n",
       "      <td>Martin Solar</td>\n",
       "      <td>N/A</td>\n",
       "      <td>N/A</td>\n",
       "      <td>0.0</td>\n",
       "      <td>0.0</td>\n",
       "      <td>0.00</td>\n",
       "      <td>0.000</td>\n",
       "      <td>0.000</td>\n",
       "      <td>0.000</td>\n",
       "      <td>0.000</td>\n",
       "    </tr>\n",
       "  </tbody>\n",
       "</table>\n",
       "</div>"
      ],
      "text/plain": [
       "     respondent_id  report_year         plant_name          fuel fuel_unit  \\\n",
       "211            210         2015          Riverside           Oil      Bbl.   \n",
       "352             95         2015       R.M. Heskett  Coal-Lignite      Tons   \n",
       "268            132         2015          Big Stone           Oil   Barrels   \n",
       "476            134         2015  Hunter Unit No. 1           Oil   Barrels   \n",
       "814             56         2015       Martin Solar           N/A       N/A   \n",
       "\n",
       "     fuel_quantity  fuel_avg_heat  fuel_cost_delvd  fuel_cost_burned  \\\n",
       "211            0.0            0.0             0.00             0.000   \n",
       "352       474281.0         7090.0            26.44            28.219   \n",
       "268         3627.0       140000.0            74.84            87.700   \n",
       "476         1954.0       138000.0             0.00             0.000   \n",
       "814            0.0            0.0             0.00             0.000   \n",
       "\n",
       "     fuel_cost_btu  fuel_cost_kwh  fuel_generaton  \n",
       "211          0.000          0.027       11351.000  \n",
       "352          1.990          0.027       13590.003  \n",
       "268         14.915          0.000           0.000  \n",
       "476         17.135          0.000           3.771  \n",
       "814          0.000          0.000           0.000  "
      ]
     },
     "execution_count": 9,
     "metadata": {},
     "output_type": "execute_result"
    }
   ],
   "source": [
    "ferc1_fuel.sample(5)"
   ]
  },
  {
   "cell_type": "code",
   "execution_count": 10,
   "metadata": {
    "collapsed": false
   },
   "outputs": [
    {
     "data": {
      "text/html": [
       "<div>\n",
       "<table border=\"1\" class=\"dataframe\">\n",
       "  <thead>\n",
       "    <tr style=\"text-align: right;\">\n",
       "      <th></th>\n",
       "      <th>respondent_id</th>\n",
       "      <th>report_year</th>\n",
       "      <th>plant_name</th>\n",
       "      <th>fuel</th>\n",
       "      <th>fuel_unit</th>\n",
       "      <th>fuel_qty_burned</th>\n",
       "      <th>fuel_avg_mmbtu_per_unit</th>\n",
       "      <th>fuel_cost_per_unit_delivered</th>\n",
       "      <th>fuel_cost_per_unit_burned</th>\n",
       "      <th>fuel_cost_per_mmbtu</th>\n",
       "      <th>fuel_cost_per_kwh</th>\n",
       "      <th>fuel_mmbtu_per_kwh</th>\n",
       "    </tr>\n",
       "  </thead>\n",
       "  <tbody>\n",
       "    <tr>\n",
       "      <th>257</th>\n",
       "      <td>73</td>\n",
       "      <td>2015</td>\n",
       "      <td>ROCKPORT TOTAL PLANT</td>\n",
       "      <td>coal</td>\n",
       "      <td>ton</td>\n",
       "      <td>6946581.0</td>\n",
       "      <td>8855.0</td>\n",
       "      <td>44.747</td>\n",
       "      <td>45.277</td>\n",
       "      <td>2.557</td>\n",
       "      <td>0.024</td>\n",
       "      <td>10095.000</td>\n",
       "    </tr>\n",
       "    <tr>\n",
       "      <th>122</th>\n",
       "      <td>186</td>\n",
       "      <td>2015</td>\n",
       "      <td>Possum Point</td>\n",
       "      <td>oil</td>\n",
       "      <td>bbl</td>\n",
       "      <td>385325.0</td>\n",
       "      <td>6347160.0</td>\n",
       "      <td>50.360</td>\n",
       "      <td>82.830</td>\n",
       "      <td>13.050</td>\n",
       "      <td>0.137</td>\n",
       "      <td>10606.540</td>\n",
       "    </tr>\n",
       "    <tr>\n",
       "      <th>998</th>\n",
       "      <td>55</td>\n",
       "      <td>2015</td>\n",
       "      <td>Higgins</td>\n",
       "      <td>gas</td>\n",
       "      <td>mcf</td>\n",
       "      <td>195757.0</td>\n",
       "      <td>1022044.0</td>\n",
       "      <td>4.705</td>\n",
       "      <td>4.705</td>\n",
       "      <td>4.604</td>\n",
       "      <td>0.085</td>\n",
       "      <td>18416.760</td>\n",
       "    </tr>\n",
       "    <tr>\n",
       "      <th>1003</th>\n",
       "      <td>55</td>\n",
       "      <td>2015</td>\n",
       "      <td>Suwannee CT</td>\n",
       "      <td>gas</td>\n",
       "      <td>mcf</td>\n",
       "      <td>545855.0</td>\n",
       "      <td>1023599.0</td>\n",
       "      <td>5.361</td>\n",
       "      <td>5.361</td>\n",
       "      <td>5.238</td>\n",
       "      <td>0.079</td>\n",
       "      <td>15114.020</td>\n",
       "    </tr>\n",
       "    <tr>\n",
       "      <th>911</th>\n",
       "      <td>79</td>\n",
       "      <td>2015</td>\n",
       "      <td>LaCygne 2 (50%)</td>\n",
       "      <td>coal</td>\n",
       "      <td>ton</td>\n",
       "      <td>1222606.0</td>\n",
       "      <td>8639.0</td>\n",
       "      <td>30.810</td>\n",
       "      <td>31.191</td>\n",
       "      <td>1.805</td>\n",
       "      <td>0.020</td>\n",
       "      <td>10998.088</td>\n",
       "    </tr>\n",
       "  </tbody>\n",
       "</table>\n",
       "</div>"
      ],
      "text/plain": [
       "      respondent_id  report_year            plant_name  fuel fuel_unit  \\\n",
       "257              73         2015  ROCKPORT TOTAL PLANT  coal       ton   \n",
       "122             186         2015          Possum Point   oil       bbl   \n",
       "998              55         2015               Higgins   gas       mcf   \n",
       "1003             55         2015           Suwannee CT   gas       mcf   \n",
       "911              79         2015       LaCygne 2 (50%)  coal       ton   \n",
       "\n",
       "      fuel_qty_burned  fuel_avg_mmbtu_per_unit  fuel_cost_per_unit_delivered  \\\n",
       "257         6946581.0                   8855.0                        44.747   \n",
       "122          385325.0                6347160.0                        50.360   \n",
       "998          195757.0                1022044.0                         4.705   \n",
       "1003         545855.0                1023599.0                         5.361   \n",
       "911         1222606.0                   8639.0                        30.810   \n",
       "\n",
       "      fuel_cost_per_unit_burned  fuel_cost_per_mmbtu  fuel_cost_per_kwh  \\\n",
       "257                      45.277                2.557              0.024   \n",
       "122                      82.830               13.050              0.137   \n",
       "998                       4.705                4.604              0.085   \n",
       "1003                      5.361                5.238              0.079   \n",
       "911                      31.191                1.805              0.020   \n",
       "\n",
       "      fuel_mmbtu_per_kwh  \n",
       "257            10095.000  \n",
       "122            10606.540  \n",
       "998            18416.760  \n",
       "1003           15114.020  \n",
       "911            10998.088  "
      ]
     },
     "execution_count": 10,
     "metadata": {},
     "output_type": "execute_result"
    }
   ],
   "source": [
    "ferc1_fuel_pudl.sample(5)"
   ]
  },
  {
   "cell_type": "code",
   "execution_count": null,
   "metadata": {
    "collapsed": true
   },
   "outputs": [],
   "source": []
  },
  {
   "cell_type": "code",
   "execution_count": null,
   "metadata": {
    "collapsed": true
   },
   "outputs": [],
   "source": []
  }
 ],
 "metadata": {
  "anaconda-cloud": {},
  "kernelspec": {
   "display_name": "Python 3",
   "language": "python",
   "name": "python3"
  },
  "language_info": {
   "codemirror_mode": {
    "name": "ipython",
    "version": 3
   },
   "file_extension": ".py",
   "mimetype": "text/x-python",
   "name": "python",
   "nbconvert_exporter": "python",
   "pygments_lexer": "ipython3",
   "version": "3.6.0"
  }
 },
 "nbformat": 4,
 "nbformat_minor": 1
}
