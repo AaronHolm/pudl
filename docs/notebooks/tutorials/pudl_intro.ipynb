{
 "cells": [
  {
   "cell_type": "markdown",
   "metadata": {},
   "source": [
    "## Playing with PUDL\n",
    "This notebook is meant to help get you up and running with the PUDL database, so you can play with it!\n",
    "\n",
    "### Importing external code.\n",
    "We need to import a bunch of outside code to do our work here.  Sometimes we import entire packages (like `numpy` and `pandas`) and sometimes we just pull in a couple of pieces we need from a particular part of a large package (like `declarative_base`)"
   ]
  },
  {
   "cell_type": "code",
   "execution_count": 1,
   "metadata": {
    "collapsed": false
   },
   "outputs": [],
   "source": [
    "import sys\n",
    "import os.path\n",
    "import numpy as np\n",
    "import pandas as pd\n",
    "from sqlalchemy.ext.declarative import declarative_base\n",
    "from sqlalchemy import create_engine\n",
    "from sqlalchemy.orm import sessionmaker\n",
    "from sqlalchemy.engine.url import URL"
   ]
  },
  {
   "cell_type": "markdown",
   "metadata": {},
   "source": [
    "### Importing our own code\n",
    "We also need to tell Python where to look to find our own code.  It has a list of directories that it looks in, but our little project isn't in that list, unless we add it -- which is what `sys.path.append()` does.  You'll need to change this path to reflect where on your computer the PUDL project folder (which you pull down with `git`) lives.\n",
    "\n",
    "Once Python knows to look in the `pudl` project folder, it will let you import `pudl` modules just like any other Python module.  Here we're pulling in the `ferc1` and `pudl` modules from the `pudl` package (which is a directory inside the `pudl` project directory)."
   ]
  },
  {
   "cell_type": "code",
   "execution_count": 2,
   "metadata": {
    "collapsed": false
   },
   "outputs": [],
   "source": [
    "sys.path.append('/Users/christinagosnell/code/pudl')\n",
    "sys.path.append('/Users/zaneselvans/code/catalyst/pudl')\n",
    "sys.path.append('/Users/Nannerz/Desktop/working/pudl/')\n",
    "sys.path.append('/home/alana/Dropbox/catalyst/pudl')\n",
    "from pudl import ferc1, pudl, models, models_ferc1, settings, constants"
   ]
  },
  {
   "cell_type": "markdown",
   "metadata": {},
   "source": [
    "### Automatically reloading a work in progress\n",
    "Because you're probably going to be editing the Python modules related to PUDL while you're working with this notebook, it's useful to have them get automatically reloaded before every cell is executed -- this means you're always using the freshest version of the module, with all your recent edits."
   ]
  },
  {
   "cell_type": "code",
   "execution_count": 3,
   "metadata": {
    "collapsed": false
   },
   "outputs": [],
   "source": [
    "%load_ext autoreload\n",
    "%autoreload 1\n",
    "%aimport pudl.pudl\n",
    "%aimport pudl.ferc1\n",
    "%aimport pudl.constants\n",
    "%aimport pudl.settings\n",
    "%aimport pudl.models"
   ]
  },
  {
   "cell_type": "markdown",
   "metadata": {},
   "source": [
    "### Connecting to our databases.\n",
    "We have two different databases that we're working with right now.  The FERC Form 1 (`ferc1`) and our own PUDL database (`pudl`). For this software to work, you'll need to have the Postgresql database server running on your computer, and you'll need to have created empty databases to receive the tables and data we're going to create.  On a mac, the easiest Postgres install to get running is probably Postgress.app.  You'll need to fire it up at the command line at least once to create the databases (one called `ferc1` and another called `pudl_sandbox`) and a user named `catalyst` with no password.  This information is stored in the `settings` module if you need to look it up.\n",
    "\n",
    "Here are two shortcuts for connecting to the two databases once they're created:"
   ]
  },
  {
   "cell_type": "code",
   "execution_count": 4,
   "metadata": {
    "collapsed": false
   },
   "outputs": [],
   "source": [
    "pudl_engine  = pudl.pudl.db_connect_pudl()\n",
    "ferc1_engine = pudl.ferc1.db_connect_ferc1()"
   ]
  },
  {
   "cell_type": "markdown",
   "metadata": {},
   "source": [
    "### Initializing the FERC Form 1 database\n",
    "Now that you've got an empty database, let's put some data in it!  This function initializes the database by reading in the FERC Form 1 database structure from `refyear` and data from `years` (which can eventually be a list of years, but that's not working yet...). In order for this to work, you need to have the FERC Form 1 data downloaded into the data directory. There's a script called `get_ferc1.sh` down in `data/ferc/form1/` that will get it for you if you don't have it."
   ]
  },
  {
   "cell_type": "code",
   "execution_count": 5,
   "metadata": {
    "collapsed": false
   },
   "outputs": [
    {
     "name": "stdout",
     "output_type": "stream",
     "text": [
      "Defining new FERC Form 1 DB based on 2015...\n",
      "Ingesting FERC Form 1 Data from 2015...\n"
     ]
    }
   ],
   "source": [
    "pudl.ferc1.init_db(refyear=2015, years=[2015,], ferc1_tables=pudl.constants.ferc1_default_tables)"
   ]
  },
  {
   "cell_type": "markdown",
   "metadata": {},
   "source": [
    "### Initializing the PUDL database\n",
    "We can also initialize the PUDL database now. Because we're messing around with it a lot, and playing with re-importing data over and over again, it's not a bad idea to destroy whatever old version of it exists in postgres (with `drop_tables_pudl`) and then re-create the tables anew (with `create_tables_pudl`).\n",
    "\n",
    "Then we can actualy initialize some of the data (mostly glue tables connecting plants to utilities, and a few lists of constants like the US States for now) using `pudl.init_db()`. Eventually we'll need to tell this where to pull data from... but since we're not really putting any meaningful data into it yet, the function takes no arguments."
   ]
  },
  {
   "cell_type": "code",
   "execution_count": 8,
   "metadata": {
    "collapsed": false
   },
   "outputs": [
    {
     "name": "stdout",
     "output_type": "stream",
     "text": [
      "Ingesting static PUDL tables...\n",
      "Sniffing EIA923/FERC1 glue tables...\n",
      "Ingesting f1_fuel from FERC Form 1 into PUDL.\n",
      "Ingesting f1_steam from FERC Form 1 into PUDL.\n",
      "Ingesting f1_plant_in_srvce from FERC Form 1 into PUDL.\n"
     ]
    }
   ],
   "source": [
    "pudl.pudl.drop_tables_pudl(pudl_engine)\n",
    "pudl.pudl.create_tables_pudl(pudl_engine)\n",
    "pudl.pudl.init_db()"
   ]
  },
  {
   "cell_type": "markdown",
   "metadata": {
    "collapsed": false
   },
   "source": [
    "### Pulling data out of the database!\n",
    "Now we're ready to pull some data out of one of the databases, just to show that it works. `pd.read_sql()` takes an SQL Query and a database connection, and puts the results of the query into a pandas DataFrame you can play with easily."
   ]
  },
  {
   "cell_type": "code",
   "execution_count": 9,
   "metadata": {
    "collapsed": true
   },
   "outputs": [],
   "source": [
    "ferc1_fuel = pd.read_sql('''SELECT respondent_id, report_year, plant_name, fuel, fuel_unit, fuel_quantity,\\\n",
    "                                fuel_avg_heat, fuel_cost_delvd, fuel_cost_burned, fuel_cost_btu, fuel_cost_kwh,\\\n",
    "                                fuel_generaton \\\n",
    "                                FROM f1_fuel WHERE plant_name <> '' AND fuel NOT IN ('Total','') ''',ferc1_engine)"
   ]
  },
  {
   "cell_type": "code",
   "execution_count": 10,
   "metadata": {
    "collapsed": true
   },
   "outputs": [],
   "source": [
    "ferc1_fuel_pudl = pd.read_sql('''SELECT respondent_id, report_year, plant_name, fuel, fuel_unit, fuel_qty_burned,\\\n",
    "                                fuel_avg_mmbtu_per_unit, fuel_cost_per_unit_delivered, fuel_cost_per_unit_burned, fuel_cost_per_mmbtu, fuel_cost_per_kwh,\\\n",
    "                                fuel_mmbtu_per_kwh \\\n",
    "                                FROM fuel_ferc1 WHERE plant_name <> '' AND fuel NOT IN ('Total','') ''',pudl_engine)"
   ]
  },
  {
   "cell_type": "markdown",
   "metadata": {},
   "source": [
    "### Examining the data we pulled.\n",
    "the `sample()` DataFrame method returns a random sample of records from the DataFrame, which is useful for seeing what kinds of things are in there, without always seeing just the first few records."
   ]
  },
  {
   "cell_type": "code",
   "execution_count": 11,
   "metadata": {
    "collapsed": false
   },
   "outputs": [
    {
     "data": {
      "text/html": [
       "<div>\n",
       "<table border=\"1\" class=\"dataframe\">\n",
       "  <thead>\n",
       "    <tr style=\"text-align: right;\">\n",
       "      <th></th>\n",
       "      <th>respondent_id</th>\n",
       "      <th>report_year</th>\n",
       "      <th>plant_name</th>\n",
       "      <th>fuel</th>\n",
       "      <th>fuel_unit</th>\n",
       "      <th>fuel_quantity</th>\n",
       "      <th>fuel_avg_heat</th>\n",
       "      <th>fuel_cost_delvd</th>\n",
       "      <th>fuel_cost_burned</th>\n",
       "      <th>fuel_cost_btu</th>\n",
       "      <th>fuel_cost_kwh</th>\n",
       "      <th>fuel_generaton</th>\n",
       "    </tr>\n",
       "  </thead>\n",
       "  <tbody>\n",
       "    <tr>\n",
       "      <th>382</th>\n",
       "      <td>166</td>\n",
       "      <td>2015</td>\n",
       "      <td>Plant X</td>\n",
       "      <td>Gas</td>\n",
       "      <td>Mcf</td>\n",
       "      <td>8625289.0</td>\n",
       "      <td>1041.0</td>\n",
       "      <td>3.180</td>\n",
       "      <td>3.190</td>\n",
       "      <td>3.060</td>\n",
       "      <td>0.000</td>\n",
       "      <td>0.0</td>\n",
       "    </tr>\n",
       "    <tr>\n",
       "      <th>62</th>\n",
       "      <td>7</td>\n",
       "      <td>2015</td>\n",
       "      <td>Saguaro 1</td>\n",
       "      <td>Gas</td>\n",
       "      <td>MCF</td>\n",
       "      <td>22044.0</td>\n",
       "      <td>1065324.0</td>\n",
       "      <td>2.008</td>\n",
       "      <td>3.724</td>\n",
       "      <td>3.496</td>\n",
       "      <td>0.097</td>\n",
       "      <td>0.0</td>\n",
       "    </tr>\n",
       "    <tr>\n",
       "      <th>1360</th>\n",
       "      <td>45</td>\n",
       "      <td>2015</td>\n",
       "      <td>Riverbend</td>\n",
       "      <td>Oil</td>\n",
       "      <td>Barrels</td>\n",
       "      <td>0.0</td>\n",
       "      <td>0.0</td>\n",
       "      <td>0.000</td>\n",
       "      <td>0.000</td>\n",
       "      <td>0.000</td>\n",
       "      <td>0.000</td>\n",
       "      <td>0.0</td>\n",
       "    </tr>\n",
       "    <tr>\n",
       "      <th>753</th>\n",
       "      <td>70</td>\n",
       "      <td>2015</td>\n",
       "      <td>Boardman</td>\n",
       "      <td>Oil</td>\n",
       "      <td>Barrels</td>\n",
       "      <td>1083.0</td>\n",
       "      <td>138800.0</td>\n",
       "      <td>76.795</td>\n",
       "      <td>105.956</td>\n",
       "      <td>18.182</td>\n",
       "      <td>0.000</td>\n",
       "      <td>0.0</td>\n",
       "    </tr>\n",
       "    <tr>\n",
       "      <th>985</th>\n",
       "      <td>87</td>\n",
       "      <td>2015</td>\n",
       "      <td>Little Gypsy</td>\n",
       "      <td>0</td>\n",
       "      <td>0</td>\n",
       "      <td>0.0</td>\n",
       "      <td>0.0</td>\n",
       "      <td>0.000</td>\n",
       "      <td>0.000</td>\n",
       "      <td>0.000</td>\n",
       "      <td>0.000</td>\n",
       "      <td>0.0</td>\n",
       "    </tr>\n",
       "  </tbody>\n",
       "</table>\n",
       "</div>"
      ],
      "text/plain": [
       "      respondent_id  report_year    plant_name fuel fuel_unit  fuel_quantity  \\\n",
       "382             166         2015       Plant X  Gas       Mcf      8625289.0   \n",
       "62                7         2015     Saguaro 1  Gas       MCF        22044.0   \n",
       "1360             45         2015     Riverbend  Oil   Barrels            0.0   \n",
       "753              70         2015      Boardman  Oil   Barrels         1083.0   \n",
       "985              87         2015  Little Gypsy    0         0            0.0   \n",
       "\n",
       "      fuel_avg_heat  fuel_cost_delvd  fuel_cost_burned  fuel_cost_btu  \\\n",
       "382          1041.0            3.180             3.190          3.060   \n",
       "62        1065324.0            2.008             3.724          3.496   \n",
       "1360            0.0            0.000             0.000          0.000   \n",
       "753        138800.0           76.795           105.956         18.182   \n",
       "985             0.0            0.000             0.000          0.000   \n",
       "\n",
       "      fuel_cost_kwh  fuel_generaton  \n",
       "382           0.000             0.0  \n",
       "62            0.097             0.0  \n",
       "1360          0.000             0.0  \n",
       "753           0.000             0.0  \n",
       "985           0.000             0.0  "
      ]
     },
     "execution_count": 11,
     "metadata": {},
     "output_type": "execute_result"
    }
   ],
   "source": [
    "ferc1_fuel.sample(5)"
   ]
  },
  {
   "cell_type": "code",
   "execution_count": 12,
   "metadata": {
    "collapsed": false
   },
   "outputs": [
    {
     "data": {
      "text/html": [
       "<div>\n",
       "<table border=\"1\" class=\"dataframe\">\n",
       "  <thead>\n",
       "    <tr style=\"text-align: right;\">\n",
       "      <th></th>\n",
       "      <th>respondent_id</th>\n",
       "      <th>report_year</th>\n",
       "      <th>plant_name</th>\n",
       "      <th>fuel</th>\n",
       "      <th>fuel_unit</th>\n",
       "      <th>fuel_qty_burned</th>\n",
       "      <th>fuel_avg_mmbtu_per_unit</th>\n",
       "      <th>fuel_cost_per_unit_delivered</th>\n",
       "      <th>fuel_cost_per_unit_burned</th>\n",
       "      <th>fuel_cost_per_mmbtu</th>\n",
       "      <th>fuel_cost_per_kwh</th>\n",
       "      <th>fuel_mmbtu_per_kwh</th>\n",
       "    </tr>\n",
       "  </thead>\n",
       "  <tbody>\n",
       "    <tr>\n",
       "      <th>576</th>\n",
       "      <td>159</td>\n",
       "      <td>2015</td>\n",
       "      <td>Hardeeville Peaking</td>\n",
       "      <td>oil</td>\n",
       "      <td>bbl</td>\n",
       "      <td>55.0</td>\n",
       "      <td>138142.0</td>\n",
       "      <td>0.000</td>\n",
       "      <td>118.667</td>\n",
       "      <td>20.453</td>\n",
       "      <td>1.085</td>\n",
       "      <td>0.000</td>\n",
       "    </tr>\n",
       "    <tr>\n",
       "      <th>945</th>\n",
       "      <td>51</td>\n",
       "      <td>2015</td>\n",
       "      <td>Energy Center</td>\n",
       "      <td>oil</td>\n",
       "      <td>bbl</td>\n",
       "      <td>6.0</td>\n",
       "      <td>132295.0</td>\n",
       "      <td>114.600</td>\n",
       "      <td>114.600</td>\n",
       "      <td>20.625</td>\n",
       "      <td>0.313</td>\n",
       "      <td>15182.283</td>\n",
       "    </tr>\n",
       "    <tr>\n",
       "      <th>83</th>\n",
       "      <td>88</td>\n",
       "      <td>2015</td>\n",
       "      <td>Paddy's Run CT</td>\n",
       "      <td>gas</td>\n",
       "      <td>mcf</td>\n",
       "      <td>1029359.0</td>\n",
       "      <td>1012.0</td>\n",
       "      <td>3.524</td>\n",
       "      <td>3.524</td>\n",
       "      <td>3.483</td>\n",
       "      <td>0.038</td>\n",
       "      <td>10899.000</td>\n",
       "    </tr>\n",
       "    <tr>\n",
       "      <th>574</th>\n",
       "      <td>159</td>\n",
       "      <td>2015</td>\n",
       "      <td>Hagood Combined</td>\n",
       "      <td>gas</td>\n",
       "      <td>mcf</td>\n",
       "      <td>280102.0</td>\n",
       "      <td>1031.0</td>\n",
       "      <td>3.863</td>\n",
       "      <td>3.863</td>\n",
       "      <td>3.748</td>\n",
       "      <td>0.045</td>\n",
       "      <td>0.000</td>\n",
       "    </tr>\n",
       "    <tr>\n",
       "      <th>174</th>\n",
       "      <td>210</td>\n",
       "      <td>2015</td>\n",
       "      <td>Walter Scott #2</td>\n",
       "      <td>gas</td>\n",
       "      <td>mcf</td>\n",
       "      <td>18205.0</td>\n",
       "      <td>1025048.0</td>\n",
       "      <td>6.285</td>\n",
       "      <td>6.285</td>\n",
       "      <td>6.131</td>\n",
       "      <td>0.000</td>\n",
       "      <td>0.000</td>\n",
       "    </tr>\n",
       "  </tbody>\n",
       "</table>\n",
       "</div>"
      ],
      "text/plain": [
       "     respondent_id  report_year           plant_name fuel fuel_unit  \\\n",
       "576            159         2015  Hardeeville Peaking  oil       bbl   \n",
       "945             51         2015        Energy Center  oil       bbl   \n",
       "83              88         2015       Paddy's Run CT  gas       mcf   \n",
       "574            159         2015      Hagood Combined  gas       mcf   \n",
       "174            210         2015      Walter Scott #2  gas       mcf   \n",
       "\n",
       "     fuel_qty_burned  fuel_avg_mmbtu_per_unit  fuel_cost_per_unit_delivered  \\\n",
       "576             55.0                 138142.0                         0.000   \n",
       "945              6.0                 132295.0                       114.600   \n",
       "83         1029359.0                   1012.0                         3.524   \n",
       "574         280102.0                   1031.0                         3.863   \n",
       "174          18205.0                1025048.0                         6.285   \n",
       "\n",
       "     fuel_cost_per_unit_burned  fuel_cost_per_mmbtu  fuel_cost_per_kwh  \\\n",
       "576                    118.667               20.453              1.085   \n",
       "945                    114.600               20.625              0.313   \n",
       "83                       3.524                3.483              0.038   \n",
       "574                      3.863                3.748              0.045   \n",
       "174                      6.285                6.131              0.000   \n",
       "\n",
       "     fuel_mmbtu_per_kwh  \n",
       "576               0.000  \n",
       "945           15182.283  \n",
       "83            10899.000  \n",
       "574               0.000  \n",
       "174               0.000  "
      ]
     },
     "execution_count": 12,
     "metadata": {},
     "output_type": "execute_result"
    }
   ],
   "source": [
    "ferc1_fuel_pudl.sample(5)"
   ]
  },
  {
   "cell_type": "code",
   "execution_count": null,
   "metadata": {
    "collapsed": true
   },
   "outputs": [],
   "source": []
  },
  {
   "cell_type": "code",
   "execution_count": null,
   "metadata": {
    "collapsed": true
   },
   "outputs": [],
   "source": []
  }
 ],
 "metadata": {
  "anaconda-cloud": {},
  "kernelspec": {
   "display_name": "Python 3",
   "language": "python",
   "name": "python3"
  },
  "language_info": {
   "codemirror_mode": {
    "name": "ipython",
    "version": 3
   },
   "file_extension": ".py",
   "mimetype": "text/x-python",
   "name": "python",
   "nbconvert_exporter": "python",
   "pygments_lexer": "ipython3",
   "version": "3.6.0"
  }
 },
 "nbformat": 4,
 "nbformat_minor": 1
}
